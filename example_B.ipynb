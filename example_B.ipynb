{
 "cells": [
  {
   "cell_type": "markdown",
   "id": "7f793d9d",
   "metadata": {},
   "source": [
    "# B. State purification with qubit-mediated measurement"
   ]
  },
  {
   "cell_type": "code",
   "execution_count": null,
   "id": "39fee84d",
   "metadata": {},
   "outputs": [],
   "source": [
    "# ruff: noqa\n",
    "from feedback_grape.fgrape_parameterized import optimize_pulse_with_feedback\n",
    "import jax.numpy as jnp"
   ]
  },
  {
   "cell_type": "markdown",
   "id": "95c2028a",
   "metadata": {},
   "source": [
    "## The cavity is initially in a  mixed state --> Goal is to purify the state\n",
    "\n",
    "We are trying to maximize the property determined by $tr (\\rho_{\\text{cav}}^2)$ which is the purity"
   ]
  },
  {
   "attachments": {
    "image.png": {
     "image/png": "[encoded data removed]"
    }
   },
   "cell_type": "markdown",
   "id": "3fabfed7",
   "metadata": {},
   "source": [
    "In the following, we consider an adaptive measurement\n",
    "scheme, demonstrated in a series of experiments on Rydberg atoms interacting\n",
    "with microwave cavities. In this scheme, the\n",
    "cavity is coupled to an ancilla qubit, which can then be\n",
    "read out to update our knowledge of the quantum state of\n",
    "the cavity.\n",
    "\n",
    "![image.png](attachment:image.png)"
   ]
  },
  {
   "cell_type": "code",
   "execution_count": 2,
   "id": "aa40b5b2",
   "metadata": {},
   "outputs": [],
   "source": [
    "# initial state is a thermal state\n",
    "n_average = 2\n",
    "N_cavity = 10\n",
    "# natural logarithm\n",
    "beta = jnp.log((1 / n_average) + 1)\n",
    "diags = jnp.exp(-beta * jnp.arange(N_cavity))\n",
    "normalized_diags = diags / jnp.sum(diags, axis=0)\n",
    "rho_cav = jnp.diag(normalized_diags)"
   ]
  },
  {
   "cell_type": "markdown",
   "id": "ef889609",
   "metadata": {},
   "source": [
    "### Now the thing is here, we don't need a rho_final because the purity or the reward that we want to maximize is $tr (\\rho_{\\text{cav}}^2)$.\n",
    "Unlike fidelity expressions which wants to find how close to states are"
   ]
  },
  {
   "cell_type": "markdown",
   "id": "7c755428",
   "metadata": {},
   "source": [
    "## Next Step is to construct our POVM"
   ]
  },
  {
   "cell_type": "code",
   "execution_count": null,
   "id": "9387e6a5",
   "metadata": {},
   "outputs": [],
   "source": [
    "from feedback_grape.utils.operators import create, destroy\n",
    "\n",
    "\n",
    "def povm_measure_operator(measurement_outcome, gamma, delta):\n",
    "    \"\"\"\n",
    "    POVM for the measurement of the cavity state.\n",
    "    returns Mm ( NOT the POVM element Em = Mm_dag @ Mm ), given measurement_outcome m, gamma and delta\n",
    "    \"\"\"\n",
    "    number_operator = create(N_cavity) @ destroy(N_cavity)\n",
    "    angle = (gamma * number_operator) + delta / 2\n",
    "    if measurement_outcome == -1:\n",
    "        return jnp.cos(angle)\n",
    "    else:\n",
    "        return jnp.sin(angle)"
   ]
  },
  {
   "cell_type": "code",
   "execution_count": null,
   "id": "b60945a8",
   "metadata": {},
   "outputs": [],
   "source": [
    "result = optimize_pulse_with_feedback(\n",
    "    U_0=rho_cav,\n",
    "    C_target=None,\n",
    "    parameterized_gates=[],\n",
    "    povm_measure_operator=povm_measure_operator,\n",
    "    initial_parameters=[jnp.array(0.5, 0.5)],\n",
    "    num_time_steps=5,\n",
    "    mode=\"nn\",\n",
    "    goal=\"purity\",\n",
    "    optimizer=\"adam\",\n",
    "    max_iter=1000,\n",
    "    convergence_threshold=1e-6,\n",
    "    learning_rate=0.1,\n",
    "    type=\"density\",\n",
    ")"
   ]
  }
 ],
 "metadata": {
  "kernelspec": {
   "display_name": "Python 3",
   "language": "python",
   "name": "python3"
  },
  "language_info": {
   "codemirror_mode": {
    "name": "ipython",
    "version": 3
   },
   "file_extension": ".py",
   "mimetype": "text/x-python",
   "name": "python",
   "nbconvert_exporter": "python",
   "pygments_lexer": "ipython3",
   "version": "3.11.11"
  }
 },
 "nbformat": 4,
 "nbformat_minor": 5
}

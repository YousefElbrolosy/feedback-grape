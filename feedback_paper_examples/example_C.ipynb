{
 "cells": [
  {
   "cell_type": "code",
   "execution_count": 1,
   "id": "edefb299",
   "metadata": {},
   "outputs": [],
   "source": [
    "# ruff: noqa\n",
    "import os\n",
    "\n",
    "os.sys.path.append(\"..\")\n",
    "from feedback_grape.fgrape import optimize_pulse_with_feedback\n",
    "from feedback_grape.utils.operators import (\n",
    "    sigmap,\n",
    "    sigmam,\n",
    "    create,\n",
    "    destroy,\n",
    "    identity,\n",
    "    cosm,\n",
    "    sinm,\n",
    ")\n",
    "from feedback_grape.utils.states import basis, fock\n",
    "from feedback_grape.utils.tensor import tensor\n",
    "import jax.numpy as jnp\n",
    "from jax.scipy.linalg import expm"
   ]
  },
  {
   "cell_type": "markdown",
   "id": "8ecde886",
   "metadata": {},
   "source": [
    "## defining parameterized operations that are repeated num_time_steps times"
   ]
  },
  {
   "cell_type": "code",
   "execution_count": 2,
   "id": "b9a9cb9b",
   "metadata": {},
   "outputs": [],
   "source": [
    "N_cav = 5"
   ]
  },
  {
   "cell_type": "code",
   "execution_count": 3,
   "id": "1d1d8650",
   "metadata": {},
   "outputs": [],
   "source": [
    "def qubit_unitary(alpha):\n",
    "    \"\"\"\n",
    "    TODO: see if alpha, can be sth elser other than scalar, and if the algo understands this\n",
    "    see if there can be multiple params like alpha and beta input\n",
    "    \"\"\"\n",
    "    return expm(\n",
    "        -1j\n",
    "        * (\n",
    "            alpha * tensor(identity(N_cav), sigmap())\n",
    "            + alpha.conjugate() * tensor(identity(N_cav), sigmam())\n",
    "        )\n",
    "        / 2\n",
    "    )"
   ]
  },
  {
   "cell_type": "code",
   "execution_count": 4,
   "id": "04f55cc7",
   "metadata": {},
   "outputs": [],
   "source": [
    "def qubit_cavity_unitary(beta):\n",
    "    return expm(\n",
    "        -1j\n",
    "        * (\n",
    "            beta\n",
    "            * (\n",
    "                tensor(destroy(N_cav), identity(2))\n",
    "                @ tensor(identity(N_cav), sigmap())\n",
    "            )\n",
    "            + beta.conjugate()\n",
    "            * (\n",
    "                tensor(create(N_cav), identity(2))\n",
    "                @ tensor(identity(N_cav), sigmam())\n",
    "            )\n",
    "        )\n",
    "        / 2\n",
    "    )"
   ]
  },
  {
   "cell_type": "code",
   "execution_count": 5,
   "id": "98b6f96a",
   "metadata": {},
   "outputs": [
    {
     "name": "stdout",
     "output_type": "stream",
     "text": [
      "Uq unitary check: True\n",
      "Uqc unitary check: True\n"
     ]
    }
   ],
   "source": [
    "alpha = 0.1 + 0.1j\n",
    "beta = 0.1 + 0.1j\n",
    "Uq = qubit_unitary(alpha)\n",
    "Uqc = qubit_cavity_unitary(beta)\n",
    "print(\n",
    "    \"Uq unitary check:\",\n",
    "    jnp.allclose(Uq.conj().T @ Uq, jnp.eye(Uq.shape[0]), atol=1e-7),\n",
    ")\n",
    "print(\n",
    "    \"Uqc unitary check:\",\n",
    "    jnp.allclose(Uqc.conj().T @ Uqc, jnp.eye(Uqc.shape[0]), atol=1e-7),\n",
    ")"
   ]
  },
  {
   "cell_type": "code",
   "execution_count": 6,
   "id": "dadf0eae",
   "metadata": {},
   "outputs": [
    {
     "data": {
      "text/plain": [
       "Array([[0.99875026+0.j        , 0.        -0.04997917j,\n",
       "        0.        +0.j        , 0.        +0.j        ,\n",
       "        0.        +0.j        , 0.        +0.j        ,\n",
       "        0.        +0.j        , 0.        +0.j        ,\n",
       "        0.        +0.j        , 0.        +0.j        ],\n",
       "       [0.        -0.04997917j, 0.99875026+0.j        ,\n",
       "        0.        +0.j        , 0.        +0.j        ,\n",
       "        0.        +0.j        , 0.        +0.j        ,\n",
       "        0.        +0.j        , 0.        +0.j        ,\n",
       "        0.        +0.j        , 0.        +0.j        ],\n",
       "       [0.        +0.j        , 0.        +0.j        ,\n",
       "        0.99875026+0.j        , 0.        -0.04997917j,\n",
       "        0.        +0.j        , 0.        +0.j        ,\n",
       "        0.        +0.j        , 0.        +0.j        ,\n",
       "        0.        +0.j        , 0.        +0.j        ],\n",
       "       [0.        +0.j        , 0.        +0.j        ,\n",
       "        0.        -0.04997917j, 0.99875026+0.j        ,\n",
       "        0.        +0.j        , 0.        +0.j        ,\n",
       "        0.        +0.j        , 0.        +0.j        ,\n",
       "        0.        +0.j        , 0.        +0.j        ],\n",
       "       [0.        +0.j        , 0.        +0.j        ,\n",
       "        0.        +0.j        , 0.        +0.j        ,\n",
       "        0.99875026+0.j        , 0.        -0.04997917j,\n",
       "        0.        +0.j        , 0.        +0.j        ,\n",
       "        0.        +0.j        , 0.        +0.j        ],\n",
       "       [0.        +0.j        , 0.        +0.j        ,\n",
       "        0.        +0.j        , 0.        +0.j        ,\n",
       "        0.        -0.04997917j, 0.99875026+0.j        ,\n",
       "        0.        +0.j        , 0.        +0.j        ,\n",
       "        0.        +0.j        , 0.        +0.j        ],\n",
       "       [0.        +0.j        , 0.        +0.j        ,\n",
       "        0.        +0.j        , 0.        +0.j        ,\n",
       "        0.        +0.j        , 0.        +0.j        ,\n",
       "        0.99875026+0.j        , 0.        -0.04997917j,\n",
       "        0.        +0.j        , 0.        +0.j        ],\n",
       "       [0.        +0.j        , 0.        +0.j        ,\n",
       "        0.        +0.j        , 0.        +0.j        ,\n",
       "        0.        +0.j        , 0.        +0.j        ,\n",
       "        0.        -0.04997917j, 0.99875026+0.j        ,\n",
       "        0.        +0.j        , 0.        +0.j        ],\n",
       "       [0.        +0.j        , 0.        +0.j        ,\n",
       "        0.        +0.j        , 0.        +0.j        ,\n",
       "        0.        +0.j        , 0.        +0.j        ,\n",
       "        0.        +0.j        , 0.        +0.j        ,\n",
       "        0.99875026+0.j        , 0.        -0.04997917j],\n",
       "       [0.        +0.j        , 0.        +0.j        ,\n",
       "        0.        +0.j        , 0.        +0.j        ,\n",
       "        0.        +0.j        , 0.        +0.j        ,\n",
       "        0.        +0.j        , 0.        +0.j        ,\n",
       "        0.        -0.04997917j, 0.99875026+0.j        ]],      dtype=complex128)"
      ]
     },
     "execution_count": 6,
     "metadata": {},
     "output_type": "execute_result"
    }
   ],
   "source": [
    "qubit_unitary(0.1)"
   ]
  },
  {
   "cell_type": "code",
   "execution_count": 7,
   "id": "b21389c6",
   "metadata": {},
   "outputs": [],
   "source": [
    "from feedback_grape.utils.operators import create, destroy\n",
    "\n",
    "\n",
    "def povm_measure_operator(measurement_outcome, gamma, delta):\n",
    "    \"\"\"\n",
    "    POVM for the measurement of the cavity state.\n",
    "    returns Mm ( NOT the POVM element Em = Mm_dag @ Mm ), given measurement_outcome m, gamma and delta\n",
    "    \"\"\"\n",
    "    number_operator = tensor(create(N_cav) @ destroy(N_cav), identity(2))\n",
    "    angle = (gamma * number_operator) + delta / 2\n",
    "    meas_op = jnp.where(\n",
    "        measurement_outcome == 1,\n",
    "        cosm(angle),\n",
    "        sinm(angle),\n",
    "    )\n",
    "    return meas_op"
   ]
  },
  {
   "cell_type": "markdown",
   "id": "d13bbcb6",
   "metadata": {},
   "source": [
    "### defining initial (thermal) state"
   ]
  },
  {
   "cell_type": "code",
   "execution_count": 8,
   "id": "4b80af46",
   "metadata": {},
   "outputs": [],
   "source": [
    "# initial state is a thermal state coupled to a qubit in the ground state?\n",
    "n_average = 1\n",
    "# natural logarithm\n",
    "beta = jnp.log((1 / n_average) + 1)\n",
    "diags = jnp.exp(-beta * jnp.arange(N_cav))\n",
    "normalized_diags = diags / jnp.sum(diags, axis=0)\n",
    "rho_cav = jnp.diag(normalized_diags)"
   ]
  },
  {
   "cell_type": "code",
   "execution_count": 9,
   "id": "c025c141",
   "metadata": {},
   "outputs": [
    {
     "data": {
      "text/plain": [
       "(5, 5)"
      ]
     },
     "execution_count": 9,
     "metadata": {},
     "output_type": "execute_result"
    }
   ],
   "source": [
    "rho_cav.shape"
   ]
  },
  {
   "cell_type": "code",
   "execution_count": 10,
   "id": "0b1f2052",
   "metadata": {},
   "outputs": [],
   "source": [
    "rho0 = tensor(rho_cav, basis(2, 0) @ basis(2, 0).conj().T)"
   ]
  },
  {
   "cell_type": "code",
   "execution_count": 11,
   "id": "237bb0b9",
   "metadata": {},
   "outputs": [
    {
     "data": {
      "text/plain": [
       "Array(0.88500904, dtype=float64)"
      ]
     },
     "execution_count": 11,
     "metadata": {},
     "output_type": "execute_result"
    }
   ],
   "source": [
    "from feedback_grape.utils.povm import (\n",
    "    _probability_of_a_measurement_outcome_given_a_certain_state,\n",
    ")\n",
    "\n",
    "_probability_of_a_measurement_outcome_given_a_certain_state(\n",
    "    rho0, 1, povm_measure_operator, [0.1, -3 * jnp.pi / 2]\n",
    ")"
   ]
  },
  {
   "cell_type": "markdown",
   "id": "43a8ce4c",
   "metadata": {},
   "source": [
    "### defining target state"
   ]
  },
  {
   "cell_type": "code",
   "execution_count": 12,
   "id": "0b8272be",
   "metadata": {},
   "outputs": [
    {
     "data": {
      "text/plain": [
       "(10, 10)"
      ]
     },
     "execution_count": 12,
     "metadata": {},
     "output_type": "execute_result"
    }
   ],
   "source": [
    "psi_target = tensor(\n",
    "    (fock(N_cav, 1) + fock(N_cav, 2) + fock(N_cav, 3)) / jnp.sqrt(3), basis(2)\n",
    ")\n",
    "\n",
    "rho_target = psi_target @ psi_target.conj().T\n",
    "rho_target.shape"
   ]
  },
  {
   "cell_type": "code",
   "execution_count": 13,
   "id": "882b04b4",
   "metadata": {},
   "outputs": [
    {
     "name": "stdout",
     "output_type": "stream",
     "text": [
      "0.38799179683158536\n"
     ]
    }
   ],
   "source": [
    "from feedback_grape.utils.fidelity import fidelity\n",
    "\n",
    "print(fidelity(U_final=rho0, C_target=rho_target, type=\"density\"))"
   ]
  },
  {
   "cell_type": "markdown",
   "id": "cd6f7f95",
   "metadata": {},
   "source": [
    "### initialize random params"
   ]
  },
  {
   "cell_type": "code",
   "execution_count": 14,
   "id": "fca21f29",
   "metadata": {},
   "outputs": [],
   "source": [
    "num_time_steps = 5\n",
    "num_of_iterations = 1000\n",
    "learning_rate = 0.05\n",
    "# avg_photon_numer = 2 When testing kitten state\n",
    "\n",
    "\n",
    "initial_params = {\n",
    "    \"POVM\": [jnp.pi / 3, jnp.pi / 3],\n",
    "    \"U_q\": [jnp.pi / 3],\n",
    "    \"U_qc\": [jnp.pi / 3],\n",
    "}\n",
    "\n",
    "\n",
    "result = optimize_pulse_with_feedback(\n",
    "    U_0=rho0,\n",
    "    C_target=rho_target,\n",
    "    parameterized_gates=[\n",
    "        povm_measure_operator,\n",
    "        qubit_unitary,\n",
    "        qubit_cavity_unitary,\n",
    "    ],\n",
    "    measurement_indices=[0],\n",
    "    initial_params=initial_params,\n",
    "    num_time_steps=num_time_steps,\n",
    "    mode=\"nn\",\n",
    "    goal=\"fidelity\",\n",
    "    optimizer=\"adam\",\n",
    "    max_iter=num_of_iterations,\n",
    "    convergence_threshold=1e-20,\n",
    "    learning_rate=learning_rate,\n",
    "    type=\"density\",\n",
    ")"
   ]
  },
  {
   "cell_type": "code",
   "execution_count": 15,
   "id": "1cc4d0a4",
   "metadata": {},
   "outputs": [
    {
     "data": {
      "text/plain": [
       "FgResult(optimized_rnn_parameters={'params': {'Dense_0': {'bias': Array([ 0.02771559, -0.49189436, -1.81573   ,  0.3812089 ], dtype=float32), 'kernel': Array([[-1.0976788e-01, -7.7458054e-02, -9.3706298e-01,  1.4884876e-01],\n",
       "       [-6.5256543e-02,  2.0702858e-03, -2.4936430e-01, -8.5855246e-02],\n",
       "       [-4.8830986e-02,  4.4589704e-01,  1.5006727e+00, -5.0055027e-01],\n",
       "       [ 1.2396017e-01, -2.8770423e-01, -6.6032702e-01, -4.0510915e-02],\n",
       "       [-2.6549427e-02, -3.3846080e-01, -1.3863666e+00,  5.4272580e-01],\n",
       "       [-5.8609508e-02, -6.8443471e-01, -2.6667688e+00,  5.5524325e-01],\n",
       "       [ 1.6046347e-01, -9.0422285e-01, -3.1970594e+00,  4.4087210e-01],\n",
       "       [-1.6513821e-01,  1.6094427e-01,  7.5462973e-01, -1.0437345e-01],\n",
       "       [ 2.9712731e-02, -1.9095949e-03, -5.6112617e-01, -1.4044682e+00],\n",
       "       [-2.1020910e-02,  1.9527046e-02, -2.6702529e-01, -1.8594984e-02],\n",
       "       [ 6.5679304e-02, -7.7430211e-02, -2.2474906e-01,  1.3933791e-01],\n",
       "       [-9.8776666e-04, -3.3451527e-02, -7.3468161e-01,  1.0405464e-01],\n",
       "       [ 6.8466581e-02, -2.6734771e-02,  1.1761988e+00, -3.6727503e-01],\n",
       "       [-9.9481316e-04,  1.0134546e-01, -1.1475349e-01, -9.4578475e-01],\n",
       "       [ 3.0793695e-02,  7.0791268e-03,  2.8904042e-01, -1.0180168e-01],\n",
       "       [-4.3994024e-02,  4.7124006e-02, -2.7409506e-01,  1.3610418e-01],\n",
       "       [ 2.9192257e-01,  3.7927471e-02,  7.1929264e-01, -6.8289196e-01],\n",
       "       [ 1.6954411e-02,  2.8704295e-02,  1.5034816e-01,  4.3374546e-02],\n",
       "       [ 4.4966601e-02,  1.1028344e-01, -2.5453952e-01, -1.3546650e-01],\n",
       "       [ 1.2910980e-02,  5.8309134e-02, -3.9786822e-01,  1.2302270e+00],\n",
       "       [ 3.6839873e-02, -3.3381474e-01, -6.9184762e-01,  7.9316550e-01],\n",
       "       [ 1.2030034e-02,  2.0302629e-02,  8.0502915e-01,  8.4309971e-01],\n",
       "       [ 4.2637214e-02, -7.5312048e-02,  2.2665801e-02,  7.7602398e-03],\n",
       "       [-7.0085153e-02,  5.1171172e-02,  6.7096519e-01, -9.7934693e-02],\n",
       "       [-5.2765559e-02,  4.4822387e-02, -2.5683506e+00, -1.3032638e+00],\n",
       "       [ 1.7299121e-02,  8.6526290e-02,  3.6988914e-01, -2.4031654e-02],\n",
       "       [-8.9565322e-02,  3.3101836e-01,  3.2751113e-01, -1.8903783e-01],\n",
       "       [-3.4737743e-02,  1.6660507e-01, -2.6941308e-01,  2.1686064e-01],\n",
       "       [ 2.7118137e-02, -2.7393531e-02, -8.1854016e-01,  1.9423304e+00],\n",
       "       [ 7.1984306e-02, -3.6132433e-02, -2.9893288e-01, -7.5000651e-02],\n",
       "       [ 2.1089651e-01, -6.5507656e-01, -3.2902069e+00, -2.4841315e-01],\n",
       "       [ 6.1594728e-02, -2.1873535e-01, -4.4035223e-01,  1.0653825e-01]],      dtype=float32)}, 'GRUCell_0': {'candidate_gate': {'bias': Array([ 0.01017773,  0.01654842, -0.17440042, -0.1442914 ,  0.46584842,\n",
       "        0.71885353,  0.63425785, -0.05497596, -0.71061015,  0.10452589,\n",
       "        0.10726243,  0.08359455,  0.06604578,  0.15780051,  0.1960286 ,\n",
       "        0.05348855, -0.26401347, -0.04347316, -0.19891477,  0.02807248,\n",
       "        0.3457712 ,  0.78846097,  0.13679431, -0.21110868, -0.1295316 ,\n",
       "       -0.16365658, -0.09634162,  0.52564657, -0.4602103 ,  0.29756227,\n",
       "       -0.02679454,  0.13999155], dtype=float32), 'kernel': Array([[ 0.22853737, -0.01410242, -0.06125828, ..., -0.07761508,\n",
       "         0.00192247,  0.05378111],\n",
       "       [-0.35338703,  0.42133692, -0.26351753, ...,  0.6584347 ,\n",
       "         0.00423918,  0.4182708 ],\n",
       "       [ 0.13108414, -0.35953733,  0.18163997, ..., -0.13267021,\n",
       "         0.1261149 , -0.19869073],\n",
       "       ...,\n",
       "       [-0.05582647, -0.28807583, -0.14466417, ..., -0.38583422,\n",
       "        -0.01691933, -0.11478782],\n",
       "       [-0.7014367 , -0.24032336, -0.40867335, ..., -0.0911858 ,\n",
       "        -0.27092615, -0.3616626 ],\n",
       "       [-0.5801945 ,  0.38961342, -0.08557591, ..., -0.16258419,\n",
       "        -0.2704799 , -0.25750878]], dtype=float32)}, 'reset_gate': {'bias': Array([-0.25192854, -0.22952981,  0.05634123, -0.7945595 , -0.51690614,\n",
       "        0.8788951 , -0.26990417,  0.02118314,  1.5639615 , -0.22275682,\n",
       "       -0.4538525 , -0.5112826 , -0.58926225, -0.7143251 , -0.51609087,\n",
       "        0.49980086,  0.78770804, -0.13737398, -0.4008861 , -0.0628648 ,\n",
       "       -0.7252575 , -0.7348188 , -0.68349844, -0.61916876,  1.7291887 ,\n",
       "       -0.01568263, -0.63069665, -0.72086513, -1.2123758 , -0.94228697,\n",
       "       -0.8316929 , -0.01789328], dtype=float32), 'kernel': Array([[-2.59695113e-01,  1.13950381e-02,  1.29231542e-01, ...,\n",
       "        -8.35663319e-01, -1.08571494e+00,  1.02344021e-01],\n",
       "       [-5.00341773e-01,  2.70810327e-04, -5.76915205e-01, ...,\n",
       "        -5.51700532e-01, -6.88436389e-01,  8.79661441e-02],\n",
       "       [-5.10150015e-01,  6.86016083e-02, -6.67362154e-01, ...,\n",
       "        -9.56634939e-01, -7.37396657e-01, -2.76524246e-01],\n",
       "       ...,\n",
       "       [-1.68800294e-01, -1.56653374e-01,  8.11583221e-01, ...,\n",
       "         9.51116741e-01,  2.66496450e-01, -2.40218956e-02],\n",
       "       [-6.45695090e-01,  4.37198341e-01,  9.16220486e-01, ...,\n",
       "        -6.07604027e-01, -1.56774914e+00,  8.00204813e-01],\n",
       "       [-1.17638655e-01,  3.60681027e-01,  1.06036209e-01, ...,\n",
       "        -2.94861794e-01, -3.40020001e-01, -1.95340589e-01]],      dtype=float32)}, 'update_gate': {'bias': Array([ 2.1495094 ,  2.2647402 ,  1.7264369 ,  2.2150202 ,  1.7896466 ,\n",
       "        0.5470999 ,  1.7186702 ,  1.4560132 , -2.2039852 ,  1.8190719 ,\n",
       "        1.4698519 ,  1.8806447 ,  1.56945   ,  2.4653332 ,  1.9744983 ,\n",
       "        1.6764356 ,  1.4926642 ,  1.7436976 ,  2.0414433 ,  1.996732  ,\n",
       "        1.8815953 ,  0.86797047,  1.9614203 ,  2.0699158 , -0.24201557,\n",
       "        1.539207  ,  1.8873984 ,  1.5838249 , -2.365519  ,  2.1419759 ,\n",
       "        2.0251758 ,  1.4188715 ], dtype=float32), 'kernel': Array([[ 1.8155423 ,  2.0196445 ,  1.6150297 , ...,  1.9190189 ,\n",
       "         2.2342212 ,  1.4911876 ],\n",
       "       [ 0.80178636,  0.9158777 ,  1.1551353 , ...,  0.55053985,\n",
       "         0.49853274,  0.4608614 ],\n",
       "       [ 0.8869637 ,  0.99163693,  0.8286021 , ...,  0.28467187,\n",
       "         0.6201282 ,  0.06124113],\n",
       "       ...,\n",
       "       [-0.5670875 , -0.11892159, -1.207719  , ..., -0.09158356,\n",
       "        -0.94021213, -1.0394758 ],\n",
       "       [ 0.94629765,  1.3746766 , -0.21960038, ...,  1.270056  ,\n",
       "        -0.03488686,  1.3335541 ],\n",
       "       [ 1.644684  ,  0.7822066 ,  1.2662263 , ...,  0.5712216 ,\n",
       "         1.1100826 ,  1.0033047 ]], dtype=float32)}}}}, iterations=1000, final_state=Array([[ 2.65134222e-02-7.37257477e-18j, -4.89536643e-03-1.63848049e-03j,\n",
       "        -1.26561448e-02+1.43666304e-03j, -9.90601044e-04+4.00728431e-03j,\n",
       "        -7.72473765e-03+9.61171480e-03j, -7.04400504e-03-3.00791671e-03j,\n",
       "        -1.74666845e-02+1.85977654e-02j,  5.78819893e-03+2.07548373e-03j,\n",
       "         3.72024785e-03-7.79063154e-03j,  3.00623156e-03+1.44166741e-02j],\n",
       "       [-4.89536643e-03+1.63848049e-03j,  1.96500040e-02-5.20417043e-18j,\n",
       "         5.39494397e-02-1.90490880e-02j,  3.02011082e-03-1.78840005e-02j,\n",
       "         4.37626851e-02+8.59241716e-03j,  1.49634635e-02+4.79223987e-03j,\n",
       "         3.66707486e-02+6.95072721e-03j, -5.69625175e-03-8.31077676e-04j,\n",
       "         1.36791170e-02+2.44272261e-03j, -1.13207320e-02-8.86344342e-03j],\n",
       "       [-1.26561448e-02-1.43666304e-03j,  5.39494397e-02+1.90490880e-02j,\n",
       "         3.22066830e-01+1.73472348e-17j,  4.17806273e-02-5.77493477e-02j,\n",
       "         2.45571828e-01+2.33692716e-02j,  3.94592348e-02+1.86546152e-02j,\n",
       "         1.73603913e-01+1.55483319e-02j, -3.31272969e-02+2.20753215e-02j,\n",
       "         6.28778911e-02-3.43992682e-03j, -2.28567057e-02-1.22782256e-02j],\n",
       "       [-9.90601044e-04-4.00728431e-03j,  3.02011082e-03+1.78840005e-02j,\n",
       "         4.17806273e-02+5.77493477e-02j,  2.88781209e-02+2.27682456e-18j,\n",
       "         2.51306115e-02+4.73190715e-02j,  1.62777069e-03+2.04312537e-02j,\n",
       "         2.23130123e-02+2.60753405e-02j,  1.25049139e-03-1.16344651e-02j,\n",
       "         1.74519154e-02+3.85687759e-03j,  1.21693827e-04-1.83266539e-02j],\n",
       "       [-7.72473765e-03-9.61171480e-03j,  4.37626851e-02-8.59241716e-03j,\n",
       "         2.45571828e-01-2.33692716e-02j,  2.51306115e-02-4.73190715e-02j,\n",
       "         2.75735212e-01-1.21430643e-17j,  3.48194089e-02+5.96403023e-03j,\n",
       "         2.14754043e-01-2.35317948e-02j, -4.55402437e-02+8.17987422e-03j,\n",
       "         6.09509638e-02-2.67612135e-02j, -3.13003306e-02-1.73586898e-03j],\n",
       "       [-7.04400504e-03+3.00791671e-03j,  1.49634635e-02-4.79223987e-03j,\n",
       "         3.94592348e-02-1.86546152e-02j,  1.62777069e-03-2.04312537e-02j,\n",
       "         3.48194089e-02-5.96403023e-03j,  2.17048681e-02+3.46944695e-18j,\n",
       "         2.35373099e-02-1.36869332e-02j, -7.69211648e-03-5.43340922e-03j,\n",
       "         1.24246083e-02-1.04589740e-02j, -2.11667608e-02-5.67396902e-03j],\n",
       "       [-1.74666845e-02-1.85977654e-02j,  3.66707486e-02-6.95072721e-03j,\n",
       "         1.73603913e-01-1.55483319e-02j,  2.23130123e-02-2.60753405e-02j,\n",
       "         2.14754043e-01+2.35317948e-02j,  2.35373099e-02+1.36869332e-02j,\n",
       "         1.98792061e-01-1.21430643e-17j, -2.40837738e-02-3.37526285e-03j,\n",
       "         5.68269827e-02-8.47472768e-03j, -1.41654961e-02-2.06103145e-02j],\n",
       "       [ 5.78819893e-03-2.07548373e-03j, -5.69625175e-03+8.31077676e-04j,\n",
       "        -3.31272969e-02-2.20753215e-02j,  1.25049139e-03+1.16344651e-02j,\n",
       "        -4.55402437e-02-8.17987422e-03j, -7.69211648e-03+5.43340922e-03j,\n",
       "        -2.40837738e-02+3.37526285e-03j,  2.74870520e-02-6.07153217e-18j,\n",
       "         8.05320306e-03+2.02595513e-03j,  1.30569114e-02-8.73919098e-03j],\n",
       "       [ 3.72024785e-03+7.79063154e-03j,  1.36791170e-02-2.44272261e-03j,\n",
       "         6.28778911e-02+3.43992682e-03j,  1.74519154e-02-3.85687759e-03j,\n",
       "         6.09509638e-02+2.67612135e-02j,  1.24246083e-02+1.04589740e-02j,\n",
       "         5.68269827e-02+8.47472768e-03j,  8.05320306e-03-2.02595513e-03j,\n",
       "         4.86133179e-02-1.73472348e-17j, -1.32566825e-02-1.49652324e-02j],\n",
       "       [ 3.00623156e-03-1.44166741e-02j, -1.13207320e-02+8.86344342e-03j,\n",
       "        -2.28567057e-02+1.22782256e-02j,  1.21693827e-04+1.83266539e-02j,\n",
       "        -3.13003306e-02+1.73586898e-03j, -2.11667608e-02+5.67396902e-03j,\n",
       "        -1.41654961e-02+2.06103145e-02j,  1.30569114e-02+8.73919098e-03j,\n",
       "        -1.32566825e-02+1.49652324e-02j,  3.05591119e-02+3.46944695e-18j]],      dtype=complex128), returned_params=[[[1.0471975511965976, 1.0471975511965976], [-1.2229640532991137], [0.6151585880515954]], [[-0.024289291206994038, -0.6440354417453446], [-4.089295561711708], [-3.4806313321334637]], [[-0.013922656792942668, -0.6148537856141241], [-2.1589362679862694], [5.701089808082883]], [[0.005732897557062553, -1.2619697565120993], [-2.593455437663295], [-1.8275039932673778]], [[0.0061215087519055425, -1.2635977622136008], [-16.762708619532702], [-3.434126940865267]]], final_purity=None, final_fidelity=Array(0.82954881, dtype=float64))"
      ]
     },
     "execution_count": 15,
     "metadata": {},
     "output_type": "execute_result"
    }
   ],
   "source": [
    "result"
   ]
  },
  {
   "cell_type": "code",
   "execution_count": 16,
   "id": "538ba2b6",
   "metadata": {},
   "outputs": [
    {
     "name": "stdout",
     "output_type": "stream",
     "text": [
      "None\n"
     ]
    }
   ],
   "source": [
    "print(result.final_purity)"
   ]
  },
  {
   "cell_type": "code",
   "execution_count": 17,
   "id": "c19912da",
   "metadata": {},
   "outputs": [
    {
     "name": "stdout",
     "output_type": "stream",
     "text": [
      "0.8295488076257779\n"
     ]
    }
   ],
   "source": [
    "print(result.final_fidelity)"
   ]
  },
  {
   "cell_type": "code",
   "execution_count": 18,
   "id": "7ba69f49",
   "metadata": {},
   "outputs": [
    {
     "data": {
      "text/plain": [
       "[[[1.0471975511965976, 1.0471975511965976],\n",
       "  [-1.2229640532991137],\n",
       "  [0.6151585880515954]],\n",
       " [[-0.024289291206994038, -0.6440354417453446],\n",
       "  [-4.089295561711708],\n",
       "  [-3.4806313321334637]],\n",
       " [[-0.013922656792942668, -0.6148537856141241],\n",
       "  [-2.1589362679862694],\n",
       "  [5.701089808082883]],\n",
       " [[0.005732897557062553, -1.2619697565120993],\n",
       "  [-2.593455437663295],\n",
       "  [-1.8275039932673778]],\n",
       " [[0.0061215087519055425, -1.2635977622136008],\n",
       "  [-16.762708619532702],\n",
       "  [-3.434126940865267]]]"
      ]
     },
     "execution_count": 18,
     "metadata": {},
     "output_type": "execute_result"
    }
   ],
   "source": [
    "result.returned_params"
   ]
  },
  {
   "cell_type": "code",
   "execution_count": 19,
   "id": "a88e06c0",
   "metadata": {},
   "outputs": [
    {
     "name": "stdout",
     "output_type": "stream",
     "text": [
      "initial purity: 0.38799179683158536\n",
      "fid of rho after time step 0 0.2186172080988973\n",
      "fid of rho after time step 1 0.2683401573986584\n",
      "fid of rho after time step 2 0.29652832294256204\n",
      "fid of rho after time step 3 0.24366721081050896\n",
      "fid of rho after time step 4 0.8295488076257779\n"
     ]
    }
   ],
   "source": [
    "from feedback_grape.utils.povm import povm\n",
    "from feedback_grape.fgrape import apply_gate\n",
    "from feedback_grape.utils.purity import purity\n",
    "\n",
    "time_steps = 5\n",
    "\n",
    "rho = rho0\n",
    "print(\n",
    "    \"initial purity:\",\n",
    "    fidelity(U_final=rho, C_target=rho_target, type=\"density\"),\n",
    ")\n",
    "for i in range(time_steps):\n",
    "    params = result.returned_params[i]\n",
    "    rho, _, _ = povm(rho, povm_measure_operator, params[0])\n",
    "    rho = apply_gate(\n",
    "        rho,\n",
    "        qubit_unitary,\n",
    "        params[1],\n",
    "        type=\"density\",\n",
    "    )\n",
    "    rho = apply_gate(\n",
    "        rho,\n",
    "        qubit_cavity_unitary,\n",
    "        params[2],\n",
    "        type=\"density\",\n",
    "    )\n",
    "    print(\n",
    "        f\"fid of rho after time step {i}\",\n",
    "        fidelity(U_final=rho, C_target=rho_target, type=\"density\"),\n",
    "    )\n",
    "final_rho_cav = rho"
   ]
  },
  {
   "cell_type": "code",
   "execution_count": 20,
   "id": "050dc029",
   "metadata": {},
   "outputs": [
    {
     "name": "stdout",
     "output_type": "stream",
     "text": [
      "1000\n"
     ]
    }
   ],
   "source": [
    "print(result.iterations)"
   ]
  },
  {
   "cell_type": "code",
   "execution_count": 21,
   "id": "cb6e56d7",
   "metadata": {},
   "outputs": [
    {
     "name": "stdout",
     "output_type": "stream",
     "text": [
      "[[-0.024289291206994038, -0.6440354417453446], [-4.089295561711708], [-3.4806313321334637]]\n"
     ]
    }
   ],
   "source": [
    "print(result.returned_params[1])"
   ]
  },
  {
   "cell_type": "code",
   "execution_count": 22,
   "id": "72844e32",
   "metadata": {},
   "outputs": [
    {
     "data": {
      "text/plain": [
       "[Array([[1.31462179, 0.67951221, 3.03264681, 1.80484666],\n",
       "        [1.67203883, 1.11496751, 2.77405451, 1.98724708]], dtype=float64)]"
      ]
     },
     "execution_count": 22,
     "metadata": {},
     "output_type": "execute_result"
    }
   ],
   "source": [
    "import jax\n",
    "\n",
    "F = []\n",
    "F_1_0 = jnp.array([jnp.pi / 2, 0])\n",
    "key = jax.random.PRNGKey(0)\n",
    "appo = jax.random.uniform(key, shape=(2**1, 4)) * jnp.pi\n",
    "F.append(appo)\n",
    "F"
   ]
  },
  {
   "cell_type": "code",
   "execution_count": 23,
   "id": "97d5e8f9",
   "metadata": {},
   "outputs": [],
   "source": [
    "variables = [F] + [F_1_0]"
   ]
  },
  {
   "cell_type": "code",
   "execution_count": 24,
   "id": "313caaee",
   "metadata": {},
   "outputs": [
    {
     "data": {
      "text/plain": [
       "[[Array([[1.31462179, 0.67951221, 3.03264681, 1.80484666],\n",
       "         [1.67203883, 1.11496751, 2.77405451, 1.98724708]], dtype=float64)],\n",
       " Array([1.57079633, 0.        ], dtype=float64)]"
      ]
     },
     "execution_count": 24,
     "metadata": {},
     "output_type": "execute_result"
    }
   ],
   "source": [
    "variables"
   ]
  },
  {
   "cell_type": "code",
   "execution_count": 25,
   "id": "5459d5f9",
   "metadata": {},
   "outputs": [],
   "source": [
    "def prepare_parameters_from_dict(params_dict):\n",
    "    \"\"\"\n",
    "    Convert a nested dictionary of parameters to a flat list and record shapes.\n",
    "\n",
    "    Args:\n",
    "        params_dict: Nested dictionary of parameters.\n",
    "\n",
    "    Returns:\n",
    "        tuple: Flattened parameters list and list of shapes.\n",
    "    \"\"\"\n",
    "    flat_params = []\n",
    "    param_shapes = []\n",
    "\n",
    "    # returns a flat list of the leaves\n",
    "    def flatten_dict(d):\n",
    "        result = []\n",
    "        for key, value in d.items():\n",
    "            if isinstance(value, dict):\n",
    "                result.extend(flatten_dict(value))\n",
    "            else:\n",
    "                result.append(value)\n",
    "        return result\n",
    "\n",
    "    # flatten each top-level gate\n",
    "    for gate_name, gate_params in params_dict.items():\n",
    "        if isinstance(gate_params, dict):\n",
    "            # Extract parameters for this gate\n",
    "            gate_flat_params = jnp.array(flatten_dict(gate_params))\n",
    "        else:\n",
    "            # If already a flat array\n",
    "            gate_flat_params = jnp.array(gate_params)\n",
    "        # this is checking if use can enter sth like {'gate1': 1} instead of {\"gate1\": {\"param1\": 1}}\n",
    "        # if not (isinstance(gate_flat_params, list)):\n",
    "        #     flat_params.append([gate_flat_params])\n",
    "        #     param_shapes.append(1)\n",
    "        # else:\n",
    "        #     flat_params.append(gate_flat_params)\n",
    "        #     param_shapes.append(len(gate_flat_params))\n",
    "        flat_params.append(gate_flat_params)\n",
    "        param_shapes.append(gate_flat_params.shape)\n",
    "    return flat_params, param_shapes"
   ]
  },
  {
   "cell_type": "code",
   "execution_count": 26,
   "id": "1aa585f7",
   "metadata": {},
   "outputs": [],
   "source": [
    "import numpy as np\n",
    "\n",
    "\n",
    "def reshape_params(param_shapes, rnn_flattened_params):\n",
    "    \"\"\"\n",
    "    Reshape the parameters for the gates.\n",
    "    \"\"\"\n",
    "    # Reshape the flattened parameters from RNN output according\n",
    "    # to each gate corressponding params\n",
    "    reshaped_params = []\n",
    "    param_idx = 0\n",
    "    for shape in param_shapes:\n",
    "        num_params = int(np.prod(shape))\n",
    "        # rnn outputs a flat list, this takes each and assigns according to the shape\n",
    "        gate_params = rnn_flattened_params[\n",
    "            param_idx : param_idx + num_params\n",
    "        ].reshape(shape)\n",
    "        reshaped_params.append(gate_params)\n",
    "        param_idx += num_params\n",
    "\n",
    "    new_params = reshaped_params\n",
    "    return new_params"
   ]
  },
  {
   "cell_type": "code",
   "execution_count": 27,
   "id": "6cd6695b",
   "metadata": {},
   "outputs": [
    {
     "name": "stdout",
     "output_type": "stream",
     "text": [
      "length of F[0]: 2\n",
      "length of F[1]: 4\n",
      "length of F[2]: 8\n",
      "############\n",
      "############\n",
      "length of F[0]: 4\n",
      "Array([-0.51234908, -1.78256823,  2.92370097,  0.46810066], dtype=float64)\n",
      "length of F[1]: 4\n",
      "Array([-2.39923276, -0.29054238,  0.43072842,  2.07843927], dtype=float64)\n",
      "length of F[2]: 4\n",
      "Array([0., 0., 0., 0.], dtype=float32)\n",
      "length of F[3]: 4\n",
      "Array([0., 0., 0., 0.], dtype=float32)\n",
      "length of F[4]: 4\n",
      "Array([0., 0., 0., 0.], dtype=float32)\n",
      "length of F[5]: 4\n",
      "Array([0., 0., 0., 0.], dtype=float32)\n",
      "length of F[6]: 4\n",
      "Array([0., 0., 0., 0.], dtype=float32)\n",
      "length of F[7]: 4\n",
      "Array([0., 0., 0., 0.], dtype=float32)\n"
     ]
    }
   ],
   "source": [
    "import os\n",
    "\n",
    "os.sys.path.append(\"..\")\n",
    "import jax\n",
    "import jax.numpy as jnp\n",
    "from feedback_grape.fgrape import prepare_parameters_from_dict, reshape_params\n",
    "\n",
    "initial_params = {\n",
    "    \"POVM\": [jnp.pi / 3, jnp.pi / 3],\n",
    "    \"U_q\": [jnp.pi / 3],\n",
    "    \"U_qc\": [jnp.pi / 3],\n",
    "}\n",
    "\n",
    "flat_params, param_shapes = prepare_parameters_from_dict(initial_params)\n",
    "num_of_columns = 4\n",
    "num_of_sub_lists = 3\n",
    "F = []\n",
    "\n",
    "\n",
    "def construct_ragged_row(num_of_rows):\n",
    "    res = []\n",
    "    for i in range(num_of_rows):\n",
    "        flattened = jax.random.uniform(\n",
    "            jax.random.PRNGKey(0 + i),\n",
    "            shape=(num_of_columns,),\n",
    "            minval=-jnp.pi,\n",
    "            maxval=jnp.pi,\n",
    "        )\n",
    "        res.append(flattened)\n",
    "    return res\n",
    "\n",
    "\n",
    "for i in range(1, num_of_sub_lists + 1):\n",
    "    F.append(construct_ragged_row(num_of_rows=2**i))\n",
    "\n",
    "for i in range(len(F)):\n",
    "    print(\"length of F[{}]: {}\".format(i, len(F[i])))\n",
    "\n",
    "print(\"############\")\n",
    "min_num_of_rows = 2 ** len(F)\n",
    "for i in range(len(F)):\n",
    "    if len(F[i]) < min_num_of_rows:\n",
    "        zeros_arrays = [\n",
    "            jnp.zeros((num_of_columns,), dtype=jnp.float32)\n",
    "            for _ in range(min_num_of_rows - len(F[i]))\n",
    "        ]\n",
    "        F[i] = F[i] + zeros_arrays\n",
    "\n",
    "print(\"############\")\n",
    "from pprint import pprint\n",
    "\n",
    "for i in range(len(F[0])):\n",
    "    print(\"length of F[{}]: {}\".format(i, len(F[0][i])))\n",
    "    pprint(F[0][i])"
   ]
  },
  {
   "cell_type": "code",
   "execution_count": 28,
   "id": "fc204f70",
   "metadata": {},
   "outputs": [
    {
     "name": "stdout",
     "output_type": "stream",
     "text": [
      "[[Array([-0.51234908, -1.78256823,  2.92370097,  0.46810066], dtype=float64), Array([-2.39923276, -0.29054238,  0.43072842,  2.07843927], dtype=float64), Array([0., 0., 0., 0.], dtype=float32), Array([0., 0., 0., 0.], dtype=float32), Array([0., 0., 0., 0.], dtype=float32), Array([0., 0., 0., 0.], dtype=float32), Array([0., 0., 0., 0.], dtype=float32), Array([0., 0., 0., 0.], dtype=float32)], [Array([-0.51234908, -1.78256823,  2.92370097,  0.46810066], dtype=float64), Array([-2.39923276, -0.29054238,  0.43072842,  2.07843927], dtype=float64), Array([-0.4773859 , -2.20922398,  1.04214091, -0.38718841], dtype=float64), Array([ 2.2958313 , -0.29402536, -1.6428162 , -1.85833117], dtype=float64), Array([0., 0., 0., 0.], dtype=float32), Array([0., 0., 0., 0.], dtype=float32), Array([0., 0., 0., 0.], dtype=float32), Array([0., 0., 0., 0.], dtype=float32)], [Array([-0.51234908, -1.78256823,  2.92370097,  0.46810066], dtype=float64), Array([-2.39923276, -0.29054238,  0.43072842,  2.07843927], dtype=float64), Array([-0.4773859 , -2.20922398,  1.04214091, -0.38718841], dtype=float64), Array([ 2.2958313 , -0.29402536, -1.6428162 , -1.85833117], dtype=float64), Array([-2.12277184, -0.97062874,  0.67618105, -3.00817255], dtype=float64), Array([ 0.84408699, -2.84525319,  2.11676531,  1.15871455], dtype=float64), Array([ 0.10061492,  2.09547855, -2.33811552,  0.95222944], dtype=float64), Array([ 2.1620877 , -2.85625697, -1.72797256, -2.73704597], dtype=float64)]]\n"
     ]
    }
   ],
   "source": [
    "print(F)"
   ]
  },
  {
   "cell_type": "code",
   "execution_count": 29,
   "id": "c9ba8ed7",
   "metadata": {},
   "outputs": [
    {
     "name": "stdout",
     "output_type": "stream",
     "text": [
      "sub_array_idx: 1\n",
      "binary_history: [0 1]\n",
      "sub_array_param_idx: 1\n"
     ]
    }
   ],
   "source": [
    "def convert_to_index(measurement_history):\n",
    "    # Convert measurement history from [1, -1, ...] to [0, 1, ...] and then to an integer index\n",
    "    binary_history = jnp.where(jnp.array(measurement_history) == 1, 0, 1)\n",
    "    print(f\"binary_history: {binary_history}\")\n",
    "    # Convert binary list to integer index (e.g., [0,1] -> 1)\n",
    "    # Reverse the binary_history to operate from last element backwards\n",
    "    reversed_binary = binary_history[::-1]\n",
    "    int_index = sum(\n",
    "        (2**i) * reversed_binary[i] for i in range(len(reversed_binary))\n",
    "    )\n",
    "    return int_index\n",
    "\n",
    "\n",
    "def extract_from_lut(lut, measurement_history):\n",
    "    \"\"\"\n",
    "    Extract parameters from the lookup table based on the measurement history.\n",
    "\n",
    "    Args:\n",
    "        lut: Lookup table for parameters.\n",
    "        measurement_history: History of measurements.\n",
    "        time_step: Current time step.\n",
    "\n",
    "    Returns:\n",
    "        Extracted parameters.\n",
    "    \"\"\"\n",
    "    sub_array_idx = len(measurement_history) - 1\n",
    "    print(f\"sub_array_idx: {sub_array_idx}\")\n",
    "    sub_array_param_idx = convert_to_index(measurement_history)\n",
    "    print(f\"sub_array_param_idx: {sub_array_param_idx}\")\n",
    "    return lut[sub_array_idx][sub_array_param_idx]\n",
    "\n",
    "\n",
    "extracted_lut_params = extract_from_lut(F, [1, -1])"
   ]
  },
  {
   "cell_type": "code",
   "execution_count": 30,
   "id": "3882bcbd",
   "metadata": {},
   "outputs": [
    {
     "name": "stdout",
     "output_type": "stream",
     "text": [
      "[-2.39923276 -0.29054238  0.43072842  2.07843927]\n"
     ]
    }
   ],
   "source": [
    "print(extracted_lut_params)"
   ]
  },
  {
   "cell_type": "code",
   "execution_count": null,
   "id": "73e4bb8d",
   "metadata": {},
   "outputs": [],
   "source": []
  }
 ],
 "metadata": {
  "kernelspec": {
   "display_name": "Python 3",
   "language": "python",
   "name": "python3"
  },
  "language_info": {
   "codemirror_mode": {
    "name": "ipython",
    "version": 3
   },
   "file_extension": ".py",
   "mimetype": "text/x-python",
   "name": "python",
   "nbconvert_exporter": "python",
   "pygments_lexer": "ipython3",
   "version": "3.11.11"
  }
 },
 "nbformat": 4,
 "nbformat_minor": 5
}

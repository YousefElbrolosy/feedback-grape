{
 "cells": [
  {
   "cell_type": "code",
   "execution_count": 1,
   "id": "edefb299",
   "metadata": {},
   "outputs": [],
   "source": [
    "# ruff: noqa\n",
    "import os\n",
    "\n",
    "os.sys.path.append(\"..\")\n",
    "from feedback_grape.fgrape import optimize_pulse_with_feedback\n",
    "from feedback_grape.utils.operators import (\n",
    "    sigmap,\n",
    "    sigmam,\n",
    "    create,\n",
    "    destroy,\n",
    "    identity,\n",
    "    cosm,\n",
    "    sinm,\n",
    ")\n",
    "from feedback_grape.utils.states import basis, fock\n",
    "from feedback_grape.utils.tensor import tensor\n",
    "import jax.numpy as jnp\n",
    "from jax.scipy.linalg import expm"
   ]
  },
  {
   "cell_type": "markdown",
   "id": "8ecde886",
   "metadata": {},
   "source": [
    "## defining parameterized operations that are repeated num_time_steps times"
   ]
  },
  {
   "cell_type": "code",
   "execution_count": 2,
   "id": "b9a9cb9b",
   "metadata": {},
   "outputs": [],
   "source": [
    "N_cav = 5"
   ]
  },
  {
   "cell_type": "code",
   "execution_count": 3,
   "id": "1d1d8650",
   "metadata": {},
   "outputs": [],
   "source": [
    "def qubit_unitary(alpha):\n",
    "    \"\"\"\n",
    "    TODO: see if alpha, can be sth elser other than scalar, and if the algo understands this\n",
    "    see if there can be multiple params like alpha and beta input\n",
    "    \"\"\"\n",
    "    return expm(\n",
    "        -1j\n",
    "        * (\n",
    "            alpha * tensor(identity(N_cav), sigmap())\n",
    "            + alpha.conjugate() * tensor(identity(N_cav), sigmam())\n",
    "        )\n",
    "        / 2\n",
    "    )"
   ]
  },
  {
   "cell_type": "code",
   "execution_count": 4,
   "id": "04f55cc7",
   "metadata": {},
   "outputs": [],
   "source": [
    "def qubit_cavity_unitary(beta):\n",
    "    return expm(\n",
    "        -1j\n",
    "        * (\n",
    "            beta\n",
    "            * (\n",
    "                tensor(destroy(N_cav), identity(2))\n",
    "                @ tensor(identity(N_cav), sigmap())\n",
    "            )\n",
    "            + beta.conjugate()\n",
    "            * (\n",
    "                tensor(create(N_cav), identity(2))\n",
    "                @ tensor(identity(N_cav), sigmam())\n",
    "            )\n",
    "        )\n",
    "        / 2\n",
    "    )"
   ]
  },
  {
   "cell_type": "code",
   "execution_count": 5,
   "id": "98b6f96a",
   "metadata": {},
   "outputs": [
    {
     "name": "stdout",
     "output_type": "stream",
     "text": [
      "Uq unitary check: True\n",
      "Uqc unitary check: True\n"
     ]
    }
   ],
   "source": [
    "alpha = 0.1 + 0.1j\n",
    "beta = 0.1 + 0.1j\n",
    "Uq = qubit_unitary(alpha)\n",
    "Uqc = qubit_cavity_unitary(beta)\n",
    "print(\n",
    "    \"Uq unitary check:\",\n",
    "    jnp.allclose(Uq.conj().T @ Uq, jnp.eye(Uq.shape[0]), atol=1e-7),\n",
    ")\n",
    "print(\n",
    "    \"Uqc unitary check:\",\n",
    "    jnp.allclose(Uqc.conj().T @ Uqc, jnp.eye(Uqc.shape[0]), atol=1e-7),\n",
    ")"
   ]
  },
  {
   "cell_type": "code",
   "execution_count": 6,
   "id": "dadf0eae",
   "metadata": {},
   "outputs": [
    {
     "data": {
      "text/plain": [
       "Array([[0.99875027+0.j        , 0.        -0.04997917j,\n",
       "        0.        +0.j        , 0.        +0.j        ,\n",
       "        0.        +0.j        , 0.        +0.j        ,\n",
       "        0.        +0.j        , 0.        +0.j        ,\n",
       "        0.        +0.j        , 0.        +0.j        ],\n",
       "       [0.        -0.04997917j, 0.99875027+0.j        ,\n",
       "        0.        +0.j        , 0.        +0.j        ,\n",
       "        0.        +0.j        , 0.        +0.j        ,\n",
       "        0.        +0.j        , 0.        +0.j        ,\n",
       "        0.        +0.j        , 0.        +0.j        ],\n",
       "       [0.        +0.j        , 0.        +0.j        ,\n",
       "        0.99875027+0.j        , 0.        -0.04997917j,\n",
       "        0.        +0.j        , 0.        +0.j        ,\n",
       "        0.        +0.j        , 0.        +0.j        ,\n",
       "        0.        +0.j        , 0.        +0.j        ],\n",
       "       [0.        +0.j        , 0.        +0.j        ,\n",
       "        0.        -0.04997917j, 0.99875027+0.j        ,\n",
       "        0.        +0.j        , 0.        +0.j        ,\n",
       "        0.        +0.j        , 0.        +0.j        ,\n",
       "        0.        +0.j        , 0.        +0.j        ],\n",
       "       [0.        +0.j        , 0.        +0.j        ,\n",
       "        0.        +0.j        , 0.        +0.j        ,\n",
       "        0.99875027+0.j        , 0.        -0.04997917j,\n",
       "        0.        +0.j        , 0.        +0.j        ,\n",
       "        0.        +0.j        , 0.        +0.j        ],\n",
       "       [0.        +0.j        , 0.        +0.j        ,\n",
       "        0.        +0.j        , 0.        +0.j        ,\n",
       "        0.        -0.04997917j, 0.99875027+0.j        ,\n",
       "        0.        +0.j        , 0.        +0.j        ,\n",
       "        0.        +0.j        , 0.        +0.j        ],\n",
       "       [0.        +0.j        , 0.        +0.j        ,\n",
       "        0.        +0.j        , 0.        +0.j        ,\n",
       "        0.        +0.j        , 0.        +0.j        ,\n",
       "        0.99875027+0.j        , 0.        -0.04997917j,\n",
       "        0.        +0.j        , 0.        +0.j        ],\n",
       "       [0.        +0.j        , 0.        +0.j        ,\n",
       "        0.        +0.j        , 0.        +0.j        ,\n",
       "        0.        +0.j        , 0.        +0.j        ,\n",
       "        0.        -0.04997917j, 0.99875027+0.j        ,\n",
       "        0.        +0.j        , 0.        +0.j        ],\n",
       "       [0.        +0.j        , 0.        +0.j        ,\n",
       "        0.        +0.j        , 0.        +0.j        ,\n",
       "        0.        +0.j        , 0.        +0.j        ,\n",
       "        0.        +0.j        , 0.        +0.j        ,\n",
       "        0.99875027+0.j        , 0.        -0.04997917j],\n",
       "       [0.        +0.j        , 0.        +0.j        ,\n",
       "        0.        +0.j        , 0.        +0.j        ,\n",
       "        0.        +0.j        , 0.        +0.j        ,\n",
       "        0.        +0.j        , 0.        +0.j        ,\n",
       "        0.        -0.04997917j, 0.99875027+0.j        ]], dtype=complex64)"
      ]
     },
     "execution_count": 6,
     "metadata": {},
     "output_type": "execute_result"
    }
   ],
   "source": [
    "qubit_unitary(0.1)"
   ]
  },
  {
   "cell_type": "code",
   "execution_count": 7,
   "id": "b21389c6",
   "metadata": {},
   "outputs": [],
   "source": [
    "from feedback_grape.utils.operators import create, destroy\n",
    "\n",
    "\n",
    "def povm_measure_operator(measurement_outcome, gamma, delta):\n",
    "    \"\"\"\n",
    "    POVM for the measurement of the cavity state.\n",
    "    returns Mm ( NOT the POVM element Em = Mm_dag @ Mm ), given measurement_outcome m, gamma and delta\n",
    "    \"\"\"\n",
    "    number_operator = tensor(create(N_cav) @ destroy(N_cav), identity(2))\n",
    "    angle = (gamma * number_operator) + delta / 2\n",
    "    meas_op = jnp.where(\n",
    "        measurement_outcome == 1,\n",
    "        cosm(angle),\n",
    "        sinm(angle),\n",
    "    )\n",
    "    return meas_op"
   ]
  },
  {
   "cell_type": "markdown",
   "id": "d13bbcb6",
   "metadata": {},
   "source": [
    "### defining initial (thermal) state"
   ]
  },
  {
   "cell_type": "code",
   "execution_count": 8,
   "id": "4b80af46",
   "metadata": {},
   "outputs": [],
   "source": [
    "# initial state is a thermal state coupled to a qubit in the ground state?\n",
    "n_average = 1\n",
    "# natural logarithm\n",
    "beta = jnp.log((1 / n_average) + 1)\n",
    "diags = jnp.exp(-beta * jnp.arange(N_cav))\n",
    "normalized_diags = diags / jnp.sum(diags, axis=0)\n",
    "rho_cav = jnp.diag(normalized_diags)"
   ]
  },
  {
   "cell_type": "code",
   "execution_count": 9,
   "id": "c025c141",
   "metadata": {},
   "outputs": [
    {
     "data": {
      "text/plain": [
       "(5, 5)"
      ]
     },
     "execution_count": 9,
     "metadata": {},
     "output_type": "execute_result"
    }
   ],
   "source": [
    "rho_cav.shape"
   ]
  },
  {
   "cell_type": "code",
   "execution_count": 10,
   "id": "0b1f2052",
   "metadata": {},
   "outputs": [],
   "source": [
    "rho0 = tensor(rho_cav, basis(2, 0) @ basis(2, 0).conj().T)"
   ]
  },
  {
   "cell_type": "code",
   "execution_count": 11,
   "id": "237bb0b9",
   "metadata": {},
   "outputs": [
    {
     "data": {
      "text/plain": [
       "Array(0.88501454, dtype=float64)"
      ]
     },
     "execution_count": 11,
     "metadata": {},
     "output_type": "execute_result"
    }
   ],
   "source": [
    "from feedback_grape.fgrape import _probability_of_a_measurement_outcome_given_a_certain_state\n",
    "_probability_of_a_measurement_outcome_given_a_certain_state(rho0, 1, povm_measure_operator, [0.1, -3*jnp.pi / 2])"
   ]
  },
  {
   "cell_type": "markdown",
   "id": "43a8ce4c",
   "metadata": {},
   "source": [
    "### defining target state"
   ]
  },
  {
   "cell_type": "code",
   "execution_count": 12,
   "id": "0b8272be",
   "metadata": {},
   "outputs": [
    {
     "data": {
      "text/plain": [
       "(10, 10)"
      ]
     },
     "execution_count": 12,
     "metadata": {},
     "output_type": "execute_result"
    }
   ],
   "source": [
    "psi_target = tensor((fock(N_cav, 1) + fock(N_cav, 2) + fock(N_cav, 3)) / jnp.sqrt(3), basis(2))\n",
    "\n",
    "rho_target = psi_target @ psi_target.conj().T\n",
    "rho_target.shape"
   ]
  },
  {
   "cell_type": "code",
   "execution_count": 13,
   "id": "882b04b4",
   "metadata": {},
   "outputs": [
    {
     "name": "stdout",
     "output_type": "stream",
     "text": [
      "0.3880207144091314\n"
     ]
    }
   ],
   "source": [
    "from feedback_grape.utils.fidelity import fidelity\n",
    "print(fidelity(U_final=rho0, C_target=rho_target, type=\"density\"))"
   ]
  },
  {
   "cell_type": "markdown",
   "id": "cd6f7f95",
   "metadata": {},
   "source": [
    "### initialize random params"
   ]
  },
  {
   "cell_type": "code",
   "execution_count": 14,
   "id": "fca21f29",
   "metadata": {},
   "outputs": [],
   "source": [
    "num_time_steps = 5\n",
    "num_of_iterations = 1000\n",
    "learning_rate = 0.05\n",
    "# avg_photon_numer = 2 When testing kitten state\n",
    "\n",
    "\n",
    "initial_params = {\n",
    "    \"POVM\": {\n",
    "        \"gamma\": jnp.pi / 3,\n",
    "        \"delta\": jnp.pi / 3,\n",
    "    },\n",
    "    \"U_q\": {\n",
    "        \"alpha\": jnp.pi / 3,\n",
    "    },\n",
    "    \"U_qc\": {\n",
    "        \"beta\": jnp.pi / 3,\n",
    "    }\n",
    "}\n",
    "\n",
    "\n",
    "result = optimize_pulse_with_feedback(\n",
    "    U_0=rho0,\n",
    "    C_target=rho_target,\n",
    "    parameterized_gates=[\n",
    "        povm_measure_operator,\n",
    "        qubit_unitary,\n",
    "        qubit_cavity_unitary,\n",
    "    ],\n",
    "    measurement_indices=[0],\n",
    "    initial_params=initial_params,\n",
    "    num_time_steps=num_time_steps,\n",
    "    mode=\"nn\",\n",
    "    goal=\"fidelity\",\n",
    "    optimizer=\"adam\",\n",
    "    max_iter=num_of_iterations,\n",
    "    convergence_threshold=1e-20,\n",
    "    learning_rate=learning_rate,\n",
    "    type=\"density\",\n",
    ")"
   ]
  },
  {
   "cell_type": "code",
   "execution_count": 15,
   "id": "1cc4d0a4",
   "metadata": {},
   "outputs": [
    {
     "data": {
      "text/plain": [
       "FgResult(optimized_rnn_parameters={'params': {'Dense_0': {'bias': Array([-0.04012918,  0.21233846,  0.41916883,  0.7741086 ], dtype=float32), 'kernel': Array([[-6.48014247e-02,  1.13182589e-01, -1.27241939e-01,\n",
       "        -2.24849656e-01],\n",
       "       [ 9.29016806e-03,  2.46264398e-01,  7.05307782e-01,\n",
       "         6.12710595e-01],\n",
       "       [ 3.46890017e-02, -2.14393660e-01,  1.77045369e+00,\n",
       "         1.26670516e+00],\n",
       "       [-5.85440286e-02,  1.07428104e-01,  4.49466646e-01,\n",
       "        -2.35529631e-01],\n",
       "       [-3.43436860e-02, -4.05002803e-01, -6.53316557e-01,\n",
       "        -6.03038557e-02],\n",
       "       [-5.50922193e-02, -5.60203455e-02, -2.00591654e-01,\n",
       "         4.02358145e-01],\n",
       "       [ 4.32903394e-02, -2.11749986e-01,  1.33660346e-01,\n",
       "        -1.66298211e+00],\n",
       "       [ 2.07558833e-02,  4.58290242e-02,  5.91896117e-01,\n",
       "        -1.82525799e-01],\n",
       "       [-4.83784679e-04,  1.30473018e-01,  6.82662368e-01,\n",
       "        -7.71707356e-01],\n",
       "       [-6.53931499e-02,  1.99147686e-02, -2.04631060e-01,\n",
       "         6.09878898e-02],\n",
       "       [-3.76698608e-03, -1.76856890e-02,  7.61762977e-01,\n",
       "         1.09383559e+00],\n",
       "       [ 2.32613720e-02, -2.08209027e-02,  5.31431973e-01,\n",
       "        -4.42194790e-01],\n",
       "       [ 1.97007488e-02, -1.57542348e-01,  2.63749529e-02,\n",
       "         1.47200376e-01],\n",
       "       [ 1.27065808e-01, -6.03566729e-02,  4.33488667e-01,\n",
       "         1.08455509e-01],\n",
       "       [ 8.64511058e-02, -2.23940760e-02, -2.50471294e-01,\n",
       "         5.30286372e-01],\n",
       "       [ 1.36787454e-02,  6.57916740e-02, -8.99392962e-02,\n",
       "         1.51189357e-01],\n",
       "       [ 8.90348777e-02, -1.02615036e-01,  1.17532694e+00,\n",
       "        -1.76111490e-01],\n",
       "       [ 2.57077590e-02, -2.40837097e-01, -6.77715763e-02,\n",
       "         1.71786284e+00],\n",
       "       [ 2.67991778e-02,  4.34223600e-02,  1.75568938e-01,\n",
       "        -2.00458586e-01],\n",
       "       [-9.03368369e-03, -3.79345752e-03, -4.64971304e-01,\n",
       "        -4.72031564e-01],\n",
       "       [ 1.43595086e-02, -2.52728052e-02,  6.65135920e-01,\n",
       "         3.53283644e-01],\n",
       "       [-3.31368335e-02, -2.91446168e-02, -4.67818946e-01,\n",
       "        -8.34285654e-03],\n",
       "       [ 7.63048306e-02, -1.36632606e-01, -1.51524439e-01,\n",
       "         1.18815705e-01],\n",
       "       [-2.12108921e-02,  3.24286930e-02,  1.45461011e+00,\n",
       "        -7.82857314e-02],\n",
       "       [ 2.05601342e-02,  1.62363335e-01,  2.19043508e-01,\n",
       "        -1.05287874e+00],\n",
       "       [-2.68062949e-02,  2.06677914e-02,  1.83925718e-01,\n",
       "        -1.56463251e-01],\n",
       "       [-2.02039946e-02, -7.43134171e-02,  4.17933315e-01,\n",
       "         5.21387339e-01],\n",
       "       [ 2.41971426e-02, -7.66386986e-02, -7.01582193e-01,\n",
       "        -6.66036829e-02],\n",
       "       [-1.73978433e-02,  3.62340324e-02, -5.91915697e-02,\n",
       "        -5.39580397e-02],\n",
       "       [-1.37057468e-01, -4.30660337e-01, -3.99660766e-01,\n",
       "        -4.12583917e-01],\n",
       "       [ 4.31255884e-02, -8.53941143e-02, -3.05110365e-01,\n",
       "        -3.00403293e-02],\n",
       "       [ 1.58038083e-02, -6.57510459e-02,  2.34336346e-01,\n",
       "         3.68890822e-01]], dtype=float32)}, 'GRUCell_0': {'candidate_gate': {'bias': Array([-0.09825673,  0.33561587,  0.41546276, -0.01713991,  0.06116786,\n",
       "        0.18068615,  0.05315746, -0.07410325, -0.43765327,  0.03323321,\n",
       "        0.46790612, -0.22859687,  0.14021523,  0.20599686,  0.31696668,\n",
       "        0.15193056, -0.06459419,  0.23033153, -0.21922196, -0.09616488,\n",
       "        0.2483032 ,  0.03746809,  0.0996197 , -0.01545622, -0.49843153,\n",
       "       -0.10829211,  0.24388325,  0.07636444, -0.03021042, -0.06170795,\n",
       "       -0.02834697,  0.2578026 ], dtype=float32), 'kernel': Array([[ 1.2010268e-01,  3.0496508e-01,  5.2860487e-01, ...,\n",
       "        -4.3688533e-01,  3.6999976e-04,  1.7159273e-01],\n",
       "       [-2.0714471e-01,  3.5767996e-01, -2.2213036e-02, ...,\n",
       "         3.6998186e-01, -1.4913461e-01,  3.2187560e-01],\n",
       "       [ 1.6816244e-01,  4.0581688e-02, -8.1765151e-01, ...,\n",
       "        -1.8409435e-01, -5.6209892e-02, -7.1053517e-01],\n",
       "       ...,\n",
       "       [-8.9664049e-02, -1.9424224e-01,  8.2158469e-02, ...,\n",
       "         6.1779772e-03,  9.4821811e-02, -2.1535812e-01],\n",
       "       [-5.5403936e-01,  3.0035677e-03,  6.3649964e-01, ...,\n",
       "        -1.7415603e-01, -3.7636557e-01, -1.4971733e-02],\n",
       "       [-3.6443892e-01,  4.6984190e-01,  3.0931136e-01, ...,\n",
       "        -6.1948287e-01, -8.5528499e-01, -7.1191186e-01]], dtype=float32)}, 'reset_gate': {'bias': Array([-0.45066363,  0.44057816,  0.511331  , -1.043261  ,  0.34025452,\n",
       "       -0.38770318,  1.9023772 , -0.23178042,  0.91622955, -0.4937383 ,\n",
       "        0.16214226, -0.22372252, -0.39132324, -0.5251017 ,  0.08103491,\n",
       "        0.04822902, -0.57448447,  0.6577709 , -0.265546  , -0.32157534,\n",
       "        0.21983352,  0.30119765, -0.8649936 , -1.2185626 ,  0.6598896 ,\n",
       "       -0.37096196, -0.29617125,  0.24024759, -0.44488102, -0.67131144,\n",
       "       -0.15566403,  0.57489705], dtype=float32), 'kernel': Array([[-0.45843026,  0.68150306,  0.58422065, ..., -0.5646873 ,\n",
       "        -0.40968734,  0.69513386],\n",
       "       [-0.62970144, -0.4432776 ,  0.44117853, ..., -0.6278069 ,\n",
       "        -0.39369515,  0.81569505],\n",
       "       [ 0.11037199,  1.0308189 , -0.02024117, ...,  0.43256122,\n",
       "        -0.45206457, -0.21173944],\n",
       "       ...,\n",
       "       [ 0.24082588, -0.6548334 , -0.71390945, ...,  0.8100529 ,\n",
       "         0.21708256,  0.3196291 ],\n",
       "       [-0.15077992, -0.6127023 , -0.10526006, ...,  0.09660152,\n",
       "         0.37621522,  0.46810496],\n",
       "       [-0.440884  ,  0.04091818,  0.30126244, ..., -0.2919402 ,\n",
       "        -0.16273497, -0.07060896]], dtype=float32)}, 'update_gate': {'bias': Array([ 1.62918   ,  0.5257513 , -0.22893259,  1.3826107 ,  0.8722964 ,\n",
       "        0.7609095 , -0.9794637 ,  1.1456523 , -0.2544951 ,  1.3502935 ,\n",
       "       -0.01196406,  0.8583243 ,  1.415408  ,  1.2344142 ,  0.9024383 ,\n",
       "        1.2975415 ,  1.1220981 , -0.5543246 ,  1.0762118 ,  1.3147992 ,\n",
       "        0.27832103,  1.2751943 ,  1.2204118 ,  0.35438415, -0.1111123 ,\n",
       "        1.256042  ,  0.8008075 ,  1.081097  ,  1.4059528 ,  0.57558453,\n",
       "        1.3839412 ,  0.5357644 ], dtype=float32), 'kernel': Array([[ 1.2952133 ,  0.2806579 , -0.3403393 , ...,  0.35262743,\n",
       "         1.5929863 ,  0.60808045],\n",
       "       [ 0.35232246, -0.11315194,  0.5912186 , ...,  0.46702576,\n",
       "         0.5531652 ,  0.694436  ],\n",
       "       [ 0.24967222,  0.4784863 ,  0.243355  , ...,  0.763155  ,\n",
       "         0.1620192 ,  1.298389  ],\n",
       "       ...,\n",
       "       [-0.87654716, -0.3225141 , -0.34589127, ..., -1.4412903 ,\n",
       "        -1.4685562 , -2.19008   ],\n",
       "       [ 0.7933916 ,  0.4849044 , -0.02670783, ...,  0.11741829,\n",
       "        -0.20641287, -0.7107598 ],\n",
       "       [ 1.7379725 ,  0.24138215,  0.40811628, ...,  0.09885576,\n",
       "         0.78672135,  1.0947871 ]], dtype=float32)}}}}, iterations=1000, final_state=Array([[ 3.93359051e-02+1.08420217e-17j,  2.08029626e-02+1.12266214e-02j,\n",
       "         2.69509189e-02-2.36012448e-02j, -1.11630733e-02+1.67186170e-02j,\n",
       "         1.25979893e-02-5.11195136e-02j,  3.82726217e-03-1.50384468e-03j,\n",
       "         3.65453234e-02-3.89859319e-02j,  2.91971614e-03+1.42971455e-02j,\n",
       "         8.36223682e-03+6.70417007e-03j,  2.61097630e-03+1.18474203e-02j],\n",
       "       [ 2.08029626e-02-1.12266214e-02j,  3.76344640e-02+1.12757026e-17j,\n",
       "         1.70424858e-02+1.13648738e-03j, -6.52114663e-03+1.27900861e-02j,\n",
       "         6.49675329e-03-3.98717975e-02j, -5.70506283e-03+2.83505357e-03j,\n",
       "         1.18471612e-03-2.06674937e-02j,  3.37098968e-05+9.54005756e-03j,\n",
       "         2.11059203e-02+1.65186571e-02j,  1.14043148e-02+8.87952365e-03j],\n",
       "       [ 2.69509189e-02+2.36012448e-02j,  1.70424858e-02-1.13648738e-03j,\n",
       "         2.21040361e-01-6.28837260e-18j, -7.76780794e-02-2.23140507e-02j,\n",
       "         2.02078699e-01-6.18901983e-02j, -2.87768201e-03-2.60290235e-02j,\n",
       "         2.07946143e-01-5.39356473e-02j,  3.88286897e-02+1.41574125e-02j,\n",
       "         6.61216567e-02+1.79734593e-02j, -2.15271878e-02+1.96410356e-03j],\n",
       "       [-1.11630733e-02-1.67186170e-02j, -6.52114663e-03-1.27900861e-02j,\n",
       "        -7.76780794e-02+2.23140507e-02j,  4.55120920e-02-4.11996826e-18j,\n",
       "        -8.50067749e-02+4.55667325e-02j,  7.18834929e-03+2.40295940e-03j,\n",
       "        -7.45490023e-02+5.03386209e-02j, -1.49366530e-02-1.91699722e-03j,\n",
       "        -2.10791372e-02-8.29932882e-03j,  2.20092846e-02-4.90334080e-03j],\n",
       "       [ 1.25979893e-02+5.11195136e-02j,  6.49675329e-03+3.98717975e-02j,\n",
       "         2.02078699e-01+6.18901983e-02j, -8.50067749e-02-4.55667325e-02j,\n",
       "         2.56673651e-01+5.20417043e-18j, -1.94627422e-03-3.42570162e-02j,\n",
       "         2.14591154e-01-9.60801383e-03j,  2.43940837e-02+4.53226270e-03j,\n",
       "         4.44609881e-02+4.35284718e-02j, -3.38365548e-02+1.86160554e-02j],\n",
       "       [ 3.82726217e-03+1.50384468e-03j, -5.70506283e-03-2.83505357e-03j,\n",
       "        -2.87768201e-03+2.60290235e-02j,  7.18834929e-03-2.40295940e-03j,\n",
       "        -1.94627422e-03+3.42570162e-02j,  2.02488582e-02+2.60208521e-18j,\n",
       "         1.30622424e-02+2.39274432e-02j,  9.06883809e-03+6.27679123e-03j,\n",
       "        -1.52582049e-03+2.87582467e-03j, -9.36900442e-03+6.25730457e-03j],\n",
       "       [ 3.65453234e-02+3.89859319e-02j,  1.18471612e-03+2.06674937e-02j,\n",
       "         2.07946143e-01+5.39356473e-02j, -7.45490023e-02-5.03386209e-02j,\n",
       "         2.14591154e-01+9.60801383e-03j,  1.30622424e-02-2.39274432e-02j,\n",
       "         2.57603582e-01-1.73472348e-18j,  3.29636457e-02+4.08470405e-02j,\n",
       "         4.01693809e-02+3.13259997e-02j, -3.42116097e-02-8.46976731e-03j],\n",
       "       [ 2.91971614e-03-1.42971455e-02j,  3.37098968e-05-9.54005756e-03j,\n",
       "         3.88286897e-02-1.41574125e-02j, -1.49366530e-02+1.91699722e-03j,\n",
       "         2.43940837e-02-4.53226270e-03j,  9.06883809e-03-6.27679123e-03j,\n",
       "         3.29636457e-02-4.08470405e-02j,  3.42733487e-02-4.33680869e-19j,\n",
       "         1.46935184e-02+5.06080845e-03j, -2.14544366e-02-4.67733822e-04j],\n",
       "       [ 8.36223682e-03-6.70417007e-03j,  2.11059203e-02-1.65186571e-02j,\n",
       "         6.61216567e-02-1.79734593e-02j, -2.10791372e-02+8.29932882e-03j,\n",
       "         4.44609881e-02-4.35284718e-02j, -1.52582049e-03-2.87582467e-03j,\n",
       "         4.01693809e-02-3.13259997e-02j,  1.46935184e-02-5.06080845e-03j,\n",
       "         4.63663859e-02+4.33680869e-19j, -4.25954328e-03+1.41780294e-02j],\n",
       "       [ 2.61097630e-03-1.18474203e-02j,  1.14043148e-02-8.87952365e-03j,\n",
       "        -2.15271878e-02-1.96410356e-03j,  2.20092846e-02+4.90334080e-03j,\n",
       "        -3.38365548e-02-1.86160554e-02j, -9.36900442e-03-6.25730457e-03j,\n",
       "        -3.42116097e-02+8.46976731e-03j, -2.14544366e-02+4.67733822e-04j,\n",
       "        -4.25954328e-03-1.41780294e-02j,  4.13113518e-02+1.73472348e-18j]],      dtype=complex128), arr_of_povm_params=[[[1.0471975511965976, 1.0471975511965976], [1.0471975511965976], [1.0471975511965976]], [[-0.0016242020812901811, -0.0032900861287659955], [1.4429755442483019], [3.3352049908164054]], [[-0.0005666572743259005, 0.6210883066382602], [3.6493352208265772], [2.570416137388485]], [[0.00037475809769982327, 0.629152136784469], [-1.7720907365528995], [-3.675815234775065]], [[-0.003429879232455718, 0.626701223807564], [-0.5435530235711684], [4.5669562827207475]]], final_purity=None, final_fidelity=Array(0.81335507, dtype=float64))"
      ]
     },
     "execution_count": 15,
     "metadata": {},
     "output_type": "execute_result"
    }
   ],
   "source": [
    "result"
   ]
  },
  {
   "cell_type": "code",
   "execution_count": 16,
   "id": "538ba2b6",
   "metadata": {},
   "outputs": [
    {
     "name": "stdout",
     "output_type": "stream",
     "text": [
      "None\n"
     ]
    }
   ],
   "source": [
    "print(result.final_purity)"
   ]
  },
  {
   "cell_type": "code",
   "execution_count": 17,
   "id": "c19912da",
   "metadata": {},
   "outputs": [
    {
     "name": "stdout",
     "output_type": "stream",
     "text": [
      "0.8133550660337464\n"
     ]
    }
   ],
   "source": [
    "print(result.final_fidelity)"
   ]
  },
  {
   "cell_type": "code",
   "execution_count": 18,
   "id": "050dc029",
   "metadata": {},
   "outputs": [
    {
     "name": "stdout",
     "output_type": "stream",
     "text": [
      "1000\n"
     ]
    }
   ],
   "source": [
    "print(result.iterations)"
   ]
  },
  {
   "cell_type": "code",
   "execution_count": 19,
   "id": "7ba69f49",
   "metadata": {},
   "outputs": [
    {
     "name": "stdout",
     "output_type": "stream",
     "text": [
      "[[[1.0471975511965976, 1.0471975511965976], [1.0471975511965976], [1.0471975511965976]], [[-0.0016242020812901811, -0.0032900861287659955], [1.4429755442483019], [3.3352049908164054]], [[-0.0005666572743259005, 0.6210883066382602], [3.6493352208265772], [2.570416137388485]], [[0.00037475809769982327, 0.629152136784469], [-1.7720907365528995], [-3.675815234775065]], [[-0.003429879232455718, 0.626701223807564], [-0.5435530235711684], [4.5669562827207475]]]\n"
     ]
    }
   ],
   "source": [
    "print(result.arr_of_povm_params)"
   ]
  },
  {
   "cell_type": "code",
   "execution_count": 20,
   "id": "cb6e56d7",
   "metadata": {},
   "outputs": [
    {
     "name": "stdout",
     "output_type": "stream",
     "text": [
      "[[-0.0016242020812901811, -0.0032900861287659955], [1.4429755442483019], [3.3352049908164054]]\n"
     ]
    }
   ],
   "source": [
    "print(result.arr_of_povm_params[1])"
   ]
  },
  {
   "cell_type": "code",
   "execution_count": null,
   "id": "72844e32",
   "metadata": {},
   "outputs": [],
   "source": []
  }
 ],
 "metadata": {
  "kernelspec": {
   "display_name": "Python 3",
   "language": "python",
   "name": "python3"
  },
  "language_info": {
   "codemirror_mode": {
    "name": "ipython",
    "version": 3
   },
   "file_extension": ".py",
   "mimetype": "text/x-python",
   "name": "python",
   "nbconvert_exporter": "python",
   "pygments_lexer": "ipython3",
   "version": "3.11.11"
  }
 },
 "nbformat": 4,
 "nbformat_minor": 5
}

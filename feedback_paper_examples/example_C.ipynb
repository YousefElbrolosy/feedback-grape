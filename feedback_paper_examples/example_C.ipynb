{
 "cells": [
  {
   "cell_type": "code",
   "execution_count": 1,
   "id": "edefb299",
   "metadata": {},
   "outputs": [],
   "source": [
    "# ruff: noqa\n",
    "import os\n",
    "\n",
    "os.sys.path.append(\"..\")\n",
    "from feedback_grape.fgrape import optimize_pulse_with_feedback\n",
    "from feedback_grape.utils.operators import (\n",
    "    sigmap,\n",
    "    sigmam,\n",
    "    create,\n",
    "    destroy,\n",
    "    identity,\n",
    "    cosm,\n",
    "    sinm,\n",
    ")\n",
    "from feedback_grape.utils.states import basis, fock\n",
    "from feedback_grape.utils.tensor import tensor\n",
    "import jax.numpy as jnp\n",
    "from jax.scipy.linalg import expm"
   ]
  },
  {
   "cell_type": "markdown",
   "id": "8ecde886",
   "metadata": {},
   "source": [
    "## defining parameterized operations that are repeated num_time_steps times"
   ]
  },
  {
   "cell_type": "code",
   "execution_count": 2,
   "id": "b9a9cb9b",
   "metadata": {},
   "outputs": [],
   "source": [
    "N_cav = 5"
   ]
  },
  {
   "cell_type": "code",
   "execution_count": 3,
   "id": "1d1d8650",
   "metadata": {},
   "outputs": [],
   "source": [
    "def qubit_unitary(alpha):\n",
    "    \"\"\"\n",
    "    TODO: see if alpha, can be sth elser other than scalar, and if the algo understands this\n",
    "    see if there can be multiple params like alpha and beta input\n",
    "    \"\"\"\n",
    "    return expm(\n",
    "        -1j\n",
    "        * (\n",
    "            alpha * tensor(identity(N_cav), sigmap())\n",
    "            + alpha.conjugate() * tensor(identity(N_cav), sigmam())\n",
    "        )\n",
    "        / 2\n",
    "    )"
   ]
  },
  {
   "cell_type": "code",
   "execution_count": 4,
   "id": "04f55cc7",
   "metadata": {},
   "outputs": [],
   "source": [
    "def qubit_cavity_unitary(beta):\n",
    "    return expm(\n",
    "        -1j\n",
    "        * (\n",
    "            beta\n",
    "            * (\n",
    "                tensor(destroy(N_cav), identity(2))\n",
    "                @ tensor(identity(N_cav), sigmap())\n",
    "            )\n",
    "            + beta.conjugate()\n",
    "            * (\n",
    "                tensor(create(N_cav), identity(2))\n",
    "                @ tensor(identity(N_cav), sigmam())\n",
    "            )\n",
    "        )\n",
    "        / 2\n",
    "    )"
   ]
  },
  {
   "cell_type": "code",
   "execution_count": 5,
   "id": "98b6f96a",
   "metadata": {},
   "outputs": [
    {
     "name": "stdout",
     "output_type": "stream",
     "text": [
      "Uq unitary check: True\n",
      "Uqc unitary check: True\n"
     ]
    }
   ],
   "source": [
    "alpha = 0.1 + 0.1j\n",
    "beta = 0.1 + 0.1j\n",
    "Uq = qubit_unitary(alpha)\n",
    "Uqc = qubit_cavity_unitary(beta)\n",
    "print(\n",
    "    \"Uq unitary check:\",\n",
    "    jnp.allclose(Uq.conj().T @ Uq, jnp.eye(Uq.shape[0]), atol=1e-7),\n",
    ")\n",
    "print(\n",
    "    \"Uqc unitary check:\",\n",
    "    jnp.allclose(Uqc.conj().T @ Uqc, jnp.eye(Uqc.shape[0]), atol=1e-7),\n",
    ")"
   ]
  },
  {
   "cell_type": "code",
   "execution_count": 6,
   "id": "dadf0eae",
   "metadata": {},
   "outputs": [
    {
     "data": {
      "text/plain": [
       "Array([[0.99875027+0.j        , 0.        -0.04997917j,\n",
       "        0.        +0.j        , 0.        +0.j        ,\n",
       "        0.        +0.j        , 0.        +0.j        ,\n",
       "        0.        +0.j        , 0.        +0.j        ,\n",
       "        0.        +0.j        , 0.        +0.j        ],\n",
       "       [0.        -0.04997917j, 0.99875027+0.j        ,\n",
       "        0.        +0.j        , 0.        +0.j        ,\n",
       "        0.        +0.j        , 0.        +0.j        ,\n",
       "        0.        +0.j        , 0.        +0.j        ,\n",
       "        0.        +0.j        , 0.        +0.j        ],\n",
       "       [0.        +0.j        , 0.        +0.j        ,\n",
       "        0.99875027+0.j        , 0.        -0.04997917j,\n",
       "        0.        +0.j        , 0.        +0.j        ,\n",
       "        0.        +0.j        , 0.        +0.j        ,\n",
       "        0.        +0.j        , 0.        +0.j        ],\n",
       "       [0.        +0.j        , 0.        +0.j        ,\n",
       "        0.        -0.04997917j, 0.99875027+0.j        ,\n",
       "        0.        +0.j        , 0.        +0.j        ,\n",
       "        0.        +0.j        , 0.        +0.j        ,\n",
       "        0.        +0.j        , 0.        +0.j        ],\n",
       "       [0.        +0.j        , 0.        +0.j        ,\n",
       "        0.        +0.j        , 0.        +0.j        ,\n",
       "        0.99875027+0.j        , 0.        -0.04997917j,\n",
       "        0.        +0.j        , 0.        +0.j        ,\n",
       "        0.        +0.j        , 0.        +0.j        ],\n",
       "       [0.        +0.j        , 0.        +0.j        ,\n",
       "        0.        +0.j        , 0.        +0.j        ,\n",
       "        0.        -0.04997917j, 0.99875027+0.j        ,\n",
       "        0.        +0.j        , 0.        +0.j        ,\n",
       "        0.        +0.j        , 0.        +0.j        ],\n",
       "       [0.        +0.j        , 0.        +0.j        ,\n",
       "        0.        +0.j        , 0.        +0.j        ,\n",
       "        0.        +0.j        , 0.        +0.j        ,\n",
       "        0.99875027+0.j        , 0.        -0.04997917j,\n",
       "        0.        +0.j        , 0.        +0.j        ],\n",
       "       [0.        +0.j        , 0.        +0.j        ,\n",
       "        0.        +0.j        , 0.        +0.j        ,\n",
       "        0.        +0.j        , 0.        +0.j        ,\n",
       "        0.        -0.04997917j, 0.99875027+0.j        ,\n",
       "        0.        +0.j        , 0.        +0.j        ],\n",
       "       [0.        +0.j        , 0.        +0.j        ,\n",
       "        0.        +0.j        , 0.        +0.j        ,\n",
       "        0.        +0.j        , 0.        +0.j        ,\n",
       "        0.        +0.j        , 0.        +0.j        ,\n",
       "        0.99875027+0.j        , 0.        -0.04997917j],\n",
       "       [0.        +0.j        , 0.        +0.j        ,\n",
       "        0.        +0.j        , 0.        +0.j        ,\n",
       "        0.        +0.j        , 0.        +0.j        ,\n",
       "        0.        +0.j        , 0.        +0.j        ,\n",
       "        0.        -0.04997917j, 0.99875027+0.j        ]], dtype=complex64)"
      ]
     },
     "execution_count": 6,
     "metadata": {},
     "output_type": "execute_result"
    }
   ],
   "source": [
    "qubit_unitary(0.1)"
   ]
  },
  {
   "cell_type": "code",
   "execution_count": 7,
   "id": "b21389c6",
   "metadata": {},
   "outputs": [],
   "source": [
    "from feedback_grape.utils.operators import create, destroy\n",
    "\n",
    "\n",
    "def povm_measure_operator(measurement_outcome, gamma, delta):\n",
    "    \"\"\"\n",
    "    POVM for the measurement of the cavity state.\n",
    "    returns Mm ( NOT the POVM element Em = Mm_dag @ Mm ), given measurement_outcome m, gamma and delta\n",
    "    \"\"\"\n",
    "    number_operator = tensor(create(N_cav) @ destroy(N_cav), identity(2))\n",
    "    angle = (gamma * number_operator) + delta / 2\n",
    "    meas_op = jnp.where(\n",
    "        measurement_outcome == 1,\n",
    "        cosm(angle),\n",
    "        sinm(angle),\n",
    "    )\n",
    "    return meas_op"
   ]
  },
  {
   "cell_type": "markdown",
   "id": "d13bbcb6",
   "metadata": {},
   "source": [
    "### defining initial (thermal) state"
   ]
  },
  {
   "cell_type": "code",
   "execution_count": 8,
   "id": "4b80af46",
   "metadata": {},
   "outputs": [],
   "source": [
    "# initial state is a thermal state coupled to a qubit in the ground state?\n",
    "n_average = 1\n",
    "# natural logarithm\n",
    "beta = jnp.log((1 / n_average) + 1)\n",
    "diags = jnp.exp(-beta * jnp.arange(N_cav))\n",
    "normalized_diags = diags / jnp.sum(diags, axis=0)\n",
    "rho_cav = jnp.diag(normalized_diags)"
   ]
  },
  {
   "cell_type": "code",
   "execution_count": 9,
   "id": "c025c141",
   "metadata": {},
   "outputs": [
    {
     "data": {
      "text/plain": [
       "(5, 5)"
      ]
     },
     "execution_count": 9,
     "metadata": {},
     "output_type": "execute_result"
    }
   ],
   "source": [
    "rho_cav.shape"
   ]
  },
  {
   "cell_type": "code",
   "execution_count": 10,
   "id": "0b1f2052",
   "metadata": {},
   "outputs": [],
   "source": [
    "rho0 = tensor(rho_cav, basis(2, 0) @ basis(2, 0).conj().T)"
   ]
  },
  {
   "cell_type": "code",
   "execution_count": 11,
   "id": "237bb0b9",
   "metadata": {},
   "outputs": [
    {
     "data": {
      "text/plain": [
       "Array(0.88501454, dtype=float64)"
      ]
     },
     "execution_count": 11,
     "metadata": {},
     "output_type": "execute_result"
    }
   ],
   "source": [
    "from feedback_grape.fgrape import _probability_of_a_measurement_outcome_given_a_certain_state\n",
    "_probability_of_a_measurement_outcome_given_a_certain_state(rho0, 1, povm_measure_operator, [0.1, -3*jnp.pi / 2])"
   ]
  },
  {
   "cell_type": "markdown",
   "id": "43a8ce4c",
   "metadata": {},
   "source": [
    "### defining target state"
   ]
  },
  {
   "cell_type": "code",
   "execution_count": 12,
   "id": "0b8272be",
   "metadata": {},
   "outputs": [
    {
     "data": {
      "text/plain": [
       "(10, 10)"
      ]
     },
     "execution_count": 12,
     "metadata": {},
     "output_type": "execute_result"
    }
   ],
   "source": [
    "psi_target = tensor((fock(N_cav, 1) + fock(N_cav, 2) + fock(N_cav, 3)) / jnp.sqrt(3), basis(2))\n",
    "\n",
    "rho_target = psi_target @ psi_target.conj().T\n",
    "rho_target.shape"
   ]
  },
  {
   "cell_type": "code",
   "execution_count": 13,
   "id": "882b04b4",
   "metadata": {},
   "outputs": [
    {
     "name": "stdout",
     "output_type": "stream",
     "text": [
      "0.3880207144091314\n"
     ]
    }
   ],
   "source": [
    "from feedback_grape.utils.fidelity import fidelity\n",
    "print(fidelity(U_final=rho0, C_target=rho_target, type=\"density\"))"
   ]
  },
  {
   "cell_type": "code",
   "execution_count": 14,
   "id": "18cb7d80",
   "metadata": {},
   "outputs": [],
   "source": [
    "num_time_steps = 5\n",
    "num_of_iterations = 1000\n",
    "learning_rate = 0.05\n",
    "# avg_photon_numer = 2 When testing kitten state"
   ]
  },
  {
   "cell_type": "markdown",
   "id": "cd6f7f95",
   "metadata": {},
   "source": [
    "### initialize random params"
   ]
  },
  {
   "cell_type": "code",
   "execution_count": 15,
   "id": "03a17ecd",
   "metadata": {},
   "outputs": [],
   "source": [
    "initial_params = {\n",
    "    \"POVM\": {\n",
    "        \"gamma\": 0.1,\n",
    "        \"delta\": -3 * jnp.pi / 2,\n",
    "    },\n",
    "    \"U_q\": {\n",
    "        \"alpha\": 0.1,\n",
    "    },\n",
    "    \"U_qc\": {\n",
    "        \"beta\": 0.1,\n",
    "    }\n",
    "}"
   ]
  },
  {
   "cell_type": "code",
   "execution_count": 16,
   "id": "fca21f29",
   "metadata": {},
   "outputs": [],
   "source": [
    "result = optimize_pulse_with_feedback(\n",
    "    U_0=rho0,\n",
    "    C_target=rho_target,\n",
    "    parameterized_gates=[\n",
    "        povm_measure_operator,\n",
    "        qubit_unitary,\n",
    "        qubit_cavity_unitary,\n",
    "    ],\n",
    "    measurement_indices=[0],\n",
    "    initial_params=initial_params,\n",
    "    num_time_steps=num_time_steps,\n",
    "    mode=\"nn\",\n",
    "    goal=\"fidelity\",\n",
    "    optimizer=\"adam\",\n",
    "    max_iter=num_of_iterations,\n",
    "    convergence_threshold=1e-20,\n",
    "    learning_rate=learning_rate,\n",
    "    type=\"density\",\n",
    ")"
   ]
  },
  {
   "cell_type": "code",
   "execution_count": 17,
   "id": "1cc4d0a4",
   "metadata": {},
   "outputs": [
    {
     "data": {
      "text/plain": [
       "FgResult(optimized_rnn_parameters={'params': {'Dense_0': {'bias': Array([-0.04864766, -0.5895216 , -0.23658964,  1.3815178 ], dtype=float32), 'kernel': Array([[ 2.3302475e-02, -8.3136708e-01, -5.9178478e-01,  2.1965246e-01],\n",
       "       [-7.6287679e-02,  1.0040702e-01, -2.6289669e-01,  3.6818293e-01],\n",
       "       [-2.8205773e-02, -1.0213173e-02, -2.2085173e+00, -1.9659805e-01],\n",
       "       [ 4.1897926e-02, -2.7047923e-01,  5.6667799e-01, -4.0673682e-01],\n",
       "       [ 5.2603137e-02,  4.3563852e-01,  9.1423565e-01,  4.3035230e-01],\n",
       "       [-3.4419898e-02,  4.6128404e-01,  2.8814490e+00,  1.6869918e+00],\n",
       "       [ 1.9498125e-02,  1.0452154e+00,  4.3470573e-01, -7.4966773e-03],\n",
       "       [-1.1244834e-01,  1.2251339e-01, -5.9187144e-01, -2.4661463e-01],\n",
       "       [ 3.7422164e-03,  2.5852570e-01, -1.3683445e+00, -3.2037761e-02],\n",
       "       [-2.0691637e-02,  2.8839245e-01, -2.2229508e-01,  2.4092446e-01],\n",
       "       [-6.8426713e-02,  2.3819156e-02, -9.9923432e-01,  5.1051599e-01],\n",
       "       [ 6.2144190e-02, -5.4471207e-01,  4.1342769e-02, -6.7567647e-01],\n",
       "       [-7.8834884e-02,  1.1487077e+00,  1.5125683e-01,  3.3210954e-01],\n",
       "       [-4.3553520e-02,  5.6946421e-01,  4.0100434e-01,  1.2047843e-02],\n",
       "       [-3.8264353e-02,  7.9501754e-01,  6.8282485e-01,  3.1110632e-01],\n",
       "       [ 5.8264609e-02, -1.5152079e+00, -6.1174399e-01,  9.4533587e-01],\n",
       "       [-1.1402055e-01,  1.4754732e-01, -2.0257910e-01, -8.5101563e-01],\n",
       "       [ 5.2456740e-02,  4.5419300e-01,  5.0920557e-02,  1.4024255e-01],\n",
       "       [ 3.6332306e-02, -2.3075922e-01,  5.3046954e-01, -2.1391784e-01],\n",
       "       [ 4.3670677e-02,  4.6077967e-02,  4.5634136e-02, -1.8587267e-01],\n",
       "       [-1.4898505e-02, -1.3431170e-02, -3.3774203e-01,  2.1102394e-01],\n",
       "       [ 1.5208825e-03,  2.6702389e-01,  1.7699820e+00, -2.7697775e-01],\n",
       "       [-9.7023584e-02,  9.0227038e-01,  1.1474063e-01,  9.8919868e-02],\n",
       "       [-3.5795994e-02, -4.8834980e-01,  1.9018775e-01, -1.9665061e+00],\n",
       "       [ 8.5276552e-03, -7.2605439e-02, -1.0382390e+00, -3.9964879e-01],\n",
       "       [ 4.0923629e-02, -8.3173841e-02,  8.9062971e-01, -3.6727440e-01],\n",
       "       [-2.3389529e-02,  1.6070139e-01, -5.2675325e-01,  4.3407121e-01],\n",
       "       [ 1.5331409e-02, -4.1150311e-01, -5.5961215e-01, -4.6596285e-02],\n",
       "       [ 1.0313625e-01,  2.0982973e-01,  1.0238830e+00,  4.0655810e-02],\n",
       "       [-9.6464595e-03, -3.1461653e-01, -2.1892102e-01, -4.1235302e-02],\n",
       "       [ 7.0236869e-02, -3.2922369e-01,  5.0808865e-01,  7.4864780e-03],\n",
       "       [ 1.2229839e-02,  3.2331613e-01,  5.0074518e-01,  4.7188202e-01]],      dtype=float32)}, 'GRUCell_0': {'candidate_gate': {'bias': Array([ 8.62183273e-02,  6.96981996e-02, -3.21500242e-01, -9.82983038e-02,\n",
       "        1.28532156e-01,  5.48756778e-01,  1.66520789e-01, -1.62826911e-01,\n",
       "       -3.01546603e-01,  8.45831037e-02,  1.09226070e-01, -1.80382147e-01,\n",
       "       -1.02129586e-01,  7.62509629e-02,  1.99461490e-01,  9.95955706e-01,\n",
       "       -1.85505509e-01,  3.80958011e-03, -2.18660772e-01,  7.33172696e-04,\n",
       "        3.26832756e-02,  1.39575079e-01, -5.18210270e-02, -6.88485920e-01,\n",
       "       -3.42537552e-01, -1.84699744e-01,  1.09917574e-01,  1.08296819e-01,\n",
       "       -3.36541295e-01,  1.71662390e-01,  7.52605796e-02,  2.46283859e-01],      dtype=float32), 'kernel': Array([[ 0.30457795,  0.03904722, -0.20835857, ..., -0.20351495,\n",
       "         0.10397752,  0.1600735 ],\n",
       "       [-0.40581286,  0.29376262, -0.15434062, ...,  0.22625493,\n",
       "        -0.05785771, -0.01654763],\n",
       "       [ 0.45256546, -0.31249684,  0.53738725, ...,  0.10298676,\n",
       "         0.655586  , -0.5275431 ],\n",
       "       ...,\n",
       "       [-0.01826831, -0.07469189, -0.10687447, ..., -0.24054088,\n",
       "        -0.18357126,  0.03417299],\n",
       "       [-0.5818108 ,  0.0099737 , -0.14803356, ..., -0.16788809,\n",
       "        -0.7387572 , -0.25726628],\n",
       "       [ 0.04559469,  0.19398649,  0.7276166 , ..., -0.27048907,\n",
       "        -0.58299285, -0.7169704 ]], dtype=float32)}, 'reset_gate': {'bias': Array([-0.72593427,  0.27395165,  0.68887615, -0.52440965,  0.16479915,\n",
       "        1.1162268 ,  0.80045146, -0.722403  , -0.39498186, -0.09568273,\n",
       "       -0.0113567 , -0.4758387 , -0.53957075, -0.59584445, -0.14512883,\n",
       "        0.86832607,  0.6715704 , -0.10207348, -0.3943783 ,  0.02419048,\n",
       "       -0.12427108,  0.5953666 , -1.1286683 ,  1.3987149 , -0.14744128,\n",
       "        0.35480422,  0.00443649, -0.8341155 ,  0.73748046, -0.6964963 ,\n",
       "       -0.15571287,  0.27464595], dtype=float32), 'kernel': Array([[-0.733701  ,  0.5148767 ,  0.76176643, ..., -0.5898725 ,\n",
       "        -0.40973586,  0.3948823 ],\n",
       "       [-0.8107215 ,  0.03794038,  0.3754906 , ..., -0.5991325 ,\n",
       "         0.2046493 ,  0.44281945],\n",
       "       [-0.8373306 ,  0.47109982, -0.18343145, ...,  0.18991527,\n",
       "        -0.35910568, -0.5774844 ],\n",
       "       ...,\n",
       "       [-0.36943874, -0.36023065,  0.11544999, ...,  0.5680776 ,\n",
       "        -0.09667061,  0.14675283],\n",
       "       [ 0.2100113 , -0.42996588, -0.09465981, ..., -0.06266593,\n",
       "         0.03944734,  0.8470232 ],\n",
       "       [-0.21393988,  0.51763403,  0.6188759 , ...,  0.00470564,\n",
       "         0.14108323,  0.05686499]], dtype=float32)}, 'update_gate': {'bias': Array([ 1.1862352 ,  1.4472471 ,  0.132161  ,  1.533362  ,  1.4997925 ,\n",
       "       -0.4474201 , -1.1373323 ,  1.4861546 ,  0.61590147,  1.2954644 ,\n",
       "        1.3942724 ,  0.8414189 ,  0.8324483 ,  1.2803934 ,  1.589062  ,\n",
       "        0.2241189 ,  1.5208709 ,  1.8063743 ,  1.624538  ,  1.5613636 ,\n",
       "        1.4668789 ,  1.2482865 ,  0.7664188 , -0.59576553,  0.7808042 ,\n",
       "        1.1080159 ,  1.1707649 ,  1.1654737 ,  0.89774454,  1.3320901 ,\n",
       "        1.3668119 ,  0.8394292 ], dtype=float32), 'kernel': Array([[ 0.8522681 ,  1.2021534 ,  0.02075415, ...,  1.1091322 ,\n",
       "         1.575858  ,  0.91174495],\n",
       "       [ 0.61204946,  0.4462205 ,  0.5443592 , ...,  0.8248829 ,\n",
       "         0.55409503,  0.08552612],\n",
       "       [ 0.78827596,  1.2068434 ,  1.4929751 , ...,  1.1876291 ,\n",
       "        -0.04395812,  0.7754278 ],\n",
       "       ...,\n",
       "       [ 0.10254636, -0.26286256,  0.2731421 , ..., -0.2565671 ,\n",
       "        -0.829096  ,  0.12720646],\n",
       "       [ 0.79676104, -0.23747359, -1.0347275 , ...,  0.10512402,\n",
       "        -0.22577412, -0.04121059],\n",
       "       [ 1.0105023 ,  0.5908291 , -0.09741339, ...,  0.31421226,\n",
       "         0.49317545,  0.46840885]], dtype=float32)}}}}, iterations=1000, final_state=Array([[ 0.19954092+3.36102673e-18j, -0.00685729+1.58738161e-02j,\n",
       "        -0.00049886-1.08464208e-02j,  0.01434448+1.16331916e-02j,\n",
       "        -0.01856681-2.17217040e-02j,  0.00389748+8.35249777e-02j,\n",
       "        -0.01299816-1.69599174e-02j, -0.00686621-4.27383608e-02j,\n",
       "        -0.01766353+9.40029809e-03j, -0.00052275+4.22655683e-02j],\n",
       "       [-0.00685729-1.58738161e-02j,  0.0286443 +1.30104261e-18j,\n",
       "         0.00580489-2.64333651e-02j,  0.0029082 -8.38306370e-03j,\n",
       "        -0.00067817+3.03538335e-02j, -0.00776838-9.23545142e-03j,\n",
       "        -0.002813  +1.36807258e-02j, -0.00375088+4.50492575e-03j,\n",
       "         0.00305721+1.80765447e-02j, -0.00652805+6.74898741e-03j],\n",
       "       [-0.00049886+1.08464208e-02j,  0.00580489+2.64333651e-02j,\n",
       "         0.21539058-1.24683250e-17j,  0.02428814-1.14767795e-02j,\n",
       "         0.14637151-2.60248974e-02j, -0.00958226-2.90006165e-02j,\n",
       "         0.1332822 -3.68257816e-02j, -0.0112844 +1.35837694e-03j,\n",
       "        -0.07998331-1.10393937e-02j,  0.03447493-1.80870642e-02j],\n",
       "       [ 0.01434448-1.16331916e-02j,  0.0029082 +8.38306370e-03j,\n",
       "         0.02428814+1.14767795e-02j,  0.01054428-4.66206934e-18j,\n",
       "         0.01640473+2.94171235e-03j,  0.00665655-5.20107572e-03j,\n",
       "         0.00604914+4.14978073e-03j, -0.00513581-1.15378944e-03j,\n",
       "        -0.01007037+2.14514405e-03j,  0.00634598+7.34069915e-03j],\n",
       "       [-0.01856681+2.17217040e-02j, -0.00067817-3.03538335e-02j,\n",
       "         0.14637151+2.60248974e-02j,  0.01640473-2.94171235e-03j,\n",
       "         0.23141782-1.34983170e-17j, -0.00725043-1.74479374e-02j,\n",
       "         0.14766017-2.58496325e-02j, -0.00530287+6.85571500e-03j,\n",
       "        -0.04683937-3.28661209e-02j,  0.04355134+1.39281312e-02j],\n",
       "       [ 0.00389748-8.35249777e-02j, -0.00776838+9.23545142e-03j,\n",
       "        -0.00958226+2.90006165e-02j,  0.00665655+5.20107572e-03j,\n",
       "        -0.00725043+1.74479374e-02j,  0.0574348 +1.84314369e-18j,\n",
       "        -0.00719334-4.09331615e-03j, -0.02002212+2.23567312e-03j,\n",
       "         0.00876052-9.77597800e-03j,  0.01627563-1.26575557e-03j],\n",
       "       [-0.01299816+1.69599174e-02j, -0.002813  -1.36807258e-02j,\n",
       "         0.1332822 +3.68257816e-02j,  0.00604914-4.14978073e-03j,\n",
       "         0.14766017+2.58496325e-02j, -0.00719334+4.09331615e-03j,\n",
       "         0.14652073-1.38777878e-17j, -0.00729065+4.83149250e-04j,\n",
       "        -0.02714192-2.27624416e-02j,  0.0385847 -1.68622066e-03j],\n",
       "       [-0.00686621+4.27383608e-02j, -0.00375088-4.50492575e-03j,\n",
       "        -0.0112844 -1.35837694e-03j, -0.00513581+1.15378944e-03j,\n",
       "        -0.00530287-6.85571500e-03j, -0.02002212-2.23567312e-03j,\n",
       "        -0.00729065-4.83149250e-04j,  0.01223287-6.39679282e-18j,\n",
       "         0.00441071-8.01946732e-03j, -0.01027528-1.99196628e-03j],\n",
       "       [-0.01766353-9.40029809e-03j,  0.00305721-1.80765447e-02j,\n",
       "        -0.07998331+1.10393937e-02j, -0.01007037-2.14514405e-03j,\n",
       "        -0.04683937+3.28661209e-02j,  0.00876052+9.77597800e-03j,\n",
       "        -0.02714192+2.27624416e-02j,  0.00441071+8.01946732e-03j,\n",
       "         0.06584782+8.67361738e-19j, -0.00228239+3.97792101e-03j],\n",
       "       [-0.00052275-4.22655683e-02j, -0.00652805-6.74898741e-03j,\n",
       "         0.03447493+1.80870642e-02j,  0.00634598-7.34069915e-03j,\n",
       "         0.04355134-1.39281312e-02j,  0.01627563+1.26575557e-03j,\n",
       "         0.0385847 +1.68622066e-03j, -0.01027528+1.99196628e-03j,\n",
       "        -0.00228239-3.97792101e-03j,  0.03242589+4.33680869e-19j]],      dtype=complex128), arr_of_povm_params=[[[0.1, -4.71238898038469], [0.1], [0.1]], [[-0.0013149690418973042, -0.6410228757900025], [1.5617688431193602], [3.9556023084849183]], [[-0.006406778098802822, -2.5344709194790607], [-3.027766327958906], [2.891238288431566]], [[-0.00495802216337226, -1.9072736255714553], [-2.6591482420471984], [1.1002029782573488]], [[-0.011580603268558712, -4.422118431958465], [-1.917912925484398], [-0.10146334077449382]]], final_purity=None, final_fidelity=Array(0.69474811, dtype=float64))"
      ]
     },
     "execution_count": 17,
     "metadata": {},
     "output_type": "execute_result"
    }
   ],
   "source": [
    "result"
   ]
  },
  {
   "cell_type": "code",
   "execution_count": 18,
   "id": "538ba2b6",
   "metadata": {},
   "outputs": [
    {
     "name": "stdout",
     "output_type": "stream",
     "text": [
      "None\n"
     ]
    }
   ],
   "source": [
    "print(result.final_purity)"
   ]
  },
  {
   "cell_type": "code",
   "execution_count": 19,
   "id": "c19912da",
   "metadata": {},
   "outputs": [
    {
     "name": "stdout",
     "output_type": "stream",
     "text": [
      "0.6947481129480583\n"
     ]
    }
   ],
   "source": [
    "print(result.final_fidelity)"
   ]
  },
  {
   "cell_type": "code",
   "execution_count": 20,
   "id": "050dc029",
   "metadata": {},
   "outputs": [
    {
     "name": "stdout",
     "output_type": "stream",
     "text": [
      "1000\n"
     ]
    }
   ],
   "source": [
    "print(result.iterations)"
   ]
  },
  {
   "cell_type": "code",
   "execution_count": 21,
   "id": "7ba69f49",
   "metadata": {},
   "outputs": [
    {
     "name": "stdout",
     "output_type": "stream",
     "text": [
      "[[[0.1, -4.71238898038469], [0.1], [0.1]], [[-0.0013149690418973042, -0.6410228757900025], [1.5617688431193602], [3.9556023084849183]], [[-0.006406778098802822, -2.5344709194790607], [-3.027766327958906], [2.891238288431566]], [[-0.00495802216337226, -1.9072736255714553], [-2.6591482420471984], [1.1002029782573488]], [[-0.011580603268558712, -4.422118431958465], [-1.917912925484398], [-0.10146334077449382]]]\n"
     ]
    }
   ],
   "source": [
    "print(result.arr_of_povm_params)"
   ]
  },
  {
   "cell_type": "code",
   "execution_count": 22,
   "id": "cb6e56d7",
   "metadata": {},
   "outputs": [
    {
     "name": "stdout",
     "output_type": "stream",
     "text": [
      "[[-0.0013149690418973042, -0.6410228757900025], [1.5617688431193602], [3.9556023084849183]]\n"
     ]
    }
   ],
   "source": [
    "print(result.arr_of_povm_params[1])"
   ]
  },
  {
   "cell_type": "code",
   "execution_count": null,
   "id": "f64160f5",
   "metadata": {},
   "outputs": [],
   "source": []
  }
 ],
 "metadata": {
  "kernelspec": {
   "display_name": "Python 3",
   "language": "python",
   "name": "python3"
  },
  "language_info": {
   "codemirror_mode": {
    "name": "ipython",
    "version": 3
   },
   "file_extension": ".py",
   "mimetype": "text/x-python",
   "name": "python",
   "nbconvert_exporter": "python",
   "pygments_lexer": "ipython3",
   "version": "3.11.11"
  }
 },
 "nbformat": 4,
 "nbformat_minor": 5
}

{
 "cells": [
  {
   "cell_type": "code",
   "execution_count": 1,
   "id": "edefb299",
   "metadata": {},
   "outputs": [],
   "source": [
    "# ruff: noqa\n",
    "import os\n",
    "\n",
    "os.sys.path.append(\"..\")\n",
    "from feedback_grape.fgrape import optimize_pulse_with_feedback\n",
    "from feedback_grape.utils.operators import (\n",
    "    sigmap,\n",
    "    sigmam,\n",
    "    create,\n",
    "    destroy,\n",
    "    identity,\n",
    "    cosm,\n",
    "    sinm,\n",
    ")\n",
    "from feedback_grape.utils.states import basis, fock\n",
    "from feedback_grape.utils.tensor import tensor\n",
    "import jax.numpy as jnp\n",
    "from jax.scipy.linalg import expm"
   ]
  },
  {
   "cell_type": "markdown",
   "id": "8ecde886",
   "metadata": {},
   "source": [
    "## defining parameterized operations that are repeated num_time_steps times"
   ]
  },
  {
   "cell_type": "code",
   "execution_count": 2,
   "id": "b9a9cb9b",
   "metadata": {},
   "outputs": [],
   "source": [
    "N_cav = 5"
   ]
  },
  {
   "cell_type": "code",
   "execution_count": 3,
   "id": "1d1d8650",
   "metadata": {},
   "outputs": [],
   "source": [
    "def qubit_unitary(alpha):\n",
    "    \"\"\"\n",
    "    TODO: see if alpha, can be sth elser other than scalar, and if the algo understands this\n",
    "    see if there can be multiple params like alpha and beta input\n",
    "    \"\"\"\n",
    "    return expm(\n",
    "        -1j\n",
    "        * (\n",
    "            alpha * tensor(identity(N_cav), sigmap())\n",
    "            + alpha.conjugate() * tensor(identity(N_cav), sigmam())\n",
    "        )\n",
    "        / 2\n",
    "    )"
   ]
  },
  {
   "cell_type": "code",
   "execution_count": 4,
   "id": "04f55cc7",
   "metadata": {},
   "outputs": [],
   "source": [
    "def qubit_cavity_unitary(beta):\n",
    "    return expm(\n",
    "        -1j\n",
    "        * (\n",
    "            beta\n",
    "            * (\n",
    "                tensor(destroy(N_cav), identity(2))\n",
    "                @ tensor(identity(N_cav), sigmap())\n",
    "            )\n",
    "            + beta.conjugate()\n",
    "            * (\n",
    "                tensor(create(N_cav), identity(2))\n",
    "                @ tensor(identity(N_cav), sigmam())\n",
    "            )\n",
    "        )\n",
    "        / 2\n",
    "    )"
   ]
  },
  {
   "cell_type": "code",
   "execution_count": 5,
   "id": "98b6f96a",
   "metadata": {},
   "outputs": [
    {
     "name": "stdout",
     "output_type": "stream",
     "text": [
      "Uq unitary check: True\n",
      "Uqc unitary check: True\n"
     ]
    }
   ],
   "source": [
    "alpha = 0.1 + 0.1j\n",
    "beta = 0.1 + 0.1j\n",
    "Uq = qubit_unitary(alpha)\n",
    "Uqc = qubit_cavity_unitary(beta)\n",
    "print(\n",
    "    \"Uq unitary check:\",\n",
    "    jnp.allclose(Uq.conj().T @ Uq, jnp.eye(Uq.shape[0]), atol=1e-7),\n",
    ")\n",
    "print(\n",
    "    \"Uqc unitary check:\",\n",
    "    jnp.allclose(Uqc.conj().T @ Uqc, jnp.eye(Uqc.shape[0]), atol=1e-7),\n",
    ")"
   ]
  },
  {
   "cell_type": "code",
   "execution_count": 6,
   "id": "dadf0eae",
   "metadata": {},
   "outputs": [
    {
     "data": {
      "text/plain": [
       "Array([[0.99875027+0.j        , 0.        -0.04997917j,\n",
       "        0.        +0.j        , 0.        +0.j        ,\n",
       "        0.        +0.j        , 0.        +0.j        ,\n",
       "        0.        +0.j        , 0.        +0.j        ,\n",
       "        0.        +0.j        , 0.        +0.j        ],\n",
       "       [0.        -0.04997917j, 0.99875027+0.j        ,\n",
       "        0.        +0.j        , 0.        +0.j        ,\n",
       "        0.        +0.j        , 0.        +0.j        ,\n",
       "        0.        +0.j        , 0.        +0.j        ,\n",
       "        0.        +0.j        , 0.        +0.j        ],\n",
       "       [0.        +0.j        , 0.        +0.j        ,\n",
       "        0.99875027+0.j        , 0.        -0.04997917j,\n",
       "        0.        +0.j        , 0.        +0.j        ,\n",
       "        0.        +0.j        , 0.        +0.j        ,\n",
       "        0.        +0.j        , 0.        +0.j        ],\n",
       "       [0.        +0.j        , 0.        +0.j        ,\n",
       "        0.        -0.04997917j, 0.99875027+0.j        ,\n",
       "        0.        +0.j        , 0.        +0.j        ,\n",
       "        0.        +0.j        , 0.        +0.j        ,\n",
       "        0.        +0.j        , 0.        +0.j        ],\n",
       "       [0.        +0.j        , 0.        +0.j        ,\n",
       "        0.        +0.j        , 0.        +0.j        ,\n",
       "        0.99875027+0.j        , 0.        -0.04997917j,\n",
       "        0.        +0.j        , 0.        +0.j        ,\n",
       "        0.        +0.j        , 0.        +0.j        ],\n",
       "       [0.        +0.j        , 0.        +0.j        ,\n",
       "        0.        +0.j        , 0.        +0.j        ,\n",
       "        0.        -0.04997917j, 0.99875027+0.j        ,\n",
       "        0.        +0.j        , 0.        +0.j        ,\n",
       "        0.        +0.j        , 0.        +0.j        ],\n",
       "       [0.        +0.j        , 0.        +0.j        ,\n",
       "        0.        +0.j        , 0.        +0.j        ,\n",
       "        0.        +0.j        , 0.        +0.j        ,\n",
       "        0.99875027+0.j        , 0.        -0.04997917j,\n",
       "        0.        +0.j        , 0.        +0.j        ],\n",
       "       [0.        +0.j        , 0.        +0.j        ,\n",
       "        0.        +0.j        , 0.        +0.j        ,\n",
       "        0.        +0.j        , 0.        +0.j        ,\n",
       "        0.        -0.04997917j, 0.99875027+0.j        ,\n",
       "        0.        +0.j        , 0.        +0.j        ],\n",
       "       [0.        +0.j        , 0.        +0.j        ,\n",
       "        0.        +0.j        , 0.        +0.j        ,\n",
       "        0.        +0.j        , 0.        +0.j        ,\n",
       "        0.        +0.j        , 0.        +0.j        ,\n",
       "        0.99875027+0.j        , 0.        -0.04997917j],\n",
       "       [0.        +0.j        , 0.        +0.j        ,\n",
       "        0.        +0.j        , 0.        +0.j        ,\n",
       "        0.        +0.j        , 0.        +0.j        ,\n",
       "        0.        +0.j        , 0.        +0.j        ,\n",
       "        0.        -0.04997917j, 0.99875027+0.j        ]], dtype=complex64)"
      ]
     },
     "execution_count": 6,
     "metadata": {},
     "output_type": "execute_result"
    }
   ],
   "source": [
    "qubit_unitary(0.1)"
   ]
  },
  {
   "cell_type": "code",
   "execution_count": 7,
   "id": "b21389c6",
   "metadata": {},
   "outputs": [],
   "source": [
    "from feedback_grape.utils.operators import create, destroy\n",
    "\n",
    "\n",
    "def povm_measure_operator(measurement_outcome, gamma, delta):\n",
    "    \"\"\"\n",
    "    POVM for the measurement of the cavity state.\n",
    "    returns Mm ( NOT the POVM element Em = Mm_dag @ Mm ), given measurement_outcome m, gamma and delta\n",
    "    \"\"\"\n",
    "    number_operator = tensor(create(N_cav) @ destroy(N_cav), identity(2))\n",
    "    angle = (gamma * number_operator) + delta / 2\n",
    "    meas_op = jnp.where(\n",
    "        measurement_outcome == 1,\n",
    "        cosm(angle),\n",
    "        sinm(angle),\n",
    "    )\n",
    "    return meas_op"
   ]
  },
  {
   "cell_type": "markdown",
   "id": "d13bbcb6",
   "metadata": {},
   "source": [
    "### defining initial (thermal) state"
   ]
  },
  {
   "cell_type": "code",
   "execution_count": 8,
   "id": "4b80af46",
   "metadata": {},
   "outputs": [],
   "source": [
    "# initial state is a thermal state coupled to a qubit in the ground state?\n",
    "n_average = 1\n",
    "# natural logarithm\n",
    "beta = jnp.log((1 / n_average) + 1)\n",
    "diags = jnp.exp(-beta * jnp.arange(N_cav))\n",
    "normalized_diags = diags / jnp.sum(diags, axis=0)\n",
    "rho_cav = jnp.diag(normalized_diags)"
   ]
  },
  {
   "cell_type": "code",
   "execution_count": 9,
   "id": "c025c141",
   "metadata": {},
   "outputs": [
    {
     "data": {
      "text/plain": [
       "(5, 5)"
      ]
     },
     "execution_count": 9,
     "metadata": {},
     "output_type": "execute_result"
    }
   ],
   "source": [
    "rho_cav.shape"
   ]
  },
  {
   "cell_type": "code",
   "execution_count": 10,
   "id": "0b1f2052",
   "metadata": {},
   "outputs": [],
   "source": [
    "rho0 = tensor(rho_cav, basis(2, 0) @ basis(2, 0).conj().T)"
   ]
  },
  {
   "cell_type": "code",
   "execution_count": 11,
   "id": "237bb0b9",
   "metadata": {},
   "outputs": [
    {
     "data": {
      "text/plain": [
       "Array(0.88501458, dtype=float64)"
      ]
     },
     "execution_count": 11,
     "metadata": {},
     "output_type": "execute_result"
    }
   ],
   "source": [
    "from feedback_grape.utils.povm import (\n",
    "    _probability_of_a_measurement_outcome_given_a_certain_state,\n",
    ")\n",
    "\n",
    "_probability_of_a_measurement_outcome_given_a_certain_state(\n",
    "    rho0, 1, povm_measure_operator, [0.1, -3 * jnp.pi / 2]\n",
    ")"
   ]
  },
  {
   "cell_type": "markdown",
   "id": "43a8ce4c",
   "metadata": {},
   "source": [
    "### defining target state"
   ]
  },
  {
   "cell_type": "code",
   "execution_count": 12,
   "id": "0b8272be",
   "metadata": {},
   "outputs": [
    {
     "data": {
      "text/plain": [
       "(10, 10)"
      ]
     },
     "execution_count": 12,
     "metadata": {},
     "output_type": "execute_result"
    }
   ],
   "source": [
    "psi_target = tensor(\n",
    "    (fock(N_cav, 1) + fock(N_cav, 2) + fock(N_cav, 3)) / jnp.sqrt(3), basis(2)\n",
    ")\n",
    "\n",
    "rho_target = psi_target @ psi_target.conj().T\n",
    "rho_target.shape"
   ]
  },
  {
   "cell_type": "code",
   "execution_count": 13,
   "id": "882b04b4",
   "metadata": {},
   "outputs": [
    {
     "name": "stdout",
     "output_type": "stream",
     "text": [
      "0.3880207144091314\n"
     ]
    }
   ],
   "source": [
    "from feedback_grape.utils.fidelity import fidelity\n",
    "\n",
    "print(fidelity(U_final=rho0, C_target=rho_target, type=\"density\"))"
   ]
  },
  {
   "cell_type": "markdown",
   "id": "cd6f7f95",
   "metadata": {},
   "source": [
    "### initialize random params"
   ]
  },
  {
   "cell_type": "code",
   "execution_count": 30,
   "id": "fca21f29",
   "metadata": {},
   "outputs": [],
   "source": [
    "num_time_steps = 5\n",
    "num_of_iterations = 1000\n",
    "learning_rate = 0.05\n",
    "# avg_photon_numer = 2 When testing kitten state\n",
    "\n",
    "\n",
    "initial_params = {\n",
    "    \"POVM\": [jnp.pi / 3, jnp.pi / 3],\n",
    "    \"U_q\": [jnp.pi / 3],\n",
    "    \"U_qc\": [jnp.pi / 3],\n",
    "}\n",
    "\n",
    "\n",
    "result = optimize_pulse_with_feedback(\n",
    "    U_0=rho0,\n",
    "    C_target=rho_target,\n",
    "    parameterized_gates=[\n",
    "        povm_measure_operator,\n",
    "        qubit_unitary,\n",
    "        qubit_cavity_unitary,\n",
    "    ],\n",
    "    measurement_indices=[0],\n",
    "    initial_params=initial_params,\n",
    "    num_time_steps=num_time_steps,\n",
    "    mode=\"nn\",\n",
    "    goal=\"fidelity\",\n",
    "    optimizer=\"adam\",\n",
    "    max_iter=num_of_iterations,\n",
    "    convergence_threshold=1e-20,\n",
    "    learning_rate=learning_rate,\n",
    "    type=\"density\",\n",
    ")"
   ]
  },
  {
   "cell_type": "code",
   "execution_count": 15,
   "id": "1cc4d0a4",
   "metadata": {},
   "outputs": [
    {
     "data": {
      "text/plain": [
       "FgResult(optimized_rnn_parameters=[[Array([-1.02442335e-03, -1.88454566e+00,  2.04125268e+00,  4.67876749e+00],      dtype=float64), Array([-2.39923276, -0.29054238,  0.43072842,  2.07843927], dtype=float64), Array([0., 0., 0., 0.], dtype=float32), Array([0., 0., 0., 0.], dtype=float32), Array([0., 0., 0., 0.], dtype=float32), Array([0., 0., 0., 0.], dtype=float32), Array([0., 0., 0., 0.], dtype=float32), Array([0., 0., 0., 0.], dtype=float32), Array([0., 0., 0., 0.], dtype=float32), Array([0., 0., 0., 0.], dtype=float32), Array([0., 0., 0., 0.], dtype=float32), Array([0., 0., 0., 0.], dtype=float32), Array([0., 0., 0., 0.], dtype=float32), Array([0., 0., 0., 0.], dtype=float32), Array([0., 0., 0., 0.], dtype=float32), Array([0., 0., 0., 0.], dtype=float32)], [Array([ 2.19806671e-09, -2.51327412e+00, -2.12297790e+00,  4.89741224e+00],      dtype=float64), Array([-2.39923276, -0.29054238,  0.43072842,  2.07843927], dtype=float64), Array([-0.4773859 , -2.20922398,  1.04214091, -0.38718841], dtype=float64), Array([ 2.2958313 , -0.29402536, -1.6428162 , -1.85833117], dtype=float64), Array([0., 0., 0., 0.], dtype=float32), Array([0., 0., 0., 0.], dtype=float32), Array([0., 0., 0., 0.], dtype=float32), Array([0., 0., 0., 0.], dtype=float32), Array([0., 0., 0., 0.], dtype=float32), Array([0., 0., 0., 0.], dtype=float32), Array([0., 0., 0., 0.], dtype=float32), Array([0., 0., 0., 0.], dtype=float32), Array([0., 0., 0., 0.], dtype=float32), Array([0., 0., 0., 0.], dtype=float32), Array([0., 0., 0., 0.], dtype=float32), Array([0., 0., 0., 0.], dtype=float32)], [Array([-5.55298019e-16, -2.51327412e+00,  2.67751169e+00, -4.09199348e-01],      dtype=float64), Array([-2.39923276, -0.29054238,  0.43072842,  2.07843927], dtype=float64), Array([-0.4773859 , -2.20922398,  1.04214091, -0.38718841], dtype=float64), Array([ 2.2958313 , -0.29402536, -1.6428162 , -1.85833117], dtype=float64), Array([-2.12277184, -0.97062874,  0.67618105, -3.00817255], dtype=float64), Array([ 0.84408699, -2.84525319,  2.11676531,  1.15871455], dtype=float64), Array([ 0.10061492,  2.09547855, -2.33811552,  0.95222944], dtype=float64), Array([ 2.1620877 , -2.85625697, -1.72797256, -2.73704597], dtype=float64), Array([0., 0., 0., 0.], dtype=float32), Array([0., 0., 0., 0.], dtype=float32), Array([0., 0., 0., 0.], dtype=float32), Array([0., 0., 0., 0.], dtype=float32), Array([0., 0., 0., 0.], dtype=float32), Array([0., 0., 0., 0.], dtype=float32), Array([0., 0., 0., 0.], dtype=float32), Array([0., 0., 0., 0.], dtype=float32)], [Array([ 1.69959075e-03, -1.88563471e+00,  1.08930716e+00,  2.11890439e+00],      dtype=float64), Array([-2.39923276, -0.29054238,  0.43072842,  2.07843927], dtype=float64), Array([-0.4773859 , -2.20922398,  1.04214091, -0.38718841], dtype=float64), Array([ 2.2958313 , -0.29402536, -1.6428162 , -1.85833117], dtype=float64), Array([-2.12277184, -0.97062874,  0.67618105, -3.00817255], dtype=float64), Array([ 0.84408699, -2.84525319,  2.11676531,  1.15871455], dtype=float64), Array([ 0.10061492,  2.09547855, -2.33811552,  0.95222944], dtype=float64), Array([ 2.1620877 , -2.85625697, -1.72797256, -2.73704597], dtype=float64), Array([ 2.5881044 ,  2.66409672,  0.33320627, -1.53017067], dtype=float64), Array([ 0.98717851, -2.93227748,  0.77400328, -0.39505749], dtype=float64), Array([-2.57995869, -1.46391051,  2.58257466, -1.20270998], dtype=float64), Array([-0.29865376,  2.63398835,  1.93156959,  1.63668566], dtype=float64), Array([-1.23294735,  0.90749493, -2.54598424, -1.63548627], dtype=float64), Array([ 2.00202829,  0.43845816,  1.12731329, -2.14172899], dtype=float64), Array([-1.7501032 , -0.37134075,  1.41282052,  1.92555275], dtype=float64), Array([ 0.17451411,  1.77348241, -1.25778041, -1.41846285], dtype=float64)]], iterations=1000, final_state=Array([[ 4.47771522e-02-1.82145965e-17j,  2.26688438e-03+4.05011792e-03j,\n",
       "         2.25207536e-02-1.41058069e-02j, -1.20837030e-02+2.68392881e-02j,\n",
       "         2.91458279e-02-7.33234680e-03j, -2.05209054e-02-1.89225788e-02j,\n",
       "         3.40574494e-02+1.37445638e-02j,  1.13102848e-02+3.45612007e-04j,\n",
       "        -7.78587628e-03-2.73250372e-02j, -1.47545518e-03-8.15649053e-03j],\n",
       "       [ 2.26688438e-03-4.05011792e-03j,  2.81091831e-02-7.80625564e-18j,\n",
       "        -1.17341292e-02-4.26676196e-03j,  1.48350392e-02+7.98634399e-03j,\n",
       "        -2.10028649e-02-3.26623020e-03j, -7.80413930e-04+2.08353218e-03j,\n",
       "         2.47083018e-03-1.40958002e-02j,  4.60078048e-03-2.73283163e-03j,\n",
       "         8.79909616e-03-9.65088710e-03j,  9.93873965e-04+3.84568740e-05j],\n",
       "       [ 2.25207536e-02+1.41058069e-02j, -1.17341292e-02+4.26676196e-03j,\n",
       "         1.35434411e-01-1.62630326e-17j, -1.08907064e-04+2.15820672e-02j,\n",
       "         1.94439609e-01+8.85647909e-04j,  1.62854981e-02-1.17645404e-02j,\n",
       "         1.19246222e-01+6.42692213e-02j, -6.32505511e-03+8.52271795e-03j,\n",
       "         2.82976213e-02-1.18604246e-01j,  7.76847537e-02-5.11903505e-02j],\n",
       "       [-1.20837030e-02-2.68392881e-02j,  1.48350392e-02-7.98634399e-03j,\n",
       "        -1.08907064e-04-2.15820672e-02j,  3.31395337e-02+2.60208521e-18j,\n",
       "         6.80038850e-03-3.27506063e-02j,  6.12710823e-04+1.41531656e-02j,\n",
       "         2.30300153e-02-3.07707078e-02j, -7.77827788e-03-7.63328140e-03j,\n",
       "        -1.50099951e-02-1.42920170e-02j,  1.71255055e-03-1.74788885e-02j],\n",
       "       [ 2.91458279e-02+7.33234680e-03j, -2.10028649e-02+3.26623020e-03j,\n",
       "         1.94439609e-01-8.85647909e-04j,  6.80038850e-03+3.27506063e-02j,\n",
       "         2.86374114e-01-4.25007252e-17j,  1.97014883e-02-7.53747413e-03j,\n",
       "         1.72756265e-01+8.66847855e-02j, -1.17246050e-02+4.06090703e-03j,\n",
       "         3.33373182e-02-1.66815794e-01j,  1.12540010e-01-7.37610261e-02j],\n",
       "       [-2.05209054e-02+1.89225788e-02j, -7.80413930e-04-2.08353218e-03j,\n",
       "         1.62854981e-02+1.17645404e-02j,  6.12710823e-04-1.41531656e-02j,\n",
       "         1.97014883e-02+7.53747413e-03j,  2.73585866e-02+2.16840434e-19j,\n",
       "        -9.32312481e-03+2.12404671e-02j, -8.73312510e-03+2.65671958e-04j,\n",
       "         1.37640675e-02-5.44442968e-03j,  2.22382689e-02-1.22874925e-02j],\n",
       "       [ 3.40574494e-02-1.37445638e-02j,  2.47083018e-03+1.40958002e-02j,\n",
       "         1.19246222e-01-6.42692213e-02j,  2.30300153e-02+3.07707078e-02j,\n",
       "         1.72756265e-01-8.66847855e-02j, -9.32312481e-03-2.12404671e-02j,\n",
       "         1.84087668e-01+3.12250226e-17j, -1.09092171e-02+1.36529470e-02j,\n",
       "        -2.76384464e-03-1.27415633e-01j,  3.04378099e-02-8.39782519e-02j],\n",
       "       [ 1.13102848e-02-3.45612007e-04j,  4.60078048e-03+2.73283163e-03j,\n",
       "        -6.32505511e-03-8.52271795e-03j, -7.77827788e-03+7.63328140e-03j,\n",
       "        -1.17246050e-02-4.06090703e-03j, -8.73312510e-03-2.65671958e-04j,\n",
       "        -1.09092171e-02-1.36529470e-02j,  2.48819423e-02-1.08420217e-17j,\n",
       "        -1.83122357e-02-3.48118212e-03j,  4.87440326e-03+7.32346807e-03j],\n",
       "       [-7.78587628e-03+2.73250372e-02j,  8.79909616e-03+9.65088710e-03j,\n",
       "         2.82976213e-02+1.18604246e-01j, -1.50099951e-02+1.42920170e-02j,\n",
       "         3.33373182e-02+1.66815794e-01j,  1.37640675e-02+5.44442968e-03j,\n",
       "        -2.76384464e-03+1.27415633e-01j, -1.83122357e-02+3.48118212e-03j,\n",
       "         1.46566451e-01+1.38777878e-17j,  5.55340412e-02+5.46101186e-02j],\n",
       "       [-1.47545518e-03+8.15649053e-03j,  9.93873965e-04-3.84568740e-05j,\n",
       "         7.76847537e-02+5.11903505e-02j,  1.71255055e-03+1.74788885e-02j,\n",
       "         1.12540010e-01+7.37610261e-02j,  2.22382689e-02+1.22874925e-02j,\n",
       "         3.04378099e-02+8.39782519e-02j,  4.87440326e-03-7.32346807e-03j,\n",
       "         5.55340412e-02-5.46101186e-02j,  8.92709577e-02+4.16333634e-17j]],      dtype=complex128), arr_of_povm_params=[[[1.0471975511965976, 1.0471975511965976], [1.0471975511965976], [1.0471975511965976]], [[-0.0010244233451729792, -1.8845456577139001], [2.04125268231482], [4.678767487454969]], [[2.198066712987237e-09, -2.5132741205140263], [-2.122977899806978], [4.897412242248639]], [[-5.552980185278126e-16, -2.513274122871844], [2.677511688397966], [-0.40919934788029144]], [[0.001699590752267406, -1.8856347139112726], [1.0893071646106223], [2.118904388984469]]], final_purity=None, final_fidelity=Array(0.72545773, dtype=float64))"
      ]
     },
     "execution_count": 15,
     "metadata": {},
     "output_type": "execute_result"
    }
   ],
   "source": [
    "result"
   ]
  },
  {
   "cell_type": "code",
   "execution_count": 16,
   "id": "538ba2b6",
   "metadata": {},
   "outputs": [
    {
     "name": "stdout",
     "output_type": "stream",
     "text": [
      "None\n"
     ]
    }
   ],
   "source": [
    "print(result.final_purity)"
   ]
  },
  {
   "cell_type": "code",
   "execution_count": 17,
   "id": "c19912da",
   "metadata": {},
   "outputs": [
    {
     "name": "stdout",
     "output_type": "stream",
     "text": [
      "0.7254577260270267\n"
     ]
    }
   ],
   "source": [
    "print(result.final_fidelity)"
   ]
  },
  {
   "cell_type": "code",
   "execution_count": 18,
   "id": "050dc029",
   "metadata": {},
   "outputs": [
    {
     "name": "stdout",
     "output_type": "stream",
     "text": [
      "1000\n"
     ]
    }
   ],
   "source": [
    "print(result.iterations)"
   ]
  },
  {
   "cell_type": "code",
   "execution_count": 19,
   "id": "7ba69f49",
   "metadata": {},
   "outputs": [
    {
     "name": "stdout",
     "output_type": "stream",
     "text": [
      "[[[1.0471975511965976, 1.0471975511965976], [1.0471975511965976], [1.0471975511965976]], [[-0.0010244233451729792, -1.8845456577139001], [2.04125268231482], [4.678767487454969]], [[2.198066712987237e-09, -2.5132741205140263], [-2.122977899806978], [4.897412242248639]], [[-5.552980185278126e-16, -2.513274122871844], [2.677511688397966], [-0.40919934788029144]], [[0.001699590752267406, -1.8856347139112726], [1.0893071646106223], [2.118904388984469]]]\n"
     ]
    }
   ],
   "source": [
    "print(result.arr_of_povm_params)"
   ]
  },
  {
   "cell_type": "code",
   "execution_count": 20,
   "id": "cb6e56d7",
   "metadata": {},
   "outputs": [
    {
     "name": "stdout",
     "output_type": "stream",
     "text": [
      "[[-0.0010244233451729792, -1.8845456577139001], [2.04125268231482], [4.678767487454969]]\n"
     ]
    }
   ],
   "source": [
    "print(result.arr_of_povm_params[1])"
   ]
  },
  {
   "cell_type": "code",
   "execution_count": 21,
   "id": "72844e32",
   "metadata": {},
   "outputs": [
    {
     "data": {
      "text/plain": [
       "[Array([[1.31462179, 0.67951221, 3.03264681, 1.80484666],\n",
       "        [1.67203883, 1.11496751, 2.77405451, 1.98724708]], dtype=float64)]"
      ]
     },
     "execution_count": 21,
     "metadata": {},
     "output_type": "execute_result"
    }
   ],
   "source": [
    "import jax\n",
    "\n",
    "F = []\n",
    "F_1_0 = jnp.array([jnp.pi / 2, 0])\n",
    "key = jax.random.PRNGKey(0)\n",
    "appo = jax.random.uniform(key, shape=(2**1, 4)) * jnp.pi\n",
    "F.append(appo)\n",
    "F"
   ]
  },
  {
   "cell_type": "code",
   "execution_count": 22,
   "id": "97d5e8f9",
   "metadata": {},
   "outputs": [],
   "source": [
    "variables = [F] + [F_1_0]"
   ]
  },
  {
   "cell_type": "code",
   "execution_count": 23,
   "id": "313caaee",
   "metadata": {},
   "outputs": [
    {
     "data": {
      "text/plain": [
       "[[Array([[1.31462179, 0.67951221, 3.03264681, 1.80484666],\n",
       "         [1.67203883, 1.11496751, 2.77405451, 1.98724708]], dtype=float64)],\n",
       " Array([1.57079633, 0.        ], dtype=float64)]"
      ]
     },
     "execution_count": 23,
     "metadata": {},
     "output_type": "execute_result"
    }
   ],
   "source": [
    "variables"
   ]
  },
  {
   "cell_type": "code",
   "execution_count": 24,
   "id": "5459d5f9",
   "metadata": {},
   "outputs": [],
   "source": [
    "def prepare_parameters_from_dict(params_dict):\n",
    "    \"\"\"\n",
    "    Convert a nested dictionary of parameters to a flat list and record shapes.\n",
    "\n",
    "    Args:\n",
    "        params_dict: Nested dictionary of parameters.\n",
    "\n",
    "    Returns:\n",
    "        tuple: Flattened parameters list and list of shapes.\n",
    "    \"\"\"\n",
    "    flat_params = []\n",
    "    param_shapes = []\n",
    "\n",
    "    # returns a flat list of the leaves\n",
    "    def flatten_dict(d):\n",
    "        result = []\n",
    "        for key, value in d.items():\n",
    "            if isinstance(value, dict):\n",
    "                result.extend(flatten_dict(value))\n",
    "            else:\n",
    "                result.append(value)\n",
    "        return result\n",
    "\n",
    "    # flatten each top-level gate\n",
    "    for gate_name, gate_params in params_dict.items():\n",
    "        if isinstance(gate_params, dict):\n",
    "            # Extract parameters for this gate\n",
    "            gate_flat_params = jnp.array(flatten_dict(gate_params))\n",
    "        else:\n",
    "            # If already a flat array\n",
    "            gate_flat_params = jnp.array(gate_params)\n",
    "        # this is checking if use can enter sth like {'gate1': 1} instead of {\"gate1\": {\"param1\": 1}}\n",
    "        # if not (isinstance(gate_flat_params, list)):\n",
    "        #     flat_params.append([gate_flat_params])\n",
    "        #     param_shapes.append(1)\n",
    "        # else:\n",
    "        #     flat_params.append(gate_flat_params)\n",
    "        #     param_shapes.append(len(gate_flat_params))\n",
    "        flat_params.append(gate_flat_params)\n",
    "        param_shapes.append(gate_flat_params.shape)\n",
    "    return flat_params, param_shapes"
   ]
  },
  {
   "cell_type": "code",
   "execution_count": 25,
   "id": "1aa585f7",
   "metadata": {},
   "outputs": [],
   "source": [
    "import numpy as np\n",
    "\n",
    "\n",
    "def reshape_params(param_shapes, rnn_flattened_params):\n",
    "    \"\"\"\n",
    "    Reshape the parameters for the gates.\n",
    "    \"\"\"\n",
    "    # Reshape the flattened parameters from RNN output according\n",
    "    # to each gate corressponding params\n",
    "    reshaped_params = []\n",
    "    param_idx = 0\n",
    "    for shape in param_shapes:\n",
    "        num_params = int(np.prod(shape))\n",
    "        # rnn outputs a flat list, this takes each and assigns according to the shape\n",
    "        gate_params = rnn_flattened_params[\n",
    "            param_idx : param_idx + num_params\n",
    "        ].reshape(shape)\n",
    "        reshaped_params.append(gate_params)\n",
    "        param_idx += num_params\n",
    "\n",
    "    new_params = reshaped_params\n",
    "    return new_params"
   ]
  },
  {
   "cell_type": "code",
   "execution_count": 26,
   "id": "6cd6695b",
   "metadata": {},
   "outputs": [
    {
     "name": "stdout",
     "output_type": "stream",
     "text": [
      "length of F[0]: 2\n",
      "length of F[1]: 4\n",
      "length of F[2]: 8\n",
      "############\n",
      "############\n",
      "length of F[0]: 4\n",
      "Array([-0.51234908, -1.78256823,  2.92370097,  0.46810066], dtype=float64)\n",
      "length of F[1]: 4\n",
      "Array([-2.39923276, -0.29054238,  0.43072842,  2.07843927], dtype=float64)\n",
      "length of F[2]: 4\n",
      "Array([0., 0., 0., 0.], dtype=float32)\n",
      "length of F[3]: 4\n",
      "Array([0., 0., 0., 0.], dtype=float32)\n",
      "length of F[4]: 4\n",
      "Array([0., 0., 0., 0.], dtype=float32)\n",
      "length of F[5]: 4\n",
      "Array([0., 0., 0., 0.], dtype=float32)\n",
      "length of F[6]: 4\n",
      "Array([0., 0., 0., 0.], dtype=float32)\n",
      "length of F[7]: 4\n",
      "Array([0., 0., 0., 0.], dtype=float32)\n"
     ]
    }
   ],
   "source": [
    "import os\n",
    "\n",
    "os.sys.path.append(\"..\")\n",
    "import jax\n",
    "import jax.numpy as jnp\n",
    "from feedback_grape.fgrape import prepare_parameters_from_dict, reshape_params\n",
    "\n",
    "initial_params = {\n",
    "    \"POVM\": [jnp.pi / 3, jnp.pi / 3],\n",
    "    \"U_q\": [jnp.pi / 3],\n",
    "    \"U_qc\": [jnp.pi / 3],\n",
    "}\n",
    "\n",
    "flat_params, param_shapes = prepare_parameters_from_dict(initial_params)\n",
    "num_of_columns = 4\n",
    "num_of_sub_lists = 3\n",
    "F = []\n",
    "\n",
    "\n",
    "def construct_ragged_row(num_of_rows):\n",
    "    res = []\n",
    "    for i in range(num_of_rows):\n",
    "        flattened = jax.random.uniform(\n",
    "            jax.random.PRNGKey(0 + i),\n",
    "            shape=(num_of_columns,),\n",
    "            minval=-jnp.pi,\n",
    "            maxval=jnp.pi,\n",
    "        )\n",
    "        res.append(flattened)\n",
    "    return res\n",
    "\n",
    "\n",
    "for i in range(1, num_of_sub_lists + 1):\n",
    "    F.append(construct_ragged_row(num_of_rows=2**i))\n",
    "\n",
    "for i in range(len(F)):\n",
    "    print(\"length of F[{}]: {}\".format(i, len(F[i])))\n",
    "\n",
    "print(\"############\")\n",
    "min_num_of_rows = 2 ** len(F)\n",
    "for i in range(len(F)):\n",
    "    if len(F[i]) < min_num_of_rows:\n",
    "        zeros_arrays = [jnp.zeros((num_of_columns,), dtype=jnp.float32)\n",
    "            for _ in range(min_num_of_rows - len(F[i]))\n",
    "        ]\n",
    "        F[i] = F[i] + zeros_arrays\n",
    "\n",
    "print(\"############\")\n",
    "from pprint import pprint\n",
    "for i in range(len(F[0])):\n",
    "    print(\"length of F[{}]: {}\".format(i, len(F[0][i])))\n",
    "    pprint(F[0][i])"
   ]
  },
  {
   "cell_type": "code",
   "execution_count": 27,
   "id": "fc204f70",
   "metadata": {},
   "outputs": [
    {
     "name": "stdout",
     "output_type": "stream",
     "text": [
      "[[Array([-0.51234908, -1.78256823,  2.92370097,  0.46810066], dtype=float64), Array([-2.39923276, -0.29054238,  0.43072842,  2.07843927], dtype=float64), Array([0., 0., 0., 0.], dtype=float32), Array([0., 0., 0., 0.], dtype=float32), Array([0., 0., 0., 0.], dtype=float32), Array([0., 0., 0., 0.], dtype=float32), Array([0., 0., 0., 0.], dtype=float32), Array([0., 0., 0., 0.], dtype=float32)], [Array([-0.51234908, -1.78256823,  2.92370097,  0.46810066], dtype=float64), Array([-2.39923276, -0.29054238,  0.43072842,  2.07843927], dtype=float64), Array([-0.4773859 , -2.20922398,  1.04214091, -0.38718841], dtype=float64), Array([ 2.2958313 , -0.29402536, -1.6428162 , -1.85833117], dtype=float64), Array([0., 0., 0., 0.], dtype=float32), Array([0., 0., 0., 0.], dtype=float32), Array([0., 0., 0., 0.], dtype=float32), Array([0., 0., 0., 0.], dtype=float32)], [Array([-0.51234908, -1.78256823,  2.92370097,  0.46810066], dtype=float64), Array([-2.39923276, -0.29054238,  0.43072842,  2.07843927], dtype=float64), Array([-0.4773859 , -2.20922398,  1.04214091, -0.38718841], dtype=float64), Array([ 2.2958313 , -0.29402536, -1.6428162 , -1.85833117], dtype=float64), Array([-2.12277184, -0.97062874,  0.67618105, -3.00817255], dtype=float64), Array([ 0.84408699, -2.84525319,  2.11676531,  1.15871455], dtype=float64), Array([ 0.10061492,  2.09547855, -2.33811552,  0.95222944], dtype=float64), Array([ 2.1620877 , -2.85625697, -1.72797256, -2.73704597], dtype=float64)]]\n"
     ]
    }
   ],
   "source": [
    "print(F)"
   ]
  },
  {
   "cell_type": "code",
   "execution_count": 28,
   "id": "c9ba8ed7",
   "metadata": {},
   "outputs": [
    {
     "name": "stdout",
     "output_type": "stream",
     "text": [
      "sub_array_idx: 1\n",
      "binary_history: [0 1]\n",
      "sub_array_param_idx: 1\n"
     ]
    }
   ],
   "source": [
    "def convert_to_index(measurement_history):\n",
    "    # Convert measurement history from [1, -1, ...] to [0, 1, ...] and then to an integer index\n",
    "    binary_history = jnp.where(jnp.array(measurement_history) == 1, 0, 1)\n",
    "    print(f\"binary_history: {binary_history}\")\n",
    "    # Convert binary list to integer index (e.g., [0,1] -> 1)\n",
    "    # Reverse the binary_history to operate from last element backwards\n",
    "    reversed_binary = binary_history[::-1]\n",
    "    int_index = sum(\n",
    "        (2**i) * reversed_binary[i] for i in range(len(reversed_binary))\n",
    "    )\n",
    "    return int_index\n",
    "\n",
    "\n",
    "def extract_from_lut(lut, measurement_history):\n",
    "    \"\"\"\n",
    "    Extract parameters from the lookup table based on the measurement history.\n",
    "\n",
    "    Args:\n",
    "        lut: Lookup table for parameters.\n",
    "        measurement_history: History of measurements.\n",
    "        time_step: Current time step.\n",
    "\n",
    "    Returns:\n",
    "        Extracted parameters.\n",
    "    \"\"\"\n",
    "    sub_array_idx = len(measurement_history) - 1\n",
    "    print(f\"sub_array_idx: {sub_array_idx}\")\n",
    "    sub_array_param_idx = convert_to_index(measurement_history)\n",
    "    print(f\"sub_array_param_idx: {sub_array_param_idx}\")\n",
    "    return lut[sub_array_idx][sub_array_param_idx]\n",
    "\n",
    "\n",
    "extracted_lut_params = extract_from_lut(F, [1, -1])"
   ]
  },
  {
   "cell_type": "code",
   "execution_count": 29,
   "id": "3882bcbd",
   "metadata": {},
   "outputs": [
    {
     "name": "stdout",
     "output_type": "stream",
     "text": [
      "[-2.39923276 -0.29054238  0.43072842  2.07843927]\n"
     ]
    }
   ],
   "source": [
    "print(extracted_lut_params)"
   ]
  },
  {
   "cell_type": "code",
   "execution_count": null,
   "id": "ef355579",
   "metadata": {},
   "outputs": [],
   "source": []
  }
 ],
 "metadata": {
  "kernelspec": {
   "display_name": "Python 3",
   "language": "python",
   "name": "python3"
  },
  "language_info": {
   "codemirror_mode": {
    "name": "ipython",
    "version": 3
   },
   "file_extension": ".py",
   "mimetype": "text/x-python",
   "name": "python",
   "nbconvert_exporter": "python",
   "pygments_lexer": "ipython3",
   "version": "3.11.11"
  }
 },
 "nbformat": 4,
 "nbformat_minor": 5
}

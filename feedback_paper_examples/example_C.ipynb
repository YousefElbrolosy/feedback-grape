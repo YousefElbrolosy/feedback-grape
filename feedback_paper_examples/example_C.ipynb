{
 "cells": [
  {
   "cell_type": "code",
   "execution_count": 1,
   "id": "edefb299",
   "metadata": {},
   "outputs": [],
   "source": [
    "# ruff: noqa\n",
    "import os\n",
    "\n",
    "os.sys.path.append(\"..\")\n",
    "from feedback_grape.fgrape import optimize_pulse_with_feedback\n",
    "from feedback_grape.utils.operators import (\n",
    "    sigmap,\n",
    "    sigmam,\n",
    "    create,\n",
    "    destroy,\n",
    "    identity,\n",
    "    cosm,\n",
    "    sinm,\n",
    ")\n",
    "from feedback_grape.utils.states import basis, fock\n",
    "from feedback_grape.utils.tensor import tensor\n",
    "import jax.numpy as jnp\n",
    "from jax.scipy.linalg import expm"
   ]
  },
  {
   "cell_type": "markdown",
   "id": "8ecde886",
   "metadata": {},
   "source": [
    "## defining parameterized operations that are repeated num_time_steps times"
   ]
  },
  {
   "cell_type": "code",
   "execution_count": 2,
   "id": "b9a9cb9b",
   "metadata": {},
   "outputs": [],
   "source": [
    "N_cav = 5"
   ]
  },
  {
   "cell_type": "code",
   "execution_count": 3,
   "id": "1d1d8650",
   "metadata": {},
   "outputs": [],
   "source": [
    "def qubit_unitary(alpha):\n",
    "    \"\"\"\n",
    "    TODO: see if alpha, can be sth elser other than scalar, and if the algo understands this\n",
    "    see if there can be multiple params like alpha and beta input\n",
    "    \"\"\"\n",
    "    return expm(\n",
    "        -1j\n",
    "        * (\n",
    "            alpha * tensor(identity(N_cav), sigmap())\n",
    "            + alpha.conjugate() * tensor(identity(N_cav), sigmam())\n",
    "        )\n",
    "        / 2\n",
    "    )"
   ]
  },
  {
   "cell_type": "code",
   "execution_count": 4,
   "id": "04f55cc7",
   "metadata": {},
   "outputs": [],
   "source": [
    "def qubit_cavity_unitary(beta):\n",
    "    return expm(\n",
    "        -1j\n",
    "        * (\n",
    "            beta\n",
    "            * (\n",
    "                tensor(destroy(N_cav), identity(2))\n",
    "                @ tensor(identity(N_cav), sigmap())\n",
    "            )\n",
    "            + beta.conjugate()\n",
    "            * (\n",
    "                tensor(create(N_cav), identity(2))\n",
    "                @ tensor(identity(N_cav), sigmam())\n",
    "            )\n",
    "        )\n",
    "        / 2\n",
    "    )"
   ]
  },
  {
   "cell_type": "code",
   "execution_count": 5,
   "id": "98b6f96a",
   "metadata": {},
   "outputs": [
    {
     "name": "stdout",
     "output_type": "stream",
     "text": [
      "Uq unitary check: True\n",
      "Uqc unitary check: True\n"
     ]
    }
   ],
   "source": [
    "alpha = 0.1 + 0.1j\n",
    "beta = 0.1 + 0.1j\n",
    "Uq = qubit_unitary(alpha)\n",
    "Uqc = qubit_cavity_unitary(beta)\n",
    "print(\n",
    "    \"Uq unitary check:\",\n",
    "    jnp.allclose(Uq.conj().T @ Uq, jnp.eye(Uq.shape[0]), atol=1e-7),\n",
    ")\n",
    "print(\n",
    "    \"Uqc unitary check:\",\n",
    "    jnp.allclose(Uqc.conj().T @ Uqc, jnp.eye(Uqc.shape[0]), atol=1e-7),\n",
    ")"
   ]
  },
  {
   "cell_type": "code",
   "execution_count": 6,
   "id": "dadf0eae",
   "metadata": {},
   "outputs": [
    {
     "data": {
      "text/plain": [
       "Array([[0.99875027+0.j        , 0.        -0.04997917j,\n",
       "        0.        +0.j        , 0.        +0.j        ,\n",
       "        0.        +0.j        , 0.        +0.j        ,\n",
       "        0.        +0.j        , 0.        +0.j        ,\n",
       "        0.        +0.j        , 0.        +0.j        ],\n",
       "       [0.        -0.04997917j, 0.99875027+0.j        ,\n",
       "        0.        +0.j        , 0.        +0.j        ,\n",
       "        0.        +0.j        , 0.        +0.j        ,\n",
       "        0.        +0.j        , 0.        +0.j        ,\n",
       "        0.        +0.j        , 0.        +0.j        ],\n",
       "       [0.        +0.j        , 0.        +0.j        ,\n",
       "        0.99875027+0.j        , 0.        -0.04997917j,\n",
       "        0.        +0.j        , 0.        +0.j        ,\n",
       "        0.        +0.j        , 0.        +0.j        ,\n",
       "        0.        +0.j        , 0.        +0.j        ],\n",
       "       [0.        +0.j        , 0.        +0.j        ,\n",
       "        0.        -0.04997917j, 0.99875027+0.j        ,\n",
       "        0.        +0.j        , 0.        +0.j        ,\n",
       "        0.        +0.j        , 0.        +0.j        ,\n",
       "        0.        +0.j        , 0.        +0.j        ],\n",
       "       [0.        +0.j        , 0.        +0.j        ,\n",
       "        0.        +0.j        , 0.        +0.j        ,\n",
       "        0.99875027+0.j        , 0.        -0.04997917j,\n",
       "        0.        +0.j        , 0.        +0.j        ,\n",
       "        0.        +0.j        , 0.        +0.j        ],\n",
       "       [0.        +0.j        , 0.        +0.j        ,\n",
       "        0.        +0.j        , 0.        +0.j        ,\n",
       "        0.        -0.04997917j, 0.99875027+0.j        ,\n",
       "        0.        +0.j        , 0.        +0.j        ,\n",
       "        0.        +0.j        , 0.        +0.j        ],\n",
       "       [0.        +0.j        , 0.        +0.j        ,\n",
       "        0.        +0.j        , 0.        +0.j        ,\n",
       "        0.        +0.j        , 0.        +0.j        ,\n",
       "        0.99875027+0.j        , 0.        -0.04997917j,\n",
       "        0.        +0.j        , 0.        +0.j        ],\n",
       "       [0.        +0.j        , 0.        +0.j        ,\n",
       "        0.        +0.j        , 0.        +0.j        ,\n",
       "        0.        +0.j        , 0.        +0.j        ,\n",
       "        0.        -0.04997917j, 0.99875027+0.j        ,\n",
       "        0.        +0.j        , 0.        +0.j        ],\n",
       "       [0.        +0.j        , 0.        +0.j        ,\n",
       "        0.        +0.j        , 0.        +0.j        ,\n",
       "        0.        +0.j        , 0.        +0.j        ,\n",
       "        0.        +0.j        , 0.        +0.j        ,\n",
       "        0.99875027+0.j        , 0.        -0.04997917j],\n",
       "       [0.        +0.j        , 0.        +0.j        ,\n",
       "        0.        +0.j        , 0.        +0.j        ,\n",
       "        0.        +0.j        , 0.        +0.j        ,\n",
       "        0.        +0.j        , 0.        +0.j        ,\n",
       "        0.        -0.04997917j, 0.99875027+0.j        ]], dtype=complex64)"
      ]
     },
     "execution_count": 6,
     "metadata": {},
     "output_type": "execute_result"
    }
   ],
   "source": [
    "qubit_unitary(0.1)"
   ]
  },
  {
   "cell_type": "code",
   "execution_count": 7,
   "id": "b21389c6",
   "metadata": {},
   "outputs": [],
   "source": [
    "from feedback_grape.utils.operators import create, destroy\n",
    "\n",
    "\n",
    "def povm_measure_operator(measurement_outcome, gamma, delta):\n",
    "    \"\"\"\n",
    "    POVM for the measurement of the cavity state.\n",
    "    returns Mm ( NOT the POVM element Em = Mm_dag @ Mm ), given measurement_outcome m, gamma and delta\n",
    "    \"\"\"\n",
    "    number_operator = tensor(create(N_cav) @ destroy(N_cav), identity(2))\n",
    "    angle = (gamma * number_operator) + delta / 2\n",
    "    meas_op = jnp.where(\n",
    "        measurement_outcome == 1,\n",
    "        cosm(angle),\n",
    "        sinm(angle),\n",
    "    )\n",
    "    return meas_op"
   ]
  },
  {
   "cell_type": "markdown",
   "id": "d13bbcb6",
   "metadata": {},
   "source": [
    "### defining initial (thermal) state"
   ]
  },
  {
   "cell_type": "code",
   "execution_count": 8,
   "id": "4b80af46",
   "metadata": {},
   "outputs": [],
   "source": [
    "# initial state is a thermal state coupled to a qubit in the ground state?\n",
    "n_average = 1\n",
    "# natural logarithm\n",
    "beta = jnp.log((1 / n_average) + 1)\n",
    "diags = jnp.exp(-beta * jnp.arange(N_cav))\n",
    "normalized_diags = diags / jnp.sum(diags, axis=0)\n",
    "rho_cav = jnp.diag(normalized_diags)"
   ]
  },
  {
   "cell_type": "code",
   "execution_count": 9,
   "id": "c025c141",
   "metadata": {},
   "outputs": [
    {
     "data": {
      "text/plain": [
       "(5, 5)"
      ]
     },
     "execution_count": 9,
     "metadata": {},
     "output_type": "execute_result"
    }
   ],
   "source": [
    "rho_cav.shape"
   ]
  },
  {
   "cell_type": "code",
   "execution_count": 10,
   "id": "0b1f2052",
   "metadata": {},
   "outputs": [],
   "source": [
    "rho0 = tensor(rho_cav, basis(2, 0) @ basis(2, 0).conj().T)"
   ]
  },
  {
   "cell_type": "code",
   "execution_count": 11,
   "id": "237bb0b9",
   "metadata": {},
   "outputs": [
    {
     "data": {
      "text/plain": [
       "Array(0.88501458, dtype=float64)"
      ]
     },
     "execution_count": 11,
     "metadata": {},
     "output_type": "execute_result"
    }
   ],
   "source": [
    "from feedback_grape.utils.povm import (\n",
    "    _probability_of_a_measurement_outcome_given_a_certain_state,\n",
    ")\n",
    "\n",
    "_probability_of_a_measurement_outcome_given_a_certain_state(\n",
    "    rho0, 1, povm_measure_operator, [0.1, -3 * jnp.pi / 2]\n",
    ")"
   ]
  },
  {
   "cell_type": "markdown",
   "id": "43a8ce4c",
   "metadata": {},
   "source": [
    "### defining target state"
   ]
  },
  {
   "cell_type": "code",
   "execution_count": 12,
   "id": "0b8272be",
   "metadata": {},
   "outputs": [
    {
     "data": {
      "text/plain": [
       "(10, 10)"
      ]
     },
     "execution_count": 12,
     "metadata": {},
     "output_type": "execute_result"
    }
   ],
   "source": [
    "psi_target = tensor(\n",
    "    (fock(N_cav, 1) + fock(N_cav, 2) + fock(N_cav, 3)) / jnp.sqrt(3), basis(2)\n",
    ")\n",
    "\n",
    "rho_target = psi_target @ psi_target.conj().T\n",
    "rho_target.shape"
   ]
  },
  {
   "cell_type": "code",
   "execution_count": 13,
   "id": "882b04b4",
   "metadata": {},
   "outputs": [
    {
     "name": "stdout",
     "output_type": "stream",
     "text": [
      "0.3880207144091314\n"
     ]
    }
   ],
   "source": [
    "from feedback_grape.utils.fidelity import fidelity\n",
    "\n",
    "print(fidelity(U_final=rho0, C_target=rho_target, type=\"density\"))"
   ]
  },
  {
   "cell_type": "markdown",
   "id": "cd6f7f95",
   "metadata": {},
   "source": [
    "### initialize random params"
   ]
  },
  {
   "cell_type": "code",
   "execution_count": 14,
   "id": "fca21f29",
   "metadata": {},
   "outputs": [
    {
     "name": "stderr",
     "output_type": "stream",
     "text": [
      "2025-05-25 12:01:41.321834: E external/xla/xla/service/slow_operation_alarm.cc:73] \n",
      "********************************\n",
      "[Compiling module jit_step] Very slow compile? If you want to file a bug, run with envvar XLA_FLAGS=--xla_dump_to=/tmp/foo and attach the results.\n",
      "********************************\n",
      "2025-05-25 12:02:20.232692: E external/xla/xla/service/slow_operation_alarm.cc:140] The operation took 2m38.921451s\n",
      "\n",
      "********************************\n",
      "[Compiling module jit_step] Very slow compile? If you want to file a bug, run with envvar XLA_FLAGS=--xla_dump_to=/tmp/foo and attach the results.\n",
      "********************************\n"
     ]
    }
   ],
   "source": [
    "num_time_steps = 5\n",
    "num_of_iterations = 1000\n",
    "learning_rate = 0.05\n",
    "# avg_photon_numer = 2 When testing kitten state\n",
    "\n",
    "\n",
    "initial_params = {\n",
    "    \"POVM\": [jnp.pi / 3, jnp.pi / 3],\n",
    "    \"U_q\": [jnp.pi / 3],\n",
    "    \"U_qc\": [jnp.pi / 3],\n",
    "    \"POVM1\": [jnp.pi / 3, jnp.pi / 3],\n",
    "    \"U_q1\": [jnp.pi / 3],\n",
    "    \"U_qc1\": [jnp.pi / 3],\n",
    "    \"U_q2\": [jnp.pi / 3],\n",
    "    \"U_qc2\": [jnp.pi / 3],\n",
    "}\n",
    "\n",
    "\n",
    "result = optimize_pulse_with_feedback(\n",
    "    U_0=rho0,\n",
    "    C_target=rho_target,\n",
    "    parameterized_gates=[\n",
    "        povm_measure_operator,\n",
    "        qubit_unitary,\n",
    "        qubit_cavity_unitary,\n",
    "        povm_measure_operator,\n",
    "        qubit_unitary,\n",
    "        qubit_cavity_unitary,\n",
    "        qubit_unitary,\n",
    "        qubit_cavity_unitary,\n",
    "    ],\n",
    "    measurement_indices=[0,3],\n",
    "    initial_params=initial_params,\n",
    "    num_time_steps=num_time_steps,\n",
    "    mode=\"nn\",\n",
    "    goal=\"fidelity\",\n",
    "    optimizer=\"adam\",\n",
    "    max_iter=num_of_iterations,\n",
    "    convergence_threshold=1e-20,\n",
    "    learning_rate=learning_rate,\n",
    "    type=\"density\",\n",
    ")"
   ]
  },
  {
   "cell_type": "code",
   "execution_count": 15,
   "id": "1cc4d0a4",
   "metadata": {},
   "outputs": [
    {
     "data": {
      "text/plain": [
       "FgResult(optimized_rnn_parameters={'params': {'Dense_0': {'bias': Array([-0.22124252,  0.5627702 , -0.7656174 ,  0.14946893,  0.00497435,\n",
       "       -0.30769208, -0.92332643,  0.51348567, -0.2897499 ,  0.61234206],      dtype=float32), 'kernel': Array([[-7.27079630e-01,  4.56903428e-01, -1.33315697e-01,\n",
       "         2.77079910e-01,  4.66076553e-01, -1.94449946e-01,\n",
       "        -4.34336007e-01,  3.09668541e-01, -3.61951858e-01,\n",
       "        -8.43261659e-01],\n",
       "       [-2.29268909e-01,  1.52354077e-01,  2.98474222e-01,\n",
       "        -1.84587203e-02,  2.78379738e-01, -1.83737427e-01,\n",
       "        -9.80790854e-02, -7.08283857e-02,  1.96345165e-01,\n",
       "         7.02218041e-02],\n",
       "       [-1.82581469e-02,  2.26774648e-01, -8.70698094e-01,\n",
       "         1.03390820e-01,  5.10570146e-02, -2.22377509e-01,\n",
       "        -6.79330468e-01,  2.50109792e-01, -2.13580906e-01,\n",
       "         6.28326178e-01],\n",
       "       [ 3.64773422e-01, -1.07771289e+00,  1.46414086e-01,\n",
       "         2.69160956e-01, -2.69223273e-01,  1.36954412e-01,\n",
       "         6.13061666e-01, -4.36669290e-01,  1.76654220e-01,\n",
       "        -3.39074820e-01],\n",
       "       [ 2.69197404e-01, -6.08445525e-01,  4.20104325e-01,\n",
       "        -4.91677690e-03, -1.58628970e-01,  2.85697401e-01,\n",
       "         1.00144124e+00, -6.43257022e-01,  2.55295396e-01,\n",
       "        -8.06801319e-01],\n",
       "       [-8.95997956e-02, -8.09183270e-02,  7.19176710e-01,\n",
       "        -1.58859059e-01,  6.28293157e-02,  6.00950569e-02,\n",
       "         6.10362351e-01, -2.25249797e-01,  2.83750206e-01,\n",
       "        -5.28741419e-01],\n",
       "       [-7.37950206e-01,  7.92047143e-01,  4.03205335e-01,\n",
       "        -7.98023194e-02,  4.55793589e-01, -1.84443340e-01,\n",
       "         6.33020759e-01,  4.57642525e-01,  4.45533767e-02,\n",
       "        -1.76461071e-01],\n",
       "       [-4.61330414e-01,  5.96897006e-01, -2.67135054e-01,\n",
       "         1.13163903e-01,  8.91814232e-02, -3.85017067e-01,\n",
       "        -1.16449451e+00,  3.94319415e-01, -3.88142437e-01,\n",
       "         6.18368506e-01],\n",
       "       [ 1.19387336e-01, -6.66664541e-01,  1.66425690e-01,\n",
       "        -1.09281309e-01, -5.53579450e-01,  9.60562676e-02,\n",
       "         9.27511871e-01, -5.14877617e-01,  2.43422002e-01,\n",
       "        -3.54624003e-01],\n",
       "       [-6.23621464e-01,  3.98196340e-01,  2.63884455e-01,\n",
       "         1.49995148e+00,  8.52066502e-02, -8.04162472e-02,\n",
       "        -8.98149252e-01,  6.23845518e-01, -6.69678077e-02,\n",
       "         1.03831150e-01],\n",
       "       [ 8.77877399e-02,  4.56716632e-03, -1.64472222e-01,\n",
       "         2.46324733e-01, -4.92081568e-02,  5.91068491e-02,\n",
       "        -2.27493331e-01, -9.12182555e-02, -3.30610812e-01,\n",
       "        -3.24450321e-02],\n",
       "       [ 4.59883988e-01, -4.86288339e-01,  1.01968777e+00,\n",
       "        -1.30582917e+00, -9.20285136e-02,  7.54762217e-02,\n",
       "        -9.62252438e-01,  7.49726221e-03,  4.63179469e-01,\n",
       "        -3.17047209e-01],\n",
       "       [-1.31420651e-02, -6.04872108e-01,  5.65814495e-01,\n",
       "        -4.94773805e-01, -2.89007336e-01,  2.38571703e-01,\n",
       "         8.49320173e-01, -5.25387645e-01, -1.09341510e-01,\n",
       "        -6.82065487e-01],\n",
       "       [ 3.33682388e-01, -4.77983475e-01,  6.37539804e-01,\n",
       "        -9.40803364e-02, -1.70019101e-02,  3.16883862e-01,\n",
       "         1.06638134e+00, -7.70290494e-01,  9.01020095e-02,\n",
       "        -7.74715245e-01],\n",
       "       [-5.10083199e-01,  6.97803736e-01,  5.06916404e-01,\n",
       "         1.20213501e-01,  2.58091718e-01, -1.74668401e-01,\n",
       "        -6.36674345e-01,  5.35250843e-01, -6.46722093e-02,\n",
       "         4.05045271e-01],\n",
       "       [-2.41045862e-01,  9.09599364e-01, -2.24258855e-01,\n",
       "        -8.80436227e-02,  5.75474024e-01,  2.46897582e-02,\n",
       "        -6.52369797e-01,  2.49133348e-01,  1.98404089e-01,\n",
       "         8.44598934e-02],\n",
       "       [-3.99422795e-01,  8.39853227e-01,  2.45269742e-02,\n",
       "         2.17886522e-01,  2.73234397e-01, -3.82589161e-01,\n",
       "        -7.70671964e-01, -5.66249527e-02,  4.88591120e-02,\n",
       "         3.09541047e-01],\n",
       "       [ 2.23286897e-01, -1.66060567e-01,  1.32465553e+00,\n",
       "        -4.32201743e-01,  2.02343166e-01, -1.32205695e-01,\n",
       "         1.04087925e+00, -2.21511900e-01,  4.77215379e-01,\n",
       "         1.04424782e-01],\n",
       "       [-4.94572110e-02,  4.38882172e-01, -6.14186168e-01,\n",
       "         1.35682061e-01,  3.34692121e-01, -4.24122751e-01,\n",
       "        -9.73989367e-01,  2.37225264e-01, -1.45670563e-01,\n",
       "         4.68604982e-01],\n",
       "       [ 7.81844854e-02, -5.29654860e-01, -6.40289843e-01,\n",
       "         3.90150219e-01, -6.19288325e-01,  4.80768234e-01,\n",
       "        -3.05195868e-01,  6.33872867e-01, -3.05360317e-01,\n",
       "         2.67289758e-01],\n",
       "       [-1.16044991e-01,  4.03601617e-01, -4.13244888e-02,\n",
       "        -2.83254296e-01,  1.69365764e-01, -1.92677259e-01,\n",
       "        -8.65982592e-01,  1.64305165e-01, -2.45604008e-01,\n",
       "         5.68444431e-01],\n",
       "       [ 9.27780047e-02, -1.80569291e-01,  2.15117052e-01,\n",
       "        -4.67305690e-01, -3.26542258e-01,  3.80627960e-01,\n",
       "         8.00767362e-01, -1.15982421e-01,  3.82510036e-01,\n",
       "        -1.83704242e-01],\n",
       "       [ 2.59596705e-01, -1.76861018e-01, -5.30384958e-01,\n",
       "        -2.48908833e-01, -2.07398832e-01,  6.91336617e-02,\n",
       "         1.07214010e+00, -3.56702089e-01,  3.01419020e-01,\n",
       "         4.24509585e-01],\n",
       "       [-2.24523172e-01,  7.32618034e-01, -6.81163788e-01,\n",
       "         1.92234620e-01,  4.90357757e-01, -4.47402567e-01,\n",
       "        -8.98244858e-01,  8.78834426e-01, -4.54446197e-01,\n",
       "         5.32713950e-01],\n",
       "       [ 3.23174298e-01, -6.01841450e-01,  7.60570960e-03,\n",
       "        -1.96419522e-01, -2.20161483e-01,  1.43092163e-02,\n",
       "         5.75828314e-01, -1.71761304e-01, -1.80842131e-01,\n",
       "        -4.67362791e-01],\n",
       "       [-1.43706068e-01, -6.80348396e-01,  3.16845864e-01,\n",
       "        -3.30846272e-02, -3.71976525e-01,  7.59286573e-03,\n",
       "         7.57936716e-01, -4.08397987e-02,  2.84989089e-01,\n",
       "        -4.04248029e-01],\n",
       "       [-3.92818123e-01,  6.59058034e-01, -4.40109104e-01,\n",
       "        -2.17896864e-01,  5.20324349e-01, -4.98969018e-01,\n",
       "        -1.05751741e+00,  4.75210845e-01, -1.88475281e-01,\n",
       "         6.46843433e-01],\n",
       "       [-2.87930131e-01,  7.92045534e-01,  1.13324053e-03,\n",
       "         7.70563260e-02,  3.93981338e-01, -6.39449358e-01,\n",
       "        -3.13801050e-01,  2.35600024e-01, -2.16145724e-01,\n",
       "         4.88884300e-01],\n",
       "       [-1.25423357e-01,  2.56926492e-02, -1.12912405e+00,\n",
       "         1.93483323e-01,  6.91166371e-02, -2.96905953e-02,\n",
       "         1.13131166e+00,  5.68881989e-01, -9.53173876e-01,\n",
       "         1.21562386e+00],\n",
       "       [ 3.54039639e-01, -2.77843118e-01,  4.16958183e-01,\n",
       "        -3.85548860e-01,  1.48325264e-02,  2.82177329e-01,\n",
       "         1.00702751e+00, -4.80916440e-01,  2.48944074e-01,\n",
       "        -5.51272154e-01],\n",
       "       [-2.87502427e-02, -2.44015202e-01, -5.57431340e-01,\n",
       "        -1.73105791e-01, -6.68552637e-01,  2.80911416e-01,\n",
       "         4.67610955e-01,  2.77739346e-01,  5.05244080e-03,\n",
       "        -1.54814526e-01],\n",
       "       [ 1.46535933e-01, -5.94752841e-02,  3.17925662e-01,\n",
       "        -7.74004340e-01,  3.01113397e-01, -1.80483699e-01,\n",
       "         1.50765359e+00, -9.80943441e-01, -8.86906758e-02,\n",
       "        -3.66230935e-01]], dtype=float32)}, 'GRUCell_0': {'candidate_gate': {'bias': Array([-0.2932397 ,  0.0566734 ,  0.29010195, -0.22186516, -0.7276872 ,\n",
       "       -0.21424778, -0.42217535,  0.82614654, -0.12342567, -0.20507741,\n",
       "        0.10276175,  0.47224072, -0.6579071 , -0.54558575,  0.30768445,\n",
       "        0.08101136,  0.1868905 , -0.62247795,  0.72105545,  0.32652143,\n",
       "        0.34758162, -0.19428802, -0.06281386,  0.55733085, -0.3350684 ,\n",
       "       -0.21634811,  0.6890541 ,  0.32932842,  0.1778043 , -0.31658855,\n",
       "       -0.06706581,  0.43169883], dtype=float32), 'kernel': Array([[-0.14341299, -0.13687438,  0.2546747 , ..., -0.5386162 ,\n",
       "         0.98375094,  0.2545989 ],\n",
       "       [-0.5106742 , -0.27250212, -0.3582685 , ...,  0.57470167,\n",
       "         0.54582757, -0.54007787],\n",
       "       [ 0.14216931, -0.03209916,  0.50033396, ..., -0.5096569 ,\n",
       "        -0.01100719,  0.13826309],\n",
       "       ...,\n",
       "       [ 0.68638104, -0.1843162 , -0.71202284, ...,  0.57869256,\n",
       "         0.61698616,  0.18539184],\n",
       "       [ 0.20125958, -0.01017342,  0.00517832, ..., -0.29533434,\n",
       "        -0.5712334 ,  0.32376224],\n",
       "       [-0.5444002 ,  0.08762836, -0.12261713, ...,  0.22213753,\n",
       "         0.43513077, -0.3936419 ]], dtype=float32)}, 'reset_gate': {'bias': Array([ 0.3735038 , -0.47966954,  0.55408204, -0.40225717,  0.4666374 ,\n",
       "        0.63693506, -0.4351002 ,  0.76406616, -0.38763756, -0.19446479,\n",
       "       -0.5339204 , -0.4393744 ,  0.38006306,  0.35367158, -0.17100897,\n",
       "       -0.21886352,  0.39031926,  0.6245791 ,  0.70644265,  0.320236  ,\n",
       "       -0.22374395,  0.14714807,  0.32530445, -0.31116533, -0.44426155,\n",
       "        0.19508587, -0.03499435,  0.43586004, -0.28660867,  0.771593  ,\n",
       "        0.15394215, -0.3271182 ], dtype=float32), 'kernel': Array([[ 0.07215209,  0.3173312 , -0.02446926, ...,  0.48838562,\n",
       "         0.24789414, -0.21590295],\n",
       "       [-0.62136424, -0.41013867, -0.09121866, ..., -0.24241394,\n",
       "         0.09042236, -0.9088183 ],\n",
       "       [ 0.6307727 , -0.5625889 ,  0.23352288, ...,  0.06619185,\n",
       "         0.08754132,  0.5059018 ],\n",
       "       ...,\n",
       "       [-0.55609345,  0.3735158 , -0.22932592, ..., -0.55804163,\n",
       "        -0.20198397,  1.2852204 ],\n",
       "       [ 0.16132933,  0.4589543 ,  0.02101185, ...,  0.12882707,\n",
       "         0.6504801 ,  1.2464901 ],\n",
       "       [-0.1914221 , -0.11543516,  0.04063373, ..., -0.55913824,\n",
       "         0.3406645 ,  0.2346239 ]], dtype=float32)}, 'update_gate': {'bias': Array([-0.49374023,  0.5116052 ,  0.61566603, -0.27060872, -0.22582655,\n",
       "        0.66267186, -0.18239498, -0.43239483,  0.15293548,  0.42259723,\n",
       "        1.0647706 ,  0.10571437, -0.2486172 ,  0.32109845,  0.6525564 ,\n",
       "       -0.22158325,  0.14778946, -1.9009929 , -1.0159591 , -1.2112128 ,\n",
       "        0.8743441 ,  0.6540038 , -0.6592927 , -0.27141747,  0.6534059 ,\n",
       "       -0.05498729, -0.05591794, -0.11050092,  0.65871   ,  0.882616  ,\n",
       "       -0.8860596 ,  0.81340164], dtype=float32), 'kernel': Array([[-0.9270031 ,  0.76642984,  0.22156155, ..., -0.12003516,\n",
       "        -0.45147428,  0.7374162 ],\n",
       "       [-0.32693648,  0.45952964,  0.46613276, ..., -0.25339594,\n",
       "        -0.7656906 , -0.35503724],\n",
       "       [-0.32799244,  0.2171641 , -0.05822144, ...,  0.40577045,\n",
       "        -0.145193  , -0.51022136],\n",
       "       ...,\n",
       "       [ 0.7741615 , -0.2752291 , -0.9213347 , ..., -0.6783287 ,\n",
       "         0.5283947 , -0.58131534],\n",
       "       [ 0.08387032, -0.0461946 , -0.47746146, ...,  0.24899429,\n",
       "         0.3774583 , -0.1357586 ],\n",
       "       [ 0.2224527 , -0.19947453,  0.01802324, ..., -0.18565245,\n",
       "         0.08087472,  1.0828996 ]], dtype=float32)}}}}, iterations=1000, final_state=Array([[ 4.69105537e-02+1.84314369e-17j, -1.29762007e-02-3.28033315e-02j,\n",
       "         3.98731732e-02+1.16266364e-01j, -1.32986651e-02+1.18350320e-02j,\n",
       "         3.96112717e-02+1.03203157e-01j, -2.31230177e-02+3.88289505e-03j,\n",
       "         3.02764683e-02+8.90723403e-02j,  2.49658968e-02+1.05807349e-02j,\n",
       "        -9.44428600e-03+1.13053678e-02j, -1.37192270e-03-1.76875064e-02j],\n",
       "       [-1.29762007e-02+3.28033315e-02j,  3.48962427e-02+0.00000000e+00j,\n",
       "        -1.07378728e-01-5.56664985e-03j, -6.99954780e-03-1.34226306e-02j,\n",
       "        -9.94039674e-02+3.94139220e-04j,  6.29010571e-03-1.86126133e-02j,\n",
       "        -8.63995690e-02-7.57379031e-03j, -1.26120899e-02+1.60703771e-02j,\n",
       "        -5.99350515e-03-1.22395425e-02j,  1.38821118e-02+2.41163923e-03j],\n",
       "       [ 3.98731732e-02-1.16266364e-01j, -1.07378728e-01+5.56664985e-03j,\n",
       "         3.50786380e-01-3.64291930e-17j,  2.30757493e-02+4.32871105e-02j,\n",
       "         3.20020775e-01-1.53064170e-02j, -1.42907698e-02+6.38046520e-02j,\n",
       "         2.76059194e-01+5.39660075e-03j,  4.51371366e-02-5.57406940e-02j,\n",
       "         2.17858538e-02+3.78596653e-02j, -4.70743258e-02-8.55631838e-03j],\n",
       "       [-1.32986651e-02-1.18350320e-02j, -6.99954780e-03+1.34226306e-02j,\n",
       "         2.30757493e-02-4.32871105e-02j,  8.73212119e-03-1.56125113e-17j,\n",
       "         2.02095669e-02-4.02007785e-02j,  6.78275736e-03+5.79660645e-03j,\n",
       "         1.94139868e-02-3.29579175e-02j, -4.19530205e-03-8.56072366e-03j,\n",
       "         5.81310512e-03+3.61108347e-05j, -4.59316188e-03+5.97881155e-03j],\n",
       "       [ 3.96112717e-02-1.03203157e-01j, -9.94039674e-02-3.94139220e-04j,\n",
       "         3.20020775e-01+1.53064170e-02j,  2.02095669e-02+4.02007785e-02j,\n",
       "         2.94038057e-01-2.77555756e-17j, -1.60074846e-02+5.68559294e-02j,\n",
       "         2.52307193e-01+1.86686193e-02j,  4.26988182e-02-4.93859412e-02j,\n",
       "         1.79819163e-02+3.57163345e-02j, -4.27680972e-02-8.83208315e-03j],\n",
       "       [-2.31230177e-02-3.88289505e-03j,  6.29010571e-03+1.86126133e-02j,\n",
       "        -1.42907698e-02-6.38046520e-02j,  6.78275736e-03-5.79660645e-03j,\n",
       "        -1.60074846e-02-5.68559294e-02j,  1.29280174e-02+6.07153217e-18j,\n",
       "        -1.17422714e-02-5.05389391e-02j, -1.08915932e-02-6.94108342e-03j,\n",
       "         5.86040096e-03-5.64845495e-03j, -1.14047551e-04+8.67887944e-03j],\n",
       "       [ 3.02764683e-02-8.90723403e-02j, -8.63995690e-02+7.57379031e-03j,\n",
       "         2.76059194e-01-5.39660075e-03j,  1.94139868e-02+3.29579175e-02j,\n",
       "         2.52307193e-01-1.86686193e-02j, -1.17422714e-02+5.05389391e-02j,\n",
       "         2.20736047e-01+0.00000000e+00j,  3.29656983e-02-4.23595822e-02j,\n",
       "         1.79019625e-02+2.97418604e-02j, -3.60669804e-02-5.25569515e-03j],\n",
       "       [ 2.49658968e-02-1.05807349e-02j, -1.26120899e-02-1.60703771e-02j,\n",
       "         4.51371366e-02+5.57406940e-02j, -4.19530205e-03+8.56072366e-03j,\n",
       "         4.26988182e-02+4.93859412e-02j, -1.08915932e-02+6.94108342e-03j,\n",
       "         3.29656983e-02+4.23595822e-02j,  1.80014670e-02+3.46944695e-18j,\n",
       "        -3.20050952e-03+8.00996092e-03j, -4.85951680e-03-9.24647878e-03j],\n",
       "       [-9.44428600e-03-1.13053678e-02j, -5.99350515e-03+1.22395425e-02j,\n",
       "         2.17858538e-02-3.78596653e-02j,  5.81310512e-03-3.61108347e-05j,\n",
       "         1.79819163e-02-3.57163345e-02j,  5.86040096e-03+5.64845495e-03j,\n",
       "         1.79019625e-02-2.97418604e-02j, -3.20050952e-03-8.00996092e-03j,\n",
       "         5.63401886e-03+1.51788304e-18j, -3.63550818e-03+4.41652745e-03j],\n",
       "       [-1.37192270e-03+1.76875064e-02j,  1.38821118e-02-2.41163923e-03j,\n",
       "        -4.70743258e-02+8.55631838e-03j, -4.59316188e-03-5.97881155e-03j,\n",
       "        -4.27680972e-02+8.83208315e-03j, -1.14047551e-04-8.67887944e-03j,\n",
       "        -3.60669804e-02+5.25569515e-03j, -4.85951680e-03+9.24647878e-03j,\n",
       "        -3.63550818e-03-4.41652745e-03j,  7.33709459e-03-1.73472348e-18j]],      dtype=complex128), arr_of_povm_params=[[[1.0471975511965976, 1.0471975511965976], [1.0471975511965976], [1.0471975511965976], [1.0471975511965976, 1.0471975511965976], [1.0471975511965976], [1.0471975511965976], [1.0471975511965976], [1.0471975511965976]], [[-1.3858051317836069, 8.688298009537826], [-2.968349077620773], [-0.5402837059924966], [4.847912692111789, -4.4098375960303695], [-9.576477038852367], [3.3564018659210424], [-1.0045257236475722], [7.821303581158653]], [[-4.207350588784228, 10.960548639843925], [-4.384462022252993], [1.141209360843988], [6.1193925503237185, -4.933590399929901], [-13.953606217416334], [5.388371027406429], [-3.033282489940447], [5.505223199218924]], [[-4.94713920056223, 11.847188295425047], [-5.40406076456858], [2.3204166606606056], [6.340263367385128, -5.100773676246113], [-11.051822775889143], [5.367064289307023], [-3.041359883598085], [6.275812892779226]], [[-4.8103949393374075, 11.800041222163319], [-4.706574609780036], [3.3481637639246475], [6.03356610666402, -4.962999882975239], [-12.19697956048256], [6.144286802773692], [-2.7121002054888286], [7.087024689081581]]], final_purity=None, final_fidelity=Array(0.92418634, dtype=float64))"
      ]
     },
     "execution_count": 15,
     "metadata": {},
     "output_type": "execute_result"
    }
   ],
   "source": [
    "result"
   ]
  },
  {
   "cell_type": "code",
   "execution_count": 16,
   "id": "538ba2b6",
   "metadata": {},
   "outputs": [
    {
     "name": "stdout",
     "output_type": "stream",
     "text": [
      "None\n"
     ]
    }
   ],
   "source": [
    "print(result.final_purity)"
   ]
  },
  {
   "cell_type": "code",
   "execution_count": 17,
   "id": "c19912da",
   "metadata": {},
   "outputs": [
    {
     "name": "stdout",
     "output_type": "stream",
     "text": [
      "0.9241863357028499\n"
     ]
    }
   ],
   "source": [
    "print(result.final_fidelity)"
   ]
  },
  {
   "cell_type": "code",
   "execution_count": 18,
   "id": "050dc029",
   "metadata": {},
   "outputs": [
    {
     "name": "stdout",
     "output_type": "stream",
     "text": [
      "1000\n"
     ]
    }
   ],
   "source": [
    "print(result.iterations)"
   ]
  },
  {
   "cell_type": "code",
   "execution_count": 19,
   "id": "7ba69f49",
   "metadata": {},
   "outputs": [
    {
     "name": "stdout",
     "output_type": "stream",
     "text": [
      "[[[1.0471975511965976, 1.0471975511965976], [1.0471975511965976], [1.0471975511965976], [1.0471975511965976, 1.0471975511965976], [1.0471975511965976], [1.0471975511965976], [1.0471975511965976], [1.0471975511965976]], [[-1.3858051317836069, 8.688298009537826], [-2.968349077620773], [-0.5402837059924966], [4.847912692111789, -4.4098375960303695], [-9.576477038852367], [3.3564018659210424], [-1.0045257236475722], [7.821303581158653]], [[-4.207350588784228, 10.960548639843925], [-4.384462022252993], [1.141209360843988], [6.1193925503237185, -4.933590399929901], [-13.953606217416334], [5.388371027406429], [-3.033282489940447], [5.505223199218924]], [[-4.94713920056223, 11.847188295425047], [-5.40406076456858], [2.3204166606606056], [6.340263367385128, -5.100773676246113], [-11.051822775889143], [5.367064289307023], [-3.041359883598085], [6.275812892779226]], [[-4.8103949393374075, 11.800041222163319], [-4.706574609780036], [3.3481637639246475], [6.03356610666402, -4.962999882975239], [-12.19697956048256], [6.144286802773692], [-2.7121002054888286], [7.087024689081581]]]\n"
     ]
    }
   ],
   "source": [
    "print(result.arr_of_povm_params)"
   ]
  },
  {
   "cell_type": "code",
   "execution_count": 20,
   "id": "cb6e56d7",
   "metadata": {},
   "outputs": [
    {
     "name": "stdout",
     "output_type": "stream",
     "text": [
      "[[-1.3858051317836069, 8.688298009537826], [-2.968349077620773], [-0.5402837059924966], [4.847912692111789, -4.4098375960303695], [-9.576477038852367], [3.3564018659210424], [-1.0045257236475722], [7.821303581158653]]\n"
     ]
    }
   ],
   "source": [
    "print(result.arr_of_povm_params[1])"
   ]
  },
  {
   "cell_type": "code",
   "execution_count": 21,
   "id": "72844e32",
   "metadata": {},
   "outputs": [
    {
     "data": {
      "text/plain": [
       "[Array([[1.31462179, 0.67951221, 3.03264681, 1.80484666],\n",
       "        [1.67203883, 1.11496751, 2.77405451, 1.98724708]], dtype=float64)]"
      ]
     },
     "execution_count": 21,
     "metadata": {},
     "output_type": "execute_result"
    }
   ],
   "source": [
    "import jax\n",
    "\n",
    "F = []\n",
    "F_1_0 = jnp.array([jnp.pi / 2, 0])\n",
    "key = jax.random.PRNGKey(0)\n",
    "appo = jax.random.uniform(key, shape=(2**1, 4)) * jnp.pi\n",
    "F.append(appo)\n",
    "F"
   ]
  },
  {
   "cell_type": "code",
   "execution_count": 22,
   "id": "97d5e8f9",
   "metadata": {},
   "outputs": [],
   "source": [
    "variables = [F] + [F_1_0]"
   ]
  },
  {
   "cell_type": "code",
   "execution_count": 23,
   "id": "313caaee",
   "metadata": {},
   "outputs": [
    {
     "data": {
      "text/plain": [
       "[[Array([[1.31462179, 0.67951221, 3.03264681, 1.80484666],\n",
       "         [1.67203883, 1.11496751, 2.77405451, 1.98724708]], dtype=float64)],\n",
       " Array([1.57079633, 0.        ], dtype=float64)]"
      ]
     },
     "execution_count": 23,
     "metadata": {},
     "output_type": "execute_result"
    }
   ],
   "source": [
    "variables"
   ]
  },
  {
   "cell_type": "code",
   "execution_count": 24,
   "id": "5459d5f9",
   "metadata": {},
   "outputs": [],
   "source": [
    "def prepare_parameters_from_dict(params_dict):\n",
    "    \"\"\"\n",
    "    Convert a nested dictionary of parameters to a flat list and record shapes.\n",
    "\n",
    "    Args:\n",
    "        params_dict: Nested dictionary of parameters.\n",
    "\n",
    "    Returns:\n",
    "        tuple: Flattened parameters list and list of shapes.\n",
    "    \"\"\"\n",
    "    flat_params = []\n",
    "    param_shapes = []\n",
    "\n",
    "    # returns a flat list of the leaves\n",
    "    def flatten_dict(d):\n",
    "        result = []\n",
    "        for key, value in d.items():\n",
    "            if isinstance(value, dict):\n",
    "                result.extend(flatten_dict(value))\n",
    "            else:\n",
    "                result.append(value)\n",
    "        return result\n",
    "\n",
    "    # flatten each top-level gate\n",
    "    for gate_name, gate_params in params_dict.items():\n",
    "        if isinstance(gate_params, dict):\n",
    "            # Extract parameters for this gate\n",
    "            gate_flat_params = jnp.array(flatten_dict(gate_params))\n",
    "        else:\n",
    "            # If already a flat array\n",
    "            gate_flat_params = jnp.array(gate_params)\n",
    "        # this is checking if use can enter sth like {'gate1': 1} instead of {\"gate1\": {\"param1\": 1}}\n",
    "        # if not (isinstance(gate_flat_params, list)):\n",
    "        #     flat_params.append([gate_flat_params])\n",
    "        #     param_shapes.append(1)\n",
    "        # else:\n",
    "        #     flat_params.append(gate_flat_params)\n",
    "        #     param_shapes.append(len(gate_flat_params))\n",
    "        flat_params.append(gate_flat_params)\n",
    "        param_shapes.append(gate_flat_params.shape)\n",
    "    return flat_params, param_shapes"
   ]
  },
  {
   "cell_type": "code",
   "execution_count": 25,
   "id": "1aa585f7",
   "metadata": {},
   "outputs": [],
   "source": [
    "import numpy as np\n",
    "\n",
    "\n",
    "def reshape_params(param_shapes, rnn_flattened_params):\n",
    "    \"\"\"\n",
    "    Reshape the parameters for the gates.\n",
    "    \"\"\"\n",
    "    # Reshape the flattened parameters from RNN output according\n",
    "    # to each gate corressponding params\n",
    "    reshaped_params = []\n",
    "    param_idx = 0\n",
    "    for shape in param_shapes:\n",
    "        num_params = int(np.prod(shape))\n",
    "        # rnn outputs a flat list, this takes each and assigns according to the shape\n",
    "        gate_params = rnn_flattened_params[\n",
    "            param_idx : param_idx + num_params\n",
    "        ].reshape(shape)\n",
    "        reshaped_params.append(gate_params)\n",
    "        param_idx += num_params\n",
    "\n",
    "    new_params = reshaped_params\n",
    "    return new_params"
   ]
  },
  {
   "cell_type": "code",
   "execution_count": 26,
   "id": "6cd6695b",
   "metadata": {},
   "outputs": [
    {
     "name": "stdout",
     "output_type": "stream",
     "text": [
      "length of F[0]: 2\n",
      "length of F[1]: 4\n",
      "length of F[2]: 8\n",
      "############\n",
      "############\n",
      "length of F[0]: 4\n",
      "Array([-0.51234908, -1.78256823,  2.92370097,  0.46810066], dtype=float64)\n",
      "length of F[1]: 4\n",
      "Array([-2.39923276, -0.29054238,  0.43072842,  2.07843927], dtype=float64)\n",
      "length of F[2]: 4\n",
      "Array([0., 0., 0., 0.], dtype=float32)\n",
      "length of F[3]: 4\n",
      "Array([0., 0., 0., 0.], dtype=float32)\n",
      "length of F[4]: 4\n",
      "Array([0., 0., 0., 0.], dtype=float32)\n",
      "length of F[5]: 4\n",
      "Array([0., 0., 0., 0.], dtype=float32)\n",
      "length of F[6]: 4\n",
      "Array([0., 0., 0., 0.], dtype=float32)\n",
      "length of F[7]: 4\n",
      "Array([0., 0., 0., 0.], dtype=float32)\n"
     ]
    }
   ],
   "source": [
    "import os\n",
    "\n",
    "os.sys.path.append(\"..\")\n",
    "import jax\n",
    "import jax.numpy as jnp\n",
    "from feedback_grape.fgrape import prepare_parameters_from_dict, reshape_params\n",
    "\n",
    "initial_params = {\n",
    "    \"POVM\": [jnp.pi / 3, jnp.pi / 3],\n",
    "    \"U_q\": [jnp.pi / 3],\n",
    "    \"U_qc\": [jnp.pi / 3],\n",
    "}\n",
    "\n",
    "flat_params, param_shapes = prepare_parameters_from_dict(initial_params)\n",
    "num_of_columns = 4\n",
    "num_of_sub_lists = 3\n",
    "F = []\n",
    "\n",
    "\n",
    "def construct_ragged_row(num_of_rows):\n",
    "    res = []\n",
    "    for i in range(num_of_rows):\n",
    "        flattened = jax.random.uniform(\n",
    "            jax.random.PRNGKey(0 + i),\n",
    "            shape=(num_of_columns,),\n",
    "            minval=-jnp.pi,\n",
    "            maxval=jnp.pi,\n",
    "        )\n",
    "        res.append(flattened)\n",
    "    return res\n",
    "\n",
    "\n",
    "for i in range(1, num_of_sub_lists + 1):\n",
    "    F.append(construct_ragged_row(num_of_rows=2**i))\n",
    "\n",
    "for i in range(len(F)):\n",
    "    print(\"length of F[{}]: {}\".format(i, len(F[i])))\n",
    "\n",
    "print(\"############\")\n",
    "min_num_of_rows = 2 ** len(F)\n",
    "for i in range(len(F)):\n",
    "    if len(F[i]) < min_num_of_rows:\n",
    "        zeros_arrays = [jnp.zeros((num_of_columns,), dtype=jnp.float32)\n",
    "            for _ in range(min_num_of_rows - len(F[i]))\n",
    "        ]\n",
    "        F[i] = F[i] + zeros_arrays\n",
    "\n",
    "print(\"############\")\n",
    "from pprint import pprint\n",
    "for i in range(len(F[0])):\n",
    "    print(\"length of F[{}]: {}\".format(i, len(F[0][i])))\n",
    "    pprint(F[0][i])"
   ]
  },
  {
   "cell_type": "code",
   "execution_count": 27,
   "id": "fc204f70",
   "metadata": {},
   "outputs": [
    {
     "name": "stdout",
     "output_type": "stream",
     "text": [
      "[[Array([-0.51234908, -1.78256823,  2.92370097,  0.46810066], dtype=float64), Array([-2.39923276, -0.29054238,  0.43072842,  2.07843927], dtype=float64), Array([0., 0., 0., 0.], dtype=float32), Array([0., 0., 0., 0.], dtype=float32), Array([0., 0., 0., 0.], dtype=float32), Array([0., 0., 0., 0.], dtype=float32), Array([0., 0., 0., 0.], dtype=float32), Array([0., 0., 0., 0.], dtype=float32)], [Array([-0.51234908, -1.78256823,  2.92370097,  0.46810066], dtype=float64), Array([-2.39923276, -0.29054238,  0.43072842,  2.07843927], dtype=float64), Array([-0.4773859 , -2.20922398,  1.04214091, -0.38718841], dtype=float64), Array([ 2.2958313 , -0.29402536, -1.6428162 , -1.85833117], dtype=float64), Array([0., 0., 0., 0.], dtype=float32), Array([0., 0., 0., 0.], dtype=float32), Array([0., 0., 0., 0.], dtype=float32), Array([0., 0., 0., 0.], dtype=float32)], [Array([-0.51234908, -1.78256823,  2.92370097,  0.46810066], dtype=float64), Array([-2.39923276, -0.29054238,  0.43072842,  2.07843927], dtype=float64), Array([-0.4773859 , -2.20922398,  1.04214091, -0.38718841], dtype=float64), Array([ 2.2958313 , -0.29402536, -1.6428162 , -1.85833117], dtype=float64), Array([-2.12277184, -0.97062874,  0.67618105, -3.00817255], dtype=float64), Array([ 0.84408699, -2.84525319,  2.11676531,  1.15871455], dtype=float64), Array([ 0.10061492,  2.09547855, -2.33811552,  0.95222944], dtype=float64), Array([ 2.1620877 , -2.85625697, -1.72797256, -2.73704597], dtype=float64)]]\n"
     ]
    }
   ],
   "source": [
    "print(F)"
   ]
  },
  {
   "cell_type": "code",
   "execution_count": 28,
   "id": "c9ba8ed7",
   "metadata": {},
   "outputs": [
    {
     "name": "stdout",
     "output_type": "stream",
     "text": [
      "sub_array_idx: 1\n",
      "binary_history: [0 1]\n",
      "sub_array_param_idx: 1\n"
     ]
    }
   ],
   "source": [
    "def convert_to_index(measurement_history):\n",
    "    # Convert measurement history from [1, -1, ...] to [0, 1, ...] and then to an integer index\n",
    "    binary_history = jnp.where(jnp.array(measurement_history) == 1, 0, 1)\n",
    "    print(f\"binary_history: {binary_history}\")\n",
    "    # Convert binary list to integer index (e.g., [0,1] -> 1)\n",
    "    # Reverse the binary_history to operate from last element backwards\n",
    "    reversed_binary = binary_history[::-1]\n",
    "    int_index = sum(\n",
    "        (2**i) * reversed_binary[i] for i in range(len(reversed_binary))\n",
    "    )\n",
    "    return int_index\n",
    "\n",
    "\n",
    "def extract_from_lut(lut, measurement_history):\n",
    "    \"\"\"\n",
    "    Extract parameters from the lookup table based on the measurement history.\n",
    "\n",
    "    Args:\n",
    "        lut: Lookup table for parameters.\n",
    "        measurement_history: History of measurements.\n",
    "        time_step: Current time step.\n",
    "\n",
    "    Returns:\n",
    "        Extracted parameters.\n",
    "    \"\"\"\n",
    "    sub_array_idx = len(measurement_history) - 1\n",
    "    print(f\"sub_array_idx: {sub_array_idx}\")\n",
    "    sub_array_param_idx = convert_to_index(measurement_history)\n",
    "    print(f\"sub_array_param_idx: {sub_array_param_idx}\")\n",
    "    return lut[sub_array_idx][sub_array_param_idx]\n",
    "\n",
    "\n",
    "extracted_lut_params = extract_from_lut(F, [1, -1])"
   ]
  },
  {
   "cell_type": "code",
   "execution_count": 29,
   "id": "3882bcbd",
   "metadata": {},
   "outputs": [
    {
     "name": "stdout",
     "output_type": "stream",
     "text": [
      "[-2.39923276 -0.29054238  0.43072842  2.07843927]\n"
     ]
    }
   ],
   "source": [
    "print(extracted_lut_params)"
   ]
  },
  {
   "cell_type": "code",
   "execution_count": null,
   "id": "ef355579",
   "metadata": {},
   "outputs": [],
   "source": []
  }
 ],
 "metadata": {
  "kernelspec": {
   "display_name": "Python 3",
   "language": "python",
   "name": "python3"
  },
  "language_info": {
   "codemirror_mode": {
    "name": "ipython",
    "version": 3
   },
   "file_extension": ".py",
   "mimetype": "text/x-python",
   "name": "python",
   "nbconvert_exporter": "python",
   "pygments_lexer": "ipython3",
   "version": "3.11.11"
  }
 },
 "nbformat": 4,
 "nbformat_minor": 5
}

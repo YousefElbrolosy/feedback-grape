{
 "cells": [
  {
   "cell_type": "code",
   "execution_count": 1,
   "id": "edefb299",
   "metadata": {},
   "outputs": [],
   "source": [
    "# ruff: noqa\n",
    "import os\n",
    "\n",
    "os.sys.path.append(\"..\")\n",
    "from feedback_grape.fgrape import optimize_pulse_with_feedback\n",
    "from feedback_grape.utils.operators import (\n",
    "    sigmap,\n",
    "    sigmam,\n",
    "    create,\n",
    "    destroy,\n",
    "    identity,\n",
    "    cosm,\n",
    "    sinm,\n",
    ")\n",
    "from feedback_grape.utils.states import basis, fock\n",
    "from feedback_grape.utils.tensor import tensor\n",
    "import jax.numpy as jnp\n",
    "from jax.scipy.linalg import expm"
   ]
  },
  {
   "cell_type": "markdown",
   "id": "8ecde886",
   "metadata": {},
   "source": [
    "## defining parameterized operations that are repeated num_time_steps times"
   ]
  },
  {
   "cell_type": "code",
   "execution_count": 2,
   "id": "b9a9cb9b",
   "metadata": {},
   "outputs": [],
   "source": [
    "N_cav = 10"
   ]
  },
  {
   "cell_type": "code",
   "execution_count": 3,
   "id": "1d1d8650",
   "metadata": {},
   "outputs": [],
   "source": [
    "def qubit_unitary(alpha):\n",
    "    \"\"\"\n",
    "    TODO: see if alpha, can be sth elser other than scalar, and if the algo understands this\n",
    "    see if there can be multiple params like alpha and beta input\n",
    "    \"\"\"\n",
    "    return expm(\n",
    "        -1j\n",
    "        * (\n",
    "            alpha * tensor(identity(N_cav), sigmap())\n",
    "            + alpha.conjugate() * tensor(identity(N_cav), sigmam())\n",
    "        )\n",
    "        / 2\n",
    "    )"
   ]
  },
  {
   "cell_type": "code",
   "execution_count": 4,
   "id": "04f55cc7",
   "metadata": {},
   "outputs": [],
   "source": [
    "def qubit_cavity_unitary(beta):\n",
    "    return expm(\n",
    "        -1j\n",
    "        * (\n",
    "            beta\n",
    "            * (\n",
    "                tensor(destroy(N_cav), identity(2))\n",
    "                @ tensor(identity(N_cav), sigmap())\n",
    "            )\n",
    "            + beta.conjugate()\n",
    "            * (\n",
    "                tensor(create(N_cav), identity(2))\n",
    "                @ tensor(identity(N_cav), sigmam())\n",
    "            )\n",
    "        )\n",
    "        / 2\n",
    "    )"
   ]
  },
  {
   "cell_type": "code",
   "execution_count": 6,
   "id": "98b6f96a",
   "metadata": {},
   "outputs": [
    {
     "name": "stdout",
     "output_type": "stream",
     "text": [
      "Uq unitary check: True\n",
      "Uqc unitary check: True\n"
     ]
    }
   ],
   "source": [
    "alpha = 0.1 + 0.1j\n",
    "beta = 0.1 + 0.1j\n",
    "Uq = qubit_unitary(alpha)\n",
    "Uqc = qubit_cavity_unitary(beta)\n",
    "print(\n",
    "    \"Uq unitary check:\",\n",
    "    jnp.allclose(Uq.conj().T @ Uq, jnp.eye(Uq.shape[0]), atol=1e-7),\n",
    ")\n",
    "print(\n",
    "    \"Uqc unitary check:\",\n",
    "    jnp.allclose(Uqc.conj().T @ Uqc, jnp.eye(Uqc.shape[0]), atol=1e-7),\n",
    ")"
   ]
  },
  {
   "cell_type": "code",
   "execution_count": 8,
   "id": "dadf0eae",
   "metadata": {},
   "outputs": [
    {
     "data": {
      "text/plain": [
       "(20, 20)"
      ]
     },
     "execution_count": 8,
     "metadata": {},
     "output_type": "execute_result"
    }
   ],
   "source": [
    "qubit_unitary(0.1).shape"
   ]
  },
  {
   "cell_type": "code",
   "execution_count": 16,
   "id": "b21389c6",
   "metadata": {},
   "outputs": [],
   "source": [
    "from feedback_grape.utils.operators import create, destroy\n",
    "\n",
    "\n",
    "def povm_measure_operator(measurement_outcome, gamma, delta):\n",
    "    \"\"\"\n",
    "    POVM for the measurement of the cavity state.\n",
    "    returns Mm ( NOT the POVM element Em = Mm_dag @ Mm ), given measurement_outcome m, gamma and delta\n",
    "    \"\"\"\n",
    "    number_operator = create(N_cav) @ destroy(N_cav)\n",
    "    angle = (gamma * number_operator) + delta / 2\n",
    "    return jnp.where(\n",
    "        measurement_outcome == 1,\n",
    "        cosm(angle),\n",
    "        sinm(angle),\n",
    "    )"
   ]
  },
  {
   "cell_type": "markdown",
   "id": "d13bbcb6",
   "metadata": {},
   "source": [
    "### defining initial (thermal) state"
   ]
  },
  {
   "cell_type": "code",
   "execution_count": 17,
   "id": "4b80af46",
   "metadata": {},
   "outputs": [],
   "source": [
    "# initial state is a thermal state coupled to a qubit in the ground state?\n",
    "n_average = 2\n",
    "# natural logarithm\n",
    "beta = jnp.log((1 / n_average) + 1)\n",
    "diags = jnp.exp(-beta * jnp.arange(N_cav))\n",
    "normalized_diags = diags / jnp.sum(diags, axis=0)\n",
    "rho_cav = tensor(jnp.diag(normalized_diags), basis(2, 0))"
   ]
  },
  {
   "cell_type": "code",
   "execution_count": 18,
   "id": "c025c141",
   "metadata": {},
   "outputs": [
    {
     "data": {
      "text/plain": [
       "(20, 10)"
      ]
     },
     "execution_count": 18,
     "metadata": {},
     "output_type": "execute_result"
    }
   ],
   "source": [
    "rho_cav.shape"
   ]
  },
  {
   "cell_type": "markdown",
   "id": "43a8ce4c",
   "metadata": {},
   "source": [
    "### defining target state"
   ]
  },
  {
   "cell_type": "code",
   "execution_count": 19,
   "id": "0b8272be",
   "metadata": {},
   "outputs": [
    {
     "data": {
      "text/plain": [
       "(10, 10)"
      ]
     },
     "execution_count": 19,
     "metadata": {},
     "output_type": "execute_result"
    }
   ],
   "source": [
    "psi_target = (fock(N_cav, 1) + fock(N_cav, 2) + fock(N_cav, 3)) / jnp.sqrt(3)\n",
    "\n",
    "rho_target = psi_target @ psi_target.conj().T\n",
    "rho_target.shape"
   ]
  },
  {
   "cell_type": "code",
   "execution_count": 20,
   "id": "18cb7d80",
   "metadata": {},
   "outputs": [],
   "source": [
    "num_time_steps = 5\n",
    "num_of_iterations = 1000\n",
    "learning_rate = 0.05\n",
    "# avg_photon_numer = 2 When testing kitten state"
   ]
  },
  {
   "cell_type": "markdown",
   "id": "cd6f7f95",
   "metadata": {},
   "source": [
    "### initialize random params"
   ]
  },
  {
   "cell_type": "code",
   "execution_count": 21,
   "id": "03a17ecd",
   "metadata": {},
   "outputs": [],
   "source": [
    "initial_params = {\n",
    "    \"POVM\": {\n",
    "        \"gamma\": 0.1,\n",
    "        \"delta\": -3 * jnp.pi / 2,\n",
    "    },\n",
    "    \"U_q\": {\n",
    "        \"alpha\": 0.1,\n",
    "    },\n",
    "    \"U_qc\": {\n",
    "        \"beta\": 0.1,\n",
    "    }\n",
    "}"
   ]
  },
  {
   "cell_type": "code",
   "execution_count": 22,
   "id": "fca21f29",
   "metadata": {},
   "outputs": [
    {
     "ename": "TypeError",
     "evalue": "dot_general requires contracting dimensions to have the same shape, got (10,) and (20,).",
     "output_type": "error",
     "traceback": [
      "\u001b[31m---------------------------------------------------------------------------\u001b[39m",
      "\u001b[31mTypeError\u001b[39m                                 Traceback (most recent call last)",
      "\u001b[36mCell\u001b[39m\u001b[36m \u001b[39m\u001b[32mIn[22]\u001b[39m\u001b[32m, line 1\u001b[39m\n\u001b[32m----> \u001b[39m\u001b[32m1\u001b[39m result = \u001b[43moptimize_pulse_with_feedback\u001b[49m\u001b[43m(\u001b[49m\n\u001b[32m      2\u001b[39m \u001b[43m    \u001b[49m\u001b[43mU_0\u001b[49m\u001b[43m=\u001b[49m\u001b[43mrho_cav\u001b[49m\u001b[43m,\u001b[49m\n\u001b[32m      3\u001b[39m \u001b[43m    \u001b[49m\u001b[43mC_target\u001b[49m\u001b[43m=\u001b[49m\u001b[43mrho_target\u001b[49m\u001b[43m,\u001b[49m\n\u001b[32m      4\u001b[39m \u001b[43m    \u001b[49m\u001b[43mparameterized_gates\u001b[49m\u001b[43m=\u001b[49m\u001b[43m[\u001b[49m\n\u001b[32m      5\u001b[39m \u001b[43m        \u001b[49m\u001b[43mpovm_measure_operator\u001b[49m\u001b[43m,\u001b[49m\n\u001b[32m      6\u001b[39m \u001b[43m        \u001b[49m\u001b[43mqubit_unitary\u001b[49m\u001b[43m,\u001b[49m\n\u001b[32m      7\u001b[39m \u001b[43m        \u001b[49m\u001b[43mqubit_cavity_unitary\u001b[49m\u001b[43m,\u001b[49m\n\u001b[32m      8\u001b[39m \u001b[43m    \u001b[49m\u001b[43m]\u001b[49m\u001b[43m,\u001b[49m\n\u001b[32m      9\u001b[39m \u001b[43m    \u001b[49m\u001b[43mmeasurement_indices\u001b[49m\u001b[43m=\u001b[49m\u001b[43m[\u001b[49m\u001b[32;43m0\u001b[39;49m\u001b[43m]\u001b[49m\u001b[43m,\u001b[49m\n\u001b[32m     10\u001b[39m \u001b[43m    \u001b[49m\u001b[43minitial_params\u001b[49m\u001b[43m=\u001b[49m\u001b[43minitial_params\u001b[49m\u001b[43m,\u001b[49m\n\u001b[32m     11\u001b[39m \u001b[43m    \u001b[49m\u001b[43mnum_time_steps\u001b[49m\u001b[43m=\u001b[49m\u001b[43mnum_time_steps\u001b[49m\u001b[43m,\u001b[49m\n\u001b[32m     12\u001b[39m \u001b[43m    \u001b[49m\u001b[43mmode\u001b[49m\u001b[43m=\u001b[49m\u001b[33;43m\"\u001b[39;49m\u001b[33;43mnn\u001b[39;49m\u001b[33;43m\"\u001b[39;49m\u001b[43m,\u001b[49m\n\u001b[32m     13\u001b[39m \u001b[43m    \u001b[49m\u001b[43mgoal\u001b[49m\u001b[43m=\u001b[49m\u001b[33;43m\"\u001b[39;49m\u001b[33;43mfidelity\u001b[39;49m\u001b[33;43m\"\u001b[39;49m\u001b[43m,\u001b[49m\n\u001b[32m     14\u001b[39m \u001b[43m    \u001b[49m\u001b[43moptimizer\u001b[49m\u001b[43m=\u001b[49m\u001b[33;43m\"\u001b[39;49m\u001b[33;43madam\u001b[39;49m\u001b[33;43m\"\u001b[39;49m\u001b[43m,\u001b[49m\n\u001b[32m     15\u001b[39m \u001b[43m    \u001b[49m\u001b[43mmax_iter\u001b[49m\u001b[43m=\u001b[49m\u001b[43mnum_of_iterations\u001b[49m\u001b[43m,\u001b[49m\n\u001b[32m     16\u001b[39m \u001b[43m    \u001b[49m\u001b[43mconvergence_threshold\u001b[49m\u001b[43m=\u001b[49m\u001b[32;43m1e-6\u001b[39;49m\u001b[43m,\u001b[49m\n\u001b[32m     17\u001b[39m \u001b[43m    \u001b[49m\u001b[43mlearning_rate\u001b[49m\u001b[43m=\u001b[49m\u001b[43mlearning_rate\u001b[49m\u001b[43m,\u001b[49m\n\u001b[32m     18\u001b[39m \u001b[43m    \u001b[49m\u001b[38;5;28;43mtype\u001b[39;49m\u001b[43m=\u001b[49m\u001b[33;43m\"\u001b[39;49m\u001b[33;43mdensity\u001b[39;49m\u001b[33;43m\"\u001b[39;49m\u001b[43m,\u001b[49m\n\u001b[32m     19\u001b[39m \u001b[43m)\u001b[49m\n",
      "\u001b[36mFile \u001b[39m\u001b[32m~/Documents/dev/FeedBack-GRAPE/feedback_paper_examples/../feedback_grape/fgrape.py:487\u001b[39m, in \u001b[36moptimize_pulse_with_feedback\u001b[39m\u001b[34m(U_0, C_target, parameterized_gates, measurement_indices, initial_params, goal, mode, num_time_steps, optimizer, max_iter, convergence_threshold, learning_rate, type, propcomp)\u001b[39m\n\u001b[32m    485\u001b[39m \u001b[38;5;66;03m# set up optimizer and training state\u001b[39;00m\n\u001b[32m    486\u001b[39m \u001b[38;5;28;01mif\u001b[39;00m optimizer.upper() == \u001b[33m\"\u001b[39m\u001b[33mADAM\u001b[39m\u001b[33m\"\u001b[39m:\n\u001b[32m--> \u001b[39m\u001b[32m487\u001b[39m     best_model_params, iter_idx = \u001b[43m_optimize_adam\u001b[49m\u001b[43m(\u001b[49m\n\u001b[32m    488\u001b[39m \u001b[43m        \u001b[49m\u001b[43mloss_fn\u001b[49m\u001b[43m,\u001b[49m\n\u001b[32m    489\u001b[39m \u001b[43m        \u001b[49m\u001b[43mrnn_params\u001b[49m\u001b[43m,\u001b[49m\n\u001b[32m    490\u001b[39m \u001b[43m        \u001b[49m\u001b[43mmax_iter\u001b[49m\u001b[43m,\u001b[49m\n\u001b[32m    491\u001b[39m \u001b[43m        \u001b[49m\u001b[43mlearning_rate\u001b[49m\u001b[43m,\u001b[49m\n\u001b[32m    492\u001b[39m \u001b[43m        \u001b[49m\u001b[43mconvergence_threshold\u001b[49m\u001b[43m,\u001b[49m\n\u001b[32m    493\u001b[39m \u001b[43m    \u001b[49m\u001b[43m)\u001b[49m\n\u001b[32m    495\u001b[39m \u001b[38;5;28;01melif\u001b[39;00m optimizer.upper() == \u001b[33m\"\u001b[39m\u001b[33mL-BFGS\u001b[39m\u001b[33m\"\u001b[39m:\n\u001b[32m    496\u001b[39m     best_model_params, iter_idx = _optimize_L_BFGS(\n\u001b[32m    497\u001b[39m         loss_fn,\n\u001b[32m    498\u001b[39m         rnn_params,\n\u001b[32m   (...)\u001b[39m\u001b[32m    501\u001b[39m         convergence_threshold,\n\u001b[32m    502\u001b[39m     )\n",
      "\u001b[36mFile \u001b[39m\u001b[32m~/Documents/dev/FeedBack-GRAPE/feedback_paper_examples/../feedback_grape/utils/optimizers.py:30\u001b[39m, in \u001b[36m_optimize_adam\u001b[39m\u001b[34m(loss_fn, control_amplitudes, max_iter, learning_rate, convergence_threshold)\u001b[39m\n\u001b[32m     28\u001b[39m iter_idx = -\u001b[32m1\u001b[39m\n\u001b[32m     29\u001b[39m \u001b[38;5;28;01mfor\u001b[39;00m iter_idx \u001b[38;5;129;01min\u001b[39;00m \u001b[38;5;28mrange\u001b[39m(max_iter):\n\u001b[32m---> \u001b[39m\u001b[32m30\u001b[39m     params, opt_state, loss = \u001b[43mstep\u001b[49m\u001b[43m(\u001b[49m\u001b[43mparams\u001b[49m\u001b[43m,\u001b[49m\u001b[43m \u001b[49m\u001b[43mopt_state\u001b[49m\u001b[43m)\u001b[49m\n\u001b[32m     31\u001b[39m     losses.append(loss)\n\u001b[32m     33\u001b[39m     \u001b[38;5;28;01mif\u001b[39;00m (\n\u001b[32m     34\u001b[39m         iter_idx > \u001b[32m0\u001b[39m\n\u001b[32m     35\u001b[39m         \u001b[38;5;129;01mand\u001b[39;00m \u001b[38;5;28mabs\u001b[39m(losses[-\u001b[32m1\u001b[39m] - losses[-\u001b[32m2\u001b[39m]) < convergence_threshold\n\u001b[32m     36\u001b[39m     ):\n",
      "    \u001b[31m[... skipping hidden 14 frame]\u001b[39m\n",
      "\u001b[36mFile \u001b[39m\u001b[32m~/Documents/dev/FeedBack-GRAPE/feedback_paper_examples/../feedback_grape/utils/optimizers.py:20\u001b[39m, in \u001b[36m_optimize_adam.<locals>.step\u001b[39m\u001b[34m(params, state)\u001b[39m\n\u001b[32m     18\u001b[39m \u001b[38;5;129m@jax\u001b[39m.jit\n\u001b[32m     19\u001b[39m \u001b[38;5;28;01mdef\u001b[39;00m\u001b[38;5;250m \u001b[39m\u001b[34mstep\u001b[39m(params, state):\n\u001b[32m---> \u001b[39m\u001b[32m20\u001b[39m     loss = \u001b[43mloss_fn\u001b[49m\u001b[43m(\u001b[49m\u001b[43mparams\u001b[49m\u001b[43m)\u001b[49m  \u001b[38;5;66;03m# Minimize -loss_fn\u001b[39;00m\n\u001b[32m     21\u001b[39m     grads = jax.grad(\u001b[38;5;28;01mlambda\u001b[39;00m x: loss_fn(x))(params)\n\u001b[32m     22\u001b[39m     updates, new_state = optimizer.update(grads, state, params)\n",
      "\u001b[36mFile \u001b[39m\u001b[32m~/Documents/dev/FeedBack-GRAPE/feedback_paper_examples/../feedback_grape/fgrape.py:433\u001b[39m, in \u001b[36moptimize_pulse_with_feedback.<locals>.loss_fn\u001b[39m\u001b[34m(rnn_params)\u001b[39m\n\u001b[32m    429\u001b[39m h_initial_state = jnp.zeros((batch_size, hidden_size))\n\u001b[32m    431\u001b[39m updated_rnn_params = rnn_params\n\u001b[32m--> \u001b[39m\u001b[32m433\u001b[39m rho_final, log_prob, _ = \u001b[43mcalculate_trajectory\u001b[49m\u001b[43m(\u001b[49m\n\u001b[32m    434\u001b[39m \u001b[43m    \u001b[49m\u001b[43mrho_cav\u001b[49m\u001b[43m=\u001b[49m\u001b[43mU_0\u001b[49m\u001b[43m,\u001b[49m\n\u001b[32m    435\u001b[39m \u001b[43m    \u001b[49m\u001b[43mparameterized_gates\u001b[49m\u001b[43m=\u001b[49m\u001b[43mparameterized_gates\u001b[49m\u001b[43m,\u001b[49m\n\u001b[32m    436\u001b[39m \u001b[43m    \u001b[49m\u001b[43mmeasurement_indices\u001b[49m\u001b[43m=\u001b[49m\u001b[43mmeasurement_indices\u001b[49m\u001b[43m,\u001b[49m\n\u001b[32m    437\u001b[39m \u001b[43m    \u001b[49m\u001b[43minitial_params\u001b[49m\u001b[43m=\u001b[49m\u001b[43mflat_params\u001b[49m\u001b[43m,\u001b[49m\n\u001b[32m    438\u001b[39m \u001b[43m    \u001b[49m\u001b[43mparam_shapes\u001b[49m\u001b[43m=\u001b[49m\u001b[43mparam_shapes\u001b[49m\u001b[43m,\u001b[49m\n\u001b[32m    439\u001b[39m \u001b[43m    \u001b[49m\u001b[43mtime_steps\u001b[49m\u001b[43m=\u001b[49m\u001b[43mnum_time_steps\u001b[49m\u001b[43m,\u001b[49m\n\u001b[32m    440\u001b[39m \u001b[43m    \u001b[49m\u001b[43mrnn_model\u001b[49m\u001b[43m=\u001b[49m\u001b[43mrnn_model\u001b[49m\u001b[43m,\u001b[49m\n\u001b[32m    441\u001b[39m \u001b[43m    \u001b[49m\u001b[43mrnn_params\u001b[49m\u001b[43m=\u001b[49m\u001b[43mupdated_rnn_params\u001b[49m\u001b[43m,\u001b[49m\n\u001b[32m    442\u001b[39m \u001b[43m    \u001b[49m\u001b[43mrnn_state\u001b[49m\u001b[43m=\u001b[49m\u001b[43mh_initial_state\u001b[49m\u001b[43m,\u001b[49m\n\u001b[32m    443\u001b[39m \u001b[43m    \u001b[49m\u001b[38;5;28;43mtype\u001b[39;49m\u001b[43m=\u001b[49m\u001b[38;5;28;43mtype\u001b[39;49m\u001b[43m,\u001b[49m\n\u001b[32m    444\u001b[39m \u001b[43m\u001b[49m\u001b[43m)\u001b[49m\n\u001b[32m    445\u001b[39m fidelity_value = fidelity(C_target=C_target, U_final=rho_final, \u001b[38;5;28mtype\u001b[39m=\u001b[38;5;28mtype\u001b[39m)\n\u001b[32m    446\u001b[39m loss1 = -fidelity_value\n",
      "\u001b[36mFile \u001b[39m\u001b[32m~/Documents/dev/FeedBack-GRAPE/feedback_paper_examples/../feedback_grape/fgrape.py:250\u001b[39m, in \u001b[36mcalculate_trajectory\u001b[39m\u001b[34m(rho_cav, parameterized_gates, measurement_indices, initial_params, param_shapes, time_steps, rnn_model, rnn_params, rnn_state, type)\u001b[39m\n\u001b[32m    246\u001b[39m total_log_prob = \u001b[32m0.0\u001b[39m\n\u001b[32m    248\u001b[39m \u001b[38;5;28;01mfor\u001b[39;00m i \u001b[38;5;129;01min\u001b[39;00m \u001b[38;5;28mrange\u001b[39m(time_steps):\n\u001b[32m    249\u001b[39m     rho_final, log_prob, new_params, new_hidden_state = (\n\u001b[32m--> \u001b[39m\u001b[32m250\u001b[39m         \u001b[43m_calculate_time_step\u001b[49m\u001b[43m(\u001b[49m\n\u001b[32m    251\u001b[39m \u001b[43m            \u001b[49m\u001b[43mrho_cav\u001b[49m\u001b[43m=\u001b[49m\u001b[43mrho_final\u001b[49m\u001b[43m,\u001b[49m\n\u001b[32m    252\u001b[39m \u001b[43m            \u001b[49m\u001b[43mparameterized_gates\u001b[49m\u001b[43m=\u001b[49m\u001b[43mparameterized_gates\u001b[49m\u001b[43m,\u001b[49m\n\u001b[32m    253\u001b[39m \u001b[43m            \u001b[49m\u001b[43mmeasurement_indices\u001b[49m\u001b[43m=\u001b[49m\u001b[43mmeasurement_indices\u001b[49m\u001b[43m,\u001b[49m\n\u001b[32m    254\u001b[39m \u001b[43m            \u001b[49m\u001b[43minitial_params\u001b[49m\u001b[43m=\u001b[49m\u001b[43mnew_params\u001b[49m\u001b[43m,\u001b[49m\n\u001b[32m    255\u001b[39m \u001b[43m            \u001b[49m\u001b[43mrnn_model\u001b[49m\u001b[43m=\u001b[49m\u001b[43mrnn_model\u001b[49m\u001b[43m,\u001b[49m\n\u001b[32m    256\u001b[39m \u001b[43m            \u001b[49m\u001b[43mrnn_params\u001b[49m\u001b[43m=\u001b[49m\u001b[43mrnn_params\u001b[49m\u001b[43m,\u001b[49m\n\u001b[32m    257\u001b[39m \u001b[43m            \u001b[49m\u001b[43mrnn_state\u001b[49m\u001b[43m=\u001b[49m\u001b[43mnew_hidden_state\u001b[49m\u001b[43m,\u001b[49m\n\u001b[32m    258\u001b[39m \u001b[43m            \u001b[49m\u001b[38;5;28;43mtype\u001b[39;49m\u001b[43m=\u001b[49m\u001b[38;5;28;43mtype\u001b[39;49m\u001b[43m,\u001b[49m\n\u001b[32m    259\u001b[39m \u001b[43m        \u001b[49m\u001b[43m)\u001b[49m\n\u001b[32m    260\u001b[39m     )\n\u001b[32m    261\u001b[39m     \u001b[38;5;66;03m# Thus, during - Refer to Eq(3) in fgrape paper\u001b[39;00m\n\u001b[32m    262\u001b[39m     \u001b[38;5;66;03m# the individual time-evolution trajectory, this term may\u001b[39;00m\n\u001b[32m    263\u001b[39m     \u001b[38;5;66;03m# be easily accumulated step by step, since the conditional\u001b[39;00m\n\u001b[32m    264\u001b[39m     \u001b[38;5;66;03m# probabilities are known (these are just the POVM mea-\u001b[39;00m\n\u001b[32m    265\u001b[39m     \u001b[38;5;66;03m# surement probabilities)\u001b[39;00m\n\u001b[32m    266\u001b[39m     total_log_prob += log_prob\n",
      "\u001b[36mFile \u001b[39m\u001b[32m~/Documents/dev/FeedBack-GRAPE/feedback_paper_examples/../feedback_grape/fgrape.py:196\u001b[39m, in \u001b[36m_calculate_time_step\u001b[39m\u001b[34m(rho_cav, parameterized_gates, measurement_indices, initial_params, rnn_model, rnn_params, rnn_state, type)\u001b[39m\n\u001b[32m    194\u001b[39m \u001b[38;5;66;03m# TODO: handle more carefully when there are multiple measurements\u001b[39;00m\n\u001b[32m    195\u001b[39m \u001b[38;5;28;01mif\u001b[39;00m i \u001b[38;5;129;01min\u001b[39;00m measurement_indices:\n\u001b[32m--> \u001b[39m\u001b[32m196\u001b[39m     rho_final, measurement, log_prob = \u001b[43mpovm\u001b[49m\u001b[43m(\u001b[49m\n\u001b[32m    197\u001b[39m \u001b[43m        \u001b[49m\u001b[43mrho_final\u001b[49m\u001b[43m,\u001b[49m\u001b[43m \u001b[49m\u001b[43mgate\u001b[49m\u001b[43m,\u001b[49m\u001b[43m \u001b[49m\u001b[43mgate_params\u001b[49m\n\u001b[32m    198\u001b[39m \u001b[43m    \u001b[49m\u001b[43m)\u001b[49m\n\u001b[32m    199\u001b[39m     updated_params, new_hidden_state = rnn_model.apply(\n\u001b[32m    200\u001b[39m         rnn_params, jnp.array([measurement]), rnn_state\n\u001b[32m    201\u001b[39m     )\n\u001b[32m    202\u001b[39m     total_log_prob += log_prob\n",
      "\u001b[36mFile \u001b[39m\u001b[32m~/Documents/dev/FeedBack-GRAPE/feedback_paper_examples/../feedback_grape/fgrape.py:112\u001b[39m, in \u001b[36mpovm\u001b[39m\u001b[34m(rho_cav, povm_measure_operator, initial_povm_params)\u001b[39m\n\u001b[32m    100\u001b[39m \u001b[38;5;250m\u001b[39m\u001b[33;03m\"\"\"\u001b[39;00m\n\u001b[32m    101\u001b[39m \u001b[33;03mPerform a POVM measurement on the given state.\u001b[39;00m\n\u001b[32m    102\u001b[39m \n\u001b[32m   (...)\u001b[39m\u001b[32m    109\u001b[39m \u001b[33;03m    tuple: A tuple containing the post-measurement state, the measurement result, and the log probability of the measurement outcome.\u001b[39;00m\n\u001b[32m    110\u001b[39m \u001b[33;03m\"\"\"\u001b[39;00m\n\u001b[32m    111\u001b[39m \u001b[38;5;66;03m# TODO: this should be generalized to all possible measurement outcomes\u001b[39;00m\n\u001b[32m--> \u001b[39m\u001b[32m112\u001b[39m prob_plus = \u001b[43m_probability_of_a_measurement_outcome_given_a_certain_state\u001b[49m\u001b[43m(\u001b[49m\n\u001b[32m    113\u001b[39m \u001b[43m    \u001b[49m\u001b[43mrho_cav\u001b[49m\u001b[43m,\u001b[49m\u001b[43m \u001b[49m\u001b[32;43m1\u001b[39;49m\u001b[43m,\u001b[49m\u001b[43m \u001b[49m\u001b[43mpovm_measure_operator\u001b[49m\u001b[43m,\u001b[49m\u001b[43m \u001b[49m\u001b[43minitial_povm_params\u001b[49m\n\u001b[32m    114\u001b[39m \u001b[43m\u001b[49m\u001b[43m)\u001b[49m\n\u001b[32m    115\u001b[39m random_value = jax.random.uniform(jax.random.PRNGKey(\u001b[32m0\u001b[39m), shape=())\n\u001b[32m    116\u001b[39m measurement = jnp.where(random_value < prob_plus, \u001b[32m1\u001b[39m, -\u001b[32m1\u001b[39m)\n",
      "\u001b[36mFile \u001b[39m\u001b[32m~/Documents/dev/FeedBack-GRAPE/feedback_paper_examples/../feedback_grape/fgrape.py:62\u001b[39m, in \u001b[36m_probability_of_a_measurement_outcome_given_a_certain_state\u001b[39m\u001b[34m(rho_cav, measurement_outcome, povm_measure_operator, initial_params)\u001b[39m\n\u001b[32m     58\u001b[39m Em = povm_measure_operator(\n\u001b[32m     59\u001b[39m     measurement_outcome, *initial_params\n\u001b[32m     60\u001b[39m ).conj().T @ povm_measure_operator(measurement_outcome, *initial_params)\n\u001b[32m     61\u001b[39m \u001b[38;5;66;03m# QUESTION: would jnp.real be useful here?\u001b[39;00m\n\u001b[32m---> \u001b[39m\u001b[32m62\u001b[39m \u001b[38;5;28;01mreturn\u001b[39;00m jnp.real(jnp.trace(\u001b[43mEm\u001b[49m\u001b[43m \u001b[49m\u001b[43m@\u001b[49m\u001b[43m \u001b[49m\u001b[43mrho_cav\u001b[49m))\n",
      "\u001b[36mFile \u001b[39m\u001b[32m~/Documents/dev/FeedBack-GRAPE/.conda/lib/python3.11/site-packages/jax/_src/numpy/array_methods.py:1060\u001b[39m, in \u001b[36m_forward_operator_to_aval.<locals>.op\u001b[39m\u001b[34m(self, *args)\u001b[39m\n\u001b[32m   1059\u001b[39m \u001b[38;5;28;01mdef\u001b[39;00m\u001b[38;5;250m \u001b[39m\u001b[34mop\u001b[39m(\u001b[38;5;28mself\u001b[39m, *args):\n\u001b[32m-> \u001b[39m\u001b[32m1060\u001b[39m   \u001b[38;5;28;01mreturn\u001b[39;00m \u001b[38;5;28;43mgetattr\u001b[39;49m\u001b[43m(\u001b[49m\u001b[38;5;28;43mself\u001b[39;49m\u001b[43m.\u001b[49m\u001b[43maval\u001b[49m\u001b[43m,\u001b[49m\u001b[43m \u001b[49m\u001b[33;43mf\u001b[39;49m\u001b[33;43m\"\u001b[39;49m\u001b[33;43m_\u001b[39;49m\u001b[38;5;132;43;01m{\u001b[39;49;00m\u001b[43mname\u001b[49m\u001b[38;5;132;43;01m}\u001b[39;49;00m\u001b[33;43m\"\u001b[39;49m\u001b[43m)\u001b[49m\u001b[43m(\u001b[49m\u001b[38;5;28;43mself\u001b[39;49m\u001b[43m,\u001b[49m\u001b[43m \u001b[49m\u001b[43m*\u001b[49m\u001b[43margs\u001b[49m\u001b[43m)\u001b[49m\n",
      "\u001b[36mFile \u001b[39m\u001b[32m~/Documents/dev/FeedBack-GRAPE/.conda/lib/python3.11/site-packages/jax/_src/numpy/array_methods.py:579\u001b[39m, in \u001b[36m_defer_to_unrecognized_arg.<locals>.deferring_binary_op\u001b[39m\u001b[34m(self, other)\u001b[39m\n\u001b[32m    577\u001b[39m args = (other, \u001b[38;5;28mself\u001b[39m) \u001b[38;5;28;01mif\u001b[39;00m swap \u001b[38;5;28;01melse\u001b[39;00m (\u001b[38;5;28mself\u001b[39m, other)\n\u001b[32m    578\u001b[39m \u001b[38;5;28;01mif\u001b[39;00m \u001b[38;5;28misinstance\u001b[39m(other, _accepted_binop_types):\n\u001b[32m--> \u001b[39m\u001b[32m579\u001b[39m   \u001b[38;5;28;01mreturn\u001b[39;00m \u001b[43mbinary_op\u001b[49m\u001b[43m(\u001b[49m\u001b[43m*\u001b[49m\u001b[43margs\u001b[49m\u001b[43m)\u001b[49m\n\u001b[32m    580\u001b[39m \u001b[38;5;66;03m# Note: don't use isinstance here, because we don't want to raise for\u001b[39;00m\n\u001b[32m    581\u001b[39m \u001b[38;5;66;03m# subclasses, e.g. NamedTuple objects that may override operators.\u001b[39;00m\n\u001b[32m    582\u001b[39m \u001b[38;5;28;01mif\u001b[39;00m \u001b[38;5;28mtype\u001b[39m(other) \u001b[38;5;129;01min\u001b[39;00m _rejected_binop_types:\n",
      "    \u001b[31m[... skipping hidden 15 frame]\u001b[39m\n",
      "\u001b[36mFile \u001b[39m\u001b[32m~/Documents/dev/FeedBack-GRAPE/.conda/lib/python3.11/site-packages/jax/_src/numpy/tensor_contractions.py:243\u001b[39m, in \u001b[36mmatmul\u001b[39m\u001b[34m(a, b, precision, preferred_element_type)\u001b[39m\n\u001b[32m    241\u001b[39m a = lax.squeeze(a, \u001b[38;5;28mtuple\u001b[39m(a_squeeze))\n\u001b[32m    242\u001b[39m b = lax.squeeze(b, \u001b[38;5;28mtuple\u001b[39m(b_squeeze))\n\u001b[32m--> \u001b[39m\u001b[32m243\u001b[39m out = \u001b[43mlax\u001b[49m\u001b[43m.\u001b[49m\u001b[43mdot_general\u001b[49m\u001b[43m(\u001b[49m\n\u001b[32m    244\u001b[39m \u001b[43m  \u001b[49m\u001b[43ma\u001b[49m\u001b[43m,\u001b[49m\u001b[43m \u001b[49m\u001b[43mb\u001b[49m\u001b[43m,\u001b[49m\u001b[43m \u001b[49m\u001b[43m(\u001b[49m\u001b[43m(\u001b[49m\u001b[43m(\u001b[49m\u001b[43mnp\u001b[49m\u001b[43m.\u001b[49m\u001b[43mndim\u001b[49m\u001b[43m(\u001b[49m\u001b[43ma\u001b[49m\u001b[43m)\u001b[49m\u001b[43m \u001b[49m\u001b[43m-\u001b[49m\u001b[43m \u001b[49m\u001b[32;43m1\u001b[39;49m\u001b[43m,\u001b[49m\u001b[43m)\u001b[49m\u001b[43m,\u001b[49m\u001b[43m \u001b[49m\u001b[43m(\u001b[49m\u001b[43mnp\u001b[49m\u001b[43m.\u001b[49m\u001b[43mndim\u001b[49m\u001b[43m(\u001b[49m\u001b[43mb\u001b[49m\u001b[43m)\u001b[49m\u001b[43m \u001b[49m\u001b[43m-\u001b[49m\u001b[43m \u001b[49m\u001b[32;43m1\u001b[39;49m\u001b[43m \u001b[49m\u001b[43m-\u001b[49m\u001b[43m \u001b[49m\u001b[43mb_is_mat\u001b[49m\u001b[43m,\u001b[49m\u001b[43m)\u001b[49m\u001b[43m)\u001b[49m\u001b[43m,\u001b[49m\u001b[43m \u001b[49m\u001b[43m(\u001b[49m\u001b[43ma_batch\u001b[49m\u001b[43m,\u001b[49m\u001b[43m \u001b[49m\u001b[43mb_batch\u001b[49m\u001b[43m)\u001b[49m\u001b[43m)\u001b[49m\u001b[43m,\u001b[49m\n\u001b[32m    245\u001b[39m \u001b[43m  \u001b[49m\u001b[43mprecision\u001b[49m\u001b[43m=\u001b[49m\u001b[43mprecision\u001b[49m\u001b[43m,\u001b[49m\u001b[43m \u001b[49m\u001b[43mpreferred_element_type\u001b[49m\u001b[43m=\u001b[49m\u001b[43mpreferred_element_type\u001b[49m\u001b[43m)\u001b[49m\n\u001b[32m    246\u001b[39m result = lax.transpose(out, perm)\n\u001b[32m    247\u001b[39m \u001b[38;5;28;01mreturn\u001b[39;00m lax_internal._convert_element_type(result, preferred_element_type, output_weak_type)\n",
      "    \u001b[31m[... skipping hidden 9 frame]\u001b[39m\n",
      "\u001b[36mFile \u001b[39m\u001b[32m~/Documents/dev/FeedBack-GRAPE/.conda/lib/python3.11/site-packages/jax/_src/lax/lax.py:4977\u001b[39m, in \u001b[36m_dot_general_shape_rule\u001b[39m\u001b[34m(lhs, rhs, dimension_numbers, precision, preferred_element_type, out_sharding)\u001b[39m\n\u001b[32m   4974\u001b[39m \u001b[38;5;28;01mif\u001b[39;00m \u001b[38;5;129;01mnot\u001b[39;00m core.definitely_equal_shape(lhs_contracting_shape, rhs_contracting_shape):\n\u001b[32m   4975\u001b[39m   msg = (\u001b[33m\"\u001b[39m\u001b[33mdot_general requires contracting dimensions to have the same \u001b[39m\u001b[33m\"\u001b[39m\n\u001b[32m   4976\u001b[39m          \u001b[33m\"\u001b[39m\u001b[33mshape, got \u001b[39m\u001b[38;5;132;01m{}\u001b[39;00m\u001b[33m and \u001b[39m\u001b[38;5;132;01m{}\u001b[39;00m\u001b[33m.\u001b[39m\u001b[33m\"\u001b[39m)\n\u001b[32m-> \u001b[39m\u001b[32m4977\u001b[39m   \u001b[38;5;28;01mraise\u001b[39;00m \u001b[38;5;167;01mTypeError\u001b[39;00m(msg.format(lhs_contracting_shape, rhs_contracting_shape))\n\u001b[32m   4979\u001b[39m \u001b[38;5;28;01mreturn\u001b[39;00m _dot_general_shape_computation(lhs.shape, rhs.shape, dimension_numbers)\n",
      "\u001b[31mTypeError\u001b[39m: dot_general requires contracting dimensions to have the same shape, got (10,) and (20,)."
     ]
    }
   ],
   "source": [
    "result = optimize_pulse_with_feedback(\n",
    "    U_0=rho_cav,\n",
    "    C_target=rho_target,\n",
    "    parameterized_gates=[\n",
    "        povm_measure_operator,\n",
    "        qubit_unitary,\n",
    "        qubit_cavity_unitary,\n",
    "    ],\n",
    "    measurement_indices=[0],\n",
    "    initial_params=initial_params,\n",
    "    num_time_steps=num_time_steps,\n",
    "    mode=\"nn\",\n",
    "    goal=\"fidelity\",\n",
    "    optimizer=\"adam\",\n",
    "    max_iter=num_of_iterations,\n",
    "    convergence_threshold=1e-6,\n",
    "    learning_rate=learning_rate,\n",
    "    type=\"density\",\n",
    ")"
   ]
  },
  {
   "cell_type": "code",
   "execution_count": null,
   "id": "87c78512",
   "metadata": {},
   "outputs": [],
   "source": []
  }
 ],
 "metadata": {
  "kernelspec": {
   "display_name": "Python 3",
   "language": "python",
   "name": "python3"
  },
  "language_info": {
   "codemirror_mode": {
    "name": "ipython",
    "version": 3
   },
   "file_extension": ".py",
   "mimetype": "text/x-python",
   "name": "python",
   "nbconvert_exporter": "python",
   "pygments_lexer": "ipython3",
   "version": "3.11.11"
  }
 },
 "nbformat": 4,
 "nbformat_minor": 5
}

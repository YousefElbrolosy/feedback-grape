{
 "cells": [
  {
   "cell_type": "code",
   "execution_count": 1,
   "id": "edefb299",
   "metadata": {},
   "outputs": [],
   "source": [
    "# ruff: noqa\n",
    "import os\n",
    "\n",
    "os.sys.path.append(\"..\")\n",
    "from feedback_grape.fgrape import optimize_pulse_with_feedback\n",
    "from feedback_grape.utils.operators import (\n",
    "    sigmap,\n",
    "    sigmam,\n",
    "    create,\n",
    "    destroy,\n",
    "    identity,\n",
    "    cosm,\n",
    "    sinm,\n",
    ")\n",
    "from feedback_grape.utils.states import basis, fock\n",
    "from feedback_grape.utils.tensor import tensor\n",
    "import jax.numpy as jnp\n",
    "from jax.scipy.linalg import expm"
   ]
  },
  {
   "cell_type": "markdown",
   "id": "8ecde886",
   "metadata": {},
   "source": [
    "## defining parameterized operations that are repeated num_time_steps times"
   ]
  },
  {
   "cell_type": "code",
   "execution_count": 2,
   "id": "b9a9cb9b",
   "metadata": {},
   "outputs": [],
   "source": [
    "N_cav = 5"
   ]
  },
  {
   "cell_type": "code",
   "execution_count": 3,
   "id": "1d1d8650",
   "metadata": {},
   "outputs": [],
   "source": [
    "def qubit_unitary(alpha):\n",
    "    \"\"\"\n",
    "    TODO: see if alpha, can be sth elser other than scalar, and if the algo understands this\n",
    "    see if there can be multiple params like alpha and beta input\n",
    "    \"\"\"\n",
    "    return expm(\n",
    "        -1j\n",
    "        * (\n",
    "            alpha * tensor(identity(N_cav), sigmap())\n",
    "            + alpha.conjugate() * tensor(identity(N_cav), sigmam())\n",
    "        )\n",
    "        / 2\n",
    "    )"
   ]
  },
  {
   "cell_type": "code",
   "execution_count": 4,
   "id": "04f55cc7",
   "metadata": {},
   "outputs": [],
   "source": [
    "def qubit_cavity_unitary(beta):\n",
    "    return expm(\n",
    "        -1j\n",
    "        * (\n",
    "            beta\n",
    "            * (\n",
    "                tensor(destroy(N_cav), identity(2))\n",
    "                @ tensor(identity(N_cav), sigmap())\n",
    "            )\n",
    "            + beta.conjugate()\n",
    "            * (\n",
    "                tensor(create(N_cav), identity(2))\n",
    "                @ tensor(identity(N_cav), sigmam())\n",
    "            )\n",
    "        )\n",
    "        / 2\n",
    "    )"
   ]
  },
  {
   "cell_type": "code",
   "execution_count": 5,
   "id": "98b6f96a",
   "metadata": {},
   "outputs": [
    {
     "name": "stdout",
     "output_type": "stream",
     "text": [
      "Uq unitary check: True\n",
      "Uqc unitary check: True\n"
     ]
    }
   ],
   "source": [
    "alpha = 0.1 + 0.1j\n",
    "beta = 0.1 + 0.1j\n",
    "Uq = qubit_unitary(alpha)\n",
    "Uqc = qubit_cavity_unitary(beta)\n",
    "print(\n",
    "    \"Uq unitary check:\",\n",
    "    jnp.allclose(Uq.conj().T @ Uq, jnp.eye(Uq.shape[0]), atol=1e-7),\n",
    ")\n",
    "print(\n",
    "    \"Uqc unitary check:\",\n",
    "    jnp.allclose(Uqc.conj().T @ Uqc, jnp.eye(Uqc.shape[0]), atol=1e-7),\n",
    ")"
   ]
  },
  {
   "cell_type": "code",
   "execution_count": 6,
   "id": "dadf0eae",
   "metadata": {},
   "outputs": [
    {
     "data": {
      "text/plain": [
       "Array([[0.99875027+0.j        , 0.        -0.04997917j,\n",
       "        0.        +0.j        , 0.        +0.j        ,\n",
       "        0.        +0.j        , 0.        +0.j        ,\n",
       "        0.        +0.j        , 0.        +0.j        ,\n",
       "        0.        +0.j        , 0.        +0.j        ],\n",
       "       [0.        -0.04997917j, 0.99875027+0.j        ,\n",
       "        0.        +0.j        , 0.        +0.j        ,\n",
       "        0.        +0.j        , 0.        +0.j        ,\n",
       "        0.        +0.j        , 0.        +0.j        ,\n",
       "        0.        +0.j        , 0.        +0.j        ],\n",
       "       [0.        +0.j        , 0.        +0.j        ,\n",
       "        0.99875027+0.j        , 0.        -0.04997917j,\n",
       "        0.        +0.j        , 0.        +0.j        ,\n",
       "        0.        +0.j        , 0.        +0.j        ,\n",
       "        0.        +0.j        , 0.        +0.j        ],\n",
       "       [0.        +0.j        , 0.        +0.j        ,\n",
       "        0.        -0.04997917j, 0.99875027+0.j        ,\n",
       "        0.        +0.j        , 0.        +0.j        ,\n",
       "        0.        +0.j        , 0.        +0.j        ,\n",
       "        0.        +0.j        , 0.        +0.j        ],\n",
       "       [0.        +0.j        , 0.        +0.j        ,\n",
       "        0.        +0.j        , 0.        +0.j        ,\n",
       "        0.99875027+0.j        , 0.        -0.04997917j,\n",
       "        0.        +0.j        , 0.        +0.j        ,\n",
       "        0.        +0.j        , 0.        +0.j        ],\n",
       "       [0.        +0.j        , 0.        +0.j        ,\n",
       "        0.        +0.j        , 0.        +0.j        ,\n",
       "        0.        -0.04997917j, 0.99875027+0.j        ,\n",
       "        0.        +0.j        , 0.        +0.j        ,\n",
       "        0.        +0.j        , 0.        +0.j        ],\n",
       "       [0.        +0.j        , 0.        +0.j        ,\n",
       "        0.        +0.j        , 0.        +0.j        ,\n",
       "        0.        +0.j        , 0.        +0.j        ,\n",
       "        0.99875027+0.j        , 0.        -0.04997917j,\n",
       "        0.        +0.j        , 0.        +0.j        ],\n",
       "       [0.        +0.j        , 0.        +0.j        ,\n",
       "        0.        +0.j        , 0.        +0.j        ,\n",
       "        0.        +0.j        , 0.        +0.j        ,\n",
       "        0.        -0.04997917j, 0.99875027+0.j        ,\n",
       "        0.        +0.j        , 0.        +0.j        ],\n",
       "       [0.        +0.j        , 0.        +0.j        ,\n",
       "        0.        +0.j        , 0.        +0.j        ,\n",
       "        0.        +0.j        , 0.        +0.j        ,\n",
       "        0.        +0.j        , 0.        +0.j        ,\n",
       "        0.99875027+0.j        , 0.        -0.04997917j],\n",
       "       [0.        +0.j        , 0.        +0.j        ,\n",
       "        0.        +0.j        , 0.        +0.j        ,\n",
       "        0.        +0.j        , 0.        +0.j        ,\n",
       "        0.        +0.j        , 0.        +0.j        ,\n",
       "        0.        -0.04997917j, 0.99875027+0.j        ]], dtype=complex64)"
      ]
     },
     "execution_count": 6,
     "metadata": {},
     "output_type": "execute_result"
    }
   ],
   "source": [
    "qubit_unitary(0.1)"
   ]
  },
  {
   "cell_type": "code",
   "execution_count": 7,
   "id": "b21389c6",
   "metadata": {},
   "outputs": [],
   "source": [
    "from feedback_grape.utils.operators import create, destroy\n",
    "\n",
    "\n",
    "def povm_measure_operator(measurement_outcome, gamma, delta):\n",
    "    \"\"\"\n",
    "    POVM for the measurement of the cavity state.\n",
    "    returns Mm ( NOT the POVM element Em = Mm_dag @ Mm ), given measurement_outcome m, gamma and delta\n",
    "    \"\"\"\n",
    "    number_operator = tensor(create(N_cav) @ destroy(N_cav), identity(2))\n",
    "    angle = (gamma * number_operator) + delta / 2\n",
    "    meas_op = jnp.where(\n",
    "        measurement_outcome == 1,\n",
    "        cosm(angle),\n",
    "        sinm(angle),\n",
    "    )\n",
    "    return meas_op"
   ]
  },
  {
   "cell_type": "markdown",
   "id": "d13bbcb6",
   "metadata": {},
   "source": [
    "### defining initial (thermal) state"
   ]
  },
  {
   "cell_type": "code",
   "execution_count": 8,
   "id": "4b80af46",
   "metadata": {},
   "outputs": [],
   "source": [
    "# initial state is a thermal state coupled to a qubit in the ground state?\n",
    "n_average = 1\n",
    "# natural logarithm\n",
    "beta = jnp.log((1 / n_average) + 1)\n",
    "diags = jnp.exp(-beta * jnp.arange(N_cav))\n",
    "normalized_diags = diags / jnp.sum(diags, axis=0)\n",
    "rho_cav = jnp.diag(normalized_diags)"
   ]
  },
  {
   "cell_type": "code",
   "execution_count": 9,
   "id": "c025c141",
   "metadata": {},
   "outputs": [
    {
     "data": {
      "text/plain": [
       "(5, 5)"
      ]
     },
     "execution_count": 9,
     "metadata": {},
     "output_type": "execute_result"
    }
   ],
   "source": [
    "rho_cav.shape"
   ]
  },
  {
   "cell_type": "code",
   "execution_count": 10,
   "id": "0b1f2052",
   "metadata": {},
   "outputs": [],
   "source": [
    "rho0 = tensor(rho_cav, basis(2, 0) @ basis(2, 0).conj().T)"
   ]
  },
  {
   "cell_type": "code",
   "execution_count": 11,
   "id": "237bb0b9",
   "metadata": {},
   "outputs": [
    {
     "data": {
      "text/plain": [
       "Array(0.88501454, dtype=float64)"
      ]
     },
     "execution_count": 11,
     "metadata": {},
     "output_type": "execute_result"
    }
   ],
   "source": [
    "from feedback_grape.utils.povm import (\n",
    "    _probability_of_a_measurement_outcome_given_a_certain_state,\n",
    ")\n",
    "\n",
    "_probability_of_a_measurement_outcome_given_a_certain_state(\n",
    "    rho0, 1, povm_measure_operator, [0.1, -3 * jnp.pi / 2]\n",
    ")"
   ]
  },
  {
   "cell_type": "markdown",
   "id": "43a8ce4c",
   "metadata": {},
   "source": [
    "### defining target state"
   ]
  },
  {
   "cell_type": "code",
   "execution_count": 12,
   "id": "0b8272be",
   "metadata": {},
   "outputs": [
    {
     "data": {
      "text/plain": [
       "(10, 10)"
      ]
     },
     "execution_count": 12,
     "metadata": {},
     "output_type": "execute_result"
    }
   ],
   "source": [
    "psi_target = tensor(\n",
    "    (fock(N_cav, 1) + fock(N_cav, 2) + fock(N_cav, 3)) / jnp.sqrt(3), basis(2)\n",
    ")\n",
    "\n",
    "rho_target = psi_target @ psi_target.conj().T\n",
    "rho_target.shape"
   ]
  },
  {
   "cell_type": "code",
   "execution_count": 13,
   "id": "882b04b4",
   "metadata": {},
   "outputs": [
    {
     "name": "stdout",
     "output_type": "stream",
     "text": [
      "0.3880207144091314\n"
     ]
    }
   ],
   "source": [
    "from feedback_grape.utils.fidelity import fidelity\n",
    "\n",
    "print(fidelity(U_final=rho0, C_target=rho_target, type=\"density\"))"
   ]
  },
  {
   "cell_type": "markdown",
   "id": "cd6f7f95",
   "metadata": {},
   "source": [
    "### initialize random params"
   ]
  },
  {
   "cell_type": "code",
   "execution_count": 14,
   "id": "fca21f29",
   "metadata": {},
   "outputs": [
    {
     "ename": "ValueError",
     "evalue": "All input arrays must have the same shape.",
     "output_type": "error",
     "traceback": [
      "\u001b[31m---------------------------------------------------------------------------\u001b[39m",
      "\u001b[31mValueError\u001b[39m                                Traceback (most recent call last)",
      "\u001b[32m/var/folders/sn/fh3vw3pd61v44cvrvswcd_w96nt0gg/T/ipykernel_13692/3634409331.py\u001b[39m in \u001b[36m?\u001b[39m\u001b[34m()\u001b[39m\n\u001b[32m     10\u001b[39m     \u001b[33m\"U_qc\"\u001b[39m: [jnp.pi / \u001b[32m3\u001b[39m],\n\u001b[32m     11\u001b[39m }\n\u001b[32m     12\u001b[39m \n\u001b[32m     13\u001b[39m \n\u001b[32m---> \u001b[39m\u001b[32m14\u001b[39m result = optimize_pulse_with_feedback(\n\u001b[32m     15\u001b[39m     U_0=rho0,\n\u001b[32m     16\u001b[39m     C_target=rho_target,\n\u001b[32m     17\u001b[39m     parameterized_gates=[\n",
      "\u001b[32m~/Documents/dev/FeedBack-GRAPE/feedback_paper_examples/../feedback_grape/fgrape.py\u001b[39m in \u001b[36m?\u001b[39m\u001b[34m(U_0, C_target, parameterized_gates, measurement_indices, initial_params, goal, mode, num_time_steps, optimizer, max_iter, convergence_threshold, learning_rate, type, propcomp)\u001b[39m\n\u001b[32m    577\u001b[39m \n\u001b[32m    578\u001b[39m     \u001b[38;5;66;03m# Optimization\u001b[39;00m\n\u001b[32m    579\u001b[39m     \u001b[38;5;66;03m# set up optimizer and training state\u001b[39;00m\n\u001b[32m    580\u001b[39m     \u001b[38;5;28;01mif\u001b[39;00m optimizer.upper() == \u001b[33m\"ADAM\"\u001b[39m:\n\u001b[32m--> \u001b[39m\u001b[32m581\u001b[39m         best_model_params, iter_idx = _optimize_adam(\n\u001b[32m    582\u001b[39m             loss_fn,\n\u001b[32m    583\u001b[39m             trainable_params,\n\u001b[32m    584\u001b[39m             max_iter,\n",
      "\u001b[32m~/Documents/dev/FeedBack-GRAPE/feedback_paper_examples/../feedback_grape/utils/optimizers.py\u001b[39m in \u001b[36m?\u001b[39m\u001b[34m(loss_fn, control_amplitudes, max_iter, learning_rate, convergence_threshold)\u001b[39m\n\u001b[32m     26\u001b[39m     params = control_amplitudes\n\u001b[32m     27\u001b[39m     \u001b[38;5;66;03m# setting it to -1 in the beginning in case the max_iter is 0\u001b[39;00m\n\u001b[32m     28\u001b[39m     iter_idx = -\u001b[32m1\u001b[39m\n\u001b[32m     29\u001b[39m     \u001b[38;5;28;01mfor\u001b[39;00m iter_idx \u001b[38;5;28;01min\u001b[39;00m range(max_iter):\n\u001b[32m---> \u001b[39m\u001b[32m30\u001b[39m         params, opt_state, loss = step(params, opt_state)\n\u001b[32m     31\u001b[39m         losses.append(loss)\n\u001b[32m     32\u001b[39m \n\u001b[32m     33\u001b[39m         if (\n",
      "    \u001b[31m[... skipping hidden 14 frame]\u001b[39m\n",
      "\u001b[32m~/Documents/dev/FeedBack-GRAPE/feedback_paper_examples/../feedback_grape/utils/optimizers.py\u001b[39m in \u001b[36m?\u001b[39m\u001b[34m(params, state)\u001b[39m\n\u001b[32m     18\u001b[39m     @jax.jit\n\u001b[32m     19\u001b[39m     \u001b[38;5;28;01mdef\u001b[39;00m step(params, state):\n\u001b[32m---> \u001b[39m\u001b[32m20\u001b[39m         loss = loss_fn(params)  \u001b[38;5;66;03m# Minimize -loss_fn\u001b[39;00m\n\u001b[32m     21\u001b[39m         grads = jax.grad(\u001b[38;5;28;01mlambda\u001b[39;00m x: loss_fn(x))(params)\n\u001b[32m     22\u001b[39m         updates, new_state = optimizer.update(grads, state, params)\n\u001b[32m     23\u001b[39m         new_params = optax.apply_updates(params, updates)\n",
      "\u001b[32m~/Documents/dev/FeedBack-GRAPE/feedback_paper_examples/../feedback_grape/fgrape.py\u001b[39m in \u001b[36m?\u001b[39m\u001b[34m(lookup_table_params)\u001b[39m\n\u001b[32m    528\u001b[39m             \u001b[38;5;28;01mdef\u001b[39;00m loss_fn(lookup_table_params):\n\u001b[32m    529\u001b[39m                 \"\"\"\n\u001b[32m    530\u001b[39m                 loss function\n\u001b[32m    531\u001b[39m                 \"\"\"\n\u001b[32m--> \u001b[39m\u001b[32m532\u001b[39m                 rho_final, log_prob, _ = _calculate_trajectory(\n\u001b[32m    533\u001b[39m                     rho_cav=U_0,\n\u001b[32m    534\u001b[39m                     parameterized_gates=parameterized_gates,\n\u001b[32m    535\u001b[39m                     measurement_indices=measurement_indices,\n",
      "\u001b[32m~/Documents/dev/FeedBack-GRAPE/feedback_paper_examples/../feedback_grape/fgrape.py\u001b[39m in \u001b[36m?\u001b[39m\u001b[34m(rho_cav, parameterized_gates, measurement_indices, initial_params, param_shapes, time_steps, rnn_model, rnn_params, rnn_state, lut, type)\u001b[39m\n\u001b[32m    239\u001b[39m \n\u001b[32m    240\u001b[39m     \u001b[38;5;28;01mif\u001b[39;00m lut \u001b[38;5;28;01mis\u001b[39;00m \u001b[38;5;28;01mnot\u001b[39;00m \u001b[38;5;28;01mNone\u001b[39;00m:\n\u001b[32m    241\u001b[39m         \u001b[38;5;28;01mfor\u001b[39;00m i \u001b[38;5;28;01min\u001b[39;00m range(time_steps):\n\u001b[32m    242\u001b[39m             rho_final, log_prob, new_params, new_hidden_state = (\n\u001b[32m--> \u001b[39m\u001b[32m243\u001b[39m                 _calculate_time_step(\n\u001b[32m    244\u001b[39m                     rho_cav=rho_final,\n\u001b[32m    245\u001b[39m                     parameterized_gates=parameterized_gates,\n\u001b[32m    246\u001b[39m                     measurement_indices=measurement_indices,\n",
      "\u001b[32m~/Documents/dev/FeedBack-GRAPE/feedback_paper_examples/../feedback_grape/fgrape.py\u001b[39m in \u001b[36m?\u001b[39m\u001b[34m(rho_cav, parameterized_gates, measurement_indices, initial_params, param_shapes, rnn_model, rnn_params, rnn_state, lut, measurement_history, type)\u001b[39m\n\u001b[32m    129\u001b[39m                 rho_final, measurement, log_prob = povm(\n\u001b[32m    130\u001b[39m                     rho_final, gate, gate_params\n\u001b[32m    131\u001b[39m                 )\n\u001b[32m    132\u001b[39m                 measurement_history.append(measurement)\n\u001b[32m--> \u001b[39m\u001b[32m133\u001b[39m                 extracted_lut_params = extract_from_lut(lut, measurement_history)\n\u001b[32m    134\u001b[39m                 total_log_prob += log_prob\n\u001b[32m    135\u001b[39m             \u001b[38;5;28;01melse\u001b[39;00m:\n\u001b[32m    136\u001b[39m                 rho_final = apply_gate(rho_final, gate, extracted_lut_params[\u001b[32m0\u001b[39m][i], type)\n",
      "\u001b[32m~/Documents/dev/FeedBack-GRAPE/feedback_paper_examples/../feedback_grape/fgrape.py\u001b[39m in \u001b[36m?\u001b[39m\u001b[34m(lut, measurement_history)\u001b[39m\n\u001b[32m     84\u001b[39m         Extracted parameters.\n\u001b[32m     85\u001b[39m     \"\"\"\n\u001b[32m     86\u001b[39m     sub_array_idx = len(measurement_history) - \u001b[32m1\u001b[39m\n\u001b[32m     87\u001b[39m     sub_array_param_idx = convert_to_index(measurement_history)\n\u001b[32m---> \u001b[39m\u001b[32m88\u001b[39m     \u001b[38;5;28;01mreturn\u001b[39;00m jnp.array(lut)[sub_array_idx][sub_array_param_idx]\n",
      "\u001b[32m~/Documents/dev/FeedBack-GRAPE/.conda/lib/python3.11/site-packages/jax/_src/numpy/lax_numpy.py\u001b[39m in \u001b[36m?\u001b[39m\u001b[34m(object, dtype, copy, order, ndmin, device)\u001b[39m\n\u001b[32m   5542\u001b[39m     \u001b[38;5;28;01massert\u001b[39;00m object.aval \u001b[38;5;28;01mis\u001b[39;00m \u001b[38;5;28;01mnot\u001b[39;00m \u001b[38;5;28;01mNone\u001b[39;00m\n\u001b[32m   5543\u001b[39m     out = _array_copy(object) \u001b[38;5;28;01mif\u001b[39;00m copy \u001b[38;5;28;01melse\u001b[39;00m object\n\u001b[32m   5544\u001b[39m   \u001b[38;5;28;01melif\u001b[39;00m isinstance(object, (list, tuple)):\n\u001b[32m   5545\u001b[39m     \u001b[38;5;28;01mif\u001b[39;00m object:\n\u001b[32m-> \u001b[39m\u001b[32m5546\u001b[39m       out = stack([asarray(elt, dtype=dtype) \u001b[38;5;28;01mfor\u001b[39;00m elt \u001b[38;5;28;01min\u001b[39;00m object])\n\u001b[32m   5547\u001b[39m     \u001b[38;5;28;01melse\u001b[39;00m:\n\u001b[32m   5548\u001b[39m       out = np.array([], dtype=dtype)\n\u001b[32m   5549\u001b[39m   \u001b[38;5;28;01melif\u001b[39;00m _supports_buffer_protocol(object):\n",
      "\u001b[32m~/Documents/dev/FeedBack-GRAPE/.conda/lib/python3.11/site-packages/jax/_src/numpy/lax_numpy.py\u001b[39m in \u001b[36m?\u001b[39m\u001b[34m(.0)\u001b[39m\n\u001b[32m-> \u001b[39m\u001b[32m5546\u001b[39m   leaves = tree_leaves(object, is_leaf=\u001b[38;5;28;01mlambda\u001b[39;00m x: x \u001b[38;5;28;01mis\u001b[39;00m \u001b[38;5;28;01mNone\u001b[39;00m)\n",
      "\u001b[32m~/Documents/dev/FeedBack-GRAPE/.conda/lib/python3.11/site-packages/jax/_src/numpy/lax_numpy.py\u001b[39m in \u001b[36m?\u001b[39m\u001b[34m(a, dtype, order, copy, device)\u001b[39m\n\u001b[32m   5717\u001b[39m                       \"Consider using copy=None or copy=True instead.\")\n\u001b[32m   5718\u001b[39m   dtypes.check_user_dtype_supported(dtype, \u001b[33m\"asarray\"\u001b[39m)\n\u001b[32m   5719\u001b[39m   \u001b[38;5;28;01mif\u001b[39;00m dtype \u001b[38;5;28;01mis\u001b[39;00m \u001b[38;5;28;01mnot\u001b[39;00m \u001b[38;5;28;01mNone\u001b[39;00m:\n\u001b[32m   5720\u001b[39m     dtype = dtypes.canonicalize_dtype(dtype, allow_extended_dtype=\u001b[38;5;28;01mTrue\u001b[39;00m)  \u001b[38;5;66;03m# type: ignore[assignment]\u001b[39;00m\n\u001b[32m-> \u001b[39m\u001b[32m5721\u001b[39m   \u001b[38;5;28;01mreturn\u001b[39;00m array(a, dtype=dtype, copy=bool(copy), order=order, device=device)\n",
      "\u001b[32m~/Documents/dev/FeedBack-GRAPE/.conda/lib/python3.11/site-packages/jax/_src/numpy/lax_numpy.py\u001b[39m in \u001b[36m?\u001b[39m\u001b[34m(object, dtype, copy, order, ndmin, device)\u001b[39m\n\u001b[32m   5542\u001b[39m     \u001b[38;5;28;01massert\u001b[39;00m object.aval \u001b[38;5;28;01mis\u001b[39;00m \u001b[38;5;28;01mnot\u001b[39;00m \u001b[38;5;28;01mNone\u001b[39;00m\n\u001b[32m   5543\u001b[39m     out = _array_copy(object) \u001b[38;5;28;01mif\u001b[39;00m copy \u001b[38;5;28;01melse\u001b[39;00m object\n\u001b[32m   5544\u001b[39m   \u001b[38;5;28;01melif\u001b[39;00m isinstance(object, (list, tuple)):\n\u001b[32m   5545\u001b[39m     \u001b[38;5;28;01mif\u001b[39;00m object:\n\u001b[32m-> \u001b[39m\u001b[32m5546\u001b[39m       out = stack([asarray(elt, dtype=dtype) \u001b[38;5;28;01mfor\u001b[39;00m elt \u001b[38;5;28;01min\u001b[39;00m object])\n\u001b[32m   5547\u001b[39m     \u001b[38;5;28;01melse\u001b[39;00m:\n\u001b[32m   5548\u001b[39m       out = np.array([], dtype=dtype)\n\u001b[32m   5549\u001b[39m   \u001b[38;5;28;01melif\u001b[39;00m _supports_buffer_protocol(object):\n",
      "\u001b[32m~/Documents/dev/FeedBack-GRAPE/.conda/lib/python3.11/site-packages/jax/_src/numpy/lax_numpy.py\u001b[39m in \u001b[36m?\u001b[39m\u001b[34m(.0)\u001b[39m\n\u001b[32m-> \u001b[39m\u001b[32m5546\u001b[39m   leaves = tree_leaves(object, is_leaf=\u001b[38;5;28;01mlambda\u001b[39;00m x: x \u001b[38;5;28;01mis\u001b[39;00m \u001b[38;5;28;01mNone\u001b[39;00m)\n",
      "\u001b[32m~/Documents/dev/FeedBack-GRAPE/.conda/lib/python3.11/site-packages/jax/_src/numpy/lax_numpy.py\u001b[39m in \u001b[36m?\u001b[39m\u001b[34m(a, dtype, order, copy, device)\u001b[39m\n\u001b[32m   5717\u001b[39m                       \"Consider using copy=None or copy=True instead.\")\n\u001b[32m   5718\u001b[39m   dtypes.check_user_dtype_supported(dtype, \u001b[33m\"asarray\"\u001b[39m)\n\u001b[32m   5719\u001b[39m   \u001b[38;5;28;01mif\u001b[39;00m dtype \u001b[38;5;28;01mis\u001b[39;00m \u001b[38;5;28;01mnot\u001b[39;00m \u001b[38;5;28;01mNone\u001b[39;00m:\n\u001b[32m   5720\u001b[39m     dtype = dtypes.canonicalize_dtype(dtype, allow_extended_dtype=\u001b[38;5;28;01mTrue\u001b[39;00m)  \u001b[38;5;66;03m# type: ignore[assignment]\u001b[39;00m\n\u001b[32m-> \u001b[39m\u001b[32m5721\u001b[39m   \u001b[38;5;28;01mreturn\u001b[39;00m array(a, dtype=dtype, copy=bool(copy), order=order, device=device)\n",
      "\u001b[32m~/Documents/dev/FeedBack-GRAPE/.conda/lib/python3.11/site-packages/jax/_src/numpy/lax_numpy.py\u001b[39m in \u001b[36m?\u001b[39m\u001b[34m(object, dtype, copy, order, ndmin, device)\u001b[39m\n\u001b[32m   5542\u001b[39m     \u001b[38;5;28;01massert\u001b[39;00m object.aval \u001b[38;5;28;01mis\u001b[39;00m \u001b[38;5;28;01mnot\u001b[39;00m \u001b[38;5;28;01mNone\u001b[39;00m\n\u001b[32m   5543\u001b[39m     out = _array_copy(object) \u001b[38;5;28;01mif\u001b[39;00m copy \u001b[38;5;28;01melse\u001b[39;00m object\n\u001b[32m   5544\u001b[39m   \u001b[38;5;28;01melif\u001b[39;00m isinstance(object, (list, tuple)):\n\u001b[32m   5545\u001b[39m     \u001b[38;5;28;01mif\u001b[39;00m object:\n\u001b[32m-> \u001b[39m\u001b[32m5546\u001b[39m       out = stack([asarray(elt, dtype=dtype) \u001b[38;5;28;01mfor\u001b[39;00m elt \u001b[38;5;28;01min\u001b[39;00m object])\n\u001b[32m   5547\u001b[39m     \u001b[38;5;28;01melse\u001b[39;00m:\n\u001b[32m   5548\u001b[39m       out = np.array([], dtype=dtype)\n\u001b[32m   5549\u001b[39m   \u001b[38;5;28;01melif\u001b[39;00m _supports_buffer_protocol(object):\n",
      "\u001b[32m~/Documents/dev/FeedBack-GRAPE/.conda/lib/python3.11/site-packages/jax/_src/numpy/lax_numpy.py\u001b[39m in \u001b[36m?\u001b[39m\u001b[34m(arrays, axis, out, dtype)\u001b[39m\n\u001b[32m   4476\u001b[39m     axis = _canonicalize_axis(axis, len(shape0) + \u001b[32m1\u001b[39m)\n\u001b[32m   4477\u001b[39m     new_arrays = []\n\u001b[32m   4478\u001b[39m     \u001b[38;5;28;01mfor\u001b[39;00m a \u001b[38;5;28;01min\u001b[39;00m arrays:\n\u001b[32m   4479\u001b[39m       \u001b[38;5;28;01mif\u001b[39;00m np.shape(a) != shape0:\n\u001b[32m-> \u001b[39m\u001b[32m4480\u001b[39m         \u001b[38;5;28;01mraise\u001b[39;00m ValueError(\u001b[33m\"All input arrays must have the same shape.\"\u001b[39m)\n\u001b[32m   4481\u001b[39m       new_arrays.append(expand_dims(a, axis))\n\u001b[32m   4482\u001b[39m     \u001b[38;5;28;01mreturn\u001b[39;00m concatenate(new_arrays, axis=axis, dtype=dtype)\n",
      "\u001b[31mValueError\u001b[39m: All input arrays must have the same shape."
     ]
    }
   ],
   "source": [
    "num_time_steps = 5\n",
    "num_of_iterations = 1000\n",
    "learning_rate = 0.05\n",
    "# avg_photon_numer = 2 When testing kitten state\n",
    "\n",
    "\n",
    "initial_params = {\n",
    "    \"POVM\": [jnp.pi / 3, jnp.pi / 3],\n",
    "    \"U_q\": [jnp.pi / 3],\n",
    "    \"U_qc\": [jnp.pi / 3],\n",
    "}\n",
    "\n",
    "\n",
    "result = optimize_pulse_with_feedback(\n",
    "    U_0=rho0,\n",
    "    C_target=rho_target,\n",
    "    parameterized_gates=[\n",
    "        povm_measure_operator,\n",
    "        qubit_unitary,\n",
    "        qubit_cavity_unitary,\n",
    "    ],\n",
    "    measurement_indices=[0],\n",
    "    initial_params=initial_params,\n",
    "    num_time_steps=num_time_steps,\n",
    "    mode=\"lookup\",\n",
    "    goal=\"fidelity\",\n",
    "    optimizer=\"adam\",\n",
    "    max_iter=num_of_iterations,\n",
    "    convergence_threshold=1e-20,\n",
    "    learning_rate=learning_rate,\n",
    "    type=\"density\",\n",
    ")"
   ]
  },
  {
   "cell_type": "code",
   "execution_count": null,
   "id": "1cc4d0a4",
   "metadata": {},
   "outputs": [
    {
     "data": {
      "text/plain": [
       "FgResult(optimized_rnn_parameters=[[[Array([ 2.70786046e-16, -2.51327412e+00], dtype=float64)], [Array([-2.39923276, -0.29054238], dtype=float64)], [Array([0., 0.], dtype=float32)], [Array([0., 0.], dtype=float32)], [Array([0., 0.], dtype=float32)], [Array([0., 0.], dtype=float32)], [Array([0., 0.], dtype=float32)], [Array([0., 0.], dtype=float32)], [Array([0., 0.], dtype=float32)], [Array([0., 0.], dtype=float32)], [Array([0., 0.], dtype=float32)], [Array([0., 0.], dtype=float32)], [Array([0., 0.], dtype=float32)], [Array([0., 0.], dtype=float32)], [Array([0., 0.], dtype=float32)], [Array([0., 0.], dtype=float32)], [Array([0., 0.], dtype=float32)], [Array([0., 0.], dtype=float32)], [Array([0., 0.], dtype=float32)], [Array([0., 0.], dtype=float32)], [Array([0., 0.], dtype=float32)], [Array([0., 0.], dtype=float32)], [Array([0., 0.], dtype=float32)], [Array([0., 0.], dtype=float32)], [Array([0., 0.], dtype=float32)], [Array([0., 0.], dtype=float32)], [Array([0., 0.], dtype=float32)], [Array([0., 0.], dtype=float32)], [Array([0., 0.], dtype=float32)], [Array([0., 0.], dtype=float32)], [Array([0., 0.], dtype=float32)], [Array([0., 0.], dtype=float32)]], [[Array([ 0.02755132, -1.89531909], dtype=float64)], [Array([-2.39923276, -0.29054238], dtype=float64)], [Array([-0.4773859 , -2.20922398], dtype=float64)], [Array([ 2.2958313 , -0.29402536], dtype=float64)], [Array([0., 0.], dtype=float32)], [Array([0., 0.], dtype=float32)], [Array([0., 0.], dtype=float32)], [Array([0., 0.], dtype=float32)], [Array([0., 0.], dtype=float32)], [Array([0., 0.], dtype=float32)], [Array([0., 0.], dtype=float32)], [Array([0., 0.], dtype=float32)], [Array([0., 0.], dtype=float32)], [Array([0., 0.], dtype=float32)], [Array([0., 0.], dtype=float32)], [Array([0., 0.], dtype=float32)], [Array([0., 0.], dtype=float32)], [Array([0., 0.], dtype=float32)], [Array([0., 0.], dtype=float32)], [Array([0., 0.], dtype=float32)], [Array([0., 0.], dtype=float32)], [Array([0., 0.], dtype=float32)], [Array([0., 0.], dtype=float32)], [Array([0., 0.], dtype=float32)], [Array([0., 0.], dtype=float32)], [Array([0., 0.], dtype=float32)], [Array([0., 0.], dtype=float32)], [Array([0., 0.], dtype=float32)], [Array([0., 0.], dtype=float32)], [Array([0., 0.], dtype=float32)], [Array([0., 0.], dtype=float32)], [Array([0., 0.], dtype=float32)]], [[Array([-0.02752713, -1.87330733], dtype=float64)], [Array([-2.39923276, -0.29054238], dtype=float64)], [Array([-0.4773859 , -2.20922398], dtype=float64)], [Array([ 2.2958313 , -0.29402536], dtype=float64)], [Array([-2.12277184, -0.97062874], dtype=float64)], [Array([ 0.84408699, -2.84525319], dtype=float64)], [Array([0.10061492, 2.09547855], dtype=float64)], [Array([ 2.1620877 , -2.85625697], dtype=float64)], [Array([0., 0.], dtype=float32)], [Array([0., 0.], dtype=float32)], [Array([0., 0.], dtype=float32)], [Array([0., 0.], dtype=float32)], [Array([0., 0.], dtype=float32)], [Array([0., 0.], dtype=float32)], [Array([0., 0.], dtype=float32)], [Array([0., 0.], dtype=float32)], [Array([0., 0.], dtype=float32)], [Array([0., 0.], dtype=float32)], [Array([0., 0.], dtype=float32)], [Array([0., 0.], dtype=float32)], [Array([0., 0.], dtype=float32)], [Array([0., 0.], dtype=float32)], [Array([0., 0.], dtype=float32)], [Array([0., 0.], dtype=float32)], [Array([0., 0.], dtype=float32)], [Array([0., 0.], dtype=float32)], [Array([0., 0.], dtype=float32)], [Array([0., 0.], dtype=float32)], [Array([0., 0.], dtype=float32)], [Array([0., 0.], dtype=float32)], [Array([0., 0.], dtype=float32)], [Array([0., 0.], dtype=float32)]], [[Array([ 0.02748782, -1.89533361], dtype=float64)], [Array([-2.39923276, -0.29054238], dtype=float64)], [Array([-0.4773859 , -2.20922398], dtype=float64)], [Array([ 2.2958313 , -0.29402536], dtype=float64)], [Array([-2.12277184, -0.97062874], dtype=float64)], [Array([ 0.84408699, -2.84525319], dtype=float64)], [Array([0.10061492, 2.09547855], dtype=float64)], [Array([ 2.1620877 , -2.85625697], dtype=float64)], [Array([2.5881044 , 2.66409672], dtype=float64)], [Array([ 0.98717851, -2.93227748], dtype=float64)], [Array([-2.57995869, -1.46391051], dtype=float64)], [Array([-0.29865376,  2.63398835], dtype=float64)], [Array([-1.23294735,  0.90749493], dtype=float64)], [Array([2.00202829, 0.43845816], dtype=float64)], [Array([-1.7501032 , -0.37134075], dtype=float64)], [Array([0.17451411, 1.77348241], dtype=float64)], [Array([0., 0.], dtype=float32)], [Array([0., 0.], dtype=float32)], [Array([0., 0.], dtype=float32)], [Array([0., 0.], dtype=float32)], [Array([0., 0.], dtype=float32)], [Array([0., 0.], dtype=float32)], [Array([0., 0.], dtype=float32)], [Array([0., 0.], dtype=float32)], [Array([0., 0.], dtype=float32)], [Array([0., 0.], dtype=float32)], [Array([0., 0.], dtype=float32)], [Array([0., 0.], dtype=float32)], [Array([0., 0.], dtype=float32)], [Array([0., 0.], dtype=float32)], [Array([0., 0.], dtype=float32)], [Array([0., 0.], dtype=float32)]], [[Array([-0.51234908, -1.78256823], dtype=float64)], [Array([-2.39923276, -0.29054238], dtype=float64)], [Array([-0.4773859 , -2.20922398], dtype=float64)], [Array([ 2.2958313 , -0.29402536], dtype=float64)], [Array([-2.12277184, -0.97062874], dtype=float64)], [Array([ 0.84408699, -2.84525319], dtype=float64)], [Array([0.10061492, 2.09547855], dtype=float64)], [Array([ 2.1620877 , -2.85625697], dtype=float64)], [Array([2.5881044 , 2.66409672], dtype=float64)], [Array([ 0.98717851, -2.93227748], dtype=float64)], [Array([-2.57995869, -1.46391051], dtype=float64)], [Array([-0.29865376,  2.63398835], dtype=float64)], [Array([-1.23294735,  0.90749493], dtype=float64)], [Array([2.00202829, 0.43845816], dtype=float64)], [Array([-1.7501032 , -0.37134075], dtype=float64)], [Array([0.17451411, 1.77348241], dtype=float64)], [Array([ 0.3249403 , -0.79430741], dtype=float64)], [Array([-1.07802385, -2.15088079], dtype=float64)], [Array([2.75090533, 2.64213852], dtype=float64)], [Array([1.53800503, 2.99108944], dtype=float64)], [Array([-1.70745957,  1.52173025], dtype=float64)], [Array([ 0.29708408, -2.33805715], dtype=float64)], [Array([ 2.67565434, -1.03647169], dtype=float64)], [Array([ 0.63932091, -2.86316411], dtype=float64)], [Array([-2.37960793, -2.05643074], dtype=float64)], [Array([-0.79607944,  1.23614523], dtype=float64)], [Array([-0.75671082,  2.95433573], dtype=float64)], [Array([-2.97649508, -0.35751686], dtype=float64)], [Array([-0.65719014,  1.90811916], dtype=float64)], [Array([ 0.08778687, -0.72084961], dtype=float64)], [Array([2.66307393, 1.59465778], dtype=float64)], [Array([1.80795114, 1.97247204], dtype=float64)]]], iterations=1000, final_state=Array([[ 0.60826861+0.j, -0.09774072+0.j, -0.16434087+0.j,\n",
       "        -0.13553502+0.j, -0.10864821+0.j, -0.11565426+0.j,\n",
       "        -0.05811255+0.j, -0.06248392+0.j, -0.02853549+0.j,\n",
       "        -0.03015162+0.j],\n",
       "       [-0.09774072+0.j,  0.02848828+0.j,  0.0057661 +0.j,\n",
       "         0.03457201+0.j,  0.0296836 +0.j,  0.02267755+0.j,\n",
       "         0.00777878+0.j,  0.0034074 +0.j, -0.00303736+0.j,\n",
       "        -0.00465351+0.j],\n",
       "       [-0.16434087+0.j,  0.0057661 +0.j,  0.08701611+0.j,\n",
       "         0.01354112+0.j,  0.02182129+0.j,  0.01867488+0.j,\n",
       "         0.01758554+0.j,  0.01962361+0.j,  0.01770023+0.j,\n",
       "         0.01757155+0.j],\n",
       "       [-0.13553502+0.j,  0.03457201+0.j,  0.01354112+0.j,\n",
       "         0.0438597 +0.j,  0.03500903+0.j,  0.03186264+0.j,\n",
       "         0.00775273+0.j,  0.00979081+0.j, -0.00108482+0.j,\n",
       "        -0.00121352+0.j],\n",
       "       [-0.10864821+0.j,  0.0296836 +0.j,  0.02182129+0.j,\n",
       "         0.03500903+0.j,  0.06279255+0.j,  0.01967698+0.j,\n",
       "        -0.01717049+0.j, -0.00369543+0.j, -0.01541581+0.j,\n",
       "        -0.01355202+0.j],\n",
       "       [-0.11565426+0.j,  0.02267755+0.j,  0.01867488+0.j,\n",
       "         0.03186264+0.j,  0.01967698+0.j,  0.02810546+0.j,\n",
       "         0.00255134+0.j,  0.01602641+0.j,  0.00521975+0.j,\n",
       "         0.00708355+0.j],\n",
       "       [-0.05811255+0.j,  0.00777878+0.j,  0.01758554+0.j,\n",
       "         0.00775273+0.j, -0.01717049+0.j,  0.00255134+0.j,\n",
       "         0.07823777+0.j, -0.00264163+0.j, -0.00290411+0.j,\n",
       "        -0.00077408+0.j],\n",
       "       [-0.06248392+0.j,  0.0034074 +0.j,  0.01962361+0.j,\n",
       "         0.00979081+0.j, -0.00369543+0.j,  0.01602641+0.j,\n",
       "        -0.00264163+0.j,  0.0184004 +0.j,  0.01254217+0.j,\n",
       "         0.01467221+0.j],\n",
       "       [-0.02853549+0.j, -0.00303736+0.j,  0.01770023+0.j,\n",
       "        -0.00108482+0.j, -0.01541581+0.j,  0.00521975+0.j,\n",
       "        -0.00290411+0.j,  0.01254217+0.j,  0.0299251 +0.j,\n",
       "         0.01614631+0.j],\n",
       "       [-0.03015162+0.j, -0.00465351+0.j,  0.01757155+0.j,\n",
       "        -0.00121352+0.j, -0.01355202+0.j,  0.00708355+0.j,\n",
       "        -0.00077408+0.j,  0.01467221+0.j,  0.01614631+0.j,\n",
       "         0.01490602+0.j]], dtype=complex128), arr_of_povm_params=[[[1.0471975511965976, 1.0471975511965976]], Array([[ 2.70786046e-16, -2.51327412e+00]], dtype=float64), Array([[ 0.02755132, -1.89531909]], dtype=float64), Array([[-0.02752713, -1.87330733]], dtype=float64), Array([[ 0.02748782, -1.89533361]], dtype=float64)], final_purity=None, final_fidelity=Array(0.30142523, dtype=float64))"
      ]
     },
     "execution_count": 18,
     "metadata": {},
     "output_type": "execute_result"
    }
   ],
   "source": [
    "result"
   ]
  },
  {
   "cell_type": "code",
   "execution_count": null,
   "id": "538ba2b6",
   "metadata": {},
   "outputs": [
    {
     "name": "stdout",
     "output_type": "stream",
     "text": [
      "None\n"
     ]
    }
   ],
   "source": [
    "print(result.final_purity)"
   ]
  },
  {
   "cell_type": "code",
   "execution_count": null,
   "id": "c19912da",
   "metadata": {},
   "outputs": [
    {
     "name": "stdout",
     "output_type": "stream",
     "text": [
      "0.3014252265749165\n"
     ]
    }
   ],
   "source": [
    "print(result.final_fidelity)"
   ]
  },
  {
   "cell_type": "code",
   "execution_count": null,
   "id": "050dc029",
   "metadata": {},
   "outputs": [
    {
     "name": "stdout",
     "output_type": "stream",
     "text": [
      "1000\n"
     ]
    }
   ],
   "source": [
    "print(result.iterations)"
   ]
  },
  {
   "cell_type": "code",
   "execution_count": null,
   "id": "7ba69f49",
   "metadata": {},
   "outputs": [
    {
     "name": "stdout",
     "output_type": "stream",
     "text": [
      "[[[1.0471975511965976, 1.0471975511965976], [1.0471975511965976], [1.0471975511965976]], [[-0.0016242020812901811, -0.0032900861287659955], [1.4429755442483019], [3.3352049908164054]], [[-0.0005666572743259005, 0.6210883066382602], [3.6493352208265772], [2.570416137388485]], [[0.00037475809769982327, 0.629152136784469], [-1.7720907365528995], [-3.675815234775065]], [[-0.003429879232455718, 0.626701223807564], [-0.5435530235711684], [4.5669562827207475]]]\n"
     ]
    }
   ],
   "source": [
    "print(result.arr_of_povm_params)"
   ]
  },
  {
   "cell_type": "code",
   "execution_count": null,
   "id": "cb6e56d7",
   "metadata": {},
   "outputs": [
    {
     "name": "stdout",
     "output_type": "stream",
     "text": [
      "[[-0.0016242020812901811, -0.0032900861287659955], [1.4429755442483019], [3.3352049908164054]]\n"
     ]
    }
   ],
   "source": [
    "print(result.arr_of_povm_params[1])"
   ]
  },
  {
   "cell_type": "code",
   "execution_count": null,
   "id": "72844e32",
   "metadata": {},
   "outputs": [
    {
     "data": {
      "text/plain": [
       "[Array([[1.31462179, 0.67951221, 3.03264681, 1.80484666],\n",
       "        [1.67203883, 1.11496751, 2.77405451, 1.98724708]], dtype=float64)]"
      ]
     },
     "execution_count": 21,
     "metadata": {},
     "output_type": "execute_result"
    }
   ],
   "source": [
    "import jax\n",
    "\n",
    "F = []\n",
    "F_1_0 = jnp.array([jnp.pi / 2, 0])\n",
    "key = jax.random.PRNGKey(0)\n",
    "appo = jax.random.uniform(key, shape=(2**1, 4)) * jnp.pi\n",
    "F.append(appo)\n",
    "F"
   ]
  },
  {
   "cell_type": "code",
   "execution_count": null,
   "id": "97d5e8f9",
   "metadata": {},
   "outputs": [],
   "source": [
    "variables = [F] + [F_1_0]"
   ]
  },
  {
   "cell_type": "code",
   "execution_count": null,
   "id": "313caaee",
   "metadata": {},
   "outputs": [
    {
     "data": {
      "text/plain": [
       "[[Array([[1.31462179, 0.67951221, 3.03264681, 1.80484666],\n",
       "         [1.67203883, 1.11496751, 2.77405451, 1.98724708]], dtype=float64)],\n",
       " Array([1.57079633, 0.        ], dtype=float64)]"
      ]
     },
     "execution_count": 23,
     "metadata": {},
     "output_type": "execute_result"
    }
   ],
   "source": [
    "variables"
   ]
  },
  {
   "cell_type": "code",
   "execution_count": null,
   "id": "5459d5f9",
   "metadata": {},
   "outputs": [],
   "source": [
    "def prepare_parameters_from_dict(params_dict):\n",
    "    \"\"\"\n",
    "    Convert a nested dictionary of parameters to a flat list and record shapes.\n",
    "\n",
    "    Args:\n",
    "        params_dict: Nested dictionary of parameters.\n",
    "\n",
    "    Returns:\n",
    "        tuple: Flattened parameters list and list of shapes.\n",
    "    \"\"\"\n",
    "    flat_params = []\n",
    "    param_shapes = []\n",
    "\n",
    "    # returns a flat list of the leaves\n",
    "    def flatten_dict(d):\n",
    "        result = []\n",
    "        for key, value in d.items():\n",
    "            if isinstance(value, dict):\n",
    "                result.extend(flatten_dict(value))\n",
    "            else:\n",
    "                result.append(value)\n",
    "        return result\n",
    "\n",
    "    # flatten each top-level gate\n",
    "    for gate_name, gate_params in params_dict.items():\n",
    "        if isinstance(gate_params, dict):\n",
    "            # Extract parameters for this gate\n",
    "            gate_flat_params = jnp.array(flatten_dict(gate_params))\n",
    "        else:\n",
    "            # If already a flat array\n",
    "            gate_flat_params = jnp.array(gate_params)\n",
    "        # this is checking if use can enter sth like {'gate1': 1} instead of {\"gate1\": {\"param1\": 1}}\n",
    "        # if not (isinstance(gate_flat_params, list)):\n",
    "        #     flat_params.append([gate_flat_params])\n",
    "        #     param_shapes.append(1)\n",
    "        # else:\n",
    "        #     flat_params.append(gate_flat_params)\n",
    "        #     param_shapes.append(len(gate_flat_params))\n",
    "        flat_params.append(gate_flat_params)\n",
    "        param_shapes.append(gate_flat_params.shape)\n",
    "    return flat_params, param_shapes"
   ]
  },
  {
   "cell_type": "code",
   "execution_count": null,
   "id": "1aa585f7",
   "metadata": {},
   "outputs": [],
   "source": [
    "import numpy as np\n",
    "\n",
    "\n",
    "def reshape_params(param_shapes, rnn_flattened_params):\n",
    "    \"\"\"\n",
    "    Reshape the parameters for the gates.\n",
    "    \"\"\"\n",
    "    # Reshape the flattened parameters from RNN output according\n",
    "    # to each gate corressponding params\n",
    "    reshaped_params = []\n",
    "    param_idx = 0\n",
    "    for shape in param_shapes:\n",
    "        num_params = int(np.prod(shape))\n",
    "        # rnn outputs a flat list, this takes each and assigns according to the shape\n",
    "        gate_params = rnn_flattened_params[\n",
    "            param_idx : param_idx + num_params\n",
    "        ].reshape(shape)\n",
    "        reshaped_params.append(gate_params)\n",
    "        param_idx += num_params\n",
    "\n",
    "    new_params = reshaped_params\n",
    "    return new_params"
   ]
  },
  {
   "cell_type": "code",
   "execution_count": null,
   "id": "6cd6695b",
   "metadata": {},
   "outputs": [
    {
     "name": "stdout",
     "output_type": "stream",
     "text": [
      "length of F[0]: 2\n",
      "length of F[1]: 4\n",
      "length of F[2]: 8\n",
      "############\n",
      "############\n",
      "length of F[0]: 8\n",
      "length of F[1]: 8\n",
      "length of F[2]: 8\n"
     ]
    }
   ],
   "source": [
    "import os\n",
    "os.sys.path.append(\"..\")\n",
    "import jax\n",
    "import jax.numpy as jnp\n",
    "from feedback_grape.fgrape import prepare_parameters_from_dict, reshape_params\n",
    "initial_params = {\n",
    "    \"POVM\": [jnp.pi / 3, jnp.pi / 3],\n",
    "    \"U_q\": [jnp.pi / 3],\n",
    "    \"U_qc\": [jnp.pi / 3],\n",
    "}\n",
    "\n",
    "flat_params, param_shapes = prepare_parameters_from_dict(initial_params)\n",
    "num_of_columns = 4\n",
    "num_of_sub_lists = 3\n",
    "F = []\n",
    "\n",
    "def construct_ragged_row(num_of_rows):\n",
    "    res = []\n",
    "    for i in range(num_of_rows):\n",
    "        flattened = jax.random.uniform(\n",
    "            jax.random.PRNGKey(0 + i),\n",
    "            shape=(num_of_columns,),\n",
    "            minval=-jnp.pi,\n",
    "            maxval=jnp.pi,\n",
    "        )\n",
    "        res.append(reshape_params(param_shapes, flattened))\n",
    "    return res\n",
    "\n",
    "\n",
    "for i in range(1, num_of_sub_lists + 1):\n",
    "    F.append(construct_ragged_row(num_of_rows=2**i))\n",
    "\n",
    "for i in range(len(F)):\n",
    "    print(\"length of F[{}]: {}\".format(i, len(F[i])))\n",
    "\n",
    "print(\"############\")\n",
    "min_num_of_rows = 2**len(F)\n",
    "for i in range(len(F)):\n",
    "    if len(F[i]) < min_num_of_rows:\n",
    "        zeros_arrays = [reshape_params(param_shapes, jnp.zeros((num_of_columns,), dtype=jnp.float32)) for _ in range(min_num_of_rows - len(F[i]))]\n",
    "        F[i] = F[i] + zeros_arrays\n",
    "\n",
    "print(\"############\")\n",
    "for i in range(len(F)):\n",
    "    print(\"length of F[{}]: {}\".format(i, len(F[i])))\n",
    "\n"
   ]
  },
  {
   "cell_type": "code",
   "execution_count": null,
   "id": "fc204f70",
   "metadata": {},
   "outputs": [
    {
     "name": "stdout",
     "output_type": "stream",
     "text": [
      "[[[Array([-0.51234908, -1.78256823], dtype=float64), Array([2.92370097], dtype=float64), Array([0.46810066], dtype=float64)], [Array([-2.39923276, -0.29054238], dtype=float64), Array([0.43072842], dtype=float64), Array([2.07843927], dtype=float64)], [Array([0., 0.], dtype=float32), Array([0.], dtype=float32), Array([0.], dtype=float32)], [Array([0., 0.], dtype=float32), Array([0.], dtype=float32), Array([0.], dtype=float32)], [Array([0., 0.], dtype=float32), Array([0.], dtype=float32), Array([0.], dtype=float32)], [Array([0., 0.], dtype=float32), Array([0.], dtype=float32), Array([0.], dtype=float32)], [Array([0., 0.], dtype=float32), Array([0.], dtype=float32), Array([0.], dtype=float32)], [Array([0., 0.], dtype=float32), Array([0.], dtype=float32), Array([0.], dtype=float32)]], [[Array([-0.51234908, -1.78256823], dtype=float64), Array([2.92370097], dtype=float64), Array([0.46810066], dtype=float64)], [Array([-2.39923276, -0.29054238], dtype=float64), Array([0.43072842], dtype=float64), Array([2.07843927], dtype=float64)], [Array([-0.4773859 , -2.20922398], dtype=float64), Array([1.04214091], dtype=float64), Array([-0.38718841], dtype=float64)], [Array([ 2.2958313 , -0.29402536], dtype=float64), Array([-1.6428162], dtype=float64), Array([-1.85833117], dtype=float64)], [Array([0., 0.], dtype=float32), Array([0.], dtype=float32), Array([0.], dtype=float32)], [Array([0., 0.], dtype=float32), Array([0.], dtype=float32), Array([0.], dtype=float32)], [Array([0., 0.], dtype=float32), Array([0.], dtype=float32), Array([0.], dtype=float32)], [Array([0., 0.], dtype=float32), Array([0.], dtype=float32), Array([0.], dtype=float32)]], [[Array([-0.51234908, -1.78256823], dtype=float64), Array([2.92370097], dtype=float64), Array([0.46810066], dtype=float64)], [Array([-2.39923276, -0.29054238], dtype=float64), Array([0.43072842], dtype=float64), Array([2.07843927], dtype=float64)], [Array([-0.4773859 , -2.20922398], dtype=float64), Array([1.04214091], dtype=float64), Array([-0.38718841], dtype=float64)], [Array([ 2.2958313 , -0.29402536], dtype=float64), Array([-1.6428162], dtype=float64), Array([-1.85833117], dtype=float64)], [Array([-2.12277184, -0.97062874], dtype=float64), Array([0.67618105], dtype=float64), Array([-3.00817255], dtype=float64)], [Array([ 0.84408699, -2.84525319], dtype=float64), Array([2.11676531], dtype=float64), Array([1.15871455], dtype=float64)], [Array([0.10061492, 2.09547855], dtype=float64), Array([-2.33811552], dtype=float64), Array([0.95222944], dtype=float64)], [Array([ 2.1620877 , -2.85625697], dtype=float64), Array([-1.72797256], dtype=float64), Array([-2.73704597], dtype=float64)]]]\n"
     ]
    }
   ],
   "source": [
    "print(F)"
   ]
  },
  {
   "cell_type": "code",
   "execution_count": null,
   "id": "c9ba8ed7",
   "metadata": {},
   "outputs": [
    {
     "name": "stdout",
     "output_type": "stream",
     "text": [
      "sub_array_idx: 1\n",
      "binary_history: [0 1]\n",
      "sub_array_param_idx: 1\n"
     ]
    }
   ],
   "source": [
    "def convert_to_index(measurement_history):\n",
    "    # Convert measurement history from [1, -1, ...] to [0, 1, ...] and then to an integer index\n",
    "    binary_history = jnp.where(jnp.array(measurement_history) == 1, 0, 1)\n",
    "    print(f\"binary_history: {binary_history}\")\n",
    "    # Convert binary list to integer index (e.g., [0,1] -> 1)\n",
    "    # Reverse the binary_history to operate from last element backwards\n",
    "    reversed_binary = binary_history[::-1]\n",
    "    int_index = sum((2**i) * reversed_binary[i] for i in range(len(reversed_binary)))\n",
    "    return int_index\n",
    "\n",
    "def extract_from_lut(lut, measurement_history):\n",
    "    \"\"\"\n",
    "    Extract parameters from the lookup table based on the measurement history.\n",
    "\n",
    "    Args:\n",
    "        lut: Lookup table for parameters.\n",
    "        measurement_history: History of measurements.\n",
    "        time_step: Current time step.\n",
    "\n",
    "    Returns:\n",
    "        Extracted parameters.\n",
    "    \"\"\"\n",
    "    sub_array_idx = len(measurement_history) - 1\n",
    "    print(f\"sub_array_idx: {sub_array_idx}\")\n",
    "    sub_array_param_idx = convert_to_index(measurement_history)\n",
    "    print(f\"sub_array_param_idx: {sub_array_param_idx}\")\n",
    "    return lut[sub_array_idx][sub_array_param_idx]\n",
    "\n",
    "extracted_lut_params = extract_from_lut(F, [1, -1])"
   ]
  },
  {
   "cell_type": "code",
   "execution_count": null,
   "id": "3882bcbd",
   "metadata": {},
   "outputs": [
    {
     "name": "stdout",
     "output_type": "stream",
     "text": [
      "[Array([-2.39923276, -0.29054238], dtype=float64), Array([0.43072842], dtype=float64), Array([2.07843927], dtype=float64)]\n"
     ]
    }
   ],
   "source": [
    "print(extracted_lut_params)"
   ]
  },
  {
   "cell_type": "code",
   "execution_count": null,
   "id": "ef355579",
   "metadata": {},
   "outputs": [],
   "source": []
  }
 ],
 "metadata": {
  "kernelspec": {
   "display_name": "Python 3",
   "language": "python",
   "name": "python3"
  },
  "language_info": {
   "codemirror_mode": {
    "name": "ipython",
    "version": 3
   },
   "file_extension": ".py",
   "mimetype": "text/x-python",
   "name": "python",
   "nbconvert_exporter": "python",
   "pygments_lexer": "ipython3",
   "version": "3.11.11"
  }
 },
 "nbformat": 4,
 "nbformat_minor": 5
}

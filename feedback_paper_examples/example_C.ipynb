{
 "cells": [
  {
   "cell_type": "code",
   "execution_count": 23,
   "id": "edefb299",
   "metadata": {},
   "outputs": [],
   "source": [
    "# ruff: noqa\n",
    "import os\n",
    "\n",
    "os.sys.path.append(\"..\")\n",
    "from feedback_grape.fgrape import optimize_pulse_with_feedback\n",
    "from feedback_grape.utils.operators import (\n",
    "    sigmap,\n",
    "    sigmam,\n",
    "    create,\n",
    "    destroy,\n",
    "    identity,\n",
    "    cosm,\n",
    "    sinm,\n",
    ")\n",
    "from feedback_grape.utils.states import basis, fock\n",
    "from feedback_grape.utils.tensor import tensor\n",
    "import jax.numpy as jnp\n",
    "from jax.scipy.linalg import expm"
   ]
  },
  {
   "cell_type": "markdown",
   "id": "8ecde886",
   "metadata": {},
   "source": [
    "## defining parameterized operations that are repeated num_time_steps times"
   ]
  },
  {
   "cell_type": "code",
   "execution_count": 24,
   "id": "b9a9cb9b",
   "metadata": {},
   "outputs": [],
   "source": [
    "N_cav = 5"
   ]
  },
  {
   "cell_type": "code",
   "execution_count": 25,
   "id": "1d1d8650",
   "metadata": {},
   "outputs": [],
   "source": [
    "def qubit_unitary(alpha):\n",
    "    \"\"\"\n",
    "    TODO: see if alpha, can be sth elser other than scalar, and if the algo understands this\n",
    "    see if there can be multiple params like alpha and beta input\n",
    "    \"\"\"\n",
    "    return expm(\n",
    "        -1j\n",
    "        * (\n",
    "            alpha * tensor(identity(N_cav), sigmap())\n",
    "            + alpha.conjugate() * tensor(identity(N_cav), sigmam())\n",
    "        )\n",
    "        / 2\n",
    "    )"
   ]
  },
  {
   "cell_type": "code",
   "execution_count": 26,
   "id": "04f55cc7",
   "metadata": {},
   "outputs": [],
   "source": [
    "def qubit_cavity_unitary(beta):\n",
    "    return expm(\n",
    "        -1j\n",
    "        * (\n",
    "            beta\n",
    "            * (\n",
    "                tensor(destroy(N_cav), identity(2))\n",
    "                @ tensor(identity(N_cav), sigmap())\n",
    "            )\n",
    "            + beta.conjugate()\n",
    "            * (\n",
    "                tensor(create(N_cav), identity(2))\n",
    "                @ tensor(identity(N_cav), sigmam())\n",
    "            )\n",
    "        )\n",
    "        / 2\n",
    "    )"
   ]
  },
  {
   "cell_type": "code",
   "execution_count": 27,
   "id": "98b6f96a",
   "metadata": {},
   "outputs": [
    {
     "name": "stdout",
     "output_type": "stream",
     "text": [
      "Uq unitary check: True\n",
      "Uqc unitary check: True\n"
     ]
    }
   ],
   "source": [
    "alpha = 0.1 + 0.1j\n",
    "beta = 0.1 + 0.1j\n",
    "Uq = qubit_unitary(alpha)\n",
    "Uqc = qubit_cavity_unitary(beta)\n",
    "print(\n",
    "    \"Uq unitary check:\",\n",
    "    jnp.allclose(Uq.conj().T @ Uq, jnp.eye(Uq.shape[0]), atol=1e-7),\n",
    ")\n",
    "print(\n",
    "    \"Uqc unitary check:\",\n",
    "    jnp.allclose(Uqc.conj().T @ Uqc, jnp.eye(Uqc.shape[0]), atol=1e-7),\n",
    ")"
   ]
  },
  {
   "cell_type": "code",
   "execution_count": 28,
   "id": "dadf0eae",
   "metadata": {},
   "outputs": [
    {
     "data": {
      "text/plain": [
       "Array([[0.99875027+0.j        , 0.        -0.04997917j,\n",
       "        0.        +0.j        , 0.        +0.j        ,\n",
       "        0.        +0.j        , 0.        +0.j        ,\n",
       "        0.        +0.j        , 0.        +0.j        ,\n",
       "        0.        +0.j        , 0.        +0.j        ],\n",
       "       [0.        -0.04997917j, 0.99875027+0.j        ,\n",
       "        0.        +0.j        , 0.        +0.j        ,\n",
       "        0.        +0.j        , 0.        +0.j        ,\n",
       "        0.        +0.j        , 0.        +0.j        ,\n",
       "        0.        +0.j        , 0.        +0.j        ],\n",
       "       [0.        +0.j        , 0.        +0.j        ,\n",
       "        0.99875027+0.j        , 0.        -0.04997917j,\n",
       "        0.        +0.j        , 0.        +0.j        ,\n",
       "        0.        +0.j        , 0.        +0.j        ,\n",
       "        0.        +0.j        , 0.        +0.j        ],\n",
       "       [0.        +0.j        , 0.        +0.j        ,\n",
       "        0.        -0.04997917j, 0.99875027+0.j        ,\n",
       "        0.        +0.j        , 0.        +0.j        ,\n",
       "        0.        +0.j        , 0.        +0.j        ,\n",
       "        0.        +0.j        , 0.        +0.j        ],\n",
       "       [0.        +0.j        , 0.        +0.j        ,\n",
       "        0.        +0.j        , 0.        +0.j        ,\n",
       "        0.99875027+0.j        , 0.        -0.04997917j,\n",
       "        0.        +0.j        , 0.        +0.j        ,\n",
       "        0.        +0.j        , 0.        +0.j        ],\n",
       "       [0.        +0.j        , 0.        +0.j        ,\n",
       "        0.        +0.j        , 0.        +0.j        ,\n",
       "        0.        -0.04997917j, 0.99875027+0.j        ,\n",
       "        0.        +0.j        , 0.        +0.j        ,\n",
       "        0.        +0.j        , 0.        +0.j        ],\n",
       "       [0.        +0.j        , 0.        +0.j        ,\n",
       "        0.        +0.j        , 0.        +0.j        ,\n",
       "        0.        +0.j        , 0.        +0.j        ,\n",
       "        0.99875027+0.j        , 0.        -0.04997917j,\n",
       "        0.        +0.j        , 0.        +0.j        ],\n",
       "       [0.        +0.j        , 0.        +0.j        ,\n",
       "        0.        +0.j        , 0.        +0.j        ,\n",
       "        0.        +0.j        , 0.        +0.j        ,\n",
       "        0.        -0.04997917j, 0.99875027+0.j        ,\n",
       "        0.        +0.j        , 0.        +0.j        ],\n",
       "       [0.        +0.j        , 0.        +0.j        ,\n",
       "        0.        +0.j        , 0.        +0.j        ,\n",
       "        0.        +0.j        , 0.        +0.j        ,\n",
       "        0.        +0.j        , 0.        +0.j        ,\n",
       "        0.99875027+0.j        , 0.        -0.04997917j],\n",
       "       [0.        +0.j        , 0.        +0.j        ,\n",
       "        0.        +0.j        , 0.        +0.j        ,\n",
       "        0.        +0.j        , 0.        +0.j        ,\n",
       "        0.        +0.j        , 0.        +0.j        ,\n",
       "        0.        -0.04997917j, 0.99875027+0.j        ]], dtype=complex64)"
      ]
     },
     "execution_count": 28,
     "metadata": {},
     "output_type": "execute_result"
    }
   ],
   "source": [
    "qubit_unitary(0.1)"
   ]
  },
  {
   "cell_type": "code",
   "execution_count": 29,
   "id": "b21389c6",
   "metadata": {},
   "outputs": [],
   "source": [
    "from feedback_grape.utils.operators import create, destroy\n",
    "\n",
    "\n",
    "def povm_measure_operator(measurement_outcome, gamma, delta):\n",
    "    \"\"\"\n",
    "    POVM for the measurement of the cavity state.\n",
    "    returns Mm ( NOT the POVM element Em = Mm_dag @ Mm ), given measurement_outcome m, gamma and delta\n",
    "    \"\"\"\n",
    "    number_operator = tensor(create(N_cav) @ destroy(N_cav), identity(2))\n",
    "    angle = (gamma * number_operator) + delta / 2\n",
    "    meas_op = jnp.where(\n",
    "        measurement_outcome == 1,\n",
    "        cosm(angle),\n",
    "        sinm(angle),\n",
    "    )\n",
    "    return meas_op"
   ]
  },
  {
   "cell_type": "markdown",
   "id": "d13bbcb6",
   "metadata": {},
   "source": [
    "### defining initial (thermal) state"
   ]
  },
  {
   "cell_type": "code",
   "execution_count": 30,
   "id": "4b80af46",
   "metadata": {},
   "outputs": [],
   "source": [
    "# initial state is a thermal state coupled to a qubit in the ground state?\n",
    "n_average = 1\n",
    "# natural logarithm\n",
    "beta = jnp.log((1 / n_average) + 1)\n",
    "diags = jnp.exp(-beta * jnp.arange(N_cav))\n",
    "normalized_diags = diags / jnp.sum(diags, axis=0)\n",
    "rho_cav = jnp.diag(normalized_diags)"
   ]
  },
  {
   "cell_type": "code",
   "execution_count": 31,
   "id": "c025c141",
   "metadata": {},
   "outputs": [
    {
     "data": {
      "text/plain": [
       "(5, 5)"
      ]
     },
     "execution_count": 31,
     "metadata": {},
     "output_type": "execute_result"
    }
   ],
   "source": [
    "rho_cav.shape"
   ]
  },
  {
   "cell_type": "code",
   "execution_count": 32,
   "id": "0b1f2052",
   "metadata": {},
   "outputs": [],
   "source": [
    "rho0 = tensor(rho_cav, basis(2, 0) @ basis(2, 0).conj().T)"
   ]
  },
  {
   "cell_type": "code",
   "execution_count": 33,
   "id": "237bb0b9",
   "metadata": {},
   "outputs": [
    {
     "data": {
      "text/plain": [
       "Array(0.88501454, dtype=float64)"
      ]
     },
     "execution_count": 33,
     "metadata": {},
     "output_type": "execute_result"
    }
   ],
   "source": [
    "from feedback_grape.fgrape import _probability_of_a_measurement_outcome_given_a_certain_state\n",
    "_probability_of_a_measurement_outcome_given_a_certain_state(rho0, 1, povm_measure_operator, [0.1, -3*jnp.pi / 2])"
   ]
  },
  {
   "cell_type": "markdown",
   "id": "43a8ce4c",
   "metadata": {},
   "source": [
    "### defining target state"
   ]
  },
  {
   "cell_type": "code",
   "execution_count": 34,
   "id": "0b8272be",
   "metadata": {},
   "outputs": [
    {
     "data": {
      "text/plain": [
       "(10, 10)"
      ]
     },
     "execution_count": 34,
     "metadata": {},
     "output_type": "execute_result"
    }
   ],
   "source": [
    "psi_target = tensor((fock(N_cav, 1) + fock(N_cav, 2) + fock(N_cav, 3)) / jnp.sqrt(3), basis(2))\n",
    "\n",
    "rho_target = psi_target @ psi_target.conj().T\n",
    "rho_target.shape"
   ]
  },
  {
   "cell_type": "code",
   "execution_count": 35,
   "id": "882b04b4",
   "metadata": {},
   "outputs": [
    {
     "name": "stdout",
     "output_type": "stream",
     "text": [
      "0.3880207144091314\n"
     ]
    }
   ],
   "source": [
    "from feedback_grape.utils.fidelity import fidelity\n",
    "print(fidelity(U_final=rho0, C_target=rho_target, type=\"density\"))"
   ]
  },
  {
   "cell_type": "code",
   "execution_count": null,
   "id": "18cb7d80",
   "metadata": {},
   "outputs": [],
   "source": []
  },
  {
   "cell_type": "markdown",
   "id": "cd6f7f95",
   "metadata": {},
   "source": [
    "### initialize random params"
   ]
  },
  {
   "cell_type": "code",
   "execution_count": null,
   "id": "03a17ecd",
   "metadata": {},
   "outputs": [],
   "source": []
  },
  {
   "cell_type": "code",
   "execution_count": null,
   "id": "fca21f29",
   "metadata": {},
   "outputs": [],
   "source": [
    "num_time_steps = 5\n",
    "num_of_iterations = 1000\n",
    "learning_rate = 0.05\n",
    "# avg_photon_numer = 2 When testing kitten state\n",
    "import jax\n",
    "import numpy as np\n",
    "\n",
    "key = jax.random.PRNGKey(0)\n",
    "two_pi = 2 * np.pi\n",
    "\n",
    "def random_params(key):\n",
    "    subkeys = jax.random.split(key, 4)\n",
    "    return {\n",
    "        \"POVM\": {\n",
    "            \"gamma\": float(jax.random.uniform(subkeys[0], (), minval=-two_pi, maxval=two_pi)),\n",
    "            \"delta\": float(jax.random.uniform(subkeys[1], (), minval=-two_pi, maxval=two_pi)),\n",
    "        },\n",
    "        \"U_q\": {\n",
    "            \"alpha\": float(jax.random.uniform(subkeys[2], (), minval=-two_pi, maxval=two_pi)),\n",
    "        },\n",
    "        \"U_qc\": {\n",
    "            \"beta\": float(jax.random.uniform(subkeys[3], (), minval=-two_pi, maxval=two_pi)),\n",
    "        }\n",
    "    }\n",
    "\n",
    "result = None\n",
    "while True:\n",
    "    key, subkey = jax.random.split(key)\n",
    "    initial_params = random_params(subkey)\n",
    "    result = optimize_pulse_with_feedback(\n",
    "        U_0=rho0,\n",
    "        C_target=rho_target,\n",
    "        parameterized_gates=[\n",
    "            povm_measure_operator,\n",
    "            qubit_unitary,\n",
    "            qubit_cavity_unitary,\n",
    "        ],\n",
    "        measurement_indices=[0],\n",
    "        initial_params=initial_params,\n",
    "        num_time_steps=num_time_steps,\n",
    "        mode=\"nn\",\n",
    "        goal=\"fidelity\",\n",
    "        optimizer=\"adam\",\n",
    "        max_iter=num_of_iterations,\n",
    "        convergence_threshold=1e-20,\n",
    "        learning_rate=learning_rate,\n",
    "        type=\"density\",\n",
    "    )\n",
    "    if 1 - result.final_fidelity <= 0.1:\n",
    "        print(\"Final fidelity:\", result.final_fidelity)\n",
    "        print(\"Final params:\", result.arr_of_povm_params)\n",
    "        break"
   ]
  },
  {
   "cell_type": "code",
   "execution_count": null,
   "id": "1cc4d0a4",
   "metadata": {},
   "outputs": [
    {
     "data": {
      "text/plain": [
       "FgResult(optimized_rnn_parameters={'params': {'Dense_0': {'bias': Array([-0.02477128, -0.03159048,  0.09968101,  0.4406398 ], dtype=float32), 'kernel': Array([[-2.90966868e-01,  1.34036928e-01, -4.69395667e-01,\n",
       "         1.22098148e-01],\n",
       "       [ 7.39660114e-02,  1.36926293e-01,  3.61723781e-01,\n",
       "        -3.82151127e-01],\n",
       "       [-5.01855165e-02,  3.89884785e-02,  5.97730637e-01,\n",
       "         1.59703195e+00],\n",
       "       [-9.29817930e-02,  1.32404715e-02,  8.12745333e-01,\n",
       "         1.82051718e-01],\n",
       "       [-1.55934066e-01, -1.11989900e-01, -4.06773165e-02,\n",
       "        -1.96117282e-01],\n",
       "       [ 1.07954070e-02, -8.18710949e-04, -7.63501287e-01,\n",
       "        -4.67290074e-01],\n",
       "       [-2.70321611e-02, -3.29068638e-02, -2.76853710e-01,\n",
       "        -1.22758424e+00],\n",
       "       [ 1.09852508e-01,  9.81816947e-02,  1.48313180e-01,\n",
       "        -5.74714363e-01],\n",
       "       [-9.82326176e-03,  1.19504243e-01, -1.49631172e-01,\n",
       "        -2.74633616e-01],\n",
       "       [ 2.21493319e-02, -2.18173885e-03, -1.11455373e-01,\n",
       "        -8.82297516e-01],\n",
       "       [ 7.77035952e-02, -2.12590471e-02, -3.78145278e-01,\n",
       "         3.46686393e-02],\n",
       "       [ 6.85781240e-02, -1.46027673e-02, -9.49297398e-02,\n",
       "         4.30072471e-02],\n",
       "       [ 9.53643098e-02, -2.01611966e-01, -3.87960263e-02,\n",
       "        -1.65539518e-01],\n",
       "       [ 1.84100404e-01,  1.67503551e-01,  5.42492330e-01,\n",
       "        -2.62957603e-01],\n",
       "       [-6.76529035e-02,  1.71800107e-01,  2.93887258e-01,\n",
       "        -2.21772715e-01],\n",
       "       [-1.75641328e-01,  1.37902319e-01, -2.75094807e-01,\n",
       "        -1.28817230e-01],\n",
       "       [ 1.16543978e-01,  3.13465223e-02,  7.44804502e-01,\n",
       "         1.00492632e+00],\n",
       "       [ 1.05208173e-01, -1.19022518e-01,  2.17895880e-01,\n",
       "         5.04538596e-01],\n",
       "       [ 1.64781108e-01, -8.09643231e-03, -2.98923969e-01,\n",
       "         1.26495451e-01],\n",
       "       [-2.50165671e-01,  5.98217594e-03, -7.48321414e-01,\n",
       "        -4.20806378e-01],\n",
       "       [ 1.72005631e-02,  4.42201793e-02, -5.49681544e-01,\n",
       "        -2.01926574e-01],\n",
       "       [-8.57483745e-02, -3.82731333e-02,  2.17926398e-01,\n",
       "        -3.83963108e-01],\n",
       "       [ 2.55090177e-01, -8.03035777e-03, -1.01974346e-01,\n",
       "        -2.16134831e-01],\n",
       "       [ 7.23638088e-02,  1.47297829e-01, -2.16192499e-01,\n",
       "         3.64722341e-01],\n",
       "       [ 5.33942739e-03,  1.04759298e-02,  1.65779695e-01,\n",
       "        -2.30130270e-01],\n",
       "       [-1.30620271e-01, -4.96985279e-02,  4.80547920e-02,\n",
       "         3.85228038e-01],\n",
       "       [-5.03726192e-02,  3.92028391e-02, -5.39231539e-01,\n",
       "         1.53012216e-01],\n",
       "       [-2.95596659e-01, -9.78507660e-03,  2.37661630e-01,\n",
       "        -4.58912581e-01],\n",
       "       [-2.61209756e-01,  4.78202812e-02,  6.38425767e-01,\n",
       "         6.38012230e-01],\n",
       "       [-2.76403755e-01, -8.21340308e-02,  1.60991907e-01,\n",
       "        -3.20997208e-01],\n",
       "       [-8.06448013e-02, -3.74056771e-02,  7.14229107e-01,\n",
       "         8.31630409e-01],\n",
       "       [-9.92037356e-02,  4.47316244e-02, -4.88493621e-01,\n",
       "        -9.60061550e-01]], dtype=float32)}, 'GRUCell_0': {'candidate_gate': {'bias': Array([ 0.02872577, -0.06690668,  0.2511217 ,  0.04554933,  0.01910248,\n",
       "       -0.23142454, -0.36087885, -0.10017808, -0.05387815, -0.16883948,\n",
       "        0.02721608, -0.02958383, -0.02764891, -0.06837312, -0.02598837,\n",
       "       -0.07189068,  0.15590581,  0.0765514 ,  0.01774091, -0.04806576,\n",
       "        0.08379474, -0.1484305 , -0.00237069,  0.03113222, -0.1263675 ,\n",
       "        0.04238662,  0.03132392, -0.04304194,  0.08739778, -0.03221646,\n",
       "        0.13822365, -0.34376037], dtype=float32), 'kernel': Array([[ 0.24708533, -0.09755753,  0.36426368, ..., -0.40739354,\n",
       "         0.16694058, -0.42997068],\n",
       "       [-0.04255345,  0.19656843, -0.43815237, ...,  0.2867577 ,\n",
       "        -0.03427146,  0.45248786],\n",
       "       [-0.0930975 ,  0.13499288,  0.15139988, ..., -0.14997034,\n",
       "         0.29118943, -0.09753925],\n",
       "       ...,\n",
       "       [ 0.01269957, -0.13195288,  0.00865806, ...,  0.06872096,\n",
       "         0.1405694 , -0.20915774],\n",
       "       [-0.23958349, -0.19738938, -0.20618907, ..., -0.12288673,\n",
       "        -0.22377752,  0.39692533],\n",
       "       [-0.3135181 ,  0.36411914,  0.09298818, ..., -0.16440392,\n",
       "         0.22698191, -0.4893036 ]], dtype=float32)}, 'reset_gate': {'bias': Array([ 8.01707059e-02, -2.19113797e-01,  9.10236910e-02, -1.91714197e-01,\n",
       "        3.68654653e-02,  1.17188126e-01,  1.89948022e-01, -2.95980871e-01,\n",
       "       -1.63676962e-01,  8.97628590e-02, -7.66328275e-02, -4.96907160e-04,\n",
       "        8.83258805e-02,  8.27131793e-02,  4.08777110e-02,  1.03977807e-01,\n",
       "        8.15915167e-02, -5.65331709e-03,  4.91568595e-02, -2.14647606e-01,\n",
       "        2.43367851e-01,  1.28889326e-02,  6.20544776e-02, -2.00633332e-02,\n",
       "       -8.75220224e-02,  4.19219956e-02, -1.75905034e-01,  9.17991325e-02,\n",
       "        3.55665907e-02, -2.70448072e-04,  2.05971539e-01,  2.14265078e-01],      dtype=float32), 'kernel': Array([[ 0.07240412,  0.02181126,  0.16391404, ...,  0.10635327,\n",
       "        -0.04805155,  0.33450213],\n",
       "       [-0.22181611, -0.5038719 ,  0.05959835, ..., -0.02673174,\n",
       "        -0.04566514,  0.31663194],\n",
       "       [ 0.16631803,  0.25583744, -0.04794046, ..., -0.03296325,\n",
       "         0.122477  ,  0.05140376],\n",
       "       ...,\n",
       "       [-0.2250371 ,  0.19869277,  0.19315761, ...,  0.23322688,\n",
       "        -0.2358476 ,  0.06948745],\n",
       "       [ 0.22803907,  0.43813396,  0.4727906 , ...,  0.41970766,\n",
       "         0.6474461 ,  0.8640028 ],\n",
       "       [ 0.21378678, -0.16914433,  0.11126011, ..., -0.12480007,\n",
       "        -0.4597455 , -0.12496947]], dtype=float32)}, 'update_gate': {'bias': Array([ 0.07619926, -0.14914627, -1.0636741 , -0.5081256 ,  0.2129063 ,\n",
       "       -0.7016847 , -0.7183236 ,  0.09430183,  0.14075495, -0.38933516,\n",
       "       -0.0180339 ,  0.15049721,  0.03629659, -0.0234445 ,  0.01882522,\n",
       "        0.0466565 , -0.35228997, -0.02959666,  0.05214728, -0.14939035,\n",
       "       -0.04338936,  0.00651885, -0.01226913,  0.00434204,  0.2662508 ,\n",
       "       -0.07503051,  0.01898207, -0.0024433 , -0.35012865,  0.02759698,\n",
       "       -0.72491366, -0.49518785], dtype=float32), 'kernel': Array([[-0.2577664 , -0.3942406 , -1.1750811 , ..., -0.19536084,\n",
       "        -0.5158676 , -0.42287192],\n",
       "       [-0.25466272, -0.00178888,  0.04017199, ...,  0.02941431,\n",
       "        -0.20977016, -0.14885612],\n",
       "       [-0.00151119,  0.15616158, -0.19703928, ...,  0.26169103,\n",
       "        -0.32400566, -0.40081286],\n",
       "       ...,\n",
       "       [ 0.1462622 ,  0.218958  , -0.04496768, ..., -0.09168278,\n",
       "        -0.10154004, -0.23906285],\n",
       "       [-0.05030015, -0.30713442, -0.14967498, ...,  0.09412786,\n",
       "        -0.41148382, -0.16192073],\n",
       "       [ 0.34626424,  0.24678674, -0.44807342, ...,  0.08400815,\n",
       "        -0.00136222,  0.36988488]], dtype=float32)}}}}, iterations=1000, final_state=Array([[ 1.76353837e-01-1.62630326e-19j,  5.88172403e-03-6.41860115e-02j,\n",
       "         5.49214271e-02+1.97089712e-03j,  8.02838878e-03-1.35480618e-02j,\n",
       "         2.10379738e-02+2.96261788e-03j, -4.03400829e-04+1.60785668e-02j,\n",
       "        -7.62405042e-02+1.99236311e-03j,  8.75316371e-04-8.32766600e-03j,\n",
       "         1.15902999e-02+1.37287097e-03j, -4.15127995e-03+1.52820756e-03j],\n",
       "       [ 5.88172403e-03+6.41860115e-02j,  5.42104672e-02-2.71050543e-20j,\n",
       "         8.25929565e-03+1.32261606e-03j, -2.66163075e-02-5.68944596e-04j,\n",
       "         5.67737598e-03+2.78086750e-02j, -2.40075333e-02-2.22406874e-03j,\n",
       "         3.30163041e-03-2.88275887e-02j, -1.23360017e-02+9.35401210e-04j,\n",
       "        -8.96763863e-04+2.62880357e-02j,  9.48024438e-04-8.17951523e-05j],\n",
       "       [ 5.49214271e-02-1.97089712e-03j,  8.25929565e-03-1.32261606e-03j,\n",
       "         2.05556915e-01-5.46336251e-20j,  1.10579830e-02-2.46609310e-02j,\n",
       "         1.70424363e-01+2.23728444e-03j, -1.46399402e-03-4.21470096e-03j,\n",
       "         1.53684308e-01+1.97143467e-03j,  1.59092745e-03-1.30802444e-02j,\n",
       "        -1.09577077e-02+2.35953379e-03j, -5.98133270e-03-1.41137604e-04j],\n",
       "       [ 8.02838878e-03+1.35480618e-02j, -2.66163075e-02+5.68944596e-04j,\n",
       "         1.10579830e-02+2.46609310e-02j,  4.01581839e-02+1.35525272e-18j,\n",
       "         7.42660673e-03-2.07099121e-02j,  1.84474102e-02-3.02584667e-03j,\n",
       "         4.39957130e-03-3.63859368e-03j,  1.25086313e-02+1.34956643e-03j,\n",
       "        -1.30543981e-03-1.83502844e-02j,  3.53247760e-03-4.59906153e-04j],\n",
       "       [ 2.10379738e-02-2.96261788e-03j,  5.67737598e-03-2.78086750e-02j,\n",
       "         1.70424363e-01-2.23728444e-03j,  7.42660673e-03+2.07099121e-02j,\n",
       "         1.92776143e-01-2.14172281e-18j, -1.68993482e-03+1.09868246e-02j,\n",
       "         1.66127170e-01+5.95232948e-04j,  1.37628433e-03+9.16431860e-03j,\n",
       "         1.17370432e-02+1.92467970e-03j, -4.18492905e-03+2.89343009e-03j],\n",
       "       [-4.03400829e-04-1.60785668e-02j, -2.40075333e-02+2.22406874e-03j,\n",
       "        -1.46399402e-03+4.21470096e-03j,  1.84474102e-02+3.02584667e-03j,\n",
       "        -1.68993482e-03-1.09868246e-02j,  4.63830556e-02+1.76394611e-19j,\n",
       "        -1.00619696e-03+6.54786577e-03j, -1.20741220e-02+2.89021302e-04j,\n",
       "        -4.01499487e-04-2.31947681e-02j, -2.02365257e-02-1.48368232e-03j],\n",
       "       [-7.62405042e-02-1.99236311e-03j,  3.30163041e-03+2.88275887e-02j,\n",
       "         1.53684308e-01-1.97143467e-03j,  4.39957130e-03+3.63859368e-03j,\n",
       "         1.66127170e-01-5.95232948e-04j, -1.00619696e-03-6.54786577e-03j,\n",
       "         2.09709228e-01-2.84603070e-19j,  7.75789118e-04+3.42766114e-03j,\n",
       "        -6.36119492e-03+1.20033028e-03j, -2.52744991e-03-2.99557315e-03j],\n",
       "       [ 8.75316371e-04+8.32766600e-03j, -1.23360017e-02-9.35401210e-04j,\n",
       "         1.59092745e-03+1.30802444e-02j,  1.25086313e-02-1.34956643e-03j,\n",
       "         1.37628433e-03-9.16431860e-03j, -1.20741220e-02-2.89021302e-04j,\n",
       "         7.75789118e-04-3.42766114e-03j,  2.69160605e-02+9.86793384e-20j,\n",
       "         4.79418359e-05-1.07948145e-02j,  1.69944076e-03+6.04333153e-04j],\n",
       "       [ 1.15902999e-02-1.37287097e-03j, -8.96763863e-04-2.62880357e-02j,\n",
       "        -1.09577077e-02-2.35953379e-03j, -1.30543981e-03+1.83502844e-02j,\n",
       "         1.17370432e-02-1.92467970e-03j, -4.01499487e-04+2.31947681e-02j,\n",
       "        -6.36119492e-03-1.20033028e-03j,  4.79418359e-05+1.07948145e-02j,\n",
       "         2.41262938e-02+2.91379334e-19j,  5.90446487e-04-1.42140976e-02j],\n",
       "       [-4.15127995e-03-1.52820756e-03j,  9.48024438e-04+8.17951523e-05j,\n",
       "        -5.98133270e-03+1.41137604e-04j,  3.53247760e-03+4.59906153e-04j,\n",
       "        -4.18492905e-03-2.89343009e-03j, -2.02365257e-02+1.48368232e-03j,\n",
       "        -2.52744991e-03+2.99557315e-03j,  1.69944076e-03-6.04333153e-04j,\n",
       "         5.90446487e-04+1.42140976e-02j,  2.38098168e-02+1.25360876e-19j]],      dtype=complex128), arr_of_povm_params=[[[0.1, 0.1], [0.1], [0.1]], [[-1.1960323259518207e-05, -1.0174736662565964e-05], [1.432765623141281], [4.084984046774791]], [[-5.488541162179325e-05, -4.9437703244878395e-05], [-2.8901165871260597], [2.707455909758734]], [[-6.937244158872202e-05, -5.910006171704757e-05], [-2.5715586835600095], [1.7188638336044595]], [[-8.05808833242716e-05, -6.244098723934277e-05], [-3.0635717895558887], [-0.0012586085398046953]]], final_purity=None, final_fidelity=Array(0.72769308, dtype=float64))"
      ]
     },
     "execution_count": 75,
     "metadata": {},
     "output_type": "execute_result"
    }
   ],
   "source": [
    "result"
   ]
  },
  {
   "cell_type": "code",
   "execution_count": null,
   "id": "538ba2b6",
   "metadata": {},
   "outputs": [
    {
     "name": "stdout",
     "output_type": "stream",
     "text": [
      "None\n"
     ]
    }
   ],
   "source": [
    "print(result.final_purity)"
   ]
  },
  {
   "cell_type": "code",
   "execution_count": null,
   "id": "c19912da",
   "metadata": {},
   "outputs": [
    {
     "name": "stdout",
     "output_type": "stream",
     "text": [
      "0.7276930828249264\n"
     ]
    }
   ],
   "source": [
    "print(result.final_fidelity)"
   ]
  },
  {
   "cell_type": "code",
   "execution_count": null,
   "id": "050dc029",
   "metadata": {},
   "outputs": [
    {
     "name": "stdout",
     "output_type": "stream",
     "text": [
      "1000\n"
     ]
    }
   ],
   "source": [
    "print(result.iterations)"
   ]
  },
  {
   "cell_type": "code",
   "execution_count": null,
   "id": "7ba69f49",
   "metadata": {},
   "outputs": [
    {
     "name": "stdout",
     "output_type": "stream",
     "text": [
      "[[[0.1, 0.1], [0.1], [0.1]], [[-1.1960323259518207e-05, -1.0174736662565964e-05], [1.432765623141281], [4.084984046774791]], [[-5.488541162179325e-05, -4.9437703244878395e-05], [-2.8901165871260597], [2.707455909758734]], [[-6.937244158872202e-05, -5.910006171704757e-05], [-2.5715586835600095], [1.7188638336044595]], [[-8.05808833242716e-05, -6.244098723934277e-05], [-3.0635717895558887], [-0.0012586085398046953]]]\n"
     ]
    }
   ],
   "source": [
    "print(result.arr_of_povm_params)"
   ]
  },
  {
   "cell_type": "code",
   "execution_count": null,
   "id": "cb6e56d7",
   "metadata": {},
   "outputs": [
    {
     "name": "stdout",
     "output_type": "stream",
     "text": [
      "[[-1.1960323259518207e-05, -1.0174736662565964e-05], [1.432765623141281], [4.084984046774791]]\n"
     ]
    }
   ],
   "source": [
    "print(result.arr_of_povm_params[1])"
   ]
  },
  {
   "cell_type": "code",
   "execution_count": null,
   "id": "3dd8eab9",
   "metadata": {},
   "outputs": [],
   "source": []
  }
 ],
 "metadata": {
  "kernelspec": {
   "display_name": "Python 3",
   "language": "python",
   "name": "python3"
  },
  "language_info": {
   "codemirror_mode": {
    "name": "ipython",
    "version": 3
   },
   "file_extension": ".py",
   "mimetype": "text/x-python",
   "name": "python",
   "nbconvert_exporter": "python",
   "pygments_lexer": "ipython3",
   "version": "3.11.11"
  }
 },
 "nbformat": 4,
 "nbformat_minor": 5
}

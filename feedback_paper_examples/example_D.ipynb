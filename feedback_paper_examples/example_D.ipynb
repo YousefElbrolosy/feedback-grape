{
 "cells": [
  {
   "cell_type": "markdown",
   "id": "f76d2ebd",
   "metadata": {},
   "source": [
    "## State Stabilization"
   ]
  },
  {
   "cell_type": "code",
   "execution_count": 1,
   "id": "d81979c5",
   "metadata": {},
   "outputs": [],
   "source": [
    "# ruff: noqa\n",
    "import os\n",
    "\n",
    "os.sys.path.append(\"..\")\n",
    "from feedback_grape.fgrape import optimize_pulse_with_feedback\n",
    "from feedback_grape.utils.operators import (\n",
    "    sigmap,\n",
    "    sigmam,\n",
    "    create,\n",
    "    destroy,\n",
    "    identity,\n",
    "    cosm,\n",
    "    sinm,\n",
    ")\n",
    "from feedback_grape.utils.states import basis, fock\n",
    "from feedback_grape.utils.tensor import tensor\n",
    "import jax.numpy as jnp\n",
    "from jax.scipy.linalg import expm"
   ]
  },
  {
   "cell_type": "code",
   "execution_count": 2,
   "id": "fe4baf1a",
   "metadata": {},
   "outputs": [],
   "source": [
    "N_cav = 30"
   ]
  },
  {
   "cell_type": "code",
   "execution_count": 3,
   "id": "1c912a34",
   "metadata": {},
   "outputs": [],
   "source": [
    "def qubit_unitary(alpha):\n",
    "    \"\"\"\n",
    "    TODO: see if alpha, can be sth elser other than scalar, and if the algo understands this\n",
    "    see if there can be multiple params like alpha and beta input\n",
    "    \"\"\"\n",
    "    return expm(\n",
    "        -1j\n",
    "        * (\n",
    "            alpha * tensor(identity(N_cav), sigmap())\n",
    "            + alpha.conjugate() * tensor(identity(N_cav), sigmam())\n",
    "        )\n",
    "        / 2\n",
    "    )"
   ]
  },
  {
   "cell_type": "code",
   "execution_count": 4,
   "id": "c1baa1bc",
   "metadata": {},
   "outputs": [],
   "source": [
    "def qubit_cavity_unitary(beta):\n",
    "    return expm(\n",
    "        -1j\n",
    "        * (\n",
    "            beta\n",
    "            * (\n",
    "                tensor(destroy(N_cav), identity(2))\n",
    "                @ tensor(identity(N_cav), sigmap())\n",
    "            )\n",
    "            + beta.conjugate()\n",
    "            * (\n",
    "                tensor(create(N_cav), identity(2))\n",
    "                @ tensor(identity(N_cav), sigmam())\n",
    "            )\n",
    "        )\n",
    "        / 2\n",
    "    )"
   ]
  },
  {
   "cell_type": "code",
   "execution_count": 5,
   "id": "70a6a5cd",
   "metadata": {},
   "outputs": [],
   "source": [
    "from feedback_grape.utils.operators import create, destroy\n",
    "\n",
    "\n",
    "def povm_measure_operator(measurement_outcome, gamma, delta):\n",
    "    \"\"\"\n",
    "    POVM for the measurement of the cavity state.\n",
    "    returns Mm ( NOT the POVM element Em = Mm_dag @ Mm ), given measurement_outcome m, gamma and delta\n",
    "    \"\"\"\n",
    "    number_operator = tensor(create(N_cav) @ destroy(N_cav), identity(2))\n",
    "    angle = (gamma * number_operator) + delta / 2\n",
    "    meas_op = jnp.where(\n",
    "        measurement_outcome == 1,\n",
    "        cosm(angle),\n",
    "        sinm(angle),\n",
    "    )\n",
    "    return meas_op"
   ]
  },
  {
   "cell_type": "code",
   "execution_count": 6,
   "id": "4e88143b",
   "metadata": {},
   "outputs": [],
   "source": [
    "# initial state is a thermal state coupled to a qubit in the ground state?\n",
    "n_average = 9\n",
    "# natural logarithm\n",
    "beta = jnp.log((1 / n_average) + 1)\n",
    "diags = jnp.exp(-beta * jnp.arange(N_cav))\n",
    "normalized_diags = diags / jnp.sum(diags, axis=0)\n",
    "rho_cav = jnp.diag(normalized_diags)"
   ]
  },
  {
   "cell_type": "code",
   "execution_count": 7,
   "id": "deb3eff3",
   "metadata": {},
   "outputs": [],
   "source": [
    "rho0 = tensor(rho_cav, basis(2, 0) @ basis(2, 0).conj().T)"
   ]
  },
  {
   "cell_type": "code",
   "execution_count": 8,
   "id": "47908f3a",
   "metadata": {},
   "outputs": [
    {
     "data": {
      "text/plain": [
       "(60, 60)"
      ]
     },
     "execution_count": 8,
     "metadata": {},
     "output_type": "execute_result"
    }
   ],
   "source": [
    "rho0.shape"
   ]
  },
  {
   "cell_type": "code",
   "execution_count": 9,
   "id": "ce889fc2",
   "metadata": {},
   "outputs": [],
   "source": [
    "from feedback_grape.utils.states import coherent\n",
    "\n",
    "alpha = 3\n",
    "psi_target = tensor(\n",
    "    coherent(N_cav, alpha)\n",
    "    + coherent(N_cav, -alpha)\n",
    "    + coherent(N_cav, 1j * alpha)\n",
    "    + coherent(N_cav, -1j * alpha),\n",
    "    basis(2),\n",
    ")  # 4-legged state\n",
    "\n",
    "rho_target = psi_target @ psi_target.conj().T"
   ]
  },
  {
   "cell_type": "code",
   "execution_count": 10,
   "id": "2321d333",
   "metadata": {},
   "outputs": [
    {
     "data": {
      "text/plain": [
       "(60, 60)"
      ]
     },
     "execution_count": 10,
     "metadata": {},
     "output_type": "execute_result"
    }
   ],
   "source": [
    "rho_target.shape"
   ]
  },
  {
   "cell_type": "code",
   "execution_count": 11,
   "id": "6439b369",
   "metadata": {},
   "outputs": [
    {
     "name": "stdout",
     "output_type": "stream",
     "text": [
      "0.20605832342551042\n"
     ]
    }
   ],
   "source": [
    "from feedback_grape.utils.fidelity import fidelity\n",
    "\n",
    "print(fidelity(U_final=rho0, C_target=rho_target, type=\"density\"))"
   ]
  },
  {
   "cell_type": "markdown",
   "id": "56f2b30f",
   "metadata": {},
   "source": [
    "### Without dissipation"
   ]
  },
  {
   "cell_type": "code",
   "execution_count": null,
   "id": "5329d87d",
   "metadata": {},
   "outputs": [],
   "source": [
    "result = optimize_pulse_with_feedback(\n",
    "    U_0=rho_target,\n",
    "    C_target=rho_target,\n",
    "    parameterized_gates=[\n",
    "        povm_measure_operator,\n",
    "        qubit_unitary,\n",
    "        qubit_cavity_unitary,\n",
    "    ],\n",
    "    measurement_indices=[0],\n",
    "    initial_params={\n",
    "        \"POVM\": [0.0, jnp.pi / 3],\n",
    "        \"U_q\": [jnp.pi / 2],\n",
    "        \"U_qc\": [jnp.pi / 2],\n",
    "    },\n",
    "    num_time_steps=2,\n",
    "    mode=\"lookup\",\n",
    "    goal=\"fidelity\",\n",
    "    optimizer=\"adam\",\n",
    "    max_iter=1000,\n",
    "    convergence_threshold=1e-6,\n",
    "    learning_rate=0.005,\n",
    "    type=\"density\",\n",
    "    batch_size=1,\n",
    ")"
   ]
  },
  {
   "cell_type": "code",
   "execution_count": null,
   "id": "242b562a",
   "metadata": {},
   "outputs": [
    {
     "name": "stdout",
     "output_type": "stream",
     "text": [
      "0.9999999898509099\n"
     ]
    }
   ],
   "source": [
    "print(result.final_fidelity)"
   ]
  },
  {
   "cell_type": "code",
   "execution_count": null,
   "id": "546d79dd",
   "metadata": {},
   "outputs": [
    {
     "name": "stdout",
     "output_type": "stream",
     "text": [
      "initial fidelity: 0.20605832342551042\n",
      "fidelity of state 0: 0.9999999898509099\n"
     ]
    }
   ],
   "source": [
    "from feedback_grape.utils.fidelity import fidelity\n",
    "\n",
    "print(\n",
    "    \"initial fidelity:\",\n",
    "    fidelity(C_target=rho_target, U_final=rho0, type=\"density\"),\n",
    ")\n",
    "for i, state in enumerate(result.final_state):\n",
    "    print(\n",
    "        f\"fidelity of state {i}:\",\n",
    "        fidelity(C_target=rho_target, U_final=state, type=\"density\"),\n",
    "    )"
   ]
  },
  {
   "cell_type": "markdown",
   "id": "f2190e32",
   "metadata": {},
   "source": [
    "### With Dissipation"
   ]
  },
  {
   "cell_type": "code",
   "execution_count": 12,
   "id": "eec5fd59",
   "metadata": {},
   "outputs": [
    {
     "name": "stdout",
     "output_type": "stream",
     "text": [
      "Iteration 0, Loss: -0.184245\n",
      "Iteration 10, Loss: -0.045857\n",
      "Iteration 20, Loss: -0.060631\n",
      "Iteration 30, Loss: -0.731739\n",
      "Iteration 40, Loss: -0.977474\n",
      "Iteration 50, Loss: -0.182478\n",
      "Iteration 60, Loss: -1.259945\n",
      "Iteration 70, Loss: -1.321056\n",
      "Iteration 80, Loss: -1.365773\n",
      "Iteration 90, Loss: -1.390369\n",
      "Iteration 100, Loss: -1.392654\n",
      "Iteration 110, Loss: -1.369867\n",
      "Iteration 120, Loss: -1.396049\n",
      "Iteration 130, Loss: -1.398159\n",
      "Iteration 140, Loss: -1.373595\n",
      "Iteration 150, Loss: -1.401985\n",
      "Iteration 160, Loss: -0.493813\n",
      "Iteration 170, Loss: -1.184238\n",
      "Iteration 180, Loss: -1.280387\n",
      "Iteration 190, Loss: -1.353666\n",
      "Iteration 200, Loss: -1.361504\n",
      "Iteration 210, Loss: -0.776920\n",
      "Iteration 220, Loss: -0.866213\n",
      "Iteration 230, Loss: -0.815163\n",
      "Iteration 240, Loss: -1.158534\n",
      "Iteration 250, Loss: -1.010049\n",
      "Iteration 260, Loss: -1.074011\n",
      "Iteration 270, Loss: -1.127229\n",
      "Iteration 280, Loss: -1.023924\n",
      "Iteration 290, Loss: -1.082989\n",
      "Iteration 300, Loss: -1.133557\n",
      "Iteration 310, Loss: -1.041971\n",
      "Iteration 320, Loss: -1.088963\n",
      "Iteration 330, Loss: -0.787071\n",
      "Iteration 340, Loss: -1.384064\n",
      "Iteration 350, Loss: -0.950204\n",
      "Iteration 360, Loss: -1.148380\n",
      "Iteration 370, Loss: -1.083318\n",
      "Iteration 380, Loss: -1.320485\n",
      "Iteration 390, Loss: -0.912444\n",
      "Iteration 400, Loss: -1.018371\n",
      "Iteration 410, Loss: -0.923535\n",
      "Iteration 420, Loss: -1.097400\n",
      "Iteration 430, Loss: -1.209977\n",
      "Iteration 440, Loss: -1.280108\n",
      "Iteration 450, Loss: -1.447764\n",
      "Iteration 460, Loss: -1.386770\n",
      "Iteration 470, Loss: -1.053202\n",
      "Iteration 480, Loss: -1.052844\n",
      "Iteration 490, Loss: -1.469649\n",
      "Iteration 500, Loss: -1.573116\n",
      "Iteration 510, Loss: -0.604732\n",
      "Iteration 520, Loss: -1.657654\n",
      "Iteration 530, Loss: -1.771581\n",
      "Iteration 540, Loss: -0.287146\n",
      "Iteration 550, Loss: -1.742799\n",
      "Iteration 560, Loss: -1.774867\n",
      "Iteration 570, Loss: -0.160204\n",
      "Iteration 580, Loss: -1.766547\n",
      "Iteration 590, Loss: -1.780872\n",
      "Iteration 600, Loss: -1.631178\n",
      "Iteration 610, Loss: -1.071826\n",
      "Iteration 620, Loss: -1.226037\n",
      "Iteration 630, Loss: -1.024727\n",
      "Iteration 640, Loss: -1.249677\n",
      "Iteration 650, Loss: -1.147767\n",
      "Iteration 660, Loss: -1.281324\n",
      "Iteration 670, Loss: -1.383000\n",
      "Iteration 680, Loss: -1.557233\n",
      "Iteration 690, Loss: -1.629705\n",
      "Iteration 700, Loss: -1.687581\n",
      "Iteration 710, Loss: -1.700797\n",
      "Iteration 720, Loss: -1.694583\n",
      "Iteration 730, Loss: -0.647080\n",
      "Iteration 740, Loss: -1.591511\n",
      "Iteration 750, Loss: -1.651270\n",
      "Iteration 760, Loss: -1.717719\n",
      "Iteration 770, Loss: -0.681034\n",
      "Iteration 780, Loss: -1.680695\n",
      "Iteration 790, Loss: -0.358493\n",
      "Iteration 800, Loss: -1.648267\n",
      "Iteration 810, Loss: -1.611925\n",
      "Iteration 820, Loss: -1.592763\n",
      "Iteration 830, Loss: -0.535834\n",
      "Iteration 840, Loss: -1.726329\n",
      "Iteration 850, Loss: -1.789575\n",
      "Iteration 860, Loss: -1.873978\n",
      "Iteration 870, Loss: -1.909036\n",
      "Iteration 880, Loss: -1.879033\n",
      "Iteration 890, Loss: -1.012352\n",
      "Iteration 900, Loss: -1.524401\n",
      "Iteration 910, Loss: -1.852863\n",
      "Iteration 920, Loss: -2.247718\n",
      "Iteration 930, Loss: -2.369687\n",
      "Iteration 940, Loss: -2.384828\n",
      "Iteration 950, Loss: -2.381089\n",
      "Iteration 960, Loss: -2.384499\n",
      "Iteration 970, Loss: -2.386044\n",
      "Iteration 980, Loss: -2.385955\n"
     ]
    }
   ],
   "source": [
    "result = optimize_pulse_with_feedback(\n",
    "    U_0=rho_target,\n",
    "    C_target=rho_target,\n",
    "    parameterized_gates=[\n",
    "        povm_measure_operator,\n",
    "        qubit_unitary,\n",
    "        qubit_cavity_unitary,\n",
    "    ],\n",
    "    measurement_indices=[0],\n",
    "    decay={\n",
    "        \"decay_indices\": [0],  # indices of gates before which decay occurs\n",
    "        # c_ops need to be tensored with the identity operator for the cavity\n",
    "        # because it is used directly in the lindblad equation\n",
    "        \"c_ops\":  # c_ops for each decay index\n",
    "        [\n",
    "            [\n",
    "                tensor(identity(N_cav), jnp.sqrt(0.01) * sigmam()),\n",
    "            ],\n",
    "            [tensor(identity(N_cav), jnp.sqrt(0.1) * sigmap())],\n",
    "        ],\n",
    "        \"time_grid\": [0.2],  # time grid for decay\n",
    "        \"Hamiltonian\": None,\n",
    "    },\n",
    "    initial_params={\n",
    "        \"POVM\": [0.0, jnp.pi / 3],\n",
    "        \"U_q\": [jnp.pi / 2],\n",
    "        \"U_qc\": [jnp.pi / 2],\n",
    "    },\n",
    "    num_time_steps=2,\n",
    "    mode=\"lookup\",\n",
    "    goal=\"fidelity\",\n",
    "    optimizer=\"adam\",\n",
    "    max_iter=1000,\n",
    "    convergence_threshold=1e-6,\n",
    "    learning_rate=0.005,\n",
    "    type=\"density\",\n",
    "    batch_size=1,\n",
    ")"
   ]
  },
  {
   "cell_type": "code",
   "execution_count": 13,
   "id": "3419d96d",
   "metadata": {},
   "outputs": [
    {
     "name": "stdout",
     "output_type": "stream",
     "text": [
      "0.9999999898509099\n"
     ]
    }
   ],
   "source": [
    "# 0.9999999976677415\n",
    "print(result.final_fidelity)"
   ]
  },
  {
   "cell_type": "code",
   "execution_count": 14,
   "id": "20bb8cdb",
   "metadata": {},
   "outputs": [
    {
     "name": "stdout",
     "output_type": "stream",
     "text": [
      "initial fidelity: 0.20605832342551042\n",
      "fidelity of state 0: 0.9999999898509099\n"
     ]
    }
   ],
   "source": [
    "from feedback_grape.utils.fidelity import fidelity\n",
    "\n",
    "print(\n",
    "    \"initial fidelity:\",\n",
    "    fidelity(C_target=rho_target, U_final=rho0, type=\"density\"),\n",
    ")\n",
    "for i, state in enumerate(result.final_state):\n",
    "    print(\n",
    "        f\"fidelity of state {i}:\",\n",
    "        fidelity(C_target=rho_target, U_final=state, type=\"density\"),\n",
    "    )"
   ]
  },
  {
   "cell_type": "code",
   "execution_count": 15,
   "id": "79005381",
   "metadata": {},
   "outputs": [],
   "source": [
    "c_ops = (\n",
    "    [  # c_ops for each decay index\n",
    "        [\n",
    "            tensor(identity(N_cav), jnp.sqrt(0.01) * sigmam()),\n",
    "        ],\n",
    "        [\"hi\"],\n",
    "    ],\n",
    ")"
   ]
  },
  {
   "cell_type": "code",
   "execution_count": null,
   "id": "b218005b",
   "metadata": {},
   "outputs": [
    {
     "name": "stdout",
     "output_type": "stream",
     "text": [
      "[Array([[0. +0.j, 0. +0.j, 0. +0.j, ..., 0. +0.j, 0. +0.j, 0. +0.j],\n",
      "       [0.1+0.j, 0. +0.j, 0. +0.j, ..., 0. +0.j, 0. +0.j, 0. +0.j],\n",
      "       [0. +0.j, 0. +0.j, 0. +0.j, ..., 0. +0.j, 0. +0.j, 0. +0.j],\n",
      "       ...,\n",
      "       [0. +0.j, 0. +0.j, 0. +0.j, ..., 0. +0.j, 0. +0.j, 0. +0.j],\n",
      "       [0. +0.j, 0. +0.j, 0. +0.j, ..., 0. +0.j, 0. +0.j, 0. +0.j],\n",
      "       [0. +0.j, 0. +0.j, 0. +0.j, ..., 0. +0.j, 0.1+0.j, 0. +0.j]],      dtype=complex128)]\n",
      "['hi']\n"
     ]
    }
   ],
   "source": [
    "c_ops_iter = iter(c_ops)\n",
    "for _ in range(2):\n",
    "    print(next(c_ops_iter))"
   ]
  },
  {
   "cell_type": "code",
   "execution_count": null,
   "id": "a14de1ae",
   "metadata": {},
   "outputs": [],
   "source": []
  }
 ],
 "metadata": {
  "kernelspec": {
   "display_name": "Python 3",
   "language": "python",
   "name": "python3"
  },
  "language_info": {
   "codemirror_mode": {
    "name": "ipython",
    "version": 3
   },
   "file_extension": ".py",
   "mimetype": "text/x-python",
   "name": "python",
   "nbconvert_exporter": "python",
   "pygments_lexer": "ipython3",
   "version": "3.11.11"
  }
 },
 "nbformat": 4,
 "nbformat_minor": 5
}

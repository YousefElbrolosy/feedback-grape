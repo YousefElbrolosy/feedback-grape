{
 "cells": [
  {
   "cell_type": "markdown",
   "id": "f76d2ebd",
   "metadata": {},
   "source": [
    "## State Stabilization"
   ]
  },
  {
   "cell_type": "markdown",
   "id": "9018ebc9",
   "metadata": {},
   "source": [
    "Here the result is as follows: The algorithm optimizes the params, such that the POVM always outputs 1, implying that the measurement leaves the target state invariant. this is what we are indeed seeing when printing the measurement outcome and its probability, when batching however, the optimizer struggles to converge.\n",
    "\n",
    "Also, lookup here is much better than nn for the same hyperparameters."
   ]
  },
  {
   "cell_type": "markdown",
   "id": "e26d5142",
   "metadata": {},
   "source": [
    "This is actually a perfect example, of feedback grape modifying the params so that a certain measurement sequence will always be output because this measurement sequence is the one that is going to lead to the best fidelity"
   ]
  },
  {
   "cell_type": "code",
   "execution_count": 1,
   "id": "d81979c5",
   "metadata": {},
   "outputs": [],
   "source": [
    "# ruff: noqa\n",
    "import os\n",
    "\n",
    "os.sys.path.append(\"..\")\n",
    "from feedback_grape.fgrape import optimize_pulse_with_feedback\n",
    "from feedback_grape.utils.operators import (\n",
    "    sigmap,\n",
    "    sigmam,\n",
    "    create,\n",
    "    destroy,\n",
    "    identity,\n",
    "    cosm,\n",
    "    sinm,\n",
    ")\n",
    "from feedback_grape.utils.states import basis, fock\n",
    "from feedback_grape.utils.tensor import tensor\n",
    "import jax.numpy as jnp\n",
    "import jax\n",
    "from jax.scipy.linalg import expm"
   ]
  },
  {
   "cell_type": "code",
   "execution_count": 2,
   "id": "fe4baf1a",
   "metadata": {},
   "outputs": [],
   "source": [
    "N_cav = 30"
   ]
  },
  {
   "cell_type": "markdown",
   "id": "bba9d984",
   "metadata": {},
   "source": [
    "# Here, dividing alpha into real and imaginary parts complicates the optimization and converges at 0.89 while if we do not use the imaginary part it converges at 0.999"
   ]
  },
  {
   "cell_type": "code",
   "execution_count": 3,
   "id": "1c912a34",
   "metadata": {},
   "outputs": [],
   "source": [
    "def qubit_unitary(alpha_re):\n",
    "    alpha = alpha_re\n",
    "    return tensor(\n",
    "        identity(N_cav),\n",
    "        expm(-1j * (alpha * sigmap() + alpha.conjugate() * sigmam()) / 2),\n",
    "    )"
   ]
  },
  {
   "cell_type": "code",
   "execution_count": 4,
   "id": "c1baa1bc",
   "metadata": {},
   "outputs": [],
   "source": [
    "def qubit_cavity_unitary(beta_re):\n",
    "    beta = beta_re\n",
    "    return expm(\n",
    "        -1j\n",
    "        * (\n",
    "            beta * (tensor(destroy(N_cav), sigmap()))\n",
    "            + beta.conjugate() * (tensor(create(N_cav), sigmam()))\n",
    "        )\n",
    "        / 2\n",
    "    )"
   ]
  },
  {
   "cell_type": "code",
   "execution_count": 5,
   "id": "70a6a5cd",
   "metadata": {},
   "outputs": [],
   "source": [
    "from feedback_grape.utils.operators import create, destroy\n",
    "\n",
    "\n",
    "def povm_measure_operator(measurement_outcome, gamma, delta):\n",
    "    \"\"\"\n",
    "    POVM for the measurement of the cavity state.\n",
    "    returns Mm ( NOT the POVM element Em = Mm_dag @ Mm ), given measurement_outcome m, gamma and delta\n",
    "    \"\"\"\n",
    "    number_operator = tensor(create(N_cav) @ destroy(N_cav), identity(2))\n",
    "    angle = (gamma * number_operator) + delta / 2\n",
    "    meas_op = jnp.where(\n",
    "        measurement_outcome == 1,\n",
    "        cosm(angle),\n",
    "        sinm(angle),\n",
    "    )\n",
    "    return meas_op"
   ]
  },
  {
   "cell_type": "code",
   "execution_count": 6,
   "id": "ce889fc2",
   "metadata": {},
   "outputs": [],
   "source": [
    "from feedback_grape.utils.states import coherent\n",
    "\n",
    "alpha = 3\n",
    "psi_target = tensor(\n",
    "    coherent(N_cav, alpha)\n",
    "    + coherent(N_cav, -alpha)\n",
    "    + coherent(N_cav, 1j * alpha)\n",
    "    + coherent(N_cav, -1j * alpha),\n",
    "    basis(2),\n",
    ")  # 4-legged state\n",
    "\n",
    "# Normalize psi_target before constructing rho_target\n",
    "psi_target = psi_target / jnp.linalg.norm(psi_target)\n",
    "rho_target = psi_target @ psi_target.conj().T"
   ]
  },
  {
   "cell_type": "code",
   "execution_count": 7,
   "id": "2321d333",
   "metadata": {},
   "outputs": [
    {
     "data": {
      "text/plain": [
       "(60, 60)"
      ]
     },
     "execution_count": 7,
     "metadata": {},
     "output_type": "execute_result"
    }
   ],
   "source": [
    "rho_target.shape"
   ]
  },
  {
   "cell_type": "markdown",
   "id": "565bfc6e",
   "metadata": {},
   "source": [
    "### It is important to test what the POVM probability is, to check if your state is normalized. if the probability is bounded between 0 and 1 then normalized"
   ]
  },
  {
   "cell_type": "code",
   "execution_count": 8,
   "id": "6599acde",
   "metadata": {},
   "outputs": [
    {
     "data": {
      "text/plain": [
       "Array(0.70390199, dtype=float64)"
      ]
     },
     "execution_count": 8,
     "metadata": {},
     "output_type": "execute_result"
    }
   ],
   "source": [
    "# TODO/Question: should one normalize within the optimization just in case?\n",
    "from feedback_grape.utils.povm import (\n",
    "    _probability_of_a_measurement_outcome_given_a_certain_state,\n",
    ")\n",
    "\n",
    "_probability_of_a_measurement_outcome_given_a_certain_state(\n",
    "    rho_target, 1, povm_measure_operator, [0.058, jnp.pi / 2]\n",
    ")"
   ]
  },
  {
   "cell_type": "code",
   "execution_count": 9,
   "id": "6439b369",
   "metadata": {},
   "outputs": [
    {
     "name": "stdout",
     "output_type": "stream",
     "text": [
      "1.000000011680078\n"
     ]
    }
   ],
   "source": [
    "from feedback_grape.utils.fidelity import fidelity\n",
    "\n",
    "print(fidelity(U_final=rho_target, C_target=rho_target, evo_type=\"density\"))"
   ]
  },
  {
   "cell_type": "markdown",
   "id": "56f2b30f",
   "metadata": {},
   "source": [
    "### Without dissipation"
   ]
  },
  {
   "cell_type": "code",
   "execution_count": 10,
   "id": "5329d87d",
   "metadata": {},
   "outputs": [
    {
     "name": "stdout",
     "output_type": "stream",
     "text": [
      "Iteration 0, Loss: 0.021114\n",
      "Iteration 10, Loss: -0.065730\n",
      "Iteration 20, Loss: -0.292843\n",
      "Iteration 30, Loss: -0.327637\n",
      "Iteration 40, Loss: -0.467265\n",
      "Iteration 50, Loss: -0.484865\n",
      "Iteration 60, Loss: -0.625497\n",
      "Iteration 70, Loss: -0.665717\n",
      "Iteration 80, Loss: -0.353591\n",
      "Iteration 90, Loss: -0.603921\n",
      "Iteration 100, Loss: -0.613936\n",
      "Iteration 110, Loss: -0.664313\n",
      "Iteration 120, Loss: -0.593153\n",
      "Iteration 130, Loss: -0.653803\n",
      "Iteration 140, Loss: -0.674439\n",
      "Iteration 150, Loss: -0.681150\n",
      "Iteration 160, Loss: -0.258173\n",
      "Iteration 170, Loss: -0.255651\n",
      "Iteration 180, Loss: -0.376554\n",
      "Iteration 190, Loss: -0.599526\n",
      "Iteration 200, Loss: 0.514135\n",
      "Iteration 210, Loss: 0.389031\n",
      "Iteration 220, Loss: 0.593266\n",
      "Iteration 230, Loss: -0.515546\n",
      "Iteration 240, Loss: -0.637913\n",
      "Iteration 250, Loss: -0.475294\n",
      "Iteration 260, Loss: -0.657642\n",
      "Iteration 270, Loss: -0.441192\n",
      "Iteration 280, Loss: -0.188770\n",
      "Iteration 290, Loss: -0.607850\n",
      "Iteration 300, Loss: -0.609874\n",
      "Iteration 310, Loss: -0.641626\n",
      "Iteration 320, Loss: -0.598635\n",
      "Iteration 330, Loss: -0.605331\n",
      "Iteration 340, Loss: -0.371427\n",
      "Iteration 350, Loss: -0.221581\n",
      "Iteration 360, Loss: -0.544844\n",
      "Iteration 370, Loss: -0.603171\n",
      "Iteration 380, Loss: -0.673520\n",
      "Iteration 390, Loss: -0.654056\n",
      "Iteration 400, Loss: -0.620852\n",
      "Iteration 410, Loss: -0.654930\n",
      "Iteration 420, Loss: 0.226725\n",
      "Iteration 430, Loss: -0.650535\n",
      "Iteration 440, Loss: 0.122505\n",
      "Iteration 450, Loss: -0.555831\n",
      "Iteration 460, Loss: -0.660021\n",
      "Iteration 470, Loss: 0.259194\n",
      "Iteration 480, Loss: -0.453430\n",
      "Iteration 490, Loss: -0.957418\n",
      "Iteration 500, Loss: -0.293852\n",
      "Iteration 510, Loss: -0.654264\n",
      "Iteration 520, Loss: -0.660502\n",
      "Iteration 530, Loss: -0.543690\n",
      "Iteration 540, Loss: -0.539717\n",
      "Iteration 550, Loss: -0.551848\n",
      "Iteration 560, Loss: -0.656831\n",
      "Iteration 570, Loss: -0.659438\n",
      "Iteration 580, Loss: -0.670281\n",
      "Iteration 590, Loss: -0.563997\n",
      "Iteration 600, Loss: -0.223390\n",
      "Iteration 610, Loss: -0.373869\n",
      "Iteration 620, Loss: -0.505010\n",
      "Iteration 630, Loss: -0.121148\n",
      "Iteration 640, Loss: -0.155789\n",
      "Iteration 650, Loss: -0.163050\n",
      "Iteration 660, Loss: -0.124626\n",
      "Iteration 670, Loss: -0.913543\n",
      "Iteration 680, Loss: -0.966073\n",
      "Iteration 690, Loss: -0.993097\n",
      "Iteration 700, Loss: -0.995177\n",
      "Iteration 710, Loss: -0.998830\n",
      "Iteration 720, Loss: -0.990318\n",
      "Iteration 730, Loss: -0.913449\n",
      "Iteration 740, Loss: -0.950609\n",
      "Iteration 750, Loss: -0.981261\n",
      "Iteration 760, Loss: -0.984895\n",
      "Iteration 770, Loss: -0.987376\n",
      "Iteration 780, Loss: -0.991107\n",
      "Iteration 790, Loss: -0.993504\n",
      "Iteration 800, Loss: -0.995085\n",
      "Iteration 810, Loss: -0.996344\n",
      "Iteration 820, Loss: -0.997300\n",
      "Iteration 830, Loss: -0.998003\n",
      "Iteration 840, Loss: -0.998527\n",
      "Iteration 850, Loss: -0.998919\n",
      "Iteration 860, Loss: -0.999209\n",
      "Iteration 870, Loss: -0.999424\n",
      "Iteration 880, Loss: -0.999581\n",
      "Iteration 890, Loss: -0.999696\n",
      "Iteration 900, Loss: -0.999780\n",
      "Iteration 910, Loss: -0.999842\n",
      "Iteration 920, Loss: -0.999887\n",
      "Iteration 930, Loss: -0.999919\n",
      "Iteration 940, Loss: -0.999942\n",
      "Iteration 950, Loss: -0.999959\n",
      "Iteration 960, Loss: -0.999971\n",
      "Iteration 970, Loss: -0.999980\n",
      "Iteration 980, Loss: -0.999988\n",
      "Iteration 990, Loss: -0.999993\n"
     ]
    }
   ],
   "source": [
    "# Here the loss directly corressponds to the -fidelity (when converging) because log(1) is 0 and\n",
    "# the algorithm is choosing params that makes the POVM generate prob = 1\n",
    "measure = {\n",
    "    \"gate\": povm_measure_operator,\n",
    "    \"initial_params\": [0.058, jnp.pi / 2],  # gamma and delta\n",
    "    \"measurement_flag\": True,\n",
    "    # \"param_constraints\": [[0, 0.5], [-1, 1]],\n",
    "}\n",
    "\n",
    "qub_unitary = {\n",
    "    \"gate\": qubit_unitary,\n",
    "    \"initial_params\": [jnp.pi / 3],\n",
    "    \"measurement_flag\": False,\n",
    "    # \"param_constraints\": [[0, 0.5], [-1, 1]],\n",
    "}\n",
    "\n",
    "qub_cav = {\n",
    "    \"gate\": qubit_cavity_unitary,\n",
    "    \"initial_params\": [jnp.pi / 3],\n",
    "    \"measurement_flag\": False,\n",
    "    # \"param_constraints\": [[0, 0.5], [-1, 1]],\n",
    "}\n",
    "\n",
    "system_params = [measure, qub_unitary, qub_cav]\n",
    "result = optimize_pulse_with_feedback(\n",
    "    U_0=rho_target,\n",
    "    C_target=rho_target,\n",
    "    system_params=system_params,\n",
    "    num_time_steps=1,\n",
    "    mode=\"lookup\",\n",
    "    goal=\"fidelity\",\n",
    "    max_iter=1000,\n",
    "    convergence_threshold=1e-16,\n",
    "    learning_rate=0.02,\n",
    "    evo_type=\"density\",\n",
    "    batch_size=1,\n",
    ")"
   ]
  },
  {
   "cell_type": "code",
   "execution_count": 11,
   "id": "242b562a",
   "metadata": {},
   "outputs": [
    {
     "name": "stdout",
     "output_type": "stream",
     "text": [
      "0.999995162213917\n"
     ]
    }
   ],
   "source": [
    "print(result.final_fidelity)"
   ]
  },
  {
   "cell_type": "code",
   "execution_count": 12,
   "id": "f410e7e2",
   "metadata": {},
   "outputs": [
    {
     "data": {
      "text/plain": [
       "[Array([1.06202532e-09, 1.46607657e+00], dtype=float64),\n",
       " Array([1.04719755], dtype=float64),\n",
       " Array([1.04719755], dtype=float64)]"
      ]
     },
     "execution_count": 12,
     "metadata": {},
     "output_type": "execute_result"
    }
   ],
   "source": [
    "result.optimized_trainable_parameters[\"initial_params\"]"
   ]
  },
  {
   "cell_type": "code",
   "execution_count": 13,
   "id": "09d6f7db",
   "metadata": {},
   "outputs": [
    {
     "data": {
      "text/plain": [
       "[[Array([[1.06202532e-09, 1.46607657e+00],\n",
       "         [1.06202532e-09, 1.46607657e+00],\n",
       "         [1.06202532e-09, 1.46607657e+00],\n",
       "         [1.06202532e-09, 1.46607657e+00],\n",
       "         [1.06202532e-09, 1.46607657e+00],\n",
       "         [1.06202532e-09, 1.46607657e+00],\n",
       "         [1.06202532e-09, 1.46607657e+00],\n",
       "         [1.06202532e-09, 1.46607657e+00],\n",
       "         [1.06202532e-09, 1.46607657e+00],\n",
       "         [1.06202532e-09, 1.46607657e+00]], dtype=float64),\n",
       "  Array([[-0.00622567],\n",
       "         [-0.00622567],\n",
       "         [-0.00622567],\n",
       "         [-0.00622567],\n",
       "         [-0.00622567],\n",
       "         [-0.00622567],\n",
       "         [-0.00622567],\n",
       "         [-0.00622567],\n",
       "         [-0.00622567],\n",
       "         [-0.00622567]], dtype=float64),\n",
       "  Array([[-4.05896188e-05],\n",
       "         [-4.05896188e-05],\n",
       "         [-4.05896188e-05],\n",
       "         [-4.05896188e-05],\n",
       "         [-4.05896188e-05],\n",
       "         [-4.05896188e-05],\n",
       "         [-4.05896188e-05],\n",
       "         [-4.05896188e-05],\n",
       "         [-4.05896188e-05],\n",
       "         [-4.05896188e-05]], dtype=float64)]]"
      ]
     },
     "execution_count": 13,
     "metadata": {},
     "output_type": "execute_result"
    }
   ],
   "source": [
    "result.returned_params"
   ]
  },
  {
   "cell_type": "code",
   "execution_count": 14,
   "id": "546d79dd",
   "metadata": {},
   "outputs": [
    {
     "name": "stdout",
     "output_type": "stream",
     "text": [
      "initial fidelity: 1.000000011680078\n",
      "fidelity of state 0: 0.9999951622139169\n",
      "fidelity of state 1: 0.9999951622139169\n",
      "fidelity of state 2: 0.9999951622139169\n",
      "fidelity of state 3: 0.9999951622139169\n",
      "fidelity of state 4: 0.9999951622139169\n",
      "fidelity of state 5: 0.9999951622139169\n",
      "fidelity of state 6: 0.9999951622139169\n",
      "fidelity of state 7: 0.9999951622139169\n",
      "fidelity of state 8: 0.9999951622139169\n",
      "fidelity of state 9: 0.9999951622139169\n"
     ]
    }
   ],
   "source": [
    "from feedback_grape.utils.fidelity import fidelity\n",
    "\n",
    "print(\n",
    "    \"initial fidelity:\",\n",
    "    fidelity(C_target=rho_target, U_final=rho_target, evo_type=\"density\"),\n",
    ")\n",
    "for i, state in enumerate(result.final_state):\n",
    "    print(\n",
    "        f\"fidelity of state {i}:\",\n",
    "        fidelity(C_target=rho_target, U_final=state, evo_type=\"density\"),\n",
    "    )"
   ]
  },
  {
   "cell_type": "markdown",
   "id": "f2190e32",
   "metadata": {},
   "source": [
    "### With Dissipation"
   ]
  },
  {
   "cell_type": "code",
   "execution_count": 15,
   "id": "eec5fd59",
   "metadata": {},
   "outputs": [
    {
     "name": "stdout",
     "output_type": "stream",
     "text": [
      "Iteration 0, Loss: 0.023975\n",
      "Iteration 10, Loss: -0.065218\n",
      "Iteration 20, Loss: -0.277716\n",
      "Iteration 30, Loss: -0.322778\n",
      "Iteration 40, Loss: -0.425977\n",
      "Iteration 50, Loss: -0.448958\n",
      "Iteration 60, Loss: -0.580473\n",
      "Iteration 70, Loss: -0.620405\n",
      "Iteration 80, Loss: -0.321951\n",
      "Iteration 90, Loss: -0.563551\n",
      "Iteration 100, Loss: -0.567752\n",
      "Iteration 110, Loss: -0.606977\n",
      "Iteration 120, Loss: -0.546509\n",
      "Iteration 130, Loss: -0.602735\n",
      "Iteration 140, Loss: -0.624824\n",
      "Iteration 150, Loss: -0.632265\n",
      "Iteration 160, Loss: -0.240146\n",
      "Iteration 170, Loss: -0.214720\n",
      "Iteration 180, Loss: -0.363248\n",
      "Iteration 190, Loss: -0.532644\n",
      "Iteration 200, Loss: -0.836740\n",
      "Iteration 210, Loss: 0.083543\n",
      "Iteration 220, Loss: -0.562332\n",
      "Iteration 230, Loss: -0.619736\n",
      "Iteration 240, Loss: -0.329103\n",
      "Iteration 250, Loss: -0.437918\n",
      "Iteration 260, Loss: -0.494462\n",
      "Iteration 270, Loss: -0.597588\n",
      "Iteration 280, Loss: -0.601478\n",
      "Iteration 290, Loss: -0.629192\n",
      "Iteration 300, Loss: -0.601520\n",
      "Iteration 310, Loss: -0.573487\n",
      "Iteration 320, Loss: -0.230694\n",
      "Iteration 330, Loss: -0.518033\n",
      "Iteration 340, Loss: -0.500542\n",
      "Iteration 350, Loss: -0.007999\n",
      "Iteration 360, Loss: -0.601607\n",
      "Iteration 370, Loss: -0.597502\n",
      "Iteration 380, Loss: -0.627626\n",
      "Iteration 390, Loss: -0.600935\n",
      "Iteration 400, Loss: -0.541790\n",
      "Iteration 410, Loss: 0.190569\n",
      "Iteration 420, Loss: 0.235854\n",
      "Iteration 430, Loss: -0.539606\n",
      "Iteration 440, Loss: -0.124993\n",
      "Iteration 450, Loss: -0.551685\n",
      "Iteration 460, Loss: -0.574950\n",
      "Iteration 470, Loss: 0.197717\n",
      "Iteration 480, Loss: -0.362944\n",
      "Iteration 490, Loss: -0.760396\n",
      "Iteration 500, Loss: -0.249771\n",
      "Iteration 510, Loss: -0.613833\n",
      "Iteration 520, Loss: -0.630084\n",
      "Iteration 530, Loss: -0.474797\n",
      "Iteration 540, Loss: -0.522173\n",
      "Iteration 550, Loss: -0.578239\n",
      "Iteration 560, Loss: -0.593197\n",
      "Iteration 570, Loss: -0.605496\n",
      "Iteration 580, Loss: -0.625796\n",
      "Iteration 590, Loss: -0.503121\n",
      "Iteration 600, Loss: -0.194416\n",
      "Iteration 610, Loss: -0.342042\n",
      "Iteration 620, Loss: -0.466110\n",
      "Iteration 630, Loss: -0.105953\n",
      "Iteration 640, Loss: -0.156818\n",
      "Iteration 650, Loss: -0.137473\n",
      "Iteration 660, Loss: -0.118738\n",
      "Iteration 670, Loss: -0.848970\n",
      "Iteration 680, Loss: -0.413964\n",
      "Iteration 690, Loss: -0.548566\n",
      "Iteration 700, Loss: -0.614173\n",
      "Iteration 710, Loss: -0.363721\n",
      "Iteration 720, Loss: -0.449040\n",
      "Iteration 730, Loss: -0.785917\n",
      "Iteration 740, Loss: 1.317521\n",
      "Iteration 750, Loss: -0.887222\n",
      "Iteration 760, Loss: -0.919157\n",
      "Iteration 770, Loss: 0.663427\n",
      "Iteration 780, Loss: 0.074293\n",
      "Iteration 790, Loss: 0.181650\n",
      "Iteration 800, Loss: -0.429868\n",
      "Iteration 810, Loss: -0.831439\n",
      "Iteration 820, Loss: 0.084806\n",
      "Iteration 830, Loss: -0.469435\n",
      "Iteration 840, Loss: -0.494887\n",
      "Iteration 850, Loss: -0.620389\n",
      "Iteration 860, Loss: -0.632850\n",
      "Iteration 870, Loss: -0.614769\n",
      "Iteration 880, Loss: 0.156347\n",
      "Iteration 890, Loss: -0.710858\n",
      "Iteration 900, Loss: -0.886895\n",
      "Iteration 910, Loss: -0.910166\n",
      "Iteration 920, Loss: -0.870717\n",
      "Iteration 930, Loss: -0.299542\n",
      "Iteration 940, Loss: -0.506579\n",
      "Iteration 950, Loss: 0.078136\n",
      "Iteration 960, Loss: -0.179178\n",
      "Iteration 970, Loss: -0.541003\n",
      "Iteration 980, Loss: -0.856406\n",
      "Iteration 990, Loss: -0.911929\n"
     ]
    }
   ],
   "source": [
    "# Note if tsave = jnp.linspace(0, 1, 1) = [0.0] then the decay is not applied ?\n",
    "# because the first time step has the original non decayed state\n",
    "result = optimize_pulse_with_feedback(\n",
    "    U_0=rho_target,\n",
    "    C_target=rho_target,\n",
    "    decay={\n",
    "        \"decay_indices\": [0],  # indices of gates before which decay occurs\n",
    "        # c_ops need to be tensored with the identity operator for the cavity\n",
    "        # because it is used directly in the lindblad equation\n",
    "        \"c_ops\": {\n",
    "            # weird behavior when gamma is 0.00\n",
    "            \"tm\": [tensor(identity(N_cav), jnp.sqrt(0.15) * sigmam())],\n",
    "            # \"tc\": [tensor(identity(N_cav), jnp.sqrt(0.15) * sigmap())],\n",
    "        },  # c_ops for each decay index\n",
    "        \"tsave\": jnp.linspace(0, 1, 2),  # time grid for decay\n",
    "        \"Hamiltonian\": None,\n",
    "    },\n",
    "    system_params=system_params,\n",
    "    num_time_steps=1,\n",
    "    mode=\"lookup\",\n",
    "    goal=\"fidelity\",\n",
    "    max_iter=1000,\n",
    "    convergence_threshold=1e-6,\n",
    "    learning_rate=0.02,\n",
    "    evo_type=\"density\",\n",
    "    batch_size=1,\n",
    ")"
   ]
  },
  {
   "cell_type": "code",
   "execution_count": 16,
   "id": "3419d96d",
   "metadata": {},
   "outputs": [
    {
     "name": "stdout",
     "output_type": "stream",
     "text": [
      "0.9275978401176824\n"
     ]
    }
   ],
   "source": [
    "# 0.9276290167783705\n",
    "print(result.final_fidelity)"
   ]
  },
  {
   "cell_type": "code",
   "execution_count": 17,
   "id": "20bb8cdb",
   "metadata": {},
   "outputs": [
    {
     "name": "stdout",
     "output_type": "stream",
     "text": [
      "initial fidelity: 1.000000011680078\n",
      "fidelity of state 0: 0.9275978401176822\n",
      "fidelity of state 1: 0.9275978401176822\n",
      "fidelity of state 2: 0.9275978401176822\n",
      "fidelity of state 3: 0.9275978401176822\n",
      "fidelity of state 4: 0.9275978401176822\n",
      "fidelity of state 5: 0.9275978401176822\n",
      "fidelity of state 6: 0.9275978401176822\n",
      "fidelity of state 7: 0.9275978401176822\n",
      "fidelity of state 8: 0.9275978401176822\n",
      "fidelity of state 9: 0.9275978401176822\n"
     ]
    }
   ],
   "source": [
    "from feedback_grape.utils.fidelity import fidelity\n",
    "\n",
    "print(\n",
    "    \"initial fidelity:\",\n",
    "    fidelity(C_target=rho_target, U_final=rho_target, evo_type=\"density\"),\n",
    ")\n",
    "for i, state in enumerate(result.final_state):\n",
    "    print(\n",
    "        f\"fidelity of state {i}:\",\n",
    "        fidelity(C_target=rho_target, U_final=state, evo_type=\"density\"),\n",
    "    )"
   ]
  },
  {
   "cell_type": "code",
   "execution_count": 18,
   "id": "51c5f007",
   "metadata": {},
   "outputs": [
    {
     "data": {
      "text/plain": [
       "[[Array([[-0.00741632,  1.06379157],\n",
       "         [-0.00741632,  1.06379157],\n",
       "         [-0.00741632,  1.06379157],\n",
       "         [-0.00741632,  1.06379157],\n",
       "         [-0.00741632,  1.06379157],\n",
       "         [-0.00741632,  1.06379157],\n",
       "         [-0.00741632,  1.06379157],\n",
       "         [-0.00741632,  1.06379157],\n",
       "         [-0.00741632,  1.06379157],\n",
       "         [-0.00741632,  1.06379157]], dtype=float64),\n",
       "  Array([[-2.49457138e-05],\n",
       "         [-2.49457138e-05],\n",
       "         [-2.49457138e-05],\n",
       "         [-2.49457138e-05],\n",
       "         [-2.49457138e-05],\n",
       "         [-2.49457138e-05],\n",
       "         [-2.49457138e-05],\n",
       "         [-2.49457138e-05],\n",
       "         [-2.49457138e-05],\n",
       "         [-2.49457138e-05]], dtype=float64),\n",
       "  Array([[-0.00126234],\n",
       "         [-0.00126234],\n",
       "         [-0.00126234],\n",
       "         [-0.00126234],\n",
       "         [-0.00126234],\n",
       "         [-0.00126234],\n",
       "         [-0.00126234],\n",
       "         [-0.00126234],\n",
       "         [-0.00126234],\n",
       "         [-0.00126234]], dtype=float64)]]"
      ]
     },
     "execution_count": 18,
     "metadata": {},
     "output_type": "execute_result"
    }
   ],
   "source": [
    "result.returned_params"
   ]
  },
  {
   "cell_type": "code",
   "execution_count": 19,
   "id": "6c4441f2",
   "metadata": {},
   "outputs": [
    {
     "data": {
      "text/plain": [
       "[Array([-0.00741632,  1.06379157], dtype=float64),\n",
       " Array([1.04719755], dtype=float64),\n",
       " Array([1.04719755], dtype=float64)]"
      ]
     },
     "execution_count": 19,
     "metadata": {},
     "output_type": "execute_result"
    }
   ],
   "source": [
    "result.optimized_trainable_parameters[\"initial_params\"]"
   ]
  },
  {
   "cell_type": "code",
   "execution_count": 20,
   "id": "4fb27f62",
   "metadata": {},
   "outputs": [],
   "source": [
    "c_ops = {\n",
    "    \"a\": [tensor(identity(N_cav), jnp.sqrt(0.15) * sigmam())],\n",
    "    \"b\": [jnp.array([2])],\n",
    "}"
   ]
  },
  {
   "cell_type": "code",
   "execution_count": 21,
   "id": "fe518b57",
   "metadata": {},
   "outputs": [],
   "source": [
    "import jax\n",
    "\n",
    "\n",
    "def prepare_parameters_from_dict(params_dict):\n",
    "    \"\"\"\n",
    "    Convert a nested dictionary of parameters to a flat list and record shapes.\n",
    "\n",
    "    Args:\n",
    "        params_dict: Nested dictionary of parameters.\n",
    "\n",
    "    Returns:\n",
    "        tuple: Flattened parameters list and list of shapes.\n",
    "    \"\"\"\n",
    "    res = []\n",
    "    shapes = []\n",
    "    for value in params_dict.values():\n",
    "        flat_params = jax.tree_util.tree_leaves(value)\n",
    "        res.append(jnp.array(flat_params))\n",
    "        shapes.append(jnp.array(flat_params).shape[0])\n",
    "    return res, shapes"
   ]
  },
  {
   "cell_type": "code",
   "execution_count": 22,
   "id": "e6a685c0",
   "metadata": {},
   "outputs": [],
   "source": [
    "res, _ = prepare_parameters_from_dict(c_ops)"
   ]
  },
  {
   "cell_type": "code",
   "execution_count": 23,
   "id": "f8680079",
   "metadata": {},
   "outputs": [
    {
     "data": {
      "text/plain": [
       "Array([[[0.        +0.j, 0.        +0.j, 0.        +0.j, ...,\n",
       "         0.        +0.j, 0.        +0.j, 0.        +0.j],\n",
       "        [0.38729833+0.j, 0.        +0.j, 0.        +0.j, ...,\n",
       "         0.        +0.j, 0.        +0.j, 0.        +0.j],\n",
       "        [0.        +0.j, 0.        +0.j, 0.        +0.j, ...,\n",
       "         0.        +0.j, 0.        +0.j, 0.        +0.j],\n",
       "        ...,\n",
       "        [0.        +0.j, 0.        +0.j, 0.        +0.j, ...,\n",
       "         0.        +0.j, 0.        +0.j, 0.        +0.j],\n",
       "        [0.        +0.j, 0.        +0.j, 0.        +0.j, ...,\n",
       "         0.        +0.j, 0.        +0.j, 0.        +0.j],\n",
       "        [0.        +0.j, 0.        +0.j, 0.        +0.j, ...,\n",
       "         0.        +0.j, 0.38729833+0.j, 0.        +0.j]]],      dtype=complex128)"
      ]
     },
     "execution_count": 23,
     "metadata": {},
     "output_type": "execute_result"
    }
   ],
   "source": [
    "res.pop(0)"
   ]
  }
 ],
 "metadata": {
  "kernelspec": {
   "display_name": "Python 3",
   "language": "python",
   "name": "python3"
  },
  "language_info": {
   "codemirror_mode": {
    "name": "ipython",
    "version": 3
   },
   "file_extension": ".py",
   "mimetype": "text/x-python",
   "name": "python",
   "nbconvert_exporter": "python",
   "pygments_lexer": "ipython3",
   "version": "3.11.11"
  }
 },
 "nbformat": 4,
 "nbformat_minor": 5
}

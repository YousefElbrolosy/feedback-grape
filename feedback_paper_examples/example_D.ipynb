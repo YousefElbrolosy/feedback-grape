{
 "cells": [
  {
   "cell_type": "markdown",
   "id": "f76d2ebd",
   "metadata": {},
   "source": [
    "## State Stabilization"
   ]
  },
  {
   "cell_type": "markdown",
   "id": "9018ebc9",
   "metadata": {},
   "source": [
    "Here the result is as follows: The algorithm optimizes the params, such that the POVM always outputs 1, implying that the measurement leaves the target state invariant. this is what we are indeed seeing when printing the measurement outcome and its probability, when batching however, the optimizer struggles to converge.\n",
    "\n",
    "Also, lookup here is much better than nn for the same hyperparameters."
   ]
  },
  {
   "cell_type": "markdown",
   "id": "e26d5142",
   "metadata": {},
   "source": [
    "This is actually a perfect example, of feedback grape modifying the params so that a certain measurement sequence will always be output because this measurement sequence is the one that is going to lead to the best fidelity"
   ]
  },
  {
   "cell_type": "code",
   "execution_count": 1,
   "id": "d81979c5",
   "metadata": {},
   "outputs": [],
   "source": [
    "# ruff: noqa\n",
    "import os\n",
    "\n",
    "os.sys.path.append(\"..\")\n",
    "from feedback_grape.fgrape import optimize_pulse_with_feedback\n",
    "from feedback_grape.utils.operators import (\n",
    "    sigmap,\n",
    "    sigmam,\n",
    "    create,\n",
    "    destroy,\n",
    "    identity,\n",
    "    cosm,\n",
    "    sinm,\n",
    ")\n",
    "from feedback_grape.utils.states import basis, fock\n",
    "from feedback_grape.utils.tensor import tensor\n",
    "import jax.numpy as jnp\n",
    "from jax.scipy.linalg import expm"
   ]
  },
  {
   "cell_type": "code",
   "execution_count": 2,
   "id": "fe4baf1a",
   "metadata": {},
   "outputs": [],
   "source": [
    "N_cav = 30"
   ]
  },
  {
   "cell_type": "code",
   "execution_count": 3,
   "id": "1c912a34",
   "metadata": {},
   "outputs": [],
   "source": [
    "def qubit_unitary(alpha):\n",
    "    \"\"\"\n",
    "    TODO: see if alpha, can be sth elser other than scalar, and if the algo understands this\n",
    "    see if there can be multiple params like alpha and beta input\n",
    "    \"\"\"\n",
    "    return expm(\n",
    "        -1j\n",
    "        * (\n",
    "            alpha * tensor(identity(N_cav), sigmap())\n",
    "            + alpha.conjugate() * tensor(identity(N_cav), sigmam())\n",
    "        )\n",
    "        / 2\n",
    "    )"
   ]
  },
  {
   "cell_type": "code",
   "execution_count": 4,
   "id": "c1baa1bc",
   "metadata": {},
   "outputs": [],
   "source": [
    "def qubit_cavity_unitary(beta):\n",
    "    return expm(\n",
    "        -1j\n",
    "        * (\n",
    "            beta\n",
    "            * (\n",
    "                tensor(destroy(N_cav), identity(2))\n",
    "                @ tensor(identity(N_cav), sigmap())\n",
    "            )\n",
    "            + beta.conjugate()\n",
    "            * (\n",
    "                tensor(create(N_cav), identity(2))\n",
    "                @ tensor(identity(N_cav), sigmam())\n",
    "            )\n",
    "        )\n",
    "        / 2\n",
    "    )"
   ]
  },
  {
   "cell_type": "code",
   "execution_count": 5,
   "id": "70a6a5cd",
   "metadata": {},
   "outputs": [],
   "source": [
    "from feedback_grape.utils.operators import create, destroy\n",
    "\n",
    "\n",
    "def povm_measure_operator(measurement_outcome, gamma, delta):\n",
    "    \"\"\"\n",
    "    POVM for the measurement of the cavity state.\n",
    "    returns Mm ( NOT the POVM element Em = Mm_dag @ Mm ), given measurement_outcome m, gamma and delta\n",
    "    \"\"\"\n",
    "    number_operator = tensor(create(N_cav) @ destroy(N_cav), identity(2))\n",
    "    angle = (gamma * number_operator) + delta / 2\n",
    "    meas_op = jnp.where(\n",
    "        measurement_outcome == 1,\n",
    "        cosm(angle),\n",
    "        sinm(angle),\n",
    "    )\n",
    "    return meas_op"
   ]
  },
  {
   "cell_type": "code",
   "execution_count": 6,
   "id": "ce889fc2",
   "metadata": {},
   "outputs": [],
   "source": [
    "from feedback_grape.utils.states import coherent\n",
    "\n",
    "alpha = 3\n",
    "psi_target = tensor(\n",
    "    coherent(N_cav, alpha)\n",
    "    + coherent(N_cav, -alpha)\n",
    "    + coherent(N_cav, 1j * alpha)\n",
    "    + coherent(N_cav, -1j * alpha),\n",
    "    basis(2),\n",
    ")  # 4-legged state\n",
    "\n",
    "# Normalize psi_target before constructing rho_target\n",
    "psi_target = psi_target / jnp.linalg.norm(psi_target)\n",
    "rho_target = psi_target @ psi_target.conj().T"
   ]
  },
  {
   "cell_type": "code",
   "execution_count": 7,
   "id": "2321d333",
   "metadata": {},
   "outputs": [
    {
     "data": {
      "text/plain": [
       "(60, 60)"
      ]
     },
     "execution_count": 7,
     "metadata": {},
     "output_type": "execute_result"
    }
   ],
   "source": [
    "rho_target.shape"
   ]
  },
  {
   "cell_type": "markdown",
   "id": "565bfc6e",
   "metadata": {},
   "source": [
    "### It is important to test what the POVM probability is, to check if your state is normalized. if the probability is bounded between 0 and 1 then normalized"
   ]
  },
  {
   "cell_type": "code",
   "execution_count": 8,
   "id": "6599acde",
   "metadata": {},
   "outputs": [
    {
     "data": {
      "text/plain": [
       "Array(0.70390199, dtype=float64)"
      ]
     },
     "execution_count": 8,
     "metadata": {},
     "output_type": "execute_result"
    }
   ],
   "source": [
    "# TODO/Question: should one normalize within the optimization just in case?\n",
    "from feedback_grape.utils.povm import (\n",
    "    _probability_of_a_measurement_outcome_given_a_certain_state,\n",
    ")\n",
    "\n",
    "_probability_of_a_measurement_outcome_given_a_certain_state(\n",
    "    rho_target, 1, povm_measure_operator, [0.058, jnp.pi / 2]\n",
    ")"
   ]
  },
  {
   "cell_type": "code",
   "execution_count": 9,
   "id": "6439b369",
   "metadata": {},
   "outputs": [
    {
     "name": "stdout",
     "output_type": "stream",
     "text": [
      "1.0000000079954297\n"
     ]
    }
   ],
   "source": [
    "from feedback_grape.utils.fidelity import fidelity\n",
    "\n",
    "print(fidelity(U_final=rho_target, C_target=rho_target, type=\"density\"))"
   ]
  },
  {
   "cell_type": "markdown",
   "id": "56f2b30f",
   "metadata": {},
   "source": [
    "### Without dissipation"
   ]
  },
  {
   "cell_type": "code",
   "execution_count": 10,
   "id": "5329d87d",
   "metadata": {},
   "outputs": [
    {
     "name": "stdout",
     "output_type": "stream",
     "text": [
      "Iteration 0, Loss: -0.191559\n",
      "Iteration 10, Loss: -0.308840\n",
      "Iteration 20, Loss: -0.386906\n",
      "Iteration 30, Loss: -0.430668\n",
      "Iteration 40, Loss: -0.476257\n",
      "Iteration 50, Loss: -0.514217\n",
      "Iteration 60, Loss: -0.549715\n",
      "Iteration 70, Loss: -0.582782\n",
      "Iteration 80, Loss: -0.613787\n",
      "Iteration 90, Loss: -0.642515\n",
      "Iteration 100, Loss: -0.669039\n",
      "Iteration 110, Loss: -0.693400\n",
      "Iteration 120, Loss: -0.715645\n",
      "Iteration 130, Loss: -0.735849\n",
      "Iteration 140, Loss: -0.754097\n",
      "Iteration 150, Loss: -0.770484\n",
      "Iteration 160, Loss: -0.785118\n",
      "Iteration 170, Loss: -0.798112\n",
      "Iteration 180, Loss: -0.809586\n",
      "Iteration 190, Loss: -0.819659\n",
      "Iteration 200, Loss: -0.828454\n",
      "Iteration 210, Loss: -0.836089\n",
      "Iteration 220, Loss: -0.842682\n",
      "Iteration 230, Loss: -0.848343\n",
      "Iteration 240, Loss: -0.853184\n",
      "Iteration 250, Loss: -0.857337\n",
      "Iteration 260, Loss: -0.861203\n",
      "Iteration 270, Loss: -0.888402\n",
      "Iteration 280, Loss: -0.975265\n",
      "Iteration 290, Loss: -0.987029\n",
      "Iteration 300, Loss: -0.988439\n",
      "Iteration 310, Loss: -0.993398\n",
      "Iteration 320, Loss: -0.995598\n",
      "Iteration 330, Loss: -0.996539\n",
      "Iteration 340, Loss: -0.997465\n",
      "Iteration 350, Loss: -0.998139\n",
      "Iteration 360, Loss: -0.998615\n",
      "Iteration 370, Loss: -0.998984\n",
      "Iteration 380, Loss: -0.999256\n",
      "Iteration 390, Loss: -0.999458\n",
      "Iteration 400, Loss: -0.999608\n",
      "Iteration 410, Loss: -0.999718\n",
      "Iteration 420, Loss: -0.999798\n",
      "Iteration 430, Loss: -0.999856\n",
      "Iteration 440, Loss: -0.999899\n",
      "Iteration 450, Loss: -0.999929\n",
      "Iteration 460, Loss: -0.999950\n",
      "Iteration 470, Loss: -0.999966\n",
      "Iteration 480, Loss: -0.999976\n",
      "Iteration 490, Loss: -0.999984\n",
      "Iteration 500, Loss: -0.999989\n",
      "Iteration 510, Loss: -0.999993\n",
      "Iteration 520, Loss: -0.999995\n",
      "Iteration 530, Loss: -0.999997\n",
      "Iteration 540, Loss: -0.999998\n",
      "Iteration 550, Loss: -0.999999\n",
      "Iteration 560, Loss: -0.999999\n",
      "Iteration 570, Loss: -0.999999\n",
      "Iteration 580, Loss: -1.000000\n",
      "Iteration 590, Loss: -1.000000\n",
      "Iteration 600, Loss: -1.000000\n",
      "Iteration 610, Loss: -1.000000\n",
      "Iteration 620, Loss: -1.000000\n",
      "Iteration 630, Loss: -1.000000\n",
      "Iteration 640, Loss: -1.000000\n",
      "Iteration 650, Loss: -1.000000\n",
      "Iteration 660, Loss: -1.000000\n",
      "Iteration 670, Loss: -1.000000\n",
      "Iteration 680, Loss: -1.000000\n",
      "Iteration 690, Loss: -1.000000\n",
      "Iteration 700, Loss: -1.000000\n",
      "Iteration 710, Loss: -1.000000\n",
      "Iteration 720, Loss: -1.000000\n",
      "Iteration 730, Loss: -1.000000\n",
      "Iteration 740, Loss: -1.000000\n",
      "Iteration 750, Loss: -1.000000\n",
      "Iteration 760, Loss: -1.000000\n",
      "Iteration 770, Loss: -1.000000\n",
      "Iteration 780, Loss: -1.000000\n",
      "Iteration 790, Loss: -1.000000\n",
      "Iteration 800, Loss: -1.000000\n",
      "Iteration 810, Loss: -1.000000\n",
      "Iteration 820, Loss: -1.000000\n",
      "Iteration 830, Loss: -1.000000\n",
      "Iteration 840, Loss: -1.000000\n",
      "Iteration 850, Loss: -1.000000\n",
      "Iteration 860, Loss: -1.000000\n",
      "Iteration 870, Loss: -1.000000\n",
      "Iteration 880, Loss: -1.000000\n",
      "Iteration 890, Loss: -1.000000\n",
      "Iteration 900, Loss: -1.000000\n",
      "Iteration 910, Loss: -1.000000\n",
      "Iteration 920, Loss: -1.000000\n",
      "Iteration 930, Loss: -1.000000\n",
      "Iteration 940, Loss: -1.000000\n",
      "Iteration 950, Loss: -1.000000\n",
      "Iteration 960, Loss: -1.000000\n",
      "Iteration 970, Loss: -1.000000\n"
     ]
    }
   ],
   "source": [
    "# Here the loss directly corressponds to the -fidelity (when converging) because log(1) is 0 and \n",
    "# the algorithm is choosing params that makes the POVM generate prob = 1\n",
    "result = optimize_pulse_with_feedback(\n",
    "    U_0=rho_target,\n",
    "    C_target=rho_target,\n",
    "    parameterized_gates=[\n",
    "        povm_measure_operator,\n",
    "        qubit_unitary,\n",
    "        qubit_cavity_unitary,\n",
    "    ],\n",
    "    measurement_indices=[0],\n",
    "    initial_params={\n",
    "        \"POVM\": [0.058, jnp.pi / 2],\n",
    "        \"U_q\": [jnp.pi / 3],\n",
    "        \"U_qc\": [jnp.pi / 3],\n",
    "    },\n",
    "    num_time_steps=1,\n",
    "    mode=\"lookup\",\n",
    "    goal=\"fidelity\",\n",
    "    optimizer=\"adam\",\n",
    "    max_iter=1000,\n",
    "    convergence_threshold=1e-16,\n",
    "    learning_rate=0.01,\n",
    "    type=\"density\",\n",
    "    batch_size=1,\n",
    ")"
   ]
  },
  {
   "cell_type": "code",
   "execution_count": 11,
   "id": "242b562a",
   "metadata": {},
   "outputs": [
    {
     "name": "stdout",
     "output_type": "stream",
     "text": [
      "1.0000000075622455\n"
     ]
    }
   ],
   "source": [
    "print(result.final_fidelity)"
   ]
  },
  {
   "cell_type": "code",
   "execution_count": 12,
   "id": "f410e7e2",
   "metadata": {},
   "outputs": [
    {
     "data": {
      "text/plain": [
       "[Array([6.71204658e-17, 1.67551608e+00], dtype=float64),\n",
       " Array([1.04719755], dtype=float64),\n",
       " Array([1.04719755], dtype=float64)]"
      ]
     },
     "execution_count": 12,
     "metadata": {},
     "output_type": "execute_result"
    }
   ],
   "source": [
    "result.optimized_trainable_parameters[\"initial_params\"]"
   ]
  },
  {
   "cell_type": "code",
   "execution_count": 13,
   "id": "09d6f7db",
   "metadata": {},
   "outputs": [
    {
     "data": {
      "text/plain": [
       "[[Array([[6.71204658e-17, 1.67551608e+00],\n",
       "         [6.71204658e-17, 1.67551608e+00],\n",
       "         [6.71204658e-17, 1.67551608e+00],\n",
       "         [6.71204658e-17, 1.67551608e+00],\n",
       "         [6.71204658e-17, 1.67551608e+00],\n",
       "         [6.71204658e-17, 1.67551608e+00],\n",
       "         [6.71204658e-17, 1.67551608e+00],\n",
       "         [6.71204658e-17, 1.67551608e+00],\n",
       "         [6.71204658e-17, 1.67551608e+00],\n",
       "         [6.71204658e-17, 1.67551608e+00]], dtype=float64),\n",
       "  Array([[1.17388843e-08],\n",
       "         [1.17388843e-08],\n",
       "         [1.17388843e-08],\n",
       "         [1.17388843e-08],\n",
       "         [1.17388843e-08],\n",
       "         [1.17388843e-08],\n",
       "         [1.17388843e-08],\n",
       "         [1.17388843e-08],\n",
       "         [1.17388843e-08],\n",
       "         [1.17388843e-08]], dtype=float64),\n",
       "  Array([[-3.75038534e-16],\n",
       "         [-3.75038534e-16],\n",
       "         [-3.75038534e-16],\n",
       "         [-3.75038534e-16],\n",
       "         [-3.75038534e-16],\n",
       "         [-3.75038534e-16],\n",
       "         [-3.75038534e-16],\n",
       "         [-3.75038534e-16],\n",
       "         [-3.75038534e-16],\n",
       "         [-3.75038534e-16]], dtype=float64)]]"
      ]
     },
     "execution_count": 13,
     "metadata": {},
     "output_type": "execute_result"
    }
   ],
   "source": [
    "result.returned_params"
   ]
  },
  {
   "cell_type": "code",
   "execution_count": 14,
   "id": "546d79dd",
   "metadata": {},
   "outputs": [
    {
     "name": "stdout",
     "output_type": "stream",
     "text": [
      "initial fidelity: 1.0000000079954297\n",
      "fidelity of state 0: 1.0000000075622453\n",
      "fidelity of state 1: 1.0000000075622453\n",
      "fidelity of state 2: 1.0000000075622453\n",
      "fidelity of state 3: 1.0000000075622453\n",
      "fidelity of state 4: 1.0000000075622453\n",
      "fidelity of state 5: 1.0000000075622453\n",
      "fidelity of state 6: 1.0000000075622453\n",
      "fidelity of state 7: 1.0000000075622453\n",
      "fidelity of state 8: 1.0000000075622453\n",
      "fidelity of state 9: 1.0000000075622453\n"
     ]
    }
   ],
   "source": [
    "from feedback_grape.utils.fidelity import fidelity\n",
    "\n",
    "print(\n",
    "    \"initial fidelity:\",\n",
    "    fidelity(C_target=rho_target, U_final=rho_target, type=\"density\"),\n",
    ")\n",
    "for i, state in enumerate(result.final_state):\n",
    "    print(\n",
    "        f\"fidelity of state {i}:\",\n",
    "        fidelity(C_target=rho_target, U_final=state, type=\"density\"),\n",
    "    )"
   ]
  },
  {
   "cell_type": "markdown",
   "id": "f2190e32",
   "metadata": {},
   "source": [
    "### With Dissipation"
   ]
  },
  {
   "cell_type": "code",
   "execution_count": 15,
   "id": "eec5fd59",
   "metadata": {},
   "outputs": [
    {
     "name": "stdout",
     "output_type": "stream",
     "text": [
      "Iteration 0, Loss: -0.216127\n",
      "Iteration 10, Loss: -0.332174\n",
      "Iteration 20, Loss: -0.522050\n",
      "Iteration 30, Loss: -0.610393\n",
      "Iteration 40, Loss: -0.685936\n",
      "Iteration 50, Loss: -0.741057\n",
      "Iteration 60, Loss: -0.788380\n",
      "Iteration 70, Loss: -0.826686\n",
      "Iteration 80, Loss: -0.856720\n",
      "Iteration 90, Loss: -0.879411\n",
      "Iteration 100, Loss: -0.895846\n",
      "Iteration 110, Loss: -0.907367\n",
      "Iteration 120, Loss: -0.915141\n",
      "Iteration 130, Loss: -0.920202\n",
      "Iteration 140, Loss: -0.923379\n",
      "Iteration 150, Loss: -0.925302\n",
      "Iteration 160, Loss: -0.926425\n",
      "Iteration 170, Loss: -0.927056\n",
      "Iteration 180, Loss: -0.927399\n",
      "Iteration 190, Loss: -0.927577\n",
      "Iteration 200, Loss: -0.927667\n",
      "Iteration 210, Loss: -0.927709\n",
      "Iteration 220, Loss: -0.927729\n"
     ]
    }
   ],
   "source": [
    "# Note if tsave = jnp.linspace(0, 1, 1) = [0.0] then the decay is not applied ?\n",
    "# because the first time step has the original non decayed state\n",
    "result = optimize_pulse_with_feedback(\n",
    "    U_0=rho_target,\n",
    "    C_target=rho_target,\n",
    "    parameterized_gates=[\n",
    "        povm_measure_operator,\n",
    "        qubit_unitary,\n",
    "        qubit_cavity_unitary,\n",
    "    ],\n",
    "    measurement_indices=[0],\n",
    "    decay={\n",
    "        \"decay_indices\": [0],  # indices of gates before which decay occurs\n",
    "        # c_ops need to be tensored with the identity operator for the cavity\n",
    "        # because it is used directly in the lindblad equation\n",
    "        \"c_ops\": {\n",
    "            # weird behavior when gamma is 0.00\n",
    "            \"tm\": [tensor(identity(N_cav), jnp.sqrt(0.15) * sigmam())],\n",
    "            # \"tc\": [tensor(identity(N_cav), jnp.sqrt(0.15) * sigmap())],\n",
    "        },  # c_ops for each decay index\n",
    "        \"tsave\": jnp.linspace(0, 1, 2),  # time grid for decay\n",
    "        \"Hamiltonian\": None,\n",
    "    },\n",
    "    initial_params={\n",
    "        # if POVM params is 0 and jnp.pi/3 the probability that the measurement outcome is 1 is 1.0\n",
    "        # therefore the algorithm trains really well on that measurement outcome\n",
    "        # this POVM, initial_params, leads to probabilities similar to the fig 6b example\n",
    "        \"POVM\": [0.058, jnp.pi / 2],\n",
    "        \"U_q\": [jnp.pi / 3],\n",
    "        \"U_qc\": [jnp.pi / 3],\n",
    "    },\n",
    "    num_time_steps=1,\n",
    "    mode=\"lookup\",\n",
    "    goal=\"fidelity\",\n",
    "    optimizer=\"adam\",\n",
    "    max_iter=1000,\n",
    "    convergence_threshold=1e-6,\n",
    "    learning_rate=0.02,\n",
    "    type=\"density\",\n",
    "    batch_size=1,\n",
    ")"
   ]
  },
  {
   "cell_type": "code",
   "execution_count": 16,
   "id": "3419d96d",
   "metadata": {},
   "outputs": [
    {
     "name": "stdout",
     "output_type": "stream",
     "text": [
      "0.9277343738602085\n"
     ]
    }
   ],
   "source": [
    "# 0.9276290167783705\n",
    "print(result.final_fidelity)"
   ]
  },
  {
   "cell_type": "code",
   "execution_count": 17,
   "id": "20bb8cdb",
   "metadata": {},
   "outputs": [
    {
     "name": "stdout",
     "output_type": "stream",
     "text": [
      "initial fidelity: 1.0000000079954297\n",
      "fidelity of state 0: 0.9277343738602085\n",
      "fidelity of state 1: 0.9277343738602085\n",
      "fidelity of state 2: 0.9277343738602085\n",
      "fidelity of state 3: 0.9277343738602085\n",
      "fidelity of state 4: 0.9277343738602085\n",
      "fidelity of state 5: 0.9277343738602085\n",
      "fidelity of state 6: 0.9277343738602085\n",
      "fidelity of state 7: 0.9277343738602085\n",
      "fidelity of state 8: 0.9277343738602085\n",
      "fidelity of state 9: 0.9277343738602085\n"
     ]
    }
   ],
   "source": [
    "from feedback_grape.utils.fidelity import fidelity\n",
    "\n",
    "print(\n",
    "    \"initial fidelity:\",\n",
    "    fidelity(C_target=rho_target, U_final=rho_target, type=\"density\"),\n",
    ")\n",
    "for i, state in enumerate(result.final_state):\n",
    "    print(\n",
    "        f\"fidelity of state {i}:\",\n",
    "        fidelity(C_target=rho_target, U_final=state, type=\"density\"),\n",
    "    )"
   ]
  },
  {
   "cell_type": "code",
   "execution_count": 18,
   "id": "51c5f007",
   "metadata": {},
   "outputs": [
    {
     "data": {
      "text/plain": [
       "[[Array([[6.30137489e-07, 1.46607620e+00],\n",
       "         [6.30137489e-07, 1.46607620e+00],\n",
       "         [6.30137489e-07, 1.46607620e+00],\n",
       "         [6.30137489e-07, 1.46607620e+00],\n",
       "         [6.30137489e-07, 1.46607620e+00],\n",
       "         [6.30137489e-07, 1.46607620e+00],\n",
       "         [6.30137489e-07, 1.46607620e+00],\n",
       "         [6.30137489e-07, 1.46607620e+00],\n",
       "         [6.30137489e-07, 1.46607620e+00],\n",
       "         [6.30137489e-07, 1.46607620e+00]], dtype=float64),\n",
       "  Array([[0.0096846],\n",
       "         [0.0096846],\n",
       "         [0.0096846],\n",
       "         [0.0096846],\n",
       "         [0.0096846],\n",
       "         [0.0096846],\n",
       "         [0.0096846],\n",
       "         [0.0096846],\n",
       "         [0.0096846],\n",
       "         [0.0096846]], dtype=float64),\n",
       "  Array([[2.98303997e-06],\n",
       "         [2.98303997e-06],\n",
       "         [2.98303997e-06],\n",
       "         [2.98303997e-06],\n",
       "         [2.98303997e-06],\n",
       "         [2.98303997e-06],\n",
       "         [2.98303997e-06],\n",
       "         [2.98303997e-06],\n",
       "         [2.98303997e-06],\n",
       "         [2.98303997e-06]], dtype=float64)]]"
      ]
     },
     "execution_count": 18,
     "metadata": {},
     "output_type": "execute_result"
    }
   ],
   "source": [
    "result.returned_params"
   ]
  },
  {
   "cell_type": "code",
   "execution_count": 19,
   "id": "6c4441f2",
   "metadata": {},
   "outputs": [
    {
     "data": {
      "text/plain": [
       "[Array([6.30137489e-07, 1.46607620e+00], dtype=float64),\n",
       " Array([1.04719755], dtype=float64),\n",
       " Array([1.04719755], dtype=float64)]"
      ]
     },
     "execution_count": 19,
     "metadata": {},
     "output_type": "execute_result"
    }
   ],
   "source": [
    "result.optimized_trainable_parameters[\"initial_params\"]"
   ]
  },
  {
   "cell_type": "code",
   "execution_count": 20,
   "id": "4fb27f62",
   "metadata": {},
   "outputs": [],
   "source": [
    "c_ops = {\n",
    "    \"a\": [tensor(identity(N_cav), jnp.sqrt(0.15) * sigmam())],\n",
    "    \"b\": [jnp.array([2])],\n",
    "}"
   ]
  },
  {
   "cell_type": "code",
   "execution_count": 21,
   "id": "fe518b57",
   "metadata": {},
   "outputs": [],
   "source": [
    "import jax\n",
    "def prepare_parameters_from_dict(params_dict):\n",
    "    \"\"\"\n",
    "    Convert a nested dictionary of parameters to a flat list and record shapes.\n",
    "\n",
    "    Args:\n",
    "        params_dict: Nested dictionary of parameters.\n",
    "\n",
    "    Returns:\n",
    "        tuple: Flattened parameters list and list of shapes.\n",
    "    \"\"\"\n",
    "    res = []\n",
    "    shapes = []\n",
    "    for value in params_dict.values():\n",
    "        flat_params = jax.tree_util.tree_leaves(value)\n",
    "        res.append(jnp.array(flat_params))\n",
    "        shapes.append(jnp.array(flat_params).shape[0])\n",
    "    return res, shapes"
   ]
  },
  {
   "cell_type": "code",
   "execution_count": 22,
   "id": "e6a685c0",
   "metadata": {},
   "outputs": [],
   "source": [
    "res, _ = prepare_parameters_from_dict(c_ops)"
   ]
  },
  {
   "cell_type": "code",
   "execution_count": 23,
   "id": "f8680079",
   "metadata": {},
   "outputs": [
    {
     "data": {
      "text/plain": [
       "Array([[[0.        +0.j, 0.        +0.j, 0.        +0.j, ...,\n",
       "         0.        +0.j, 0.        +0.j, 0.        +0.j],\n",
       "        [0.38729833+0.j, 0.        +0.j, 0.        +0.j, ...,\n",
       "         0.        +0.j, 0.        +0.j, 0.        +0.j],\n",
       "        [0.        +0.j, 0.        +0.j, 0.        +0.j, ...,\n",
       "         0.        +0.j, 0.        +0.j, 0.        +0.j],\n",
       "        ...,\n",
       "        [0.        +0.j, 0.        +0.j, 0.        +0.j, ...,\n",
       "         0.        +0.j, 0.        +0.j, 0.        +0.j],\n",
       "        [0.        +0.j, 0.        +0.j, 0.        +0.j, ...,\n",
       "         0.        +0.j, 0.        +0.j, 0.        +0.j],\n",
       "        [0.        +0.j, 0.        +0.j, 0.        +0.j, ...,\n",
       "         0.        +0.j, 0.38729833+0.j, 0.        +0.j]]],      dtype=complex128)"
      ]
     },
     "execution_count": 23,
     "metadata": {},
     "output_type": "execute_result"
    }
   ],
   "source": [
    "res.pop(0)"
   ]
  },
  {
   "cell_type": "code",
   "execution_count": null,
   "id": "3b676015",
   "metadata": {},
   "outputs": [],
   "source": []
  }
 ],
 "metadata": {
  "kernelspec": {
   "display_name": "Python 3",
   "language": "python",
   "name": "python3"
  },
  "language_info": {
   "codemirror_mode": {
    "name": "ipython",
    "version": 3
   },
   "file_extension": ".py",
   "mimetype": "text/x-python",
   "name": "python",
   "nbconvert_exporter": "python",
   "pygments_lexer": "ipython3",
   "version": "3.11.11"
  }
 },
 "nbformat": 4,
 "nbformat_minor": 5
}

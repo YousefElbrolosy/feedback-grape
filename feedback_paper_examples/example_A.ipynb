{
 "cells": [
  {
   "cell_type": "markdown",
   "id": "c4fe2265",
   "metadata": {},
   "source": [
    "# A. State preparation with Jaynes-Cummings controls"
   ]
  },
  {
   "cell_type": "code",
   "execution_count": 1,
   "id": "dc37b46a",
   "metadata": {},
   "outputs": [
    {
     "ename": "ModuleNotFoundError",
     "evalue": "No module named 'utils'",
     "output_type": "error",
     "traceback": [
      "\u001b[31m---------------------------------------------------------------------------\u001b[39m",
      "\u001b[31mModuleNotFoundError\u001b[39m                       Traceback (most recent call last)",
      "\u001b[36mCell\u001b[39m\u001b[36m \u001b[39m\u001b[32mIn[1]\u001b[39m\u001b[32m, line 5\u001b[39m\n\u001b[32m      2\u001b[39m \u001b[38;5;28;01mimport\u001b[39;00m\u001b[38;5;250m \u001b[39m\u001b[34;01mos\u001b[39;00m\n\u001b[32m      4\u001b[39m os.sys.path.append(\u001b[33m\"\u001b[39m\u001b[33m..\u001b[39m\u001b[33m\"\u001b[39m)\n\u001b[32m----> \u001b[39m\u001b[32m5\u001b[39m \u001b[38;5;28;01mfrom\u001b[39;00m\u001b[38;5;250m \u001b[39m\u001b[34;01mfeedback_grape\u001b[39;00m\u001b[34;01m.\u001b[39;00m\u001b[34;01mfgrape\u001b[39;00m\u001b[38;5;250m \u001b[39m\u001b[38;5;28;01mimport\u001b[39;00m optimize_pulse_with_feedback\n\u001b[32m      6\u001b[39m \u001b[38;5;28;01mfrom\u001b[39;00m\u001b[38;5;250m \u001b[39m\u001b[34;01mfeedback_grape\u001b[39;00m\u001b[34;01m.\u001b[39;00m\u001b[34;01mutils\u001b[39;00m\u001b[34;01m.\u001b[39;00m\u001b[34;01moperators\u001b[39;00m\u001b[38;5;250m \u001b[39m\u001b[38;5;28;01mimport\u001b[39;00m (\n\u001b[32m      7\u001b[39m     sigmap,\n\u001b[32m      8\u001b[39m     sigmam,\n\u001b[32m   (...)\u001b[39m\u001b[32m     11\u001b[39m     identity,\n\u001b[32m     12\u001b[39m )\n\u001b[32m     13\u001b[39m \u001b[38;5;28;01mfrom\u001b[39;00m\u001b[38;5;250m \u001b[39m\u001b[34;01mfeedback_grape\u001b[39;00m\u001b[34;01m.\u001b[39;00m\u001b[34;01mutils\u001b[39;00m\u001b[34;01m.\u001b[39;00m\u001b[34;01mstates\u001b[39;00m\u001b[38;5;250m \u001b[39m\u001b[38;5;28;01mimport\u001b[39;00m basis, fock\n",
      "\u001b[36mFile \u001b[39m\u001b[32m~/Documents/dev/FeedBack-GRAPE/feedback_paper_examples/../feedback_grape/fgrape.py:4\u001b[39m\n\u001b[32m      2\u001b[39m \u001b[38;5;28;01mimport\u001b[39;00m\u001b[38;5;250m \u001b[39m\u001b[34;01mjax\u001b[39;00m\u001b[34;01m.\u001b[39;00m\u001b[34;01mnumpy\u001b[39;00m\u001b[38;5;250m \u001b[39m\u001b[38;5;28;01mas\u001b[39;00m\u001b[38;5;250m \u001b[39m\u001b[34;01mjnp\u001b[39;00m\n\u001b[32m      3\u001b[39m \u001b[38;5;28;01mfrom\u001b[39;00m\u001b[38;5;250m \u001b[39m\u001b[34;01mtyping\u001b[39;00m\u001b[38;5;250m \u001b[39m\u001b[38;5;28;01mimport\u001b[39;00m List, NamedTuple\n\u001b[32m----> \u001b[39m\u001b[32m4\u001b[39m \u001b[38;5;28;01mfrom\u001b[39;00m\u001b[38;5;250m \u001b[39m\u001b[34;01mutils\u001b[39;00m\u001b[34;01m.\u001b[39;00m\u001b[34;01msolver\u001b[39;00m\u001b[38;5;250m \u001b[39m\u001b[38;5;28;01mimport\u001b[39;00m mesolve\n\u001b[32m      5\u001b[39m \u001b[38;5;28;01mfrom\u001b[39;00m\u001b[38;5;250m \u001b[39m\u001b[34;01mutils\u001b[39;00m\u001b[34;01m.\u001b[39;00m\u001b[34;01moptimizers\u001b[39;00m\u001b[38;5;250m \u001b[39m\u001b[38;5;28;01mimport\u001b[39;00m _optimize_adam_feedback\n\u001b[32m      6\u001b[39m \u001b[38;5;28;01mfrom\u001b[39;00m\u001b[38;5;250m \u001b[39m\u001b[34;01mutils\u001b[39;00m\u001b[34;01m.\u001b[39;00m\u001b[34;01mfidelity\u001b[39;00m\u001b[38;5;250m \u001b[39m\u001b[38;5;28;01mimport\u001b[39;00m fidelity, is_positive_semi_definite\n",
      "\u001b[31mModuleNotFoundError\u001b[39m: No module named 'utils'"
     ]
    }
   ],
   "source": [
    "# ruff: noqa\n",
    "import os\n",
    "\n",
    "os.sys.path.append(\"..\")\n",
    "from feedback_grape.fgrape import optimize_pulse_with_feedback\n",
    "from feedback_grape.utils.operators import (\n",
    "    sigmap,\n",
    "    sigmam,\n",
    "    create,\n",
    "    destroy,\n",
    "    identity,\n",
    ")\n",
    "from feedback_grape.utils.states import basis, fock\n",
    "from feedback_grape.utils.tensor import tensor\n",
    "import jax.numpy as jnp\n",
    "from jax.scipy.linalg import expm"
   ]
  },
  {
   "cell_type": "markdown",
   "id": "e1718760",
   "metadata": {},
   "source": [
    "As a preliminary step, we consider state preparation\n",
    "of a target state starting from a pure state. In addition,\n",
    "we assume that any coupling to an external environment\n",
    "is negligible and that the parametrized controls can be\n",
    "implemented perfectly."
   ]
  },
  {
   "cell_type": "markdown",
   "id": "5e382943",
   "metadata": {},
   "source": [
    "Here no feedback is required, we are just testing the parameterized gates setup."
   ]
  },
  {
   "cell_type": "markdown",
   "id": "202846e6",
   "metadata": {},
   "source": [
    "As a first example, we consider the state preparation\n",
    "of a cavity resonantly coupled to an externally driven\n",
    "qubit"
   ]
  },
  {
   "cell_type": "markdown",
   "id": "ec5307dc",
   "metadata": {},
   "source": [
    "Here, we consider a particular sequence of\n",
    "parametrized unitary gates originally introduced by Law\n",
    "and Eberly"
   ]
  },
  {
   "cell_type": "code",
   "execution_count": null,
   "id": "3651226c",
   "metadata": {},
   "outputs": [],
   "source": [
    "N_cav = 30"
   ]
  },
  {
   "cell_type": "code",
   "execution_count": null,
   "id": "b236c6a5",
   "metadata": {},
   "outputs": [],
   "source": [
    "def qubit_unitary(alpha_re, alpha_im):\n",
    "    alpha = alpha_re + 1j * alpha_im\n",
    "    return tensor(\n",
    "        identity(N_cav),\n",
    "        expm(-1j * (alpha * sigmap() + alpha.conjugate() * sigmam()) / 2),\n",
    "    )"
   ]
  },
  {
   "cell_type": "code",
   "execution_count": null,
   "id": "ebb31077",
   "metadata": {},
   "outputs": [],
   "source": [
    "def qubit_cavity_unitary(beta_re):\n",
    "    beta = beta_re\n",
    "    return expm(\n",
    "        -1j\n",
    "        * (\n",
    "            beta * (tensor(destroy(N_cav), sigmap()))\n",
    "            + beta.conjugate() * (tensor(create(N_cav), sigmam()))\n",
    "        )\n",
    "        / 2\n",
    "    )"
   ]
  },
  {
   "cell_type": "code",
   "execution_count": null,
   "id": "69ffdbf4",
   "metadata": {},
   "outputs": [],
   "source": [
    "# Uq = qubit_unitary(0.1, 0.1)\n",
    "# Uqc = qubit_cavity_unitary(0.2, 0.2)\n",
    "# print(\n",
    "#     \"Uq unitary check:\",\n",
    "#     jnp.allclose(Uq.conj().T @ Uq, jnp.eye(Uq.shape[0]), atol=1e-7),\n",
    "# )\n",
    "# print(\n",
    "#     \"Uqc unitary check:\",\n",
    "#     jnp.allclose(Uqc.conj().T @ Uqc, jnp.eye(Uqc.shape[0]), atol=1e-7),\n",
    "# )"
   ]
  },
  {
   "cell_type": "code",
   "execution_count": null,
   "id": "883df30f",
   "metadata": {},
   "outputs": [],
   "source": [
    "# qubit_unitary(0.1, 0.1).shape"
   ]
  },
  {
   "cell_type": "code",
   "execution_count": null,
   "id": "b8591e5c",
   "metadata": {},
   "outputs": [],
   "source": [
    "# qubit_unitary(0.1, 0.1)"
   ]
  },
  {
   "cell_type": "markdown",
   "id": "8b05cd63",
   "metadata": {},
   "source": [
    "In their groundbreaking work, Law and Eberly have\n",
    "shown that any arbitrary superposition of Fock states with\n",
    "maximal excitation number N can be prepared out of the\n",
    "ground state in a sequence of N such interleaved gates,\n",
    "also providing an algorithm to find the correct angles and\n",
    "interaction durations"
   ]
  },
  {
   "cell_type": "code",
   "execution_count": null,
   "id": "c4020a7e",
   "metadata": {},
   "outputs": [],
   "source": [
    "# print(qubit_cavity_unitary(0.1, 0.1).shape)"
   ]
  },
  {
   "cell_type": "code",
   "execution_count": null,
   "id": "172cff3e",
   "metadata": {},
   "outputs": [],
   "source": [
    "# qubit_cavity_unitary(0.1, 0.1)"
   ]
  },
  {
   "cell_type": "markdown",
   "id": "d1a6f411",
   "metadata": {},
   "source": [
    "## First target is the state $ | 1 ⟩ + | 3 ⟩ $ "
   ]
  },
  {
   "cell_type": "code",
   "execution_count": null,
   "id": "45069deb",
   "metadata": {},
   "outputs": [],
   "source": [
    "# TODO: Why if time steps are less than 5 then it plateus at 0.5\n",
    "time_steps = 5  # corressponds to maximal excitation number of an arbitrary Fock State Superposition"
   ]
  },
  {
   "cell_type": "code",
   "execution_count": null,
   "id": "e5746831",
   "metadata": {},
   "outputs": [],
   "source": [
    "psi0 = tensor(basis(N_cav), basis(2))\n",
    "psi0 = psi0 / jnp.linalg.norm(psi0)\n",
    "psi_target = tensor((fock(N_cav, 1) + fock(N_cav, 3)) / jnp.sqrt(2), basis(2))\n",
    "psi_target = psi_target / jnp.linalg.norm(psi_target)"
   ]
  },
  {
   "cell_type": "code",
   "execution_count": null,
   "id": "860c7a66",
   "metadata": {},
   "outputs": [
    {
     "data": {
      "text/plain": [
       "(60, 1)"
      ]
     },
     "execution_count": 60,
     "metadata": {},
     "output_type": "execute_result"
    }
   ],
   "source": [
    "psi0.shape"
   ]
  },
  {
   "cell_type": "code",
   "execution_count": null,
   "id": "c3fbbd04",
   "metadata": {},
   "outputs": [
    {
     "data": {
      "text/plain": [
       "(60, 1)"
      ]
     },
     "execution_count": 61,
     "metadata": {},
     "output_type": "execute_result"
    }
   ],
   "source": [
    "psi_target.shape"
   ]
  },
  {
   "cell_type": "code",
   "execution_count": null,
   "id": "2e2e8ef3",
   "metadata": {},
   "outputs": [
    {
     "name": "stdout",
     "output_type": "stream",
     "text": [
      "[[0.+0.j]\n",
      " [1.+0.j]\n",
      " [0.+0.j]\n",
      " [0.+0.j]\n",
      " [0.+0.j]\n",
      " [0.+0.j]\n",
      " [0.+0.j]\n",
      " [0.+0.j]\n",
      " [0.+0.j]\n",
      " [0.+0.j]\n",
      " [0.+0.j]\n",
      " [0.+0.j]\n",
      " [0.+0.j]\n",
      " [0.+0.j]\n",
      " [0.+0.j]\n",
      " [0.+0.j]\n",
      " [0.+0.j]\n",
      " [0.+0.j]\n",
      " [0.+0.j]\n",
      " [0.+0.j]\n",
      " [0.+0.j]\n",
      " [0.+0.j]\n",
      " [0.+0.j]\n",
      " [0.+0.j]\n",
      " [0.+0.j]\n",
      " [0.+0.j]\n",
      " [0.+0.j]\n",
      " [0.+0.j]\n",
      " [0.+0.j]\n",
      " [0.+0.j]]\n"
     ]
    }
   ],
   "source": [
    "print(fock(N_cav, 1))"
   ]
  },
  {
   "cell_type": "markdown",
   "id": "104ff5f6",
   "metadata": {},
   "source": [
    "Law and Eberly provided an algorithm to determine the correct parameters for state preparation. These include:\n",
    "\n",
    "- The rotation angle $ |\\alpha| $,\n",
    "- The azimuthal angle $ \\arg\\left(\\frac{\\alpha}{|\\alpha|}\\right) $,\n",
    "- The interaction duration $ |\\beta| $. <br>\n",
    "\n",
    "So Goal is to find the best control vector (rather than control amplitudes, this time) that leads to finding the optimal state-preparation strategies. Performing as well as the Law-Eberly algorithm."
   ]
  },
  {
   "cell_type": "code",
   "execution_count": null,
   "id": "042f12c3",
   "metadata": {},
   "outputs": [],
   "source": [
    "# Answer: see why if initial [paramaters are complex, adam fidelity is so bad and l-bfgs does error]\n",
    "# --> they only train real parameters, so we need to split the complex parameters into real and imaginary parts"
   ]
  },
  {
   "cell_type": "markdown",
   "id": "06364239",
   "metadata": {},
   "source": [
    "## Optimizing\n",
    "Currently l-bfgs with the same learning rate of 0.3 converges at a local minimum of 0.5, adam also converges at 0.5 but at smaller learning rates"
   ]
  },
  {
   "cell_type": "code",
   "execution_count": null,
   "id": "90de4b86",
   "metadata": {},
   "outputs": [
    {
     "name": "stdout",
     "output_type": "stream",
     "text": [
      "Iteration 0, Loss: -0.143059\n",
      "Iteration 10, Loss: -0.324662\n",
      "Iteration 20, Loss: -0.482136\n",
      "Iteration 30, Loss: -0.583045\n",
      "Iteration 40, Loss: -0.631174\n",
      "Iteration 50, Loss: -0.654056\n",
      "Iteration 60, Loss: -0.672719\n",
      "Iteration 70, Loss: -0.685403\n",
      "Iteration 80, Loss: -0.692890\n",
      "Iteration 90, Loss: -0.698045\n",
      "Iteration 100, Loss: -0.701554\n",
      "Iteration 110, Loss: -0.703945\n",
      "Iteration 120, Loss: -0.705716\n",
      "Iteration 130, Loss: -0.706916\n",
      "Iteration 140, Loss: -0.707906\n",
      "Iteration 150, Loss: -0.708878\n",
      "Iteration 160, Loss: -0.709865\n",
      "Iteration 170, Loss: -0.710815\n",
      "Iteration 180, Loss: -0.711790\n",
      "Iteration 190, Loss: -0.712906\n",
      "Iteration 200, Loss: -0.714382\n",
      "Iteration 210, Loss: -0.716144\n",
      "Iteration 220, Loss: -0.718533\n",
      "Iteration 230, Loss: -0.721827\n",
      "Iteration 240, Loss: -0.727115\n",
      "Iteration 250, Loss: -0.737736\n",
      "Iteration 260, Loss: -0.759792\n",
      "Iteration 270, Loss: -0.797262\n",
      "Iteration 280, Loss: -0.833381\n",
      "Iteration 290, Loss: -0.846673\n",
      "Iteration 300, Loss: -0.860648\n",
      "Iteration 310, Loss: -0.876126\n",
      "Iteration 320, Loss: -0.885528\n",
      "Iteration 330, Loss: -0.898083\n",
      "Iteration 340, Loss: -0.914730\n",
      "Iteration 350, Loss: -0.936744\n",
      "Iteration 360, Loss: -0.956979\n",
      "Iteration 370, Loss: -0.974613\n",
      "Iteration 380, Loss: -0.987312\n",
      "Iteration 390, Loss: -0.995261\n",
      "Iteration 400, Loss: -0.998633\n",
      "Iteration 410, Loss: -0.999669\n",
      "Iteration 420, Loss: -0.999962\n",
      "Iteration 430, Loss: -0.999998\n",
      "Iteration 440, Loss: -0.999994\n",
      "Iteration 450, Loss: -0.999997\n",
      "Iteration 460, Loss: -0.999998\n",
      "Iteration 470, Loss: -1.000000\n",
      "Iteration 480, Loss: -1.000000\n",
      "Iteration 490, Loss: -1.000000\n",
      "Iteration 500, Loss: -1.000000\n",
      "Iteration 510, Loss: -1.000000\n",
      "Iteration 520, Loss: -1.000000\n",
      "Iteration 530, Loss: -1.000000\n",
      "Iteration 540, Loss: -1.000000\n",
      "Iteration 550, Loss: -1.000000\n",
      "Iteration 560, Loss: -1.000000\n",
      "Iteration 570, Loss: -1.000000\n",
      "Iteration 580, Loss: -1.000000\n",
      "Iteration 590, Loss: -1.000000\n",
      "Iteration 600, Loss: -1.000000\n",
      "Iteration 610, Loss: -1.000000\n",
      "Iteration 620, Loss: -1.000000\n"
     ]
    }
   ],
   "source": [
    "from feedback_grape.utils.fidelity import ket2dm\n",
    "import jax\n",
    "\n",
    "key = jax.random.PRNGKey(42)\n",
    "# not provideing param_constraints just propagates the same initial_parameters for each time step\n",
    "qub_unitary = {\n",
    "    \"gate\": qubit_unitary,\n",
    "    \"initial_params\": jax.random.uniform(\n",
    "        key,\n",
    "        shape=(1, 2),  # 2 for gamma and delta\n",
    "        minval=-jnp.pi,\n",
    "        maxval=jnp.pi,\n",
    "    )[0].tolist(),\n",
    "    \"measurement_flag\": False,\n",
    "    \"param_constraints\": [\n",
    "        [-2 * jnp.pi, 2 * jnp.pi],\n",
    "        [-2 * jnp.pi, 2 * jnp.pi],\n",
    "    ],\n",
    "}\n",
    "\n",
    "qub_cav = {\n",
    "    \"gate\": qubit_cavity_unitary,\n",
    "    \"initial_params\": jax.random.uniform(\n",
    "        key,\n",
    "        shape=(1, 1),  # 2 for gamma and delta\n",
    "        minval=-jnp.pi,\n",
    "        maxval=jnp.pi,\n",
    "    )[0].tolist(),\n",
    "    \"measurement_flag\": False,\n",
    "    \"param_constraints\": [[-2 * jnp.pi, 2 * jnp.pi]],\n",
    "}\n",
    "\n",
    "system_params = [qub_unitary, qub_cav]\n",
    "\n",
    "\n",
    "result = optimize_pulse_with_feedback(\n",
    "    U_0=ket2dm(psi0),\n",
    "    C_target=ket2dm(psi_target),\n",
    "    system_params=system_params,\n",
    "    num_time_steps=time_steps,\n",
    "    max_iter=1000,\n",
    "    convergence_threshold=1e-16,\n",
    "    type=\"density\",\n",
    "    mode=\"no-measurement\",\n",
    "    # decay={\n",
    "    #     \"decay_indices\": [0],  # indices of gates before which decay occurs\n",
    "    #     # c_ops need to be tensored with the identity operator for the cavity\n",
    "    #     # because it is used directly in the lindblad equation\n",
    "    #     \"c_ops\": {\n",
    "    #         # weird behavior when gamma is 0.00\n",
    "    #         \"tm\": [tensor(identity(N_cav), jnp.sqrt(0.15) * sigmam())],\n",
    "    #         # \"tc\": [tensor(identity(N_cav), jnp.sqrt(0.15) * sigmap())],\n",
    "    #     },  # c_ops for each decay index\n",
    "    #     \"tsave\": jnp.linspace(0, 1, 2),  # time grid for decay\n",
    "    #     \"Hamiltonian\": None,\n",
    "    # },\n",
    "    goal=\"fidelity\",\n",
    "    learning_rate=0.02,\n",
    "    batch_size=10,\n",
    "    eval_batch_size=2,\n",
    ")"
   ]
  },
  {
   "cell_type": "code",
   "execution_count": null,
   "id": "d863b079",
   "metadata": {},
   "outputs": [
    {
     "data": {
      "text/plain": [
       "5"
      ]
     },
     "execution_count": 65,
     "metadata": {},
     "output_type": "execute_result"
    }
   ],
   "source": [
    "len(result.returned_params)"
   ]
  },
  {
   "cell_type": "code",
   "execution_count": null,
   "id": "9bc1407d",
   "metadata": {},
   "outputs": [
    {
     "data": {
      "text/plain": [
       "[[Array([[ 0.87397271, -6.22210517],\n",
       "         [ 0.87397271, -6.22210517]], dtype=float64),\n",
       "  Array([[-3.56962496],\n",
       "         [-3.56962496]], dtype=float64)],\n",
       " [Array([[-4.15643271e-07,  3.14159260e+00],\n",
       "         [-4.15643271e-07,  3.14159260e+00]], dtype=float64),\n",
       "  Array([[2.77362709],\n",
       "         [2.77362709]], dtype=float64)],\n",
       " [Array([[3.14159259e+00, 9.12424551e-08],\n",
       "         [3.14159259e+00, 9.12424551e-08]], dtype=float64),\n",
       "  Array([[-1.50698692],\n",
       "         [-1.50698692]], dtype=float64)],\n",
       " [Array([[1.52230563, 6.09598281],\n",
       "         [1.52230563, 6.09598281]], dtype=float64),\n",
       "  Array([[2.54470129],\n",
       "         [2.54470129]], dtype=float64)],\n",
       " [Array([[ 5.97007551e-08, -3.14159295e+00],\n",
       "         [ 5.97007551e-08, -3.14159295e+00]], dtype=float64),\n",
       "  Array([[3.1415927],\n",
       "         [3.1415927]], dtype=float64)]]"
      ]
     },
     "execution_count": 66,
     "metadata": {},
     "output_type": "execute_result"
    }
   ],
   "source": [
    "# here makes sense for each batch size we have a different set of parameters since there are no measurements and therefore no stochasticisty or randomness\n",
    "result.returned_params"
   ]
  },
  {
   "cell_type": "code",
   "execution_count": null,
   "id": "8f01a9d9",
   "metadata": {},
   "outputs": [
    {
     "name": "stdout",
     "output_type": "stream",
     "text": [
      "[[[8.27609081e-17+9.26963224e-31j 9.94359997e-17+4.11032234e-16j\n",
      "   4.82353389e-09+4.25605186e-09j ... 0.00000000e+00+0.00000000e+00j\n",
      "   0.00000000e+00+0.00000000e+00j 0.00000000e+00+0.00000000e+00j]\n",
      "  [9.94360042e-17-4.11032235e-16j 2.17506612e-15+3.30872248e-24j\n",
      "   2.69330960e-08-1.88425082e-08j ... 0.00000000e+00+0.00000000e+00j\n",
      "   0.00000000e+00+0.00000000e+00j 0.00000000e+00+0.00000000e+00j]\n",
      "  [4.82353389e-09-4.25605186e-09j 2.69330960e-08+1.88425082e-08j\n",
      "   5.00000032e-01-1.48892510e-23j ... 0.00000000e+00+0.00000000e+00j\n",
      "   0.00000000e+00+0.00000000e+00j 0.00000000e+00+0.00000000e+00j]\n",
      "  ...\n",
      "  [0.00000000e+00+0.00000000e+00j 0.00000000e+00+0.00000000e+00j\n",
      "   0.00000000e+00+0.00000000e+00j ... 0.00000000e+00+0.00000000e+00j\n",
      "   0.00000000e+00+0.00000000e+00j 0.00000000e+00+0.00000000e+00j]\n",
      "  [0.00000000e+00+0.00000000e+00j 0.00000000e+00+0.00000000e+00j\n",
      "   0.00000000e+00+0.00000000e+00j ... 0.00000000e+00+0.00000000e+00j\n",
      "   0.00000000e+00+0.00000000e+00j 0.00000000e+00+0.00000000e+00j]\n",
      "  [0.00000000e+00+0.00000000e+00j 0.00000000e+00+0.00000000e+00j\n",
      "   0.00000000e+00+0.00000000e+00j ... 0.00000000e+00+0.00000000e+00j\n",
      "   0.00000000e+00+0.00000000e+00j 0.00000000e+00+0.00000000e+00j]]\n",
      "\n",
      " [[8.27609081e-17+9.26963224e-31j 9.94359997e-17+4.11032234e-16j\n",
      "   4.82353389e-09+4.25605186e-09j ... 0.00000000e+00+0.00000000e+00j\n",
      "   0.00000000e+00+0.00000000e+00j 0.00000000e+00+0.00000000e+00j]\n",
      "  [9.94360042e-17-4.11032235e-16j 2.17506612e-15+3.30872248e-24j\n",
      "   2.69330960e-08-1.88425082e-08j ... 0.00000000e+00+0.00000000e+00j\n",
      "   0.00000000e+00+0.00000000e+00j 0.00000000e+00+0.00000000e+00j]\n",
      "  [4.82353389e-09-4.25605186e-09j 2.69330960e-08+1.88425082e-08j\n",
      "   5.00000032e-01-1.48892510e-23j ... 0.00000000e+00+0.00000000e+00j\n",
      "   0.00000000e+00+0.00000000e+00j 0.00000000e+00+0.00000000e+00j]\n",
      "  ...\n",
      "  [0.00000000e+00+0.00000000e+00j 0.00000000e+00+0.00000000e+00j\n",
      "   0.00000000e+00+0.00000000e+00j ... 0.00000000e+00+0.00000000e+00j\n",
      "   0.00000000e+00+0.00000000e+00j 0.00000000e+00+0.00000000e+00j]\n",
      "  [0.00000000e+00+0.00000000e+00j 0.00000000e+00+0.00000000e+00j\n",
      "   0.00000000e+00+0.00000000e+00j ... 0.00000000e+00+0.00000000e+00j\n",
      "   0.00000000e+00+0.00000000e+00j 0.00000000e+00+0.00000000e+00j]\n",
      "  [0.00000000e+00+0.00000000e+00j 0.00000000e+00+0.00000000e+00j\n",
      "   0.00000000e+00+0.00000000e+00j ... 0.00000000e+00+0.00000000e+00j\n",
      "   0.00000000e+00+0.00000000e+00j 0.00000000e+00+0.00000000e+00j]]]\n"
     ]
    }
   ],
   "source": [
    "print(result.final_state)"
   ]
  },
  {
   "cell_type": "code",
   "execution_count": null,
   "id": "2107f9e7",
   "metadata": {},
   "outputs": [
    {
     "name": "stdout",
     "output_type": "stream",
     "text": [
      "FgResult(optimized_trainable_parameters=[[Array([ 0.87397271, -6.22210517], dtype=float64), Array([-3.56962496], dtype=float64)], [Array([-4.15643271e-07,  3.14159260e+00], dtype=float64), Array([2.77362709], dtype=float64)], [Array([3.14159259e+00, 9.12424551e-08], dtype=float64), Array([-1.50698692], dtype=float64)], [Array([1.52230563, 6.09598281], dtype=float64), Array([2.54470129], dtype=float64)], [Array([ 5.97007551e-08, -3.14159295e+00], dtype=float64), Array([3.1415927], dtype=float64)]], iterations=627, final_state=Array([[[8.27609081e-17+9.26963224e-31j, 9.94359997e-17+4.11032234e-16j,\n",
      "         4.82353389e-09+4.25605186e-09j, ...,\n",
      "         0.00000000e+00+0.00000000e+00j, 0.00000000e+00+0.00000000e+00j,\n",
      "         0.00000000e+00+0.00000000e+00j],\n",
      "        [9.94360042e-17-4.11032235e-16j, 2.17506612e-15+3.30872248e-24j,\n",
      "         2.69330960e-08-1.88425082e-08j, ...,\n",
      "         0.00000000e+00+0.00000000e+00j, 0.00000000e+00+0.00000000e+00j,\n",
      "         0.00000000e+00+0.00000000e+00j],\n",
      "        [4.82353389e-09-4.25605186e-09j, 2.69330960e-08+1.88425082e-08j,\n",
      "         5.00000032e-01-1.48892510e-23j, ...,\n",
      "         0.00000000e+00+0.00000000e+00j, 0.00000000e+00+0.00000000e+00j,\n",
      "         0.00000000e+00+0.00000000e+00j],\n",
      "        ...,\n",
      "        [0.00000000e+00+0.00000000e+00j, 0.00000000e+00+0.00000000e+00j,\n",
      "         0.00000000e+00+0.00000000e+00j, ...,\n",
      "         0.00000000e+00+0.00000000e+00j, 0.00000000e+00+0.00000000e+00j,\n",
      "         0.00000000e+00+0.00000000e+00j],\n",
      "        [0.00000000e+00+0.00000000e+00j, 0.00000000e+00+0.00000000e+00j,\n",
      "         0.00000000e+00+0.00000000e+00j, ...,\n",
      "         0.00000000e+00+0.00000000e+00j, 0.00000000e+00+0.00000000e+00j,\n",
      "         0.00000000e+00+0.00000000e+00j],\n",
      "        [0.00000000e+00+0.00000000e+00j, 0.00000000e+00+0.00000000e+00j,\n",
      "         0.00000000e+00+0.00000000e+00j, ...,\n",
      "         0.00000000e+00+0.00000000e+00j, 0.00000000e+00+0.00000000e+00j,\n",
      "         0.00000000e+00+0.00000000e+00j]],\n",
      "\n",
      "       [[8.27609081e-17+9.26963224e-31j, 9.94359997e-17+4.11032234e-16j,\n",
      "         4.82353389e-09+4.25605186e-09j, ...,\n",
      "         0.00000000e+00+0.00000000e+00j, 0.00000000e+00+0.00000000e+00j,\n",
      "         0.00000000e+00+0.00000000e+00j],\n",
      "        [9.94360042e-17-4.11032235e-16j, 2.17506612e-15+3.30872248e-24j,\n",
      "         2.69330960e-08-1.88425082e-08j, ...,\n",
      "         0.00000000e+00+0.00000000e+00j, 0.00000000e+00+0.00000000e+00j,\n",
      "         0.00000000e+00+0.00000000e+00j],\n",
      "        [4.82353389e-09-4.25605186e-09j, 2.69330960e-08+1.88425082e-08j,\n",
      "         5.00000032e-01-1.48892510e-23j, ...,\n",
      "         0.00000000e+00+0.00000000e+00j, 0.00000000e+00+0.00000000e+00j,\n",
      "         0.00000000e+00+0.00000000e+00j],\n",
      "        ...,\n",
      "        [0.00000000e+00+0.00000000e+00j, 0.00000000e+00+0.00000000e+00j,\n",
      "         0.00000000e+00+0.00000000e+00j, ...,\n",
      "         0.00000000e+00+0.00000000e+00j, 0.00000000e+00+0.00000000e+00j,\n",
      "         0.00000000e+00+0.00000000e+00j],\n",
      "        [0.00000000e+00+0.00000000e+00j, 0.00000000e+00+0.00000000e+00j,\n",
      "         0.00000000e+00+0.00000000e+00j, ...,\n",
      "         0.00000000e+00+0.00000000e+00j, 0.00000000e+00+0.00000000e+00j,\n",
      "         0.00000000e+00+0.00000000e+00j],\n",
      "        [0.00000000e+00+0.00000000e+00j, 0.00000000e+00+0.00000000e+00j,\n",
      "         0.00000000e+00+0.00000000e+00j, ...,\n",
      "         0.00000000e+00+0.00000000e+00j, 0.00000000e+00+0.00000000e+00j,\n",
      "         0.00000000e+00+0.00000000e+00j]]], dtype=complex128), returned_params=[[Array([[ 0.87397271, -6.22210517],\n",
      "       [ 0.87397271, -6.22210517]], dtype=float64), Array([[-3.56962496],\n",
      "       [-3.56962496]], dtype=float64)], [Array([[-4.15643271e-07,  3.14159260e+00],\n",
      "       [-4.15643271e-07,  3.14159260e+00]], dtype=float64), Array([[2.77362709],\n",
      "       [2.77362709]], dtype=float64)], [Array([[3.14159259e+00, 9.12424551e-08],\n",
      "       [3.14159259e+00, 9.12424551e-08]], dtype=float64), Array([[-1.50698692],\n",
      "       [-1.50698692]], dtype=float64)], [Array([[1.52230563, 6.09598281],\n",
      "       [1.52230563, 6.09598281]], dtype=float64), Array([[2.54470129],\n",
      "       [2.54470129]], dtype=float64)], [Array([[ 5.97007551e-08, -3.14159295e+00],\n",
      "       [ 5.97007551e-08, -3.14159295e+00]], dtype=float64), Array([[3.1415927],\n",
      "       [3.1415927]], dtype=float64)]], final_purity=None, final_fidelity=Array(1., dtype=float64))\n"
     ]
    }
   ],
   "source": [
    "print(result)"
   ]
  },
  {
   "cell_type": "code",
   "execution_count": null,
   "id": "f9f60940",
   "metadata": {},
   "outputs": [
    {
     "data": {
      "text/plain": [
       "Array(1., dtype=float64)"
      ]
     },
     "execution_count": 69,
     "metadata": {},
     "output_type": "execute_result"
    }
   ],
   "source": [
    "result.final_fidelity"
   ]
  },
  {
   "cell_type": "code",
   "execution_count": null,
   "id": "fab24025",
   "metadata": {},
   "outputs": [],
   "source": [
    "from feedback_grape.utils.fgrape_helpers import prepare_parameters_from_dict\n",
    "\n",
    "\n",
    "def get_trainable_parameters(\n",
    "    initial_parameters, param_constraints, num_time_steps, rng_key\n",
    "):\n",
    "    trainable_params = []\n",
    "    flat_params, _ = prepare_parameters_from_dict(initial_parameters)\n",
    "    trainable_params.append(flat_params)\n",
    "    for i in range(num_time_steps - 1):\n",
    "        gate_params_list = []\n",
    "        if param_constraints != []:\n",
    "            for gate_params, gate_constraints in zip(\n",
    "                flat_params, param_constraints\n",
    "            ):\n",
    "                sampled_params = []\n",
    "                for var_bounds in gate_constraints:\n",
    "                    rng_key, subkey = jax.random.split(rng_key)\n",
    "                    var = jax.random.uniform(\n",
    "                        subkey,\n",
    "                        shape=(),\n",
    "                        minval=var_bounds[0],\n",
    "                        maxval=var_bounds[1],\n",
    "                    )\n",
    "                    sampled_params.append(var)\n",
    "                gate_params_list.append(jnp.array(sampled_params))\n",
    "        else:\n",
    "            for gate_params in flat_params:\n",
    "                sampled_params = []\n",
    "                for _ in range(gate_params.shape[0]):\n",
    "                    rng_key, subkey = jax.random.split(rng_key)\n",
    "                    var = jax.random.uniform(\n",
    "                        subkey,\n",
    "                        shape=(),\n",
    "                        minval=-jnp.pi,\n",
    "                        maxval=jnp.pi,\n",
    "                    )\n",
    "                    sampled_params.append(var)\n",
    "                gate_params_list.append(jnp.array(sampled_params))\n",
    "        trainable_params.append(gate_params_list)\n",
    "\n",
    "    return trainable_params"
   ]
  },
  {
   "cell_type": "code",
   "execution_count": null,
   "id": "624fd336",
   "metadata": {},
   "outputs": [],
   "source": [
    "initial_params = {\n",
    "    \"qubit_unitary\": [0.1, 0.1],\n",
    "    \"qubit_cavity_unitary\": [0.2, 0.2],\n",
    "}\n",
    "# param_constraints = [[[0, 0.5], [0.5, 1.0]], [[1.0, 1.5], [1.5, 2.0]]]\n",
    "param_constraints = []\n",
    "num_time_steps = 3\n",
    "key_1 = jax.random.PRNGKey(42)\n",
    "\n",
    "\n",
    "trainable_params = get_trainable_parameters(\n",
    "    initial_params, param_constraints, num_time_steps, key_1\n",
    ")"
   ]
  },
  {
   "cell_type": "code",
   "execution_count": null,
   "id": "0233b919",
   "metadata": {},
   "outputs": [
    {
     "name": "stdout",
     "output_type": "stream",
     "text": [
      "[[Array([0.1, 0.1], dtype=float64), Array([0.2, 0.2], dtype=float64)],\n",
      " [Array([1.52127861, 0.99764266], dtype=float64),\n",
      "  Array([1.17781588, 2.76860586], dtype=float64)],\n",
      " [Array([-0.05248534,  0.79283613], dtype=float64),\n",
      "  Array([-1.34523035,  2.7576985 ], dtype=float64)]]\n"
     ]
    }
   ],
   "source": [
    "from pprint import pprint\n",
    "\n",
    "pprint(trainable_params)"
   ]
  },
  {
   "cell_type": "code",
   "execution_count": null,
   "id": "70f9cf86",
   "metadata": {},
   "outputs": [],
   "source": []
  }
 ],
 "metadata": {
  "kernelspec": {
   "display_name": "Python 3",
   "language": "python",
   "name": "python3"
  },
  "language_info": {
   "codemirror_mode": {
    "name": "ipython",
    "version": 3
   },
   "file_extension": ".py",
   "mimetype": "text/x-python",
   "name": "python",
   "nbconvert_exporter": "python",
   "pygments_lexer": "ipython3",
   "version": "3.11.11"
  }
 },
 "nbformat": 4,
 "nbformat_minor": 5
}

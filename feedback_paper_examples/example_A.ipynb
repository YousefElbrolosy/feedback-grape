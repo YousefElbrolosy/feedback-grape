{
 "cells": [
  {
   "cell_type": "markdown",
   "id": "c4fe2265",
   "metadata": {},
   "source": [
    "# A. State preparation with Jaynes-Cummings controls"
   ]
  },
  {
   "cell_type": "code",
   "execution_count": 1,
   "id": "dc37b46a",
   "metadata": {},
   "outputs": [],
   "source": [
    "# ruff: noqa\n",
    "import os\n",
    "\n",
    "os.sys.path.append(\"..\")\n",
    "from feedback_grape.fgrape import optimize_pulse_with_feedback\n",
    "from feedback_grape.utils.operators import (\n",
    "    sigmap,\n",
    "    sigmam,\n",
    "    create,\n",
    "    destroy,\n",
    "    identity,\n",
    ")\n",
    "from feedback_grape.utils.states import basis, fock\n",
    "from feedback_grape.utils.tensor import tensor\n",
    "import jax.numpy as jnp\n",
    "from jax.scipy.linalg import expm"
   ]
  },
  {
   "cell_type": "markdown",
   "id": "e1718760",
   "metadata": {},
   "source": [
    "As a preliminary step, we consider state preparation\n",
    "of a target state starting from a pure state. In addition,\n",
    "we assume that any coupling to an external environment\n",
    "is negligible and that the parametrized controls can be\n",
    "implemented perfectly."
   ]
  },
  {
   "cell_type": "markdown",
   "id": "5e382943",
   "metadata": {},
   "source": [
    "Here no feedback is required, we are just testing the parameterized gates setup."
   ]
  },
  {
   "cell_type": "markdown",
   "id": "202846e6",
   "metadata": {},
   "source": [
    "As a first example, we consider the state preparation\n",
    "of a cavity resonantly coupled to an externally driven\n",
    "qubit"
   ]
  },
  {
   "cell_type": "markdown",
   "id": "ec5307dc",
   "metadata": {},
   "source": [
    "Here, we consider a particular sequence of\n",
    "parametrized unitary gates originally introduced by Law\n",
    "and Eberly"
   ]
  },
  {
   "cell_type": "code",
   "execution_count": 2,
   "id": "3651226c",
   "metadata": {},
   "outputs": [],
   "source": [
    "N_cav = 30"
   ]
  },
  {
   "cell_type": "code",
   "execution_count": 3,
   "id": "b236c6a5",
   "metadata": {},
   "outputs": [],
   "source": [
    "def qubit_unitary(alpha_re, alpha_im):\n",
    "    alpha = alpha_re + 1j * alpha_im\n",
    "    return tensor(\n",
    "        identity(N_cav),\n",
    "        expm(-1j * (alpha * sigmap() + alpha.conjugate() * sigmam()) / 2),\n",
    "    )"
   ]
  },
  {
   "cell_type": "code",
   "execution_count": 4,
   "id": "ebb31077",
   "metadata": {},
   "outputs": [],
   "source": [
    "def qubit_cavity_unitary(beta_re, beta_im):\n",
    "    beta = beta_re + 1j * beta_im\n",
    "    return expm(\n",
    "        -1j\n",
    "        * (\n",
    "            beta * (tensor(destroy(N_cav), sigmap()))\n",
    "            + beta.conjugate() * (tensor(create(N_cav), sigmam()))\n",
    "        )\n",
    "        / 2\n",
    "    )"
   ]
  },
  {
   "cell_type": "code",
   "execution_count": 5,
   "id": "69ffdbf4",
   "metadata": {},
   "outputs": [],
   "source": [
    "# Uq = qubit_unitary(0.1, 0.1)\n",
    "# Uqc = qubit_cavity_unitary(0.2, 0.2)\n",
    "# print(\n",
    "#     \"Uq unitary check:\",\n",
    "#     jnp.allclose(Uq.conj().T @ Uq, jnp.eye(Uq.shape[0]), atol=1e-7),\n",
    "# )\n",
    "# print(\n",
    "#     \"Uqc unitary check:\",\n",
    "#     jnp.allclose(Uqc.conj().T @ Uqc, jnp.eye(Uqc.shape[0]), atol=1e-7),\n",
    "# )"
   ]
  },
  {
   "cell_type": "code",
   "execution_count": 6,
   "id": "883df30f",
   "metadata": {},
   "outputs": [],
   "source": [
    "# qubit_unitary(0.1, 0.1).shape"
   ]
  },
  {
   "cell_type": "code",
   "execution_count": 7,
   "id": "b8591e5c",
   "metadata": {},
   "outputs": [],
   "source": [
    "# qubit_unitary(0.1, 0.1)"
   ]
  },
  {
   "cell_type": "markdown",
   "id": "8b05cd63",
   "metadata": {},
   "source": [
    "In their groundbreaking work, Law and Eberly have\n",
    "shown that any arbitrary superposition of Fock states with\n",
    "maximal excitation number N can be prepared out of the\n",
    "ground state in a sequence of N such interleaved gates,\n",
    "also providing an algorithm to find the correct angles and\n",
    "interaction durations"
   ]
  },
  {
   "cell_type": "code",
   "execution_count": 8,
   "id": "c4020a7e",
   "metadata": {},
   "outputs": [],
   "source": [
    "# print(qubit_cavity_unitary(0.1, 0.1).shape)"
   ]
  },
  {
   "cell_type": "code",
   "execution_count": 9,
   "id": "172cff3e",
   "metadata": {},
   "outputs": [],
   "source": [
    "# qubit_cavity_unitary(0.1, 0.1)"
   ]
  },
  {
   "cell_type": "markdown",
   "id": "d1a6f411",
   "metadata": {},
   "source": [
    "## First target is the state $ | 1 ⟩ + | 3 ⟩ $ "
   ]
  },
  {
   "cell_type": "code",
   "execution_count": 10,
   "id": "45069deb",
   "metadata": {},
   "outputs": [],
   "source": [
    "# TODO: Why if time steps are less than 5 then it plateus at 0.5\n",
    "time_steps = 5  # corressponds to maximal excitation number of an arbitrary Fock State Superposition"
   ]
  },
  {
   "cell_type": "code",
   "execution_count": 11,
   "id": "e5746831",
   "metadata": {},
   "outputs": [],
   "source": [
    "psi0 = tensor(basis(N_cav), basis(2))\n",
    "psi0 = psi0 / jnp.linalg.norm(psi0)\n",
    "psi_target = tensor((fock(N_cav, 1) + fock(N_cav, 3)) / jnp.sqrt(2), basis(2))\n",
    "psi_target = psi_target / jnp.linalg.norm(psi_target)"
   ]
  },
  {
   "cell_type": "code",
   "execution_count": 12,
   "id": "860c7a66",
   "metadata": {},
   "outputs": [
    {
     "data": {
      "text/plain": [
       "(60, 1)"
      ]
     },
     "execution_count": 12,
     "metadata": {},
     "output_type": "execute_result"
    }
   ],
   "source": [
    "psi0.shape"
   ]
  },
  {
   "cell_type": "code",
   "execution_count": 13,
   "id": "c3fbbd04",
   "metadata": {},
   "outputs": [
    {
     "data": {
      "text/plain": [
       "(60, 1)"
      ]
     },
     "execution_count": 13,
     "metadata": {},
     "output_type": "execute_result"
    }
   ],
   "source": [
    "psi_target.shape"
   ]
  },
  {
   "cell_type": "code",
   "execution_count": 14,
   "id": "2e2e8ef3",
   "metadata": {},
   "outputs": [
    {
     "name": "stdout",
     "output_type": "stream",
     "text": [
      "[[0.+0.j]\n",
      " [1.+0.j]\n",
      " [0.+0.j]\n",
      " [0.+0.j]\n",
      " [0.+0.j]\n",
      " [0.+0.j]\n",
      " [0.+0.j]\n",
      " [0.+0.j]\n",
      " [0.+0.j]\n",
      " [0.+0.j]\n",
      " [0.+0.j]\n",
      " [0.+0.j]\n",
      " [0.+0.j]\n",
      " [0.+0.j]\n",
      " [0.+0.j]\n",
      " [0.+0.j]\n",
      " [0.+0.j]\n",
      " [0.+0.j]\n",
      " [0.+0.j]\n",
      " [0.+0.j]\n",
      " [0.+0.j]\n",
      " [0.+0.j]\n",
      " [0.+0.j]\n",
      " [0.+0.j]\n",
      " [0.+0.j]\n",
      " [0.+0.j]\n",
      " [0.+0.j]\n",
      " [0.+0.j]\n",
      " [0.+0.j]\n",
      " [0.+0.j]]\n"
     ]
    }
   ],
   "source": [
    "print(fock(N_cav, 1))"
   ]
  },
  {
   "cell_type": "markdown",
   "id": "104ff5f6",
   "metadata": {},
   "source": [
    "Law and Eberly provided an algorithm to determine the correct parameters for state preparation. These include:\n",
    "\n",
    "- The rotation angle $ |\\alpha| $,\n",
    "- The azimuthal angle $ \\arg\\left(\\frac{\\alpha}{|\\alpha|}\\right) $,\n",
    "- The interaction duration $ |\\beta| $. <br>\n",
    "\n",
    "So Goal is to find the best control vector (rather than control amplitudes, this time) that leads to finding the optimal state-preparation strategies. Performing as well as the Law-Eberly algorithm."
   ]
  },
  {
   "cell_type": "code",
   "execution_count": null,
   "id": "042f12c3",
   "metadata": {},
   "outputs": [
    {
     "name": "stdout",
     "output_type": "stream",
     "text": [
      "Initial parameters: \n",
      " [[[  4.40109956 -15.00063041]\n",
      "  [ 11.34795501  18.68394201]]\n",
      "\n",
      " [[ 16.70386422  14.63688792]\n",
      "  [ 14.66972408  12.237571  ]]\n",
      "\n",
      " [[ -4.552878    -3.3220743 ]\n",
      "  [ -4.30601676 -13.000761  ]]\n",
      "\n",
      " [[ 18.45859804  22.85768124]\n",
      "  [ 12.01671016  -4.82850043]]\n",
      "\n",
      " [[-14.68603543  13.94188746]\n",
      "  [ -5.23058656  29.91035793]]]\n"
     ]
    }
   ],
   "source": [
    "# Answer: see why if initial [paramaters are complex, adam fidelity is so bad and l-bfgs does error]\n",
    "# --> they only train real parameters, so we need to split the complex parameters into real and imaginary parts\n",
    "import jax.random as random\n",
    "\n",
    "key = random.PRNGKey(42)  # Random seed for reproducibility\n",
    "num_gates = len(\n",
    "    [qubit_unitary, qubit_cavity_unitary]\n",
    ")  # Number of parameterized gates\n",
    "# doing a .tolist() will lead to weird shape if you multiply outside with 5 or sth\n",
    "# playing wiht the range will increase or decrease fidelity\n",
    "initial_parameters = 5 * random.uniform(\n",
    "    key,\n",
    "    shape=(time_steps, num_gates, 2),\n",
    "    minval=-jnp.pi,\n",
    "    maxval=2 * jnp.pi,\n",
    ")\n",
    "\n",
    "print(f\"Initial parameters: \\n {initial_parameters}\")"
   ]
  },
  {
   "cell_type": "markdown",
   "id": "06364239",
   "metadata": {},
   "source": [
    "## Optimizing\n",
    "Currently l-bfgs with the same learning rate of 0.3 converges at a local minimum of 0.5, adam also converges at 0.5 but at smaller learning rates"
   ]
  },
  {
   "cell_type": "code",
   "execution_count": null,
   "id": "90de4b86",
   "metadata": {},
   "outputs": [
    {
     "name": "stdout",
     "output_type": "stream",
     "text": [
      "Iteration 0, Loss: -0.229757\n",
      "Iteration 10, Loss: -0.323533\n",
      "Iteration 20, Loss: -0.413270\n",
      "Iteration 30, Loss: -0.499407\n",
      "Iteration 40, Loss: -0.580201\n",
      "Iteration 50, Loss: -0.637767\n",
      "Iteration 60, Loss: -0.678976\n",
      "Iteration 70, Loss: -0.707598\n",
      "Iteration 80, Loss: -0.727199\n",
      "Iteration 90, Loss: -0.741239\n",
      "Iteration 100, Loss: -0.751868\n",
      "Iteration 110, Loss: -0.760978\n",
      "Iteration 120, Loss: -0.769543\n",
      "Iteration 130, Loss: -0.777574\n",
      "Iteration 140, Loss: -0.784895\n",
      "Iteration 150, Loss: -0.792175\n",
      "Iteration 160, Loss: -0.799421\n",
      "Iteration 170, Loss: -0.806878\n",
      "Iteration 180, Loss: -0.815495\n",
      "Iteration 190, Loss: -0.824646\n",
      "Iteration 200, Loss: -0.834923\n",
      "Iteration 210, Loss: -0.847420\n",
      "Iteration 220, Loss: -0.862772\n",
      "Iteration 230, Loss: -0.880450\n",
      "Iteration 240, Loss: -0.897683\n",
      "Iteration 250, Loss: -0.916379\n",
      "Iteration 260, Loss: -0.938340\n",
      "Iteration 270, Loss: -0.953659\n",
      "Iteration 280, Loss: -0.965005\n",
      "Iteration 290, Loss: -0.973138\n",
      "Iteration 300, Loss: -0.978818\n",
      "Iteration 310, Loss: -0.983002\n",
      "Iteration 320, Loss: -0.986203\n",
      "Iteration 330, Loss: -0.988622\n",
      "Iteration 340, Loss: -0.990435\n",
      "Iteration 350, Loss: -0.991898\n",
      "Iteration 360, Loss: -0.993073\n",
      "Iteration 370, Loss: -0.994015\n",
      "Iteration 380, Loss: -0.994829\n",
      "Iteration 390, Loss: -0.995500\n",
      "Iteration 400, Loss: -0.996094\n",
      "Iteration 410, Loss: -0.996614\n",
      "Iteration 420, Loss: -0.997086\n",
      "Iteration 430, Loss: -0.997486\n",
      "Iteration 440, Loss: -0.997801\n",
      "Iteration 450, Loss: -0.998062\n",
      "Iteration 460, Loss: -0.998283\n",
      "Iteration 470, Loss: -0.998486\n",
      "Iteration 480, Loss: -0.998669\n",
      "Iteration 490, Loss: -0.998815\n",
      "Iteration 500, Loss: -0.998936\n",
      "Iteration 510, Loss: -0.999032\n",
      "Iteration 520, Loss: -0.999109\n",
      "Iteration 530, Loss: -0.999175\n",
      "Iteration 540, Loss: -0.999232\n",
      "Iteration 550, Loss: -0.999285\n",
      "Iteration 560, Loss: -0.999326\n",
      "Iteration 570, Loss: -0.999362\n",
      "Iteration 580, Loss: -0.999394\n",
      "Iteration 590, Loss: -0.999420\n",
      "Iteration 600, Loss: -0.999441\n",
      "Iteration 610, Loss: -0.999460\n",
      "Iteration 620, Loss: -0.999475\n",
      "Iteration 630, Loss: -0.999489\n",
      "Iteration 640, Loss: -0.999501\n",
      "Iteration 650, Loss: -0.999511\n",
      "Iteration 660, Loss: -0.999520\n",
      "Iteration 670, Loss: -0.999528\n",
      "Iteration 680, Loss: -0.999534\n",
      "Iteration 690, Loss: -0.999541\n",
      "Iteration 700, Loss: -0.999546\n",
      "Iteration 710, Loss: -0.999551\n",
      "Iteration 720, Loss: -0.999556\n",
      "Iteration 730, Loss: -0.999561\n",
      "Iteration 740, Loss: -0.999564\n",
      "Iteration 750, Loss: -0.999566\n",
      "Iteration 760, Loss: -0.999569\n",
      "Iteration 770, Loss: -0.999571\n",
      "Iteration 780, Loss: -0.999573\n",
      "Iteration 790, Loss: -0.999575\n",
      "Iteration 800, Loss: -0.999577\n",
      "Iteration 810, Loss: -0.999578\n",
      "Iteration 820, Loss: -0.999580\n",
      "Iteration 830, Loss: -0.999582\n",
      "Iteration 840, Loss: -0.999583\n",
      "Iteration 850, Loss: -0.999585\n",
      "Iteration 860, Loss: -0.999586\n",
      "Iteration 870, Loss: -0.999588\n",
      "Iteration 880, Loss: -0.999589\n",
      "Iteration 890, Loss: -0.999591\n",
      "Iteration 900, Loss: -0.999592\n",
      "Iteration 910, Loss: -0.999594\n",
      "Iteration 920, Loss: -0.999595\n",
      "Iteration 930, Loss: -0.999597\n",
      "Iteration 940, Loss: -0.999598\n",
      "Iteration 950, Loss: -0.999599\n",
      "Iteration 960, Loss: -0.999601\n",
      "Iteration 970, Loss: -0.999602\n",
      "Iteration 980, Loss: -0.999604\n",
      "Iteration 990, Loss: -0.999605\n"
     ]
    }
   ],
   "source": [
    "from feedback_grape.utils.fidelity import ket2dm\n",
    "\n",
    "result = optimize_pulse_with_feedback(\n",
    "    U_0=ket2dm(psi0),\n",
    "    C_target=ket2dm(psi_target),\n",
    "    parameterized_gates=[qubit_unitary, qubit_cavity_unitary],\n",
    "    initial_params=initial_parameters,\n",
    "    num_time_steps=time_steps,\n",
    "    max_iter=1000,\n",
    "    convergence_threshold=1e-16,\n",
    "    type=\"density\",\n",
    "    mode=\"no-measurement\",\n",
    "    # decay={\n",
    "    #     \"decay_indices\": [0],  # indices of gates before which decay occurs\n",
    "    #     # c_ops need to be tensored with the identity operator for the cavity\n",
    "    #     # because it is used directly in the lindblad equation\n",
    "    #     \"c_ops\": {\n",
    "    #         # weird behavior when gamma is 0.00\n",
    "    #         \"tm\": [tensor(identity(N_cav), jnp.sqrt(0.0015) * sigmam())],\n",
    "    #         # \"tc\": [tensor(identity(N_cav), jnp.sqrt(0.15) * sigmap())],\n",
    "    #     },  # c_ops for each decay index\n",
    "    #     \"tsave\": jnp.linspace(0, 1, 2),  # time grid for decay\n",
    "    #     \"Hamiltonian\": None,\n",
    "    # },\n",
    "    goal=\"fidelity\",\n",
    "    learning_rate=0.01,\n",
    "    batch_size=10,\n",
    "    eval_batch_size=2,\n",
    ")"
   ]
  },
  {
   "cell_type": "code",
   "execution_count": 17,
   "id": "d863b079",
   "metadata": {},
   "outputs": [
    {
     "data": {
      "text/plain": [
       "5"
      ]
     },
     "execution_count": 17,
     "metadata": {},
     "output_type": "execute_result"
    }
   ],
   "source": [
    "len(result.returned_params)"
   ]
  },
  {
   "cell_type": "code",
   "execution_count": 18,
   "id": "9bc1407d",
   "metadata": {},
   "outputs": [
    {
     "data": {
      "text/plain": [
       "Array([[[[  7.07763454, -17.47043701],\n",
       "         [  7.07763454, -17.47043701]],\n",
       "\n",
       "        [[ 13.51045793,  17.28620942],\n",
       "         [ 13.51045793,  17.28620942]]],\n",
       "\n",
       "\n",
       "       [[[ 16.03477984,  15.05020338],\n",
       "         [ 16.03477984,  15.05020338]],\n",
       "\n",
       "        [[ 14.38750315,  11.76628868],\n",
       "         [ 14.38750315,  11.76628868]]],\n",
       "\n",
       "\n",
       "       [[[ -4.1991143 ,  -4.67353736],\n",
       "         [ -4.1991143 ,  -4.67353736]],\n",
       "\n",
       "        [[ -4.85790597, -14.45215012],\n",
       "         [ -4.85790597, -14.45215012]]],\n",
       "\n",
       "\n",
       "       [[[ 20.75414028,  19.201602  ],\n",
       "         [ 20.75414028,  19.201602  ]],\n",
       "\n",
       "        [[ 12.03779372,  -3.23874888],\n",
       "         [ 12.03779372,  -3.23874888]]],\n",
       "\n",
       "\n",
       "       [[[-15.65740337,  15.44231068],\n",
       "         [-15.65740337,  15.44231068]],\n",
       "\n",
       "        [[ -6.1893385 ,  30.7913647 ],\n",
       "         [ -6.1893385 ,  30.7913647 ]]]], dtype=float64)"
      ]
     },
     "execution_count": 18,
     "metadata": {},
     "output_type": "execute_result"
    }
   ],
   "source": [
    "jnp.array(result.returned_params)"
   ]
  },
  {
   "cell_type": "code",
   "execution_count": 19,
   "id": "8f01a9d9",
   "metadata": {},
   "outputs": [
    {
     "name": "stdout",
     "output_type": "stream",
     "text": [
      "[[[ 4.49022836e-11-1.82705234e-24j -3.38099833e-08+1.51586205e-07j\n",
      "    3.67647793e-06+2.96072216e-06j ...  0.00000000e+00+0.00000000e+00j\n",
      "    0.00000000e+00+0.00000000e+00j  0.00000000e+00+0.00000000e+00j]\n",
      "  [-3.38099833e-08-1.51586205e-07j  5.37199684e-04-5.42101086e-20j\n",
      "    7.22687031e-03-1.46407989e-02j ...  0.00000000e+00+0.00000000e+00j\n",
      "    0.00000000e+00+0.00000000e+00j  0.00000000e+00+0.00000000e+00j]\n",
      "  [ 3.67647793e-06-2.96072216e-06j  7.22687031e-03+1.46407989e-02j\n",
      "    4.96241258e-01+3.46944695e-18j ...  0.00000000e+00+0.00000000e+00j\n",
      "    0.00000000e+00+0.00000000e+00j  0.00000000e+00+0.00000000e+00j]\n",
      "  ...\n",
      "  [ 0.00000000e+00+0.00000000e+00j  0.00000000e+00+0.00000000e+00j\n",
      "    0.00000000e+00+0.00000000e+00j ...  0.00000000e+00+0.00000000e+00j\n",
      "    0.00000000e+00+0.00000000e+00j  0.00000000e+00+0.00000000e+00j]\n",
      "  [ 0.00000000e+00+0.00000000e+00j  0.00000000e+00+0.00000000e+00j\n",
      "    0.00000000e+00+0.00000000e+00j ...  0.00000000e+00+0.00000000e+00j\n",
      "    0.00000000e+00+0.00000000e+00j  0.00000000e+00+0.00000000e+00j]\n",
      "  [ 0.00000000e+00+0.00000000e+00j  0.00000000e+00+0.00000000e+00j\n",
      "    0.00000000e+00+0.00000000e+00j ...  0.00000000e+00+0.00000000e+00j\n",
      "    0.00000000e+00+0.00000000e+00j  0.00000000e+00+0.00000000e+00j]]\n",
      "\n",
      " [[ 4.49022836e-11-1.82705234e-24j -3.38099833e-08+1.51586205e-07j\n",
      "    3.67647793e-06+2.96072216e-06j ...  0.00000000e+00+0.00000000e+00j\n",
      "    0.00000000e+00+0.00000000e+00j  0.00000000e+00+0.00000000e+00j]\n",
      "  [-3.38099833e-08-1.51586205e-07j  5.37199684e-04-5.42101086e-20j\n",
      "    7.22687031e-03-1.46407989e-02j ...  0.00000000e+00+0.00000000e+00j\n",
      "    0.00000000e+00+0.00000000e+00j  0.00000000e+00+0.00000000e+00j]\n",
      "  [ 3.67647793e-06-2.96072216e-06j  7.22687031e-03+1.46407989e-02j\n",
      "    4.96241258e-01+3.46944695e-18j ...  0.00000000e+00+0.00000000e+00j\n",
      "    0.00000000e+00+0.00000000e+00j  0.00000000e+00+0.00000000e+00j]\n",
      "  ...\n",
      "  [ 0.00000000e+00+0.00000000e+00j  0.00000000e+00+0.00000000e+00j\n",
      "    0.00000000e+00+0.00000000e+00j ...  0.00000000e+00+0.00000000e+00j\n",
      "    0.00000000e+00+0.00000000e+00j  0.00000000e+00+0.00000000e+00j]\n",
      "  [ 0.00000000e+00+0.00000000e+00j  0.00000000e+00+0.00000000e+00j\n",
      "    0.00000000e+00+0.00000000e+00j ...  0.00000000e+00+0.00000000e+00j\n",
      "    0.00000000e+00+0.00000000e+00j  0.00000000e+00+0.00000000e+00j]\n",
      "  [ 0.00000000e+00+0.00000000e+00j  0.00000000e+00+0.00000000e+00j\n",
      "    0.00000000e+00+0.00000000e+00j ...  0.00000000e+00+0.00000000e+00j\n",
      "    0.00000000e+00+0.00000000e+00j  0.00000000e+00+0.00000000e+00j]]]\n"
     ]
    }
   ],
   "source": [
    "print(result.final_state)"
   ]
  },
  {
   "cell_type": "code",
   "execution_count": 20,
   "id": "2107f9e7",
   "metadata": {},
   "outputs": [
    {
     "name": "stdout",
     "output_type": "stream",
     "text": [
      "FgResult(optimized_trainable_parameters=Array([[[  7.07763454, -17.47043701],\n",
      "        [ 13.51045793,  17.28620942]],\n",
      "\n",
      "       [[ 16.03477984,  15.05020338],\n",
      "        [ 14.38750315,  11.76628868]],\n",
      "\n",
      "       [[ -4.1991143 ,  -4.67353736],\n",
      "        [ -4.85790597, -14.45215012]],\n",
      "\n",
      "       [[ 20.75414028,  19.201602  ],\n",
      "        [ 12.03779372,  -3.23874888]],\n",
      "\n",
      "       [[-15.65740337,  15.44231068],\n",
      "        [ -6.1893385 ,  30.7913647 ]]], dtype=float64), iterations=1000, final_state=Array([[[ 4.49022836e-11-1.82705234e-24j,\n",
      "         -3.38099833e-08+1.51586205e-07j,\n",
      "          3.67647793e-06+2.96072216e-06j, ...,\n",
      "          0.00000000e+00+0.00000000e+00j,\n",
      "          0.00000000e+00+0.00000000e+00j,\n",
      "          0.00000000e+00+0.00000000e+00j],\n",
      "        [-3.38099833e-08-1.51586205e-07j,\n",
      "          5.37199684e-04-5.42101086e-20j,\n",
      "          7.22687031e-03-1.46407989e-02j, ...,\n",
      "          0.00000000e+00+0.00000000e+00j,\n",
      "          0.00000000e+00+0.00000000e+00j,\n",
      "          0.00000000e+00+0.00000000e+00j],\n",
      "        [ 3.67647793e-06-2.96072216e-06j,\n",
      "          7.22687031e-03+1.46407989e-02j,\n",
      "          4.96241258e-01+3.46944695e-18j, ...,\n",
      "          0.00000000e+00+0.00000000e+00j,\n",
      "          0.00000000e+00+0.00000000e+00j,\n",
      "          0.00000000e+00+0.00000000e+00j],\n",
      "        ...,\n",
      "        [ 0.00000000e+00+0.00000000e+00j,\n",
      "          0.00000000e+00+0.00000000e+00j,\n",
      "          0.00000000e+00+0.00000000e+00j, ...,\n",
      "          0.00000000e+00+0.00000000e+00j,\n",
      "          0.00000000e+00+0.00000000e+00j,\n",
      "          0.00000000e+00+0.00000000e+00j],\n",
      "        [ 0.00000000e+00+0.00000000e+00j,\n",
      "          0.00000000e+00+0.00000000e+00j,\n",
      "          0.00000000e+00+0.00000000e+00j, ...,\n",
      "          0.00000000e+00+0.00000000e+00j,\n",
      "          0.00000000e+00+0.00000000e+00j,\n",
      "          0.00000000e+00+0.00000000e+00j],\n",
      "        [ 0.00000000e+00+0.00000000e+00j,\n",
      "          0.00000000e+00+0.00000000e+00j,\n",
      "          0.00000000e+00+0.00000000e+00j, ...,\n",
      "          0.00000000e+00+0.00000000e+00j,\n",
      "          0.00000000e+00+0.00000000e+00j,\n",
      "          0.00000000e+00+0.00000000e+00j]],\n",
      "\n",
      "       [[ 4.49022836e-11-1.82705234e-24j,\n",
      "         -3.38099833e-08+1.51586205e-07j,\n",
      "          3.67647793e-06+2.96072216e-06j, ...,\n",
      "          0.00000000e+00+0.00000000e+00j,\n",
      "          0.00000000e+00+0.00000000e+00j,\n",
      "          0.00000000e+00+0.00000000e+00j],\n",
      "        [-3.38099833e-08-1.51586205e-07j,\n",
      "          5.37199684e-04-5.42101086e-20j,\n",
      "          7.22687031e-03-1.46407989e-02j, ...,\n",
      "          0.00000000e+00+0.00000000e+00j,\n",
      "          0.00000000e+00+0.00000000e+00j,\n",
      "          0.00000000e+00+0.00000000e+00j],\n",
      "        [ 3.67647793e-06-2.96072216e-06j,\n",
      "          7.22687031e-03+1.46407989e-02j,\n",
      "          4.96241258e-01+3.46944695e-18j, ...,\n",
      "          0.00000000e+00+0.00000000e+00j,\n",
      "          0.00000000e+00+0.00000000e+00j,\n",
      "          0.00000000e+00+0.00000000e+00j],\n",
      "        ...,\n",
      "        [ 0.00000000e+00+0.00000000e+00j,\n",
      "          0.00000000e+00+0.00000000e+00j,\n",
      "          0.00000000e+00+0.00000000e+00j, ...,\n",
      "          0.00000000e+00+0.00000000e+00j,\n",
      "          0.00000000e+00+0.00000000e+00j,\n",
      "          0.00000000e+00+0.00000000e+00j],\n",
      "        [ 0.00000000e+00+0.00000000e+00j,\n",
      "          0.00000000e+00+0.00000000e+00j,\n",
      "          0.00000000e+00+0.00000000e+00j, ...,\n",
      "          0.00000000e+00+0.00000000e+00j,\n",
      "          0.00000000e+00+0.00000000e+00j,\n",
      "          0.00000000e+00+0.00000000e+00j],\n",
      "        [ 0.00000000e+00+0.00000000e+00j,\n",
      "          0.00000000e+00+0.00000000e+00j,\n",
      "          0.00000000e+00+0.00000000e+00j, ...,\n",
      "          0.00000000e+00+0.00000000e+00j,\n",
      "          0.00000000e+00+0.00000000e+00j,\n",
      "          0.00000000e+00+0.00000000e+00j]]], dtype=complex128), returned_params=[[Array([[  7.07763454, -17.47043701],\n",
      "       [  7.07763454, -17.47043701]], dtype=float64), Array([[13.51045793, 17.28620942],\n",
      "       [13.51045793, 17.28620942]], dtype=float64)], [Array([[16.03477984, 15.05020338],\n",
      "       [16.03477984, 15.05020338]], dtype=float64), Array([[14.38750315, 11.76628868],\n",
      "       [14.38750315, 11.76628868]], dtype=float64)], [Array([[-4.1991143 , -4.67353736],\n",
      "       [-4.1991143 , -4.67353736]], dtype=float64), Array([[ -4.85790597, -14.45215012],\n",
      "       [ -4.85790597, -14.45215012]], dtype=float64)], [Array([[20.75414028, 19.201602  ],\n",
      "       [20.75414028, 19.201602  ]], dtype=float64), Array([[12.03779372, -3.23874888],\n",
      "       [12.03779372, -3.23874888]], dtype=float64)], [Array([[-15.65740337,  15.44231068],\n",
      "       [-15.65740337,  15.44231068]], dtype=float64), Array([[-6.1893385, 30.7913647],\n",
      "       [-6.1893385, 30.7913647]], dtype=float64)]], final_purity=None, final_fidelity=Array(0.99960653, dtype=float64))\n"
     ]
    }
   ],
   "source": [
    "print(result)"
   ]
  },
  {
   "cell_type": "code",
   "execution_count": 21,
   "id": "f9f60940",
   "metadata": {},
   "outputs": [
    {
     "data": {
      "text/plain": [
       "Array(0.99960653, dtype=float64)"
      ]
     },
     "execution_count": 21,
     "metadata": {},
     "output_type": "execute_result"
    }
   ],
   "source": [
    "result.final_fidelity"
   ]
  },
  {
   "cell_type": "code",
   "execution_count": 22,
   "id": "7db3d27a",
   "metadata": {},
   "outputs": [],
   "source": [
    "# from feedback_grape.grape_paramaterized import calculate_trajectory\n",
    "# from feedback_grape.utils.fidelity import fidelity\n",
    "\n",
    "# U_final = calculate_trajectory(\n",
    "#     U_0=psi0,\n",
    "#     parameters=result.returned_params[0],\n",
    "#     time_steps=time_steps,\n",
    "#     parameterized_gates=[qubit_unitary, qubit_cavity_unitary],\n",
    "#     propcomp=\"memory-efficient\",\n",
    "#     type=\"state\",\n",
    "#     decay=None,\n",
    "# )\n",
    "# print(\n",
    "#     fidelity(C_target=psi_target, U_final=result.final_operator, type=\"state\")\n",
    "# )"
   ]
  },
  {
   "cell_type": "code",
   "execution_count": null,
   "id": "624fd336",
   "metadata": {},
   "outputs": [],
   "source": []
  }
 ],
 "metadata": {
  "kernelspec": {
   "display_name": "Python 3",
   "language": "python",
   "name": "python3"
  },
  "language_info": {
   "codemirror_mode": {
    "name": "ipython",
    "version": 3
   },
   "file_extension": ".py",
   "mimetype": "text/x-python",
   "name": "python",
   "nbconvert_exporter": "python",
   "pygments_lexer": "ipython3",
   "version": "3.11.11"
  }
 },
 "nbformat": 4,
 "nbformat_minor": 5
}

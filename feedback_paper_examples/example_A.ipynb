{
 "cells": [
  {
   "cell_type": "markdown",
   "id": "c4fe2265",
   "metadata": {},
   "source": [
    "# A. State preparation with Jaynes-Cummings controls"
   ]
  },
  {
   "cell_type": "code",
   "execution_count": 1,
   "id": "dc37b46a",
   "metadata": {},
   "outputs": [],
   "source": [
    "# ruff: noqa\n",
    "import os\n",
    "\n",
    "os.sys.path.append(\"..\")\n",
    "from feedback_grape.fgrape import optimize_pulse_with_feedback\n",
    "from feedback_grape.utils.operators import (\n",
    "    sigmap,\n",
    "    sigmam,\n",
    "    create,\n",
    "    destroy,\n",
    "    identity,\n",
    ")\n",
    "from feedback_grape.utils.states import basis, fock\n",
    "from feedback_grape.utils.tensor import tensor\n",
    "import jax.numpy as jnp\n",
    "from jax.scipy.linalg import expm"
   ]
  },
  {
   "cell_type": "markdown",
   "id": "e1718760",
   "metadata": {},
   "source": [
    "As a preliminary step, we consider state preparation\n",
    "of a target state starting from a pure state. In addition,\n",
    "we assume that any coupling to an external environment\n",
    "is negligible and that the parametrized controls can be\n",
    "implemented perfectly."
   ]
  },
  {
   "cell_type": "markdown",
   "id": "5e382943",
   "metadata": {},
   "source": [
    "Here no feedback is required, we are just testing the parameterized gates setup."
   ]
  },
  {
   "cell_type": "markdown",
   "id": "202846e6",
   "metadata": {},
   "source": [
    "As a first example, we consider the state preparation\n",
    "of a cavity resonantly coupled to an externally driven\n",
    "qubit"
   ]
  },
  {
   "cell_type": "markdown",
   "id": "ec5307dc",
   "metadata": {},
   "source": [
    "Here, we consider a particular sequence of\n",
    "parametrized unitary gates originally introduced by Law\n",
    "and Eberly"
   ]
  },
  {
   "cell_type": "code",
   "execution_count": 2,
   "id": "3651226c",
   "metadata": {},
   "outputs": [],
   "source": [
    "N_cav = 10"
   ]
  },
  {
   "cell_type": "code",
   "execution_count": 3,
   "id": "b236c6a5",
   "metadata": {},
   "outputs": [],
   "source": [
    "def qubit_unitary(alpha_re, alpha_im):\n",
    "    alpha = alpha_re + 1j * alpha_im\n",
    "    return tensor(\n",
    "        identity(N_cav),\n",
    "        expm(-1j * (alpha * sigmap() + alpha.conjugate() * sigmam()) / 2),\n",
    "    )"
   ]
  },
  {
   "cell_type": "code",
   "execution_count": 4,
   "id": "ebb31077",
   "metadata": {},
   "outputs": [],
   "source": [
    "def qubit_cavity_unitary(beta_re, beta_im):\n",
    "    beta = beta_re + 1j * beta_im\n",
    "    return expm(\n",
    "        -1j\n",
    "        * (\n",
    "            beta * (tensor(destroy(N_cav), sigmap()))\n",
    "            + beta.conjugate() * (tensor(create(N_cav), sigmam()))\n",
    "        )\n",
    "        / 2\n",
    "    )"
   ]
  },
  {
   "cell_type": "code",
   "execution_count": 5,
   "id": "69ffdbf4",
   "metadata": {},
   "outputs": [],
   "source": [
    "# Uq = qubit_unitary(0.1, 0.1)\n",
    "# Uqc = qubit_cavity_unitary(0.2, 0.2)\n",
    "# print(\n",
    "#     \"Uq unitary check:\",\n",
    "#     jnp.allclose(Uq.conj().T @ Uq, jnp.eye(Uq.shape[0]), atol=1e-7),\n",
    "# )\n",
    "# print(\n",
    "#     \"Uqc unitary check:\",\n",
    "#     jnp.allclose(Uqc.conj().T @ Uqc, jnp.eye(Uqc.shape[0]), atol=1e-7),\n",
    "# )"
   ]
  },
  {
   "cell_type": "code",
   "execution_count": 6,
   "id": "883df30f",
   "metadata": {},
   "outputs": [],
   "source": [
    "# qubit_unitary(0.1, 0.1).shape"
   ]
  },
  {
   "cell_type": "code",
   "execution_count": 7,
   "id": "b8591e5c",
   "metadata": {},
   "outputs": [],
   "source": [
    "# qubit_unitary(0.1, 0.1)"
   ]
  },
  {
   "cell_type": "markdown",
   "id": "8b05cd63",
   "metadata": {},
   "source": [
    "In their groundbreaking work, Law and Eberly have\n",
    "shown that any arbitrary superposition of Fock states with\n",
    "maximal excitation number N can be prepared out of the\n",
    "ground state in a sequence of N such interleaved gates,\n",
    "also providing an algorithm to find the correct angles and\n",
    "interaction durations"
   ]
  },
  {
   "cell_type": "code",
   "execution_count": 8,
   "id": "c4020a7e",
   "metadata": {},
   "outputs": [],
   "source": [
    "# print(qubit_cavity_unitary(0.1, 0.1).shape)"
   ]
  },
  {
   "cell_type": "code",
   "execution_count": 9,
   "id": "172cff3e",
   "metadata": {},
   "outputs": [],
   "source": [
    "# qubit_cavity_unitary(0.1, 0.1)"
   ]
  },
  {
   "cell_type": "markdown",
   "id": "d1a6f411",
   "metadata": {},
   "source": [
    "## First target is the state $ | 1 ⟩ + | 3 ⟩ $ "
   ]
  },
  {
   "cell_type": "code",
   "execution_count": 10,
   "id": "45069deb",
   "metadata": {},
   "outputs": [],
   "source": [
    "# TODO: Why if time steps are less than 5 then it plateus at 0.5\n",
    "time_steps = 5  # corressponds to maximal excitation number of an arbitrary Fock State Superposition"
   ]
  },
  {
   "cell_type": "code",
   "execution_count": 11,
   "id": "e5746831",
   "metadata": {},
   "outputs": [],
   "source": [
    "psi0 = tensor(basis(N_cav), basis(2))\n",
    "psi0 = psi0 / jnp.linalg.norm(psi0)\n",
    "psi_target = tensor((fock(N_cav, 1) + fock(N_cav, 3)) / jnp.sqrt(2), basis(2))\n",
    "psi_target = psi_target / jnp.linalg.norm(psi_target)"
   ]
  },
  {
   "cell_type": "code",
   "execution_count": 12,
   "id": "860c7a66",
   "metadata": {},
   "outputs": [
    {
     "data": {
      "text/plain": [
       "(20, 1)"
      ]
     },
     "execution_count": 12,
     "metadata": {},
     "output_type": "execute_result"
    }
   ],
   "source": [
    "psi0.shape"
   ]
  },
  {
   "cell_type": "code",
   "execution_count": 13,
   "id": "c3fbbd04",
   "metadata": {},
   "outputs": [
    {
     "data": {
      "text/plain": [
       "(20, 1)"
      ]
     },
     "execution_count": 13,
     "metadata": {},
     "output_type": "execute_result"
    }
   ],
   "source": [
    "psi_target.shape"
   ]
  },
  {
   "cell_type": "code",
   "execution_count": 14,
   "id": "2e2e8ef3",
   "metadata": {},
   "outputs": [
    {
     "name": "stdout",
     "output_type": "stream",
     "text": [
      "[[0.+0.j]\n",
      " [1.+0.j]\n",
      " [0.+0.j]\n",
      " [0.+0.j]\n",
      " [0.+0.j]\n",
      " [0.+0.j]\n",
      " [0.+0.j]\n",
      " [0.+0.j]\n",
      " [0.+0.j]\n",
      " [0.+0.j]]\n"
     ]
    }
   ],
   "source": [
    "print(fock(N_cav, 1))"
   ]
  },
  {
   "cell_type": "markdown",
   "id": "104ff5f6",
   "metadata": {},
   "source": [
    "Law and Eberly provided an algorithm to determine the correct parameters for state preparation. These include:\n",
    "\n",
    "- The rotation angle $ |\\alpha| $,\n",
    "- The azimuthal angle $ \\arg\\left(\\frac{\\alpha}{|\\alpha|}\\right) $,\n",
    "- The interaction duration $ |\\beta| $. <br>\n",
    "\n",
    "So Goal is to find the best control vector (rather than control amplitudes, this time) that leads to finding the optimal state-preparation strategies. Performing as well as the Law-Eberly algorithm."
   ]
  },
  {
   "cell_type": "code",
   "execution_count": 15,
   "id": "042f12c3",
   "metadata": {},
   "outputs": [
    {
     "name": "stdout",
     "output_type": "stream",
     "text": [
      "Initial parameters: \n",
      " [[[-1.02469816 -3.56513646]\n",
      "  [ 5.84740194  0.93620132]]\n",
      "\n",
      " [[ 0.40496999 -1.82331528]\n",
      "  [ 4.81303274  1.66580299]]\n",
      "\n",
      " [[ 0.42474429 -3.8747916 ]\n",
      "  [ 4.45071507 -5.53624915]]\n",
      "\n",
      " [[ 1.8019134   6.20868141]\n",
      "  [ 1.28195345 -1.40346063]]\n",
      "\n",
      " [[-2.55463728  1.8038256 ]\n",
      "  [-0.97616704  5.45027624]]]\n"
     ]
    }
   ],
   "source": [
    "# TODO: see why if initial [paramaters are complex, adam fidelity is so bad and l-bfgs does error]\n",
    "import jax.random as random\n",
    "\n",
    "key = random.PRNGKey(0)  # Random seed for reproducibility\n",
    "num_gates = len(\n",
    "    [qubit_unitary, qubit_cavity_unitary]\n",
    ")  # Number of parameterized gates\n",
    "# doing a .tolist() will lead to weird shape if you multiply outside with 5 or sth\n",
    "# playing wiht the range will increase or decrease fidelity\n",
    "initial_parameters = random.uniform(\n",
    "    key,\n",
    "    shape=(time_steps, num_gates, 2),\n",
    "    minval=-2 * jnp.pi,\n",
    "    maxval=2 * jnp.pi,\n",
    ")\n",
    "\n",
    "print(f\"Initial parameters: \\n {initial_parameters}\")"
   ]
  },
  {
   "cell_type": "markdown",
   "id": "06364239",
   "metadata": {},
   "source": [
    "## Optimizing\n",
    "Currently l-bfgs with the same learning rate of 0.3 converges at a local minimum of 0.5, adam also converges at 0.5 but at smaller learning rates"
   ]
  },
  {
   "cell_type": "code",
   "execution_count": 46,
   "id": "90de4b86",
   "metadata": {},
   "outputs": [
    {
     "name": "stdout",
     "output_type": "stream",
     "text": [
      "Iteration 0, Loss: -0.442678\n",
      "Iteration 10, Loss: -0.676171\n",
      "Iteration 20, Loss: -0.699814\n",
      "Iteration 30, Loss: -0.704269\n",
      "Iteration 40, Loss: -0.706648\n",
      "Iteration 50, Loss: -0.707260\n",
      "Iteration 60, Loss: -0.710230\n",
      "Iteration 70, Loss: -0.730405\n",
      "Iteration 80, Loss: -0.892387\n",
      "Iteration 90, Loss: -0.931633\n",
      "Iteration 100, Loss: -0.979205\n",
      "Iteration 110, Loss: -0.987293\n",
      "Iteration 120, Loss: -0.992573\n",
      "Iteration 130, Loss: -0.995415\n",
      "Iteration 140, Loss: -0.997014\n",
      "Iteration 150, Loss: -0.997986\n",
      "Iteration 160, Loss: -0.998040\n",
      "Iteration 170, Loss: -0.998088\n",
      "Iteration 180, Loss: -0.998128\n",
      "Iteration 190, Loss: -0.998135\n",
      "Iteration 200, Loss: -0.998136\n",
      "Iteration 210, Loss: -0.998137\n",
      "Iteration 220, Loss: -0.998138\n",
      "Iteration 230, Loss: -0.998138\n",
      "Iteration 240, Loss: -0.998139\n",
      "Iteration 250, Loss: -0.998139\n",
      "Iteration 260, Loss: -0.998139\n",
      "Iteration 270, Loss: -0.998139\n",
      "Iteration 280, Loss: -0.998140\n",
      "Iteration 290, Loss: -0.998140\n",
      "Iteration 300, Loss: -0.998140\n",
      "Iteration 310, Loss: -0.998141\n",
      "Iteration 320, Loss: -0.998141\n",
      "Iteration 330, Loss: -0.998142\n",
      "Iteration 340, Loss: -0.998143\n",
      "Iteration 350, Loss: -0.998143\n",
      "Iteration 360, Loss: -0.998144\n",
      "Iteration 370, Loss: -0.998146\n",
      "Iteration 380, Loss: -0.998147\n",
      "Iteration 390, Loss: -0.998148\n",
      "Iteration 400, Loss: -0.998150\n",
      "Iteration 410, Loss: -0.998152\n",
      "Iteration 420, Loss: -0.998155\n",
      "Iteration 430, Loss: -0.998157\n",
      "Iteration 440, Loss: -0.998161\n",
      "Iteration 450, Loss: -0.998165\n",
      "Iteration 460, Loss: -0.998169\n",
      "Iteration 470, Loss: -0.998175\n",
      "Iteration 480, Loss: -0.998182\n",
      "Iteration 490, Loss: -0.998190\n",
      "Iteration 500, Loss: -0.998199\n",
      "Iteration 510, Loss: -0.998210\n",
      "Iteration 520, Loss: -0.998223\n",
      "Iteration 530, Loss: -0.998238\n",
      "Iteration 540, Loss: -0.998256\n",
      "Iteration 550, Loss: -0.998276\n",
      "Iteration 560, Loss: -0.998300\n",
      "Iteration 570, Loss: -0.998326\n",
      "Iteration 580, Loss: -0.998356\n",
      "Iteration 590, Loss: -0.998390\n",
      "Iteration 600, Loss: -0.998426\n",
      "Iteration 610, Loss: -0.998464\n",
      "Iteration 620, Loss: -0.998504\n",
      "Iteration 630, Loss: -0.998545\n",
      "Iteration 640, Loss: -0.998585\n",
      "Iteration 650, Loss: -0.998624\n",
      "Iteration 660, Loss: -0.998660\n",
      "Iteration 670, Loss: -0.998694\n",
      "Iteration 680, Loss: -0.998724\n",
      "Iteration 690, Loss: -0.998750\n",
      "Iteration 700, Loss: -0.998772\n",
      "Iteration 710, Loss: -0.998790\n",
      "Iteration 720, Loss: -0.998805\n",
      "Iteration 730, Loss: -0.998817\n",
      "Iteration 740, Loss: -0.998827\n",
      "Iteration 750, Loss: -0.998834\n",
      "Iteration 760, Loss: -0.998840\n",
      "Iteration 770, Loss: -0.998844\n",
      "Iteration 780, Loss: -0.998848\n",
      "Iteration 790, Loss: -0.998850\n",
      "Iteration 800, Loss: -0.998852\n",
      "Iteration 810, Loss: -0.998854\n",
      "Iteration 820, Loss: -0.998855\n",
      "Iteration 830, Loss: -0.998855\n",
      "Iteration 840, Loss: -0.998856\n",
      "Iteration 850, Loss: -0.998856\n",
      "Iteration 860, Loss: -0.998856\n",
      "Iteration 870, Loss: -0.996920\n",
      "Iteration 880, Loss: -0.998826\n",
      "Iteration 890, Loss: -0.998787\n",
      "Iteration 900, Loss: -0.998793\n",
      "Iteration 910, Loss: -0.998837\n",
      "Iteration 920, Loss: -0.998817\n",
      "Iteration 930, Loss: -0.998844\n",
      "Iteration 940, Loss: -0.998854\n",
      "Iteration 950, Loss: -0.998857\n",
      "Iteration 960, Loss: -0.998857\n",
      "Iteration 970, Loss: -0.998857\n",
      "Iteration 980, Loss: -0.998857\n",
      "Iteration 990, Loss: -0.998857\n"
     ]
    }
   ],
   "source": [
    "from feedback_grape.utils.fidelity import ket2dm\n",
    "\n",
    "result = optimize_pulse_with_feedback(\n",
    "    U_0=ket2dm(psi0),\n",
    "    C_target=ket2dm(psi_target),\n",
    "    parameterized_gates=[qubit_unitary, qubit_cavity_unitary],\n",
    "    initial_params=initial_parameters,\n",
    "    num_time_steps=time_steps,\n",
    "    max_iter=1000,\n",
    "    convergence_threshold=1e-16,\n",
    "    type=\"density\",\n",
    "    mode=\"no-feedback\",\n",
    "    decay={\n",
    "        \"decay_indices\": [0],  # indices of gates before which decay occurs\n",
    "        # c_ops need to be tensored with the identity operator for the cavity\n",
    "        # because it is used directly in the lindblad equation\n",
    "        \"c_ops\": {\n",
    "            # weird behavior when gamma is 0.00\n",
    "            \"tm\": [tensor(identity(N_cav), jnp.sqrt(0.0015) * sigmam())],\n",
    "            # \"tc\": [tensor(identity(N_cav), jnp.sqrt(0.15) * sigmap())],\n",
    "        },  # c_ops for each decay index\n",
    "        \"tsave\": jnp.linspace(0, 1, 2),  # time grid for decay\n",
    "        \"Hamiltonian\": None,\n",
    "    },\n",
    "    goal=\"fidelity\",\n",
    "    learning_rate=0.1,\n",
    "    batch_size=1,\n",
    "    eval_batch_size=1\n",
    ")"
   ]
  },
  {
   "cell_type": "code",
   "execution_count": 41,
   "id": "9bc1407d",
   "metadata": {},
   "outputs": [
    {
     "data": {
      "text/plain": [
       "Array([[[[-3.38945462, -5.29055896]],\n",
       "\n",
       "        [[ 7.59727681,  3.95166575]]],\n",
       "\n",
       "\n",
       "       [[[ 0.96442159, -2.98989872]],\n",
       "\n",
       "        [[ 6.76766776,  0.79128691]]],\n",
       "\n",
       "\n",
       "       [[[ 2.65251138, -1.68338586]],\n",
       "\n",
       "        [[ 4.04746537, -5.99906467]]],\n",
       "\n",
       "\n",
       "       [[[ 2.5490795 ,  5.74287501]],\n",
       "\n",
       "        [[ 1.9558422 , -1.72478531]]],\n",
       "\n",
       "\n",
       "       [[[-3.08320719, -0.60285763]],\n",
       "\n",
       "        [[ 1.37681839,  2.82382285]]]], dtype=float64)"
      ]
     },
     "execution_count": 41,
     "metadata": {},
     "output_type": "execute_result"
    }
   ],
   "source": [
    "jnp.array(result.returned_params)"
   ]
  },
  {
   "cell_type": "code",
   "execution_count": 42,
   "id": "8f01a9d9",
   "metadata": {},
   "outputs": [
    {
     "name": "stdout",
     "output_type": "stream",
     "text": [
      "[[[-3.31007827e-09-4.13880272e-09j]\n",
      "  [-9.69749680e-09-2.91289452e-08j]\n",
      "  [-4.91438200e-02+7.05396972e-01j]\n",
      "  [ 1.90257013e-08+1.48748850e-08j]\n",
      "  [ 1.10956854e-08+2.38929704e-09j]\n",
      "  [ 2.15830409e-10-4.11849521e-09j]\n",
      "  [-4.91438021e-02+7.05396969e-01j]\n",
      "  [ 3.56953959e-08+2.38083755e-10j]\n",
      "  [-4.47670598e-10-3.23544002e-10j]\n",
      "  [-1.41555124e-09+2.45399712e-09j]\n",
      "  [ 0.00000000e+00+0.00000000e+00j]\n",
      "  [ 1.01319253e-10+1.89350464e-10j]\n",
      "  [ 0.00000000e+00+0.00000000e+00j]\n",
      "  [ 0.00000000e+00+0.00000000e+00j]\n",
      "  [ 0.00000000e+00+0.00000000e+00j]\n",
      "  [ 0.00000000e+00+0.00000000e+00j]\n",
      "  [ 0.00000000e+00+0.00000000e+00j]\n",
      "  [ 0.00000000e+00+0.00000000e+00j]\n",
      "  [ 0.00000000e+00+0.00000000e+00j]\n",
      "  [ 0.00000000e+00+0.00000000e+00j]]]\n"
     ]
    }
   ],
   "source": [
    "print(result.final_state)"
   ]
  },
  {
   "cell_type": "code",
   "execution_count": 38,
   "id": "2107f9e7",
   "metadata": {},
   "outputs": [
    {
     "name": "stdout",
     "output_type": "stream",
     "text": [
      "FgResult(optimized_trainable_parameters=Array([[[ 0.35574144, -3.1213862 ],\n",
      "        [ 5.52320276,  0.04637444]],\n",
      "\n",
      "       [[ 1.17155998, -2.91497024],\n",
      "        [ 3.02387257, -0.85193806]],\n",
      "\n",
      "       [[-0.36837819, -3.11992014],\n",
      "        [ 5.70554269, -6.81201994]],\n",
      "\n",
      "       [[ 1.8019134 ,  6.20868141],\n",
      "        [ 1.28195345, -1.40346063]],\n",
      "\n",
      "       [[-2.55463728,  1.8038256 ],\n",
      "        [-0.97616704,  5.45027624]]], dtype=float64), iterations=304, final_state=Array([[[-1.64070776e-08+7.46268677e-09j],\n",
      "        [-4.55777746e-08-1.85329552e-08j],\n",
      "        [ 4.13016667e-01-9.10723467e-01j],\n",
      "        [-9.89489424e-09+3.27659732e-08j],\n",
      "        [-1.99378311e-09-1.17046183e-09j],\n",
      "        [ 2.29298705e-08+8.23805923e-08j],\n",
      "        [ 0.00000000e+00+0.00000000e+00j],\n",
      "        [-1.42476748e-08+2.39273537e-09j],\n",
      "        [ 0.00000000e+00+0.00000000e+00j],\n",
      "        [ 0.00000000e+00+0.00000000e+00j],\n",
      "        [ 0.00000000e+00+0.00000000e+00j],\n",
      "        [ 0.00000000e+00+0.00000000e+00j],\n",
      "        [ 0.00000000e+00+0.00000000e+00j],\n",
      "        [ 0.00000000e+00+0.00000000e+00j],\n",
      "        [ 0.00000000e+00+0.00000000e+00j],\n",
      "        [ 0.00000000e+00+0.00000000e+00j],\n",
      "        [ 0.00000000e+00+0.00000000e+00j],\n",
      "        [ 0.00000000e+00+0.00000000e+00j],\n",
      "        [ 0.00000000e+00+0.00000000e+00j],\n",
      "        [ 0.00000000e+00+0.00000000e+00j]]], dtype=complex128), returned_params=[[Array([[ 0.35574144, -3.1213862 ]], dtype=float64), Array([[5.52320276, 0.04637444]], dtype=float64)], [Array([[ 1.17155998, -2.91497024]], dtype=float64), Array([[ 3.02387257, -0.85193806]], dtype=float64)], [Array([[-0.36837819, -3.11992014]], dtype=float64), Array([[ 5.70554269, -6.81201994]], dtype=float64)]], final_purity=None, final_fidelity=Array(0.5, dtype=float64))\n"
     ]
    }
   ],
   "source": [
    "print(result)"
   ]
  },
  {
   "cell_type": "code",
   "execution_count": 39,
   "id": "f9f60940",
   "metadata": {},
   "outputs": [
    {
     "data": {
      "text/plain": [
       "Array(0.5, dtype=float64)"
      ]
     },
     "execution_count": 39,
     "metadata": {},
     "output_type": "execute_result"
    }
   ],
   "source": [
    "result.final_fidelity"
   ]
  },
  {
   "cell_type": "code",
   "execution_count": 34,
   "id": "7db3d27a",
   "metadata": {},
   "outputs": [],
   "source": [
    "# from feedback_grape.grape_paramaterized import calculate_trajectory\n",
    "# from feedback_grape.utils.fidelity import fidelity\n",
    "\n",
    "# U_final = calculate_trajectory(\n",
    "#     U_0=psi0,\n",
    "#     parameters=result.returned_params[0],\n",
    "#     time_steps=time_steps,\n",
    "#     parameterized_gates=[qubit_unitary, qubit_cavity_unitary],\n",
    "#     propcomp=\"memory-efficient\",\n",
    "#     type=\"state\",\n",
    "#     decay=None,\n",
    "# )\n",
    "# print(\n",
    "#     fidelity(C_target=psi_target, U_final=result.final_operator, type=\"state\")\n",
    "# )"
   ]
  },
  {
   "cell_type": "code",
   "execution_count": null,
   "id": "624fd336",
   "metadata": {},
   "outputs": [],
   "source": []
  }
 ],
 "metadata": {
  "kernelspec": {
   "display_name": "Python 3",
   "language": "python",
   "name": "python3"
  },
  "language_info": {
   "codemirror_mode": {
    "name": "ipython",
    "version": 3
   },
   "file_extension": ".py",
   "mimetype": "text/x-python",
   "name": "python",
   "nbconvert_exporter": "python",
   "pygments_lexer": "ipython3",
   "version": "3.11.11"
  }
 },
 "nbformat": 4,
 "nbformat_minor": 5
}

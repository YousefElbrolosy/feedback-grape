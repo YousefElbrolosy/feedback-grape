{
 "cells": [
  {
   "cell_type": "markdown",
   "id": "c4fe2265",
   "metadata": {},
   "source": [
    "# A. State preparation with Jaynes-Cummings controls"
   ]
  },
  {
   "cell_type": "code",
   "execution_count": 1,
   "id": "dc37b46a",
   "metadata": {},
   "outputs": [],
   "source": [
    "# ruff: noqa\n",
    "import os\n",
    "\n",
    "os.sys.path.append(\"..\")\n",
    "from feedback_grape.grape_paramaterized import optimize_pulse_parameterized\n",
    "from feedback_grape.utils.operators import (\n",
    "    sigmap,\n",
    "    sigmam,\n",
    "    create,\n",
    "    destroy,\n",
    "    identity,\n",
    ")\n",
    "from feedback_grape.utils.states import basis, fock\n",
    "from feedback_grape.utils.tensor import tensor\n",
    "import jax.numpy as jnp\n",
    "from jax.scipy.linalg import expm"
   ]
  },
  {
   "cell_type": "markdown",
   "id": "e1718760",
   "metadata": {},
   "source": [
    "As a preliminary step, we consider state preparation\n",
    "of a target state starting from a pure state. In addition,\n",
    "we assume that any coupling to an external environment\n",
    "is negligible and that the parametrized controls can be\n",
    "implemented perfectly."
   ]
  },
  {
   "cell_type": "markdown",
   "id": "5e382943",
   "metadata": {},
   "source": [
    "Here no feedback is required, we are just testing the parameterized gates setup."
   ]
  },
  {
   "cell_type": "markdown",
   "id": "202846e6",
   "metadata": {},
   "source": [
    "As a first example, we consider the state preparation\n",
    "of a cavity resonantly coupled to an externally driven\n",
    "qubit"
   ]
  },
  {
   "cell_type": "markdown",
   "id": "ec5307dc",
   "metadata": {},
   "source": [
    "Here, we consider a particular sequence of\n",
    "parametrized unitary gates originally introduced by Law\n",
    "and Eberly"
   ]
  },
  {
   "cell_type": "code",
   "execution_count": 2,
   "id": "3651226c",
   "metadata": {},
   "outputs": [],
   "source": [
    "N_cav = 10"
   ]
  },
  {
   "cell_type": "code",
   "execution_count": 3,
   "id": "b236c6a5",
   "metadata": {},
   "outputs": [],
   "source": [
    "def qubit_unitary(alpha_re, alpha_im):\n",
    "    alpha = alpha_re + 1j * alpha_im\n",
    "    return tensor(identity(N_cav),  expm(\n",
    "        -1j\n",
    "        * (\n",
    "            alpha * sigmap()\n",
    "            + alpha.conjugate() * sigmam()\n",
    "        )\n",
    "        / 2\n",
    "    ))"
   ]
  },
  {
   "cell_type": "code",
   "execution_count": 4,
   "id": "ebb31077",
   "metadata": {},
   "outputs": [],
   "source": [
    "def qubit_cavity_unitary(beta_re, beta_im):\n",
    "    beta = beta_re + 1j * beta_im\n",
    "    return expm(\n",
    "        -1j\n",
    "        * (\n",
    "            beta\n",
    "            * (\n",
    "                tensor(destroy(N_cav), sigmap())\n",
    "            )\n",
    "            + beta.conjugate()\n",
    "            * (\n",
    "                tensor(create(N_cav), sigmam())\n",
    "            )\n",
    "        )\n",
    "        / 2\n",
    "    )"
   ]
  },
  {
   "cell_type": "code",
   "execution_count": 5,
   "id": "69ffdbf4",
   "metadata": {},
   "outputs": [],
   "source": [
    "# Uq = qubit_unitary(0.1, 0.1)\n",
    "# Uqc = qubit_cavity_unitary(0.2, 0.2)\n",
    "# print(\n",
    "#     \"Uq unitary check:\",\n",
    "#     jnp.allclose(Uq.conj().T @ Uq, jnp.eye(Uq.shape[0]), atol=1e-7),\n",
    "# )\n",
    "# print(\n",
    "#     \"Uqc unitary check:\",\n",
    "#     jnp.allclose(Uqc.conj().T @ Uqc, jnp.eye(Uqc.shape[0]), atol=1e-7),\n",
    "# )"
   ]
  },
  {
   "cell_type": "code",
   "execution_count": 6,
   "id": "883df30f",
   "metadata": {},
   "outputs": [],
   "source": [
    "# qubit_unitary(0.1, 0.1).shape"
   ]
  },
  {
   "cell_type": "code",
   "execution_count": 7,
   "id": "b8591e5c",
   "metadata": {},
   "outputs": [],
   "source": [
    "# qubit_unitary(0.1, 0.1)"
   ]
  },
  {
   "cell_type": "markdown",
   "id": "8b05cd63",
   "metadata": {},
   "source": [
    "In their groundbreaking work, Law and Eberly have\n",
    "shown that any arbitrary superposition of Fock states with\n",
    "maximal excitation number N can be prepared out of the\n",
    "ground state in a sequence of N such interleaved gates,\n",
    "also providing an algorithm to find the correct angles and\n",
    "interaction durations"
   ]
  },
  {
   "cell_type": "code",
   "execution_count": 8,
   "id": "c4020a7e",
   "metadata": {},
   "outputs": [],
   "source": [
    "# print(qubit_cavity_unitary(0.1, 0.1).shape)"
   ]
  },
  {
   "cell_type": "code",
   "execution_count": 9,
   "id": "172cff3e",
   "metadata": {},
   "outputs": [],
   "source": [
    "# qubit_cavity_unitary(0.1, 0.1)"
   ]
  },
  {
   "cell_type": "markdown",
   "id": "d1a6f411",
   "metadata": {},
   "source": [
    "## First target is the state $ | 1 ⟩ + | 3 ⟩ $ "
   ]
  },
  {
   "cell_type": "code",
   "execution_count": 10,
   "id": "45069deb",
   "metadata": {},
   "outputs": [],
   "source": [
    "# TODO: Why if time steps are less than 5 then it plateus at 0.5\n",
    "time_steps = 5  # corressponds to maximal excitation number of an arbitrary Fock State Superposition\n"
   ]
  },
  {
   "cell_type": "code",
   "execution_count": 11,
   "id": "e5746831",
   "metadata": {},
   "outputs": [],
   "source": [
    "psi0 = tensor(basis(N_cav), basis(2))\n",
    "psi0 = psi0 / jnp.linalg.norm(psi0)\n",
    "psi_target = tensor((fock(N_cav, 1) + fock(N_cav, 3))/ jnp.sqrt(2), basis(2))\n",
    "psi_target = psi_target / jnp.linalg.norm(psi_target)"
   ]
  },
  {
   "cell_type": "code",
   "execution_count": 12,
   "id": "860c7a66",
   "metadata": {},
   "outputs": [
    {
     "data": {
      "text/plain": [
       "(20, 1)"
      ]
     },
     "execution_count": 12,
     "metadata": {},
     "output_type": "execute_result"
    }
   ],
   "source": [
    "psi0.shape"
   ]
  },
  {
   "cell_type": "code",
   "execution_count": 13,
   "id": "c3fbbd04",
   "metadata": {},
   "outputs": [
    {
     "data": {
      "text/plain": [
       "(20, 1)"
      ]
     },
     "execution_count": 13,
     "metadata": {},
     "output_type": "execute_result"
    }
   ],
   "source": [
    "psi_target.shape"
   ]
  },
  {
   "cell_type": "code",
   "execution_count": 14,
   "id": "2e2e8ef3",
   "metadata": {},
   "outputs": [
    {
     "name": "stdout",
     "output_type": "stream",
     "text": [
      "[[0.+0.j]\n",
      " [1.+0.j]\n",
      " [0.+0.j]\n",
      " [0.+0.j]\n",
      " [0.+0.j]\n",
      " [0.+0.j]\n",
      " [0.+0.j]\n",
      " [0.+0.j]\n",
      " [0.+0.j]\n",
      " [0.+0.j]]\n"
     ]
    }
   ],
   "source": [
    "print(fock(N_cav, 1))"
   ]
  },
  {
   "cell_type": "markdown",
   "id": "104ff5f6",
   "metadata": {},
   "source": [
    "Law and Eberly provided an algorithm to determine the correct parameters for state preparation. These include:\n",
    "\n",
    "- The rotation angle $ |\\alpha| $,\n",
    "- The azimuthal angle $ \\arg\\left(\\frac{\\alpha}{|\\alpha|}\\right) $,\n",
    "- The interaction duration $ |\\beta| $. <br>\n",
    "\n",
    "So Goal is to find the best control vector (rather than control amplitudes, this time) that leads to finding the optimal state-preparation strategies. Performing as well as the Law-Eberly algorithm."
   ]
  },
  {
   "cell_type": "code",
   "execution_count": 15,
   "id": "042f12c3",
   "metadata": {},
   "outputs": [
    {
     "name": "stdout",
     "output_type": "stream",
     "text": [
      "Initial parameters: \n",
      " [[[-1.02469816 -3.56513646]\n",
      "  [ 5.84740194  0.93620132]]\n",
      "\n",
      " [[ 0.40496999 -1.82331528]\n",
      "  [ 4.81303274  1.66580299]]\n",
      "\n",
      " [[ 0.42474429 -3.8747916 ]\n",
      "  [ 4.45071507 -5.53624915]]\n",
      "\n",
      " [[ 1.8019134   6.20868141]\n",
      "  [ 1.28195345 -1.40346063]]\n",
      "\n",
      " [[-2.55463728  1.8038256 ]\n",
      "  [-0.97616704  5.45027624]]]\n"
     ]
    }
   ],
   "source": [
    "# TODO: see why if initial [paramaters are complex, adam fidelity is so bad and l-bfgs does error]\n",
    "import jax.random as random\n",
    "\n",
    "key = random.PRNGKey(0)  # Random seed for reproducibility\n",
    "num_gates = len(\n",
    "    [qubit_unitary, qubit_cavity_unitary]\n",
    ")  # Number of parameterized gates\n",
    "# doing a .tolist() will lead to weird shape if you multiply outside with 5 or sth\n",
    "# playing wiht the range will increase or decrease fidelity\n",
    "initial_parameters = random.uniform(\n",
    "    key, shape=(time_steps, num_gates, 2), minval=-2 * jnp.pi, maxval=2 * jnp.pi\n",
    ")\n",
    "print(f\"Initial parameters: \\n {initial_parameters}\")"
   ]
  },
  {
   "cell_type": "markdown",
   "id": "06364239",
   "metadata": {},
   "source": [
    "## Optimizing\n",
    "Currently l-bfgs with the same learning rate of 0.3 converges at a local minimum of 0.5, adam also converges at 0.5 but at smaller learning rates"
   ]
  },
  {
   "cell_type": "code",
   "execution_count": 16,
   "id": "90de4b86",
   "metadata": {},
   "outputs": [],
   "source": [
    "from feedback_grape.utils.fidelity import ket2dm\n",
    "result = optimize_pulse_parameterized(\n",
    "    U_0=psi0,\n",
    "    C_target=psi_target,\n",
    "    parameterized_gates=[qubit_unitary, qubit_cavity_unitary],\n",
    "    initial_parameters=initial_parameters,\n",
    "    num_time_steps=time_steps,\n",
    "    optimizer=\"adam\",\n",
    "    max_iter=1000,\n",
    "    convergence_threshold=1e-16,\n",
    "    type=\"state\",\n",
    "    propcomp=\"memory-efficient\",\n",
    "    learning_rate=0.1,\n",
    ")"
   ]
  },
  {
   "cell_type": "code",
   "execution_count": 17,
   "id": "9bc1407d",
   "metadata": {},
   "outputs": [
    {
     "data": {
      "text/plain": [
       "Array([[[-3.38945462, -5.29055896],\n",
       "        [ 7.59727681,  3.95166575]],\n",
       "\n",
       "       [[ 0.96442159, -2.98989872],\n",
       "        [ 6.76766776,  0.79128691]],\n",
       "\n",
       "       [[ 2.65251138, -1.68338586],\n",
       "        [ 4.04746537, -5.99906467]],\n",
       "\n",
       "       [[ 2.5490795 ,  5.74287501],\n",
       "        [ 1.9558422 , -1.72478531]],\n",
       "\n",
       "       [[-3.08320719, -0.60285763],\n",
       "        [ 1.37681839,  2.82382285]]], dtype=float64)"
      ]
     },
     "execution_count": 17,
     "metadata": {},
     "output_type": "execute_result"
    }
   ],
   "source": [
    "jnp.array(result.control_amplitudes)"
   ]
  },
  {
   "cell_type": "code",
   "execution_count": 18,
   "id": "8f01a9d9",
   "metadata": {},
   "outputs": [
    {
     "name": "stdout",
     "output_type": "stream",
     "text": [
      "[[-3.31007827e-09-4.13880272e-09j]\n",
      " [-9.69749680e-09-2.91289452e-08j]\n",
      " [-4.91438200e-02+7.05396972e-01j]\n",
      " [ 1.90257013e-08+1.48748850e-08j]\n",
      " [ 1.10956854e-08+2.38929704e-09j]\n",
      " [ 2.15830409e-10-4.11849521e-09j]\n",
      " [-4.91438021e-02+7.05396969e-01j]\n",
      " [ 3.56953959e-08+2.38083755e-10j]\n",
      " [-4.47670598e-10-3.23544002e-10j]\n",
      " [-1.41555124e-09+2.45399712e-09j]\n",
      " [ 0.00000000e+00+0.00000000e+00j]\n",
      " [ 1.01319253e-10+1.89350464e-10j]\n",
      " [ 0.00000000e+00+0.00000000e+00j]\n",
      " [ 0.00000000e+00+0.00000000e+00j]\n",
      " [ 0.00000000e+00+0.00000000e+00j]\n",
      " [ 0.00000000e+00+0.00000000e+00j]\n",
      " [ 0.00000000e+00+0.00000000e+00j]\n",
      " [ 0.00000000e+00+0.00000000e+00j]\n",
      " [ 0.00000000e+00+0.00000000e+00j]\n",
      " [ 0.00000000e+00+0.00000000e+00j]]\n"
     ]
    }
   ],
   "source": [
    "print(result.final_operator)"
   ]
  },
  {
   "cell_type": "code",
   "execution_count": 19,
   "id": "2107f9e7",
   "metadata": {},
   "outputs": [
    {
     "name": "stdout",
     "output_type": "stream",
     "text": [
      "result(control_amplitudes=Array([[[-3.38945462, -5.29055896],\n",
      "        [ 7.59727681,  3.95166575]],\n",
      "\n",
      "       [[ 0.96442159, -2.98989872],\n",
      "        [ 6.76766776,  0.79128691]],\n",
      "\n",
      "       [[ 2.65251138, -1.68338586],\n",
      "        [ 4.04746537, -5.99906467]],\n",
      "\n",
      "       [[ 2.5490795 ,  5.74287501],\n",
      "        [ 1.9558422 , -1.72478531]],\n",
      "\n",
      "       [[-3.08320719, -0.60285763],\n",
      "        [ 1.37681839,  2.82382285]]], dtype=float64), final_fidelity=Array(1., dtype=float64), iterations=390, final_operator=Array([[-3.31007827e-09-4.13880272e-09j],\n",
      "       [-9.69749680e-09-2.91289452e-08j],\n",
      "       [-4.91438200e-02+7.05396972e-01j],\n",
      "       [ 1.90257013e-08+1.48748850e-08j],\n",
      "       [ 1.10956854e-08+2.38929704e-09j],\n",
      "       [ 2.15830409e-10-4.11849521e-09j],\n",
      "       [-4.91438021e-02+7.05396969e-01j],\n",
      "       [ 3.56953959e-08+2.38083755e-10j],\n",
      "       [-4.47670598e-10-3.23544002e-10j],\n",
      "       [-1.41555124e-09+2.45399712e-09j],\n",
      "       [ 0.00000000e+00+0.00000000e+00j],\n",
      "       [ 1.01319253e-10+1.89350464e-10j],\n",
      "       [ 0.00000000e+00+0.00000000e+00j],\n",
      "       [ 0.00000000e+00+0.00000000e+00j],\n",
      "       [ 0.00000000e+00+0.00000000e+00j],\n",
      "       [ 0.00000000e+00+0.00000000e+00j],\n",
      "       [ 0.00000000e+00+0.00000000e+00j],\n",
      "       [ 0.00000000e+00+0.00000000e+00j],\n",
      "       [ 0.00000000e+00+0.00000000e+00j],\n",
      "       [ 0.00000000e+00+0.00000000e+00j]], dtype=complex128))\n"
     ]
    }
   ],
   "source": [
    "print(result)"
   ]
  },
  {
   "cell_type": "code",
   "execution_count": 20,
   "id": "f9f60940",
   "metadata": {},
   "outputs": [
    {
     "data": {
      "text/plain": [
       "Array(1., dtype=float64)"
      ]
     },
     "execution_count": 20,
     "metadata": {},
     "output_type": "execute_result"
    }
   ],
   "source": [
    "result.final_fidelity"
   ]
  },
  {
   "cell_type": "code",
   "execution_count": 21,
   "id": "7db3d27a",
   "metadata": {},
   "outputs": [
    {
     "name": "stdout",
     "output_type": "stream",
     "text": [
      "0.9999999999999971\n"
     ]
    }
   ],
   "source": [
    "from feedback_grape.grape_paramaterized import calculate_trajectory\n",
    "from feedback_grape.utils.fidelity import fidelity\n",
    "\n",
    "U_final = calculate_trajectory(\n",
    "    psi0,\n",
    "    result.control_amplitudes,\n",
    "    time_steps,\n",
    "    [qubit_unitary, qubit_cavity_unitary],\n",
    "    propcomp=\"memory-efficient\",\n",
    "    type=\"state\",\n",
    ")\n",
    "print(fidelity(C_target=psi_target, U_final=result.final_operator, type=\"state\"))"
   ]
  },
  {
   "cell_type": "code",
   "execution_count": null,
   "id": "624fd336",
   "metadata": {},
   "outputs": [],
   "source": []
  }
 ],
 "metadata": {
  "kernelspec": {
   "display_name": "Python 3",
   "language": "python",
   "name": "python3"
  },
  "language_info": {
   "codemirror_mode": {
    "name": "ipython",
    "version": 3
   },
   "file_extension": ".py",
   "mimetype": "text/x-python",
   "name": "python",
   "nbconvert_exporter": "python",
   "pygments_lexer": "ipython3",
   "version": "3.11.11"
  }
 },
 "nbformat": 4,
 "nbformat_minor": 5
}

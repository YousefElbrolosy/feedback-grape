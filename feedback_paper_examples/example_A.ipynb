{
 "cells": [
  {
   "cell_type": "markdown",
   "id": "c4fe2265",
   "metadata": {},
   "source": [
    "# A. State preparation with Jaynes-Cummings controls"
   ]
  },
  {
   "cell_type": "code",
   "execution_count": 1,
   "id": "dc37b46a",
   "metadata": {},
   "outputs": [],
   "source": [
    "# ruff: noqa\n",
    "import os\n",
    "\n",
    "os.sys.path.append(\"..\")\n",
    "from feedback_grape.fgrape import optimize_pulse_with_feedback\n",
    "from feedback_grape.utils.operators import (\n",
    "    sigmap,\n",
    "    sigmam,\n",
    "    create,\n",
    "    destroy,\n",
    "    identity,\n",
    ")\n",
    "from feedback_grape.utils.states import basis, fock\n",
    "from feedback_grape.utils.tensor import tensor\n",
    "import jax.numpy as jnp\n",
    "from jax.scipy.linalg import expm"
   ]
  },
  {
   "cell_type": "markdown",
   "id": "e1718760",
   "metadata": {},
   "source": [
    "As a preliminary step, we consider state preparation\n",
    "of a target state starting from a pure state. In addition,\n",
    "we assume that any coupling to an external environment\n",
    "is negligible and that the parametrized controls can be\n",
    "implemented perfectly."
   ]
  },
  {
   "cell_type": "markdown",
   "id": "5e382943",
   "metadata": {},
   "source": [
    "Here no feedback is required, we are just testing the parameterized gates setup."
   ]
  },
  {
   "cell_type": "markdown",
   "id": "202846e6",
   "metadata": {},
   "source": [
    "As a first example, we consider the state preparation\n",
    "of a cavity resonantly coupled to an externally driven\n",
    "qubit"
   ]
  },
  {
   "cell_type": "markdown",
   "id": "ec5307dc",
   "metadata": {},
   "source": [
    "Here, we consider a particular sequence of\n",
    "parametrized unitary gates originally introduced by Law\n",
    "and Eberly"
   ]
  },
  {
   "cell_type": "code",
   "execution_count": 2,
   "id": "3651226c",
   "metadata": {},
   "outputs": [],
   "source": [
    "N_cav = 30"
   ]
  },
  {
   "cell_type": "code",
   "execution_count": 3,
   "id": "b236c6a5",
   "metadata": {},
   "outputs": [],
   "source": [
    "def qubit_unitary(alpha_re, alpha_im):\n",
    "    alpha = alpha_re + 1j * alpha_im\n",
    "    return tensor(\n",
    "        identity(N_cav),\n",
    "        expm(-1j * (alpha * sigmap() + alpha.conjugate() * sigmam()) / 2),\n",
    "    )"
   ]
  },
  {
   "cell_type": "code",
   "execution_count": 4,
   "id": "ebb31077",
   "metadata": {},
   "outputs": [],
   "source": [
    "def qubit_cavity_unitary(beta_re):\n",
    "    beta = beta_re\n",
    "    return expm(\n",
    "        -1j\n",
    "        * (\n",
    "            beta * (tensor(destroy(N_cav), sigmap()))\n",
    "            + beta.conjugate() * (tensor(create(N_cav), sigmam()))\n",
    "        )\n",
    "        / 2\n",
    "    )"
   ]
  },
  {
   "cell_type": "code",
   "execution_count": 5,
   "id": "69ffdbf4",
   "metadata": {},
   "outputs": [],
   "source": [
    "# Uq = qubit_unitary(0.1, 0.1)\n",
    "# Uqc = qubit_cavity_unitary(0.2, 0.2)\n",
    "# print(\n",
    "#     \"Uq unitary check:\",\n",
    "#     jnp.allclose(Uq.conj().T @ Uq, jnp.eye(Uq.shape[0]), atol=1e-7),\n",
    "# )\n",
    "# print(\n",
    "#     \"Uqc unitary check:\",\n",
    "#     jnp.allclose(Uqc.conj().T @ Uqc, jnp.eye(Uqc.shape[0]), atol=1e-7),\n",
    "# )"
   ]
  },
  {
   "cell_type": "code",
   "execution_count": 6,
   "id": "883df30f",
   "metadata": {},
   "outputs": [],
   "source": [
    "# qubit_unitary(0.1, 0.1).shape"
   ]
  },
  {
   "cell_type": "code",
   "execution_count": 7,
   "id": "b8591e5c",
   "metadata": {},
   "outputs": [],
   "source": [
    "# qubit_unitary(0.1, 0.1)"
   ]
  },
  {
   "cell_type": "markdown",
   "id": "8b05cd63",
   "metadata": {},
   "source": [
    "In their groundbreaking work, Law and Eberly have\n",
    "shown that any arbitrary superposition of Fock states with\n",
    "maximal excitation number N can be prepared out of the\n",
    "ground state in a sequence of N such interleaved gates,\n",
    "also providing an algorithm to find the correct angles and\n",
    "interaction durations"
   ]
  },
  {
   "cell_type": "code",
   "execution_count": 8,
   "id": "c4020a7e",
   "metadata": {},
   "outputs": [],
   "source": [
    "# print(qubit_cavity_unitary(0.1, 0.1).shape)"
   ]
  },
  {
   "cell_type": "code",
   "execution_count": 9,
   "id": "172cff3e",
   "metadata": {},
   "outputs": [],
   "source": [
    "# qubit_cavity_unitary(0.1, 0.1)"
   ]
  },
  {
   "cell_type": "markdown",
   "id": "d1a6f411",
   "metadata": {},
   "source": [
    "## First target is the state $ | 1 ⟩ + | 3 ⟩ $ "
   ]
  },
  {
   "cell_type": "code",
   "execution_count": 10,
   "id": "45069deb",
   "metadata": {},
   "outputs": [],
   "source": [
    "# TODO: Why if time steps are less than 5 then it plateus at 0.5\n",
    "time_steps = 5  # corressponds to maximal excitation number of an arbitrary Fock State Superposition"
   ]
  },
  {
   "cell_type": "code",
   "execution_count": 11,
   "id": "e5746831",
   "metadata": {},
   "outputs": [],
   "source": [
    "psi0 = tensor(basis(N_cav), basis(2))\n",
    "psi0 = psi0 / jnp.linalg.norm(psi0)\n",
    "psi_target = tensor((fock(N_cav, 1) + fock(N_cav, 3)) / jnp.sqrt(2), basis(2))\n",
    "psi_target = psi_target / jnp.linalg.norm(psi_target)"
   ]
  },
  {
   "cell_type": "code",
   "execution_count": 12,
   "id": "860c7a66",
   "metadata": {},
   "outputs": [
    {
     "data": {
      "text/plain": [
       "(60, 1)"
      ]
     },
     "execution_count": 12,
     "metadata": {},
     "output_type": "execute_result"
    }
   ],
   "source": [
    "psi0.shape"
   ]
  },
  {
   "cell_type": "code",
   "execution_count": 13,
   "id": "c3fbbd04",
   "metadata": {},
   "outputs": [
    {
     "data": {
      "text/plain": [
       "(60, 1)"
      ]
     },
     "execution_count": 13,
     "metadata": {},
     "output_type": "execute_result"
    }
   ],
   "source": [
    "psi_target.shape"
   ]
  },
  {
   "cell_type": "code",
   "execution_count": 14,
   "id": "2e2e8ef3",
   "metadata": {},
   "outputs": [
    {
     "name": "stdout",
     "output_type": "stream",
     "text": [
      "[[0.+0.j]\n",
      " [1.+0.j]\n",
      " [0.+0.j]\n",
      " [0.+0.j]\n",
      " [0.+0.j]\n",
      " [0.+0.j]\n",
      " [0.+0.j]\n",
      " [0.+0.j]\n",
      " [0.+0.j]\n",
      " [0.+0.j]\n",
      " [0.+0.j]\n",
      " [0.+0.j]\n",
      " [0.+0.j]\n",
      " [0.+0.j]\n",
      " [0.+0.j]\n",
      " [0.+0.j]\n",
      " [0.+0.j]\n",
      " [0.+0.j]\n",
      " [0.+0.j]\n",
      " [0.+0.j]\n",
      " [0.+0.j]\n",
      " [0.+0.j]\n",
      " [0.+0.j]\n",
      " [0.+0.j]\n",
      " [0.+0.j]\n",
      " [0.+0.j]\n",
      " [0.+0.j]\n",
      " [0.+0.j]\n",
      " [0.+0.j]\n",
      " [0.+0.j]]\n"
     ]
    }
   ],
   "source": [
    "print(fock(N_cav, 1))"
   ]
  },
  {
   "cell_type": "markdown",
   "id": "104ff5f6",
   "metadata": {},
   "source": [
    "Law and Eberly provided an algorithm to determine the correct parameters for state preparation. These include:\n",
    "\n",
    "- The rotation angle $ |\\alpha| $,\n",
    "- The azimuthal angle $ \\arg\\left(\\frac{\\alpha}{|\\alpha|}\\right) $,\n",
    "- The interaction duration $ |\\beta| $. <br>\n",
    "\n",
    "So Goal is to find the best control vector (rather than control amplitudes, this time) that leads to finding the optimal state-preparation strategies. Performing as well as the Law-Eberly algorithm."
   ]
  },
  {
   "cell_type": "code",
   "execution_count": 15,
   "id": "042f12c3",
   "metadata": {},
   "outputs": [
    {
     "name": "stdout",
     "output_type": "stream",
     "text": [
      "Initial parameters: \n",
      " [[[1.0, 2.1], [0.1]], [[1.0, 2.1], [0.1]], [[1.0, 2.1], [0.1]], [[1.0, 2.1], [0.1]], [[1.0, 2.1], [0.1]]]\n"
     ]
    }
   ],
   "source": [
    "# Answer: see why if initial [paramaters are complex, adam fidelity is so bad and l-bfgs does error]\n",
    "# --> they only train real parameters, so we need to split the complex parameters into real and imaginary parts\n",
    "import jax.random as random\n",
    "\n",
    "key = random.PRNGKey(42)  # Random seed for reproducibility\n",
    "num_gates = len(\n",
    "    [qubit_unitary, qubit_cavity_unitary]\n",
    ")  # Number of parameterized gates\n",
    "# doing a .tolist() will lead to weird shape if you multiply outside with 5 or sth\n",
    "# playing wiht the range will increase or decrease fidelity\n",
    "initial_parameters = [[[1.0,2.1],[0.1]] for _ in range(time_steps)]  # Initial parameters for each gate\n",
    "\n",
    "print(f\"Initial parameters: \\n {initial_parameters}\")"
   ]
  },
  {
   "cell_type": "markdown",
   "id": "06364239",
   "metadata": {},
   "source": [
    "## Optimizing\n",
    "Currently l-bfgs with the same learning rate of 0.3 converges at a local minimum of 0.5, adam also converges at 0.5 but at smaller learning rates"
   ]
  },
  {
   "cell_type": "code",
   "execution_count": null,
   "id": "90de4b86",
   "metadata": {},
   "outputs": [
    {
     "ename": "ValueError",
     "evalue": "If you provide parameter constraints for some gates, you need to provide them for all gates.",
     "output_type": "error",
     "traceback": [
      "\u001b[31m---------------------------------------------------------------------------\u001b[39m",
      "\u001b[31mValueError\u001b[39m                                Traceback (most recent call last)",
      "\u001b[36mCell\u001b[39m\u001b[36m \u001b[39m\u001b[32mIn[16]\u001b[39m\u001b[32m, line 32\u001b[39m\n\u001b[32m     17\u001b[39m qub_cav = {\n\u001b[32m     18\u001b[39m     \u001b[33m\"\u001b[39m\u001b[33mgate\u001b[39m\u001b[33m\"\u001b[39m: qubit_cavity_unitary,\n\u001b[32m     19\u001b[39m     \u001b[33m\"\u001b[39m\u001b[33minitial_params\u001b[39m\u001b[33m\"\u001b[39m: jax.random.uniform(\n\u001b[32m   (...)\u001b[39m\u001b[32m     26\u001b[39m     \u001b[38;5;66;03m# \"param_constrains\": [[0, 0.5]],\u001b[39;00m\n\u001b[32m     27\u001b[39m }\n\u001b[32m     29\u001b[39m system_params = [qub_unitary, qub_cav]\n\u001b[32m---> \u001b[39m\u001b[32m32\u001b[39m result = \u001b[43moptimize_pulse_with_feedback\u001b[49m\u001b[43m(\u001b[49m\n\u001b[32m     33\u001b[39m \u001b[43m    \u001b[49m\u001b[43mU_0\u001b[49m\u001b[43m=\u001b[49m\u001b[43mket2dm\u001b[49m\u001b[43m(\u001b[49m\u001b[43mpsi0\u001b[49m\u001b[43m)\u001b[49m\u001b[43m,\u001b[49m\n\u001b[32m     34\u001b[39m \u001b[43m    \u001b[49m\u001b[43mC_target\u001b[49m\u001b[43m=\u001b[49m\u001b[43mket2dm\u001b[49m\u001b[43m(\u001b[49m\u001b[43mpsi_target\u001b[49m\u001b[43m)\u001b[49m\u001b[43m,\u001b[49m\n\u001b[32m     35\u001b[39m \u001b[43m    \u001b[49m\u001b[43msystem_params\u001b[49m\u001b[43m=\u001b[49m\u001b[43msystem_params\u001b[49m\u001b[43m,\u001b[49m\n\u001b[32m     36\u001b[39m \u001b[43m    \u001b[49m\u001b[43mnum_time_steps\u001b[49m\u001b[43m=\u001b[49m\u001b[43mtime_steps\u001b[49m\u001b[43m,\u001b[49m\n\u001b[32m     37\u001b[39m \u001b[43m    \u001b[49m\u001b[43mmax_iter\u001b[49m\u001b[43m=\u001b[49m\u001b[32;43m1000\u001b[39;49m\u001b[43m,\u001b[49m\n\u001b[32m     38\u001b[39m \u001b[43m    \u001b[49m\u001b[43mconvergence_threshold\u001b[49m\u001b[43m=\u001b[49m\u001b[32;43m1e-16\u001b[39;49m\u001b[43m,\u001b[49m\n\u001b[32m     39\u001b[39m \u001b[43m    \u001b[49m\u001b[38;5;28;43mtype\u001b[39;49m\u001b[43m=\u001b[49m\u001b[33;43m\"\u001b[39;49m\u001b[33;43mdensity\u001b[39;49m\u001b[33;43m\"\u001b[39;49m\u001b[43m,\u001b[49m\n\u001b[32m     40\u001b[39m \u001b[43m    \u001b[49m\u001b[43mmode\u001b[49m\u001b[43m=\u001b[49m\u001b[33;43m\"\u001b[39;49m\u001b[33;43mno-measurement\u001b[39;49m\u001b[33;43m\"\u001b[39;49m\u001b[43m,\u001b[49m\n\u001b[32m     41\u001b[39m \u001b[43m    \u001b[49m\u001b[38;5;66;43;03m# decay={\u001b[39;49;00m\n\u001b[32m     42\u001b[39m \u001b[43m    \u001b[49m\u001b[38;5;66;43;03m#     \"decay_indices\": [0],  # indices of gates before which decay occurs\u001b[39;49;00m\n\u001b[32m     43\u001b[39m \u001b[43m    \u001b[49m\u001b[38;5;66;43;03m#     # c_ops need to be tensored with the identity operator for the cavity\u001b[39;49;00m\n\u001b[32m     44\u001b[39m \u001b[43m    \u001b[49m\u001b[38;5;66;43;03m#     # because it is used directly in the lindblad equation\u001b[39;49;00m\n\u001b[32m     45\u001b[39m \u001b[43m    \u001b[49m\u001b[38;5;66;43;03m#     \"c_ops\": {\u001b[39;49;00m\n\u001b[32m     46\u001b[39m \u001b[43m    \u001b[49m\u001b[38;5;66;43;03m#         # weird behavior when gamma is 0.00\u001b[39;49;00m\n\u001b[32m     47\u001b[39m \u001b[43m    \u001b[49m\u001b[38;5;66;43;03m#         \"tm\": [tensor(identity(N_cav), jnp.sqrt(0.15) * sigmam())],\u001b[39;49;00m\n\u001b[32m     48\u001b[39m \u001b[43m    \u001b[49m\u001b[38;5;66;43;03m#         # \"tc\": [tensor(identity(N_cav), jnp.sqrt(0.15) * sigmap())],\u001b[39;49;00m\n\u001b[32m     49\u001b[39m \u001b[43m    \u001b[49m\u001b[38;5;66;43;03m#     },  # c_ops for each decay index\u001b[39;49;00m\n\u001b[32m     50\u001b[39m \u001b[43m    \u001b[49m\u001b[38;5;66;43;03m#     \"tsave\": jnp.linspace(0, 1, 2),  # time grid for decay\u001b[39;49;00m\n\u001b[32m     51\u001b[39m \u001b[43m    \u001b[49m\u001b[38;5;66;43;03m#     \"Hamiltonian\": None,\u001b[39;49;00m\n\u001b[32m     52\u001b[39m \u001b[43m    \u001b[49m\u001b[38;5;66;43;03m# },\u001b[39;49;00m\n\u001b[32m     53\u001b[39m \u001b[43m    \u001b[49m\u001b[43mgoal\u001b[49m\u001b[43m=\u001b[49m\u001b[33;43m\"\u001b[39;49m\u001b[33;43mfidelity\u001b[39;49m\u001b[33;43m\"\u001b[39;49m\u001b[43m,\u001b[49m\n\u001b[32m     54\u001b[39m \u001b[43m    \u001b[49m\u001b[43mlearning_rate\u001b[49m\u001b[43m=\u001b[49m\u001b[32;43m0.02\u001b[39;49m\u001b[43m,\u001b[49m\n\u001b[32m     55\u001b[39m \u001b[43m    \u001b[49m\u001b[43mbatch_size\u001b[49m\u001b[43m=\u001b[49m\u001b[32;43m10\u001b[39;49m\u001b[43m,\u001b[49m\n\u001b[32m     56\u001b[39m \u001b[43m    \u001b[49m\u001b[43meval_batch_size\u001b[49m\u001b[43m=\u001b[49m\u001b[32;43m2\u001b[39;49m\u001b[43m,\u001b[49m\n\u001b[32m     57\u001b[39m \u001b[43m)\u001b[49m\n",
      "\u001b[36mFile \u001b[39m\u001b[32m~/Documents/dev/FeedBack-GRAPE/feedback_paper_examples/../feedback_grape/fgrape.py:444\u001b[39m, in \u001b[36moptimize_pulse_with_feedback\u001b[39m\u001b[34m(U_0, C_target, system_params, num_time_steps, max_iter, convergence_threshold, learning_rate, type, lookup_min_init_value, lookup_max_init_value, goal, batch_size, eval_batch_size, mode, decay, rnn, rnn_hidden_size)\u001b[39m\n\u001b[32m    431\u001b[39m \u001b[38;5;28;01mif\u001b[39;00m (\n\u001b[32m    432\u001b[39m     goal \u001b[38;5;129;01min\u001b[39;00m [\u001b[33m\"\u001b[39m\u001b[33mfidelity\u001b[39m\u001b[33m\"\u001b[39m, \u001b[33m\"\u001b[39m\u001b[33mboth\u001b[39m\u001b[33m\"\u001b[39m]\n\u001b[32m    433\u001b[39m     \u001b[38;5;129;01mand\u001b[39;00m \u001b[38;5;28mtype\u001b[39m == \u001b[33m\"\u001b[39m\u001b[33mdensity\u001b[39m\u001b[33m\"\u001b[39m\n\u001b[32m   (...)\u001b[39m\u001b[32m    437\u001b[39m     )\n\u001b[32m    438\u001b[39m ):\n\u001b[32m    439\u001b[39m     \u001b[38;5;28;01mraise\u001b[39;00m \u001b[38;5;167;01mTypeError\u001b[39;00m(\n\u001b[32m    440\u001b[39m         \u001b[33m'\u001b[39m\u001b[33mYour initial and target rhos must be positive semi-definite.\u001b[39m\u001b[33m'\u001b[39m\n\u001b[32m    441\u001b[39m     )\n\u001b[32m--> \u001b[39m\u001b[32m444\u001b[39m initial_params, parameterized_gates, measurement_indices, param_constrains = \u001b[43mconvert_system_params\u001b[49m\u001b[43m(\u001b[49m\n\u001b[32m    445\u001b[39m \u001b[43m    \u001b[49m\u001b[43msystem_params\u001b[49m\n\u001b[32m    446\u001b[39m \u001b[43m\u001b[49m\u001b[43m)\u001b[49m\n\u001b[32m    449\u001b[39m parent_rng_key = jax.random.PRNGKey(\u001b[32m0\u001b[39m)\n\u001b[32m    450\u001b[39m key, sub_key = jax.random.split(parent_rng_key)\n",
      "\u001b[36mFile \u001b[39m\u001b[32m~/Documents/dev/FeedBack-GRAPE/feedback_paper_examples/../feedback_grape/fgrape_helpers.py:154\u001b[39m, in \u001b[36mconvert_system_params\u001b[39m\u001b[34m(system_params)\u001b[39m\n\u001b[32m    151\u001b[39m         param_constrains.append(gate_config.get(\u001b[33m\"\u001b[39m\u001b[33mparam_constrains\u001b[39m\u001b[33m\"\u001b[39m, \u001b[38;5;28;01mNone\u001b[39;00m))\n\u001b[32m    153\u001b[39m     \u001b[38;5;28;01mif\u001b[39;00m \u001b[38;5;28mlen\u001b[39m(param_constrains) != \u001b[38;5;28mlen\u001b[39m(parameterized_gates):\n\u001b[32m--> \u001b[39m\u001b[32m154\u001b[39m         \u001b[38;5;28;01mraise\u001b[39;00m \u001b[38;5;167;01mValueError\u001b[39;00m(\u001b[33m\"\u001b[39m\u001b[33mIf you provide parameter constraints for some gates, you need to provide them for all gates.\u001b[39m\u001b[33m\"\u001b[39m)\n\u001b[32m    156\u001b[39m \u001b[38;5;28;01mreturn\u001b[39;00m initial_params, parameterized_gates, measurement_indices, param_constrains\n",
      "\u001b[31mValueError\u001b[39m: If you provide parameter constraints for some gates, you need to provide them for all gates."
     ]
    }
   ],
   "source": [
    "from feedback_grape.utils.fidelity import ket2dm\n",
    "import jax\n",
    "key = jax.random.PRNGKey(42)\n",
    "\n",
    "qub_unitary = {\n",
    "    \"gate\": qubit_unitary,\n",
    "    \"initial_params\": jax.random.uniform(\n",
    "        key,\n",
    "        shape=(1, 2),  # 2 for gamma and delta\n",
    "        minval=-jnp.pi,\n",
    "        maxval=jnp.pi,\n",
    "    )[0].tolist(),\n",
    "    \"measurement_flag\": False,\n",
    "    \"param_constrains\": [[0, 0.5], [-1, 1]],\n",
    "}\n",
    "\n",
    "qub_cav = {\n",
    "    \"gate\": qubit_cavity_unitary,\n",
    "    \"initial_params\": jax.random.uniform(\n",
    "        key,\n",
    "        shape=(1, 1),  # 2 for gamma and delta\n",
    "        minval=-jnp.pi,\n",
    "        maxval=jnp.pi,\n",
    "    )[0].tolist(),\n",
    "    \"measurement_flag\": False,\n",
    "    \"param_constrains\": [[0, 0.5]],\n",
    "}\n",
    "\n",
    "system_params = [qub_unitary, qub_cav]\n",
    "\n",
    "\n",
    "result = optimize_pulse_with_feedback(\n",
    "    U_0=ket2dm(psi0),\n",
    "    C_target=ket2dm(psi_target),\n",
    "    system_params=system_params,\n",
    "    num_time_steps=time_steps,\n",
    "    max_iter=1000,\n",
    "    convergence_threshold=1e-16,\n",
    "    type=\"density\",\n",
    "    mode=\"no-measurement\",\n",
    "    # decay={\n",
    "    #     \"decay_indices\": [0],  # indices of gates before which decay occurs\n",
    "    #     # c_ops need to be tensored with the identity operator for the cavity\n",
    "    #     # because it is used directly in the lindblad equation\n",
    "    #     \"c_ops\": {\n",
    "    #         # weird behavior when gamma is 0.00\n",
    "    #         \"tm\": [tensor(identity(N_cav), jnp.sqrt(0.15) * sigmam())],\n",
    "    #         # \"tc\": [tensor(identity(N_cav), jnp.sqrt(0.15) * sigmap())],\n",
    "    #     },  # c_ops for each decay index\n",
    "    #     \"tsave\": jnp.linspace(0, 1, 2),  # time grid for decay\n",
    "    #     \"Hamiltonian\": None,\n",
    "    # },\n",
    "    goal=\"fidelity\",\n",
    "    learning_rate=0.02,\n",
    "    batch_size=10,\n",
    "    eval_batch_size=2,\n",
    ")"
   ]
  },
  {
   "cell_type": "code",
   "execution_count": null,
   "id": "d863b079",
   "metadata": {},
   "outputs": [
    {
     "data": {
      "text/plain": [
       "5"
      ]
     },
     "execution_count": 17,
     "metadata": {},
     "output_type": "execute_result"
    }
   ],
   "source": [
    "len(result.returned_params)"
   ]
  },
  {
   "cell_type": "code",
   "execution_count": null,
   "id": "9bc1407d",
   "metadata": {},
   "outputs": [
    {
     "data": {
      "text/plain": [
       "[[Array([[ 0.90861841, -6.21714015],\n",
       "         [ 0.90861841, -6.21714015]], dtype=float64),\n",
       "  Array([[-3.56962488],\n",
       "         [-3.56962488]], dtype=float64)],\n",
       " [Array([[-1.59090615e-06,  3.14159262e+00],\n",
       "         [-1.59090615e-06,  3.14159262e+00]], dtype=float64),\n",
       "  Array([[2.77362683],\n",
       "         [2.77362683]], dtype=float64)],\n",
       " [Array([[3.14159265e+00, 6.01376749e-07],\n",
       "         [3.14159265e+00, 6.01376749e-07]], dtype=float64),\n",
       "  Array([[-1.48828577],\n",
       "         [-1.48828577]], dtype=float64)],\n",
       " [Array([[1.48767291, 6.10452689],\n",
       "         [1.48767291, 6.10452689]], dtype=float64),\n",
       "  Array([[2.52600011],\n",
       "         [2.52600011]], dtype=float64)],\n",
       " [Array([[ 2.48162667e-07, -3.14159279e+00],\n",
       "         [ 2.48162667e-07, -3.14159279e+00]], dtype=float64),\n",
       "  Array([[3.14159256],\n",
       "         [3.14159256]], dtype=float64)]]"
      ]
     },
     "execution_count": 18,
     "metadata": {},
     "output_type": "execute_result"
    }
   ],
   "source": [
    "result.returned_params"
   ]
  },
  {
   "cell_type": "code",
   "execution_count": null,
   "id": "8f01a9d9",
   "metadata": {},
   "outputs": [
    {
     "name": "stdout",
     "output_type": "stream",
     "text": [
      "[[[ 1.38779799e-16-4.46897775e-32j -3.85622920e-16+1.36123412e-15j\n",
      "   -4.22559145e-09+7.17873750e-09j ...  0.00000000e+00+0.00000000e+00j\n",
      "    0.00000000e+00+0.00000000e+00j  0.00000000e+00+0.00000000e+00j]\n",
      "  [-3.85622918e-16-1.36123412e-15j  1.44132417e-14-2.92357670e-32j\n",
      "    8.21548050e-08+2.14997683e-08j ...  0.00000000e+00+0.00000000e+00j\n",
      "    0.00000000e+00+0.00000000e+00j  0.00000000e+00+0.00000000e+00j]\n",
      "  [-4.22559145e-09-7.17873750e-09j  8.21548050e-08-2.14997683e-08j\n",
      "    4.99999969e-01+1.32348898e-23j ...  0.00000000e+00+0.00000000e+00j\n",
      "    0.00000000e+00+0.00000000e+00j  0.00000000e+00+0.00000000e+00j]\n",
      "  ...\n",
      "  [ 0.00000000e+00+0.00000000e+00j  0.00000000e+00+0.00000000e+00j\n",
      "    0.00000000e+00+0.00000000e+00j ...  0.00000000e+00+0.00000000e+00j\n",
      "    0.00000000e+00+0.00000000e+00j  0.00000000e+00+0.00000000e+00j]\n",
      "  [ 0.00000000e+00+0.00000000e+00j  0.00000000e+00+0.00000000e+00j\n",
      "    0.00000000e+00+0.00000000e+00j ...  0.00000000e+00+0.00000000e+00j\n",
      "    0.00000000e+00+0.00000000e+00j  0.00000000e+00+0.00000000e+00j]\n",
      "  [ 0.00000000e+00+0.00000000e+00j  0.00000000e+00+0.00000000e+00j\n",
      "    0.00000000e+00+0.00000000e+00j ...  0.00000000e+00+0.00000000e+00j\n",
      "    0.00000000e+00+0.00000000e+00j  0.00000000e+00+0.00000000e+00j]]\n",
      "\n",
      " [[ 1.38779799e-16-4.46897775e-32j -3.85622920e-16+1.36123412e-15j\n",
      "   -4.22559145e-09+7.17873750e-09j ...  0.00000000e+00+0.00000000e+00j\n",
      "    0.00000000e+00+0.00000000e+00j  0.00000000e+00+0.00000000e+00j]\n",
      "  [-3.85622918e-16-1.36123412e-15j  1.44132417e-14-2.92357670e-32j\n",
      "    8.21548050e-08+2.14997683e-08j ...  0.00000000e+00+0.00000000e+00j\n",
      "    0.00000000e+00+0.00000000e+00j  0.00000000e+00+0.00000000e+00j]\n",
      "  [-4.22559145e-09-7.17873750e-09j  8.21548050e-08-2.14997683e-08j\n",
      "    4.99999969e-01+1.32348898e-23j ...  0.00000000e+00+0.00000000e+00j\n",
      "    0.00000000e+00+0.00000000e+00j  0.00000000e+00+0.00000000e+00j]\n",
      "  ...\n",
      "  [ 0.00000000e+00+0.00000000e+00j  0.00000000e+00+0.00000000e+00j\n",
      "    0.00000000e+00+0.00000000e+00j ...  0.00000000e+00+0.00000000e+00j\n",
      "    0.00000000e+00+0.00000000e+00j  0.00000000e+00+0.00000000e+00j]\n",
      "  [ 0.00000000e+00+0.00000000e+00j  0.00000000e+00+0.00000000e+00j\n",
      "    0.00000000e+00+0.00000000e+00j ...  0.00000000e+00+0.00000000e+00j\n",
      "    0.00000000e+00+0.00000000e+00j  0.00000000e+00+0.00000000e+00j]\n",
      "  [ 0.00000000e+00+0.00000000e+00j  0.00000000e+00+0.00000000e+00j\n",
      "    0.00000000e+00+0.00000000e+00j ...  0.00000000e+00+0.00000000e+00j\n",
      "    0.00000000e+00+0.00000000e+00j  0.00000000e+00+0.00000000e+00j]]]\n"
     ]
    }
   ],
   "source": [
    "print(result.final_state)"
   ]
  },
  {
   "cell_type": "code",
   "execution_count": null,
   "id": "2107f9e7",
   "metadata": {},
   "outputs": [
    {
     "name": "stdout",
     "output_type": "stream",
     "text": [
      "FgResult(optimized_trainable_parameters=[[Array([ 0.90861841, -6.21714015], dtype=float64), Array([-3.56962488], dtype=float64)], [Array([-1.59090615e-06,  3.14159262e+00], dtype=float64), Array([2.77362683], dtype=float64)], [Array([3.14159265e+00, 6.01376749e-07], dtype=float64), Array([-1.48828577], dtype=float64)], [Array([1.48767291, 6.10452689], dtype=float64), Array([2.52600011], dtype=float64)], [Array([ 2.48162667e-07, -3.14159279e+00], dtype=float64), Array([3.14159256], dtype=float64)]], iterations=627, final_state=Array([[[ 1.38779799e-16-4.46897775e-32j,\n",
      "         -3.85622920e-16+1.36123412e-15j,\n",
      "         -4.22559145e-09+7.17873750e-09j, ...,\n",
      "          0.00000000e+00+0.00000000e+00j,\n",
      "          0.00000000e+00+0.00000000e+00j,\n",
      "          0.00000000e+00+0.00000000e+00j],\n",
      "        [-3.85622918e-16-1.36123412e-15j,\n",
      "          1.44132417e-14-2.92357670e-32j,\n",
      "          8.21548050e-08+2.14997683e-08j, ...,\n",
      "          0.00000000e+00+0.00000000e+00j,\n",
      "          0.00000000e+00+0.00000000e+00j,\n",
      "          0.00000000e+00+0.00000000e+00j],\n",
      "        [-4.22559145e-09-7.17873750e-09j,\n",
      "          8.21548050e-08-2.14997683e-08j,\n",
      "          4.99999969e-01+1.32348898e-23j, ...,\n",
      "          0.00000000e+00+0.00000000e+00j,\n",
      "          0.00000000e+00+0.00000000e+00j,\n",
      "          0.00000000e+00+0.00000000e+00j],\n",
      "        ...,\n",
      "        [ 0.00000000e+00+0.00000000e+00j,\n",
      "          0.00000000e+00+0.00000000e+00j,\n",
      "          0.00000000e+00+0.00000000e+00j, ...,\n",
      "          0.00000000e+00+0.00000000e+00j,\n",
      "          0.00000000e+00+0.00000000e+00j,\n",
      "          0.00000000e+00+0.00000000e+00j],\n",
      "        [ 0.00000000e+00+0.00000000e+00j,\n",
      "          0.00000000e+00+0.00000000e+00j,\n",
      "          0.00000000e+00+0.00000000e+00j, ...,\n",
      "          0.00000000e+00+0.00000000e+00j,\n",
      "          0.00000000e+00+0.00000000e+00j,\n",
      "          0.00000000e+00+0.00000000e+00j],\n",
      "        [ 0.00000000e+00+0.00000000e+00j,\n",
      "          0.00000000e+00+0.00000000e+00j,\n",
      "          0.00000000e+00+0.00000000e+00j, ...,\n",
      "          0.00000000e+00+0.00000000e+00j,\n",
      "          0.00000000e+00+0.00000000e+00j,\n",
      "          0.00000000e+00+0.00000000e+00j]],\n",
      "\n",
      "       [[ 1.38779799e-16-4.46897775e-32j,\n",
      "         -3.85622920e-16+1.36123412e-15j,\n",
      "         -4.22559145e-09+7.17873750e-09j, ...,\n",
      "          0.00000000e+00+0.00000000e+00j,\n",
      "          0.00000000e+00+0.00000000e+00j,\n",
      "          0.00000000e+00+0.00000000e+00j],\n",
      "        [-3.85622918e-16-1.36123412e-15j,\n",
      "          1.44132417e-14-2.92357670e-32j,\n",
      "          8.21548050e-08+2.14997683e-08j, ...,\n",
      "          0.00000000e+00+0.00000000e+00j,\n",
      "          0.00000000e+00+0.00000000e+00j,\n",
      "          0.00000000e+00+0.00000000e+00j],\n",
      "        [-4.22559145e-09-7.17873750e-09j,\n",
      "          8.21548050e-08-2.14997683e-08j,\n",
      "          4.99999969e-01+1.32348898e-23j, ...,\n",
      "          0.00000000e+00+0.00000000e+00j,\n",
      "          0.00000000e+00+0.00000000e+00j,\n",
      "          0.00000000e+00+0.00000000e+00j],\n",
      "        ...,\n",
      "        [ 0.00000000e+00+0.00000000e+00j,\n",
      "          0.00000000e+00+0.00000000e+00j,\n",
      "          0.00000000e+00+0.00000000e+00j, ...,\n",
      "          0.00000000e+00+0.00000000e+00j,\n",
      "          0.00000000e+00+0.00000000e+00j,\n",
      "          0.00000000e+00+0.00000000e+00j],\n",
      "        [ 0.00000000e+00+0.00000000e+00j,\n",
      "          0.00000000e+00+0.00000000e+00j,\n",
      "          0.00000000e+00+0.00000000e+00j, ...,\n",
      "          0.00000000e+00+0.00000000e+00j,\n",
      "          0.00000000e+00+0.00000000e+00j,\n",
      "          0.00000000e+00+0.00000000e+00j],\n",
      "        [ 0.00000000e+00+0.00000000e+00j,\n",
      "          0.00000000e+00+0.00000000e+00j,\n",
      "          0.00000000e+00+0.00000000e+00j, ...,\n",
      "          0.00000000e+00+0.00000000e+00j,\n",
      "          0.00000000e+00+0.00000000e+00j,\n",
      "          0.00000000e+00+0.00000000e+00j]]], dtype=complex128), returned_params=[[Array([[ 0.90861841, -6.21714015],\n",
      "       [ 0.90861841, -6.21714015]], dtype=float64), Array([[-3.56962488],\n",
      "       [-3.56962488]], dtype=float64)], [Array([[-1.59090615e-06,  3.14159262e+00],\n",
      "       [-1.59090615e-06,  3.14159262e+00]], dtype=float64), Array([[2.77362683],\n",
      "       [2.77362683]], dtype=float64)], [Array([[3.14159265e+00, 6.01376749e-07],\n",
      "       [3.14159265e+00, 6.01376749e-07]], dtype=float64), Array([[-1.48828577],\n",
      "       [-1.48828577]], dtype=float64)], [Array([[1.48767291, 6.10452689],\n",
      "       [1.48767291, 6.10452689]], dtype=float64), Array([[2.52600011],\n",
      "       [2.52600011]], dtype=float64)], [Array([[ 2.48162667e-07, -3.14159279e+00],\n",
      "       [ 2.48162667e-07, -3.14159279e+00]], dtype=float64), Array([[3.14159256],\n",
      "       [3.14159256]], dtype=float64)]], final_purity=None, final_fidelity=Array(1., dtype=float64))\n"
     ]
    }
   ],
   "source": [
    "print(result)"
   ]
  },
  {
   "cell_type": "code",
   "execution_count": null,
   "id": "f9f60940",
   "metadata": {},
   "outputs": [
    {
     "data": {
      "text/plain": [
       "Array(1., dtype=float64)"
      ]
     },
     "execution_count": 21,
     "metadata": {},
     "output_type": "execute_result"
    }
   ],
   "source": [
    "result.final_fidelity"
   ]
  },
  {
   "cell_type": "code",
   "execution_count": null,
   "id": "fab24025",
   "metadata": {},
   "outputs": [],
   "source": [
    "from feedback_grape.fgrape_helpers import prepare_parameters_from_dict\n",
    "def get_trainable_parameters(initial_parameters, param_constrains, num_time_steps, rng_key):\n",
    "    trainable_params = []\n",
    "    flat_params ,_ = prepare_parameters_from_dict(initial_parameters)\n",
    "    trainable_params.append(flat_params)\n",
    "    for i in range(num_time_steps - 1):\n",
    "        gate_params_list = []\n",
    "        if param_constrains != []:\n",
    "            for gate_params, gate_constraints in zip(flat_params, param_constrains):\n",
    "                sampled_params = []\n",
    "                for var_bounds in gate_constraints:\n",
    "                    rng_key, subkey = jax.random.split(rng_key)\n",
    "                    var = jax.random.uniform(\n",
    "                        subkey,\n",
    "                        shape=(),\n",
    "                        minval=var_bounds[0],\n",
    "                        maxval=var_bounds[1],\n",
    "                    )\n",
    "                    sampled_params.append(var)\n",
    "                gate_params_list.append(jnp.array(sampled_params))\n",
    "        else:\n",
    "            for gate_params in flat_params:\n",
    "                sampled_params = []\n",
    "                for _ in range(gate_params.shape[0]):\n",
    "                    rng_key, subkey = jax.random.split(rng_key)\n",
    "                    var = jax.random.uniform(\n",
    "                        subkey,\n",
    "                        shape=(),\n",
    "                        minval=-jnp.pi,\n",
    "                        maxval=jnp.pi,\n",
    "                    )\n",
    "                    sampled_params.append(var)\n",
    "                gate_params_list.append(jnp.array(sampled_params))\n",
    "        trainable_params.append(gate_params_list)\n",
    "\n",
    "    return trainable_params\n"
   ]
  },
  {
   "cell_type": "code",
   "execution_count": null,
   "id": "624fd336",
   "metadata": {},
   "outputs": [],
   "source": [
    "initial_params = {\n",
    "    \"qubit_unitary\": [0.1, 0.1],\n",
    "    \"qubit_cavity_unitary\": [0.2, 0.2],\n",
    "}\n",
    "# param_constrains = [[[0, 0.5], [0.5, 1.0]], [[1.0, 1.5], [1.5, 2.0]]]\n",
    "param_constrains = []\n",
    "num_time_steps = 3\n",
    "key_1 = random.PRNGKey(42)\n",
    "\n",
    "\n",
    "trainable_params = get_trainable_parameters(initial_params, param_constrains, num_time_steps, key_1)\n"
   ]
  },
  {
   "cell_type": "code",
   "execution_count": null,
   "id": "0233b919",
   "metadata": {},
   "outputs": [
    {
     "name": "stdout",
     "output_type": "stream",
     "text": [
      "[[Array([0.1, 0.1], dtype=float64), Array([0.2, 0.2], dtype=float64)],\n",
      " [Array([1.52127861, 0.99764266], dtype=float64),\n",
      "  Array([1.17781588, 2.76860586], dtype=float64)],\n",
      " [Array([-0.05248534,  0.79283613], dtype=float64),\n",
      "  Array([-1.34523035,  2.7576985 ], dtype=float64)]]\n"
     ]
    }
   ],
   "source": [
    "from pprint import pprint\n",
    "pprint(trainable_params)"
   ]
  },
  {
   "cell_type": "code",
   "execution_count": null,
   "id": "70f9cf86",
   "metadata": {},
   "outputs": [],
   "source": []
  }
 ],
 "metadata": {
  "kernelspec": {
   "display_name": "Python 3",
   "language": "python",
   "name": "python3"
  },
  "language_info": {
   "codemirror_mode": {
    "name": "ipython",
    "version": 3
   },
   "file_extension": ".py",
   "mimetype": "text/x-python",
   "name": "python",
   "nbconvert_exporter": "python",
   "pygments_lexer": "ipython3",
   "version": "3.11.11"
  }
 },
 "nbformat": 4,
 "nbformat_minor": 5
}

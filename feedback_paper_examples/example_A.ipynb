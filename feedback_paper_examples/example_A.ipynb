{
 "cells": [
  {
   "cell_type": "markdown",
   "id": "c4fe2265",
   "metadata": {},
   "source": [
    "# A. State preparation with Jaynes-Cummings controls"
   ]
  },
  {
   "cell_type": "code",
   "execution_count": 1,
   "id": "dc37b46a",
   "metadata": {},
   "outputs": [],
   "source": [
    "# ruff: noqa\n",
    "import os\n",
    "\n",
    "os.sys.path.append(\"..\")\n",
    "from feedback_grape.grape_paramaterized import optimize_pulse_parameterized\n",
    "from feedback_grape.utils.operators import (\n",
    "    sigmap,\n",
    "    sigmam,\n",
    "    create,\n",
    "    destroy,\n",
    "    identity,\n",
    ")\n",
    "from feedback_grape.utils.states import basis, fock\n",
    "from feedback_grape.utils.tensor import tensor\n",
    "import jax.numpy as jnp\n",
    "from jax.scipy.linalg import expm"
   ]
  },
  {
   "cell_type": "markdown",
   "id": "e1718760",
   "metadata": {},
   "source": [
    "As a preliminary step, we consider state preparation\n",
    "of a target state starting from a pure state. In addition,\n",
    "we assume that any coupling to an external environment\n",
    "is negligible and that the parametrized controls can be\n",
    "implemented perfectly."
   ]
  },
  {
   "cell_type": "markdown",
   "id": "5e382943",
   "metadata": {},
   "source": [
    "Here no feedback is required, we are just testing the parameterized gates setup."
   ]
  },
  {
   "cell_type": "markdown",
   "id": "202846e6",
   "metadata": {},
   "source": [
    "As a first example, we consider the state preparation\n",
    "of a cavity resonantly coupled to an externally driven\n",
    "qubit"
   ]
  },
  {
   "cell_type": "markdown",
   "id": "ec5307dc",
   "metadata": {},
   "source": [
    "Here, we consider a particular sequence of\n",
    "parametrized unitary gates originally introduced by Law\n",
    "and Eberly"
   ]
  },
  {
   "cell_type": "code",
   "execution_count": 2,
   "id": "3651226c",
   "metadata": {},
   "outputs": [],
   "source": [
    "N_cav = 4"
   ]
  },
  {
   "cell_type": "code",
   "execution_count": 3,
   "id": "b236c6a5",
   "metadata": {},
   "outputs": [],
   "source": [
    "def qubit_unitary(alpha):\n",
    "    \"\"\"\n",
    "    TODO: see if alpha, can be sth elser other than scalar, and if the algo understands this\n",
    "    see if there can be multiple params like alpha and beta input\n",
    "    \"\"\"\n",
    "    return expm(\n",
    "        -1j\n",
    "        * (\n",
    "            alpha * tensor(identity(N_cav), sigmap())\n",
    "            + alpha.conjugate() * tensor(identity(N_cav), sigmam())\n",
    "        )\n",
    "        / 2\n",
    "    )"
   ]
  },
  {
   "cell_type": "code",
   "execution_count": 4,
   "id": "ebb31077",
   "metadata": {},
   "outputs": [],
   "source": [
    "def qubit_cavity_unitary(beta):\n",
    "    return expm(\n",
    "        -1j\n",
    "        * (\n",
    "            beta\n",
    "            * (\n",
    "                tensor(destroy(N_cav), identity(2))\n",
    "                @ tensor(identity(N_cav), sigmap())\n",
    "            )\n",
    "            + beta.conjugate()\n",
    "            * (\n",
    "                tensor(create(N_cav), identity(2))\n",
    "                @ tensor(identity(N_cav), sigmam())\n",
    "            )\n",
    "        )\n",
    "        / 2\n",
    "    )"
   ]
  },
  {
   "cell_type": "code",
   "execution_count": 5,
   "id": "69ffdbf4",
   "metadata": {},
   "outputs": [
    {
     "name": "stdout",
     "output_type": "stream",
     "text": [
      "Uq unitary check: True\n",
      "Uqc unitary check: True\n"
     ]
    }
   ],
   "source": [
    "alpha = 0.1 + 0.1j\n",
    "beta = 0.1 + 0.1j\n",
    "Uq = qubit_unitary(alpha)\n",
    "Uqc = qubit_cavity_unitary(beta)\n",
    "print(\n",
    "    \"Uq unitary check:\",\n",
    "    jnp.allclose(Uq.conj().T @ Uq, jnp.eye(Uq.shape[0]), atol=1e-7),\n",
    ")\n",
    "print(\n",
    "    \"Uqc unitary check:\",\n",
    "    jnp.allclose(Uqc.conj().T @ Uqc, jnp.eye(Uqc.shape[0]), atol=1e-7),\n",
    ")"
   ]
  },
  {
   "cell_type": "code",
   "execution_count": 6,
   "id": "883df30f",
   "metadata": {},
   "outputs": [
    {
     "data": {
      "text/plain": [
       "(8, 8)"
      ]
     },
     "execution_count": 6,
     "metadata": {},
     "output_type": "execute_result"
    }
   ],
   "source": [
    "qubit_unitary(0.1).shape"
   ]
  },
  {
   "cell_type": "code",
   "execution_count": 7,
   "id": "b8591e5c",
   "metadata": {},
   "outputs": [
    {
     "data": {
      "text/plain": [
       "Array([[0.99875026+0.j        , 0.        -0.04997917j,\n",
       "        0.        +0.j        , 0.        +0.j        ,\n",
       "        0.        +0.j        , 0.        +0.j        ,\n",
       "        0.        +0.j        , 0.        +0.j        ],\n",
       "       [0.        -0.04997917j, 0.99875026+0.j        ,\n",
       "        0.        +0.j        , 0.        +0.j        ,\n",
       "        0.        +0.j        , 0.        +0.j        ,\n",
       "        0.        +0.j        , 0.        +0.j        ],\n",
       "       [0.        +0.j        , 0.        +0.j        ,\n",
       "        0.99875026+0.j        , 0.        -0.04997917j,\n",
       "        0.        +0.j        , 0.        +0.j        ,\n",
       "        0.        +0.j        , 0.        +0.j        ],\n",
       "       [0.        +0.j        , 0.        +0.j        ,\n",
       "        0.        -0.04997917j, 0.99875026+0.j        ,\n",
       "        0.        +0.j        , 0.        +0.j        ,\n",
       "        0.        +0.j        , 0.        +0.j        ],\n",
       "       [0.        +0.j        , 0.        +0.j        ,\n",
       "        0.        +0.j        , 0.        +0.j        ,\n",
       "        0.99875026+0.j        , 0.        -0.04997917j,\n",
       "        0.        +0.j        , 0.        +0.j        ],\n",
       "       [0.        +0.j        , 0.        +0.j        ,\n",
       "        0.        +0.j        , 0.        +0.j        ,\n",
       "        0.        -0.04997917j, 0.99875026+0.j        ,\n",
       "        0.        +0.j        , 0.        +0.j        ],\n",
       "       [0.        +0.j        , 0.        +0.j        ,\n",
       "        0.        +0.j        , 0.        +0.j        ,\n",
       "        0.        +0.j        , 0.        +0.j        ,\n",
       "        0.99875026+0.j        , 0.        -0.04997917j],\n",
       "       [0.        +0.j        , 0.        +0.j        ,\n",
       "        0.        +0.j        , 0.        +0.j        ,\n",
       "        0.        +0.j        , 0.        +0.j        ,\n",
       "        0.        -0.04997917j, 0.99875026+0.j        ]],      dtype=complex128)"
      ]
     },
     "execution_count": 7,
     "metadata": {},
     "output_type": "execute_result"
    }
   ],
   "source": [
    "qubit_unitary(0.1)"
   ]
  },
  {
   "cell_type": "markdown",
   "id": "8b05cd63",
   "metadata": {},
   "source": [
    "In their groundbreaking work, Law and Eberly have\n",
    "shown that any arbitrary superposition of Fock states with\n",
    "maximal excitation number N can be prepared out of the\n",
    "ground state in a sequence of N such interleaved gates,\n",
    "also providing an algorithm to find the correct angles and\n",
    "interaction durations"
   ]
  },
  {
   "cell_type": "code",
   "execution_count": 8,
   "id": "c4020a7e",
   "metadata": {},
   "outputs": [
    {
     "name": "stdout",
     "output_type": "stream",
     "text": [
      "(8, 8)\n"
     ]
    }
   ],
   "source": [
    "print(qubit_cavity_unitary(0.1).shape)"
   ]
  },
  {
   "cell_type": "code",
   "execution_count": 9,
   "id": "172cff3e",
   "metadata": {},
   "outputs": [
    {
     "data": {
      "text/plain": [
       "Array([[0.99875026+0.j        , 0.        +0.j        ,\n",
       "        0.        +0.j        , 0.        -0.04997917j,\n",
       "        0.        +0.j        , 0.        +0.j        ,\n",
       "        0.        +0.j        , 0.        +0.j        ],\n",
       "       [0.        +0.j        , 1.        +0.j        ,\n",
       "        0.        +0.j        , 0.        +0.j        ,\n",
       "        0.        +0.j        , 0.        +0.j        ,\n",
       "        0.        +0.j        , 0.        +0.j        ],\n",
       "       [0.        +0.j        , 0.        +0.j        ,\n",
       "        0.99750104+0.j        , 0.        +0.j        ,\n",
       "        0.        +0.j        , 0.        -0.07065177j,\n",
       "        0.        +0.j        , 0.        +0.j        ],\n",
       "       [0.        -0.04997917j, 0.        +0.j        ,\n",
       "        0.        +0.j        , 0.99875026+0.j        ,\n",
       "        0.        +0.j        , 0.        +0.j        ,\n",
       "        0.        +0.j        , 0.        +0.j        ],\n",
       "       [0.        +0.j        , 0.        +0.j        ,\n",
       "        0.        +0.j        , 0.        +0.j        ,\n",
       "        0.99625234+0.j        , 0.        +0.j        ,\n",
       "        0.        +0.j        , 0.        -0.08649433j],\n",
       "       [0.        +0.j        , 0.        +0.j        ,\n",
       "        0.        -0.07065177j, 0.        +0.j        ,\n",
       "        0.        +0.j        , 0.99750104+0.j        ,\n",
       "        0.        +0.j        , 0.        +0.j        ],\n",
       "       [0.        +0.j        , 0.        +0.j        ,\n",
       "        0.        +0.j        , 0.        +0.j        ,\n",
       "        0.        +0.j        , 0.        +0.j        ,\n",
       "        1.        +0.j        , 0.        +0.j        ],\n",
       "       [0.        +0.j        , 0.        +0.j        ,\n",
       "        0.        +0.j        , 0.        +0.j        ,\n",
       "        0.        -0.08649433j, 0.        +0.j        ,\n",
       "        0.        +0.j        , 0.99625234+0.j        ]],      dtype=complex128)"
      ]
     },
     "execution_count": 9,
     "metadata": {},
     "output_type": "execute_result"
    }
   ],
   "source": [
    "qubit_cavity_unitary(0.1)"
   ]
  },
  {
   "cell_type": "markdown",
   "id": "d1a6f411",
   "metadata": {},
   "source": [
    "## First target is the state $ | 1 ⟩ + | 3 ⟩ $ "
   ]
  },
  {
   "cell_type": "code",
   "execution_count": 10,
   "id": "45069deb",
   "metadata": {},
   "outputs": [],
   "source": [
    "time_steps = 3  # corressponds to maximal excitation number of an arbitrary Fock State Superposition"
   ]
  },
  {
   "cell_type": "code",
   "execution_count": 11,
   "id": "e5746831",
   "metadata": {},
   "outputs": [],
   "source": [
    "psi0 = tensor(basis(N_cav), basis(2))\n",
    "psi_target = tensor((fock(N_cav, 1) + fock(N_cav, 3)), basis(2))"
   ]
  },
  {
   "cell_type": "code",
   "execution_count": 12,
   "id": "860c7a66",
   "metadata": {},
   "outputs": [
    {
     "data": {
      "text/plain": [
       "(8, 1)"
      ]
     },
     "execution_count": 12,
     "metadata": {},
     "output_type": "execute_result"
    }
   ],
   "source": [
    "psi0.shape"
   ]
  },
  {
   "cell_type": "code",
   "execution_count": 13,
   "id": "c3fbbd04",
   "metadata": {},
   "outputs": [
    {
     "data": {
      "text/plain": [
       "(8, 1)"
      ]
     },
     "execution_count": 13,
     "metadata": {},
     "output_type": "execute_result"
    }
   ],
   "source": [
    "psi_target.shape"
   ]
  },
  {
   "cell_type": "code",
   "execution_count": 14,
   "id": "2e2e8ef3",
   "metadata": {},
   "outputs": [
    {
     "name": "stdout",
     "output_type": "stream",
     "text": [
      "[[0.+0.j]\n",
      " [1.+0.j]\n",
      " [0.+0.j]\n",
      " [0.+0.j]]\n"
     ]
    }
   ],
   "source": [
    "print(fock(N_cav, 1))"
   ]
  },
  {
   "cell_type": "markdown",
   "id": "104ff5f6",
   "metadata": {},
   "source": [
    "Law and Eberly provided an algorithm to determine the correct parameters for state preparation. These include:\n",
    "\n",
    "- The rotation angle $ |\\alpha| $,\n",
    "- The azimuthal angle $ \\arg\\left(\\frac{\\alpha}{|\\alpha|}\\right) $,\n",
    "- The interaction duration $ |\\beta| $. <br>\n",
    "\n",
    "So Goal is to find the best control vector (rather than control amplitudes, this time) that leads to finding the optimal state-preparation strategies. Performing as well as the Law-Eberly algorithm."
   ]
  },
  {
   "cell_type": "code",
   "execution_count": 15,
   "id": "042f12c3",
   "metadata": {},
   "outputs": [
    {
     "name": "stdout",
     "output_type": "stream",
     "text": [
      "Shapes of results: [(8, 8), (8, 8), (8, 8), (8, 8), (8, 8), (8, 8)]\n"
     ]
    }
   ],
   "source": [
    "# TODO: see why if initial [paramaters are complex, adam fidelity is so bad and l-bfgs does error]\n",
    "import jax.random as random\n",
    "\n",
    "key = random.PRNGKey(0)  # Random seed for reproducibility\n",
    "num_gates = len(\n",
    "    [qubit_unitary, qubit_cavity_unitary]\n",
    ")  # Number of parameterized gates\n",
    "initial_parameters = jnp.full((time_steps, num_gates), 0.1, dtype=jnp.float64)\n",
    "result_shapes = [\n",
    "    gate(initial_parameters[step, i]).shape\n",
    "    for step in range(time_steps)\n",
    "    for i, gate in enumerate([qubit_unitary, qubit_cavity_unitary])\n",
    "]\n",
    "print(f\"Shapes of results: {result_shapes}\")"
   ]
  },
  {
   "cell_type": "code",
   "execution_count": 16,
   "id": "32b66069",
   "metadata": {},
   "outputs": [
    {
     "name": "stdout",
     "output_type": "stream",
     "text": [
      "[[0.1 0.1]\n",
      " [0.1 0.1]\n",
      " [0.1 0.1]]\n"
     ]
    }
   ],
   "source": [
    "print(initial_parameters)"
   ]
  },
  {
   "cell_type": "markdown",
   "id": "06364239",
   "metadata": {},
   "source": [
    "## Optimizing\n",
    "Currently l-bfgs with the same learning rate of 0.3 converges at a local minimum of 0.5, adam also converges at 0.5 but at smaller learning rates"
   ]
  },
  {
   "cell_type": "code",
   "execution_count": 17,
   "id": "90de4b86",
   "metadata": {},
   "outputs": [],
   "source": [
    "result = optimize_pulse_parameterized(\n",
    "    U_0=psi0,\n",
    "    C_target=psi_target,\n",
    "    parameterized_gates=[qubit_unitary, qubit_cavity_unitary],\n",
    "    initial_parameters=initial_parameters,\n",
    "    num_time_steps=time_steps,\n",
    "    optimizer=\"adam\",\n",
    "    max_iter=1000,\n",
    "    convergence_threshold=1e-6,\n",
    "    type=\"state\",\n",
    "    propcomp=\"time-efficient\",\n",
    "    learning_rate=0.3,\n",
    ")"
   ]
  },
  {
   "cell_type": "code",
   "execution_count": 18,
   "id": "2107f9e7",
   "metadata": {},
   "outputs": [
    {
     "name": "stdout",
     "output_type": "stream",
     "text": [
      "result(control_amplitudes=Array([[-3.15190385,  4.32204244],\n",
      "       [ 3.15093185,  1.44659991],\n",
      "       [ 3.13826641, -1.81466037]], dtype=float64), final_fidelity=Array(0.99997576, dtype=float64), iterations=189, final_operator=Array([[-2.39002192e-03+0.j        ],\n",
      "       [ 0.00000000e+00+0.00179682j],\n",
      "       [-7.05011908e-01+0.j        ],\n",
      "       [ 0.00000000e+00+0.00220421j],\n",
      "       [ 2.60457850e-04+0.j        ],\n",
      "       [ 0.00000000e+00-0.00052837j],\n",
      "       [-7.09184512e-01+0.j        ],\n",
      "       [ 0.00000000e+00-0.00117946j]], dtype=complex128))\n"
     ]
    }
   ],
   "source": [
    "print(result)"
   ]
  },
  {
   "cell_type": "code",
   "execution_count": 19,
   "id": "7db3d27a",
   "metadata": {},
   "outputs": [
    {
     "name": "stdout",
     "output_type": "stream",
     "text": [
      "0.9999757572313498\n"
     ]
    }
   ],
   "source": [
    "from feedback_grape.grape_paramaterized import calculate_trajectory\n",
    "from feedback_grape.utils.fidelity import fidelity\n",
    "\n",
    "U_final = calculate_trajectory(\n",
    "    psi0,\n",
    "    result.control_amplitudes,\n",
    "    time_steps,\n",
    "    [qubit_unitary, qubit_cavity_unitary],\n",
    "    type=\"state\",\n",
    ")\n",
    "print(fidelity(C_target=psi_target, U_final=U_final, type=\"state\"))"
   ]
  }
 ],
 "metadata": {
  "kernelspec": {
   "display_name": "Python 3",
   "language": "python",
   "name": "python3"
  },
  "language_info": {
   "codemirror_mode": {
    "name": "ipython",
    "version": 3
   },
   "file_extension": ".py",
   "mimetype": "text/x-python",
   "name": "python",
   "nbconvert_exporter": "python",
   "pygments_lexer": "ipython3",
   "version": "3.11.11"
  }
 },
 "nbformat": 4,
 "nbformat_minor": 5
}

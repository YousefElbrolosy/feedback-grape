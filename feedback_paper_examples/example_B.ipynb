{
 "cells": [
  {
   "cell_type": "markdown",
   "id": "7f793d9d",
   "metadata": {},
   "source": [
    "# B. State purification with qubit-mediated measurement"
   ]
  },
  {
   "cell_type": "code",
   "execution_count": 1,
   "id": "39fee84d",
   "metadata": {},
   "outputs": [],
   "source": [
    "# ruff: noqa\n",
    "import os\n",
    "\n",
    "os.sys.path.append(\"..\")\n",
    "from feedback_grape.fgrape_parameterized import optimize_pulse_with_feedback\n",
    "import jax.numpy as jnp"
   ]
  },
  {
   "cell_type": "markdown",
   "id": "95c2028a",
   "metadata": {},
   "source": [
    "## The cavity is initially in a  mixed state --> Goal is to purify the state\n",
    "\n",
    "We are trying to maximize the property determined by $tr (\\rho_{\\text{cav}}^2)$ which is the purity"
   ]
  },
  {
   "attachments": {
    "image.png": {
     "image/png": "[encoded data removed]"
    }
   },
   "cell_type": "markdown",
   "id": "3fabfed7",
   "metadata": {},
   "source": [
    "In the following, we consider an adaptive measurement\n",
    "scheme, demonstrated in a series of experiments on Rydberg atoms interacting\n",
    "with microwave cavities. In this scheme, the\n",
    "cavity is coupled to an ancilla qubit, which can then be\n",
    "read out to update our knowledge of the quantum state of\n",
    "the cavity.\n",
    "\n",
    "![image.png](attachment:image.png)"
   ]
  },
  {
   "cell_type": "code",
   "execution_count": 2,
   "id": "aa40b5b2",
   "metadata": {},
   "outputs": [],
   "source": [
    "# initial state is a thermal state\n",
    "n_average = 2\n",
    "N_cavity = 30\n",
    "# natural logarithm\n",
    "beta = jnp.log((1 / n_average) + 1)\n",
    "diags = jnp.exp(-beta * jnp.arange(N_cavity))\n",
    "normalized_diags = diags / jnp.sum(diags, axis=0)\n",
    "rho_cav = jnp.diag(normalized_diags)"
   ]
  },
  {
   "cell_type": "markdown",
   "id": "ef889609",
   "metadata": {},
   "source": [
    "### Now the thing is here, we don't need a rho_final because the purity or the reward that we want to maximize is $tr (\\rho_{\\text{cav}}^2)$.\n",
    "Unlike fidelity expressions which wants to find how close to states are"
   ]
  },
  {
   "cell_type": "markdown",
   "id": "7c755428",
   "metadata": {},
   "source": [
    "## Next Step is to construct our POVM"
   ]
  },
  {
   "cell_type": "code",
   "execution_count": 3,
   "id": "5c617fea",
   "metadata": {},
   "outputs": [],
   "source": [
    "from feedback_grape.utils.operators import cosm, sinm"
   ]
  },
  {
   "cell_type": "code",
   "execution_count": 4,
   "id": "9387e6a5",
   "metadata": {},
   "outputs": [],
   "source": [
    "from feedback_grape.utils.operators import create, destroy\n",
    "import jax\n",
    "\n",
    "\n",
    "def povm_measure_operator(measurement_outcome, gamma, delta):\n",
    "    \"\"\"\n",
    "    POVM for the measurement of the cavity state.\n",
    "    returns Mm ( NOT the POVM element Em = Mm_dag @ Mm ), given measurement_outcome m, gamma and delta\n",
    "    \"\"\"\n",
    "    number_operator = create(N_cavity) @ destroy(N_cavity)\n",
    "    angle = (gamma * number_operator) + delta / 2\n",
    "    return jnp.where(\n",
    "        measurement_outcome == 1,\n",
    "        cosm(angle),\n",
    "        sinm(angle),\n",
    "    )"
   ]
  },
  {
   "cell_type": "code",
   "execution_count": 5,
   "id": "f8ebff1f",
   "metadata": {},
   "outputs": [
    {
     "data": {
      "text/plain": [
       "Array([[ 9.46538687e-01+0.j, -5.59640191e-02+0.j, -5.82155064e-02+0.j,\n",
       "        -6.02009371e-02+0.j, -6.19076192e-02+0.j, -6.33254498e-02+0.j,\n",
       "        -6.44468740e-02+0.j, -6.52669966e-02+0.j, -6.57838359e-02+0.j,\n",
       "        -6.59980029e-02+0.j, -6.59132302e-02+0.j, -6.55358285e-02+0.j,\n",
       "        -6.48750514e-02+0.j, -6.39429241e-02+0.j, -6.27542138e-02+0.j,\n",
       "        -6.13260940e-02+0.j, -5.96783236e-02+0.j, -5.78330159e-02+0.j,\n",
       "        -5.58143705e-02+0.j, -5.36484793e-02+0.j, -5.13633490e-02+0.j,\n",
       "        -4.89883870e-02+0.j, -4.65542786e-02+0.j, -4.40927744e-02+0.j,\n",
       "        -4.16363776e-02+0.j, -3.92180271e-02+0.j, -3.68708596e-02+0.j,\n",
       "        -3.46279144e-02+0.j, -3.25218029e-02+0.j, -3.05845663e-02+0.j],\n",
       "       [-5.59640005e-02+0.j,  9.36660409e-01+0.j, -6.04670085e-02+0.j,\n",
       "        -6.23193868e-02+0.j, -6.38888031e-02+0.j, -6.51658475e-02+0.j,\n",
       "        -6.61434233e-02+0.j, -6.68174848e-02+0.j, -6.71866313e-02+0.j,\n",
       "        -6.72522485e-02+0.j, -6.70186579e-02+0.j, -6.64929673e-02+0.j,\n",
       "        -6.56851232e-02+0.j, -6.46078661e-02+0.j, -6.32765144e-02+0.j,\n",
       "        -6.17090948e-02+0.j, -5.99259585e-02+0.j, -5.79498261e-02+0.j,\n",
       "        -5.58055192e-02+0.j, -5.35198413e-02+0.j, -5.11212051e-02+0.j,\n",
       "        -4.86396179e-02+0.j, -4.61062118e-02+0.j, -4.35531847e-02+0.j,\n",
       "        -4.10134122e-02+0.j, -3.85202691e-02+0.j, -3.61071080e-02+0.j,\n",
       "        -3.38072702e-02+0.j, -3.16535980e-02+0.j, -2.96781566e-02+0.j],\n",
       "       [-5.82155064e-02+0.j, -6.04670420e-02+0.j,  9.17609572e-01+0.j,\n",
       "        -6.41718060e-02+0.j, -6.55997247e-02+0.j, -6.67320639e-02+0.j,\n",
       "        -6.75625354e-02+0.j, -6.80876002e-02+0.j, -6.83066174e-02+0.j,\n",
       "        -6.82215765e-02+0.j, -6.78376406e-02+0.j, -6.71625361e-02+0.j,\n",
       "        -6.62069619e-02+0.j, -6.49843067e-02+0.j, -6.35106415e-02+0.j,\n",
       "        -6.18046410e-02+0.j, -5.98873049e-02+0.j, -5.77820465e-02+0.j,\n",
       "        -5.55142239e-02+0.j, -5.31111956e-02+0.j, -5.06020039e-02+0.j,\n",
       "        -4.80171219e-02+0.j, -4.53881696e-02+0.j, -4.27477583e-02+0.j,\n",
       "        -4.01291847e-02+0.j, -3.75660621e-02+0.j, -3.50921080e-02+0.j,\n",
       "        -3.27408984e-02+0.j, -3.05453818e-02+0.j, -2.85378285e-02+0.j],\n",
       "       [-6.02009296e-02+0.j, -6.23194128e-02+0.j, -6.41717762e-02+0.j,\n",
       "         8.89591455e-01+0.j, -6.70277029e-02+0.j, -6.80122524e-02+0.j,\n",
       "        -6.86927885e-02+0.j, -6.90665320e-02+0.j, -6.91335499e-02+0.j,\n",
       "        -6.88965321e-02+0.j, -6.83612898e-02+0.j, -6.75363690e-02+0.j,\n",
       "        -6.64330870e-02+0.j, -6.50655627e-02+0.j, -6.34505451e-02+0.j,\n",
       "        -6.16073534e-02+0.j, -5.95577359e-02+0.j, -5.73255941e-02+0.j,\n",
       "        -5.49370423e-02+0.j, -5.24199158e-02+0.j, -4.98037860e-02+0.j,\n",
       "        -4.71196622e-02+0.j, -4.43995595e-02+0.j, -4.16765586e-02+0.j,\n",
       "        -3.89842838e-02+0.j, -3.63567173e-02+0.j, -3.38277817e-02+0.j,\n",
       "        -3.14312726e-02+0.j, -2.92003024e-02+0.j, -2.71672904e-02+0.j],\n",
       "       [-6.19076341e-02+0.j, -6.38888255e-02+0.j, -6.55997321e-02+0.j,\n",
       "        -6.70277178e-02+0.j,  8.52898240e-01+0.j, -6.89967647e-02+0.j,\n",
       "        -6.95253015e-02+0.j, -6.97461665e-02+0.j, -6.96600080e-02+0.j,\n",
       "        -6.92702830e-02+0.j, -6.85835779e-02+0.j, -6.76090717e-02+0.j,\n",
       "        -6.63587600e-02+0.j, -6.48475662e-02+0.j, -6.30928129e-02+0.j,\n",
       "        -6.11146092e-02+0.j, -5.89352474e-02+0.j, -5.65792844e-02+0.j,\n",
       "        -5.40734082e-02+0.j, -5.14460579e-02+0.j, -4.87272814e-02+0.j,\n",
       "        -4.59485687e-02+0.j, -4.31424379e-02+0.j, -4.03423235e-02+0.j,\n",
       "        -3.75820808e-02+0.j, -3.48962061e-02+0.j, -3.23187001e-02+0.j,\n",
       "        -2.98835915e-02+0.j, -2.76241787e-02+0.j, -2.55728811e-02+0.j],\n",
       "       [-6.33254349e-02+0.j, -6.51658550e-02+0.j, -6.67320639e-02+0.j,\n",
       "        -6.80122599e-02+0.j, -6.89967275e-02+0.j,  8.07903886e-01+0.j,\n",
       "        -7.00539052e-02+0.j, -7.01208711e-02+0.j, -6.98810965e-02+0.j,\n",
       "        -6.93386719e-02+0.j, -6.85009286e-02+0.j, -6.73777759e-02+0.j,\n",
       "        -6.59819096e-02+0.j, -6.43289089e-02+0.j, -6.24368340e-02+0.j,\n",
       "        -6.03263862e-02+0.j, -5.80205284e-02+0.j, -5.55445068e-02+0.j,\n",
       "        -5.29254638e-02+0.j, -5.01924157e-02+0.j, -4.73759994e-02+0.j,\n",
       "        -4.45080325e-02+0.j, -4.16215956e-02+0.j, -3.87503579e-02+0.j,\n",
       "        -3.59287187e-02+0.j, -3.31911594e-02+0.j, -3.05721052e-02+0.j,\n",
       "        -2.81057097e-02+0.j, -2.58253459e-02+0.j, -2.37635113e-02+0.j],\n",
       "       [-6.44468442e-02+0.j, -6.61434382e-02+0.j, -6.75625354e-02+0.j,\n",
       "        -6.86927959e-02+0.j, -6.95252866e-02+0.j, -7.00538903e-02+0.j,\n",
       "         7.55060375e-01+0.j, -7.01878518e-02+0.j, -6.97946548e-02+0.j,\n",
       "        -6.91003054e-02+0.j, -6.81127012e-02+0.j, -6.68424964e-02+0.j,\n",
       "        -6.53032586e-02+0.j, -6.35109916e-02+0.j, -6.14846647e-02+0.j,\n",
       "        -5.92455380e-02+0.j, -5.68172298e-02+0.j, -5.42254671e-02+0.j,\n",
       "        -5.14981002e-02+0.j, -4.86646220e-02+0.j, -4.57561277e-02+0.j,\n",
       "        -4.28050011e-02+0.j, -3.98445800e-02+0.j, -3.69089842e-02+0.j,\n",
       "        -3.40328701e-02+0.j, -3.12510468e-02+0.j, -2.85980422e-02+0.j,\n",
       "        -2.61081886e-02+0.j, -2.38149837e-02+0.j, -2.17508934e-02+0.j],\n",
       "       [-6.52670115e-02+0.j, -6.68175220e-02+0.j, -6.80876151e-02+0.j,\n",
       "        -6.90665692e-02+0.j, -6.97461516e-02+0.j, -7.01208860e-02+0.j,\n",
       "        -7.01878741e-02+0.j,  6.94894910e-01+0.j, -6.94014430e-02+0.j,\n",
       "        -6.85565025e-02+0.j, -6.74210340e-02+0.j, -6.60062134e-02+0.j,\n",
       "        -6.43263012e-02+0.j, -6.23982400e-02+0.j, -6.02413788e-02+0.j,\n",
       "        -5.78777716e-02+0.j, -5.53315654e-02+0.j, -5.26292659e-02+0.j,\n",
       "        -4.97990474e-02+0.j, -4.68710288e-02+0.j, -4.38767895e-02+0.j,\n",
       "        -4.08490747e-02+0.j, -3.78216989e-02+0.j, -3.48290578e-02+0.j,\n",
       "        -3.19060907e-02+0.j, -2.90878564e-02+0.j, -2.64090933e-02+0.j,\n",
       "        -2.39042230e-02+0.j, -2.16067545e-02+0.j, -1.95491947e-02+0.j],\n",
       "       [-6.57837838e-02+0.j, -6.71866536e-02+0.j, -6.83065951e-02+0.j,\n",
       "        -6.91335201e-02+0.j, -6.96599931e-02+0.j, -6.98810816e-02+0.j,\n",
       "        -6.97946548e-02+0.j, -6.94014281e-02+0.j,  6.28001928e-01+0.j,\n",
       "        -6.77116364e-02+0.j, -6.64307550e-02+0.j, -6.48744702e-02+0.j,\n",
       "        -6.30575269e-02+0.j, -6.09975867e-02+0.j, -5.87147623e-02+0.j,\n",
       "        -5.62315099e-02+0.j, -5.35728373e-02+0.j, -5.07656336e-02+0.j,\n",
       "        -4.78388108e-02+0.j, -4.48228344e-02+0.j, -4.17497009e-02+0.j,\n",
       "        -3.86527628e-02+0.j, -3.55659872e-02+0.j, -3.25242318e-02+0.j,\n",
       "        -2.95626484e-02+0.j, -2.67164931e-02+0.j, -2.40206607e-02+0.j,\n",
       "        -2.15096232e-02+0.j, -1.92170143e-02+0.j, -1.71753205e-02+0.j],\n",
       "       [-6.59979731e-02+0.j, -6.72522560e-02+0.j, -6.82215616e-02+0.j,\n",
       "        -6.88965768e-02+0.j, -6.92702979e-02+0.j, -6.93387240e-02+0.j,\n",
       "        -6.91002905e-02+0.j, -6.85565248e-02+0.j, -6.77116513e-02+0.j,\n",
       "         5.55036902e-01+0.j, -6.51499256e-02+0.j, -6.34558350e-02+0.j,\n",
       "        -6.15061373e-02+0.j, -5.93190715e-02+0.j, -5.69153428e-02+0.j,\n",
       "        -5.43181524e-02+0.j, -5.15530482e-02+0.j, -4.86473739e-02+0.j,\n",
       "        -4.56306972e-02+0.j, -4.25339043e-02+0.j, -3.93895581e-02+0.j,\n",
       "        -3.62311378e-02+0.j, -3.30932364e-02+0.j, -3.00108474e-02+0.j,\n",
       "        -2.70193852e-02+0.j, -2.41542645e-02+0.j, -2.14505456e-02+0.j,\n",
       "        -1.89428441e-02+0.j, -1.66646466e-02+0.j, -1.46484729e-02+0.j],\n",
       "       [-6.59132153e-02+0.j, -6.70186877e-02+0.j, -6.78376257e-02+0.j,\n",
       "        -6.83613271e-02+0.j, -6.85835779e-02+0.j, -6.85009435e-02+0.j,\n",
       "        -6.81126863e-02+0.j, -6.74209893e-02+0.j, -6.64307326e-02+0.j,\n",
       "        -6.51498660e-02+0.j,  4.76713508e-01+0.j, -6.17617555e-02+0.j,\n",
       "        -5.96842840e-02+0.j, -5.73754460e-02+0.j, -5.48567101e-02+0.j,\n",
       "        -5.21518439e-02+0.j, -4.92868870e-02+0.j, -4.62899134e-02+0.j,\n",
       "        -4.31907699e-02+0.j, -4.00210619e-02+0.j, -3.68135162e-02+0.j,\n",
       "        -3.36022042e-02+0.j, -3.04218978e-02+0.j, -2.73078866e-02+0.j,\n",
       "        -2.42957883e-02+0.j, -2.14212351e-02+0.j, -1.87193546e-02+0.j,\n",
       "        -1.62247866e-02+0.j, -1.39710624e-02+0.j, -1.19905621e-02+0.j],\n",
       "       [-6.55357987e-02+0.j, -6.64929748e-02+0.j, -6.71625286e-02+0.j,\n",
       "        -6.75363913e-02+0.j, -6.76090121e-02+0.j, -6.73777461e-02+0.j,\n",
       "        -6.68425262e-02+0.j, -6.60061985e-02+0.j, -6.48744553e-02+0.j,\n",
       "        -6.34558350e-02+0.j, -6.17618188e-02+0.j,  3.93790036e-01+0.j,\n",
       "        -5.76067716e-02+0.j, -5.51823080e-02+0.j, -5.25550172e-02+0.j,\n",
       "        -4.97493744e-02+0.j, -4.67919558e-02+0.j, -4.37112674e-02+0.j,\n",
       "        -4.05378155e-02+0.j, -3.73034626e-02+0.j, -3.40415239e-02+0.j,\n",
       "        -3.07862870e-02+0.j, -2.75727808e-02+0.j, -2.44366769e-02+0.j,\n",
       "        -2.14138217e-02+0.j, -1.85397938e-02+0.j, -1.58498995e-02+0.j,\n",
       "        -1.33787384e-02+0.j, -1.11598810e-02+0.j, -9.22548026e-03+0.j],\n",
       "       [-6.48750216e-02+0.j, -6.56851530e-02+0.j, -6.62069768e-02+0.j,\n",
       "        -6.64330870e-02+0.j, -6.63587600e-02+0.j, -6.59818947e-02+0.j,\n",
       "        -6.53032437e-02+0.j, -6.43263012e-02+0.j, -6.30575046e-02+0.j,\n",
       "        -6.15061298e-02+0.j, -5.96843064e-02+0.j, -5.76067939e-02+0.j,\n",
       "         3.07066709e-01+0.j, -5.27578034e-02+0.j, -5.00291437e-02+0.j,\n",
       "        -4.71302047e-02+0.j, -4.40881476e-02+0.j, -4.09321487e-02+0.j,\n",
       "        -3.76929976e-02+0.j, -3.44030112e-02+0.j, -3.10958475e-02+0.j,\n",
       "        -2.78061684e-02+0.j, -2.45693922e-02+0.j, -2.14212406e-02+0.j,\n",
       "        -1.83976963e-02+0.j, -1.55346198e-02+0.j, -1.28672607e-02+0.j,\n",
       "        -1.04301777e-02+0.j, -8.25686194e-03+0.j, -6.37952518e-03+0.j],\n",
       "       [-6.39429465e-02+0.j, -6.46078959e-02+0.j, -6.49842620e-02+0.j,\n",
       "        -6.50655329e-02+0.j, -6.48475662e-02+0.j, -6.43289015e-02+0.j,\n",
       "        -6.35110140e-02+0.j, -6.23982213e-02+0.j, -6.09975606e-02+0.j,\n",
       "        -5.93189821e-02+0.j, -5.73754236e-02+0.j, -5.51823080e-02+0.j,\n",
       "        -5.27577624e-02+0.j,  2.17376083e-01+0.j, -4.73004393e-02+0.j,\n",
       "        -4.43163514e-02+0.j, -4.11983281e-02+0.j, -3.79757360e-02+0.j,\n",
       "        -3.46800052e-02+0.j, -3.13438401e-02+0.j, -2.80012637e-02+0.j,\n",
       "        -2.46872343e-02+0.j, -2.14373097e-02+0.j, -1.82875693e-02+0.j,\n",
       "        -1.52740628e-02+0.j, -1.24326572e-02+0.j, -9.79873724e-03+0.j,\n",
       "        -7.40676653e-03+0.j, -5.29015996e-03+0.j, -3.48086003e-03+0.j],\n",
       "       [-6.27541542e-02+0.j, -6.32764995e-02+0.j, -6.35106415e-02+0.j,\n",
       "        -6.34505525e-02+0.j, -6.30928278e-02+0.j, -6.24368265e-02+0.j,\n",
       "        -6.14846908e-02+0.j, -6.02413751e-02+0.j, -5.87147549e-02+0.j,\n",
       "        -5.69153056e-02+0.j, -5.48566952e-02+0.j, -5.25550321e-02+0.j,\n",
       "        -5.00291213e-02+0.j, -4.73004654e-02+0.j,  1.25574261e-01+0.j,\n",
       "        -4.13323492e-02+0.j, -3.81472483e-02+0.j, -3.48674729e-02+0.j,\n",
       "        -3.15248817e-02+0.j, -2.81525012e-02+0.j, -2.47847289e-02+0.j,\n",
       "        -2.14567445e-02+0.j, -1.82044897e-02+0.j, -1.50639499e-02+0.j,\n",
       "        -1.20713878e-02+0.j, -9.26287100e-03+0.j, -6.67355955e-03+0.j,\n",
       "        -4.33800928e-03+0.j, -2.28944328e-03+0.j, -5.59552573e-04+0.j],\n",
       "       [-6.13260567e-02+0.j, -6.17090985e-02+0.j, -6.18046373e-02+0.j,\n",
       "        -6.16073832e-02+0.j, -6.11146092e-02+0.j, -6.03263825e-02+0.j,\n",
       "        -5.92455342e-02+0.j, -5.78777269e-02+0.j, -5.62315285e-02+0.j,\n",
       "        -5.43181337e-02+0.j, -5.21518327e-02+0.j, -4.97493371e-02+0.j,\n",
       "        -4.71301824e-02+0.j, -4.43164483e-02+0.j, -4.13323715e-02+0.j,\n",
       "         3.25322449e-02+0.j, -3.49621251e-02+0.j, -3.16350572e-02+0.j,\n",
       "        -2.82557067e-02+0.j, -2.48575583e-02+0.j, -2.14751773e-02+0.j,\n",
       "        -1.81441680e-02+0.j, -1.49004441e-02+0.j, -1.17803160e-02+0.j,\n",
       "        -8.82020034e-03+0.j, -6.05591619e-03+0.j, -3.52276606e-03+0.j,\n",
       "        -1.25514506e-03+0.j,  7.13901129e-04+0.j,  2.35280721e-03+0.j],\n",
       "       [-5.96783161e-02+0.j, -5.99259734e-02+0.j, -5.98872900e-02+0.j,\n",
       "        -5.95577434e-02+0.j, -5.89352399e-02+0.j, -5.80205396e-02+0.j,\n",
       "        -5.68172261e-02+0.j, -5.53315692e-02+0.j, -5.35728484e-02+0.j,\n",
       "        -5.15530333e-02+0.j, -4.92868982e-02+0.j, -4.67918888e-02+0.j,\n",
       "        -4.40881625e-02+0.j, -4.11983021e-02+0.j, -3.81472185e-02+0.j,\n",
       "        -3.49621400e-02+0.j, -6.08717799e-02+0.j, -2.83080302e-02+0.j,\n",
       "        -2.49025207e-02+0.j, -2.14893445e-02+0.j, -1.81035195e-02+0.j,\n",
       "        -1.47805698e-02+0.j, -1.15568247e-02+0.j, -8.46869312e-03+0.j,\n",
       "        -5.55241667e-03+0.j, -2.84410780e-03+0.j, -3.78842436e-04+0.j,\n",
       "         1.80916640e-03+0.j,  3.68686882e-03+0.j,  5.22317970e-03+0.j],\n",
       "       [-5.78330010e-02+0.j, -5.79498410e-02+0.j, -5.77819943e-02+0.j,\n",
       "        -5.73256165e-02+0.j, -5.65792844e-02+0.j, -5.55445105e-02+0.j,\n",
       "        -5.42254373e-02+0.j, -5.26292175e-02+0.j, -5.07656410e-02+0.j,\n",
       "        -4.86474037e-02+0.j, -4.62898649e-02+0.j, -4.37112525e-02+0.j,\n",
       "        -4.09321524e-02+0.j, -3.79757285e-02+0.j, -3.48674953e-02+0.j,\n",
       "        -3.16350646e-02+0.j, -2.83080041e-02+0.j, -1.53762251e-01+0.j,\n",
       "        -2.14969963e-02+0.j, -1.80800222e-02+0.j, -1.47019792e-02+0.j,\n",
       "        -1.13986954e-02+0.j, -8.20659660e-03+0.j, -5.16208727e-03+0.j,\n",
       "        -2.30168970e-03+0.j,  3.38873564e-04+0.j,  2.72439444e-03+0.j,\n",
       "         4.82081901e-03+0.j,  6.59545045e-03+0.j,  8.01743940e-03+0.j],\n",
       "       [-5.58143705e-02+0.j, -5.58055639e-02+0.j, -5.55142052e-02+0.j,\n",
       "        -5.49370609e-02+0.j, -5.40734343e-02+0.j, -5.29254936e-02+0.j,\n",
       "        -5.14980927e-02+0.j, -4.97990176e-02+0.j, -4.78388071e-02+0.j,\n",
       "        -4.56307381e-02+0.j, -4.31908071e-02+0.j, -4.05378044e-02+0.j,\n",
       "        -3.76929790e-02+0.j, -3.46800014e-02+0.j, -3.15248892e-02+0.j,\n",
       "        -2.82557011e-02+0.j, -2.49024928e-02+0.j, -2.14970410e-02+0.j,\n",
       "        -2.45274365e-01+0.j, -1.46630201e-02+0.j, -1.13044530e-02+0.j,\n",
       "        -8.03262740e-03+0.j, -4.88400180e-03+0.j, -1.89518242e-03+0.j,\n",
       "         8.97554855e-04+0.j,  3.45826894e-03+0.j,  5.75200003e-03+0.j,\n",
       "         7.74501823e-03+0.j,  9.40475054e-03+0.j,  1.07005471e-02+0.j],\n",
       "       [-5.36484942e-02+0.j, -5.35198636e-02+0.j, -5.31111881e-02+0.j,\n",
       "        -5.24199083e-02+0.j, -5.14460504e-02+0.j, -5.01924679e-02+0.j,\n",
       "        -4.86646257e-02+0.j, -4.68710214e-02+0.j, -4.48228046e-02+0.j,\n",
       "        -4.25338969e-02+0.j, -4.00210321e-02+0.j, -3.73034328e-02+0.j,\n",
       "        -3.44029628e-02+0.j, -3.13438140e-02+0.j, -2.81525068e-02+0.j,\n",
       "        -2.48575360e-02+0.j, -2.14893371e-02+0.j, -1.80800110e-02+0.j,\n",
       "        -1.46630611e-02+0.j, -3.34563017e-01+0.j, -7.94584304e-03+0.j,\n",
       "        -4.71734628e-03+0.j, -1.62429991e-03+0.j,  1.29682012e-03+0.j,\n",
       "         4.00972599e-03+0.j,  6.47849962e-03+0.j,  8.66850466e-03+0.j,\n",
       "         1.05460230e-02+0.j,  1.20789623e-02+0.j,  1.32369222e-02+0.j],\n",
       "       [-5.13633490e-02+0.j, -5.11212014e-02+0.j, -5.06020114e-02+0.j,\n",
       "        -4.98037934e-02+0.j, -4.87272963e-02+0.j, -4.73760068e-02+0.j,\n",
       "        -4.57561538e-02+0.j, -4.38767709e-02+0.j, -4.17497233e-02+0.j,\n",
       "        -3.93895507e-02+0.j, -3.68135199e-02+0.j, -3.40414941e-02+0.j,\n",
       "        -3.10958028e-02+0.j, -2.80012712e-02+0.j, -2.47847326e-02+0.j,\n",
       "        -2.14751828e-02+0.j, -1.81034431e-02+0.j, -1.47019541e-02+0.j,\n",
       "        -1.13044502e-02+0.j, -7.94583932e-03+0.j, -4.20808792e-01+0.j,\n",
       "        -1.48892659e-03+0.j,  1.53648097e-03+0.j,  4.37772833e-03+0.j,\n",
       "         6.99850032e-03+0.j,  9.36335418e-03+0.j,  1.14375930e-02+0.j,\n",
       "         1.31877214e-02+0.j,  1.45820081e-02+0.j,  1.55905522e-02+0.j],\n",
       "       [-4.89884131e-02+0.j, -4.86395955e-02+0.j, -4.80171219e-02+0.j,\n",
       "        -4.71196175e-02+0.j, -4.59486023e-02+0.j, -4.45080549e-02+0.j,\n",
       "        -4.28050160e-02+0.j, -4.08490747e-02+0.j, -3.86527628e-02+0.j,\n",
       "        -3.62311564e-02+0.j, -3.36022153e-02+0.j, -3.07862647e-02+0.j,\n",
       "        -2.78061926e-02+0.j, -2.46872194e-02+0.j, -2.14567650e-02+0.j,\n",
       "        -1.81441866e-02+0.j, -1.47805698e-02+0.j, -1.13986814e-02+0.j,\n",
       "        -8.03262368e-03+0.j, -4.71735839e-03+0.j, -1.48889970e-03+0.j,\n",
       "        -5.03229618e-01+0.j,  4.56187874e-03+0.j,  7.31097907e-03+0.j,\n",
       "         9.82768834e-03+0.j,  1.20764282e-02+0.j,  1.40228560e-02+0.j,\n",
       "         1.56338438e-02+0.j,  1.68779083e-02+0.j,  1.77255310e-02+0.j],\n",
       "       [-4.65543047e-02+0.j, -4.61062193e-02+0.j, -4.53881696e-02+0.j,\n",
       "        -4.43995446e-02+0.j, -4.31424528e-02+0.j, -4.16215733e-02+0.j,\n",
       "        -3.98445651e-02+0.j, -3.78216840e-02+0.j, -3.55659723e-02+0.j,\n",
       "        -3.30932587e-02+0.j, -3.04218605e-02+0.j, -2.75727585e-02+0.j,\n",
       "        -2.45693699e-02+0.j, -2.14373320e-02+0.j, -1.82044432e-02+0.j,\n",
       "        -1.49004459e-02+0.j, -1.15568284e-02+0.j, -8.20660219e-03+0.j,\n",
       "        -4.88399947e-03+0.j, -1.62427314e-03+0.j,  1.53646222e-03+0.j,\n",
       "         4.56187222e-03+0.j, -5.81085920e-01+0.j,  1.00601763e-02+0.j,\n",
       "         1.24606062e-02+0.j,  1.45812985e-02+0.j,  1.63880810e-02+0.j,\n",
       "         1.78482365e-02+0.j,  1.89305358e-02+0.j,  1.96060091e-02+0.j],\n",
       "       [-4.40927856e-02+0.j, -4.35531735e-02+0.j, -4.27477770e-02+0.j,\n",
       "        -4.16765660e-02+0.j, -4.03423086e-02+0.j, -3.87503728e-02+0.j,\n",
       "        -3.69090103e-02+0.j, -3.48290466e-02+0.j, -3.25242579e-02+0.j,\n",
       "        -3.00108455e-02+0.j, -2.73078643e-02+0.j, -2.44367346e-02+0.j,\n",
       "        -2.14212425e-02+0.j, -1.82875860e-02+0.j, -1.50639396e-02+0.j,\n",
       "        -1.17803467e-02+0.j, -8.46868940e-03+0.j, -5.16213942e-03+0.j,\n",
       "        -1.89516740e-03+0.j,  1.29683455e-03+0.j,  4.37770970e-03+0.j,\n",
       "         7.31101818e-03+0.j,  1.00601939e-02+0.j, -6.53687358e-01+0.j,\n",
       "         1.48610212e-02+0.j,  1.68418698e-02+0.j,  1.84973981e-02+0.j,\n",
       "         1.97952464e-02+0.j,  2.07046233e-02+0.j,  2.11969987e-02+0.j],\n",
       "       [-4.16363552e-02+0.j, -4.10134383e-02+0.j, -4.01291624e-02+0.j,\n",
       "        -3.89842838e-02+0.j, -3.75821069e-02+0.j, -3.59287076e-02+0.j,\n",
       "        -3.40328552e-02+0.j, -3.19061205e-02+0.j, -2.95626745e-02+0.j,\n",
       "        -2.70193666e-02+0.j, -2.42957994e-02+0.j, -2.14138087e-02+0.j,\n",
       "        -1.83977038e-02+0.j, -1.52740497e-02+0.j, -1.20714270e-02+0.j,\n",
       "        -8.82021338e-03+0.j, -5.55244368e-03+0.j, -2.30166758e-03+0.j,\n",
       "         8.97535821e-04+0.j,  4.00969572e-03+0.j,  6.99854270e-03+0.j,\n",
       "         9.82767716e-03+0.j,  1.24606211e-02+0.j,  1.48610286e-02+0.j,\n",
       "        -7.20400810e-01+0.j,  1.88227315e-02+0.j,  2.03156024e-02+0.j,\n",
       "         2.14399807e-02+0.j,  2.21655779e-02+0.j,  2.24641953e-02+0.j],\n",
       "       [-3.92180085e-02+0.j, -3.85202728e-02+0.j, -3.75660509e-02+0.j,\n",
       "        -3.63567173e-02+0.j, -3.48962061e-02+0.j, -3.31911519e-02+0.j,\n",
       "        -3.12510133e-02+0.j, -2.90878415e-02+0.j, -2.67164782e-02+0.j,\n",
       "        -2.41542384e-02+0.j, -2.14212481e-02+0.j, -1.85397584e-02+0.j,\n",
       "        -1.55346133e-02+0.j, -1.24326758e-02+0.j, -9.26288776e-03+0.j,\n",
       "        -6.05594972e-03+0.j, -2.84410175e-03+0.j,  3.38861690e-04+0.j,\n",
       "         3.45824100e-03+0.j,  6.47850055e-03+0.j,  9.36334766e-03+0.j,\n",
       "         1.20764244e-02+0.j,  1.45812742e-02+0.j,  1.68418810e-02+0.j,\n",
       "         1.88227110e-02+0.j, -7.80654132e-01+0.j,  2.18084920e-02+0.j,\n",
       "         2.27485951e-02+0.j,  2.32798085e-02+0.j,  2.33745463e-02+0.j],\n",
       "       [-3.68708447e-02+0.j, -3.61071154e-02+0.j, -3.50921042e-02+0.j,\n",
       "        -3.38277444e-02+0.j, -3.23187187e-02+0.j, -3.05721276e-02+0.j,\n",
       "        -2.85980236e-02+0.j, -2.64090803e-02+0.j, -2.40206383e-02+0.j,\n",
       "        -2.14505605e-02+0.j, -1.87193863e-02+0.j, -1.58498958e-02+0.j,\n",
       "        -1.28672244e-02+0.j, -9.79871303e-03+0.j, -6.67359587e-03+0.j,\n",
       "        -3.52276908e-03+0.j, -3.78843397e-04+0.j,  2.72440049e-03+0.j,\n",
       "         5.75204287e-03+0.j,  8.66850652e-03+0.j,  1.14375465e-02+0.j,\n",
       "         1.40228346e-02+0.j,  1.63881071e-02+0.j,  1.84973925e-02+0.j,\n",
       "         2.03155875e-02+0.j,  2.18084976e-02+0.j, -8.33945572e-01+0.j,\n",
       "         2.36886702e-02+0.j,  2.40154602e-02+0.j,  2.38965750e-02+0.j],\n",
       "       [-3.46278474e-02+0.j, -3.38072926e-02+0.j, -3.27408910e-02+0.j,\n",
       "        -3.14312726e-02+0.j, -2.98836306e-02+0.j, -2.81057414e-02+0.j,\n",
       "        -2.61081830e-02+0.j, -2.39042118e-02+0.j, -2.15095989e-02+0.j,\n",
       "        -1.89428404e-02+0.j, -1.62247978e-02+0.j, -1.33787338e-02+0.j,\n",
       "        -1.04301665e-02+0.j, -7.40676094e-03+0.j, -4.33803257e-03+0.j,\n",
       "        -1.25516555e-03+0.j,  1.80909690e-03+0.j,  4.82083485e-03+0.j,\n",
       "         7.74501357e-03+0.j,  1.05460323e-02+0.j,  1.31877447e-02+0.j,\n",
       "         1.56338103e-02+0.j,  1.78482141e-02+0.j,  1.97952315e-02+0.j,\n",
       "         2.14399360e-02+0.j,  2.27486081e-02+0.j,  2.36887410e-02+0.j,\n",
       "        -8.79842639e-01+0.j,  2.43423209e-02+0.j,  2.40005292e-02+0.j],\n",
       "       [-3.25218216e-02+0.j, -3.16536054e-02+0.j, -3.05453762e-02+0.j,\n",
       "        -2.92003267e-02+0.j, -2.76241824e-02+0.j, -2.58254036e-02+0.j,\n",
       "        -2.38149650e-02+0.j, -2.16067564e-02+0.j, -1.92170329e-02+0.j,\n",
       "        -1.66646354e-02+0.j, -1.39710475e-02+0.j, -1.11598521e-02+0.j,\n",
       "        -8.25690851e-03+0.j, -5.29019535e-03+0.j, -2.28944793e-03+0.j,\n",
       "         7.13889080e-04+0.j,  3.68686160e-03+0.j,  6.59549190e-03+0.j,\n",
       "         9.40473471e-03+0.j,  1.20789595e-02+0.j,  1.45820705e-02+0.j,\n",
       "         1.68778878e-02+0.j,  1.89305991e-02+0.j,  2.07046419e-02+0.j,\n",
       "         2.21655555e-02+0.j,  2.32798215e-02+0.j,  2.40154602e-02+0.j,\n",
       "         2.43422650e-02+0.j, -9.17990327e-01+0.j,  2.36587990e-02+0.j],\n",
       "       [-3.05845328e-02+0.j, -2.96781640e-02+0.j, -2.85378229e-02+0.j,\n",
       "        -2.71672774e-02+0.j, -2.55728625e-02+0.j, -2.37635672e-02+0.j,\n",
       "        -2.17508972e-02+0.j, -1.95492264e-02+0.j, -1.71753354e-02+0.j,\n",
       "        -1.46484990e-02+0.j, -1.19905602e-02+0.j, -9.22547840e-03+0.j,\n",
       "        -6.37951493e-03+0.j, -3.48085258e-03+0.j, -5.59549604e-04+0.j,\n",
       "         2.35280092e-03+0.j,  5.22318855e-03+0.j,  8.01743381e-03+0.j,\n",
       "         1.07005443e-02+0.j,  1.32369408e-02+0.j,  1.55905420e-02+0.j,\n",
       "         1.77255273e-02+0.j,  1.96060427e-02+0.j,  2.11969465e-02+0.j,\n",
       "         2.24642232e-02+0.j,  2.33745724e-02+0.j,  2.38965787e-02+0.j,\n",
       "         2.40005143e-02+0.j,  2.36588083e-02+0.j, -9.48111951e-01+0.j]],      dtype=complex64)"
      ]
     },
     "execution_count": 5,
     "metadata": {},
     "output_type": "execute_result"
    }
   ],
   "source": [
    "povm_measure_operator(1, 0.1, 0.5)"
   ]
  },
  {
   "cell_type": "code",
   "execution_count": 6,
   "id": "b60945a8",
   "metadata": {},
   "outputs": [],
   "source": [
    "# TODO: Have a default NN and then give user the ability to supply a model or a function\n",
    "result = optimize_pulse_with_feedback(\n",
    "    U_0=rho_cav,\n",
    "    C_target=None,\n",
    "    parameterized_gates=[],\n",
    "    povm_measure_operator=povm_measure_operator,\n",
    "    initial_params=jnp.array([0.1, -3 * jnp.pi / 2]).reshape((2, 1)),\n",
    "    num_time_steps=5,\n",
    "    mode=\"nn\",\n",
    "    goal=\"purity\",\n",
    "    optimizer=\"adam\",\n",
    "    max_iter=100,\n",
    "    convergence_threshold=1e-6,\n",
    "    learning_rate=0.1,\n",
    "    type=\"density\",\n",
    ")"
   ]
  },
  {
   "cell_type": "code",
   "execution_count": 7,
   "id": "71dc8f94",
   "metadata": {},
   "outputs": [
    {
     "name": "stdout",
     "output_type": "stream",
     "text": [
      "0.97813827\n"
     ]
    }
   ],
   "source": [
    "print(result.final_purity)"
   ]
  },
  {
   "cell_type": "code",
   "execution_count": 8,
   "id": "76b8e6a6",
   "metadata": {},
   "outputs": [
    {
     "name": "stdout",
     "output_type": "stream",
     "text": [
      "0.09735386\n",
      "0.9026438\n"
     ]
    }
   ],
   "source": [
    "from feedback_grape.fgrape_parameterized import (\n",
    "    _probability_of_a_measurement_outcome_given_a_certain_state,\n",
    ")\n",
    "# from feedback_grape.fgrape import (\n",
    "#     _probability_of_a_measurement_outcome_given_a_certain_state,\n",
    "# )\n",
    "\n",
    "# variables = jnp.array([0.1, -3 * jnp.pi / 2]).reshape((2, 1))\n",
    "variables_2 = {\n",
    "    \"gamma\": 0.1,\n",
    "    \"delta\": -3 * jnp.pi / 2,\n",
    "}\n",
    "print(\n",
    "    _probability_of_a_measurement_outcome_given_a_certain_state(\n",
    "        rho_cav, -1, povm_measure_operator, variables_2\n",
    "    )\n",
    ")\n",
    "print(\n",
    "    _probability_of_a_measurement_outcome_given_a_certain_state(\n",
    "        rho_cav, 1, povm_measure_operator, variables_2\n",
    "    )\n",
    ")"
   ]
  },
  {
   "cell_type": "code",
   "execution_count": 9,
   "id": "e5a742f7",
   "metadata": {},
   "outputs": [
    {
     "name": "stdout",
     "output_type": "stream",
     "text": [
      "initial purity: 0.20000206\n",
      "Final purity: 0.97813827\n"
     ]
    }
   ],
   "source": [
    "# TODO: See why this outputs sth different fromt the purity in the result\n",
    "from feedback_grape.fgrape_parameterized import purity\n",
    "\n",
    "print(\"initial purity:\", purity(rho=rho_cav, type=\"density\"))\n",
    "print(\"Final purity:\", purity(rho=result.final_state, type=\"density\"))"
   ]
  },
  {
   "cell_type": "code",
   "execution_count": 10,
   "id": "5f07d179",
   "metadata": {},
   "outputs": [
    {
     "data": {
      "text/plain": [
       "Array([[ -0.60645306,  -6.87573   ],\n",
       "       [ -1.1289179 , -12.420244  ],\n",
       "       [ -0.43895918, -13.843808  ],\n",
       "       [ -0.27801913, -14.0499935 ],\n",
       "       [ -0.19888002, -14.136043  ]], dtype=float32)"
      ]
     },
     "execution_count": 10,
     "metadata": {},
     "output_type": "execute_result"
    }
   ],
   "source": [
    "result.arr_of_povm_params"
   ]
  },
  {
   "cell_type": "markdown",
   "id": "1264dba4",
   "metadata": {},
   "source": [
    "### Check stash for replacement of dict implementation"
   ]
  },
  {
   "cell_type": "code",
   "execution_count": 11,
   "id": "f8d87f94",
   "metadata": {},
   "outputs": [],
   "source": [
    "from feedback_grape.fgrape_parameterized import (\n",
    "    povm)\n",
    "time_steps = 5\n",
    "\n",
    "rho = rho_cav\n",
    "key = jax.random.PRNGKey(0)\n",
    "for i in range(time_steps):\n",
    "    params = {\"gamma\": result.arr_of_povm_params[i, 0], \"delta\": result.arr_of_povm_params[i, 1]}\n",
    "    rho, _, _, _ = povm(rho, povm_measure_operator, params, key)\n",
    "final_rho_cav = rho\n"
   ]
  },
  {
   "cell_type": "code",
   "execution_count": 12,
   "id": "f167ff61",
   "metadata": {},
   "outputs": [
    {
     "name": "stdout",
     "output_type": "stream",
     "text": [
      "Final purity: 0.98238134\n"
     ]
    }
   ],
   "source": [
    "print(\"Final purity:\", purity(rho=final_rho_cav, type=\"density\"))"
   ]
  }
 ],
 "metadata": {
  "kernelspec": {
   "display_name": "Python 3",
   "language": "python",
   "name": "python3"
  },
  "language_info": {
   "codemirror_mode": {
    "name": "ipython",
    "version": 3
   },
   "file_extension": ".py",
   "mimetype": "text/x-python",
   "name": "python",
   "nbconvert_exporter": "python",
   "pygments_lexer": "ipython3",
   "version": "3.11.11"
  }
 },
 "nbformat": 4,
 "nbformat_minor": 5
}

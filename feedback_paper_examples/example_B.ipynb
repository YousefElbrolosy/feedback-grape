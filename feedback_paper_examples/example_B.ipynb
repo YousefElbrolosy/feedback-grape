{
 "cells": [
  {
   "cell_type": "markdown",
   "id": "7f793d9d",
   "metadata": {},
   "source": [
    "# B. State purification with qubit-mediated measurement"
   ]
  },
  {
   "cell_type": "code",
   "execution_count": 13,
   "id": "39fee84d",
   "metadata": {},
   "outputs": [],
   "source": [
    "# ruff: noqa\n",
    "import os\n",
    "\n",
    "os.sys.path.append(\"..\")\n",
    "from feedback_grape.fgrape import optimize_pulse_with_feedback\n",
    "import jax.numpy as jnp"
   ]
  },
  {
   "cell_type": "markdown",
   "id": "95c2028a",
   "metadata": {},
   "source": [
    "## The cavity is initially in a  mixed state --> Goal is to purify the state\n",
    "\n",
    "We are trying to maximize the property determined by $tr (\\rho_{\\text{cav}}^2)$ which is the purity"
   ]
  },
  {
   "attachments": {
    "image.png": {
     "image/png": "[encoded data removed]"
    }
   },
   "cell_type": "markdown",
   "id": "3fabfed7",
   "metadata": {},
   "source": [
    "In the following, we consider an adaptive measurement\n",
    "scheme, demonstrated in a series of experiments on Rydberg atoms interacting\n",
    "with microwave cavities. In this scheme, the\n",
    "cavity is coupled to an ancilla qubit, which can then be\n",
    "read out to update our knowledge of the quantum state of\n",
    "the cavity.\n",
    "\n",
    "![image.png](attachment:image.png)"
   ]
  },
  {
   "cell_type": "code",
   "execution_count": 14,
   "id": "aa40b5b2",
   "metadata": {},
   "outputs": [],
   "source": [
    "# initial state is a thermal state\n",
    "n_average = 2\n",
    "N_cavity = 30\n",
    "# natural logarithm\n",
    "beta = jnp.log((1 / n_average) + 1)\n",
    "diags = jnp.exp(-beta * jnp.arange(N_cavity))\n",
    "normalized_diags = diags / jnp.sum(diags, axis=0)\n",
    "rho_cav = jnp.diag(normalized_diags)"
   ]
  },
  {
   "cell_type": "markdown",
   "id": "ef889609",
   "metadata": {},
   "source": [
    "### Now the thing is here, we don't need a rho_final because the purity or the reward that we want to maximize is $tr (\\rho_{\\text{cav}}^2)$.\n",
    "Unlike fidelity expressions which wants to find how close to states are"
   ]
  },
  {
   "cell_type": "markdown",
   "id": "7c755428",
   "metadata": {},
   "source": [
    "## Next Step is to construct our POVM"
   ]
  },
  {
   "cell_type": "code",
   "execution_count": 15,
   "id": "5c617fea",
   "metadata": {},
   "outputs": [],
   "source": [
    "from feedback_grape.utils.operators import cosm, sinm"
   ]
  },
  {
   "cell_type": "code",
   "execution_count": 16,
   "id": "9387e6a5",
   "metadata": {},
   "outputs": [],
   "source": [
    "from feedback_grape.utils.operators import create, destroy\n",
    "import jax\n",
    "\n",
    "\n",
    "def povm_measure_operator(measurement_outcome, params):\n",
    "    \"\"\"\n",
    "    POVM for the measurement of the cavity state.\n",
    "    returns Mm ( NOT the POVM element Em = Mm_dag @ Mm ), given measurement_outcome m, gamma and delta\n",
    "    \"\"\"\n",
    "    # TODO: see if there is a better way other than flattening\n",
    "    gamma, delta = params.flatten()\n",
    "    number_operator = create(N_cavity) @ destroy(N_cavity)\n",
    "    angle = (gamma * number_operator) + delta / 2\n",
    "    return jnp.where(\n",
    "        measurement_outcome == 1,\n",
    "        cosm(angle),\n",
    "        sinm(angle),\n",
    "    )"
   ]
  },
  {
   "cell_type": "code",
   "execution_count": 17,
   "id": "f8ebff1f",
   "metadata": {},
   "outputs": [
    {
     "data": {
      "text/plain": [
       "Array([[ 9.46538594e-01+0.j, -5.59640246e-02+0.j, -5.82155362e-02+0.j,\n",
       "        -6.02009577e-02+0.j, -6.19076542e-02+0.j, -6.33254781e-02+0.j,\n",
       "        -6.44468854e-02+0.j, -6.52670278e-02+0.j, -6.57838308e-02+0.j,\n",
       "        -6.59980349e-02+0.j, -6.59132236e-02+0.j, -6.55358213e-02+0.j,\n",
       "        -6.48750699e-02+0.j, -6.39429724e-02+0.j, -6.27542213e-02+0.j,\n",
       "        -6.13260999e-02+0.j, -5.96783540e-02+0.j, -5.78330422e-02+0.j,\n",
       "        -5.58143787e-02+0.j, -5.36485136e-02+0.j, -5.13633854e-02+0.j,\n",
       "        -4.89884121e-02+0.j, -4.65543102e-02+0.j, -4.40928080e-02+0.j,\n",
       "        -4.16363993e-02+0.j, -3.92180410e-02+0.j, -3.68708677e-02+0.j,\n",
       "        -3.46279266e-02+0.j, -3.25218491e-02+0.j, -3.05845823e-02+0.j],\n",
       "       [-5.59640246e-02+0.j,  9.36660390e-01+0.j, -6.04670480e-02+0.j,\n",
       "        -6.23194243e-02+0.j, -6.38888641e-02+0.j, -6.51658415e-02+0.j,\n",
       "        -6.61434574e-02+0.j, -6.68175285e-02+0.j, -6.71866603e-02+0.j,\n",
       "        -6.72522862e-02+0.j, -6.70186901e-02+0.j, -6.64930009e-02+0.j,\n",
       "        -6.56851649e-02+0.j, -6.46078848e-02+0.j, -6.32765440e-02+0.j,\n",
       "        -6.17091052e-02+0.j, -5.99259760e-02+0.j, -5.79498558e-02+0.j,\n",
       "        -5.58055760e-02+0.j, -5.35198741e-02+0.j, -5.11212465e-02+0.j,\n",
       "        -4.86396314e-02+0.j, -4.61062286e-02+0.j, -4.35532073e-02+0.j,\n",
       "        -4.10134591e-02+0.j, -3.85202917e-02+0.j, -3.61071414e-02+0.j,\n",
       "        -3.38073074e-02+0.j, -3.16536203e-02+0.j, -2.96781736e-02+0.j],\n",
       "       [-5.82155362e-02+0.j, -6.04670480e-02+0.j,  9.17609498e-01+0.j,\n",
       "        -6.41718002e-02+0.j, -6.55997718e-02+0.j, -6.67321057e-02+0.j,\n",
       "        -6.75625594e-02+0.j, -6.80876245e-02+0.j, -6.83065956e-02+0.j,\n",
       "        -6.82216058e-02+0.j, -6.78376453e-02+0.j, -6.71625511e-02+0.j,\n",
       "        -6.62069765e-02+0.j, -6.49843244e-02+0.j, -6.35106687e-02+0.j,\n",
       "        -6.18046481e-02+0.j, -5.98873280e-02+0.j, -5.77820430e-02+0.j,\n",
       "        -5.55142341e-02+0.j, -5.31112169e-02+0.j, -5.06020353e-02+0.j,\n",
       "        -4.80171359e-02+0.j, -4.53881877e-02+0.j, -4.27477865e-02+0.j,\n",
       "        -4.01292052e-02+0.j, -3.75660851e-02+0.j, -3.50921454e-02+0.j,\n",
       "        -3.27409179e-02+0.j, -3.05454116e-02+0.j, -2.85378451e-02+0.j],\n",
       "       [-6.02009577e-02+0.j, -6.23194243e-02+0.j, -6.41718002e-02+0.j,\n",
       "         8.89591647e-01+0.j, -6.70277436e-02+0.j, -6.80122587e-02+0.j,\n",
       "        -6.86928124e-02+0.j, -6.90665808e-02+0.j, -6.91335549e-02+0.j,\n",
       "        -6.88965735e-02+0.j, -6.83613375e-02+0.j, -6.75363949e-02+0.j,\n",
       "        -6.64331073e-02+0.j, -6.50655768e-02+0.j, -6.34505658e-02+0.j,\n",
       "        -6.16073854e-02+0.j, -5.95577532e-02+0.j, -5.73256317e-02+0.j,\n",
       "        -5.49370628e-02+0.j, -5.24199304e-02+0.j, -4.98038138e-02+0.j,\n",
       "        -4.71196544e-02+0.j, -4.43995764e-02+0.j, -4.16765858e-02+0.j,\n",
       "        -3.89843197e-02+0.j, -3.63567342e-02+0.j, -3.38278124e-02+0.j,\n",
       "        -3.14312975e-02+0.j, -2.92003558e-02+0.j, -2.71673082e-02+0.j],\n",
       "       [-6.19076542e-02+0.j, -6.38888641e-02+0.j, -6.55997718e-02+0.j,\n",
       "        -6.70277436e-02+0.j,  8.52898388e-01+0.j, -6.89967737e-02+0.j,\n",
       "        -6.95253466e-02+0.j, -6.97461933e-02+0.j, -6.96600078e-02+0.j,\n",
       "        -6.92703395e-02+0.j, -6.85836031e-02+0.j, -6.76090594e-02+0.j,\n",
       "        -6.63587777e-02+0.j, -6.48475583e-02+0.j, -6.30928481e-02+0.j,\n",
       "        -6.11146256e-02+0.j, -5.89352540e-02+0.j, -5.65793154e-02+0.j,\n",
       "        -5.40734427e-02+0.j, -5.14460763e-02+0.j, -4.87273182e-02+0.j,\n",
       "        -4.59485904e-02+0.j, -4.31424560e-02+0.j, -4.03423144e-02+0.j,\n",
       "        -3.75821487e-02+0.j, -3.48962100e-02+0.j, -3.23187247e-02+0.j,\n",
       "        -2.98836258e-02+0.j, -2.76242145e-02+0.j, -2.55728908e-02+0.j],\n",
       "       [-6.33254781e-02+0.j, -6.51658415e-02+0.j, -6.67321057e-02+0.j,\n",
       "        -6.80122587e-02+0.j, -6.89967737e-02+0.j,  8.07903830e-01+0.j,\n",
       "        -7.00539193e-02+0.j, -7.01209032e-02+0.j, -6.98810859e-02+0.j,\n",
       "        -6.93387309e-02+0.j, -6.85009690e-02+0.j, -6.73777737e-02+0.j,\n",
       "        -6.59819212e-02+0.j, -6.43289064e-02+0.j, -6.24368564e-02+0.j,\n",
       "        -6.03264109e-02+0.j, -5.80205704e-02+0.j, -5.55445272e-02+0.j,\n",
       "        -5.29254940e-02+0.j, -5.01924553e-02+0.j, -4.73760211e-02+0.j,\n",
       "        -4.45080789e-02+0.j, -4.16216138e-02+0.j, -3.87504002e-02+0.j,\n",
       "        -3.59287475e-02+0.j, -3.31911818e-02+0.j, -3.05721509e-02+0.j,\n",
       "        -2.81057553e-02+0.j, -2.58254074e-02+0.j, -2.37635623e-02+0.j],\n",
       "       [-6.44468854e-02+0.j, -6.61434574e-02+0.j, -6.75625594e-02+0.j,\n",
       "        -6.86928124e-02+0.j, -6.95253466e-02+0.j, -7.00539193e-02+0.j,\n",
       "         7.55060579e-01+0.j, -7.01878873e-02+0.j, -6.97946691e-02+0.j,\n",
       "        -6.91003346e-02+0.j, -6.81127312e-02+0.j, -6.68425444e-02+0.j,\n",
       "        -6.53032545e-02+0.j, -6.35110470e-02+0.j, -6.14847231e-02+0.j,\n",
       "        -5.92455761e-02+0.j, -5.68172348e-02+0.j, -5.42254909e-02+0.j,\n",
       "        -5.14981242e-02+0.j, -4.86646498e-02+0.j, -4.57561704e-02+0.j,\n",
       "        -4.28050220e-02+0.j, -3.98445938e-02+0.j, -3.69090160e-02+0.j,\n",
       "        -3.40329039e-02+0.j, -3.12510367e-02+0.j, -2.85980615e-02+0.j,\n",
       "        -2.61082225e-02+0.j, -2.38150193e-02+0.j, -2.17509371e-02+0.j],\n",
       "       [-6.52670278e-02+0.j, -6.68175285e-02+0.j, -6.80876245e-02+0.j,\n",
       "        -6.90665808e-02+0.j, -6.97461933e-02+0.j, -7.01209032e-02+0.j,\n",
       "        -7.01878873e-02+0.j,  6.94895091e-01+0.j, -6.94014513e-02+0.j,\n",
       "        -6.85565589e-02+0.j, -6.74210133e-02+0.j, -6.60062097e-02+0.j,\n",
       "        -6.43263289e-02+0.j, -6.23982414e-02+0.j, -6.02414154e-02+0.j,\n",
       "        -5.78777888e-02+0.j, -5.53316083e-02+0.j, -5.26292529e-02+0.j,\n",
       "        -4.97990562e-02+0.j, -4.68710487e-02+0.j, -4.38768095e-02+0.j,\n",
       "        -4.08491050e-02+0.j, -3.78217095e-02+0.j, -3.48290888e-02+0.j,\n",
       "        -3.19061425e-02+0.j, -2.90878805e-02+0.j, -2.64091254e-02+0.j,\n",
       "        -2.39042412e-02+0.j, -2.16067895e-02+0.j, -1.95492597e-02+0.j],\n",
       "       [-6.57838308e-02+0.j, -6.71866603e-02+0.j, -6.83065956e-02+0.j,\n",
       "        -6.91335549e-02+0.j, -6.96600078e-02+0.j, -6.98810859e-02+0.j,\n",
       "        -6.97946691e-02+0.j, -6.94014513e-02+0.j,  6.28001765e-01+0.j,\n",
       "        -6.77116669e-02+0.j, -6.64307945e-02+0.j, -6.48744631e-02+0.j,\n",
       "        -6.30575485e-02+0.j, -6.09975995e-02+0.j, -5.87147431e-02+0.j,\n",
       "        -5.62315516e-02+0.j, -5.35728780e-02+0.j, -5.07656754e-02+0.j,\n",
       "        -4.78388165e-02+0.j, -4.48228308e-02+0.j, -4.17497561e-02+0.j,\n",
       "        -3.86527708e-02+0.j, -3.55660138e-02+0.j, -3.25242650e-02+0.j,\n",
       "        -2.95626860e-02+0.j, -2.67164940e-02+0.j, -2.40206630e-02+0.j,\n",
       "        -2.15096510e-02+0.j, -1.92170562e-02+0.j, -1.71753459e-02+0.j],\n",
       "       [-6.59980349e-02+0.j, -6.72522862e-02+0.j, -6.82216058e-02+0.j,\n",
       "        -6.88965735e-02+0.j, -6.92703395e-02+0.j, -6.93387309e-02+0.j,\n",
       "        -6.91003346e-02+0.j, -6.85565589e-02+0.j, -6.77116669e-02+0.j,\n",
       "         5.55037177e-01+0.j, -6.51499215e-02+0.j, -6.34558612e-02+0.j,\n",
       "        -6.15061749e-02+0.j, -5.93190819e-02+0.j, -5.69153578e-02+0.j,\n",
       "        -5.43181985e-02+0.j, -5.15530501e-02+0.j, -4.86474254e-02+0.j,\n",
       "        -4.56307204e-02+0.j, -4.25339465e-02+0.j, -3.93895812e-02+0.j,\n",
       "        -3.62311949e-02+0.j, -3.30932700e-02+0.j, -3.00108783e-02+0.j,\n",
       "        -2.70194197e-02+0.j, -2.41542945e-02+0.j, -2.14506027e-02+0.j,\n",
       "        -1.89428709e-02+0.j, -1.66647068e-02+0.j, -1.46485286e-02+0.j],\n",
       "       [-6.59132236e-02+0.j, -6.70186901e-02+0.j, -6.78376453e-02+0.j,\n",
       "        -6.83613375e-02+0.j, -6.85836031e-02+0.j, -6.85009690e-02+0.j,\n",
       "        -6.81127312e-02+0.j, -6.74210133e-02+0.j, -6.64307945e-02+0.j,\n",
       "        -6.51499215e-02+0.j,  4.76713215e-01+0.j, -6.17618025e-02+0.j,\n",
       "        -5.96843016e-02+0.j, -5.73754687e-02+0.j, -5.48567174e-02+0.j,\n",
       "        -5.21518543e-02+0.j, -4.92869048e-02+0.j, -4.62899260e-02+0.j,\n",
       "        -4.31908197e-02+0.j, -4.00210609e-02+0.j, -3.68135472e-02+0.j,\n",
       "        -3.36022198e-02+0.j, -3.04218824e-02+0.j, -2.73078754e-02+0.j,\n",
       "        -2.42958128e-02+0.j, -2.14212527e-02+0.j, -1.87193952e-02+0.j,\n",
       "        -1.62248087e-02+0.j, -1.39710835e-02+0.j, -1.19905606e-02+0.j],\n",
       "       [-6.55358213e-02+0.j, -6.64930009e-02+0.j, -6.71625511e-02+0.j,\n",
       "        -6.75363949e-02+0.j, -6.76090594e-02+0.j, -6.73777737e-02+0.j,\n",
       "        -6.68425444e-02+0.j, -6.60062097e-02+0.j, -6.48744631e-02+0.j,\n",
       "        -6.34558612e-02+0.j, -6.17618025e-02+0.j,  3.93789561e-01+0.j,\n",
       "        -5.76067968e-02+0.j, -5.51822986e-02+0.j, -5.25550202e-02+0.j,\n",
       "        -4.97493650e-02+0.j, -4.67919224e-02+0.j, -4.37112770e-02+0.j,\n",
       "        -4.05378186e-02+0.j, -3.73034659e-02+0.j, -3.40415159e-02+0.j,\n",
       "        -3.07862586e-02+0.j, -2.75727958e-02+0.j, -2.44367123e-02+0.j,\n",
       "        -2.14138111e-02+0.j, -1.85397819e-02+0.j, -1.58498985e-02+0.j,\n",
       "        -1.33787434e-02+0.j, -1.11598616e-02+0.j, -9.22548879e-03+0.j],\n",
       "       [-6.48750699e-02+0.j, -6.56851649e-02+0.j, -6.62069765e-02+0.j,\n",
       "        -6.64331073e-02+0.j, -6.63587777e-02+0.j, -6.59819212e-02+0.j,\n",
       "        -6.53032545e-02+0.j, -6.43263289e-02+0.j, -6.30575485e-02+0.j,\n",
       "        -6.15061749e-02+0.j, -5.96843016e-02+0.j, -5.76067968e-02+0.j,\n",
       "         3.07066514e-01+0.j, -5.27578028e-02+0.j, -5.00291355e-02+0.j,\n",
       "        -4.71302243e-02+0.j, -4.40882064e-02+0.j, -4.09321757e-02+0.j,\n",
       "        -3.76929907e-02+0.j, -3.44029937e-02+0.j, -3.10958586e-02+0.j,\n",
       "        -2.78062016e-02+0.j, -2.45693986e-02+0.j, -2.14212535e-02+0.j,\n",
       "        -1.83977323e-02+0.j, -1.55346298e-02+0.j, -1.28672658e-02+0.j,\n",
       "        -1.04302090e-02+0.j, -8.25693053e-03+0.j, -6.37953221e-03+0.j],\n",
       "       [-6.39429724e-02+0.j, -6.46078848e-02+0.j, -6.49843244e-02+0.j,\n",
       "        -6.50655768e-02+0.j, -6.48475583e-02+0.j, -6.43289064e-02+0.j,\n",
       "        -6.35110470e-02+0.j, -6.23982414e-02+0.j, -6.09975995e-02+0.j,\n",
       "        -5.93190819e-02+0.j, -5.73754687e-02+0.j, -5.51822986e-02+0.j,\n",
       "        -5.27578028e-02+0.j,  2.17376052e-01+0.j, -4.73004708e-02+0.j,\n",
       "        -4.43164364e-02+0.j, -4.11983410e-02+0.j, -3.79757689e-02+0.j,\n",
       "        -3.46800271e-02+0.j, -3.13438598e-02+0.j, -2.80012951e-02+0.j,\n",
       "        -2.46872515e-02+0.j, -2.14373537e-02+0.j, -1.82875991e-02+0.j,\n",
       "        -1.52740901e-02+0.j, -1.24326987e-02+0.j, -9.79876291e-03+0.j,\n",
       "        -7.40680899e-03+0.j, -5.29020533e-03+0.j, -3.48089030e-03+0.j],\n",
       "       [-6.27542213e-02+0.j, -6.32765440e-02+0.j, -6.35106687e-02+0.j,\n",
       "        -6.34505658e-02+0.j, -6.30928481e-02+0.j, -6.24368564e-02+0.j,\n",
       "        -6.14847231e-02+0.j, -6.02414154e-02+0.j, -5.87147431e-02+0.j,\n",
       "        -5.69153578e-02+0.j, -5.48567174e-02+0.j, -5.25550202e-02+0.j,\n",
       "        -5.00291355e-02+0.j, -4.73004708e-02+0.j,  1.25574190e-01+0.j,\n",
       "        -4.13323993e-02+0.j, -3.81472717e-02+0.j, -3.48675310e-02+0.j,\n",
       "        -3.15249109e-02+0.j, -2.81525352e-02+0.j, -2.47847623e-02+0.j,\n",
       "        -2.14567880e-02+0.j, -1.82044606e-02+0.j, -1.50639440e-02+0.j,\n",
       "        -1.20714493e-02+0.j, -9.26289795e-03+0.j, -6.67361736e-03+0.j,\n",
       "        -4.33806217e-03+0.j, -2.28946861e-03+0.j, -5.59581960e-04+0.j],\n",
       "       [-6.13260999e-02+0.j, -6.17091052e-02+0.j, -6.18046481e-02+0.j,\n",
       "        -6.16073854e-02+0.j, -6.11146256e-02+0.j, -6.03264109e-02+0.j,\n",
       "        -5.92455761e-02+0.j, -5.78777888e-02+0.j, -5.62315516e-02+0.j,\n",
       "        -5.43181985e-02+0.j, -5.21518543e-02+0.j, -4.97493650e-02+0.j,\n",
       "        -4.71302243e-02+0.j, -4.43164364e-02+0.j, -4.13323993e-02+0.j,\n",
       "         3.25323625e-02+0.j, -3.49621411e-02+0.j, -3.16350954e-02+0.j,\n",
       "        -2.82557450e-02+0.j, -2.48575699e-02+0.j, -2.14752342e-02+0.j,\n",
       "        -1.81441856e-02+0.j, -1.49004689e-02+0.j, -1.17803875e-02+0.j,\n",
       "        -8.82023293e-03+0.j, -6.05594751e-03+0.j, -3.52281873e-03+0.j,\n",
       "        -1.25520001e-03+0.j,  7.13834408e-04+0.j,  2.35276233e-03+0.j],\n",
       "       [-5.96783540e-02+0.j, -5.99259760e-02+0.j, -5.98873280e-02+0.j,\n",
       "        -5.95577532e-02+0.j, -5.89352540e-02+0.j, -5.80205704e-02+0.j,\n",
       "        -5.68172348e-02+0.j, -5.53316083e-02+0.j, -5.35728780e-02+0.j,\n",
       "        -5.15530501e-02+0.j, -4.92869048e-02+0.j, -4.67919224e-02+0.j,\n",
       "        -4.40882064e-02+0.j, -4.11983410e-02+0.j, -3.81472717e-02+0.j,\n",
       "        -3.49621411e-02+0.j, -6.08716130e-02+0.j, -2.83080527e-02+0.j,\n",
       "        -2.49025470e-02+0.j, -2.14893849e-02+0.j, -1.81035107e-02+0.j,\n",
       "        -1.47805977e-02+0.j, -1.15568600e-02+0.j, -8.46871244e-03+0.j,\n",
       "        -5.55249830e-03+0.j, -2.84415128e-03+0.j, -3.78889492e-04+0.j,\n",
       "         1.80906498e-03+0.j,  3.68683001e-03+0.j,  5.22313678e-03+0.j],\n",
       "       [-5.78330422e-02+0.j, -5.79498558e-02+0.j, -5.77820430e-02+0.j,\n",
       "        -5.73256317e-02+0.j, -5.65793154e-02+0.j, -5.55445272e-02+0.j,\n",
       "        -5.42254909e-02+0.j, -5.26292529e-02+0.j, -5.07656754e-02+0.j,\n",
       "        -4.86474254e-02+0.j, -4.62899260e-02+0.j, -4.37112770e-02+0.j,\n",
       "        -4.09321757e-02+0.j, -3.79757689e-02+0.j, -3.48675310e-02+0.j,\n",
       "        -3.16350954e-02+0.j, -2.83080527e-02+0.j, -1.53762235e-01+0.j,\n",
       "        -2.14970347e-02+0.j, -1.80800542e-02+0.j, -1.47019967e-02+0.j,\n",
       "        -1.13987340e-02+0.j, -8.20662145e-03+0.j, -5.16215677e-03+0.j,\n",
       "        -2.30170570e-03+0.j,  3.38836404e-04+0.j,  2.72435087e-03+0.j,\n",
       "         4.82077732e-03+0.j,  6.59545622e-03+0.j,  8.01740258e-03+0.j],\n",
       "       [-5.58143787e-02+0.j, -5.58055760e-02+0.j, -5.55142341e-02+0.j,\n",
       "        -5.49370628e-02+0.j, -5.40734427e-02+0.j, -5.29254940e-02+0.j,\n",
       "        -5.14981242e-02+0.j, -4.97990562e-02+0.j, -4.78388165e-02+0.j,\n",
       "        -4.56307204e-02+0.j, -4.31908197e-02+0.j, -4.05378186e-02+0.j,\n",
       "        -3.76929907e-02+0.j, -3.46800271e-02+0.j, -3.15249109e-02+0.j,\n",
       "        -2.82557450e-02+0.j, -2.49025470e-02+0.j, -2.14970347e-02+0.j,\n",
       "        -2.45274326e-01+0.j, -1.46630932e-02+0.j, -1.13044874e-02+0.j,\n",
       "        -8.03264234e-03+0.j, -4.88402607e-03+0.j, -1.89518992e-03+0.j,\n",
       "         8.97507662e-04+0.j,  3.45823976e-03+0.j,  5.75201757e-03+0.j,\n",
       "         7.74497308e-03+0.j,  9.40469995e-03+0.j,  1.07005277e-02+0.j],\n",
       "       [-5.36485136e-02+0.j, -5.35198741e-02+0.j, -5.31112169e-02+0.j,\n",
       "        -5.24199304e-02+0.j, -5.14460763e-02+0.j, -5.01924553e-02+0.j,\n",
       "        -4.86646498e-02+0.j, -4.68710487e-02+0.j, -4.48228308e-02+0.j,\n",
       "        -4.25339465e-02+0.j, -4.00210609e-02+0.j, -3.73034659e-02+0.j,\n",
       "        -3.44029937e-02+0.j, -3.13438598e-02+0.j, -2.81525352e-02+0.j,\n",
       "        -2.48575699e-02+0.j, -2.14893849e-02+0.j, -1.80800542e-02+0.j,\n",
       "        -1.46630932e-02+0.j, -3.34562902e-01+0.j, -7.94586248e-03+0.j,\n",
       "        -4.71740110e-03+0.j, -1.62432252e-03+0.j,  1.29679808e-03+0.j,\n",
       "         4.00963971e-03+0.j,  6.47847440e-03+0.j,  8.66847388e-03+0.j,\n",
       "         1.05459934e-02+0.j,  1.20789105e-02+0.j,  1.32368999e-02+0.j],\n",
       "       [-5.13633854e-02+0.j, -5.11212465e-02+0.j, -5.06020353e-02+0.j,\n",
       "        -4.98038138e-02+0.j, -4.87273182e-02+0.j, -4.73760211e-02+0.j,\n",
       "        -4.57561704e-02+0.j, -4.38768095e-02+0.j, -4.17497561e-02+0.j,\n",
       "        -3.93895812e-02+0.j, -3.68135472e-02+0.j, -3.40415159e-02+0.j,\n",
       "        -3.10958586e-02+0.j, -2.80012951e-02+0.j, -2.47847623e-02+0.j,\n",
       "        -2.14752342e-02+0.j, -1.81035107e-02+0.j, -1.47019967e-02+0.j,\n",
       "        -1.13044874e-02+0.j, -7.94586248e-03+0.j, -4.20808752e-01+0.j,\n",
       "        -1.48894588e-03+0.j,  1.53644144e-03+0.j,  4.37767710e-03+0.j,\n",
       "         6.99850813e-03+0.j,  9.36333627e-03+0.j,  1.14375247e-02+0.j,\n",
       "         1.31876828e-02+0.j,  1.45820030e-02+0.j,  1.55905357e-02+0.j],\n",
       "       [-4.89884121e-02+0.j, -4.86396314e-02+0.j, -4.80171359e-02+0.j,\n",
       "        -4.71196544e-02+0.j, -4.59485904e-02+0.j, -4.45080789e-02+0.j,\n",
       "        -4.28050220e-02+0.j, -4.08491050e-02+0.j, -3.86527708e-02+0.j,\n",
       "        -3.62311949e-02+0.j, -3.36022198e-02+0.j, -3.07862586e-02+0.j,\n",
       "        -2.78062016e-02+0.j, -2.46872515e-02+0.j, -2.14567880e-02+0.j,\n",
       "        -1.81441856e-02+0.j, -1.47805977e-02+0.j, -1.13987340e-02+0.j,\n",
       "        -8.03264234e-03+0.j, -4.71740110e-03+0.j, -1.48894588e-03+0.j,\n",
       "        -5.03229764e-01+0.j,  4.56182875e-03+0.j,  7.31098579e-03+0.j,\n",
       "         9.82765766e-03+0.j,  1.20764068e-02+0.j,  1.40228188e-02+0.j,\n",
       "         1.56337883e-02+0.j,  1.68778534e-02+0.j,  1.77254709e-02+0.j],\n",
       "       [-4.65543102e-02+0.j, -4.61062286e-02+0.j, -4.53881877e-02+0.j,\n",
       "        -4.43995764e-02+0.j, -4.31424560e-02+0.j, -4.16216138e-02+0.j,\n",
       "        -3.98445938e-02+0.j, -3.78217095e-02+0.j, -3.55660138e-02+0.j,\n",
       "        -3.30932700e-02+0.j, -3.04218824e-02+0.j, -2.75727958e-02+0.j,\n",
       "        -2.45693986e-02+0.j, -2.14373537e-02+0.j, -1.82044606e-02+0.j,\n",
       "        -1.49004689e-02+0.j, -1.15568600e-02+0.j, -8.20662145e-03+0.j,\n",
       "        -4.88402607e-03+0.j, -1.62432252e-03+0.j,  1.53644144e-03+0.j,\n",
       "         4.56182875e-03+0.j, -5.81085901e-01+0.j,  1.00601376e-02+0.j,\n",
       "         1.24605696e-02+0.j,  1.45812662e-02+0.j,  1.63880663e-02+0.j,\n",
       "         1.78481811e-02+0.j,  1.89305249e-02+0.j,  1.96059912e-02+0.j],\n",
       "       [-4.40928080e-02+0.j, -4.35532073e-02+0.j, -4.27477865e-02+0.j,\n",
       "        -4.16765858e-02+0.j, -4.03423144e-02+0.j, -3.87504002e-02+0.j,\n",
       "        -3.69090160e-02+0.j, -3.48290888e-02+0.j, -3.25242650e-02+0.j,\n",
       "        -3.00108783e-02+0.j, -2.73078754e-02+0.j, -2.44367123e-02+0.j,\n",
       "        -2.14212535e-02+0.j, -1.82875991e-02+0.j, -1.50639440e-02+0.j,\n",
       "        -1.17803875e-02+0.j, -8.46871244e-03+0.j, -5.16215677e-03+0.j,\n",
       "        -1.89518992e-03+0.j,  1.29679808e-03+0.j,  4.37767710e-03+0.j,\n",
       "         7.31098579e-03+0.j,  1.00601376e-02+0.j, -6.53687398e-01+0.j,\n",
       "         1.48610062e-02+0.j,  1.68418369e-02+0.j,  1.84973812e-02+0.j,\n",
       "         1.97951975e-02+0.j,  2.07046071e-02+0.j,  2.11969703e-02+0.j],\n",
       "       [-4.16363993e-02+0.j, -4.10134591e-02+0.j, -4.01292052e-02+0.j,\n",
       "        -3.89843197e-02+0.j, -3.75821487e-02+0.j, -3.59287475e-02+0.j,\n",
       "        -3.40329039e-02+0.j, -3.19061425e-02+0.j, -2.95626860e-02+0.j,\n",
       "        -2.70194197e-02+0.j, -2.42958128e-02+0.j, -2.14138111e-02+0.j,\n",
       "        -1.83977323e-02+0.j, -1.52740901e-02+0.j, -1.20714493e-02+0.j,\n",
       "        -8.82023293e-03+0.j, -5.55249830e-03+0.j, -2.30170570e-03+0.j,\n",
       "         8.97507662e-04+0.j,  4.00963971e-03+0.j,  6.99850813e-03+0.j,\n",
       "         9.82765766e-03+0.j,  1.24605696e-02+0.j,  1.48610062e-02+0.j,\n",
       "        -7.20400548e-01+0.j,  1.88226714e-02+0.j,  2.03155704e-02+0.j,\n",
       "         2.14399300e-02+0.j,  2.21655087e-02+0.j,  2.24641636e-02+0.j],\n",
       "       [-3.92180410e-02+0.j, -3.85202917e-02+0.j, -3.75660851e-02+0.j,\n",
       "        -3.63567342e-02+0.j, -3.48962100e-02+0.j, -3.31911818e-02+0.j,\n",
       "        -3.12510367e-02+0.j, -2.90878805e-02+0.j, -2.67164940e-02+0.j,\n",
       "        -2.41542945e-02+0.j, -2.14212527e-02+0.j, -1.85397819e-02+0.j,\n",
       "        -1.55346298e-02+0.j, -1.24326987e-02+0.j, -9.26289795e-03+0.j,\n",
       "        -6.05594751e-03+0.j, -2.84415128e-03+0.j,  3.38836404e-04+0.j,\n",
       "         3.45823976e-03+0.j,  6.47847440e-03+0.j,  9.36333627e-03+0.j,\n",
       "         1.20764068e-02+0.j,  1.45812662e-02+0.j,  1.68418369e-02+0.j,\n",
       "         1.88226714e-02+0.j, -7.80654329e-01+0.j,  2.18084666e-02+0.j,\n",
       "         2.27485581e-02+0.j,  2.32797863e-02+0.j,  2.33745349e-02+0.j],\n",
       "       [-3.68708677e-02+0.j, -3.61071414e-02+0.j, -3.50921454e-02+0.j,\n",
       "        -3.38278124e-02+0.j, -3.23187247e-02+0.j, -3.05721509e-02+0.j,\n",
       "        -2.85980615e-02+0.j, -2.64091254e-02+0.j, -2.40206630e-02+0.j,\n",
       "        -2.14506027e-02+0.j, -1.87193952e-02+0.j, -1.58498985e-02+0.j,\n",
       "        -1.28672658e-02+0.j, -9.79876291e-03+0.j, -6.67361736e-03+0.j,\n",
       "        -3.52281873e-03+0.j, -3.78889492e-04+0.j,  2.72435087e-03+0.j,\n",
       "         5.75201757e-03+0.j,  8.66847388e-03+0.j,  1.14375247e-02+0.j,\n",
       "         1.40228188e-02+0.j,  1.63880663e-02+0.j,  1.84973812e-02+0.j,\n",
       "         2.03155704e-02+0.j,  2.18084666e-02+0.j, -8.33945521e-01+0.j,\n",
       "         2.36886514e-02+0.j,  2.40154469e-02+0.j,  2.38965577e-02+0.j],\n",
       "       [-3.46279266e-02+0.j, -3.38073074e-02+0.j, -3.27409179e-02+0.j,\n",
       "        -3.14312975e-02+0.j, -2.98836258e-02+0.j, -2.81057553e-02+0.j,\n",
       "        -2.61082225e-02+0.j, -2.39042412e-02+0.j, -2.15096510e-02+0.j,\n",
       "        -1.89428709e-02+0.j, -1.62248087e-02+0.j, -1.33787434e-02+0.j,\n",
       "        -1.04302090e-02+0.j, -7.40680899e-03+0.j, -4.33806217e-03+0.j,\n",
       "        -1.25520001e-03+0.j,  1.80906498e-03+0.j,  4.82077732e-03+0.j,\n",
       "         7.74497308e-03+0.j,  1.05459934e-02+0.j,  1.31876828e-02+0.j,\n",
       "         1.56337883e-02+0.j,  1.78481811e-02+0.j,  1.97951975e-02+0.j,\n",
       "         2.14399300e-02+0.j,  2.27485581e-02+0.j,  2.36886514e-02+0.j,\n",
       "        -8.79842597e-01+0.j,  2.43422418e-02+0.j,  2.40005106e-02+0.j],\n",
       "       [-3.25218491e-02+0.j, -3.16536203e-02+0.j, -3.05454116e-02+0.j,\n",
       "        -2.92003558e-02+0.j, -2.76242145e-02+0.j, -2.58254074e-02+0.j,\n",
       "        -2.38150193e-02+0.j, -2.16067895e-02+0.j, -1.92170562e-02+0.j,\n",
       "        -1.66647068e-02+0.j, -1.39710835e-02+0.j, -1.11598616e-02+0.j,\n",
       "        -8.25693053e-03+0.j, -5.29020533e-03+0.j, -2.28946861e-03+0.j,\n",
       "         7.13834408e-04+0.j,  3.68683001e-03+0.j,  6.59545622e-03+0.j,\n",
       "         9.40469995e-03+0.j,  1.20789105e-02+0.j,  1.45820030e-02+0.j,\n",
       "         1.68778534e-02+0.j,  1.89305249e-02+0.j,  2.07046071e-02+0.j,\n",
       "         2.21655087e-02+0.j,  2.32797863e-02+0.j,  2.40154469e-02+0.j,\n",
       "         2.43422418e-02+0.j, -9.17990302e-01+0.j,  2.36587800e-02+0.j],\n",
       "       [-3.05845823e-02+0.j, -2.96781736e-02+0.j, -2.85378451e-02+0.j,\n",
       "        -2.71673082e-02+0.j, -2.55728908e-02+0.j, -2.37635623e-02+0.j,\n",
       "        -2.17509371e-02+0.j, -1.95492597e-02+0.j, -1.71753459e-02+0.j,\n",
       "        -1.46485286e-02+0.j, -1.19905606e-02+0.j, -9.22548879e-03+0.j,\n",
       "        -6.37953221e-03+0.j, -3.48089030e-03+0.j, -5.59581960e-04+0.j,\n",
       "         2.35276233e-03+0.j,  5.22313678e-03+0.j,  8.01740258e-03+0.j,\n",
       "         1.07005277e-02+0.j,  1.32368999e-02+0.j,  1.55905357e-02+0.j,\n",
       "         1.77254709e-02+0.j,  1.96059912e-02+0.j,  2.11969703e-02+0.j,\n",
       "         2.24641636e-02+0.j,  2.33745349e-02+0.j,  2.38965577e-02+0.j,\n",
       "         2.40005106e-02+0.j,  2.36587800e-02+0.j, -9.48112025e-01+0.j]],      dtype=complex128)"
      ]
     },
     "execution_count": 17,
     "metadata": {},
     "output_type": "execute_result"
    }
   ],
   "source": [
    "povm_measure_operator(1, jnp.array([0.1, 0.5]))"
   ]
  },
  {
   "cell_type": "code",
   "execution_count": 18,
   "id": "b60945a8",
   "metadata": {},
   "outputs": [],
   "source": [
    "# TODO: Have a default NN and then give user the ability to supply a model or a function\n",
    "result = optimize_pulse_with_feedback(\n",
    "    U_0=rho_cav,\n",
    "    C_target=None,\n",
    "    parameterized_gates=[],\n",
    "    povm_measure_operator=povm_measure_operator,\n",
    "    initial_params=jnp.array([0.1, -3 * jnp.pi / 2]),\n",
    "    num_time_steps=5,\n",
    "    mode=\"nn\",\n",
    "    goal=\"purity\",\n",
    "    optimizer=\"adam\",\n",
    "    max_iter=1000,\n",
    "    convergence_threshold=1e-6,\n",
    "    learning_rate=0.1,\n",
    "    type=\"density\",\n",
    ")"
   ]
  },
  {
   "cell_type": "code",
   "execution_count": 19,
   "id": "71dc8f94",
   "metadata": {},
   "outputs": [
    {
     "name": "stdout",
     "output_type": "stream",
     "text": [
      "0.9984141684258416\n"
     ]
    }
   ],
   "source": [
    "print(result.final_purity)"
   ]
  },
  {
   "cell_type": "code",
   "execution_count": null,
   "id": "76b8e6a6",
   "metadata": {},
   "outputs": [
    {
     "name": "stdout",
     "output_type": "stream",
     "text": [
      "0.0973540362171524\n",
      "0.9026459637828479\n"
     ]
    }
   ],
   "source": [
    "from feedback_grape.fgrape import (\n",
    "    _probability_of_a_measurement_outcome_given_a_certain_state,\n",
    ")\n",
    "# from feedback_grape.fgrape import (\n",
    "#     _probability_of_a_measurement_outcome_given_a_certain_state,\n",
    "# )\n",
    "\n",
    "variables = jnp.array([0.1, -3 * jnp.pi / 2])\n",
    "# variables_2 = {\n",
    "#     \"gamma\": 0.1,\n",
    "#     \"delta\": -3 * jnp.pi / 2,\n",
    "# }\n",
    "print(\n",
    "    _probability_of_a_measurement_outcome_given_a_certain_state(\n",
    "        rho_cav, -1, povm_measure_operator, variables\n",
    "    )\n",
    ")\n",
    "print(\n",
    "    _probability_of_a_measurement_outcome_given_a_certain_state(\n",
    "        rho_cav, 1, povm_measure_operator, variables\n",
    "    )\n",
    ")"
   ]
  },
  {
   "cell_type": "code",
   "execution_count": 21,
   "id": "e5a742f7",
   "metadata": {},
   "outputs": [
    {
     "name": "stdout",
     "output_type": "stream",
     "text": [
      "initial purity: 0.20000208604889932\n",
      "Final purity: 0.9984141684258416\n"
     ]
    }
   ],
   "source": [
    "# TODO: See why this outputs sth different fromt the purity in the result\n",
    "from feedback_grape.fgrape import purity\n",
    "\n",
    "print(\"initial purity:\", purity(rho=rho_cav))\n",
    "print(\"Final purity:\", purity(rho=result.final_state))"
   ]
  },
  {
   "cell_type": "code",
   "execution_count": 22,
   "id": "5f07d179",
   "metadata": {},
   "outputs": [
    {
     "data": {
      "text/plain": [
       "[Array([[-0.97106537, -0.03807388]], dtype=float64),\n",
       " Array([[-1.17050792, -0.01463591]], dtype=float64),\n",
       " Array([[-0.77229875, -0.0124556 ]], dtype=float64),\n",
       " Array([[-1.56113376, -0.01103598]], dtype=float64),\n",
       " Array([[-0.59765246, -0.06395705]], dtype=float64)]"
      ]
     },
     "execution_count": 22,
     "metadata": {},
     "output_type": "execute_result"
    }
   ],
   "source": [
    "result.arr_of_povm_params"
   ]
  },
  {
   "cell_type": "markdown",
   "id": "1264dba4",
   "metadata": {},
   "source": [
    "### Check stash for replacement of dict implementation"
   ]
  },
  {
   "cell_type": "code",
   "execution_count": 25,
   "id": "f8d87f94",
   "metadata": {},
   "outputs": [],
   "source": [
    "from feedback_grape.fgrape import (\n",
    "    povm)\n",
    "time_steps = 5\n",
    "\n",
    "rho = rho_cav\n",
    "key = jax.random.PRNGKey(0)\n",
    "for i in range(time_steps):\n",
    "    params = result.arr_of_povm_params[i][0]\n",
    "    rho, _, _ = povm(rho, povm_measure_operator, params)\n",
    "final_rho_cav = rho\n"
   ]
  },
  {
   "cell_type": "code",
   "execution_count": 27,
   "id": "f167ff61",
   "metadata": {},
   "outputs": [
    {
     "name": "stdout",
     "output_type": "stream",
     "text": [
      "Final purity: 0.9966644557453418\n"
     ]
    }
   ],
   "source": [
    "# TODO: See why this outputs sth slightly different fromt the purity in the result\n",
    "print(\"Final purity:\", purity(rho=final_rho_cav))"
   ]
  }
 ],
 "metadata": {
  "kernelspec": {
   "display_name": "Python 3",
   "language": "python",
   "name": "python3"
  },
  "language_info": {
   "codemirror_mode": {
    "name": "ipython",
    "version": 3
   },
   "file_extension": ".py",
   "mimetype": "text/x-python",
   "name": "python",
   "nbconvert_exporter": "python",
   "pygments_lexer": "ipython3",
   "version": "3.11.11"
  }
 },
 "nbformat": 4,
 "nbformat_minor": 5
}

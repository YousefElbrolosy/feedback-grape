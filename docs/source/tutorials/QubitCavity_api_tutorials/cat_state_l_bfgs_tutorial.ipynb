{
 "cells": [
  {
   "cell_type": "markdown",
   "id": "a0723368",
   "metadata": {},
   "source": [
    "# GRAPE for preparing a cat state using L-BFGS Tutorial"
   ]
  },
  {
   "cell_type": "markdown",
   "id": "684882b1",
   "metadata": {},
   "source": [
    "<img src=\"../../_static/notebook-images/cat_adam_tut.png\" alt=\"cat state\" width=\"800\"/>"
   ]
  },
  {
   "cell_type": "code",
   "execution_count": 1,
   "id": "2c3dd575",
   "metadata": {
    "tags": [
     "remove-cell"
    ]
   },
   "outputs": [],
   "source": [
    "# ruff: noqa\n",
    "import os\n",
    "\n",
    "os.sys.path.append(\"../../../../..\")"
   ]
  },
  {
   "cell_type": "code",
   "execution_count": 2,
   "id": "07b4195b",
   "metadata": {},
   "outputs": [],
   "source": [
    "# ruff: noqa\n",
    "import feedback_grape.grape as fg\n",
    "from feedback_grape.utils.solver import sesolve\n",
    "import jax.numpy as jnp\n",
    "from feedback_grape.utils.operators import *\n",
    "from feedback_grape.utils.states import basis, coherent\n",
    "from feedback_grape.utils.tensor import tensor"
   ]
  },
  {
   "cell_type": "markdown",
   "id": "b2422d4e",
   "metadata": {},
   "source": [
    "## Step 1: initialize parameters"
   ]
  },
  {
   "cell_type": "code",
   "execution_count": 3,
   "id": "34a9edc5",
   "metadata": {},
   "outputs": [],
   "source": [
    "from feedback_grape.new_api.modeling import QubitCavity\n",
    "\n",
    "T = 1  # microsecond\n",
    "num_of_intervals = 100\n",
    "N = 30  # dimension of hilbert space\n",
    "alpha = 1.5\n",
    "# Phase for the interference\n",
    "phi = jnp.pi\n",
    "\n",
    "hs = QubitCavity(1, N)\n",
    "q = hs.qubits[0]\n",
    "c = hs.cavities[0]"
   ]
  },
  {
   "cell_type": "code",
   "execution_count": 4,
   "id": "7efa376f",
   "metadata": {},
   "outputs": [],
   "source": [
    "hconj = lambda a: jnp.swapaxes(a.conj(), -1, -2)"
   ]
  },
  {
   "cell_type": "code",
   "execution_count": 5,
   "id": "59ed8fc6",
   "metadata": {},
   "outputs": [],
   "source": [
    "chi = 0.2385 * (2 * jnp.pi)\n",
    "mu_qub = 4.0\n",
    "mu_cav = 8.0"
   ]
  },
  {
   "cell_type": "markdown",
   "id": "e01faf95",
   "metadata": {},
   "source": [
    "## Step 2: define initial and target states"
   ]
  },
  {
   "cell_type": "code",
   "execution_count": 6,
   "id": "21ab8687",
   "metadata": {},
   "outputs": [],
   "source": [
    "psi0 = tensor(basis(2), basis(N))\n",
    "cat_target_state = coherent(N, alpha) + jnp.exp(-1j * phi) * coherent(\n",
    "    N, -alpha\n",
    ")\n",
    "psi_target = tensor(basis(2), cat_target_state)"
   ]
  },
  {
   "cell_type": "markdown",
   "id": "a57c283d",
   "metadata": {},
   "source": [
    "## Step 3: Build the hamiltonian"
   ]
  },
  {
   "cell_type": "code",
   "execution_count": null,
   "id": "8e0942ee",
   "metadata": {},
   "outputs": [],
   "source": [
    "def build_grape_format_ham():\n",
    "    \"\"\"\n",
    "    Build Hamiltonian for given (complex) e_qub and e_cav\n",
    "    \"\"\"\n",
    "\n",
    "    n_phot = c.adag @ c.a\n",
    "\n",
    "    H0 = (chi / 2) * n_phot @ (q.sigmaz + q.identity)\n",
    "    H_ctrl_qub = mu_qub * q.sigmap\n",
    "    H_ctrl_qub_dag = hconj(H_ctrl_qub)\n",
    "    H_ctrl_cav = mu_cav * c.adag\n",
    "    H_ctrl_cav_dag = hconj(H_ctrl_cav)\n",
    "\n",
    "    H_ctrl = [H_ctrl_qub, H_ctrl_qub_dag, H_ctrl_cav, H_ctrl_cav_dag]\n",
    "\n",
    "    return H0, H_ctrl"
   ]
  },
  {
   "cell_type": "markdown",
   "id": "16af01c3",
   "metadata": {},
   "source": [
    "## Step 4: Run GRAPE"
   ]
  },
  {
   "cell_type": "code",
   "execution_count": 8,
   "id": "d9e19611",
   "metadata": {},
   "outputs": [
    {
     "name": "stdout",
     "output_type": "stream",
     "text": [
      "Final fidelity:  0.9662985804499449\n"
     ]
    }
   ],
   "source": [
    "# Outputs Fidelity of 0.9799029117042408 but in like 30 minutes\n",
    "H0, H_ctrl = build_grape_format_ham()\n",
    "res = fg.optimize_pulse(\n",
    "    H0,\n",
    "    H_ctrl,\n",
    "    psi0,\n",
    "    psi_target,\n",
    "    num_t_slots=num_of_intervals,\n",
    "    total_evo_time=T,\n",
    "    evo_type=\"state\",\n",
    "    optimizer=\"l-bfgs\",\n",
    ")\n",
    "print(\"Final fidelity: \", res.final_fidelity)"
   ]
  },
  {
   "cell_type": "markdown",
   "id": "6245ebe8",
   "metadata": {},
   "source": [
    "## Reconstructing hamiltonian from output signals"
   ]
  },
  {
   "cell_type": "code",
   "execution_count": 9,
   "id": "21d9fe7b",
   "metadata": {},
   "outputs": [],
   "source": [
    "def build_ham_reconstructed(u1, u2, u3, u4):\n",
    "    \"\"\"\n",
    "    Build Hamiltonian for given (complex) e_qub and e_cav\n",
    "    \"\"\"\n",
    "\n",
    "    n_phot = c.adag @ c.a\n",
    "\n",
    "    H0 = +(chi / 2) * n_phot @ (q.sigmaz + q.identity)\n",
    "    H_ctrl_qub = mu_qub * q.sigmap\n",
    "    H_ctrl_qub_dag = hconj(H_ctrl_qub)\n",
    "    H_ctrl_cav = mu_cav * c.adag\n",
    "    H_ctrl_cav_dag = hconj(H_ctrl_cav)\n",
    "\n",
    "    # Apply control amplitudes\n",
    "    H_ctrl = (\n",
    "        u1 * H_ctrl_qub\n",
    "        + u2 * H_ctrl_qub_dag\n",
    "        + u3 * H_ctrl_cav\n",
    "        + u4 * H_ctrl_cav_dag\n",
    "    )\n",
    "\n",
    "    H = H0 + H_ctrl\n",
    "    return H"
   ]
  },
  {
   "cell_type": "code",
   "execution_count": 10,
   "id": "35212b56",
   "metadata": {},
   "outputs": [],
   "source": [
    "u1 = res.control_amplitudes[:, 0]\n",
    "u2 = res.control_amplitudes[:, 1]\n",
    "u3 = res.control_amplitudes[:, 2]\n",
    "u4 = res.control_amplitudes[:, 3]"
   ]
  },
  {
   "cell_type": "code",
   "execution_count": 11,
   "id": "4feaa140",
   "metadata": {},
   "outputs": [],
   "source": [
    "H_total = jnp.array(\n",
    "    [\n",
    "        build_ham_reconstructed(u1[i], u2[i], u3[i], u4[i])\n",
    "        for i in range(len(u1))\n",
    "    ]\n",
    ")"
   ]
  },
  {
   "cell_type": "code",
   "execution_count": 12,
   "id": "1de2d722",
   "metadata": {},
   "outputs": [],
   "source": [
    "time_start = 0.0\n",
    "time_end = 1.0\n",
    "# Eqivalant to delta_ts = jnp.repeat(0.2, time_intervals_num).astype(jnp.float32)\n",
    "# However, it is implemented in this way to be more general and\n",
    "# show that these are the differences between the time intervals\n",
    "t_grid = jnp.linspace(time_start, time_end, num_of_intervals + 1)\n",
    "delta_ts = t_grid[1:] - t_grid[:-1]"
   ]
  },
  {
   "cell_type": "code",
   "execution_count": 13,
   "id": "af267ed9",
   "metadata": {},
   "outputs": [
    {
     "name": "stdout",
     "output_type": "stream",
     "text": [
      "0.9662985804347162\n"
     ]
    }
   ],
   "source": [
    "psi_fg = sesolve(H_total, psi0, delta_ts, evo_type=\"state\")\n",
    "print(fg.fidelity(C_target=psi_target, U_final=psi_fg, evo_type=\"state\"))"
   ]
  }
 ],
 "metadata": {
  "kernelspec": {
   "display_name": "Python 3",
   "language": "python",
   "name": "python3"
  },
  "language_info": {
   "codemirror_mode": {
    "name": "ipython",
    "version": 3
   },
   "file_extension": ".py",
   "mimetype": "text/x-python",
   "name": "python",
   "nbconvert_exporter": "python",
   "pygments_lexer": "ipython3",
   "version": "3.11.11"
  }
 },
 "nbformat": 4,
 "nbformat_minor": 5
}

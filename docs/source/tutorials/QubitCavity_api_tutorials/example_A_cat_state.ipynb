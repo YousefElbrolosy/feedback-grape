{
 "cells": [
  {
   "cell_type": "markdown",
   "id": "c4fe2265",
   "metadata": {},
   "source": [
    "# A2. State preparation with Jaynes-Cummings controls for 4-legged cat state"
   ]
  },
  {
   "cell_type": "code",
   "execution_count": 1,
   "id": "4f74cb03",
   "metadata": {
    "tags": [
     "remove-cell"
    ]
   },
   "outputs": [],
   "source": [
    "# ruff: noqa\n",
    "import os\n",
    "\n",
    "os.sys.path.append(\"../../../../..\")"
   ]
  },
  {
   "cell_type": "code",
   "execution_count": 2,
   "id": "dc37b46a",
   "metadata": {},
   "outputs": [],
   "source": [
    "from feedback_grape.fgrape import optimize_pulse_with_feedback\n",
    "from feedback_grape.utils.operators import (\n",
    "    sigmap,\n",
    "    sigmam,\n",
    "    create,\n",
    "    destroy,\n",
    "    identity,\n",
    ")\n",
    "from feedback_grape.utils.states import basis, fock\n",
    "from feedback_grape.utils.tensor import tensor\n",
    "import jax.numpy as jnp\n",
    "from jax.scipy.linalg import expm"
   ]
  },
  {
   "cell_type": "markdown",
   "id": "e1718760",
   "metadata": {},
   "source": [
    "As a preliminary step, we consider state preparation\n",
    "of a target state starting from a pure state. In addition,\n",
    "we assume that any coupling to an external environment\n",
    "is negligible and that the parametrized controls can be\n",
    "implemented perfectly."
   ]
  },
  {
   "cell_type": "markdown",
   "id": "5e382943",
   "metadata": {},
   "source": [
    "Here no feedback is required, we are just testing the parameterized gates setup."
   ]
  },
  {
   "cell_type": "markdown",
   "id": "202846e6",
   "metadata": {},
   "source": [
    "As a first example, we consider the state preparation\n",
    "of a cavity resonantly coupled to an externally driven\n",
    "qubit"
   ]
  },
  {
   "cell_type": "markdown",
   "id": "ec5307dc",
   "metadata": {},
   "source": [
    "Here, we consider a particular sequence of\n",
    "parametrized unitary gates originally introduced by Law\n",
    "and Eberly"
   ]
  },
  {
   "cell_type": "code",
   "execution_count": 3,
   "id": "3651226c",
   "metadata": {},
   "outputs": [],
   "source": [
    "from feedback_grape.new_api.modeling import QubitCavity\n",
    "\n",
    "\n",
    "N_cav = 40\n",
    "hs = QubitCavity(1, N_cav)\n",
    "q = hs.qubits[0]\n",
    "c = hs.cavities[0]"
   ]
  },
  {
   "cell_type": "code",
   "execution_count": 4,
   "id": "3dd4b0e7",
   "metadata": {},
   "outputs": [],
   "source": [
    "sigp = q.sigmap\n",
    "sigm = q.sigmam\n",
    "\n",
    "\n",
    "def qubit_unitary(alphas):\n",
    "    alpha = alphas[0] + 1j * alphas[1]\n",
    "    U = expm(-1j * (alpha * sigp + alpha.conjugate() * sigm) / 2)\n",
    "    return U"
   ]
  },
  {
   "cell_type": "code",
   "execution_count": 5,
   "id": "b236c6a5",
   "metadata": {},
   "outputs": [],
   "source": [
    "def qubit_unitary_old(alphas):\n",
    "    alpha_re = alphas[0]\n",
    "    alpha_im = alphas[1]\n",
    "    alpha = alpha_re + 1j * alpha_im\n",
    "    return tensor(\n",
    "        expm(-1j * (alpha * sigmap() + alpha.conjugate() * sigmam()) / 2),\n",
    "        identity(N_cav),\n",
    "    )"
   ]
  },
  {
   "cell_type": "code",
   "execution_count": 6,
   "id": "9564b3c6",
   "metadata": {},
   "outputs": [
    {
     "data": {
      "text/plain": [
       "Array(True, dtype=bool)"
      ]
     },
     "execution_count": 6,
     "metadata": {},
     "output_type": "execute_result"
    }
   ],
   "source": [
    "jnp.allclose(\n",
    "    qubit_unitary_old([1.0, 0.6]),\n",
    "    qubit_unitary([1.0, 0.6]),\n",
    ")"
   ]
  },
  {
   "cell_type": "code",
   "execution_count": 7,
   "id": "0932e3c0",
   "metadata": {},
   "outputs": [],
   "source": [
    "a = c.a\n",
    "adag = c.adag\n",
    "\n",
    "\n",
    "def qubit_cavity_unitary(betas):\n",
    "    beta = betas\n",
    "    H_int = beta * (a @ sigp) + beta.conjugate() * (adag @ sigm)\n",
    "    return expm(-1j * H_int / 2)"
   ]
  },
  {
   "cell_type": "code",
   "execution_count": 8,
   "id": "ebb31077",
   "metadata": {},
   "outputs": [],
   "source": [
    "def qubit_cavity_unitary_old(beta_re):\n",
    "    beta = beta_re\n",
    "    return expm(\n",
    "        -1j\n",
    "        * (\n",
    "            beta * (tensor(sigmap(), destroy(N_cav)))\n",
    "            + beta.conjugate() * (tensor(sigmam(), create(N_cav)))\n",
    "        )\n",
    "        / 2\n",
    "    )"
   ]
  },
  {
   "cell_type": "code",
   "execution_count": 9,
   "id": "d7b60a72",
   "metadata": {},
   "outputs": [
    {
     "data": {
      "text/plain": [
       "Array(True, dtype=bool)"
      ]
     },
     "execution_count": 9,
     "metadata": {},
     "output_type": "execute_result"
    }
   ],
   "source": [
    "jnp.allclose(\n",
    "    qubit_cavity_unitary_old(jnp.array([1.0])),\n",
    "    qubit_cavity_unitary(jnp.array([1.0])),\n",
    "    atol=1e-20,\n",
    ")  # True"
   ]
  },
  {
   "cell_type": "markdown",
   "id": "8b05cd63",
   "metadata": {},
   "source": [
    "In their groundbreaking work, Law and Eberly have\n",
    "shown that any arbitrary superposition of Fock states with\n",
    "maximal excitation number N can be prepared out of the\n",
    "ground state in a sequence of N such interleaved gates,\n",
    "also providing an algorithm to find the correct angles and\n",
    "interaction durations"
   ]
  },
  {
   "cell_type": "markdown",
   "id": "d1a6f411",
   "metadata": {},
   "source": [
    "## First target is the 4 component cat state "
   ]
  },
  {
   "cell_type": "code",
   "execution_count": 10,
   "id": "45069deb",
   "metadata": {},
   "outputs": [],
   "source": [
    "time_steps = 20"
   ]
  },
  {
   "cell_type": "code",
   "execution_count": 11,
   "id": "e5746831",
   "metadata": {},
   "outputs": [],
   "source": [
    "from feedback_grape.utils.states import coherent\n",
    "\n",
    "\n",
    "psi0 = tensor(basis(2), basis(N_cav))\n",
    "psi0 = psi0 / jnp.linalg.norm(psi0)\n",
    "average_photon_number = 9\n",
    "cat = (\n",
    "    coherent(N_cav, 3)\n",
    "    + coherent(N_cav, -3)\n",
    "    + coherent(N_cav, 1j * 3)\n",
    "    + coherent(N_cav, -1j * 3)\n",
    ")\n",
    "psi_target = tensor(basis(2), cat)\n",
    "psi_target = psi_target / jnp.linalg.norm(psi_target)"
   ]
  },
  {
   "cell_type": "code",
   "execution_count": 12,
   "id": "860c7a66",
   "metadata": {},
   "outputs": [
    {
     "data": {
      "text/plain": [
       "(80, 1)"
      ]
     },
     "execution_count": 12,
     "metadata": {},
     "output_type": "execute_result"
    }
   ],
   "source": [
    "psi0.shape"
   ]
  },
  {
   "cell_type": "code",
   "execution_count": 13,
   "id": "c3fbbd04",
   "metadata": {},
   "outputs": [
    {
     "data": {
      "text/plain": [
       "(80, 1)"
      ]
     },
     "execution_count": 13,
     "metadata": {},
     "output_type": "execute_result"
    }
   ],
   "source": [
    "psi_target.shape"
   ]
  },
  {
   "cell_type": "code",
   "execution_count": 14,
   "id": "2e2e8ef3",
   "metadata": {},
   "outputs": [
    {
     "name": "stdout",
     "output_type": "stream",
     "text": [
      "[[0.+0.j]\n",
      " [1.+0.j]\n",
      " [0.+0.j]\n",
      " [0.+0.j]\n",
      " [0.+0.j]\n",
      " [0.+0.j]\n",
      " [0.+0.j]\n",
      " [0.+0.j]\n",
      " [0.+0.j]\n",
      " [0.+0.j]\n",
      " [0.+0.j]\n",
      " [0.+0.j]\n",
      " [0.+0.j]\n",
      " [0.+0.j]\n",
      " [0.+0.j]\n",
      " [0.+0.j]\n",
      " [0.+0.j]\n",
      " [0.+0.j]\n",
      " [0.+0.j]\n",
      " [0.+0.j]\n",
      " [0.+0.j]\n",
      " [0.+0.j]\n",
      " [0.+0.j]\n",
      " [0.+0.j]\n",
      " [0.+0.j]\n",
      " [0.+0.j]\n",
      " [0.+0.j]\n",
      " [0.+0.j]\n",
      " [0.+0.j]\n",
      " [0.+0.j]\n",
      " [0.+0.j]\n",
      " [0.+0.j]\n",
      " [0.+0.j]\n",
      " [0.+0.j]\n",
      " [0.+0.j]\n",
      " [0.+0.j]\n",
      " [0.+0.j]\n",
      " [0.+0.j]\n",
      " [0.+0.j]\n",
      " [0.+0.j]]\n"
     ]
    }
   ],
   "source": [
    "print(fock(N_cav, 1))"
   ]
  },
  {
   "cell_type": "markdown",
   "id": "104ff5f6",
   "metadata": {},
   "source": [
    "Law and Eberly provided an algorithm to determine the correct parameters for state preparation. These include:\n",
    "\n",
    "- The rotation angle $ |\\alpha| $,\n",
    "- The azimuthal angle $ \\arg\\left(\\frac{\\alpha}{|\\alpha|}\\right) $,\n",
    "- The interaction duration $ |\\beta| $. <br>\n",
    "\n",
    "So Goal is to find the best control vector (rather than control amplitudes, this time) that leads to finding the optimal state-preparation strategies. Performing as well as the Law-Eberly algorithm."
   ]
  },
  {
   "cell_type": "markdown",
   "id": "06364239",
   "metadata": {},
   "source": [
    "## Optimizing\n",
    "Currently l-bfgs with the same learning rate of 0.3 converges at a local minimum of 0.5, adam also converges at 0.5 but at smaller learning rates"
   ]
  },
  {
   "cell_type": "code",
   "execution_count": 15,
   "id": "90de4b86",
   "metadata": {},
   "outputs": [
    {
     "name": "stdout",
     "output_type": "stream",
     "text": [
      "Iteration 0, Loss: -0.032482\n",
      "Iteration 10, Loss: -0.119766\n",
      "Iteration 20, Loss: -0.218807\n",
      "Iteration 30, Loss: -0.290923\n",
      "Iteration 40, Loss: -0.331432\n",
      "Iteration 50, Loss: -0.363328\n",
      "Iteration 60, Loss: -0.385187\n",
      "Iteration 70, Loss: -0.392812\n",
      "Iteration 80, Loss: -0.398971\n",
      "Iteration 90, Loss: -0.406213\n",
      "Iteration 100, Loss: -0.414206\n",
      "Iteration 110, Loss: -0.424084\n",
      "Iteration 120, Loss: -0.436752\n",
      "Iteration 130, Loss: -0.455166\n",
      "Iteration 140, Loss: -0.483714\n",
      "Iteration 150, Loss: -0.526234\n",
      "Iteration 160, Loss: -0.587400\n",
      "Iteration 170, Loss: -0.658891\n",
      "Iteration 180, Loss: -0.710771\n",
      "Iteration 190, Loss: -0.743793\n",
      "Iteration 200, Loss: -0.767970\n",
      "Iteration 210, Loss: -0.785470\n",
      "Iteration 220, Loss: -0.794869\n",
      "Iteration 230, Loss: -0.799156\n",
      "Iteration 240, Loss: -0.801985\n",
      "Iteration 250, Loss: -0.804416\n",
      "Iteration 260, Loss: -0.806428\n",
      "Iteration 270, Loss: -0.808274\n",
      "Iteration 280, Loss: -0.809989\n",
      "Iteration 290, Loss: -0.811600\n",
      "Iteration 300, Loss: -0.813111\n",
      "Iteration 310, Loss: -0.814524\n",
      "Iteration 320, Loss: -0.815841\n",
      "Iteration 330, Loss: -0.817068\n",
      "Iteration 340, Loss: -0.818218\n",
      "Iteration 350, Loss: -0.819303\n",
      "Iteration 360, Loss: -0.820341\n",
      "Iteration 370, Loss: -0.821346\n",
      "Iteration 380, Loss: -0.822334\n",
      "Iteration 390, Loss: -0.823330\n",
      "Iteration 400, Loss: -0.824376\n",
      "Iteration 410, Loss: -0.825539\n",
      "Iteration 420, Loss: -0.826936\n",
      "Iteration 430, Loss: -0.828753\n",
      "Iteration 440, Loss: -0.831279\n",
      "Iteration 450, Loss: -0.834815\n",
      "Iteration 460, Loss: -0.839446\n",
      "Iteration 470, Loss: -0.845438\n",
      "Iteration 480, Loss: -0.853808\n",
      "Iteration 490, Loss: -0.864693\n",
      "Iteration 500, Loss: -0.876147\n",
      "Iteration 510, Loss: -0.890039\n",
      "Iteration 520, Loss: -0.905138\n",
      "Iteration 530, Loss: -0.918734\n",
      "Iteration 540, Loss: -0.929061\n",
      "Iteration 550, Loss: -0.935838\n",
      "Iteration 560, Loss: -0.939936\n",
      "Iteration 570, Loss: -0.942359\n",
      "Iteration 580, Loss: -0.943913\n",
      "Iteration 590, Loss: -0.945100\n",
      "Iteration 600, Loss: -0.946135\n",
      "Iteration 610, Loss: -0.947034\n",
      "Iteration 620, Loss: -0.947801\n",
      "Iteration 630, Loss: -0.948456\n",
      "Iteration 640, Loss: -0.949025\n",
      "Iteration 650, Loss: -0.949528\n",
      "Iteration 660, Loss: -0.949979\n",
      "Iteration 670, Loss: -0.950387\n",
      "Iteration 680, Loss: -0.950758\n",
      "Iteration 690, Loss: -0.951097\n",
      "Iteration 700, Loss: -0.951405\n",
      "Iteration 710, Loss: -0.951687\n",
      "Iteration 720, Loss: -0.951943\n",
      "Iteration 730, Loss: -0.952177\n",
      "Iteration 740, Loss: -0.952389\n",
      "Iteration 750, Loss: -0.952581\n",
      "Iteration 760, Loss: -0.952754\n",
      "Iteration 770, Loss: -0.952908\n",
      "Iteration 780, Loss: -0.953045\n",
      "Iteration 790, Loss: -0.953168\n",
      "Iteration 800, Loss: -0.953279\n",
      "Iteration 810, Loss: -0.953380\n",
      "Iteration 820, Loss: -0.953474\n",
      "Iteration 830, Loss: -0.953563\n",
      "Iteration 840, Loss: -0.953649\n",
      "Iteration 850, Loss: -0.953732\n",
      "Iteration 860, Loss: -0.953814\n",
      "Iteration 870, Loss: -0.953894\n",
      "Iteration 880, Loss: -0.953972\n",
      "Iteration 890, Loss: -0.954047\n",
      "Iteration 900, Loss: -0.954119\n",
      "Iteration 910, Loss: -0.954189\n",
      "Iteration 920, Loss: -0.954255\n",
      "Iteration 930, Loss: -0.954318\n",
      "Iteration 940, Loss: -0.954379\n",
      "Iteration 950, Loss: -0.954437\n",
      "Iteration 960, Loss: -0.954492\n",
      "Iteration 970, Loss: -0.954545\n",
      "Iteration 980, Loss: -0.954595\n",
      "Iteration 990, Loss: -0.954643\n",
      "Iteration 1000, Loss: -0.954688\n",
      "Iteration 1010, Loss: -0.954731\n",
      "Iteration 1020, Loss: -0.954772\n",
      "Iteration 1030, Loss: -0.954811\n",
      "Iteration 1040, Loss: -0.954847\n",
      "Iteration 1050, Loss: -0.954882\n",
      "Iteration 1060, Loss: -0.954915\n",
      "Iteration 1070, Loss: -0.954946\n",
      "Iteration 1080, Loss: -0.954976\n",
      "Iteration 1090, Loss: -0.955004\n",
      "Iteration 1100, Loss: -0.955031\n",
      "Iteration 1110, Loss: -0.955057\n",
      "Iteration 1120, Loss: -0.955082\n",
      "Iteration 1130, Loss: -0.955105\n",
      "Iteration 1140, Loss: -0.955128\n",
      "Iteration 1150, Loss: -0.955150\n",
      "Iteration 1160, Loss: -0.955172\n",
      "Iteration 1170, Loss: -0.955193\n",
      "Iteration 1180, Loss: -0.955213\n",
      "Iteration 1190, Loss: -0.955233\n",
      "Iteration 1200, Loss: -0.955253\n",
      "Iteration 1210, Loss: -0.955272\n",
      "Iteration 1220, Loss: -0.955291\n",
      "Iteration 1230, Loss: -0.955310\n",
      "Iteration 1240, Loss: -0.955328\n",
      "Iteration 1250, Loss: -0.955347\n",
      "Iteration 1260, Loss: -0.955365\n",
      "Iteration 1270, Loss: -0.955384\n",
      "Iteration 1280, Loss: -0.955402\n",
      "Iteration 1290, Loss: -0.955421\n",
      "Iteration 1300, Loss: -0.955439\n",
      "Iteration 1310, Loss: -0.955457\n",
      "Iteration 1320, Loss: -0.955476\n",
      "Iteration 1330, Loss: -0.955437\n",
      "Iteration 1340, Loss: -0.955499\n",
      "Iteration 1350, Loss: -0.955532\n",
      "Iteration 1360, Loss: -0.955550\n",
      "Iteration 1370, Loss: -0.955570\n",
      "Iteration 1380, Loss: -0.955591\n",
      "Iteration 1390, Loss: -0.955611\n",
      "Iteration 1400, Loss: -0.955631\n",
      "Iteration 1410, Loss: -0.955652\n",
      "Iteration 1420, Loss: -0.955674\n",
      "Iteration 1430, Loss: -0.955695\n",
      "Iteration 1440, Loss: -0.955718\n",
      "Iteration 1450, Loss: -0.955740\n",
      "Iteration 1460, Loss: -0.955764\n",
      "Iteration 1470, Loss: -0.955788\n",
      "Iteration 1480, Loss: -0.955812\n",
      "Iteration 1490, Loss: -0.955837\n",
      "Iteration 1500, Loss: -0.955863\n",
      "Iteration 1510, Loss: -0.955890\n",
      "Iteration 1520, Loss: -0.955918\n",
      "Iteration 1530, Loss: -0.955946\n",
      "Iteration 1540, Loss: -0.955975\n",
      "Iteration 1550, Loss: -0.956005\n",
      "Iteration 1560, Loss: -0.956036\n",
      "Iteration 1570, Loss: -0.956068\n",
      "Iteration 1580, Loss: -0.956102\n",
      "Iteration 1590, Loss: -0.956136\n",
      "Iteration 1600, Loss: -0.956171\n",
      "Iteration 1610, Loss: -0.956208\n",
      "Iteration 1620, Loss: -0.956246\n",
      "Iteration 1630, Loss: -0.956285\n",
      "Iteration 1640, Loss: -0.956326\n",
      "Iteration 1650, Loss: -0.956366\n",
      "Iteration 1660, Loss: -0.956373\n",
      "Iteration 1670, Loss: -0.956451\n",
      "Iteration 1680, Loss: -0.956502\n",
      "Iteration 1690, Loss: -0.956552\n",
      "Iteration 1700, Loss: -0.956608\n",
      "Iteration 1710, Loss: -0.956664\n",
      "Iteration 1720, Loss: -0.956722\n",
      "Iteration 1730, Loss: -0.956782\n",
      "Iteration 1740, Loss: -0.956847\n",
      "Iteration 1750, Loss: -0.956914\n",
      "Iteration 1760, Loss: -0.956986\n",
      "Iteration 1770, Loss: -0.957061\n",
      "Iteration 1780, Loss: -0.957141\n",
      "Iteration 1790, Loss: -0.957226\n",
      "Iteration 1800, Loss: -0.957317\n",
      "Iteration 1810, Loss: -0.957413\n",
      "Iteration 1820, Loss: -0.957515\n",
      "Iteration 1830, Loss: -0.957624\n",
      "Iteration 1840, Loss: -0.957739\n",
      "Iteration 1850, Loss: -0.957862\n",
      "Iteration 1860, Loss: -0.957992\n",
      "Iteration 1870, Loss: -0.958128\n",
      "Iteration 1880, Loss: -0.958180\n",
      "Iteration 1890, Loss: -0.958392\n",
      "Iteration 1900, Loss: -0.958576\n",
      "Iteration 1910, Loss: -0.958750\n",
      "Iteration 1920, Loss: -0.958924\n",
      "Iteration 1930, Loss: -0.959101\n",
      "Iteration 1940, Loss: -0.959283\n",
      "Iteration 1950, Loss: -0.959470\n",
      "Iteration 1960, Loss: -0.959660\n",
      "Iteration 1970, Loss: -0.959855\n",
      "Iteration 1980, Loss: -0.960055\n",
      "Iteration 1990, Loss: -0.960261\n",
      "Iteration 2000, Loss: -0.960474\n",
      "Iteration 2010, Loss: -0.960697\n",
      "Iteration 2020, Loss: -0.960934\n",
      "Iteration 2030, Loss: -0.961188\n",
      "Iteration 2040, Loss: -0.961465\n",
      "Iteration 2050, Loss: -0.961772\n",
      "Iteration 2060, Loss: -0.962118\n",
      "Iteration 2070, Loss: -0.962516\n",
      "Iteration 2080, Loss: -0.962985\n",
      "Iteration 2090, Loss: -0.963432\n",
      "Iteration 2100, Loss: -0.964239\n",
      "Iteration 2110, Loss: -0.965131\n",
      "Iteration 2120, Loss: -0.966267\n",
      "Iteration 2130, Loss: -0.967738\n",
      "Iteration 2140, Loss: -0.969534\n",
      "Iteration 2150, Loss: -0.971569\n",
      "Iteration 2160, Loss: -0.973769\n",
      "Iteration 2170, Loss: -0.976237\n",
      "Iteration 2180, Loss: -0.979241\n",
      "Iteration 2190, Loss: -0.982864\n",
      "Iteration 2200, Loss: -0.987031\n",
      "Iteration 2210, Loss: -0.990140\n",
      "Iteration 2220, Loss: -0.992776\n",
      "Iteration 2230, Loss: -0.994415\n",
      "Iteration 2240, Loss: -0.995202\n",
      "Iteration 2250, Loss: -0.995541\n",
      "Iteration 2260, Loss: -0.995738\n",
      "Iteration 2270, Loss: -0.995894\n",
      "Iteration 2280, Loss: -0.996029\n",
      "Iteration 2290, Loss: -0.996145\n",
      "Iteration 2300, Loss: -0.996242\n",
      "Iteration 2310, Loss: -0.996324\n",
      "Iteration 2320, Loss: -0.996396\n",
      "Iteration 2330, Loss: -0.996459\n",
      "Iteration 2340, Loss: -0.996516\n",
      "Iteration 2350, Loss: -0.996566\n",
      "Iteration 2360, Loss: -0.996611\n",
      "Iteration 2370, Loss: -0.996652\n",
      "Iteration 2380, Loss: -0.996689\n",
      "Iteration 2390, Loss: -0.996723\n",
      "Iteration 2400, Loss: -0.996754\n",
      "Iteration 2410, Loss: -0.996782\n",
      "Iteration 2420, Loss: -0.996809\n",
      "Iteration 2430, Loss: -0.996833\n",
      "Iteration 2440, Loss: -0.996856\n",
      "Iteration 2450, Loss: -0.996878\n",
      "Iteration 2460, Loss: -0.996898\n",
      "Iteration 2470, Loss: -0.996917\n",
      "Iteration 2480, Loss: -0.996935\n",
      "Iteration 2490, Loss: -0.996953\n",
      "Iteration 2500, Loss: -0.996969\n",
      "Iteration 2510, Loss: -0.996986\n",
      "Iteration 2520, Loss: -0.997001\n",
      "Iteration 2530, Loss: -0.997016\n",
      "Iteration 2540, Loss: -0.997030\n",
      "Iteration 2550, Loss: -0.997044\n",
      "Iteration 2560, Loss: -0.996800\n",
      "Iteration 2570, Loss: -0.997069\n",
      "Iteration 2580, Loss: -0.997080\n",
      "Iteration 2590, Loss: -0.997089\n",
      "Iteration 2600, Loss: -0.997104\n",
      "Iteration 2610, Loss: -0.997118\n",
      "Iteration 2620, Loss: -0.997130\n",
      "Iteration 2630, Loss: -0.997142\n",
      "Iteration 2640, Loss: -0.997153\n",
      "Iteration 2650, Loss: -0.997163\n",
      "Iteration 2660, Loss: -0.997174\n",
      "Iteration 2670, Loss: -0.997184\n",
      "Iteration 2680, Loss: -0.997194\n",
      "Iteration 2690, Loss: -0.997204\n",
      "Iteration 2700, Loss: -0.997214\n",
      "Iteration 2710, Loss: -0.997223\n",
      "Iteration 2720, Loss: -0.997232\n",
      "Iteration 2730, Loss: -0.997241\n",
      "Iteration 2740, Loss: -0.997250\n",
      "Iteration 2750, Loss: -0.997258\n",
      "Iteration 2760, Loss: -0.997267\n",
      "Iteration 2770, Loss: -0.997275\n",
      "Iteration 2780, Loss: -0.997283\n",
      "Iteration 2790, Loss: -0.997291\n",
      "Iteration 2800, Loss: -0.997298\n",
      "Iteration 2810, Loss: -0.997306\n",
      "Iteration 2820, Loss: -0.997313\n",
      "Iteration 2830, Loss: -0.997320\n",
      "Iteration 2840, Loss: -0.997326\n",
      "Iteration 2850, Loss: -0.997333\n",
      "Iteration 2860, Loss: -0.997339\n",
      "Iteration 2870, Loss: -0.997345\n",
      "Iteration 2880, Loss: -0.997351\n",
      "Iteration 2890, Loss: -0.997357\n",
      "Iteration 2900, Loss: -0.997336\n",
      "Iteration 2910, Loss: -0.997323\n",
      "Iteration 2920, Loss: -0.997333\n",
      "Iteration 2930, Loss: -0.997364\n",
      "Iteration 2940, Loss: -0.997375\n",
      "Iteration 2950, Loss: -0.997385\n",
      "Iteration 2960, Loss: -0.997390\n",
      "Iteration 2970, Loss: -0.997394\n",
      "Iteration 2980, Loss: -0.997397\n",
      "Iteration 2990, Loss: -0.997401\n"
     ]
    }
   ],
   "source": [
    "from feedback_grape.fgrape import Gate\n",
    "import jax\n",
    "\n",
    "key = jax.random.PRNGKey(42)\n",
    "# not provideing param_constraints just propagates the same initial_parameters for each time step\n",
    "qub_unitary = Gate(\n",
    "    gate=qubit_unitary,\n",
    "    initial_params=jax.random.uniform(\n",
    "        key,\n",
    "        shape=(2,),  # 2 for gamma and delta\n",
    "        minval=-5,\n",
    "        maxval=5,\n",
    "        dtype=jnp.float64,\n",
    "    ),\n",
    "    measurement_flag=False,\n",
    ")\n",
    "\n",
    "qub_cav = Gate(\n",
    "    gate=qubit_cavity_unitary,\n",
    "    initial_params=jax.random.uniform(\n",
    "        key,\n",
    "        shape=(1,),\n",
    "        minval=-5,\n",
    "        maxval=5,\n",
    "        dtype=jnp.float64,\n",
    "    ),\n",
    "    measurement_flag=False,\n",
    ")\n",
    "\n",
    "system_params = [qub_unitary, qub_cav]\n",
    "\n",
    "\n",
    "result = optimize_pulse_with_feedback(\n",
    "    U_0=psi0,\n",
    "    C_target=psi_target,\n",
    "    system_params=system_params,\n",
    "    num_time_steps=time_steps,\n",
    "    max_iter=3000,\n",
    "    convergence_threshold=None,  # 0.0 or None to reach max iterations\n",
    "    evo_type=\"state\",\n",
    "    mode=\"no-measurement\",\n",
    "    goal=\"fidelity\",\n",
    "    learning_rate=0.01,\n",
    "    batch_size=10,\n",
    "    eval_batch_size=1,\n",
    "    progress=True,\n",
    ")"
   ]
  },
  {
   "cell_type": "code",
   "execution_count": 16,
   "id": "68e6f6f2",
   "metadata": {},
   "outputs": [
    {
     "data": {
      "text/plain": [
       "Array(0.9974044, dtype=float64)"
      ]
     },
     "execution_count": 16,
     "metadata": {},
     "output_type": "execute_result"
    }
   ],
   "source": [
    "result.final_fidelity"
   ]
  },
  {
   "cell_type": "code",
   "execution_count": 17,
   "id": "d863b079",
   "metadata": {},
   "outputs": [
    {
     "data": {
      "text/plain": [
       "20"
      ]
     },
     "execution_count": 17,
     "metadata": {},
     "output_type": "execute_result"
    }
   ],
   "source": [
    "len(result.returned_params)"
   ]
  },
  {
   "cell_type": "code",
   "execution_count": 18,
   "id": "9bc1407d",
   "metadata": {},
   "outputs": [
    {
     "data": {
      "text/plain": [
       "[[Array([[-4.61660173e-06, -5.89077384e+00]], dtype=float64),\n",
       "  Array([[-3.27063422]], dtype=float64)],\n",
       " [Array([[ 5.18620096e-06, -2.77998526e+00]], dtype=float64),\n",
       "  Array([[2.16741588]], dtype=float64)],\n",
       " [Array([[ 2.14855902e-06, -3.49834185e+00]], dtype=float64),\n",
       "  Array([[1.57679819]], dtype=float64)],\n",
       " [Array([[-5.31159708e-07, -2.99800565e+00]], dtype=float64),\n",
       "  Array([[-1.98594831]], dtype=float64)],\n",
       " [Array([[ 1.40137018e-05, -9.48290696e+00]], dtype=float64),\n",
       "  Array([[-1.58246239]], dtype=float64)],\n",
       " [Array([[-2.36044497e-06, -2.97342325e+00]], dtype=float64),\n",
       "  Array([[-1.15125976]], dtype=float64)],\n",
       " [Array([[ 3.16922489e-06, -2.96808757e+00]], dtype=float64),\n",
       "  Array([[-1.07001966]], dtype=float64)],\n",
       " [Array([[ 2.71478944e-07, -3.72165856e+00]], dtype=float64),\n",
       "  Array([[-1.68067433]], dtype=float64)],\n",
       " [Array([[ 9.71135207e-07, -2.75488414e+00]], dtype=float64),\n",
       "  Array([[-0.98873756]], dtype=float64)],\n",
       " [Array([[ 4.16248803e-06, -4.55093378e+00]], dtype=float64),\n",
       "  Array([[-0.21239159]], dtype=float64)],\n",
       " [Array([[-1.08556088e-06, -4.47933664e+00]], dtype=float64),\n",
       "  Array([[-1.43853623]], dtype=float64)],\n",
       " [Array([[ 1.68956918e-06, -3.51679438e+00]], dtype=float64),\n",
       "  Array([[-1.07393092]], dtype=float64)],\n",
       " [Array([[ 2.28965040e-06, -4.84045822e+00]], dtype=float64),\n",
       "  Array([[-1.79326503]], dtype=float64)],\n",
       " [Array([[-2.19207278e-05, -5.37791302e+00]], dtype=float64),\n",
       "  Array([[-0.9591497]], dtype=float64)],\n",
       " [Array([[-3.31371622e-06, -2.74622392e+00]], dtype=float64),\n",
       "  Array([[0.54176531]], dtype=float64)],\n",
       " [Array([[-3.89691335e-06, -3.40088522e+00]], dtype=float64),\n",
       "  Array([[0.40052333]], dtype=float64)],\n",
       " [Array([[-6.14264845e-06, -4.68854715e+00]], dtype=float64),\n",
       "  Array([[-1.39921113]], dtype=float64)],\n",
       " [Array([[ 1.00000422e-05, -3.91020235e+00]], dtype=float64),\n",
       "  Array([[-0.8724987]], dtype=float64)],\n",
       " [Array([[-7.79556802e-06, -9.49372812e+00]], dtype=float64),\n",
       "  Array([[-0.79291008]], dtype=float64)],\n",
       " [Array([[ 1.09364374e-03, -3.13644708e+00]], dtype=float64),\n",
       "  Array([[0.00093574]], dtype=float64)]]"
      ]
     },
     "execution_count": 18,
     "metadata": {},
     "output_type": "execute_result"
    }
   ],
   "source": [
    "# here makes sense for each batch size we have a different set of parameters since there are no measurements and therefore no stochasticisty or randomness\n",
    "result.returned_params"
   ]
  },
  {
   "cell_type": "code",
   "execution_count": 19,
   "id": "8f01a9d9",
   "metadata": {},
   "outputs": [
    {
     "name": "stdout",
     "output_type": "stream",
     "text": [
      "[[[ 2.21778616e-02+7.75206144e-06j]\n",
      "  [ 5.93676589e-08+1.25538099e-05j]\n",
      "  [ 6.36205563e-05+1.58475981e-08j]\n",
      "  [-1.01291899e-07-1.16493814e-04j]\n",
      "  [ 3.68007620e-01+1.29130101e-04j]\n",
      "  [ 2.64025754e-08-2.72300451e-05j]\n",
      "  [ 2.73748099e-05-1.80751161e-08j]\n",
      "  [-1.28358573e-07-2.66308618e-05j]\n",
      "  [ 7.27252730e-01+2.54790185e-04j]\n",
      "  [-9.15181168e-08+5.18094227e-04j]\n",
      "  [-3.04168662e-04+4.17325710e-08j]\n",
      "  [-4.76996648e-08+5.20693471e-04j]\n",
      "  [ 5.39522381e-01+1.89057638e-04j]\n",
      "  [ 1.00242515e-07-3.80256290e-04j]\n",
      "  [-1.84083041e-04-1.42388425e-07j]\n",
      "  [ 6.50646846e-07-1.14785970e-03j]\n",
      "  [ 2.09843403e-01+7.37100867e-05j]\n",
      "  [-6.03178995e-08+2.84291395e-05j]\n",
      "  [ 6.01304451e-03+2.11519867e-06j]\n",
      "  [-5.74166180e-08+1.64615744e-04j]\n",
      "  [ 0.00000000e+00+0.00000000e+00j]\n",
      "  [ 0.00000000e+00+0.00000000e+00j]\n",
      "  [ 0.00000000e+00+0.00000000e+00j]\n",
      "  [ 0.00000000e+00+0.00000000e+00j]\n",
      "  [ 0.00000000e+00+0.00000000e+00j]\n",
      "  [ 0.00000000e+00+0.00000000e+00j]\n",
      "  [ 0.00000000e+00+0.00000000e+00j]\n",
      "  [ 0.00000000e+00+0.00000000e+00j]\n",
      "  [ 0.00000000e+00+0.00000000e+00j]\n",
      "  [ 0.00000000e+00+0.00000000e+00j]\n",
      "  [ 0.00000000e+00+0.00000000e+00j]\n",
      "  [ 0.00000000e+00+0.00000000e+00j]\n",
      "  [ 0.00000000e+00+0.00000000e+00j]\n",
      "  [ 0.00000000e+00+0.00000000e+00j]\n",
      "  [ 0.00000000e+00+0.00000000e+00j]\n",
      "  [ 0.00000000e+00+0.00000000e+00j]\n",
      "  [ 0.00000000e+00+0.00000000e+00j]\n",
      "  [ 0.00000000e+00+0.00000000e+00j]\n",
      "  [ 0.00000000e+00+0.00000000e+00j]\n",
      "  [ 0.00000000e+00+0.00000000e+00j]\n",
      "  [-9.66691749e-05+1.49510496e-07j]\n",
      "  [ 1.27889641e-07-7.38699633e-05j]\n",
      "  [-2.19581643e-04+1.59070131e-07j]\n",
      "  [-1.99146419e-07-2.28960090e-04j]\n",
      "  [-7.76645111e-05+1.09502643e-07j]\n",
      "  [ 1.07350109e-07-1.72666767e-04j]\n",
      "  [-1.79246988e-04+4.87910291e-09j]\n",
      "  [-1.13482254e-07-6.38293850e-04j]\n",
      "  [ 3.89504076e-04-5.70238703e-07j]\n",
      "  [ 6.43718683e-07+3.10024276e-04j]\n",
      "  [ 1.53234623e-03-6.99263666e-07j]\n",
      "  [ 3.57915665e-07+1.47433390e-03j]\n",
      "  [-1.39170515e-04-1.00816940e-07j]\n",
      "  [ 5.84303240e-07+2.72428251e-04j]\n",
      "  [-3.85151915e-03+1.32142377e-06j]\n",
      "  [-5.81952944e-07-1.67237452e-03j]\n",
      "  [-7.97299724e-04+8.86905683e-08j]\n",
      "  [-9.17781641e-08-1.08220165e-03j]\n",
      "  [ 1.06985357e-05-9.03014998e-09j]\n",
      "  [ 4.31376213e-09-1.26864612e-05j]\n",
      "  [ 3.44437346e-07+1.20136914e-10j]\n",
      "  [ 0.00000000e+00+0.00000000e+00j]\n",
      "  [ 0.00000000e+00+0.00000000e+00j]\n",
      "  [ 0.00000000e+00+0.00000000e+00j]\n",
      "  [ 0.00000000e+00+0.00000000e+00j]\n",
      "  [ 0.00000000e+00+0.00000000e+00j]\n",
      "  [ 0.00000000e+00+0.00000000e+00j]\n",
      "  [ 0.00000000e+00+0.00000000e+00j]\n",
      "  [ 0.00000000e+00+0.00000000e+00j]\n",
      "  [ 0.00000000e+00+0.00000000e+00j]\n",
      "  [ 0.00000000e+00+0.00000000e+00j]\n",
      "  [ 0.00000000e+00+0.00000000e+00j]\n",
      "  [ 0.00000000e+00+0.00000000e+00j]\n",
      "  [ 0.00000000e+00+0.00000000e+00j]\n",
      "  [ 0.00000000e+00+0.00000000e+00j]\n",
      "  [ 0.00000000e+00+0.00000000e+00j]\n",
      "  [ 0.00000000e+00+0.00000000e+00j]\n",
      "  [ 0.00000000e+00+0.00000000e+00j]\n",
      "  [ 0.00000000e+00+0.00000000e+00j]\n",
      "  [ 0.00000000e+00+0.00000000e+00j]]]\n"
     ]
    }
   ],
   "source": [
    "print(result.final_state)"
   ]
  },
  {
   "cell_type": "code",
   "execution_count": 20,
   "id": "f9f60940",
   "metadata": {},
   "outputs": [
    {
     "data": {
      "text/plain": [
       "Array(0.99740442, dtype=float64)"
      ]
     },
     "execution_count": 20,
     "metadata": {},
     "output_type": "execute_result"
    }
   ],
   "source": [
    "from feedback_grape.utils.fidelity import fidelity, ket2dm\n",
    "\n",
    "\n",
    "fidelity(\n",
    "    U_final=result.final_state[0],\n",
    "    C_target=ket2dm(psi_target),\n",
    "    evo_type=\"density\",\n",
    ")"
   ]
  },
  {
   "cell_type": "code",
   "execution_count": 21,
   "id": "ad60a23c",
   "metadata": {},
   "outputs": [
    {
     "data": {
      "image/png": "[encoded data removed]",
      "text/plain": [
       "<Figure size 800x500 with 1 Axes>"
      ]
     },
     "metadata": {},
     "output_type": "display_data"
    }
   ],
   "source": [
    "import matplotlib.pyplot as plt\n",
    "import jax.numpy as jnp\n",
    "from feedback_grape.utils.operators import identity\n",
    "from feedback_grape.utils.tensor import tensor\n",
    "from feedback_grape.utils.states import (\n",
    "    fock,\n",
    ")  # Assuming this provides the Fock state function\n",
    "\n",
    "# Parameters\n",
    "target_levels = [0, 4, 8, 12, 16, 20, 24, 28]\n",
    "\n",
    "# Projectors and probabilities\n",
    "probs = []\n",
    "for n in target_levels:\n",
    "    # Projector: |n⟩⟨n| ⊗ I_qubit\n",
    "    # probability that the final state is in the projection subspace of the\n",
    "    # cavity Fock state |n⟩\n",
    "    proj = tensor(ket2dm(basis(2)), ket2dm(fock(N_cav, n)))\n",
    "    prob = jnp.real(\n",
    "        jnp.vdot(result.final_state[0], proj @ result.final_state[0])\n",
    "    )\n",
    "    probs.append(prob)\n",
    "\n",
    "# Plotting\n",
    "plt.figure(figsize=(8, 5))\n",
    "plt.bar([str(n) for n in target_levels], probs, color='orange')\n",
    "plt.yscale('log')\n",
    "plt.yticks(\n",
    "    [1e-32, 1e-16, 1e-8, 1e-4, 1e-2, 1e0],\n",
    "    labels=[\n",
    "        '$10^{-32}$',\n",
    "        '$10^{-16}$',\n",
    "        '$10^{-8}$',\n",
    "        '$10^{-4}$',\n",
    "        '$10^{-2}$',\n",
    "        '$10^0$',\n",
    "    ],\n",
    ")\n",
    "plt.xlabel('Cavity Fock State |n⟩')\n",
    "plt.ylabel('Excitation Probability $P_n$ (log scale)')\n",
    "plt.title('Excitation Number Distribution $\\\\langle n | \\\\rho | n \\\\rangle$')\n",
    "plt.grid(True, axis='y', linestyle='--', alpha=0.6)\n",
    "plt.tight_layout()\n",
    "plt.show()"
   ]
  }
 ],
 "metadata": {
  "kernelspec": {
   "display_name": "Python 3",
   "language": "python",
   "name": "python3"
  },
  "language_info": {
   "codemirror_mode": {
    "name": "ipython",
    "version": 3
   },
   "file_extension": ".py",
   "mimetype": "text/x-python",
   "name": "python",
   "nbconvert_exporter": "python",
   "pygments_lexer": "ipython3",
   "version": "3.11.12"
  }
 },
 "nbformat": 4,
 "nbformat_minor": 5
}

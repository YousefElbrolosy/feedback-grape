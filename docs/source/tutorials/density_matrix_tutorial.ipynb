{
 "cells": [
  {
   "cell_type": "markdown",
   "id": "689d6371",
   "metadata": {},
   "source": [
    "# Density Matrix Examples"
   ]
  },
  {
   "cell_type": "markdown",
   "id": "46076e68",
   "metadata": {},
   "source": [
    "## CNOT Example"
   ]
  },
  {
   "cell_type": "code",
   "execution_count": null,
   "id": "6a1361d6",
   "metadata": {},
   "outputs": [],
   "source": [
    "# for testing purposes\n",
    "import qutip as qt"
   ]
  },
  {
   "cell_type": "code",
   "execution_count": null,
   "id": "77a418f8",
   "metadata": {},
   "outputs": [],
   "source": [
    "from feedback_grape.utils.gates import cnot\n",
    "import jax.numpy as jnp\n",
    "from feedback_grape.utils.operators import identity, sigmax, sigmay, sigmaz\n",
    "from feedback_grape.utils.tensor import tensor\n",
    "from feedback_grape.grape import optimize_pulse, fidelity\n",
    "from feedback_grape.solver import mesolve"
   ]
  },
  {
   "cell_type": "code",
   "execution_count": 49,
   "id": "da8b5262",
   "metadata": {},
   "outputs": [
    {
     "name": "stdout",
     "output_type": "stream",
     "text": [
      "final_fidelity:  1.0\n",
      "U_f \n",
      " [[ 1.00000000e+00+1.21430643e-17j -1.70253622e-18+3.03576608e-18j\n",
      "  -4.91746672e-16-4.33680869e-17j -4.22838847e-18-2.51534904e-17j]\n",
      " [ 4.00138364e-18-4.33680869e-18j  1.00000000e+00-7.80625564e-18j\n",
      "  -1.82145965e-17-2.14672030e-16j -9.48723488e-17+4.05491613e-17j]\n",
      " [-4.97613222e-16+3.79470760e-17j -1.86584418e-17+2.19442520e-16j\n",
      "   1.00000000e+00+3.46944695e-18j -1.16201062e-16-3.47378376e-16j]\n",
      " [-3.17806762e-18+5.37764278e-17j -1.05916176e-16-3.62123526e-17j\n",
      "  -1.08847122e-16+3.37837397e-16j  1.00000000e+00+1.12757026e-17j]]\n",
      "Converged after:  2\n"
     ]
    }
   ],
   "source": [
    "rho_target = cnot() @ cnot().conj().T\n",
    "rho_initial = identity(4) @ identity(4).conj().T\n",
    "H_drift = 0 * (tensor(sigmax(), sigmax()) + tensor(sigmay(), sigmay()))\n",
    "H_ctrl = [\n",
    "    tensor(sigmax(), identity(2)),\n",
    "    tensor(sigmay(), identity(2)),\n",
    "    tensor(sigmaz(), identity(2)),\n",
    "    tensor(identity(2), sigmax()),\n",
    "    tensor(identity(2), sigmay()),\n",
    "    tensor(identity(2), sigmaz()),\n",
    "    tensor(sigmax(), sigmax()),\n",
    "    tensor(sigmay(), sigmay()),\n",
    "    tensor(sigmaz(), sigmaz()),\n",
    "]\n",
    "num_t_slots = 500\n",
    "total_evo_time = 2 * jnp.pi\n",
    "res = optimize_pulse(\n",
    "    H_drift,\n",
    "    H_ctrl,\n",
    "    rho_initial,\n",
    "    rho_target,\n",
    "    num_t_slots,\n",
    "    total_evo_time,\n",
    "    max_iter=100,\n",
    "    learning_rate=1e-2,\n",
    "    optimizer=\"adam\",\n",
    "    type=\"density\",\n",
    ")\n",
    "print(\"final_fidelity: \", res.final_fidelity)\n",
    "print(\"U_f \\n\", res.final_operator)\n",
    "print(\"Converged after: \", res.iterations)"
   ]
  },
  {
   "cell_type": "code",
   "execution_count": 50,
   "id": "051e8e74",
   "metadata": {},
   "outputs": [
    {
     "data": {
      "text/plain": [
       "np.float64(0.9999999999999998)"
      ]
     },
     "execution_count": 50,
     "metadata": {},
     "output_type": "execute_result"
    }
   ],
   "source": [
    "qt.fidelity(\n",
    "    qt.Qobj(res.final_operator / jnp.trace(res.final_operator)),\n",
    "    qt.Qobj(rho_target / jnp.trace(rho_target)),\n",
    ")  # should be close to 1"
   ]
  },
  {
   "cell_type": "code",
   "execution_count": 51,
   "id": "47df2cd9",
   "metadata": {},
   "outputs": [],
   "source": [
    "# Reconstucting hamiltonian\n",
    "def build_ham_reconstructed(control_amplitudes):\n",
    "    \"\"\"\n",
    "    Build Hamiltonian for given (complex) e_qub and e_cav\n",
    "    \"\"\"\n",
    "\n",
    "    H_ctrl = (\n",
    "        control_amplitudes[0] * tensor(sigmax(), identity(2))\n",
    "        + control_amplitudes[1] * tensor(sigmay(), identity(2))\n",
    "        + control_amplitudes[2] * tensor(sigmaz(), identity(2))\n",
    "        + control_amplitudes[3] * tensor(identity(2), sigmax())\n",
    "        + control_amplitudes[4] * tensor(identity(2), sigmay())\n",
    "        + control_amplitudes[5] * tensor(identity(2), sigmaz())\n",
    "        + control_amplitudes[6] * tensor(sigmax(), sigmax())\n",
    "        + control_amplitudes[7] * tensor(sigmay(), sigmay())\n",
    "        + control_amplitudes[8] * tensor(sigmaz(), sigmaz())\n",
    "    )\n",
    "\n",
    "    H_drift = 0 * (tensor(sigmax(), sigmax()) + tensor(sigmay(), sigmay()))\n",
    "\n",
    "    H = H_drift + H_ctrl\n",
    "    return H"
   ]
  },
  {
   "cell_type": "code",
   "execution_count": null,
   "id": "530033b7",
   "metadata": {},
   "outputs": [
    {
     "name": "stdout",
     "output_type": "stream",
     "text": [
      "1.0023642934163868\n"
     ]
    }
   ],
   "source": [
    "# Construct the Hamiltonian for each time slot\n",
    "H_total = jnp.array(\n",
    "    [\n",
    "        build_ham_reconstructed(res.control_amplitudes[i, :])\n",
    "        for i in range(num_t_slots)\n",
    "    ]\n",
    ")\n",
    "\n",
    "# Initial state\n",
    "psi0_fg = identity(4) @ identity(4).conj().T\n",
    "\n",
    "# Time intervals\n",
    "delta_ts = jnp.repeat(total_evo_time / num_t_slots, num_t_slots).astype(\n",
    "    jnp.float32\n",
    ")\n",
    "\n",
    "# Solve the Schrödinger equation\n",
    "psi_fg = mesolve(H_total, psi0_fg, delta_ts)\n",
    "\n",
    "# Target state\n",
    "rho_target = cnot() @ cnot().conj().T\n",
    "\n",
    "# Calculate fidelity\n",
    "print(fidelity(C_target=rho_target, U_final=psi_fg, type=\"density\"))"
   ]
  },
  {
   "cell_type": "markdown",
   "id": "123afa50",
   "metadata": {},
   "source": [
    "## Time Dependent with density Matrices"
   ]
  },
  {
   "cell_type": "code",
   "execution_count": null,
   "id": "ca51fb5f",
   "metadata": {},
   "outputs": [],
   "source": [
    "## MAIN.py with time_dep example\n",
    "\n",
    "import jax\n",
    "import jax.numpy as jnp\n",
    "from feedback_grape.grape import (\n",
    "    optimize_pulse,\n",
    "    fidelity,\n",
    ")\n",
    "from feedback_grape.solver import mesolve\n",
    "from feedback_grape.utils.operators import identity, destroy, sigmap, sigmaz\n",
    "from feedback_grape.utils.tensor import tensor\n",
    "from feedback_grape.utils.states import basis\n",
    "# ruff: noqa\n",
    "\n",
    "N_cav = 10\n",
    "chi = 0.2385 * (2 * jnp.pi)\n",
    "mu_qub = 4.0\n",
    "mu_cav = 8.0\n",
    "hconj = lambda a: jnp.swapaxes(a.conj(), -1, -2)\n",
    "time_start = 0.0\n",
    "time_end = 1.0\n",
    "time_intervals_num = 5\n",
    "N_cav = 10\n",
    "# Eqivalant to delta_ts = jnp.repeat(0.2, time_intervals_num).astype(jnp.float32)\n",
    "# However, it is implemented in this way to be more general and\n",
    "# show that these are the differences between the time intervals\n",
    "t_grid = jnp.linspace(time_start, time_end, time_intervals_num + 1)\n",
    "delta_ts = t_grid[1:] - t_grid[:-1]\n",
    "fake_random_key = jax.random.key(seed=0)\n",
    "e_data = jax.random.uniform(\n",
    "    fake_random_key, shape=(4, len(delta_ts)), minval=-1, maxval=1\n",
    ")\n",
    "e_qub = e_data[0] + 1j * e_data[1]\n",
    "e_cav = e_data[2] + 1j * e_data[3]\n",
    "\n",
    "\n",
    "@jax.vmap\n",
    "def build_ham(e_qub, e_cav):\n",
    "    \"\"\"\n",
    "    Build Hamiltonian for given (complex) e_qub and e_cav\n",
    "    \"\"\"\n",
    "\n",
    "    a = tensor(identity(2), destroy(N_cav))\n",
    "    adag = hconj(a)\n",
    "    n_phot = adag @ a\n",
    "    sigz = tensor(sigmaz(), identity(N_cav))\n",
    "    sigp = tensor(sigmap(), identity(N_cav))\n",
    "    one = tensor(identity(2), identity(N_cav))\n",
    "\n",
    "    H0 = +(chi / 2) * n_phot @ (sigz + one)\n",
    "\n",
    "    H_ctrl = mu_qub * sigp * e_qub + mu_cav * adag * e_cav\n",
    "    H_ctrl += hconj(H_ctrl)\n",
    "    # You just pass an array of the Hamiltonian matrices \"Hs\" corresponding to the time\n",
    "    # intervals \"delta_ts\" (that is, \"Hs\" is a 3D array).\n",
    "    return H0, H_ctrl\n",
    "\n",
    "\n",
    "H0, H_ctrl = build_ham(e_qub, e_cav)\n",
    "\n",
    "\n",
    "# Representation for time dependent Hamiltonian\n",
    "def solve(Hs, delta_ts):\n",
    "    \"\"\"\n",
    "    Find evolution operator for piecewise Hs on time intervals delts_ts\n",
    "    \"\"\"\n",
    "    for i, (H, delta_t) in enumerate(zip(Hs, delta_ts)):\n",
    "        U_intv = jax.scipy.linalg.expm(-1j * H * delta_t)\n",
    "        U = U_intv if i == 0 else U_intv @ U\n",
    "    return U\n",
    "\n",
    "\n",
    "U = solve(H0 + H_ctrl, delta_ts)\n",
    "psi0 = tensor(basis(2), basis(N_cav)) @ tensor(basis(2), basis(N_cav)).conj().T\n",
    "global psi_target_qt\n",
    "psi_target_qt = psi_target = (U @ psi0) @ (U @ psi0).conj().T\n",
    "\n",
    "\n",
    "def build_grape_format_ham():\n",
    "    \"\"\"\n",
    "    Build Hamiltonian for given (complex) e_qub and e_cav\n",
    "    \"\"\"\n",
    "\n",
    "    a = tensor(identity(2), destroy(N_cav))\n",
    "    adag = hconj(a)\n",
    "    n_phot = adag @ a\n",
    "    sigz = tensor(sigmaz(), identity(N_cav))\n",
    "    sigp = tensor(sigmap(), identity(N_cav))\n",
    "    one = tensor(identity(2), identity(N_cav))\n",
    "\n",
    "    H0 = +(chi / 2) * n_phot @ (sigz + one)\n",
    "    H_ctrl_qub = mu_qub * sigp\n",
    "    H_ctrl_qub_dag = hconj(H_ctrl_qub)\n",
    "    H_ctrl_cav = mu_cav * adag\n",
    "    H_ctrl_cav_dag = hconj(H_ctrl_cav)\n",
    "\n",
    "    H_ctrl = [H_ctrl_qub, H_ctrl_qub_dag, H_ctrl_cav, H_ctrl_cav_dag]\n",
    "\n",
    "    return H0, H_ctrl\n",
    "\n",
    "\n",
    "def test_time_dep(optimizer=\"adam\"):\n",
    "    H0_grape, H_ctrl_grape = build_grape_format_ham()\n",
    "\n",
    "    res = optimize_pulse(\n",
    "        H0_grape,\n",
    "        H_ctrl_grape,\n",
    "        psi0,\n",
    "        psi_target,\n",
    "        int(\n",
    "            (time_end - time_start) / delta_ts[0]\n",
    "        ),  # Ensure this is an integer\n",
    "        time_end - time_start,\n",
    "        max_iter=10000,\n",
    "        # when you decrease convergence threshold, it is more accurate\n",
    "        convergence_threshold=1e-3,\n",
    "        learning_rate=1e-2,\n",
    "        type=\"density\",\n",
    "        optimizer=optimizer,\n",
    "    )\n",
    "    return res"
   ]
  },
  {
   "cell_type": "code",
   "execution_count": 40,
   "id": "829f5f87",
   "metadata": {},
   "outputs": [
    {
     "name": "stdout",
     "output_type": "stream",
     "text": [
      "final_fidelity:  0.9988626218285693\n"
     ]
    }
   ],
   "source": [
    "res = test_time_dep(\"l-bfgs\")\n",
    "print(\"final_fidelity: \", res.final_fidelity)"
   ]
  },
  {
   "cell_type": "code",
   "execution_count": null,
   "id": "bd08e082",
   "metadata": {},
   "outputs": [
    {
     "name": "stdout",
     "output_type": "stream",
     "text": [
      "0.9988626195947395\n"
     ]
    }
   ],
   "source": [
    "### Define the time grid (same as defined)\n",
    "time_start = 0.0\n",
    "time_end = 1.0\n",
    "time_intervals_num = 5\n",
    "N_cav = 10\n",
    "# Eqivalant to delta_ts = jnp.repeat(0.2, time_intervals_num).astype(jnp.float32)\n",
    "# However, it is implemented in this way to be more general and\n",
    "# show that these are the differences between the time intervals\n",
    "t_grid = jnp.linspace(time_start, time_end, time_intervals_num + 1)\n",
    "delta_ts = t_grid[1:] - t_grid[:-1]\n",
    "\n",
    "\n",
    "### Build the Hamiltonian\n",
    "def build_ham_reconstructed(u1, u2, u3, u4):\n",
    "    \"\"\"\n",
    "    Build Hamiltonian for given (complex) e_qub and e_cav\n",
    "    \"\"\"\n",
    "\n",
    "    a = tensor(identity(2), destroy(N_cav))\n",
    "    adag = hconj(a)\n",
    "    n_phot = adag @ a\n",
    "    sigz = tensor(sigmaz(), identity(N_cav))\n",
    "    sigp = tensor(sigmap(), identity(N_cav))\n",
    "    one = tensor(identity(2), identity(N_cav))\n",
    "\n",
    "    H0 = +(chi / 2) * n_phot @ (sigz + one)\n",
    "    H_ctrl_qub = mu_qub * sigp\n",
    "    H_ctrl_qub_dag = hconj(H_ctrl_qub)\n",
    "    H_ctrl_cav = mu_cav * adag\n",
    "    H_ctrl_cav_dag = hconj(H_ctrl_cav)\n",
    "\n",
    "    # Apply control amplitudes\n",
    "    H_ctrl = (\n",
    "        u1 * H_ctrl_qub\n",
    "        + u2 * H_ctrl_qub_dag\n",
    "        + u3 * H_ctrl_cav\n",
    "        + u4 * H_ctrl_cav_dag\n",
    "    )\n",
    "\n",
    "    H = H0 + H_ctrl\n",
    "    return H\n",
    "\n",
    "\n",
    "u1 = res.control_amplitudes[:, 0]\n",
    "u2 = res.control_amplitudes[:, 1]\n",
    "u3 = res.control_amplitudes[:, 2]\n",
    "u4 = res.control_amplitudes[:, 3]\n",
    "u1\n",
    "### Construct the Hamiltonian for each time step\n",
    "H_total = jnp.array(\n",
    "    [\n",
    "        build_ham_reconstructed(u1[i], u2[i], u3[i], u4[i])\n",
    "        for i in range(len(u1))\n",
    "    ]\n",
    ")\n",
    "H_total\n",
    "H_total.shape\n",
    "### Solve the Schrödinger Equation\n",
    "\n",
    "psi0_fg = (\n",
    "    tensor(basis(2), basis(N_cav)) @ tensor(basis(2), basis(N_cav)).conj().T\n",
    ")\n",
    "psi_fg = (\n",
    "    mesolve(H_total, psi0_fg, delta_ts )\n",
    ")\n",
    "### Calculate fidelity with target\n",
    "print(fidelity(C_target=psi_target, U_final=psi_fg, type=\"density\"))"
   ]
  },
  {
   "cell_type": "markdown",
   "id": "d0b2f5e5",
   "metadata": {},
   "source": [
    "## Dissapative using density matrix dynamics"
   ]
  },
  {
   "cell_type": "code",
   "execution_count": null,
   "id": "b945ec96",
   "metadata": {},
   "outputs": [],
   "source": [
    "import jax.numpy as jnp\n",
    "from feedback_grape.grape import *\n",
    "from feedback_grape.utils.gates import *\n",
    "from feedback_grape.utils.operators import *\n",
    "from feedback_grape.utils.states import *\n",
    "from feedback_grape.utils.superoperator import *\n",
    "from feedback_grape.utils.tensor import *"
   ]
  },
  {
   "cell_type": "code",
   "execution_count": 43,
   "id": "d5e9b728",
   "metadata": {},
   "outputs": [],
   "source": [
    "Sx = sigmax()\n",
    "Sy = sigmay()\n",
    "Sz = sigmaz()\n",
    "Sm = sigmam()\n",
    "Si = identity(2)\n",
    "had_gate = hadamard()\n",
    "# Hamiltonian\n",
    "Del = 0.1  # Tunnelling term\n",
    "wq = 1.0  # Energy of the 2-level system.\n",
    "H0 = 0.5 * wq * sigmaz() + 0.5 * Del * sigmax()\n",
    "\n",
    "# Amplitude damping#\n",
    "# Damping rate:\n",
    "gamma = 0.1\n",
    "L0 = liouvillian(H0, [jnp.sqrt(gamma) * Sm])\n",
    "\n",
    "# sigma X control\n",
    "LC_x = liouvillian(Sx)\n",
    "# sigma Y control\n",
    "LC_y = liouvillian(Sy)\n",
    "# sigma Z control\n",
    "LC_z = liouvillian(Sz)\n",
    "\n",
    "# Drift\n",
    "drift = L0\n",
    "# Controls - different combinations can be tried\n",
    "ctrls = [LC_z, LC_x]\n",
    "# Number of ctrls\n",
    "n_ctrls = len(ctrls)\n",
    "\n",
    "# start point for the map evolution\n",
    "E0 = sprepost(Si, Si)\n",
    "\n",
    "# target for map evolution\n",
    "E_targ = sprepost(had_gate, had_gate)\n",
    "\n",
    "# Number of time slots\n",
    "n_ts = 10\n",
    "# Time allowed for the evolution\n",
    "evo_time = 2\n",
    "\n",
    "# here using the superoperator dynamics lead to extremely high fidelity\n",
    "result = optimize_pulse(\n",
    "    drift,\n",
    "    ctrls,\n",
    "    E0,\n",
    "    E_targ,\n",
    "    n_ts,\n",
    "    evo_time,\n",
    "    type=\"superoperator\",\n",
    "    optimizer=\"l-bfgs\",\n",
    "    convergence_threshold=1e-16,\n",
    "    max_iter=100000,\n",
    "    learning_rate=0.35,\n",
    ")"
   ]
  },
  {
   "cell_type": "code",
   "execution_count": 44,
   "id": "ccfde530",
   "metadata": {},
   "outputs": [
    {
     "data": {
      "text/plain": [
       "Array(0.94786882, dtype=float64)"
      ]
     },
     "execution_count": 44,
     "metadata": {},
     "output_type": "execute_result"
    }
   ],
   "source": [
    "result.final_fidelity"
   ]
  },
  {
   "cell_type": "code",
   "execution_count": 45,
   "id": "6a1bde32",
   "metadata": {},
   "outputs": [
    {
     "data": {
      "text/plain": [
       "Array([[ 5.57533513e-02-1.75980267e-01j,  2.95344419e+02+9.51248935e+01j,\n",
       "         5.04941221e-05+1.30005952e-05j,  9.72949958e-01+1.30860140e-01j],\n",
       "       [-5.00462208e-05-6.59537983e-05j,  2.96469937e-02-4.26664595e-02j,\n",
       "        -1.83276982e-07-4.46286272e-08j,  6.37081855e-05-3.16347208e-05j],\n",
       "       [-2.15773210e+02-3.49907797e+02j, -4.97354500e+06-1.19938675e+06j,\n",
       "         2.55589853e-02-4.40457607e-02j,  2.93271538e+02-1.54877311e+02j],\n",
       "       [ 9.44246649e-01+1.75980267e-01j, -2.95344419e+02-9.51248935e+01j,\n",
       "        -5.04941221e-05-1.30005952e-05j,  2.70500422e-02-1.30860140e-01j]],      dtype=complex128)"
      ]
     },
     "execution_count": 45,
     "metadata": {},
     "output_type": "execute_result"
    }
   ],
   "source": [
    "result.final_operator"
   ]
  },
  {
   "cell_type": "code",
   "execution_count": 46,
   "id": "ab2d4515",
   "metadata": {},
   "outputs": [],
   "source": [
    "fidelity_qt = qt.tracedist(\n",
    "    qt.Qobj(E_targ).unit(), qt.Qobj(result.final_operator).unit()\n",
    ")  # should be close to 1"
   ]
  },
  {
   "cell_type": "code",
   "execution_count": 47,
   "id": "d85835e4",
   "metadata": {},
   "outputs": [
    {
     "name": "stdout",
     "output_type": "stream",
     "text": [
      "final_fidelity_qt:  0.9096768164798428\n"
     ]
    }
   ],
   "source": [
    "print(\"final_fidelity_qt: \", fidelity_qt)"
   ]
  },
  {
   "cell_type": "markdown",
   "id": "7986b170",
   "metadata": {},
   "source": [
    "## Using desnity matrix dynamics"
   ]
  },
  {
   "cell_type": "code",
   "execution_count": null,
   "id": "edfb73e2",
   "metadata": {},
   "outputs": [
    {
     "name": "stdout",
     "output_type": "stream",
     "text": [
      "0.9904154326059835\n",
      "[[ 1.00000000e+00+0.00000000e+00j  2.21218707e-16-1.86341314e-15j\n",
      "   9.41949200e-17+3.07428868e-16j -7.89390060e-02+3.89418342e-01j]\n",
      " [ 2.21218707e-16+1.86341314e-15j  1.00000000e+00+0.00000000e+00j\n",
      "   3.67774590e-31-6.54625741e-29j -7.50480541e-16+7.47517457e-16j]\n",
      " [ 9.41949200e-17-3.07428868e-16j  3.67774590e-31+6.54625741e-29j\n",
      "   1.00000000e+00+3.46944695e-18j -1.95760340e-16+8.08466816e-16j]\n",
      " [-7.89390060e-02-3.89418342e-01j -7.50480541e-16-7.47517457e-16j\n",
      "  -1.95760340e-16-8.08466816e-16j  1.15787801e+00-8.67361738e-19j]]\n",
      "final_fidelity_qt:  0.9904154326059835\n"
     ]
    }
   ],
   "source": [
    "import jax.numpy as jnp\n",
    "from feedback_grape.grape import *\n",
    "from feedback_grape.utils.gates import *\n",
    "from feedback_grape.utils.operators import *\n",
    "from feedback_grape.utils.states import *\n",
    "from feedback_grape.utils.superoperator import *\n",
    "from feedback_grape.utils.tensor import *\n",
    "import qutip as qt\n",
    "\n",
    "Sx = sigmax()\n",
    "Sy = sigmay()\n",
    "Sz = sigmaz()\n",
    "Sm = sigmam()\n",
    "Si = identity(2)\n",
    "had_gate = hadamard()\n",
    "# Hamiltonian\n",
    "Del = 0.1  # Tunnelling term\n",
    "wq = 1.0  # Energy of the 2-level system.\n",
    "H0 = 0.5 * wq * sigmaz() + 0.5 * Del * sigmax()\n",
    "\n",
    "# Amplitude damping#\n",
    "# Damping rate:\n",
    "gamma = 0.1\n",
    "L0 = liouvillian(H0, [jnp.sqrt(gamma) * Sm])\n",
    "\n",
    "# sigma X control\n",
    "LC_x = liouvillian(Sx)\n",
    "# sigma Y control\n",
    "LC_y = liouvillian(Sy)\n",
    "# sigma Z control\n",
    "LC_z = liouvillian(Sz)\n",
    "\n",
    "# Drift\n",
    "drift = L0\n",
    "# Controls - different combinations can be tried\n",
    "ctrls = [LC_z, LC_x]\n",
    "# Number of ctrls\n",
    "n_ctrls = len(ctrls)\n",
    "\n",
    "# start point for the map evolution\n",
    "E0 = sprepost(Si, Si) @ sprepost(Si, Si).conj().T\n",
    "\n",
    "# target for map evolution\n",
    "E_targ = sprepost(had_gate, had_gate) @ sprepost(had_gate, had_gate).conj().T\n",
    "\n",
    "# Number of time slots\n",
    "n_ts = 10\n",
    "# Time allowed for the evolution\n",
    "evo_time = 2\n",
    "\n",
    "# here using the superoperator dynamics lead to extremely high fidelity but actually\n",
    "# does not match with qutip's fidelity ± meaning that 2.0 is probably some error\n",
    "result = optimize_pulse(\n",
    "    drift,\n",
    "    ctrls,\n",
    "    E0,\n",
    "    E_targ,\n",
    "    n_ts,\n",
    "    evo_time,\n",
    "    type=\"density\",\n",
    "    optimizer=\"l-bfgs\",\n",
    "    convergence_threshold=1e-16,\n",
    "    max_iter=100000,\n",
    "    learning_rate=0.35,\n",
    ")\n",
    "print(result.final_fidelity)\n",
    "print(result.final_operator)\n",
    "fidelity_qt = qt.fidelity(\n",
    "    qt.Qobj(E_targ).unit(), qt.Qobj(result.final_operator).unit()\n",
    ")  # should be close to 1\n",
    "print(\"final_fidelity_qt: \", fidelity_qt)"
   ]
  }
 ],
 "metadata": {
  "kernelspec": {
   "display_name": "qiskit-stable8",
   "language": "python",
   "name": "python3"
  },
  "language_info": {
   "codemirror_mode": {
    "name": "ipython",
    "version": 3
   },
   "file_extension": ".py",
   "mimetype": "text/x-python",
   "name": "python",
   "nbconvert_exporter": "python",
   "pygments_lexer": "ipython3",
   "version": "3.11.5"
  }
 },
 "nbformat": 4,
 "nbformat_minor": 5
}

{
 "cells": [
  {
   "cell_type": "markdown",
   "id": "689d6371",
   "metadata": {},
   "source": [
    "# Density Matrix Examples"
   ]
  },
  {
   "cell_type": "markdown",
   "id": "46076e68",
   "metadata": {},
   "source": [
    "## CNOT Example"
   ]
  },
  {
   "cell_type": "code",
   "execution_count": 1,
   "id": "12c27adb",
   "metadata": {
    "tags": [
     "remove-cell"
    ]
   },
   "outputs": [],
   "source": [
    "# ruff: noqa\n",
    "import os\n",
    "\n",
    "os.sys.path.append(\"../../../..\")"
   ]
  },
  {
   "cell_type": "code",
   "execution_count": 2,
   "id": "6a1361d6",
   "metadata": {},
   "outputs": [],
   "source": [
    "# for testing purposes\n",
    "import qutip as qt"
   ]
  },
  {
   "cell_type": "code",
   "execution_count": 3,
   "id": "77a418f8",
   "metadata": {},
   "outputs": [],
   "source": [
    "from feedback_grape.utils.gates import cnot\n",
    "import jax.numpy as jnp\n",
    "from feedback_grape.utils.operators import identity, sigmax, sigmay, sigmaz\n",
    "from feedback_grape.utils.tensor import tensor\n",
    "from feedback_grape.grape import optimize_pulse, fidelity\n",
    "from feedback_grape.utils.solver import sesolve"
   ]
  },
  {
   "cell_type": "code",
   "execution_count": 4,
   "id": "da8b5262",
   "metadata": {},
   "outputs": [
    {
     "name": "stdout",
     "output_type": "stream",
     "text": [
      "final_fidelity:  0.9999999999999998\n",
      "U_f \n",
      " [[ 1.00000000e+00+3.46944695e-18j  6.16284232e-17+3.68195058e-16j\n",
      "  -3.67039705e-16-7.04731412e-17j  3.19162015e-18-3.46944695e-18j]\n",
      " [ 6.38230855e-17-3.40439482e-16j  1.00000000e+00+1.82145965e-17j\n",
      "  -1.10486978e-17+1.52655666e-16j  2.22094580e-16-4.29344060e-17j]\n",
      " [-3.84005775e-16+5.85469173e-17j -1.11401773e-17-1.62630326e-16j\n",
      "   1.00000000e+00-1.12757026e-17j -6.15301674e-17-2.81458884e-16j]\n",
      " [ 2.96122718e-18-8.67361738e-19j  2.18613274e-16+5.61616725e-17j\n",
      "  -5.52519591e-17+2.83627288e-16j  1.00000000e+00+9.97465999e-18j]]\n",
      "Converged after:  2\n"
     ]
    }
   ],
   "source": [
    "rho_target = cnot() @ cnot().conj().T\n",
    "rho_initial = identity(4) @ identity(4).conj().T\n",
    "H_drift = 0 * (tensor(sigmax(), sigmax()) + tensor(sigmay(), sigmay()))\n",
    "H_ctrl = [\n",
    "    tensor(sigmax(), identity(2)),\n",
    "    tensor(sigmay(), identity(2)),\n",
    "    tensor(sigmaz(), identity(2)),\n",
    "    tensor(identity(2), sigmax()),\n",
    "    tensor(identity(2), sigmay()),\n",
    "    tensor(identity(2), sigmaz()),\n",
    "    tensor(sigmax(), sigmax()),\n",
    "    tensor(sigmay(), sigmay()),\n",
    "    tensor(sigmaz(), sigmaz()),\n",
    "]\n",
    "num_t_slots = 500\n",
    "total_evo_time = 2 * jnp.pi\n",
    "res = optimize_pulse(\n",
    "    H_drift,\n",
    "    H_ctrl,\n",
    "    rho_initial,\n",
    "    rho_target,\n",
    "    num_t_slots,\n",
    "    total_evo_time,\n",
    "    max_iter=100,\n",
    "    learning_rate=1e-2,\n",
    "    optimizer=\"adam\",\n",
    "    evo_type=\"density\",\n",
    ")\n",
    "print(\"final_fidelity: \", res.final_fidelity)\n",
    "print(\"U_f \\n\", res.final_operator)\n",
    "print(\"Converged after: \", res.iterations)"
   ]
  },
  {
   "cell_type": "code",
   "execution_count": 5,
   "id": "051e8e74",
   "metadata": {},
   "outputs": [
    {
     "data": {
      "text/plain": [
       "np.float64(0.9999999999999994)"
      ]
     },
     "execution_count": 5,
     "metadata": {},
     "output_type": "execute_result"
    }
   ],
   "source": [
    "qt.fidelity(\n",
    "    qt.Qobj(res.final_operator / jnp.trace(res.final_operator)),\n",
    "    qt.Qobj(rho_target / jnp.trace(rho_target)),\n",
    ")  # should be close to 1"
   ]
  },
  {
   "cell_type": "code",
   "execution_count": 6,
   "id": "47df2cd9",
   "metadata": {},
   "outputs": [],
   "source": [
    "# Reconstucting hamiltonian\n",
    "def build_ham_reconstructed(control_amplitudes):\n",
    "    \"\"\"\n",
    "    Build Hamiltonian for given (complex) e_qub and e_cav\n",
    "    \"\"\"\n",
    "\n",
    "    H_ctrl = (\n",
    "        control_amplitudes[0] * tensor(sigmax(), identity(2))\n",
    "        + control_amplitudes[1] * tensor(sigmay(), identity(2))\n",
    "        + control_amplitudes[2] * tensor(sigmaz(), identity(2))\n",
    "        + control_amplitudes[3] * tensor(identity(2), sigmax())\n",
    "        + control_amplitudes[4] * tensor(identity(2), sigmay())\n",
    "        + control_amplitudes[5] * tensor(identity(2), sigmaz())\n",
    "        + control_amplitudes[6] * tensor(sigmax(), sigmax())\n",
    "        + control_amplitudes[7] * tensor(sigmay(), sigmay())\n",
    "        + control_amplitudes[8] * tensor(sigmaz(), sigmaz())\n",
    "    )\n",
    "\n",
    "    H_drift = 0 * (tensor(sigmax(), sigmax()) + tensor(sigmay(), sigmay()))\n",
    "\n",
    "    H = H_drift + H_ctrl\n",
    "    return H"
   ]
  },
  {
   "cell_type": "code",
   "execution_count": 7,
   "id": "530033b7",
   "metadata": {},
   "outputs": [
    {
     "name": "stdout",
     "output_type": "stream",
     "text": [
      "1.0\n"
     ]
    }
   ],
   "source": [
    "# Construct the Hamiltonian for each time slot\n",
    "H_total = jnp.array(\n",
    "    [\n",
    "        build_ham_reconstructed(res.control_amplitudes[i, :])\n",
    "        for i in range(num_t_slots)\n",
    "    ]\n",
    ")\n",
    "\n",
    "# Initial state\n",
    "psi0_fg = identity(4) @ identity(4).conj().T\n",
    "\n",
    "# Time intervals\n",
    "delta_ts = jnp.repeat(total_evo_time / num_t_slots, num_t_slots).astype(\n",
    "    jnp.float32\n",
    ")\n",
    "\n",
    "# Solve the Schrödinger equation\n",
    "psi_fg = sesolve(H_total, psi0_fg, delta_ts, evo_type=\"density\")\n",
    "\n",
    "# Target state\n",
    "rho_target = cnot() @ cnot().conj().T\n",
    "\n",
    "# Calculate fidelity\n",
    "print(fidelity(C_target=rho_target, U_final=psi_fg, evo_type=\"density\"))"
   ]
  },
  {
   "cell_type": "markdown",
   "id": "123afa50",
   "metadata": {},
   "source": [
    "## Time Dependent with density Matrices"
   ]
  },
  {
   "cell_type": "code",
   "execution_count": 8,
   "id": "ca51fb5f",
   "metadata": {},
   "outputs": [],
   "source": [
    "## MAIN.py with time_dep example\n",
    "\n",
    "import jax\n",
    "import jax.numpy as jnp\n",
    "from feedback_grape.grape import (\n",
    "    optimize_pulse,\n",
    "    fidelity,\n",
    ")\n",
    "from feedback_grape.utils.solver import sesolve\n",
    "from feedback_grape.utils.operators import identity, destroy, sigmap, sigmaz\n",
    "from feedback_grape.utils.tensor import tensor\n",
    "from feedback_grape.utils.states import basis\n",
    "# ruff: noqa\n",
    "\n",
    "N_cav = 10\n",
    "chi = 0.2385 * (2 * jnp.pi)\n",
    "mu_qub = 4.0\n",
    "mu_cav = 8.0\n",
    "hconj = lambda a: jnp.swapaxes(a.conj(), -1, -2)\n",
    "time_start = 0.0\n",
    "time_end = 1.0\n",
    "time_intervals_num = 5\n",
    "N_cav = 10\n",
    "# Eqivalant to delta_ts = jnp.repeat(0.2, time_intervals_num).astype(jnp.float32)\n",
    "# However, it is implemented in this way to be more general and\n",
    "# show that these are the differences between the time intervals\n",
    "t_grid = jnp.linspace(time_start, time_end, time_intervals_num + 1)\n",
    "delta_ts = t_grid[1:] - t_grid[:-1]\n",
    "fake_random_key = jax.random.key(seed=0)\n",
    "e_data = jax.random.uniform(\n",
    "    fake_random_key, shape=(4, len(delta_ts)), minval=-1, maxval=1\n",
    ")\n",
    "e_qub = e_data[0] + 1j * e_data[1]\n",
    "e_cav = e_data[2] + 1j * e_data[3]\n",
    "\n",
    "\n",
    "@jax.vmap\n",
    "def build_ham(e_qub, e_cav):\n",
    "    \"\"\"\n",
    "    Build Hamiltonian for given (complex) e_qub and e_cav\n",
    "    \"\"\"\n",
    "\n",
    "    a = tensor(identity(2), destroy(N_cav))\n",
    "    adag = hconj(a)\n",
    "    n_phot = adag @ a\n",
    "    sigz = tensor(sigmaz(), identity(N_cav))\n",
    "    sigp = tensor(sigmap(), identity(N_cav))\n",
    "    one = tensor(identity(2), identity(N_cav))\n",
    "\n",
    "    H0 = +(chi / 2) * n_phot @ (sigz + one)\n",
    "\n",
    "    H_ctrl = mu_qub * sigp * e_qub + mu_cav * adag * e_cav\n",
    "    H_ctrl += hconj(H_ctrl)\n",
    "    # You just pass an array of the Hamiltonian matrices \"Hs\" corresponding to the time\n",
    "    # intervals \"delta_ts\" (that is, \"Hs\" is a 3D array).\n",
    "    return H0, H_ctrl\n",
    "\n",
    "\n",
    "H0, H_ctrl = build_ham(e_qub, e_cav)\n",
    "\n",
    "\n",
    "# Representation for time dependent Hamiltonian\n",
    "def solve(Hs, delta_ts):\n",
    "    \"\"\"\n",
    "    Find evolution operator for piecewise Hs on time intervals delts_ts\n",
    "    \"\"\"\n",
    "    for i, (H, delta_t) in enumerate(zip(Hs, delta_ts)):\n",
    "        U_intv = jax.scipy.linalg.expm(-1j * H * delta_t)\n",
    "        U = U_intv if i == 0 else U_intv @ U\n",
    "    return U\n",
    "\n",
    "\n",
    "U = solve(H0 + H_ctrl, delta_ts)\n",
    "psi0 = tensor(basis(2), basis(N_cav)) @ tensor(basis(2), basis(N_cav)).conj().T\n",
    "global psi_target_qt\n",
    "psi_target_qt = psi_target = (U @ psi0) @ (U @ psi0).conj().T\n",
    "\n",
    "\n",
    "def build_grape_format_ham():\n",
    "    \"\"\"\n",
    "    Build Hamiltonian for given (complex) e_qub and e_cav\n",
    "    \"\"\"\n",
    "\n",
    "    a = tensor(identity(2), destroy(N_cav))\n",
    "    adag = hconj(a)\n",
    "    n_phot = adag @ a\n",
    "    sigz = tensor(sigmaz(), identity(N_cav))\n",
    "    sigp = tensor(sigmap(), identity(N_cav))\n",
    "    one = tensor(identity(2), identity(N_cav))\n",
    "\n",
    "    H0 = +(chi / 2) * n_phot @ (sigz + one)\n",
    "    H_ctrl_qub = mu_qub * sigp\n",
    "    H_ctrl_qub_dag = hconj(H_ctrl_qub)\n",
    "    H_ctrl_cav = mu_cav * adag\n",
    "    H_ctrl_cav_dag = hconj(H_ctrl_cav)\n",
    "\n",
    "    H_ctrl = [H_ctrl_qub, H_ctrl_qub_dag, H_ctrl_cav, H_ctrl_cav_dag]\n",
    "\n",
    "    return H0, H_ctrl\n",
    "\n",
    "\n",
    "def test_time_dep(optimizer=\"adam\"):\n",
    "    H0_grape, H_ctrl_grape = build_grape_format_ham()\n",
    "\n",
    "    res = optimize_pulse(\n",
    "        H0_grape,\n",
    "        H_ctrl_grape,\n",
    "        psi0,\n",
    "        psi_target,\n",
    "        int(\n",
    "            (time_end - time_start) / delta_ts[0]\n",
    "        ),  # Ensure this is an integer\n",
    "        time_end - time_start,\n",
    "        max_iter=10000,\n",
    "        # when you decrease convergence threshold, it is more accurate\n",
    "        convergence_threshold=1e-3,\n",
    "        learning_rate=1e-2,\n",
    "        evo_type=\"density\",\n",
    "        optimizer=optimizer,\n",
    "    )\n",
    "    return res"
   ]
  },
  {
   "cell_type": "code",
   "execution_count": 9,
   "id": "829f5f87",
   "metadata": {},
   "outputs": [
    {
     "name": "stdout",
     "output_type": "stream",
     "text": [
      "final_fidelity:  0.9977648687597758\n"
     ]
    }
   ],
   "source": [
    "res = test_time_dep(\"l-bfgs\")\n",
    "print(\"final_fidelity: \", res.final_fidelity)"
   ]
  },
  {
   "cell_type": "code",
   "execution_count": 10,
   "id": "bd08e082",
   "metadata": {},
   "outputs": [
    {
     "name": "stdout",
     "output_type": "stream",
     "text": [
      "0.9977648989210808\n"
     ]
    }
   ],
   "source": [
    "### Define the time grid (same as defined)\n",
    "time_start = 0.0\n",
    "time_end = 1.0\n",
    "time_intervals_num = 5\n",
    "N_cav = 10\n",
    "# Eqivalant to delta_ts = jnp.repeat(0.2, time_intervals_num).astype(jnp.float32)\n",
    "# However, it is implemented in this way to be more general and\n",
    "# show that these are the differences between the time intervals\n",
    "t_grid = jnp.linspace(time_start, time_end, time_intervals_num + 1)\n",
    "delta_ts = t_grid[1:] - t_grid[:-1]\n",
    "\n",
    "\n",
    "### Build the Hamiltonian\n",
    "def build_ham_reconstructed(u1, u2, u3, u4):\n",
    "    \"\"\"\n",
    "    Build Hamiltonian for given (complex) e_qub and e_cav\n",
    "    \"\"\"\n",
    "\n",
    "    a = tensor(identity(2), destroy(N_cav))\n",
    "    adag = hconj(a)\n",
    "    n_phot = adag @ a\n",
    "    sigz = tensor(sigmaz(), identity(N_cav))\n",
    "    sigp = tensor(sigmap(), identity(N_cav))\n",
    "    one = tensor(identity(2), identity(N_cav))\n",
    "\n",
    "    H0 = +(chi / 2) * n_phot @ (sigz + one)\n",
    "    H_ctrl_qub = mu_qub * sigp\n",
    "    H_ctrl_qub_dag = hconj(H_ctrl_qub)\n",
    "    H_ctrl_cav = mu_cav * adag\n",
    "    H_ctrl_cav_dag = hconj(H_ctrl_cav)\n",
    "\n",
    "    # Apply control amplitudes\n",
    "    H_ctrl = (\n",
    "        u1 * H_ctrl_qub\n",
    "        + u2 * H_ctrl_qub_dag\n",
    "        + u3 * H_ctrl_cav\n",
    "        + u4 * H_ctrl_cav_dag\n",
    "    )\n",
    "\n",
    "    H = H0 + H_ctrl\n",
    "    return H\n",
    "\n",
    "\n",
    "u1 = res.control_amplitudes[:, 0]\n",
    "u2 = res.control_amplitudes[:, 1]\n",
    "u3 = res.control_amplitudes[:, 2]\n",
    "u4 = res.control_amplitudes[:, 3]\n",
    "u1\n",
    "### Construct the Hamiltonian for each time step\n",
    "H_total = jnp.array(\n",
    "    [\n",
    "        build_ham_reconstructed(u1[i], u2[i], u3[i], u4[i])\n",
    "        for i in range(len(u1))\n",
    "    ]\n",
    ")\n",
    "H_total\n",
    "H_total.shape\n",
    "### Solve the Schrödinger Equation\n",
    "\n",
    "psi0_fg = (\n",
    "    tensor(basis(2), basis(N_cav)) @ tensor(basis(2), basis(N_cav)).conj().T\n",
    ")\n",
    "psi_fg = sesolve(H_total, psi0_fg, delta_ts, evo_type=\"density\")\n",
    "### Calculate fidelity with target\n",
    "print(fidelity(C_target=psi_target, U_final=psi_fg, evo_type=\"density\"))"
   ]
  }
 ],
 "metadata": {
  "kernelspec": {
   "display_name": "Python 3",
   "language": "python",
   "name": "python3"
  },
  "language_info": {
   "codemirror_mode": {
    "name": "ipython",
    "version": 3
   },
   "file_extension": ".py",
   "mimetype": "text/x-python",
   "name": "python",
   "nbconvert_exporter": "python",
   "pygments_lexer": "ipython3",
   "version": "3.11.12"
  }
 },
 "nbformat": 4,
 "nbformat_minor": 5
}

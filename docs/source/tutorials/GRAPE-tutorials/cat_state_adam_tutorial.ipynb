{
 "cells": [
  {
   "cell_type": "markdown",
   "id": "6f9ee740",
   "metadata": {},
   "source": [
    "# GRAPE for preparing a cat state using Adam Tutorial"
   ]
  },
  {
   "cell_type": "markdown",
   "id": "684882b1",
   "metadata": {},
   "source": [
    "<img src=\"../../_static/notebook-images/cat_adam_tut.png\" alt=\"cat state\" width=\"800\"/>"
   ]
  },
  {
   "cell_type": "code",
   "execution_count": 1,
   "id": "5e95d66a",
   "metadata": {
    "tags": [
     "remove-cell"
    ]
   },
   "outputs": [],
   "source": [
    "# ruff: noqa\n",
    "import os\n",
    "\n",
    "os.sys.path.append(\"../../../..\")"
   ]
  },
  {
   "cell_type": "code",
   "execution_count": 2,
   "id": "07b4195b",
   "metadata": {},
   "outputs": [],
   "source": [
    "# ruff: noqa\n",
    "import feedback_grape.grape as fg\n",
    "import jax.numpy as jnp\n",
    "from feedback_grape.utils.operators import *\n",
    "from feedback_grape.utils.states import basis, coherent\n",
    "from feedback_grape.utils.tensor import tensor"
   ]
  },
  {
   "cell_type": "markdown",
   "id": "b2422d4e",
   "metadata": {},
   "source": [
    "## Step 1: initialize parameters"
   ]
  },
  {
   "cell_type": "code",
   "execution_count": 3,
   "id": "34a9edc5",
   "metadata": {},
   "outputs": [],
   "source": [
    "T = 1  # microsecond\n",
    "num_of_intervals = 100\n",
    "N = 30  # dimension of hilbert space\n",
    "alpha = 1.5\n",
    "phi = jnp.pi"
   ]
  },
  {
   "cell_type": "code",
   "execution_count": 4,
   "id": "7efa376f",
   "metadata": {},
   "outputs": [],
   "source": [
    "hconj = lambda a: jnp.swapaxes(a.conj(), -1, -2)"
   ]
  },
  {
   "cell_type": "code",
   "execution_count": 5,
   "id": "59ed8fc6",
   "metadata": {},
   "outputs": [],
   "source": [
    "chi = 0.2385 * (2 * jnp.pi)\n",
    "mu_qub = 4.0\n",
    "mu_cav = 8.0"
   ]
  },
  {
   "cell_type": "markdown",
   "id": "c7e90f30",
   "metadata": {},
   "source": [
    "## Step 2: define target and start states"
   ]
  },
  {
   "cell_type": "code",
   "execution_count": 6,
   "id": "21ab8687",
   "metadata": {},
   "outputs": [],
   "source": [
    "psi0 = tensor(basis(2), basis(N))\n",
    "cat_target_state = coherent(N, alpha) + jnp.exp(-1j * phi) * coherent(\n",
    "    N, -alpha\n",
    ")\n",
    "psi_target = tensor(basis(2), cat_target_state)"
   ]
  },
  {
   "cell_type": "markdown",
   "id": "a49f8246",
   "metadata": {},
   "source": [
    "## Step 3: Build the Hamiltonian"
   ]
  },
  {
   "cell_type": "code",
   "execution_count": 7,
   "id": "8e0942ee",
   "metadata": {},
   "outputs": [],
   "source": [
    "# Using Jaynes-Cummings model for qubit + cavity\n",
    "def build_grape_format_ham():\n",
    "    \"\"\"\n",
    "    Build Hamiltonian for given (complex) e_qub and e_cav\n",
    "    \"\"\"\n",
    "\n",
    "    a = tensor(identity(2), destroy(N))\n",
    "    adag = tensor(identity(2), create(N))\n",
    "    n_phot = adag @ a\n",
    "    sigz = tensor(sigmaz(), identity(N))\n",
    "    sigp = tensor(sigmap(), identity(N))\n",
    "    one = tensor(identity(2), identity(N))\n",
    "\n",
    "    H0 = +(chi / 2) * n_phot @ (sigz + one)\n",
    "    H_ctrl_qub = mu_qub * sigp\n",
    "    H_ctrl_qub_dag = hconj(H_ctrl_qub)\n",
    "    H_ctrl_cav = mu_cav * adag\n",
    "    H_ctrl_cav_dag = hconj(H_ctrl_cav)\n",
    "\n",
    "    H_ctrl = [H_ctrl_qub, H_ctrl_qub_dag, H_ctrl_cav, H_ctrl_cav_dag]\n",
    "\n",
    "    return H0, H_ctrl"
   ]
  },
  {
   "cell_type": "markdown",
   "id": "ecf5bd65",
   "metadata": {},
   "source": [
    "## Step 4: run GRAPE"
   ]
  },
  {
   "cell_type": "code",
   "execution_count": 8,
   "id": "e6672fef",
   "metadata": {},
   "outputs": [],
   "source": [
    "# playing with the learning rate a bit may lead to better results (try it out!)\n",
    "H0, H_ctrl = build_grape_format_ham()\n",
    "res = fg.optimize_pulse(\n",
    "    H0,\n",
    "    H_ctrl,\n",
    "    psi0,\n",
    "    psi_target,\n",
    "    num_t_slots=num_of_intervals,\n",
    "    total_evo_time=T,\n",
    "    evo_type=\"state\",\n",
    ")"
   ]
  },
  {
   "cell_type": "code",
   "execution_count": 9,
   "id": "4fcedc32",
   "metadata": {},
   "outputs": [
    {
     "data": {
      "text/plain": [
       "Array(0.6765205, dtype=float64)"
      ]
     },
     "execution_count": 9,
     "metadata": {},
     "output_type": "execute_result"
    }
   ],
   "source": [
    "res.final_fidelity"
   ]
  }
 ],
 "metadata": {
  "kernelspec": {
   "display_name": "Python 3",
   "language": "python",
   "name": "python3"
  },
  "language_info": {
   "codemirror_mode": {
    "name": "ipython",
    "version": 3
   },
   "file_extension": ".py",
   "mimetype": "text/x-python",
   "name": "python",
   "nbconvert_exporter": "python",
   "pygments_lexer": "ipython3",
   "version": "3.11.11"
  }
 },
 "nbformat": 4,
 "nbformat_minor": 5
}

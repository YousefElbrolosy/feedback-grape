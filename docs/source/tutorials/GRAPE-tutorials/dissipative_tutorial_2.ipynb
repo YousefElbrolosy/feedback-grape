{
 "cells": [
  {
   "cell_type": "markdown",
   "id": "81807a12",
   "metadata": {},
   "source": [
    "# GRAPE for systems with Dissipation example 2"
   ]
  },
  {
   "cell_type": "code",
   "execution_count": null,
   "id": "03e56e79",
   "metadata": {
    "tags": [
     "remove-cell"
    ]
   },
   "outputs": [],
   "source": [
    "# ruff: noqa\n",
    "import os\n",
    "\n",
    "os.sys.path.append(\"../../../..\")"
   ]
  },
  {
   "cell_type": "code",
   "execution_count": 2,
   "id": "4e8daf6c",
   "metadata": {},
   "outputs": [],
   "source": [
    "import jax.numpy as jnp\n",
    "from feedback_grape.grape import *\n",
    "from feedback_grape.utils.gates import *\n",
    "from feedback_grape.utils.operators import *\n",
    "from feedback_grape.utils.states import *\n",
    "from feedback_grape.utils.superoperator import *\n",
    "from feedback_grape.utils.tensor import *"
   ]
  },
  {
   "cell_type": "code",
   "execution_count": 3,
   "id": "6597d588",
   "metadata": {},
   "outputs": [],
   "source": [
    "Sx = sigmax()\n",
    "Sy = sigmay()\n",
    "Sz = sigmaz()\n",
    "Sm = sigmam()\n",
    "Sp = sigmap()\n",
    "Si = identity(2)\n",
    "had_gate = hadamard()\n",
    "# Hamiltonian\n",
    "Del = 0.1  # Tunnelling term\n",
    "wq = 1.0  # Energy of the 2-level system.\n",
    "H0 = 0.5 * wq * sigmaz() + 0.5 * Del * sigmax()\n",
    "\n",
    "# Amplitude damping#\n",
    "# Damping rate:\n",
    "gamma = 0.01\n",
    "l_ops = [jnp.sqrt(gamma) * Sm]\n",
    "# Kraus operators\n",
    "\n",
    "\n",
    "# Drift\n",
    "drift = H0\n",
    "# Controls - different combinations can be tried\n",
    "ctrls = [Sz, Sx]\n",
    "# Number of ctrls\n",
    "n_ctrls = len(ctrls)\n",
    "\n",
    "# start point for the map evolution\n",
    "U0 = Si\n",
    "\n",
    "# target for map evolution\n",
    "U_target = had_gate"
   ]
  },
  {
   "cell_type": "code",
   "execution_count": 4,
   "id": "40f3808f",
   "metadata": {},
   "outputs": [],
   "source": [
    "# Number of time slots\n",
    "n_ts = 10\n",
    "# Time allowed for the evolution\n",
    "evo_time = 2"
   ]
  },
  {
   "cell_type": "code",
   "execution_count": 5,
   "id": "865b763d",
   "metadata": {},
   "outputs": [],
   "source": [
    "from feedback_grape.utils.states import basis, coherent\n",
    "\n",
    "psi0 = basis(2)  # Initial state\n",
    "psi_target = coherent(2, 1.5)  # Target state"
   ]
  },
  {
   "cell_type": "code",
   "execution_count": 6,
   "id": "45baa078",
   "metadata": {},
   "outputs": [],
   "source": [
    "result = optimize_pulse(\n",
    "    H_drift=drift,\n",
    "    H_control=ctrls,\n",
    "    U_0=psi0 @ psi0.conj().T,  # Initial state as a density matrix\n",
    "    C_target=psi_target\n",
    "    @ psi_target.conj().T,  # Target state as a density matrix\n",
    "    c_ops=l_ops,\n",
    "    num_t_slots=n_ts,\n",
    "    total_evo_time=evo_time,\n",
    "    type=\"density\",\n",
    "    optimizer=\"adam\",\n",
    "    convergence_threshold=1e-16,\n",
    "    max_iter=1000,\n",
    "    learning_rate=0.1,\n",
    ")"
   ]
  },
  {
   "cell_type": "code",
   "execution_count": 7,
   "id": "085f3df8",
   "metadata": {},
   "outputs": [
    {
     "data": {
      "text/plain": [
       "Array(0.99515825, dtype=float64)"
      ]
     },
     "execution_count": 7,
     "metadata": {},
     "output_type": "execute_result"
    }
   ],
   "source": [
    "result.final_fidelity"
   ]
  },
  {
   "cell_type": "code",
   "execution_count": 17,
   "id": "995e22fc",
   "metadata": {},
   "outputs": [
    {
     "name": "stdout",
     "output_type": "stream",
     "text": [
      "(2, 2)\n"
     ]
    }
   ],
   "source": [
    "from feedback_grape.utils.solver import mesolve\n",
    "from feedback_grape.utils.states import coherent\n",
    "\n",
    "gamma = 0.3\n",
    "jump_ops = [jnp.sqrt(gamma) * Sm, jnp.sqrt(gamma * 2) * Sm.T]\n",
    "\n",
    "H0 = 0.5 * wq * sigmaz() + 0.5 * Del * sigmax()\n",
    "H_ctrl = [Sz, Sx]\n",
    "\n",
    "# tsave should be the time points at which the state is saved, not a list of delta t\n",
    "tsave = jnp.linspace(0, 1, 1)\n",
    "\n",
    "psi = coherent(2, alpha=1.0)\n",
    "rho0 = psi @ psi.conj().T\n",
    "\n",
    "print(rho0.shape)\n",
    "\n",
    "mesolve_result_2 = mesolve([H0] + H_ctrl, jump_ops, rho0, tsave)"
   ]
  },
  {
   "cell_type": "code",
   "execution_count": 18,
   "id": "d7700bbb",
   "metadata": {},
   "outputs": [
    {
     "name": "stdout",
     "output_type": "stream",
     "text": [
      "3\n"
     ]
    }
   ],
   "source": [
    "print(len([H0] + H_ctrl))"
   ]
  },
  {
   "cell_type": "code",
   "execution_count": 19,
   "id": "f6a6171c",
   "metadata": {},
   "outputs": [
    {
     "name": "stdout",
     "output_type": "stream",
     "text": [
      "[[0.36787944+0.j 0.36787944+0.j]\n",
      " [0.36787944+0.j 0.36787944+0.j]]\n"
     ]
    }
   ],
   "source": [
    "print(rho0)"
   ]
  },
  {
   "cell_type": "code",
   "execution_count": 20,
   "id": "76db8083",
   "metadata": {},
   "outputs": [
    {
     "name": "stdout",
     "output_type": "stream",
     "text": [
      "(2, 2)\n"
     ]
    }
   ],
   "source": [
    "print(mesolve_result_2.shape)"
   ]
  },
  {
   "cell_type": "code",
   "execution_count": 21,
   "id": "7156def5",
   "metadata": {},
   "outputs": [
    {
     "name": "stdout",
     "output_type": "stream",
     "text": [
      "[[0.36787944+0.j 0.36787944+0.j]\n",
      " [0.36787944+0.j 0.36787944+0.j]]\n"
     ]
    }
   ],
   "source": [
    "print(mesolve_result_2)"
   ]
  },
  {
   "cell_type": "code",
   "execution_count": 22,
   "id": "38509854",
   "metadata": {},
   "outputs": [
    {
     "name": "stdout",
     "output_type": "stream",
     "text": [
      "[0.]\n"
     ]
    }
   ],
   "source": [
    "print(tsave)"
   ]
  },
  {
   "cell_type": "code",
   "execution_count": 14,
   "id": "0ba27e8d",
   "metadata": {},
   "outputs": [
    {
     "name": "stdout",
     "output_type": "stream",
     "text": [
      "(Array([[ 0.5 +0.j,  0.05+0.j],\n",
      "       [ 0.05+0.j, -0.5 +0.j]], dtype=complex128), Array(0., dtype=float64))\n",
      "(Array([[ 1.+0.j,  0.+0.j],\n",
      "       [ 0.+0.j, -1.+0.j]], dtype=complex128), Array(0.22222222, dtype=float64))\n",
      "(Array([[0.+0.j, 1.+0.j],\n",
      "       [1.+0.j, 0.+0.j]], dtype=complex128), Array(0.44444444, dtype=float64))\n"
     ]
    }
   ],
   "source": [
    "for item in zip([H0] + H_ctrl, tsave):\n",
    "    print(item)"
   ]
  },
  {
   "cell_type": "code",
   "execution_count": 15,
   "id": "33f49d9f",
   "metadata": {},
   "outputs": [],
   "source": [
    "c_ops = (\n",
    "    [  # c_ops for each decay index\n",
    "        [\n",
    "            tensor(identity(30), jnp.sqrt(0.01) * sigmam()),\n",
    "        ],\n",
    "        [\"hi\"],\n",
    "    ],\n",
    ")"
   ]
  },
  {
   "cell_type": "code",
   "execution_count": 16,
   "id": "087b8fc0",
   "metadata": {},
   "outputs": [
    {
     "name": "stdout",
     "output_type": "stream",
     "text": [
      "[Array([[0. +0.j, 0. +0.j, 0. +0.j, ..., 0. +0.j, 0. +0.j, 0. +0.j],\n",
      "       [0.1+0.j, 0. +0.j, 0. +0.j, ..., 0. +0.j, 0. +0.j, 0. +0.j],\n",
      "       [0. +0.j, 0. +0.j, 0. +0.j, ..., 0. +0.j, 0. +0.j, 0. +0.j],\n",
      "       ...,\n",
      "       [0. +0.j, 0. +0.j, 0. +0.j, ..., 0. +0.j, 0. +0.j, 0. +0.j],\n",
      "       [0. +0.j, 0. +0.j, 0. +0.j, ..., 0. +0.j, 0. +0.j, 0. +0.j],\n",
      "       [0. +0.j, 0. +0.j, 0. +0.j, ..., 0. +0.j, 0.1+0.j, 0. +0.j]],      dtype=complex128)]\n"
     ]
    }
   ],
   "source": [
    "print(c_ops[0][0])"
   ]
  }
 ],
 "metadata": {
  "kernelspec": {
   "display_name": "Python 3",
   "language": "python",
   "name": "python3"
  },
  "language_info": {
   "codemirror_mode": {
    "name": "ipython",
    "version": 3
   },
   "file_extension": ".py",
   "mimetype": "text/x-python",
   "name": "python",
   "nbconvert_exporter": "python",
   "pygments_lexer": "ipython3",
   "version": "3.11.11"
  }
 },
 "nbformat": 4,
 "nbformat_minor": 5
}

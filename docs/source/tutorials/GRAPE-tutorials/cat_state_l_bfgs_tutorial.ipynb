{
 "cells": [
  {
   "cell_type": "markdown",
   "id": "a0723368",
   "metadata": {},
   "source": [
    "# GRAPE for preparing a cat state using L-BFGS Tutorial"
   ]
  },
  {
   "cell_type": "markdown",
   "id": "684882b1",
   "metadata": {},
   "source": [
    "<img src=\"../../_static/notebook-images/cat_adam_tut.png\" alt=\"cat state\" width=\"800\"/>"
   ]
  },
  {
   "cell_type": "code",
   "execution_count": 1,
   "id": "2c3dd575",
   "metadata": {
    "tags": [
     "remove-cell"
    ]
   },
   "outputs": [],
   "source": [
    "# ruff: noqa\n",
    "import os\n",
    "\n",
    "os.sys.path.append(\"../../../..\")"
   ]
  },
  {
   "cell_type": "code",
   "execution_count": 2,
   "id": "07b4195b",
   "metadata": {},
   "outputs": [],
   "source": [
    "# ruff: noqa\n",
    "import feedback_grape.grape as fg\n",
    "from feedback_grape.utils.solver import sesolve\n",
    "import jax.numpy as jnp\n",
    "from feedback_grape.utils.operators import *\n",
    "from feedback_grape.utils.states import basis, coherent\n",
    "from feedback_grape.utils.tensor import tensor"
   ]
  },
  {
   "cell_type": "markdown",
   "id": "b2422d4e",
   "metadata": {},
   "source": [
    "## Step 1: initialize parameters"
   ]
  },
  {
   "cell_type": "code",
   "execution_count": 3,
   "id": "34a9edc5",
   "metadata": {},
   "outputs": [],
   "source": [
    "T = 1  # microsecond\n",
    "num_of_intervals = 100\n",
    "N = 30  # dimension of hilbert space\n",
    "alpha = 1.5\n",
    "# Phase for the interference\n",
    "phi = jnp.pi"
   ]
  },
  {
   "cell_type": "code",
   "execution_count": 4,
   "id": "7efa376f",
   "metadata": {},
   "outputs": [],
   "source": [
    "hconj = lambda a: jnp.swapaxes(a.conj(), -1, -2)"
   ]
  },
  {
   "cell_type": "code",
   "execution_count": 5,
   "id": "59ed8fc6",
   "metadata": {},
   "outputs": [],
   "source": [
    "chi = 0.2385 * (2 * jnp.pi)\n",
    "mu_qub = 4.0\n",
    "mu_cav = 8.0"
   ]
  },
  {
   "cell_type": "markdown",
   "id": "e01faf95",
   "metadata": {},
   "source": [
    "## Step 2: define initial and target states"
   ]
  },
  {
   "cell_type": "code",
   "execution_count": 6,
   "id": "21ab8687",
   "metadata": {},
   "outputs": [],
   "source": [
    "psi0 = tensor(basis(2), basis(N))\n",
    "cat_target_state = coherent(N, alpha) + jnp.exp(-1j * phi) * coherent(\n",
    "    N, -alpha\n",
    ")\n",
    "psi_target = tensor(basis(2), cat_target_state)"
   ]
  },
  {
   "cell_type": "markdown",
   "id": "a57c283d",
   "metadata": {},
   "source": [
    "## Step 3: Build the hamiltonian"
   ]
  },
  {
   "cell_type": "code",
   "execution_count": 7,
   "id": "8e0942ee",
   "metadata": {},
   "outputs": [],
   "source": [
    "# Using Jaynes-Cummings model for qubit + cavity\n",
    "def build_grape_format_ham():\n",
    "    \"\"\"\n",
    "    Build Hamiltonian for given (complex) e_qub and e_cav\n",
    "    \"\"\"\n",
    "\n",
    "    a = tensor(identity(2), destroy(N))\n",
    "    adag = tensor(identity(2), create(N))\n",
    "    n_phot = adag @ a\n",
    "    sigz = tensor(sigmaz(), identity(N))\n",
    "    sigp = tensor(sigmap(), identity(N))\n",
    "    one = tensor(identity(2), identity(N))\n",
    "\n",
    "    H0 = +(chi / 2) * n_phot @ (sigz + one)\n",
    "    H_ctrl_qub = mu_qub * sigp\n",
    "    H_ctrl_qub_dag = hconj(H_ctrl_qub)\n",
    "    H_ctrl_cav = mu_cav * adag\n",
    "    H_ctrl_cav_dag = hconj(H_ctrl_cav)\n",
    "\n",
    "    H_ctrl = [H_ctrl_qub, H_ctrl_qub_dag, H_ctrl_cav, H_ctrl_cav_dag]\n",
    "\n",
    "    return H0, H_ctrl"
   ]
  },
  {
   "cell_type": "markdown",
   "id": "16af01c3",
   "metadata": {},
   "source": [
    "## Step 4: Run GRAPE"
   ]
  },
  {
   "cell_type": "code",
   "execution_count": 8,
   "id": "d9e19611",
   "metadata": {},
   "outputs": [
    {
     "name": "stdout",
     "output_type": "stream",
     "text": [
      "Iteration 0, Loss: -0.002472\n",
      "Iteration 10, Loss: -0.465461\n",
      "Iteration 20, Loss: -0.492495\n",
      "Iteration 30, Loss: -0.494823\n",
      "Iteration 40, Loss: -0.494931\n",
      "Iteration 50, Loss: -0.494940\n",
      "Iteration 60, Loss: -0.494946\n",
      "Iteration 70, Loss: -0.494956\n",
      "Iteration 80, Loss: -0.494958\n",
      "Iteration 90, Loss: -0.494959\n",
      "Iteration 100, Loss: -0.496321\n",
      "Iteration 110, Loss: -0.500120\n",
      "Iteration 120, Loss: -0.505632\n",
      "Iteration 130, Loss: -0.532456\n",
      "Iteration 140, Loss: -0.563978\n",
      "Iteration 150, Loss: -0.673139\n",
      "Iteration 160, Loss: -0.684518\n",
      "Iteration 170, Loss: -0.686454\n",
      "Iteration 180, Loss: -0.690384\n",
      "Iteration 190, Loss: -0.708800\n",
      "Iteration 200, Loss: -0.712677\n",
      "Iteration 210, Loss: -0.715881\n",
      "Iteration 220, Loss: -0.740456\n",
      "Iteration 230, Loss: -0.772951\n",
      "Iteration 240, Loss: -0.807485\n",
      "Iteration 250, Loss: -0.844914\n",
      "Iteration 260, Loss: -0.873113\n",
      "Iteration 270, Loss: -0.880960\n",
      "Iteration 280, Loss: -0.890916\n",
      "Iteration 290, Loss: -0.903942\n",
      "Iteration 300, Loss: -0.908800\n",
      "Iteration 310, Loss: -0.909721\n",
      "Iteration 320, Loss: -0.910072\n",
      "Iteration 330, Loss: -0.910662\n",
      "Iteration 340, Loss: -0.911463\n",
      "Iteration 350, Loss: -0.912437\n",
      "Iteration 360, Loss: -0.912959\n",
      "Iteration 370, Loss: -0.913260\n",
      "Iteration 380, Loss: -0.913942\n",
      "Iteration 390, Loss: -0.914379\n",
      "Iteration 400, Loss: -0.914661\n",
      "Iteration 410, Loss: -0.914932\n",
      "Iteration 420, Loss: -0.915671\n",
      "Iteration 430, Loss: -0.916277\n",
      "Iteration 440, Loss: -0.916719\n",
      "Iteration 450, Loss: -0.917039\n",
      "Iteration 460, Loss: -0.917108\n",
      "Iteration 470, Loss: -0.917254\n",
      "Iteration 480, Loss: -0.917455\n",
      "Iteration 490, Loss: -0.917714\n",
      "Iteration 500, Loss: -0.917980\n",
      "Iteration 510, Loss: -0.918157\n",
      "Iteration 520, Loss: -0.918432\n",
      "Iteration 530, Loss: -0.918980\n",
      "Iteration 540, Loss: -0.919162\n",
      "Iteration 550, Loss: -0.919387\n",
      "Iteration 560, Loss: -0.919714\n",
      "Iteration 570, Loss: -0.919927\n",
      "Iteration 580, Loss: -0.919983\n",
      "Iteration 590, Loss: -0.920066\n",
      "Iteration 600, Loss: -0.920190\n",
      "Iteration 610, Loss: -0.920385\n",
      "Iteration 620, Loss: -0.920521\n",
      "Iteration 630, Loss: -0.920580\n",
      "Iteration 640, Loss: -0.920802\n",
      "Iteration 650, Loss: -0.920966\n",
      "Iteration 660, Loss: -0.921140\n",
      "Iteration 670, Loss: -0.921408\n",
      "Iteration 680, Loss: -0.921498\n",
      "Iteration 690, Loss: -0.921582\n",
      "Iteration 700, Loss: -0.921901\n",
      "Iteration 710, Loss: -0.922129\n",
      "Iteration 720, Loss: -0.922427\n",
      "Iteration 730, Loss: -0.923079\n",
      "Iteration 740, Loss: -0.923799\n",
      "Iteration 750, Loss: -0.924282\n",
      "Iteration 760, Loss: -0.925988\n",
      "Iteration 770, Loss: -0.926275\n",
      "Iteration 780, Loss: -0.926407\n",
      "Iteration 790, Loss: -0.926541\n",
      "Iteration 800, Loss: -0.926606\n",
      "Iteration 810, Loss: -0.926742\n",
      "Iteration 820, Loss: -0.927096\n",
      "Iteration 830, Loss: -0.927188\n",
      "Iteration 840, Loss: -0.927215\n",
      "Iteration 850, Loss: -0.927303\n",
      "Iteration 860, Loss: -0.927396\n",
      "Iteration 870, Loss: -0.927508\n",
      "Iteration 880, Loss: -0.927891\n",
      "Iteration 890, Loss: -0.928159\n",
      "Iteration 900, Loss: -0.928286\n",
      "Iteration 910, Loss: -0.928360\n",
      "Iteration 920, Loss: -0.928385\n",
      "Iteration 930, Loss: -0.928436\n",
      "Iteration 940, Loss: -0.928559\n",
      "Iteration 950, Loss: -0.928587\n",
      "Iteration 960, Loss: -0.928632\n",
      "Iteration 970, Loss: -0.928694\n",
      "Iteration 980, Loss: -0.928728\n",
      "Iteration 990, Loss: -0.928806\n",
      "Final fidelity:  0.9289467667044448\n"
     ]
    }
   ],
   "source": [
    "# Outputs Fidelity of 0.9799029117042408 but in like 30 minutes\n",
    "H0, H_ctrl = build_grape_format_ham()\n",
    "res = fg.optimize_pulse(\n",
    "    H0,\n",
    "    H_ctrl,\n",
    "    psi0,\n",
    "    psi_target,\n",
    "    num_t_slots=num_of_intervals,\n",
    "    total_evo_time=T,\n",
    "    evo_type=\"state\",\n",
    "    optimizer=\"l-bfgs\",\n",
    "    learning_rate=0.05,\n",
    "    progress=True,\n",
    ")\n",
    "print(\"Final fidelity: \", res.final_fidelity)"
   ]
  },
  {
   "cell_type": "markdown",
   "id": "6245ebe8",
   "metadata": {},
   "source": [
    "## Reconstructing hamiltonian from output signals"
   ]
  },
  {
   "cell_type": "code",
   "execution_count": 9,
   "id": "21d9fe7b",
   "metadata": {},
   "outputs": [],
   "source": [
    "def build_ham_reconstructed(u1, u2, u3, u4):\n",
    "    \"\"\"\n",
    "    Build Hamiltonian for given (complex) e_qub and e_cav\n",
    "    \"\"\"\n",
    "\n",
    "    a = tensor(identity(2), destroy(N))\n",
    "    adag = tensor(identity(2), create(N))\n",
    "    n_phot = adag @ a\n",
    "    sigz = tensor(sigmaz(), identity(N))\n",
    "    sigp = tensor(sigmap(), identity(N))\n",
    "    one = tensor(identity(2), identity(N))\n",
    "\n",
    "    H0 = +(chi / 2) * n_phot @ (sigz + one)\n",
    "    H_ctrl_qub = mu_qub * sigp\n",
    "    H_ctrl_qub_dag = hconj(H_ctrl_qub)\n",
    "    H_ctrl_cav = mu_cav * adag\n",
    "    H_ctrl_cav_dag = hconj(H_ctrl_cav)\n",
    "\n",
    "    # Apply control amplitudes\n",
    "    H_ctrl = (\n",
    "        u1 * H_ctrl_qub\n",
    "        + u2 * H_ctrl_qub_dag\n",
    "        + u3 * H_ctrl_cav\n",
    "        + u4 * H_ctrl_cav_dag\n",
    "    )\n",
    "\n",
    "    H = H0 + H_ctrl\n",
    "    return H"
   ]
  },
  {
   "cell_type": "code",
   "execution_count": 10,
   "id": "35212b56",
   "metadata": {},
   "outputs": [],
   "source": [
    "u1 = res.control_amplitudes[:, 0]\n",
    "u2 = res.control_amplitudes[:, 1]\n",
    "u3 = res.control_amplitudes[:, 2]\n",
    "u4 = res.control_amplitudes[:, 3]"
   ]
  },
  {
   "cell_type": "code",
   "execution_count": 11,
   "id": "4feaa140",
   "metadata": {},
   "outputs": [],
   "source": [
    "H_total = jnp.array(\n",
    "    [\n",
    "        build_ham_reconstructed(u1[i], u2[i], u3[i], u4[i])\n",
    "        for i in range(len(u1))\n",
    "    ]\n",
    ")"
   ]
  },
  {
   "cell_type": "code",
   "execution_count": 12,
   "id": "1de2d722",
   "metadata": {},
   "outputs": [],
   "source": [
    "time_start = 0.0\n",
    "time_end = 1.0\n",
    "# Eqivalant to delta_ts = jnp.repeat(0.2, time_intervals_num).astype(jnp.float32)\n",
    "# However, it is implemented in this way to be more general and\n",
    "# show that these are the differences between the time intervals\n",
    "t_grid = jnp.linspace(time_start, time_end, num_of_intervals + 1)\n",
    "delta_ts = t_grid[1:] - t_grid[:-1]"
   ]
  },
  {
   "cell_type": "code",
   "execution_count": 14,
   "id": "af267ed9",
   "metadata": {},
   "outputs": [
    {
     "name": "stdout",
     "output_type": "stream",
     "text": [
      "0.928946810775257\n"
     ]
    }
   ],
   "source": [
    "psi_fg = sesolve(H_total, psi0, delta_ts, evo_type=\"state\")\n",
    "print(fg.fidelity(C_target=psi_target, U_final=psi_fg, evo_type=\"state\"))"
   ]
  }
 ],
 "metadata": {
  "kernelspec": {
   "display_name": "Python 3",
   "language": "python",
   "name": "python3"
  },
  "language_info": {
   "codemirror_mode": {
    "name": "ipython",
    "version": 3
   },
   "file_extension": ".py",
   "mimetype": "text/x-python",
   "name": "python",
   "nbconvert_exporter": "python",
   "pygments_lexer": "ipython3",
   "version": "3.11.12"
  }
 },
 "nbformat": 4,
 "nbformat_minor": 5
}

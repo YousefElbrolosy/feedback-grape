{
 "cells": [
  {
   "cell_type": "markdown",
   "metadata": {},
   "source": [
    "# GRAPE for time-dependent hamiltonians"
   ]
  },
  {
   "cell_type": "markdown",
   "metadata": {},
   "source": [
    "## Simulation"
   ]
  },
  {
   "cell_type": "code",
   "execution_count": 1,
   "metadata": {
    "tags": [
     "remove-cell"
    ]
   },
   "outputs": [],
   "source": [
    "# ruff: noqa\n",
    "import os\n",
    "\n",
    "os.sys.path.append(\"../../../..\")"
   ]
  },
  {
   "cell_type": "code",
   "execution_count": 2,
   "metadata": {},
   "outputs": [],
   "source": [
    "## MAIN.py with time_dep example\n",
    "\n",
    "import jax\n",
    "import jax.numpy as jnp\n",
    "from feedback_grape.grape import (\n",
    "    optimize_pulse,\n",
    "    plot_control_amplitudes,\n",
    "    fidelity,\n",
    ")\n",
    "from feedback_grape.utils.solver import sesolve\n",
    "from feedback_grape.utils.operators import identity, destroy, sigmap, sigmaz\n",
    "from feedback_grape.utils.tensor import tensor\n",
    "from feedback_grape.utils.states import basis\n",
    "# ruff: noqa\n",
    "\n",
    "N_cav = 10\n",
    "chi = 0.2385 * (2 * jnp.pi)\n",
    "mu_qub = 4.0\n",
    "mu_cav = 8.0\n",
    "hconj = lambda a: jnp.swapaxes(a.conj(), -1, -2)\n",
    "time_start = 0.0\n",
    "time_end = 1.0\n",
    "time_intervals_num = 5\n",
    "N_cav = 10\n",
    "# Eqivalant to delta_ts = jnp.repeat(0.2, time_intervals_num).astype(jnp.float32)\n",
    "# However, it is implemented in this way to be more general and\n",
    "# show that these are the differences between the time intervals\n",
    "t_grid = jnp.linspace(time_start, time_end, time_intervals_num + 1)\n",
    "delta_ts = t_grid[1:] - t_grid[:-1]\n",
    "fake_random_key = jax.random.key(seed=0)\n",
    "e_data = jax.random.uniform(\n",
    "    fake_random_key, shape=(4, len(delta_ts)), minval=-1, maxval=1\n",
    ")\n",
    "e_qub = e_data[0] + 1j * e_data[1]\n",
    "e_cav = e_data[2] + 1j * e_data[3]\n",
    "\n",
    "\n",
    "@jax.vmap\n",
    "def build_ham(e_qub, e_cav):\n",
    "    \"\"\"\n",
    "    Build Hamiltonian for given (complex) e_qub and e_cav\n",
    "    \"\"\"\n",
    "\n",
    "    a = tensor(identity(2), destroy(N_cav))\n",
    "    adag = hconj(a)\n",
    "    n_phot = adag @ a\n",
    "    sigz = tensor(sigmaz(), identity(N_cav))\n",
    "    sigp = tensor(sigmap(), identity(N_cav))\n",
    "    one = tensor(identity(2), identity(N_cav))\n",
    "\n",
    "    H0 = +(chi / 2) * n_phot @ (sigz + one)\n",
    "\n",
    "    H_ctrl = mu_qub * sigp * e_qub + mu_cav * adag * e_cav\n",
    "    H_ctrl += hconj(H_ctrl)\n",
    "    # You just pass an array of the Hamiltonian matrices \"Hs\" corresponding to the time\n",
    "    # intervals \"delta_ts\" (that is, \"Hs\" is a 3D array).\n",
    "    return H0, H_ctrl\n",
    "\n",
    "\n",
    "H0, H_ctrl = build_ham(e_qub, e_cav)\n",
    "\n",
    "\n",
    "# Representation for time dependent Hamiltonian\n",
    "def solve(Hs, delta_ts):\n",
    "    \"\"\"\n",
    "    Find evolution operator for piecewise Hs on time intervals delts_ts\n",
    "    \"\"\"\n",
    "    for i, (H, delta_t) in enumerate(zip(Hs, delta_ts)):\n",
    "        U_intv = jax.scipy.linalg.expm(-1j * H * delta_t)\n",
    "        U = U_intv if i == 0 else U_intv @ U\n",
    "    return U\n",
    "\n",
    "\n",
    "U = solve(H0 + H_ctrl, delta_ts)\n",
    "psi0 = tensor(basis(2), basis(N_cav))\n",
    "global psi_target_qt\n",
    "psi_target_qt = psi_target = U @ psi0\n",
    "\n",
    "\n",
    "def build_grape_format_ham():\n",
    "    \"\"\"\n",
    "    Build Hamiltonian for given (complex) e_qub and e_cav\n",
    "    \"\"\"\n",
    "\n",
    "    a = tensor(identity(2), destroy(N_cav))\n",
    "    adag = hconj(a)\n",
    "    n_phot = adag @ a\n",
    "    sigz = tensor(sigmaz(), identity(N_cav))\n",
    "    sigp = tensor(sigmap(), identity(N_cav))\n",
    "    one = tensor(identity(2), identity(N_cav))\n",
    "\n",
    "    H0 = +(chi / 2) * n_phot @ (sigz + one)\n",
    "    H_ctrl_qub = mu_qub * sigp\n",
    "    H_ctrl_qub_dag = hconj(H_ctrl_qub)\n",
    "    H_ctrl_cav = mu_cav * adag\n",
    "    H_ctrl_cav_dag = hconj(H_ctrl_cav)\n",
    "\n",
    "    H_ctrl = [H_ctrl_qub, H_ctrl_qub_dag, H_ctrl_cav, H_ctrl_cav_dag]\n",
    "\n",
    "    return H0, H_ctrl\n",
    "\n",
    "\n",
    "def test_time_dep(optimizer=\"adam\"):\n",
    "    H0_grape, H_ctrl_grape = build_grape_format_ham()\n",
    "\n",
    "    res = optimize_pulse(\n",
    "        H0_grape,\n",
    "        H_ctrl_grape,\n",
    "        psi0,\n",
    "        psi_target,\n",
    "        int(\n",
    "            (time_end - time_start) / delta_ts[0]\n",
    "        ),  # Ensure this is an integer\n",
    "        time_end - time_start,\n",
    "        max_iter=10000,\n",
    "        # when you decrease convergence threshold, it is more accurate\n",
    "        convergence_threshold=1e-3,\n",
    "        learning_rate=1e-2,\n",
    "        evo_type=\"state\",\n",
    "        optimizer=optimizer,\n",
    "    )\n",
    "    return res"
   ]
  },
  {
   "cell_type": "code",
   "execution_count": 3,
   "metadata": {},
   "outputs": [
    {
     "name": "stdout",
     "output_type": "stream",
     "text": [
      "0.9976786025906579\n",
      "147\n"
     ]
    }
   ],
   "source": [
    "res_fg = test_time_dep(\"l-bfgs\")\n",
    "print(res_fg.final_fidelity)\n",
    "print(res_fg.iterations)"
   ]
  },
  {
   "cell_type": "code",
   "execution_count": 4,
   "metadata": {},
   "outputs": [],
   "source": [
    "time_start = 0.0\n",
    "time_end = 1.0\n",
    "time_intervals_num = 5"
   ]
  },
  {
   "cell_type": "code",
   "execution_count": 5,
   "metadata": {},
   "outputs": [],
   "source": [
    "t_grid = jnp.linspace(time_start, time_end, time_intervals_num)"
   ]
  },
  {
   "cell_type": "code",
   "execution_count": 6,
   "metadata": {},
   "outputs": [],
   "source": [
    "H_labels = [r'$u_1$', r'$u_2$', r'$u_3$', r'$u_4$', r'$u_5$']"
   ]
  },
  {
   "cell_type": "code",
   "execution_count": 7,
   "metadata": {},
   "outputs": [
    {
     "data": {
      "text/plain": [
       "(5,)"
      ]
     },
     "execution_count": 7,
     "metadata": {},
     "output_type": "execute_result"
    }
   ],
   "source": [
    "t_grid.shape"
   ]
  },
  {
   "cell_type": "code",
   "execution_count": 8,
   "metadata": {},
   "outputs": [
    {
     "data": {
      "text/plain": [
       "(5, 4)"
      ]
     },
     "execution_count": 8,
     "metadata": {},
     "output_type": "execute_result"
    }
   ],
   "source": [
    "res_fg.control_amplitudes.shape"
   ]
  },
  {
   "cell_type": "code",
   "execution_count": 9,
   "metadata": {},
   "outputs": [
    {
     "data": {
      "image/png": "[encoded data removed]",
      "text/plain": [
       "<Figure size 800x300 with 1 Axes>"
      ]
     },
     "metadata": {},
     "output_type": "display_data"
    },
    {
     "data": {
      "image/png": "[encoded data removed]",
      "text/plain": [
       "<Figure size 800x300 with 1 Axes>"
      ]
     },
     "metadata": {},
     "output_type": "display_data"
    },
    {
     "data": {
      "image/png": "[encoded data removed]",
      "text/plain": [
       "<Figure size 800x300 with 1 Axes>"
      ]
     },
     "metadata": {},
     "output_type": "display_data"
    },
    {
     "data": {
      "image/png": "[encoded data removed]",
      "text/plain": [
       "<Figure size 800x300 with 1 Axes>"
      ]
     },
     "metadata": {},
     "output_type": "display_data"
    }
   ],
   "source": [
    "plot_control_amplitudes(t_grid, res_fg.control_amplitudes, labels=H_labels)"
   ]
  },
  {
   "cell_type": "code",
   "execution_count": 10,
   "metadata": {},
   "outputs": [
    {
     "data": {
      "text/plain": [
       "Array([[-0.07032833,  0.01972086,  0.62495471, -0.00556342],\n",
       "       [ 0.40698173,  1.13940457, -0.35133611,  0.29773951],\n",
       "       [-0.08669446, -0.57097603, -0.41862371,  0.30195432],\n",
       "       [ 0.05217747, -0.56101616, -1.05672015, -0.27651302],\n",
       "       [-2.30432846,  0.77224721,  2.13210575,  0.74677139]],      dtype=float64)"
      ]
     },
     "execution_count": 10,
     "metadata": {},
     "output_type": "execute_result"
    }
   ],
   "source": [
    "res_fg.control_amplitudes"
   ]
  },
  {
   "cell_type": "markdown",
   "metadata": {},
   "source": [
    "## Example of user trying to construct his time dependent Hamiltonian from extracted amplitudes and then get the final operator"
   ]
  },
  {
   "cell_type": "markdown",
   "metadata": {},
   "source": [
    "<img src=\"../../_static/notebook-images/time_det_tut.png\" width=\"800\"/>"
   ]
  },
  {
   "cell_type": "markdown",
   "metadata": {},
   "source": [
    "### Define the time grid (same as defined)"
   ]
  },
  {
   "cell_type": "code",
   "execution_count": 11,
   "metadata": {},
   "outputs": [],
   "source": [
    "time_start = 0.0\n",
    "time_end = 1.0\n",
    "time_intervals_num = 5\n",
    "N_cav = 10\n",
    "# Eqivalant to delta_ts = jnp.repeat(0.2, time_intervals_num).astype(jnp.float32)\n",
    "# However, it is implemented in this way to be more general and\n",
    "# show that these are the differences between the time intervals\n",
    "t_grid = jnp.linspace(time_start, time_end, time_intervals_num + 1)\n",
    "delta_ts = t_grid[1:] - t_grid[:-1]"
   ]
  },
  {
   "cell_type": "markdown",
   "metadata": {},
   "source": [
    "### Build the Hamiltonian"
   ]
  },
  {
   "cell_type": "code",
   "execution_count": 12,
   "metadata": {},
   "outputs": [],
   "source": [
    "def build_ham_reconstructed(u1, u2, u3, u4):\n",
    "    \"\"\"\n",
    "    Build Hamiltonian for given (complex) e_qub and e_cav\n",
    "    \"\"\"\n",
    "\n",
    "    a = tensor(identity(2), destroy(N_cav))\n",
    "    adag = hconj(a)\n",
    "    n_phot = adag @ a\n",
    "    sigz = tensor(sigmaz(), identity(N_cav))\n",
    "    sigp = tensor(sigmap(), identity(N_cav))\n",
    "    one = tensor(identity(2), identity(N_cav))\n",
    "\n",
    "    H0 = +(chi / 2) * n_phot @ (sigz + one)\n",
    "    H_ctrl_qub = mu_qub * sigp\n",
    "    H_ctrl_qub_dag = hconj(H_ctrl_qub)\n",
    "    H_ctrl_cav = mu_cav * adag\n",
    "    H_ctrl_cav_dag = hconj(H_ctrl_cav)\n",
    "\n",
    "    # Apply control amplitudes\n",
    "    H_ctrl = (\n",
    "        u1 * H_ctrl_qub\n",
    "        + u2 * H_ctrl_qub_dag\n",
    "        + u3 * H_ctrl_cav\n",
    "        + u4 * H_ctrl_cav_dag\n",
    "    )\n",
    "\n",
    "    H = H0 + H_ctrl\n",
    "    return H"
   ]
  },
  {
   "cell_type": "code",
   "execution_count": 13,
   "metadata": {},
   "outputs": [],
   "source": [
    "u1 = res_fg.control_amplitudes[:, 0]\n",
    "u2 = res_fg.control_amplitudes[:, 1]\n",
    "u3 = res_fg.control_amplitudes[:, 2]\n",
    "u4 = res_fg.control_amplitudes[:, 3]"
   ]
  },
  {
   "cell_type": "code",
   "execution_count": 14,
   "metadata": {},
   "outputs": [
    {
     "data": {
      "text/plain": [
       "Array([-0.07032833,  0.40698173, -0.08669446,  0.05217747, -2.30432846],      dtype=float64)"
      ]
     },
     "execution_count": 14,
     "metadata": {},
     "output_type": "execute_result"
    }
   ],
   "source": [
    "u1"
   ]
  },
  {
   "cell_type": "markdown",
   "metadata": {},
   "source": [
    "### Construct the Hamiltonian for each time step"
   ]
  },
  {
   "cell_type": "code",
   "execution_count": 15,
   "metadata": {},
   "outputs": [],
   "source": [
    "H_total = jnp.array(\n",
    "    [\n",
    "        build_ham_reconstructed(u1[i], u2[i], u3[i], u4[i])\n",
    "        for i in range(len(u1))\n",
    "    ]\n",
    ")"
   ]
  },
  {
   "cell_type": "code",
   "execution_count": 16,
   "metadata": {},
   "outputs": [
    {
     "data": {
      "text/plain": [
       "Array([[[ 0.00000000e+00+0.j, -4.45073973e-02+0.j,  0.00000000e+00+0.j,\n",
       "         ...,  0.00000000e+00+0.j,  0.00000000e+00+0.j,\n",
       "          0.00000000e+00+0.j],\n",
       "        [ 4.99963768e+00+0.j,  1.49853970e+00+0.j, -6.29429649e-02+0.j,\n",
       "         ...,  0.00000000e+00+0.j,  0.00000000e+00+0.j,\n",
       "          0.00000000e+00+0.j],\n",
       "        [ 0.00000000e+00+0.j,  7.07055541e+00+0.j,  2.99707939e+00+0.j,\n",
       "         ...,  0.00000000e+00+0.j,  0.00000000e+00+0.j,\n",
       "          0.00000000e+00+0.j],\n",
       "        ...,\n",
       "        [ 0.00000000e+00+0.j,  0.00000000e+00+0.j,  0.00000000e+00+0.j,\n",
       "         ...,  0.00000000e+00+0.j, -1.25885930e-01+0.j,\n",
       "          0.00000000e+00+0.j],\n",
       "        [ 0.00000000e+00+0.j,  0.00000000e+00+0.j,  0.00000000e+00+0.j,\n",
       "         ...,  1.41411108e+01+0.j,  0.00000000e+00+0.j,\n",
       "         -1.33522192e-01+0.j],\n",
       "        [ 0.00000000e+00+0.j,  0.00000000e+00+0.j,  0.00000000e+00+0.j,\n",
       "         ...,  0.00000000e+00+0.j,  1.49989130e+01+0.j,\n",
       "          0.00000000e+00+0.j]],\n",
       "\n",
       "       [[ 0.00000000e+00+0.j,  2.38191608e+00+0.j,  0.00000000e+00+0.j,\n",
       "         ...,  0.00000000e+00+0.j,  0.00000000e+00+0.j,\n",
       "          0.00000000e+00+0.j],\n",
       "        [-2.81068889e+00+0.j,  1.49853970e+00+0.j,  3.36853803e+00+0.j,\n",
       "         ...,  0.00000000e+00+0.j,  0.00000000e+00+0.j,\n",
       "          0.00000000e+00+0.j],\n",
       "        [ 0.00000000e+00+0.j, -3.97491434e+00+0.j,  2.99707939e+00+0.j,\n",
       "         ...,  0.00000000e+00+0.j,  0.00000000e+00+0.j,\n",
       "          0.00000000e+00+0.j],\n",
       "        ...,\n",
       "        [ 0.00000000e+00+0.j,  0.00000000e+00+0.j,  0.00000000e+00+0.j,\n",
       "         ...,  0.00000000e+00+0.j,  6.73707605e+00+0.j,\n",
       "          0.00000000e+00+0.j],\n",
       "        [ 0.00000000e+00+0.j,  0.00000000e+00+0.j,  0.00000000e+00+0.j,\n",
       "         ..., -7.94982868e+00+0.j,  0.00000000e+00+0.j,\n",
       "          7.14574825e+00+0.j],\n",
       "        [ 0.00000000e+00+0.j,  0.00000000e+00+0.j,  0.00000000e+00+0.j,\n",
       "         ...,  0.00000000e+00+0.j, -8.43206666e+00+0.j,\n",
       "          0.00000000e+00+0.j]],\n",
       "\n",
       "       [[ 0.00000000e+00+0.j,  2.41563456e+00+0.j,  0.00000000e+00+0.j,\n",
       "         ...,  0.00000000e+00+0.j,  0.00000000e+00+0.j,\n",
       "          0.00000000e+00+0.j],\n",
       "        [-3.34898969e+00+0.j,  1.49853970e+00+0.j,  3.41622315e+00+0.j,\n",
       "         ...,  0.00000000e+00+0.j,  0.00000000e+00+0.j,\n",
       "          0.00000000e+00+0.j],\n",
       "        [ 0.00000000e+00+0.j, -4.73618664e+00+0.j,  2.99707939e+00+0.j,\n",
       "         ...,  0.00000000e+00+0.j,  0.00000000e+00+0.j,\n",
       "          0.00000000e+00+0.j],\n",
       "        ...,\n",
       "        [ 0.00000000e+00+0.j,  0.00000000e+00+0.j,  0.00000000e+00+0.j,\n",
       "         ...,  0.00000000e+00+0.j,  6.83244630e+00+0.j,\n",
       "          0.00000000e+00+0.j],\n",
       "        [ 0.00000000e+00+0.j,  0.00000000e+00+0.j,  0.00000000e+00+0.j,\n",
       "         ..., -9.47237328e+00+0.j,  0.00000000e+00+0.j,\n",
       "          7.24690367e+00+0.j],\n",
       "        [ 0.00000000e+00+0.j,  0.00000000e+00+0.j,  0.00000000e+00+0.j,\n",
       "         ...,  0.00000000e+00+0.j, -1.00469691e+01+0.j,\n",
       "          0.00000000e+00+0.j]],\n",
       "\n",
       "       [[ 0.00000000e+00+0.j, -2.21210419e+00+0.j,  0.00000000e+00+0.j,\n",
       "         ...,  0.00000000e+00+0.j,  0.00000000e+00+0.j,\n",
       "          0.00000000e+00+0.j],\n",
       "        [-8.45376120e+00+0.j,  1.49853970e+00+0.j, -3.12838775e+00+0.j,\n",
       "         ...,  0.00000000e+00+0.j,  0.00000000e+00+0.j,\n",
       "          0.00000000e+00+0.j],\n",
       "        [ 0.00000000e+00+0.j, -1.19554237e+01+0.j,  2.99707939e+00+0.j,\n",
       "         ...,  0.00000000e+00+0.j,  0.00000000e+00+0.j,\n",
       "          0.00000000e+00+0.j],\n",
       "        ...,\n",
       "        [ 0.00000000e+00+0.j,  0.00000000e+00+0.j,  0.00000000e+00+0.j,\n",
       "         ...,  0.00000000e+00+0.j, -6.25677551e+00+0.j,\n",
       "          0.00000000e+00+0.j],\n",
       "        [ 0.00000000e+00+0.j,  0.00000000e+00+0.j,  0.00000000e+00+0.j,\n",
       "         ..., -2.39108475e+01+0.j,  0.00000000e+00+0.j,\n",
       "         -6.63631258e+00+0.j],\n",
       "        [ 0.00000000e+00+0.j,  0.00000000e+00+0.j,  0.00000000e+00+0.j,\n",
       "         ...,  0.00000000e+00+0.j, -2.53612836e+01+0.j,\n",
       "          0.00000000e+00+0.j]],\n",
       "\n",
       "       [[ 0.00000000e+00+0.j,  5.97417113e+00+0.j,  0.00000000e+00+0.j,\n",
       "         ...,  0.00000000e+00+0.j,  0.00000000e+00+0.j,\n",
       "          0.00000000e+00+0.j],\n",
       "        [ 1.70568460e+01+0.j,  1.49853970e+00+0.j,  8.44875384e+00+0.j,\n",
       "         ...,  0.00000000e+00+0.j,  0.00000000e+00+0.j,\n",
       "          0.00000000e+00+0.j],\n",
       "        [ 0.00000000e+00+0.j,  2.41220230e+01+0.j,  2.99707939e+00+0.j,\n",
       "         ...,  0.00000000e+00+0.j,  0.00000000e+00+0.j,\n",
       "          0.00000000e+00+0.j],\n",
       "        ...,\n",
       "        [ 0.00000000e+00+0.j,  0.00000000e+00+0.j,  0.00000000e+00+0.j,\n",
       "         ...,  0.00000000e+00+0.j,  1.68975077e+01+0.j,\n",
       "          0.00000000e+00+0.j],\n",
       "        [ 0.00000000e+00+0.j,  0.00000000e+00+0.j,  0.00000000e+00+0.j,\n",
       "         ...,  4.82440459e+01+0.j,  0.00000000e+00+0.j,\n",
       "          1.79225134e+01+0.j],\n",
       "        [ 0.00000000e+00+0.j,  0.00000000e+00+0.j,  0.00000000e+00+0.j,\n",
       "         ...,  0.00000000e+00+0.j,  5.11705380e+01+0.j,\n",
       "          0.00000000e+00+0.j]]], dtype=complex128)"
      ]
     },
     "execution_count": 16,
     "metadata": {},
     "output_type": "execute_result"
    }
   ],
   "source": [
    "H_total"
   ]
  },
  {
   "cell_type": "code",
   "execution_count": 17,
   "metadata": {},
   "outputs": [
    {
     "data": {
      "text/plain": [
       "(5, 20, 20)"
      ]
     },
     "execution_count": 17,
     "metadata": {},
     "output_type": "execute_result"
    }
   ],
   "source": [
    "H_total.shape"
   ]
  },
  {
   "cell_type": "markdown",
   "metadata": {},
   "source": [
    "### Solve the Schrödinger Equation"
   ]
  },
  {
   "cell_type": "code",
   "execution_count": 18,
   "metadata": {},
   "outputs": [],
   "source": [
    "psi0_fg = tensor(basis(2), basis(N_cav))\n",
    "psi_fg = sesolve(H_total, psi0_fg, delta_ts, evo_type=\"state\")"
   ]
  },
  {
   "cell_type": "markdown",
   "metadata": {},
   "source": [
    "### Calculate fidelity with target"
   ]
  },
  {
   "cell_type": "code",
   "execution_count": 19,
   "metadata": {},
   "outputs": [
    {
     "name": "stdout",
     "output_type": "stream",
     "text": [
      "0.9976786025906581\n"
     ]
    }
   ],
   "source": [
    "print(fidelity(C_target=psi_target, U_final=psi_fg, evo_type=\"state\"))"
   ]
  },
  {
   "cell_type": "code",
   "execution_count": null,
   "metadata": {},
   "outputs": [],
   "source": []
  }
 ],
 "metadata": {
  "kernelspec": {
   "display_name": "Python 3",
   "language": "python",
   "name": "python3"
  },
  "language_info": {
   "codemirror_mode": {
    "name": "ipython",
    "version": 3
   },
   "file_extension": ".py",
   "mimetype": "text/x-python",
   "name": "python",
   "nbconvert_exporter": "python",
   "pygments_lexer": "ipython3",
   "version": "3.11.12"
  }
 },
 "nbformat": 4,
 "nbformat_minor": 2
}

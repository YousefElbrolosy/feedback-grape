{
 "cells": [
  {
   "cell_type": "markdown",
   "id": "d84ef074",
   "metadata": {},
   "source": [
    "# Hadamard Gate Synthesis Example"
   ]
  },
  {
   "cell_type": "code",
   "execution_count": null,
   "id": "bb660165",
   "metadata": {
    "tags": [
     "remove-cell"
    ]
   },
   "outputs": [],
   "source": [
    "# ruff: noqa\n",
    "import os\n",
    "\n",
    "os.sys.path.append(\"../../../..\")"
   ]
  },
  {
   "cell_type": "code",
   "execution_count": null,
   "id": "b01d0d5e",
   "metadata": {},
   "outputs": [],
   "source": [
    "import qutip as qt\n",
    "import qutip_qip.operations.gates as qip\n",
    "import qutip_qtrl.pulseoptim as qtrl\n",
    "from feedback_grape.utils.fidelity import fidelity, optimize_pulse\n",
    "from feedback_grape.utils.gates import hadamard\n",
    "from feedback_grape.utils.operators import (\n",
    "    identity,\n",
    "    sigmax,\n",
    "    sigmaz,\n",
    ")"
   ]
  },
  {
   "cell_type": "code",
   "execution_count": 60,
   "id": "315a77aa",
   "metadata": {},
   "outputs": [],
   "source": [
    "def get_targets_for_hadamard_problem():\n",
    "    C_target_fg = hadamard()\n",
    "    C_target_qt = qip.hadamard_transform(1)\n",
    "    return C_target_fg, C_target_qt"
   ]
  },
  {
   "cell_type": "code",
   "execution_count": 65,
   "id": "0bd333f9",
   "metadata": {},
   "outputs": [],
   "source": [
    "def get_results_for_hadamard_problen(optimizer, propcomp):\n",
    "    ###### General\n",
    "    # Number of time slots\n",
    "    n_ts = 10\n",
    "    # Time allowed for the evolution\n",
    "    evo_time = 10\n",
    "\n",
    "    # Fidelity error target\n",
    "    fid_err_targ = 1e-10\n",
    "    # Maximum iterations for the optisation algorithm\n",
    "    max_iter = 200\n",
    "    # Maximum (elapsed) time allowed in seconds\n",
    "    max_wall_time = 120\n",
    "    # Minimum gradient (sum of gradients squared)\n",
    "    # as this tends to 0 -> local minima has been found\n",
    "    min_grad = 1e-20\n",
    "\n",
    "    ###### Qutip QTRL\n",
    "    # Drift Hamiltonian\n",
    "    H_d = qt.sigmaz()\n",
    "    # The (single) control Hamiltonian\n",
    "    H_c = [qt.sigmax()]\n",
    "    # start point for the gate evolution\n",
    "    U_0 = qt.operators.identity(2)\n",
    "    # Target for the gate evolution Hadamard gate\n",
    "    U_targ = qip.hadamard_transform(1)\n",
    "\n",
    "    p_type = 'SINE'\n",
    "    result_qt = qtrl.optimize_pulse_unitary(\n",
    "        H_d,\n",
    "        H_c,\n",
    "        U_0,\n",
    "        U_targ,\n",
    "        n_ts,\n",
    "        evo_time,\n",
    "        fid_err_targ=fid_err_targ,\n",
    "        min_grad=min_grad,\n",
    "        max_iter=max_iter,\n",
    "        max_wall_time=max_wall_time,\n",
    "        init_pulse_type=p_type,\n",
    "        gen_stats=True,\n",
    "    )\n",
    "\n",
    "    ###### fg\n",
    "    # Drift Hamiltonian\n",
    "    H_d = sigmaz()\n",
    "    # The (single) control Hamiltonian\n",
    "    H_c = [sigmax()]\n",
    "    # start point for the gate evolution\n",
    "    U_0 = identity(2)\n",
    "    # Target for the gate evolution Hadamard gate\n",
    "    U_targ = hadamard()\n",
    "\n",
    "    result_fg = optimize_pulse(\n",
    "        H_d,\n",
    "        H_c,\n",
    "        U_0,\n",
    "        U_targ,\n",
    "        n_ts,\n",
    "        evo_time,\n",
    "        max_iter=max_iter,\n",
    "        learning_rate=1e-2,\n",
    "        optimizer=optimizer,\n",
    "        type=\"unitary\",\n",
    "        propcomp=propcomp,\n",
    "    )\n",
    "\n",
    "    return (result_fg, result_qt)"
   ]
  },
  {
   "cell_type": "code",
   "execution_count": 66,
   "id": "cfb41af6",
   "metadata": {},
   "outputs": [],
   "source": [
    "def get_finals(result_fg, result_qt):\n",
    "    \"\"\"\n",
    "    Get the final operators for the given results.\n",
    "    \"\"\"\n",
    "    # Final operator for fg\n",
    "    final_operator_fg = result_fg.final_operator\n",
    "    # Final operator for qt\n",
    "    final_operator_qt = result_qt.evo_full_final\n",
    "\n",
    "    return final_operator_fg, final_operator_qt"
   ]
  },
  {
   "cell_type": "code",
   "execution_count": 67,
   "id": "70b896ec",
   "metadata": {},
   "outputs": [],
   "source": [
    "def test_hadamard(optimizer, propcomp):\n",
    "    result_fg, result_qt = get_results_for_hadamard_problen(\n",
    "        optimizer, propcomp\n",
    "    )\n",
    "    target_fg, target_qt = get_targets_for_hadamard_problem()\n",
    "    final_operator_fg, final_operator_qt = get_finals(result_fg, result_qt)\n",
    "\n",
    "    fidelity_qt = (\n",
    "        abs((qt.Qobj(target_qt).dag() * qt.Qobj(final_operator_qt)).tr())\n",
    "        / target_qt.shape[0]\n",
    "    )\n",
    "    fidelity_fg = fidelity(\n",
    "        U_final=final_operator_fg,\n",
    "        C_target=target_fg,\n",
    "    )\n",
    "\n",
    "    print(\"fidelity using qutip: \", fidelity_qt)\n",
    "    print(\"fidelity using grape: \", fidelity_fg)\n",
    "\n",
    "    print(\"result_qt.fid_err: \", 1 - result_qt.fid_err)\n",
    "    print(\"result_fg.final_fidelity: \", result_fg.final_fidelity)"
   ]
  },
  {
   "cell_type": "code",
   "execution_count": 68,
   "id": "75a470e4",
   "metadata": {},
   "outputs": [
    {
     "name": "stdout",
     "output_type": "stream",
     "text": [
      "optim_var_vals (10,)\n",
      "ctrl_amps (10, 1)\n",
      "optim_var_vals (10,)\n",
      "ctrl_amps (10, 1)\n",
      "optim_var_vals (10,)\n",
      "ctrl_amps (10, 1)\n",
      "optim_var_vals (10,)\n",
      "ctrl_amps (10, 1)\n",
      "optim_var_vals (10,)\n",
      "ctrl_amps (10, 1)\n",
      "optim_var_vals (10,)\n",
      "ctrl_amps (10, 1)\n",
      "optim_var_vals (10,)\n",
      "ctrl_amps (10, 1)\n",
      "optim_var_vals (10,)\n",
      "ctrl_amps (10, 1)\n",
      "optim_var_vals (10,)\n",
      "ctrl_amps (10, 1)\n",
      "optim_var_vals (10,)\n",
      "ctrl_amps (10, 1)\n",
      "optim_var_vals (10,)\n",
      "ctrl_amps (10, 1)\n",
      "optim_var_vals (10,)\n",
      "ctrl_amps (10, 1)\n",
      "optim_var_vals (10,)\n",
      "ctrl_amps (10, 1)\n",
      "optim_var_vals (10,)\n",
      "ctrl_amps (10, 1)\n",
      "optim_var_vals (10,)\n",
      "ctrl_amps (10, 1)\n",
      "optim_var_vals (10,)\n",
      "ctrl_amps (10, 1)\n",
      "optim_var_vals (10,)\n",
      "ctrl_amps (10, 1)\n",
      "fidelity using qutip:  0.9999999999999487\n",
      "fidelity using grape:  0.9998742335426334\n",
      "result_qt.fid_err:  0.9999999999999489\n",
      "result_fg.final_fidelity:  0.9998742335426334\n"
     ]
    }
   ],
   "source": [
    "test_hadamard(\n",
    "    optimizer=\"adam\",\n",
    "    propcomp=\"time-efficient\",\n",
    ")"
   ]
  }
 ],
 "metadata": {
  "kernelspec": {
   "display_name": "qiskit-stable8",
   "language": "python",
   "name": "python3"
  },
  "language_info": {
   "codemirror_mode": {
    "name": "ipython",
    "version": 3
   },
   "file_extension": ".py",
   "mimetype": "text/x-python",
   "name": "python",
   "nbconvert_exporter": "python",
   "pygments_lexer": "ipython3",
   "version": "3.11.5"
  }
 },
 "nbformat": 4,
 "nbformat_minor": 5
}

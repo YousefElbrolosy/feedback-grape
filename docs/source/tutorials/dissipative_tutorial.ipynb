{
 "cells": [
  {
   "cell_type": "markdown",
   "id": "81807a12",
   "metadata": {},
   "source": [
    "# GRAPE for systems with Dissipation"
   ]
  },
  {
   "cell_type": "code",
   "execution_count": 1,
   "id": "03e56e79",
   "metadata": {},
   "outputs": [],
   "source": [
    "# ruff: noqa"
   ]
  },
  {
   "cell_type": "code",
   "execution_count": 2,
   "id": "4e8daf6c",
   "metadata": {},
   "outputs": [],
   "source": [
    "import jax.numpy as jnp\n",
    "from feedback_grape.grape import *\n",
    "from feedback_grape.utils.gates import *\n",
    "from feedback_grape.utils.operators import *\n",
    "from feedback_grape.utils.states import *\n",
    "from feedback_grape.utils.superoperator import *\n",
    "from feedback_grape.utils.tensor import *"
   ]
  },
  {
   "cell_type": "code",
   "execution_count": 3,
   "id": "6597d588",
   "metadata": {},
   "outputs": [],
   "source": [
    "Sx = sigmax()\n",
    "Sy = sigmay()\n",
    "Sz = sigmaz()\n",
    "Sm = sigmam()\n",
    "Si = identity(2)\n",
    "had_gate = hadamard()\n",
    "# Hamiltonian\n",
    "Del = 0.1  # Tunnelling term\n",
    "wq = 1.0  # Energy of the 2-level system.\n",
    "H0 = 0.5 * wq * sigmaz() + 0.5 * Del * sigmax()\n",
    "\n",
    "# Amplitude damping#\n",
    "# Damping rate:\n",
    "gamma = 0.1\n",
    "L0 = liouvillian(H0, [jnp.sqrt(gamma) * Sm])\n",
    "\n",
    "# sigma X control\n",
    "LC_x = liouvillian(Sx)\n",
    "# sigma Y control\n",
    "LC_y = liouvillian(Sy)\n",
    "# sigma Z control\n",
    "LC_z = liouvillian(Sz)\n",
    "\n",
    "# Drift\n",
    "drift = L0\n",
    "# Controls - different combinations can be tried\n",
    "ctrls = [LC_z, LC_x]\n",
    "# Number of ctrls\n",
    "n_ctrls = len(ctrls)\n",
    "\n",
    "# start point for the map evolution\n",
    "E0 = sprepost(Si, Si)\n",
    "\n",
    "# target for map evolution\n",
    "E_targ = sprepost(had_gate, had_gate)"
   ]
  },
  {
   "cell_type": "code",
   "execution_count": 4,
   "id": "40f3808f",
   "metadata": {},
   "outputs": [],
   "source": [
    "# Number of time slots\n",
    "n_ts = 10\n",
    "# Time allowed for the evolution\n",
    "evo_time = 2"
   ]
  },
  {
   "cell_type": "code",
   "execution_count": 5,
   "id": "45baa078",
   "metadata": {},
   "outputs": [
    {
     "name": "stdout",
     "output_type": "stream",
     "text": [
      "Iteration 0, _fidelity: -0.06190147561817705\n",
      "Iteration 10, _fidelity: 0.4204969550099352\n",
      "Iteration 20, _fidelity: 0.5037368904199597\n",
      "Iteration 30, _fidelity: 0.4984865536015558\n",
      "Iteration 40, _fidelity: 0.5002471301958491\n",
      "Iteration 50, _fidelity: 0.5040609120925125\n",
      "Iteration 60, _fidelity: 0.5049470963753635\n",
      "Iteration 70, _fidelity: 0.5049711988779007\n",
      "Iteration 80, _fidelity: 0.5049558122699249\n",
      "Iteration 90, _fidelity: 0.5049686836813101\n",
      "Iteration 100, _fidelity: 0.5049792431888533\n",
      "Iteration 110, _fidelity: 0.5049851175610336\n",
      "Iteration 120, _fidelity: 0.5049877847496214\n",
      "Iteration 130, _fidelity: 0.5049892516699444\n",
      "Iteration 140, _fidelity: 0.5049904886545118\n",
      "Iteration 150, _fidelity: 0.5049919671020442\n",
      "Iteration 160, _fidelity: 0.5049940452641392\n",
      "Iteration 170, _fidelity: 0.5049971513679947\n",
      "Iteration 180, _fidelity: 0.5050019357298035\n",
      "Iteration 190, _fidelity: 0.505009486778687\n",
      "Iteration 200, _fidelity: 0.5050217372038515\n",
      "Iteration 210, _fidelity: 0.505042343143709\n",
      "Iteration 220, _fidelity: 0.5050788368719598\n",
      "Iteration 230, _fidelity: 0.5051487362246685\n",
      "Iteration 240, _fidelity: 0.505300679084107\n",
      "Iteration 250, _fidelity: 0.5057121491430316\n",
      "Iteration 260, _fidelity: 0.5074277863682838\n",
      "Iteration 270, _fidelity: 0.5298319536404952\n",
      "Iteration 280, _fidelity: 0.8738141262399028\n",
      "Iteration 290, _fidelity: 0.8885377908381966\n",
      "Iteration 300, _fidelity: 0.9054461989480742\n",
      "Iteration 310, _fidelity: 0.9153507708109438\n",
      "Iteration 320, _fidelity: 0.9203595771616861\n",
      "Iteration 330, _fidelity: 0.9218131579233526\n",
      "Iteration 340, _fidelity: 0.9234652077520001\n",
      "Iteration 350, _fidelity: 0.9245853476749798\n",
      "Iteration 360, _fidelity: 0.9255068992372896\n",
      "Iteration 370, _fidelity: 0.9262800028012277\n",
      "Iteration 380, _fidelity: 0.9269826234036067\n",
      "Iteration 390, _fidelity: 0.9276223139151812\n",
      "Iteration 400, _fidelity: 0.9282131960397244\n",
      "Iteration 410, _fidelity: 0.9287640447066114\n",
      "Iteration 420, _fidelity: 0.9292794281866452\n",
      "Iteration 430, _fidelity: 0.9297631562834627\n",
      "Iteration 440, _fidelity: 0.9302179020356703\n",
      "Iteration 450, _fidelity: 0.9306456595970967\n",
      "Iteration 460, _fidelity: 0.9310481451110267\n",
      "Iteration 470, _fidelity: 0.9314269162453348\n",
      "Iteration 480, _fidelity: 0.9317835347885522\n",
      "Iteration 490, _fidelity: 0.9321196162893811\n",
      "Iteration 500, _fidelity: 0.9324368382047838\n",
      "Iteration 510, _fidelity: 0.9327368975076021\n",
      "Iteration 520, _fidelity: 0.9330214454938022\n",
      "Iteration 530, _fidelity: 0.9332920216597157\n",
      "Iteration 540, _fidelity: 0.9335500067933505\n",
      "Iteration 550, _fidelity: 0.9337966047377058\n",
      "Iteration 560, _fidelity: 0.9340328511686231\n",
      "Iteration 570, _fidelity: 0.9342596401605864\n",
      "Iteration 580, _fidelity: 0.9344777565808511\n",
      "Iteration 590, _fidelity: 0.9346879046932751\n",
      "Iteration 600, _fidelity: 0.9348907274401173\n",
      "Iteration 610, _fidelity: 0.935086815086881\n",
      "Iteration 620, _fidelity: 0.9352755484486361\n",
      "Iteration 630, _fidelity: 0.8919241546781841\n",
      "Iteration 640, _fidelity: 0.9272838290290586\n",
      "Iteration 650, _fidelity: 0.9343918803872641\n",
      "Iteration 660, _fidelity: 0.9349314685072008\n",
      "Iteration 670, _fidelity: 0.9352395916442394\n",
      "Iteration 680, _fidelity: 0.935431767780636\n",
      "Iteration 690, _fidelity: 0.9357230432545934\n",
      "Iteration 700, _fidelity: 0.9359159170719439\n",
      "Iteration 710, _fidelity: 0.9360785588061115\n",
      "Iteration 720, _fidelity: 0.9362334635975034\n",
      "Iteration 730, _fidelity: 0.9363862486908533\n",
      "Iteration 740, _fidelity: 0.9365344376562874\n",
      "Iteration 750, _fidelity: 0.9366783944874923\n",
      "Iteration 760, _fidelity: 0.9368182493562319\n",
      "Iteration 770, _fidelity: 0.9369541563869097\n",
      "Iteration 780, _fidelity: 0.9370859801632638\n",
      "Iteration 790, _fidelity: 0.9372134952636513\n",
      "Iteration 800, _fidelity: 0.9373364569157294\n",
      "Iteration 810, _fidelity: 0.9374546570637259\n",
      "Iteration 820, _fidelity: 0.9375679492420841\n",
      "Iteration 830, _fidelity: 0.9376762703677437\n",
      "Iteration 840, _fidelity: 0.9377796532040447\n",
      "Iteration 850, _fidelity: 0.9378782183519114\n",
      "Iteration 860, _fidelity: 0.9379721575554445\n",
      "Iteration 870, _fidelity: 0.9380617080372204\n",
      "Iteration 880, _fidelity: 0.9381253230563883\n",
      "Iteration 890, _fidelity: 0.9345019831032771\n",
      "Iteration 900, _fidelity: 0.9104723246161137\n",
      "Iteration 910, _fidelity: 0.9358507669841339\n",
      "Iteration 920, _fidelity: 0.9335700846158811\n",
      "Iteration 930, _fidelity: 0.9366723609216656\n",
      "Iteration 940, _fidelity: 0.937416654973731\n",
      "Iteration 950, _fidelity: 0.9373741936021414\n",
      "Iteration 960, _fidelity: 0.9376043007300694\n",
      "Iteration 970, _fidelity: 0.9377657514233019\n",
      "Iteration 980, _fidelity: 0.9378799153192466\n",
      "Iteration 990, _fidelity: 0.9379804114005038\n"
     ]
    }
   ],
   "source": [
    "result = optimize_pulse(\n",
    "    drift,\n",
    "    ctrls,\n",
    "    E0,\n",
    "    E_targ,\n",
    "    n_ts,\n",
    "    evo_time,\n",
    "    type=\"superoperator\",\n",
    "    optimizer=\"adam\",\n",
    "    convergence_threshold=1e-16,\n",
    "    max_iter=1000,\n",
    "    learning_rate=0.1,\n",
    ")"
   ]
  },
  {
   "cell_type": "code",
   "execution_count": 6,
   "id": "085f3df8",
   "metadata": {},
   "outputs": [
    {
     "data": {
      "text/plain": [
       "Array(0.93806661, dtype=float64)"
      ]
     },
     "execution_count": 6,
     "metadata": {},
     "output_type": "execute_result"
    }
   ],
   "source": [
    "result.final_fidelity"
   ]
  }
 ],
 "metadata": {
  "kernelspec": {
   "display_name": "Python 3",
   "language": "python",
   "name": "python3"
  },
  "language_info": {
   "codemirror_mode": {
    "name": "ipython",
    "version": 3
   },
   "file_extension": ".py",
   "mimetype": "text/x-python",
   "name": "python",
   "nbconvert_exporter": "python",
   "pygments_lexer": "ipython3",
   "version": "3.11.11"
  }
 },
 "nbformat": 4,
 "nbformat_minor": 5
}

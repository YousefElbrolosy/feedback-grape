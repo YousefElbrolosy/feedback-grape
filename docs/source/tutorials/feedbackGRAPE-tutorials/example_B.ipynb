{
 "cells": [
  {
   "cell_type": "markdown",
   "id": "7f793d9d",
   "metadata": {},
   "source": [
    "# B. State purification with qubit-mediated measurement"
   ]
  },
  {
   "cell_type": "code",
   "execution_count": 1,
   "id": "e1522634",
   "metadata": {
    "tags": [
     "remove-cell"
    ]
   },
   "outputs": [],
   "source": [
    "# ruff: noqa\n",
    "import os\n",
    "\n",
    "os.sys.path.append(\"../../../..\")"
   ]
  },
  {
   "cell_type": "code",
   "execution_count": 2,
   "id": "39fee84d",
   "metadata": {},
   "outputs": [],
   "source": [
    "from feedback_grape.fgrape import optimize_pulse_with_feedback\n",
    "import jax.numpy as jnp"
   ]
  },
  {
   "cell_type": "markdown",
   "id": "95c2028a",
   "metadata": {},
   "source": [
    "## The cavity is initially in a  mixed state --> Goal is to purify the state\n",
    "\n",
    "We are trying to maximize the property determined by $tr (\\rho_{\\text{cav}}^2)$ which is the purity"
   ]
  },
  {
   "cell_type": "markdown",
   "id": "3fabfed7",
   "metadata": {},
   "source": [
    "In the following, we consider an adaptive measurement\n",
    "scheme, demonstrated in a series of experiments on Rydberg atoms interacting\n",
    "with microwave cavities. In this scheme, the\n",
    "cavity is coupled to an ancilla qubit, which can then be\n",
    "read out to update our knowledge of the quantum state of\n",
    "the cavity. <br> <br>\n",
    "<p align=\"center\">\n",
    "    <img src=\"../../_static/notebook-images/b_tut.png\" alt=\"image\" width=\"350\"/>\n",
    "</p>\n"
   ]
  },
  {
   "cell_type": "code",
   "execution_count": 3,
   "id": "aa40b5b2",
   "metadata": {},
   "outputs": [],
   "source": [
    "# initial state is a thermal state\n",
    "n_average = 2\n",
    "N_cavity = 30\n",
    "# natural logarithm\n",
    "beta = jnp.log((1 / n_average) + 1)\n",
    "diags = jnp.exp(-beta * jnp.arange(N_cavity))\n",
    "normalized_diags = diags / jnp.sum(diags, axis=0)\n",
    "rho_cav = jnp.diag(normalized_diags)"
   ]
  },
  {
   "cell_type": "markdown",
   "id": "ef889609",
   "metadata": {},
   "source": [
    "### Now the thing is here, we don't need a rho_final because the purity or the reward that we want to maximize is $tr (\\rho_{\\text{cav}}^2)$.\n",
    "Unlike fidelity expressions which wants to find how close to states are"
   ]
  },
  {
   "cell_type": "markdown",
   "id": "7c755428",
   "metadata": {},
   "source": [
    "## Next Step is to construct our POVM"
   ]
  },
  {
   "cell_type": "code",
   "execution_count": 4,
   "id": "5c617fea",
   "metadata": {},
   "outputs": [],
   "source": [
    "from feedback_grape.utils.operators import cosm, sinm"
   ]
  },
  {
   "cell_type": "code",
   "execution_count": 5,
   "id": "9387e6a5",
   "metadata": {},
   "outputs": [],
   "source": [
    "from feedback_grape.utils.operators import create, destroy\n",
    "import jax\n",
    "\n",
    "\n",
    "def povm_measure_operator(measurement_outcome, gamma, delta):\n",
    "    \"\"\"\n",
    "    POVM for the measurement of the cavity state.\n",
    "    returns Mm ( NOT the POVM element Em = Mm_dag @ Mm ), given measurement_outcome m, gamma and delta\n",
    "    \"\"\"\n",
    "    number_operator = create(N_cavity) @ destroy(N_cavity)\n",
    "    angle = (gamma * number_operator) + delta / 2\n",
    "    return jnp.where(\n",
    "        measurement_outcome == 1,\n",
    "        cosm(angle),\n",
    "        sinm(angle),\n",
    "    )"
   ]
  },
  {
   "cell_type": "code",
   "execution_count": 6,
   "id": "b60945a8",
   "metadata": {},
   "outputs": [
    {
     "name": "stderr",
     "output_type": "stream",
     "text": [
      "2025-06-25 10:45:36.811088: E external/xla/xla/service/slow_operation_alarm.cc:73] \n",
      "********************************\n",
      "[Compiling module jit_step] Very slow compile? If you want to file a bug, run with envvar XLA_FLAGS=--xla_dump_to=/tmp/foo and attach the results.\n",
      "********************************\n",
      "2025-06-25 10:45:43.767346: E external/xla/xla/service/slow_operation_alarm.cc:140] The operation took 2m6.962167s\n",
      "\n",
      "********************************\n",
      "[Compiling module jit_step] Very slow compile? If you want to file a bug, run with envvar XLA_FLAGS=--xla_dump_to=/tmp/foo and attach the results.\n",
      "********************************\n"
     ]
    }
   ],
   "source": [
    "# Answer: why does RNN outputs two the same, then two the same, then two the same and so on? -> calculate during forward proagation then again during back_propagation\n",
    "from feedback_grape.fgrape import Gate\n",
    "measure = Gate(\n",
    "    gate=povm_measure_operator,\n",
    "    initial_params=jax.random.uniform(\n",
    "        key=jax.random.PRNGKey(42), shape=(1, 2), minval=0.0, maxval=jnp.pi\n",
    "    )[0].tolist(),\n",
    "    measurement_flag=True,\n",
    "    # param_constraints=[\n",
    "    #     [0, jnp.pi],\n",
    "    #     [-2 * jnp.pi, 2 * jnp.pi],\n",
    "    # ],  # if this is commented and no bounds the avg purity would be 0.91 and highest purity of a measurement sequence is 0.997\n",
    ")\n",
    "\n",
    "system_params = [measure]\n",
    "\n",
    "result = optimize_pulse_with_feedback(\n",
    "    U_0=rho_cav,\n",
    "    C_target=None,\n",
    "    system_params=system_params,\n",
    "    num_time_steps=5,\n",
    "    mode=\"lookup\",\n",
    "    goal=\"purity\",\n",
    "    max_iter=1000,\n",
    "    convergence_threshold=1e-20,\n",
    "    learning_rate=0.01,\n",
    "    evo_type=\"density\",\n",
    "    batch_size=10,\n",
    ")"
   ]
  },
  {
   "cell_type": "code",
   "execution_count": 7,
   "id": "bef94f45",
   "metadata": {},
   "outputs": [
    {
     "name": "stdout",
     "output_type": "stream",
     "text": [
      "None\n"
     ]
    }
   ],
   "source": [
    "print(result.final_fidelity)"
   ]
  },
  {
   "cell_type": "code",
   "execution_count": 8,
   "id": "71dc8f94",
   "metadata": {},
   "outputs": [
    {
     "name": "stdout",
     "output_type": "stream",
     "text": [
      "0.9194757960201889\n"
     ]
    }
   ],
   "source": [
    "# 0.9163363647226792\n",
    "print(result.final_purity)"
   ]
  },
  {
   "cell_type": "code",
   "execution_count": 9,
   "id": "e5a742f7",
   "metadata": {},
   "outputs": [
    {
     "name": "stdout",
     "output_type": "stream",
     "text": [
      "initial purity: 0.20000208604889932\n",
      "Purity of state 0: 0.9929850865960047\n",
      "Purity of state 1: 0.9912625349139808\n",
      "Purity of state 2: 0.9827059473529275\n",
      "Purity of state 3: 0.6203510241040638\n",
      "Purity of state 4: 0.9827059473529275\n",
      "Purity of state 5: 0.8252355569116118\n",
      "Purity of state 6: 0.9912625349139808\n",
      "Purity of state 7: 0.9827059473529275\n",
      "Purity of state 8: 0.9282047975295309\n",
      "Purity of state 9: 0.8973385831739333\n"
     ]
    }
   ],
   "source": [
    "from feedback_grape.utils.purity import purity\n",
    "\n",
    "# the highest purity can be 0.995 if the initial params that initializes the lookup table\n",
    "# are between 0 and pi rather than -pi and pi\n",
    "print(\"initial purity:\", purity(rho=rho_cav))\n",
    "for i, state in enumerate(result.final_state):\n",
    "    print(f\"Purity of state {i}:\", purity(rho=state))"
   ]
  },
  {
   "cell_type": "code",
   "execution_count": 10,
   "id": "5f07d179",
   "metadata": {},
   "outputs": [
    {
     "data": {
      "text/plain": [
       "[[Array([[1.05297151, 0.07352308],\n",
       "         [1.05297151, 0.07352308],\n",
       "         [1.05297151, 0.07352308],\n",
       "         [1.05297151, 0.07352308],\n",
       "         [1.05297151, 0.07352308],\n",
       "         [1.05297151, 0.07352308],\n",
       "         [1.05297151, 0.07352308],\n",
       "         [1.05297151, 0.07352308],\n",
       "         [1.05297151, 0.07352308],\n",
       "         [1.05297151, 0.07352308]], dtype=float64)],\n",
       " [Array([[1.11495276, 0.03728731],\n",
       "         [1.56022894, 0.07388012],\n",
       "         [1.11495276, 0.03728731],\n",
       "         [1.56022894, 0.07388012],\n",
       "         [1.11495276, 0.03728731],\n",
       "         [1.56022894, 0.07388012],\n",
       "         [1.56022894, 0.07388012],\n",
       "         [1.11495276, 0.03728731],\n",
       "         [1.11495276, 0.03728731],\n",
       "         [1.56022894, 0.07388012]], dtype=float64)],\n",
       " [Array([[1.56069326, 0.11265689],\n",
       "         [1.30275233, 0.04059488],\n",
       "         [1.56069326, 0.11265689],\n",
       "         [1.34320626, 0.24920048],\n",
       "         [1.56069326, 0.11265689],\n",
       "         [1.34320626, 0.24920048],\n",
       "         [1.30275233, 0.04059488],\n",
       "         [1.56069326, 0.11265689],\n",
       "         [1.36723181, 0.21506829],\n",
       "         [1.34320626, 0.24920048]], dtype=float64)],\n",
       " [Array([[0.77490521, 0.08728323],\n",
       "         [1.14927892, 0.01292977],\n",
       "         [0.88504143, 0.14287421],\n",
       "         [1.48870317, 0.27309581],\n",
       "         [0.88504143, 0.14287421],\n",
       "         [1.02244406, 0.25106976],\n",
       "         [1.14927892, 0.01292977],\n",
       "         [0.88504143, 0.14287421],\n",
       "         [1.28194693, 0.18899134],\n",
       "         [1.02244406, 0.25106976]], dtype=float64)],\n",
       " [Array([[1.16200106, 0.13274908],\n",
       "         [0.7832183 , 0.01468661],\n",
       "         [1.24598191, 0.42583617],\n",
       "         [1.04591056, 0.08256078],\n",
       "         [1.24598191, 0.42583617],\n",
       "         [1.0371706 , 0.05665473],\n",
       "         [0.7832183 , 0.01468661],\n",
       "         [1.24598191, 0.42583617],\n",
       "         [1.53462363, 0.25911407],\n",
       "         [1.01675762, 0.2825903 ]], dtype=float64)]]"
      ]
     },
     "execution_count": 10,
     "metadata": {},
     "output_type": "execute_result"
    }
   ],
   "source": [
    "result.returned_params"
   ]
  }
 ],
 "metadata": {
  "kernelspec": {
   "display_name": "Python 3",
   "language": "python",
   "name": "python3"
  },
  "language_info": {
   "codemirror_mode": {
    "name": "ipython",
    "version": 3
   },
   "file_extension": ".py",
   "mimetype": "text/x-python",
   "name": "python",
   "nbconvert_exporter": "python",
   "pygments_lexer": "ipython3",
   "version": "3.11.11"
  }
 },
 "nbformat": 4,
 "nbformat_minor": 5
}

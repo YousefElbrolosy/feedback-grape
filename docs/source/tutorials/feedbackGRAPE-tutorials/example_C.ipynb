{
 "cells": [
  {
   "cell_type": "markdown",
   "id": "430a38f8",
   "metadata": {},
   "source": [
    "# C. State preparation from a thermal state with Jaynes-Cummings controls"
   ]
  },
  {
   "cell_type": "code",
   "execution_count": 1,
   "id": "60e3d9d8",
   "metadata": {
    "tags": [
     "remove-cell"
    ]
   },
   "outputs": [],
   "source": [
    "# ruff: noqa\n",
    "import os\n",
    "\n",
    "os.sys.path.append(\"../../../..\")"
   ]
  },
  {
   "cell_type": "code",
   "execution_count": null,
   "id": "edefb299",
   "metadata": {},
   "outputs": [],
   "source": [
    "from feedback_grape.fgrape import optimize_pulse\n",
    "from feedback_grape.utils.operators import (\n",
    "    sigmap,\n",
    "    sigmam,\n",
    "    create,\n",
    "    destroy,\n",
    "    identity,\n",
    "    cosm,\n",
    "    sinm,\n",
    ")\n",
    "from feedback_grape.utils.states import basis, fock\n",
    "from feedback_grape.utils.tensor import tensor\n",
    "import jax.numpy as jnp\n",
    "import jax\n",
    "from jax.scipy.linalg import expm"
   ]
  },
  {
   "cell_type": "markdown",
   "id": "8ecde886",
   "metadata": {},
   "source": [
    "## defining parameterized operations that are repeated num_time_steps times"
   ]
  },
  {
   "cell_type": "markdown",
   "id": "d0dcc21d",
   "metadata": {},
   "source": [
    "takes 9 minutes on GPU instead of 17 on CPU"
   ]
  },
  {
   "cell_type": "code",
   "execution_count": 3,
   "id": "bcc54b13",
   "metadata": {},
   "outputs": [],
   "source": [
    "N_cav = 20"
   ]
  },
  {
   "cell_type": "code",
   "execution_count": 4,
   "id": "1d1d8650",
   "metadata": {},
   "outputs": [],
   "source": [
    "def qubit_unitary(alphas):\n",
    "    alpha_re, alpha_im = alphas\n",
    "    alpha = alpha_re + 1j * alpha_im\n",
    "    return tensor(\n",
    "        identity(N_cav),\n",
    "        expm(-1j * (alpha * sigmap() + alpha.conjugate() * sigmam()) / 2),\n",
    "    )"
   ]
  },
  {
   "cell_type": "code",
   "execution_count": 5,
   "id": "04f55cc7",
   "metadata": {},
   "outputs": [],
   "source": [
    "def qubit_cavity_unitary(betas):\n",
    "    beta_re, beta_im = betas\n",
    "    beta = beta_re + 1j * beta_im\n",
    "    return expm(\n",
    "        -1j\n",
    "        * (\n",
    "            beta * (tensor(destroy(N_cav), sigmap()))\n",
    "            + beta.conjugate() * (tensor(create(N_cav), sigmam()))\n",
    "        )\n",
    "        / 2\n",
    "    )"
   ]
  },
  {
   "cell_type": "markdown",
   "id": "d7d88880",
   "metadata": {},
   "source": [
    "### povm_measure_operator (callable): <br>\n",
    "    - It should take a measurement outcome and list of params as input\n",
    "    - The measurement outcome options are either 1 or -1"
   ]
  },
  {
   "cell_type": "code",
   "execution_count": null,
   "id": "b21389c6",
   "metadata": {},
   "outputs": [],
   "source": [
    "from feedback_grape.utils.operators import create, destroy\n",
    "\n",
    "def povm_measure_operator(measurement_outcome, params):\n",
    "    \"\"\"\n",
    "    POVM for the measurement of the cavity state.\n",
    "    returns Mm ( NOT the POVM element Em = Mm_dag @ Mm ), given measurement_outcome m, gamma and delta\n",
    "    \"\"\"\n",
    "    gamma, delta = params\n",
    "    number_operator = tensor(create(N_cav) @ destroy(N_cav), identity(2))\n",
    "    angle = (gamma * number_operator) + delta / 2\n",
    "    meas_op = jnp.where(\n",
    "        measurement_outcome == 1,\n",
    "        cosm(angle),\n",
    "        sinm(angle),\n",
    "    )\n",
    "    return meas_op"
   ]
  },
  {
   "cell_type": "markdown",
   "id": "d13bbcb6",
   "metadata": {},
   "source": [
    "### defining initial (thermal) state"
   ]
  },
  {
   "cell_type": "code",
   "execution_count": 7,
   "id": "4b80af46",
   "metadata": {},
   "outputs": [],
   "source": [
    "# initial state is a thermal state coupled to a qubit in the ground state?\n",
    "n_average = 1\n",
    "# natural logarithm\n",
    "beta = jnp.log((1 / n_average) + 1)\n",
    "diags = jnp.exp(-beta * jnp.arange(N_cav))\n",
    "normalized_diags = diags / jnp.sum(diags, axis=0)\n",
    "rho_cav = jnp.diag(normalized_diags)"
   ]
  },
  {
   "cell_type": "code",
   "execution_count": 8,
   "id": "c025c141",
   "metadata": {},
   "outputs": [
    {
     "data": {
      "text/plain": [
       "(20, 20)"
      ]
     },
     "execution_count": 8,
     "metadata": {},
     "output_type": "execute_result"
    }
   ],
   "source": [
    "rho_cav.shape"
   ]
  },
  {
   "cell_type": "code",
   "execution_count": 9,
   "id": "0b1f2052",
   "metadata": {},
   "outputs": [],
   "source": [
    "rho0 = tensor(rho_cav, basis(2, 0) @ basis(2, 0).conj().T)"
   ]
  },
  {
   "cell_type": "code",
   "execution_count": 10,
   "id": "237bb0b9",
   "metadata": {},
   "outputs": [
    {
     "data": {
      "text/plain": [
       "Array(0.9479526, dtype=float64)"
      ]
     },
     "execution_count": 10,
     "metadata": {},
     "output_type": "execute_result"
    }
   ],
   "source": [
    "from feedback_grape.utils.povm import (\n",
    "    _probability_of_a_measurement_outcome_given_a_certain_state,\n",
    ")\n",
    "\n",
    "_probability_of_a_measurement_outcome_given_a_certain_state(\n",
    "    rho0, 1, povm_measure_operator, [0.1, -3 * jnp.pi / 2], evo_type=\"density\"\n",
    ")"
   ]
  },
  {
   "cell_type": "markdown",
   "id": "43a8ce4c",
   "metadata": {},
   "source": [
    "### defining target state"
   ]
  },
  {
   "cell_type": "code",
   "execution_count": 11,
   "id": "0b8272be",
   "metadata": {},
   "outputs": [
    {
     "data": {
      "text/plain": [
       "(40, 40)"
      ]
     },
     "execution_count": 11,
     "metadata": {},
     "output_type": "execute_result"
    }
   ],
   "source": [
    "psi_target = tensor(\n",
    "    (fock(N_cav, 1) + fock(N_cav, 2) + fock(N_cav, 3)) / jnp.sqrt(3), basis(2)\n",
    ")\n",
    "psi_target = psi_target / jnp.linalg.norm(psi_target)\n",
    "\n",
    "rho_target = psi_target @ psi_target.conj().T\n",
    "rho_target.shape"
   ]
  },
  {
   "cell_type": "code",
   "execution_count": 12,
   "id": "882b04b4",
   "metadata": {},
   "outputs": [
    {
     "name": "stdout",
     "output_type": "stream",
     "text": [
      "0.14583347926225051\n"
     ]
    }
   ],
   "source": [
    "from feedback_grape.utils.fidelity import fidelity\n",
    "\n",
    "print(fidelity(U_final=rho0, C_target=rho_target, evo_type=\"density\"))"
   ]
  },
  {
   "cell_type": "code",
   "execution_count": 13,
   "id": "6f203ddc",
   "metadata": {},
   "outputs": [
    {
     "name": "stdout",
     "output_type": "stream",
     "text": [
      "Eigenvalues of rho0: [-2.72829216e-16 -6.02376918e-17  0.00000000e+00  0.00000000e+00\n",
      "  0.00000000e+00  0.00000000e+00  0.00000000e+00  0.00000000e+00\n",
      "  0.00000000e+00  0.00000000e+00  0.00000000e+00  0.00000000e+00\n",
      "  0.00000000e+00  0.00000000e+00  0.00000000e+00  0.00000000e+00\n",
      "  0.00000000e+00  0.00000000e+00  0.00000000e+00  0.00000000e+00\n",
      "  0.00000000e+00  0.00000000e+00  0.00000000e+00  0.00000000e+00\n",
      "  0.00000000e+00  0.00000000e+00  0.00000000e+00  0.00000000e+00\n",
      "  0.00000000e+00  0.00000000e+00  0.00000000e+00  0.00000000e+00\n",
      "  0.00000000e+00  0.00000000e+00  0.00000000e+00  0.00000000e+00\n",
      "  0.00000000e+00  0.00000000e+00  0.00000000e+00  1.00000000e+00]\n"
     ]
    }
   ],
   "source": [
    "# Print the eigenvalues of rho0\n",
    "eigenvalues = jnp.linalg.eigvalsh(rho_target)\n",
    "print(\"Eigenvalues of rho0:\", eigenvalues)"
   ]
  },
  {
   "cell_type": "markdown",
   "id": "cd6f7f95",
   "metadata": {},
   "source": [
    "### initialize random params"
   ]
  },
  {
   "cell_type": "code",
   "execution_count": 14,
   "id": "7a2159c8",
   "metadata": {},
   "outputs": [
    {
     "name": "stdout",
     "output_type": "stream",
     "text": [
      "[[-0.5123490775685872, -1.782568231202715]]\n"
     ]
    }
   ],
   "source": [
    "import jax\n",
    "\n",
    "print(\n",
    "    jax.random.uniform(\n",
    "        jax.random.PRNGKey(0),\n",
    "        shape=(1, 2),  # 2 for gamma and delta\n",
    "        minval=-jax.numpy.pi,\n",
    "        maxval=jax.numpy.pi,\n",
    "    ).tolist()\n",
    ")"
   ]
  },
  {
   "cell_type": "code",
   "execution_count": null,
   "id": "fca21f29",
   "metadata": {},
   "outputs": [],
   "source": [
    "import jax\n",
    "from feedback_grape.fgrape import Gate\n",
    "\n",
    "num_time_steps = 5\n",
    "num_of_iterations = 1000\n",
    "learning_rate = 0.02\n",
    "# avg_photon_numer = 2 When testing kitten state\n",
    "# If you provide param_constraints for only one parameter, the current behavior throws an error if you don't provide param_constraints for all parameters for all gates\n",
    "key1, key2, key3 = jax.random.split(jax.random.PRNGKey(42), 3)\n",
    "measure = Gate(\n",
    "    gate=povm_measure_operator,\n",
    "    initial_params=jax.random.uniform(\n",
    "        key1,\n",
    "        shape=(2,),  # 2 for gamma and delta\n",
    "        minval=-2 * jnp.pi,\n",
    "        maxval=2 * jnp.pi,\n",
    "    ),\n",
    "    measurement_flag=True,\n",
    "    # param_constraints=[[0, jnp.pi], [-2*jnp.pi, 2*jnp.pi]],\n",
    ")\n",
    "\n",
    "qub_unitary = Gate(\n",
    "    gate=qubit_unitary,\n",
    "    initial_params=jax.random.uniform(\n",
    "        key2,\n",
    "        shape=(2,),  # 2 for gamma and delta\n",
    "        minval=-2 * jnp.pi,\n",
    "        maxval=2 * jnp.pi,\n",
    "    ),\n",
    "    measurement_flag=False,\n",
    "    # param_constraints=[[-2*jnp.pi, 2*jnp.pi], [-2*jnp.pi, 2*jnp.pi]],\n",
    ")\n",
    "\n",
    "qub_cav = Gate(\n",
    "    gate=qubit_cavity_unitary,\n",
    "    initial_params=jax.random.uniform(\n",
    "        key3,\n",
    "        shape=(2,),  # 2 for gamma and delta\n",
    "        minval=-2 * jnp.pi,\n",
    "        maxval=2 * jnp.pi,\n",
    "    ),\n",
    "    measurement_flag=False,\n",
    "    # param_constraints=[[-jnp.pi, jnp.pi], [-jnp.pi, jnp.pi]],\n",
    ")\n",
    "\n",
    "system_params = [measure, qub_unitary, qub_cav]\n",
    "\n",
    "\n",
    "result = optimize_pulse(\n",
    "    U_0=rho0,\n",
    "    C_target=rho_target,\n",
    "    system_params=system_params,\n",
    "    num_time_steps=num_time_steps,\n",
    "    mode=\"lookup\",\n",
    "    goal=\"fidelity\",\n",
    "    max_iter=num_of_iterations,\n",
    "    convergence_threshold=1e-6,\n",
    "    learning_rate=learning_rate,\n",
    "    evo_type=\"density\",\n",
    "    batch_size=10,\n",
    ")"
   ]
  },
  {
   "cell_type": "code",
   "execution_count": 16,
   "id": "538ba2b6",
   "metadata": {},
   "outputs": [
    {
     "name": "stdout",
     "output_type": "stream",
     "text": [
      "None\n"
     ]
    }
   ],
   "source": [
    "print(result.final_purity)"
   ]
  },
  {
   "cell_type": "code",
   "execution_count": 17,
   "id": "c19912da",
   "metadata": {},
   "outputs": [
    {
     "name": "stdout",
     "output_type": "stream",
     "text": [
      "0.8941443638691023\n"
     ]
    }
   ],
   "source": [
    "print(result.final_fidelity)"
   ]
  },
  {
   "cell_type": "code",
   "execution_count": 18,
   "id": "638cf24c",
   "metadata": {},
   "outputs": [
    {
     "name": "stdout",
     "output_type": "stream",
     "text": [
      "initial fidelity: 0.14583347926225051\n",
      "fidelity of state 0: 0.7367146069217457\n",
      "fidelity of state 1: 0.9812292203578734\n",
      "fidelity of state 2: 0.9392403569468494\n",
      "fidelity of state 3: 0.8706946937983159\n",
      "fidelity of state 4: 0.7367146069217457\n",
      "fidelity of state 5: 0.8359109991350477\n",
      "fidelity of state 6: 0.9812292203578734\n",
      "fidelity of state 7: 0.9392403569468494\n",
      "fidelity of state 8: 0.9392403569468494\n",
      "fidelity of state 9: 0.9812292203578734\n"
     ]
    }
   ],
   "source": [
    "from feedback_grape.utils.fidelity import fidelity\n",
    "\n",
    "print(\n",
    "    \"initial fidelity:\",\n",
    "    fidelity(C_target=rho_target, U_final=rho0, evo_type=\"density\"),\n",
    ")\n",
    "for i, state in enumerate(result.final_state):\n",
    "    print(\n",
    "        f\"fidelity of state {i}:\",\n",
    "        fidelity(C_target=rho_target, U_final=state, evo_type=\"density\"),\n",
    "    )"
   ]
  },
  {
   "cell_type": "code",
   "execution_count": 19,
   "id": "7ba69f49",
   "metadata": {},
   "outputs": [
    {
     "data": {
      "text/plain": [
       "[[Array([[-4.71895968,  0.00786619],\n",
       "         [-4.71895968,  0.00786619],\n",
       "         [-4.71895968,  0.00786619],\n",
       "         [-4.71895968,  0.00786619],\n",
       "         [-4.71895968,  0.00786619],\n",
       "         [-4.71895968,  0.00786619],\n",
       "         [-4.71895968,  0.00786619],\n",
       "         [-4.71895968,  0.00786619],\n",
       "         [-4.71895968,  0.00786619],\n",
       "         [-4.71895968,  0.00786619]], dtype=float64),\n",
       "  Array([[0.26628386, 2.28535749],\n",
       "         [3.08872086, 0.53234291],\n",
       "         [0.26628386, 2.28535749],\n",
       "         [3.08872086, 0.53234291],\n",
       "         [0.26628386, 2.28535749],\n",
       "         [3.08872086, 0.53234291],\n",
       "         [3.08872086, 0.53234291],\n",
       "         [0.26628386, 2.28535749],\n",
       "         [0.26628386, 2.28535749],\n",
       "         [3.08872086, 0.53234291]], dtype=float64),\n",
       "  Array([[-1.89416644,  3.41749821],\n",
       "         [-1.29979158,  1.73414231],\n",
       "         [-1.89416644,  3.41749821],\n",
       "         [-1.29979158,  1.73414231],\n",
       "         [-1.89416644,  3.41749821],\n",
       "         [-1.29979158,  1.73414231],\n",
       "         [-1.29979158,  1.73414231],\n",
       "         [-1.89416644,  3.41749821],\n",
       "         [-1.89416644,  3.41749821],\n",
       "         [-1.29979158,  1.73414231]], dtype=float64)],\n",
       " [Array([[-3.60924456, -0.07239828],\n",
       "         [-4.68314403, -0.01486889],\n",
       "         [-3.60924456, -0.07239828],\n",
       "         [-4.68314403, -0.01486889],\n",
       "         [-3.60924456, -0.07239828],\n",
       "         [-4.68314403, -0.01486889],\n",
       "         [-4.68314403, -0.01486889],\n",
       "         [-3.60924456, -0.07239828],\n",
       "         [-3.60924456, -0.07239828],\n",
       "         [-4.68314403, -0.01486889]], dtype=float64),\n",
       "  Array([[ 2.1473691 ,  2.21304345],\n",
       "         [-0.30635381,  1.66901887],\n",
       "         [ 3.90449777,  0.98776813],\n",
       "         [-0.30635381,  1.66901887],\n",
       "         [ 2.1473691 ,  2.21304345],\n",
       "         [ 1.39624727, -0.60075943],\n",
       "         [-0.30635381,  1.66901887],\n",
       "         [ 3.90449777,  0.98776813],\n",
       "         [ 3.90449777,  0.98776813],\n",
       "         [-0.30635381,  1.66901887]], dtype=float64),\n",
       "  Array([[-0.83808123,  3.17167476],\n",
       "         [-0.59858391,  2.96310449],\n",
       "         [ 1.25391631,  1.32656759],\n",
       "         [-0.59858391,  2.96310449],\n",
       "         [-0.83808123,  3.17167476],\n",
       "         [-3.99132919,  1.30193766],\n",
       "         [-0.59858391,  2.96310449],\n",
       "         [ 1.25391631,  1.32656759],\n",
       "         [ 1.25391631,  1.32656759],\n",
       "         [-0.59858391,  2.96310449]], dtype=float64)],\n",
       " [Array([[-3.64940721,  0.21173652],\n",
       "         [-3.14515715,  0.00606422],\n",
       "         [-3.23455116,  0.12870786],\n",
       "         [-3.14515715,  0.00606422],\n",
       "         [-3.64940721,  0.21173652],\n",
       "         [-3.42943538,  0.10267771],\n",
       "         [-3.14515715,  0.00606422],\n",
       "         [-3.23455116,  0.12870786],\n",
       "         [-3.23455116,  0.12870786],\n",
       "         [-3.14515715,  0.00606422]], dtype=float64),\n",
       "  Array([[ 5.51109819,  0.04704487],\n",
       "         [ 2.03337395, -1.48679694],\n",
       "         [ 1.60798648, -1.16233527],\n",
       "         [ 2.03337395, -1.48679694],\n",
       "         [ 5.51109819,  0.04704487],\n",
       "         [ 4.6051157 , -1.36859866],\n",
       "         [ 2.03337395, -1.48679694],\n",
       "         [ 1.60798648, -1.16233527],\n",
       "         [ 1.60798648, -1.16233527],\n",
       "         [ 2.03337395, -1.48679694]], dtype=float64),\n",
       "  Array([[-2.75642621,  2.09170503],\n",
       "         [-2.20012258,  1.35290118],\n",
       "         [-1.58463033,  2.5611728 ],\n",
       "         [-2.20012258,  1.35290118],\n",
       "         [-2.75642621,  2.09170503],\n",
       "         [-2.02485769,  1.12177755],\n",
       "         [-2.20012258,  1.35290118],\n",
       "         [-1.58463033,  2.5611728 ],\n",
       "         [-1.58463033,  2.5611728 ],\n",
       "         [-2.20012258,  1.35290118]], dtype=float64)],\n",
       " [Array([[-3.77486401, -0.24115725],\n",
       "         [-3.43533507, -0.13550296],\n",
       "         [-3.18194555, -0.31702337],\n",
       "         [-3.43533507, -0.13550296],\n",
       "         [-3.77486401, -0.24115725],\n",
       "         [-3.5371144 , -0.33024333],\n",
       "         [-3.43533507, -0.13550296],\n",
       "         [-3.18194555, -0.31702337],\n",
       "         [-3.18194555, -0.31702337],\n",
       "         [-3.43533507, -0.13550296]], dtype=float64),\n",
       "  Array([[ 3.03225206, -0.77179428],\n",
       "         [ 3.30425825,  0.33512054],\n",
       "         [ 1.23247707,  1.68606875],\n",
       "         [-1.21297531,  1.21323499],\n",
       "         [ 3.03225206, -0.77179428],\n",
       "         [-0.93029387,  1.38264431],\n",
       "         [ 3.30425825,  0.33512054],\n",
       "         [ 1.23247707,  1.68606875],\n",
       "         [ 1.23247707,  1.68606875],\n",
       "         [ 3.30425825,  0.33512054]], dtype=float64),\n",
       "  Array([[-2.13816707,  1.1173166 ],\n",
       "         [ 1.42751797,  1.53168087],\n",
       "         [ 0.89594189,  1.93699789],\n",
       "         [-0.79122848,  1.14670696],\n",
       "         [-2.13816707,  1.1173166 ],\n",
       "         [-0.56927571,  1.18354039],\n",
       "         [ 1.42751797,  1.53168087],\n",
       "         [ 0.89594189,  1.93699789],\n",
       "         [ 0.89594189,  1.93699789],\n",
       "         [ 1.42751797,  1.53168087]], dtype=float64)],\n",
       " [Array([[-3.58653861, -0.11358228],\n",
       "         [-3.14333168,  0.01036081],\n",
       "         [-3.14404345,  0.0273476 ],\n",
       "         [-3.1229354 , -0.0809862 ],\n",
       "         [-3.58653861, -0.11358228],\n",
       "         [-3.12752696, -0.07776473],\n",
       "         [-3.14333168,  0.01036081],\n",
       "         [-3.14404345,  0.0273476 ],\n",
       "         [-3.14404345,  0.0273476 ],\n",
       "         [-3.14333168,  0.01036081]], dtype=float64),\n",
       "  Array([[ 3.42799517, -2.07945361],\n",
       "         [ 1.42785498,  1.69729304],\n",
       "         [ 2.37550911, -0.38965501],\n",
       "         [ 0.94636876, -2.00729388],\n",
       "         [ 3.42799517, -2.07945361],\n",
       "         [ 1.17499011, -2.04009622],\n",
       "         [ 1.42785498,  1.69729304],\n",
       "         [ 2.37550911, -0.38965501],\n",
       "         [ 2.37550911, -0.38965501],\n",
       "         [ 1.42785498,  1.69729304]], dtype=float64),\n",
       "  Array([[-2.09973783,  1.5044049 ],\n",
       "         [-1.90474888, -2.41787987],\n",
       "         [-3.03097848,  0.89911964],\n",
       "         [-1.27517693,  2.73446174],\n",
       "         [-2.09973783,  1.5044049 ],\n",
       "         [-1.8520386 ,  2.37401712],\n",
       "         [-1.90474888, -2.41787987],\n",
       "         [-3.03097848,  0.89911964],\n",
       "         [-3.03097848,  0.89911964],\n",
       "         [-1.90474888, -2.41787987]], dtype=float64)]]"
      ]
     },
     "execution_count": 19,
     "metadata": {},
     "output_type": "execute_result"
    }
   ],
   "source": [
    "result.returned_params"
   ]
  },
  {
   "cell_type": "code",
   "execution_count": 20,
   "id": "050dc029",
   "metadata": {},
   "outputs": [
    {
     "name": "stdout",
     "output_type": "stream",
     "text": [
      "1000\n"
     ]
    }
   ],
   "source": [
    "print(result.iterations)"
   ]
  }
 ],
 "metadata": {
  "kernelspec": {
   "display_name": "Python 3",
   "language": "python",
   "name": "python3"
  },
  "language_info": {
   "codemirror_mode": {
    "name": "ipython",
    "version": 3
   },
   "file_extension": ".py",
   "mimetype": "text/x-python",
   "name": "python",
   "nbconvert_exporter": "python",
   "pygments_lexer": "ipython3",
   "version": "3.11.11"
  }
 },
 "nbformat": 4,
 "nbformat_minor": 5
}

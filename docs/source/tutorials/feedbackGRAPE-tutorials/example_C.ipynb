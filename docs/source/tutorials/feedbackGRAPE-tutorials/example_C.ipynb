{
 "cells": [
  {
   "cell_type": "markdown",
   "id": "430a38f8",
   "metadata": {},
   "source": [
    "# C. State preparation from a thermal state with Jaynes-Cummings controls"
   ]
  },
  {
   "cell_type": "code",
   "execution_count": null,
   "id": "60e3d9d8",
   "metadata": {
    "tags": [
     "remove-cell"
    ]
   },
   "outputs": [],
   "source": [
    "# ruff: noqa\n",
    "import os\n",
    "\n",
    "os.sys.path.append(\"../../../..\")"
   ]
  },
  {
   "cell_type": "code",
   "execution_count": null,
   "id": "edefb299",
   "metadata": {},
   "outputs": [],
   "source": [
    "from feedback_grape.fgrape import optimize_pulse_with_feedback\n",
    "from feedback_grape.utils.operators import (\n",
    "    sigmap,\n",
    "    sigmam,\n",
    "    create,\n",
    "    destroy,\n",
    "    identity,\n",
    "    cosm,\n",
    "    sinm,\n",
    ")\n",
    "from feedback_grape.utils.states import basis, fock\n",
    "from feedback_grape.utils.tensor import tensor\n",
    "import jax.numpy as jnp\n",
    "import jax\n",
    "from jax.scipy.linalg import expm"
   ]
  },
  {
   "cell_type": "markdown",
   "id": "8ecde886",
   "metadata": {},
   "source": [
    "## defining parameterized operations that are repeated num_time_steps times"
   ]
  },
  {
   "cell_type": "markdown",
   "id": "d0dcc21d",
   "metadata": {},
   "source": [
    "takes 9 minutes on GPU instead of 17 on CPU"
   ]
  },
  {
   "cell_type": "code",
   "execution_count": 2,
   "id": "bcc54b13",
   "metadata": {},
   "outputs": [],
   "source": [
    "N_cav = 20"
   ]
  },
  {
   "cell_type": "code",
   "execution_count": 3,
   "id": "1d1d8650",
   "metadata": {},
   "outputs": [],
   "source": [
    "def qubit_unitary(alpha_re, alpha_im):\n",
    "    alpha = alpha_re + 1j * alpha_im\n",
    "    return tensor(\n",
    "        identity(N_cav),\n",
    "        expm(-1j * (alpha * sigmap() + alpha.conjugate() * sigmam()) / 2),\n",
    "    )"
   ]
  },
  {
   "cell_type": "code",
   "execution_count": 4,
   "id": "04f55cc7",
   "metadata": {},
   "outputs": [],
   "source": [
    "def qubit_cavity_unitary(beta_re, beta_im):\n",
    "    beta = beta_re + 1j * beta_im\n",
    "    return expm(\n",
    "        -1j\n",
    "        * (\n",
    "            beta * (tensor(destroy(N_cav), sigmap()))\n",
    "            + beta.conjugate() * (tensor(create(N_cav), sigmam()))\n",
    "        )\n",
    "        / 2\n",
    "    )"
   ]
  },
  {
   "cell_type": "code",
   "execution_count": 6,
   "id": "b21389c6",
   "metadata": {},
   "outputs": [],
   "source": [
    "from feedback_grape.utils.operators import create, destroy\n",
    "\n",
    "\n",
    "def povm_measure_operator(measurement_outcome, gamma, delta):\n",
    "    \"\"\"\n",
    "    POVM for the measurement of the cavity state.\n",
    "    returns Mm ( NOT the POVM element Em = Mm_dag @ Mm ), given measurement_outcome m, gamma and delta\n",
    "    \"\"\"\n",
    "    number_operator = tensor(create(N_cav) @ destroy(N_cav), identity(2))\n",
    "    angle = (gamma * number_operator) + delta / 2\n",
    "    meas_op = jnp.where(\n",
    "        measurement_outcome == 1,\n",
    "        cosm(angle),\n",
    "        sinm(angle),\n",
    "    )\n",
    "    return meas_op"
   ]
  },
  {
   "cell_type": "markdown",
   "id": "d13bbcb6",
   "metadata": {},
   "source": [
    "### defining initial (thermal) state"
   ]
  },
  {
   "cell_type": "code",
   "execution_count": 7,
   "id": "4b80af46",
   "metadata": {},
   "outputs": [],
   "source": [
    "# initial state is a thermal state coupled to a qubit in the ground state?\n",
    "n_average = 1\n",
    "# natural logarithm\n",
    "beta = jnp.log((1 / n_average) + 1)\n",
    "diags = jnp.exp(-beta * jnp.arange(N_cav))\n",
    "normalized_diags = diags / jnp.sum(diags, axis=0)\n",
    "rho_cav = jnp.diag(normalized_diags)"
   ]
  },
  {
   "cell_type": "code",
   "execution_count": 8,
   "id": "c025c141",
   "metadata": {},
   "outputs": [
    {
     "data": {
      "text/plain": [
       "(20, 20)"
      ]
     },
     "execution_count": 8,
     "metadata": {},
     "output_type": "execute_result"
    }
   ],
   "source": [
    "rho_cav.shape"
   ]
  },
  {
   "cell_type": "code",
   "execution_count": 9,
   "id": "0b1f2052",
   "metadata": {},
   "outputs": [],
   "source": [
    "rho0 = tensor(rho_cav, basis(2, 0) @ basis(2, 0).conj().T)"
   ]
  },
  {
   "cell_type": "code",
   "execution_count": 10,
   "id": "237bb0b9",
   "metadata": {},
   "outputs": [
    {
     "data": {
      "text/plain": [
       "Array(0.9479526, dtype=float64)"
      ]
     },
     "execution_count": 10,
     "metadata": {},
     "output_type": "execute_result"
    }
   ],
   "source": [
    "from feedback_grape.utils.povm import (\n",
    "    _probability_of_a_measurement_outcome_given_a_certain_state,\n",
    ")\n",
    "\n",
    "_probability_of_a_measurement_outcome_given_a_certain_state(\n",
    "    rho0, 1, povm_measure_operator, [0.1, -3 * jnp.pi / 2]\n",
    ")"
   ]
  },
  {
   "cell_type": "markdown",
   "id": "43a8ce4c",
   "metadata": {},
   "source": [
    "### defining target state"
   ]
  },
  {
   "cell_type": "code",
   "execution_count": 11,
   "id": "0b8272be",
   "metadata": {},
   "outputs": [
    {
     "data": {
      "text/plain": [
       "(40, 40)"
      ]
     },
     "execution_count": 11,
     "metadata": {},
     "output_type": "execute_result"
    }
   ],
   "source": [
    "psi_target = tensor(\n",
    "    (fock(N_cav, 1) + fock(N_cav, 2) + fock(N_cav, 3)) / jnp.sqrt(3), basis(2)\n",
    ")\n",
    "psi_target = psi_target / jnp.linalg.norm(psi_target)\n",
    "\n",
    "rho_target = psi_target @ psi_target.conj().T\n",
    "rho_target.shape"
   ]
  },
  {
   "cell_type": "code",
   "execution_count": 12,
   "id": "882b04b4",
   "metadata": {},
   "outputs": [
    {
     "name": "stdout",
     "output_type": "stream",
     "text": [
      "0.38188149897874146\n"
     ]
    }
   ],
   "source": [
    "from feedback_grape.utils.fidelity import fidelity\n",
    "\n",
    "print(fidelity(U_final=rho0, C_target=rho_target, evo_type=\"density\"))"
   ]
  },
  {
   "cell_type": "code",
   "execution_count": 13,
   "id": "6f203ddc",
   "metadata": {},
   "outputs": [
    {
     "name": "stdout",
     "output_type": "stream",
     "text": [
      "Eigenvalues of rho0: [-2.72829216e-16 -6.02376918e-17  0.00000000e+00  0.00000000e+00\n",
      "  0.00000000e+00  0.00000000e+00  0.00000000e+00  0.00000000e+00\n",
      "  0.00000000e+00  0.00000000e+00  0.00000000e+00  0.00000000e+00\n",
      "  0.00000000e+00  0.00000000e+00  0.00000000e+00  0.00000000e+00\n",
      "  0.00000000e+00  0.00000000e+00  0.00000000e+00  0.00000000e+00\n",
      "  0.00000000e+00  0.00000000e+00  0.00000000e+00  0.00000000e+00\n",
      "  0.00000000e+00  0.00000000e+00  0.00000000e+00  0.00000000e+00\n",
      "  0.00000000e+00  0.00000000e+00  0.00000000e+00  0.00000000e+00\n",
      "  0.00000000e+00  0.00000000e+00  0.00000000e+00  0.00000000e+00\n",
      "  0.00000000e+00  0.00000000e+00  0.00000000e+00  1.00000000e+00]\n"
     ]
    }
   ],
   "source": [
    "# Print the eigenvalues of rho0\n",
    "eigenvalues = jnp.linalg.eigvalsh(rho_target)\n",
    "print(\"Eigenvalues of rho0:\", eigenvalues)"
   ]
  },
  {
   "cell_type": "markdown",
   "id": "cd6f7f95",
   "metadata": {},
   "source": [
    "### initialize random params"
   ]
  },
  {
   "cell_type": "code",
   "execution_count": 14,
   "id": "7a2159c8",
   "metadata": {},
   "outputs": [
    {
     "name": "stdout",
     "output_type": "stream",
     "text": [
      "[[-0.5123490775685872, -1.782568231202715]]\n"
     ]
    }
   ],
   "source": [
    "import jax\n",
    "\n",
    "print(\n",
    "    jax.random.uniform(\n",
    "        jax.random.PRNGKey(0),\n",
    "        shape=(1, 2),  # 2 for gamma and delta\n",
    "        minval=-jax.numpy.pi,\n",
    "        maxval=jax.numpy.pi,\n",
    "    ).tolist()\n",
    ")"
   ]
  },
  {
   "cell_type": "code",
   "execution_count": 15,
   "id": "fca21f29",
   "metadata": {},
   "outputs": [
    {
     "name": "stderr",
     "output_type": "stream",
     "text": [
      "2025-06-23 09:47:30.148466: E external/xla/xla/service/slow_operation_alarm.cc:73] \n",
      "********************************\n",
      "[Compiling module jit_step] Very slow compile? If you want to file a bug, run with envvar XLA_FLAGS=--xla_dump_to=/tmp/foo and attach the results.\n",
      "********************************\n",
      "2025-06-23 09:47:41.849567: E external/xla/xla/service/slow_operation_alarm.cc:140] The operation took 2m11.704962s\n",
      "\n",
      "********************************\n",
      "[Compiling module jit_step] Very slow compile? If you want to file a bug, run with envvar XLA_FLAGS=--xla_dump_to=/tmp/foo and attach the results.\n",
      "********************************\n"
     ]
    },
    {
     "name": "stdout",
     "output_type": "stream",
     "text": [
      "Iteration 0, Loss: 0.438212\n",
      "Iteration 10, Loss: 0.601029\n",
      "Iteration 20, Loss: 0.730168\n",
      "Iteration 30, Loss: 0.541349\n",
      "Iteration 40, Loss: 1.081585\n",
      "Iteration 50, Loss: 0.899316\n",
      "Iteration 60, Loss: 0.953659\n",
      "Iteration 70, Loss: 0.962733\n",
      "Iteration 80, Loss: 0.944012\n",
      "Iteration 90, Loss: 1.133018\n",
      "Iteration 100, Loss: 1.068808\n",
      "Iteration 110, Loss: 1.143562\n",
      "Iteration 120, Loss: 1.074213\n",
      "Iteration 130, Loss: 0.971917\n",
      "Iteration 140, Loss: 0.885523\n",
      "Iteration 150, Loss: 0.831739\n",
      "Iteration 160, Loss: 0.730409\n",
      "Iteration 170, Loss: 1.131186\n",
      "Iteration 180, Loss: 1.251616\n",
      "Iteration 190, Loss: 0.994662\n",
      "Iteration 200, Loss: 1.069638\n",
      "Iteration 210, Loss: 1.131658\n",
      "Iteration 220, Loss: 0.991689\n",
      "Iteration 230, Loss: 1.320514\n",
      "Iteration 240, Loss: 1.187055\n",
      "Iteration 250, Loss: 1.000081\n",
      "Iteration 260, Loss: 0.961800\n",
      "Iteration 270, Loss: 1.082210\n",
      "Iteration 280, Loss: 1.115361\n",
      "Iteration 290, Loss: 0.764079\n",
      "Iteration 300, Loss: 1.284933\n",
      "Iteration 310, Loss: 0.906655\n",
      "Iteration 320, Loss: 0.832359\n",
      "Iteration 330, Loss: 0.975599\n",
      "Iteration 340, Loss: 1.199766\n",
      "Iteration 350, Loss: 1.027619\n",
      "Iteration 360, Loss: 0.817374\n",
      "Iteration 370, Loss: 0.703897\n",
      "Iteration 380, Loss: 0.588761\n",
      "Iteration 390, Loss: 0.429328\n",
      "Iteration 400, Loss: 0.586939\n",
      "Iteration 410, Loss: 0.521117\n",
      "Iteration 420, Loss: 0.846752\n",
      "Iteration 430, Loss: 0.779920\n",
      "Iteration 440, Loss: 0.666104\n",
      "Iteration 450, Loss: 1.233687\n",
      "Iteration 460, Loss: 0.648343\n",
      "Iteration 470, Loss: 0.820183\n",
      "Iteration 480, Loss: 1.049475\n",
      "Iteration 490, Loss: 0.868993\n",
      "Iteration 500, Loss: 1.070307\n",
      "Iteration 510, Loss: 0.900655\n",
      "Iteration 520, Loss: 1.228925\n",
      "Iteration 530, Loss: 0.716599\n",
      "Iteration 540, Loss: 0.979077\n",
      "Iteration 550, Loss: 0.840853\n",
      "Iteration 560, Loss: 1.080322\n",
      "Iteration 570, Loss: 1.051557\n",
      "Iteration 580, Loss: 1.141042\n",
      "Iteration 590, Loss: 0.850934\n",
      "Iteration 600, Loss: 0.639019\n",
      "Iteration 610, Loss: 0.659492\n",
      "Iteration 620, Loss: 0.719424\n",
      "Iteration 630, Loss: 0.815777\n",
      "Iteration 640, Loss: 0.779771\n",
      "Iteration 650, Loss: 0.976413\n",
      "Iteration 660, Loss: 1.008145\n",
      "Iteration 670, Loss: 0.849808\n",
      "Iteration 680, Loss: 0.930178\n",
      "Iteration 690, Loss: 1.008279\n",
      "Iteration 700, Loss: 0.859663\n",
      "Iteration 710, Loss: 1.109861\n",
      "Iteration 720, Loss: 0.665793\n",
      "Iteration 730, Loss: 0.389752\n",
      "Iteration 740, Loss: 0.634173\n",
      "Iteration 750, Loss: 0.596970\n",
      "Iteration 760, Loss: 0.632975\n",
      "Iteration 770, Loss: 0.682380\n",
      "Iteration 780, Loss: 0.577854\n",
      "Iteration 790, Loss: 0.841343\n",
      "Iteration 800, Loss: 0.735084\n",
      "Iteration 810, Loss: 0.857198\n",
      "Iteration 820, Loss: 0.570375\n",
      "Iteration 830, Loss: 0.832113\n",
      "Iteration 840, Loss: 0.645845\n",
      "Iteration 850, Loss: 0.748388\n",
      "Iteration 860, Loss: 0.727764\n",
      "Iteration 870, Loss: 0.582335\n",
      "Iteration 880, Loss: 0.486603\n",
      "Iteration 890, Loss: 0.312951\n",
      "Iteration 900, Loss: 0.667503\n",
      "Iteration 910, Loss: 0.763204\n",
      "Iteration 920, Loss: 1.078816\n",
      "Iteration 930, Loss: 1.038633\n",
      "Iteration 940, Loss: 0.935228\n",
      "Iteration 950, Loss: 0.908676\n",
      "Iteration 960, Loss: 1.064871\n",
      "Iteration 970, Loss: 0.437563\n",
      "Iteration 980, Loss: 0.942725\n",
      "Iteration 990, Loss: 0.869939\n"
     ]
    }
   ],
   "source": [
    "import jax\n",
    "\n",
    "num_time_steps = 5\n",
    "num_of_iterations = 1000\n",
    "learning_rate = 0.05\n",
    "# avg_photon_numer = 2 When testing kitten state\n",
    "# TODO: remove this tolist thing\n",
    "# TODO: see if one should allow providing gate parameters for only one gate --> I don't think so\n",
    "key = jax.random.PRNGKey(0)\n",
    "measure = {\n",
    "    \"gate\": povm_measure_operator,\n",
    "    \"initial_params\": jax.random.uniform(\n",
    "        key,\n",
    "        shape=(1, 2),  # 2 for gamma and delta\n",
    "        minval=-jnp.pi,\n",
    "        maxval=jnp.pi,\n",
    "    )[0].tolist(),\n",
    "    \"measurement_flag\": True,\n",
    "    # \"param_constraints\": [[0, jnp.pi], [-2*jnp.pi, 2*jnp.pi]],\n",
    "}\n",
    "\n",
    "qub_unitary = {\n",
    "    \"gate\": qubit_unitary,\n",
    "    \"initial_params\": jax.random.uniform(\n",
    "        key,\n",
    "        shape=(1, 2),  # 2 for gamma and delta\n",
    "        minval=-jnp.pi,\n",
    "        maxval=jnp.pi,\n",
    "    )[0].tolist(),\n",
    "    \"measurement_flag\": False,\n",
    "    # \"param_constraints\": [[-2*jnp.pi, 2*jnp.pi], [-2*jnp.pi, 2*jnp.pi]],\n",
    "}\n",
    "\n",
    "qub_cav = {\n",
    "    \"gate\": qubit_cavity_unitary,\n",
    "    \"initial_params\": jax.random.uniform(\n",
    "        key,\n",
    "        shape=(1, 2),  # 2 for gamma and delta\n",
    "        minval=-jnp.pi,\n",
    "        maxval=jnp.pi,\n",
    "    )[0].tolist(),\n",
    "    \"measurement_flag\": False,\n",
    "    # \"param_constraints\": [[-jnp.pi, jnp.pi], [-jnp.pi, jnp.pi]],\n",
    "}\n",
    "\n",
    "system_params = [measure, qub_unitary, qub_cav]\n",
    "\n",
    "\n",
    "result = optimize_pulse_with_feedback(\n",
    "    U_0=rho0,\n",
    "    C_target=rho_target,\n",
    "    system_params=system_params,\n",
    "    num_time_steps=num_time_steps,\n",
    "    mode=\"lookup\",\n",
    "    goal=\"fidelity\",\n",
    "    max_iter=num_of_iterations,\n",
    "    convergence_threshold=1e-6,\n",
    "    learning_rate=learning_rate,\n",
    "    evo_type=\"density\",\n",
    "    batch_size=10,\n",
    ")"
   ]
  },
  {
   "cell_type": "code",
   "execution_count": 17,
   "id": "538ba2b6",
   "metadata": {},
   "outputs": [
    {
     "name": "stdout",
     "output_type": "stream",
     "text": [
      "None\n"
     ]
    }
   ],
   "source": [
    "print(result.final_purity)"
   ]
  },
  {
   "cell_type": "code",
   "execution_count": 18,
   "id": "c19912da",
   "metadata": {},
   "outputs": [
    {
     "name": "stdout",
     "output_type": "stream",
     "text": [
      "0.7729112294290601\n"
     ]
    }
   ],
   "source": [
    "# 0.602319331001811\n",
    "print(result.final_fidelity)"
   ]
  },
  {
   "cell_type": "code",
   "execution_count": 19,
   "id": "638cf24c",
   "metadata": {},
   "outputs": [
    {
     "name": "stdout",
     "output_type": "stream",
     "text": [
      "initial fidelity: 0.38188149897874146\n",
      "fidelity of state 0: 0.5755941603557482\n",
      "fidelity of state 1: 0.8472061276885658\n",
      "fidelity of state 2: 0.767798931270149\n",
      "fidelity of state 3: 0.7803519518776776\n",
      "fidelity of state 4: 0.8146532291142413\n",
      "fidelity of state 5: 0.7803519518776776\n",
      "fidelity of state 6: 0.8472061276885658\n",
      "fidelity of state 7: 0.767798931270149\n",
      "fidelity of state 8: 0.767798931270149\n",
      "fidelity of state 9: 0.7803519518776776\n"
     ]
    }
   ],
   "source": [
    "from feedback_grape.utils.fidelity import fidelity\n",
    "\n",
    "print(\n",
    "    \"initial fidelity:\",\n",
    "    fidelity(C_target=rho_target, U_final=rho0, evo_type=\"density\"),\n",
    ")\n",
    "for i, state in enumerate(result.final_state):\n",
    "    print(\n",
    "        f\"fidelity of state {i}:\",\n",
    "        fidelity(C_target=rho_target, U_final=state, evo_type=\"density\"),\n",
    "    )"
   ]
  },
  {
   "cell_type": "code",
   "execution_count": 22,
   "id": "7ba69f49",
   "metadata": {},
   "outputs": [
    {
     "data": {
      "text/plain": [
       "[[Array([[-0.91692414, -1.57937911],\n",
       "         [-0.91692414, -1.57937911],\n",
       "         [-0.91692414, -1.57937911],\n",
       "         [-0.91692414, -1.57937911],\n",
       "         [-0.91692414, -1.57937911],\n",
       "         [-0.91692414, -1.57937911],\n",
       "         [-0.91692414, -1.57937911],\n",
       "         [-0.91692414, -1.57937911],\n",
       "         [-0.91692414, -1.57937911],\n",
       "         [-0.91692414, -1.57937911]], dtype=float64),\n",
       "  Array([[ 0.68042511, -3.90795148],\n",
       "         [ 0.03191816, -1.75404934],\n",
       "         [ 0.68042511, -3.90795148],\n",
       "         [ 0.03191816, -1.75404934],\n",
       "         [ 0.68042511, -3.90795148],\n",
       "         [ 0.03191816, -1.75404934],\n",
       "         [ 0.03191816, -1.75404934],\n",
       "         [ 0.68042511, -3.90795148],\n",
       "         [ 0.68042511, -3.90795148],\n",
       "         [ 0.03191816, -1.75404934]], dtype=float64),\n",
       "  Array([[-0.21359896, -1.48232369],\n",
       "         [-0.06484542, -2.82110531],\n",
       "         [-0.21359896, -1.48232369],\n",
       "         [-0.06484542, -2.82110531],\n",
       "         [-0.21359896, -1.48232369],\n",
       "         [-0.06484542, -2.82110531],\n",
       "         [-0.06484542, -2.82110531],\n",
       "         [-0.21359896, -1.48232369],\n",
       "         [-0.21359896, -1.48232369],\n",
       "         [-0.06484542, -2.82110531]], dtype=float64)],\n",
       " [Array([[-1.47446526, -1.1039136 ],\n",
       "         [-0.76905561, -1.5402756 ],\n",
       "         [-1.47446526, -1.1039136 ],\n",
       "         [-0.76905561, -1.5402756 ],\n",
       "         [-1.47446526, -1.1039136 ],\n",
       "         [-0.76905561, -1.5402756 ],\n",
       "         [-0.76905561, -1.5402756 ],\n",
       "         [-1.47446526, -1.1039136 ],\n",
       "         [-1.47446526, -1.1039136 ],\n",
       "         [-0.76905561, -1.5402756 ]], dtype=float64),\n",
       "  Array([[-0.34323657,  0.52392861],\n",
       "         [ 3.29113447, -0.05401933],\n",
       "         [-0.51011992, -1.18823013],\n",
       "         [-0.26776948, -0.6404829 ],\n",
       "         [-0.34323657,  0.52392861],\n",
       "         [-0.26776948, -0.6404829 ],\n",
       "         [ 3.29113447, -0.05401933],\n",
       "         [-0.51011992, -1.18823013],\n",
       "         [-0.51011992, -1.18823013],\n",
       "         [-0.26776948, -0.6404829 ]], dtype=float64),\n",
       "  Array([[ 0.66344151, -2.12811321],\n",
       "         [-0.31401645, -2.31034005],\n",
       "         [-1.31292827, -3.03346913],\n",
       "         [ 0.92754035, -1.5090427 ],\n",
       "         [ 0.66344151, -2.12811321],\n",
       "         [ 0.92754035, -1.5090427 ],\n",
       "         [-0.31401645, -2.31034005],\n",
       "         [-1.31292827, -3.03346913],\n",
       "         [-1.31292827, -3.03346913],\n",
       "         [ 0.92754035, -1.5090427 ]], dtype=float64)],\n",
       " [Array([[-6.64183642e-01, -2.69418941e+00],\n",
       "         [-5.37872755e-01, -2.03104746e+00],\n",
       "         [-7.11849095e-01, -6.01958098e-01],\n",
       "         [ 1.14113071e-12, -2.51327412e+00],\n",
       "         [-6.64183642e-01, -2.69418941e+00],\n",
       "         [ 1.14113071e-12, -2.51327412e+00],\n",
       "         [-5.37872755e-01, -2.03104746e+00],\n",
       "         [-7.11849095e-01, -6.01958098e-01],\n",
       "         [-7.11849095e-01, -6.01958098e-01],\n",
       "         [ 1.14113071e-12, -2.51327412e+00]], dtype=float64),\n",
       "  Array([[ 0.08178445, -1.83152201],\n",
       "         [-0.28367685, -2.78533459],\n",
       "         [-3.64297016, -2.65181358],\n",
       "         [ 0.82305766, -2.62956515],\n",
       "         [-1.54911389, -1.44251974],\n",
       "         [ 0.82305766, -2.62956515],\n",
       "         [-0.28367685, -2.78533459],\n",
       "         [-3.64297016, -2.65181358],\n",
       "         [-3.64297016, -2.65181358],\n",
       "         [ 0.82305766, -2.62956515]], dtype=float64),\n",
       "  Array([[-0.06312303, -2.83265267],\n",
       "         [-0.06989356, -0.54533906],\n",
       "         [-0.73035319, -0.41608817],\n",
       "         [-0.19970828, -2.5588314 ],\n",
       "         [ 2.56431112, -1.8468982 ],\n",
       "         [-0.19970828, -2.5588314 ],\n",
       "         [-0.06989356, -0.54533906],\n",
       "         [-0.73035319, -0.41608817],\n",
       "         [-0.73035319, -0.41608817],\n",
       "         [-0.19970828, -2.5588314 ]], dtype=float64)],\n",
       " [Array([[-6.85215535e-01, -6.57581855e-01],\n",
       "         [ 1.99273312e-03, -1.10182208e+00],\n",
       "         [ 6.13138739e-01, -2.40516031e+00],\n",
       "         [-9.51514923e-10, -2.19911486e+00],\n",
       "         [ 7.91520509e-08, -1.57081433e+00],\n",
       "         [-9.51514923e-10, -2.19911486e+00],\n",
       "         [ 1.99273312e-03, -1.10182208e+00],\n",
       "         [ 6.13138739e-01, -2.40516031e+00],\n",
       "         [ 6.13138739e-01, -2.40516031e+00],\n",
       "         [-9.51514923e-10, -2.19911486e+00]], dtype=float64),\n",
       "  Array([[ 2.52810373, -2.82769434],\n",
       "         [-0.65689081, -1.47916845],\n",
       "         [-1.98483207, -4.09432933],\n",
       "         [-0.67875516, -2.91266036],\n",
       "         [ 0.16878518,  0.27823356],\n",
       "         [-0.67875516, -2.91266036],\n",
       "         [-0.65689081, -1.47916845],\n",
       "         [-1.98483207, -4.09432933],\n",
       "         [-1.98483207, -4.09432933],\n",
       "         [-0.67875516, -2.91266036]], dtype=float64),\n",
       "  Array([[-0.79089373, -2.23611   ],\n",
       "         [-0.93484161, -1.39182302],\n",
       "         [-1.22887853, -1.48365786],\n",
       "         [-0.44145954, -3.17504549],\n",
       "         [ 1.44063383,  0.55261025],\n",
       "         [-0.44145954, -3.17504549],\n",
       "         [-0.93484161, -1.39182302],\n",
       "         [-1.22887853, -1.48365786],\n",
       "         [-1.22887853, -1.48365786],\n",
       "         [-0.44145954, -3.17504549]], dtype=float64)],\n",
       " [Array([[-1.12998095e+00, -1.22530690e+00],\n",
       "         [-1.79413634e-07, -1.57079685e+00],\n",
       "         [ 2.86309982e-04, -1.88729091e+00],\n",
       "         [-1.07408071e-01, -1.43092656e+00],\n",
       "         [-3.41625864e-05, -2.67030766e+00],\n",
       "         [-1.07408071e-01, -1.43092656e+00],\n",
       "         [-1.79413634e-07, -1.57079685e+00],\n",
       "         [ 2.86309982e-04, -1.88729091e+00],\n",
       "         [ 2.86309982e-04, -1.88729091e+00],\n",
       "         [-1.07408071e-01, -1.43092656e+00]], dtype=float64),\n",
       "  Array([[ 0.58357814,  0.14625824],\n",
       "         [-2.73400542, -1.5043868 ],\n",
       "         [-0.61060806, -1.5316768 ],\n",
       "         [-0.44062237, -2.2939274 ],\n",
       "         [-1.14049968, -3.33451005],\n",
       "         [-0.44062237, -2.2939274 ],\n",
       "         [-2.73400542, -1.5043868 ],\n",
       "         [-0.61060806, -1.5316768 ],\n",
       "         [-0.61060806, -1.5316768 ],\n",
       "         [-0.44062237, -2.2939274 ]], dtype=float64),\n",
       "  Array([[-0.28889066, -3.61764466],\n",
       "         [-0.26812833,  0.06313523],\n",
       "         [-0.29332761, -0.42247675],\n",
       "         [-0.75938338, -3.27631909],\n",
       "         [-0.52617296, -2.59740377],\n",
       "         [-0.75938338, -3.27631909],\n",
       "         [-0.26812833,  0.06313523],\n",
       "         [-0.29332761, -0.42247675],\n",
       "         [-0.29332761, -0.42247675],\n",
       "         [-0.75938338, -3.27631909]], dtype=float64)]]"
      ]
     },
     "execution_count": 22,
     "metadata": {},
     "output_type": "execute_result"
    }
   ],
   "source": [
    "result.returned_params"
   ]
  },
  {
   "cell_type": "code",
   "execution_count": 23,
   "id": "050dc029",
   "metadata": {},
   "outputs": [
    {
     "name": "stdout",
     "output_type": "stream",
     "text": [
      "1000\n"
     ]
    }
   ],
   "source": [
    "print(result.iterations)"
   ]
  }
 ],
 "metadata": {
  "kernelspec": {
   "display_name": "Python 3",
   "language": "python",
   "name": "python3"
  },
  "language_info": {
   "codemirror_mode": {
    "name": "ipython",
    "version": 3
   },
   "file_extension": ".py",
   "mimetype": "text/x-python",
   "name": "python",
   "nbconvert_exporter": "python",
   "pygments_lexer": "ipython3",
   "version": "3.11.11"
  }
 },
 "nbformat": 4,
 "nbformat_minor": 5
}

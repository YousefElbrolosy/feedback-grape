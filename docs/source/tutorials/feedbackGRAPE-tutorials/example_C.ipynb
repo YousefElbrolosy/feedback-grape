{
 "cells": [
  {
   "cell_type": "markdown",
   "id": "430a38f8",
   "metadata": {},
   "source": [
    "# C. State preparation from a thermal state with Jaynes-Cummings controls"
   ]
  },
  {
   "cell_type": "code",
   "execution_count": 1,
   "id": "60e3d9d8",
   "metadata": {
    "tags": [
     "remove-cell"
    ]
   },
   "outputs": [],
   "source": [
    "# ruff: noqa\n",
    "import os\n",
    "\n",
    "os.sys.path.append(\"../../../..\")"
   ]
  },
  {
   "cell_type": "code",
   "execution_count": 2,
   "id": "edefb299",
   "metadata": {},
   "outputs": [],
   "source": [
    "from feedback_grape.fgrape import optimize_pulse_with_feedback\n",
    "from feedback_grape.utils.operators import (\n",
    "    sigmap,\n",
    "    sigmam,\n",
    "    create,\n",
    "    destroy,\n",
    "    identity,\n",
    "    cosm,\n",
    "    sinm,\n",
    ")\n",
    "from feedback_grape.utils.states import basis, fock\n",
    "from feedback_grape.utils.tensor import tensor\n",
    "import jax.numpy as jnp\n",
    "import jax\n",
    "from jax.scipy.linalg import expm"
   ]
  },
  {
   "cell_type": "markdown",
   "id": "8ecde886",
   "metadata": {},
   "source": [
    "## defining parameterized operations that are repeated num_time_steps times"
   ]
  },
  {
   "cell_type": "markdown",
   "id": "d0dcc21d",
   "metadata": {},
   "source": [
    "takes 9 minutes on GPU instead of 17 on CPU"
   ]
  },
  {
   "cell_type": "code",
   "execution_count": 3,
   "id": "bcc54b13",
   "metadata": {},
   "outputs": [],
   "source": [
    "N_cav = 20"
   ]
  },
  {
   "cell_type": "code",
   "execution_count": 4,
   "id": "1d1d8650",
   "metadata": {},
   "outputs": [],
   "source": [
    "def qubit_unitary(alphas):\n",
    "    alpha_re, alpha_im = alphas\n",
    "    alpha = alpha_re + 1j * alpha_im\n",
    "    return tensor(\n",
    "        identity(N_cav),\n",
    "        expm(-1j * (alpha * sigmap() + alpha.conjugate() * sigmam()) / 2),\n",
    "    )"
   ]
  },
  {
   "cell_type": "code",
   "execution_count": 5,
   "id": "04f55cc7",
   "metadata": {},
   "outputs": [],
   "source": [
    "def qubit_cavity_unitary(betas):\n",
    "    beta_re, beta_im = betas\n",
    "    beta = beta_re + 1j * beta_im\n",
    "    return expm(\n",
    "        -1j\n",
    "        * (\n",
    "            beta * (tensor(destroy(N_cav), sigmap()))\n",
    "            + beta.conjugate() * (tensor(create(N_cav), sigmam()))\n",
    "        )\n",
    "        / 2\n",
    "    )"
   ]
  },
  {
   "cell_type": "code",
   "execution_count": 6,
   "id": "b21389c6",
   "metadata": {},
   "outputs": [],
   "source": [
    "from feedback_grape.utils.operators import create, destroy\n",
    "\n",
    "\n",
    "def povm_measure_operator(measurement_outcome, params):\n",
    "    \"\"\"\n",
    "    POVM for the measurement of the cavity state.\n",
    "    returns Mm ( NOT the POVM element Em = Mm_dag @ Mm ), given measurement_outcome m, gamma and delta\n",
    "    \"\"\"\n",
    "    gamma, delta = params\n",
    "    number_operator = tensor(create(N_cav) @ destroy(N_cav), identity(2))\n",
    "    angle = (gamma * number_operator) + delta / 2\n",
    "    meas_op = jnp.where(\n",
    "        measurement_outcome == 1,\n",
    "        cosm(angle),\n",
    "        sinm(angle),\n",
    "    )\n",
    "    return meas_op"
   ]
  },
  {
   "cell_type": "markdown",
   "id": "d13bbcb6",
   "metadata": {},
   "source": [
    "### defining initial (thermal) state"
   ]
  },
  {
   "cell_type": "code",
   "execution_count": 7,
   "id": "4b80af46",
   "metadata": {},
   "outputs": [],
   "source": [
    "# initial state is a thermal state coupled to a qubit in the ground state?\n",
    "n_average = 1\n",
    "# natural logarithm\n",
    "beta = jnp.log((1 / n_average) + 1)\n",
    "diags = jnp.exp(-beta * jnp.arange(N_cav))\n",
    "normalized_diags = diags / jnp.sum(diags, axis=0)\n",
    "rho_cav = jnp.diag(normalized_diags)"
   ]
  },
  {
   "cell_type": "code",
   "execution_count": 8,
   "id": "c025c141",
   "metadata": {},
   "outputs": [
    {
     "data": {
      "text/plain": [
       "(20, 20)"
      ]
     },
     "execution_count": 8,
     "metadata": {},
     "output_type": "execute_result"
    }
   ],
   "source": [
    "rho_cav.shape"
   ]
  },
  {
   "cell_type": "code",
   "execution_count": 9,
   "id": "0b1f2052",
   "metadata": {},
   "outputs": [],
   "source": [
    "rho0 = tensor(rho_cav, basis(2, 0) @ basis(2, 0).conj().T)"
   ]
  },
  {
   "cell_type": "code",
   "execution_count": 10,
   "id": "237bb0b9",
   "metadata": {},
   "outputs": [
    {
     "data": {
      "text/plain": [
       "Array(0.9479526, dtype=float64)"
      ]
     },
     "execution_count": 10,
     "metadata": {},
     "output_type": "execute_result"
    }
   ],
   "source": [
    "from feedback_grape.utils.povm import (\n",
    "    _probability_of_a_measurement_outcome_given_a_certain_state,\n",
    ")\n",
    "\n",
    "_probability_of_a_measurement_outcome_given_a_certain_state(\n",
    "    rho0, 1, povm_measure_operator, [0.1, -3 * jnp.pi / 2]\n",
    ")"
   ]
  },
  {
   "cell_type": "markdown",
   "id": "43a8ce4c",
   "metadata": {},
   "source": [
    "### defining target state"
   ]
  },
  {
   "cell_type": "code",
   "execution_count": 11,
   "id": "0b8272be",
   "metadata": {},
   "outputs": [
    {
     "data": {
      "text/plain": [
       "(40, 40)"
      ]
     },
     "execution_count": 11,
     "metadata": {},
     "output_type": "execute_result"
    }
   ],
   "source": [
    "psi_target = tensor(\n",
    "    (fock(N_cav, 1) + fock(N_cav, 2) + fock(N_cav, 3)) / jnp.sqrt(3), basis(2)\n",
    ")\n",
    "psi_target = psi_target / jnp.linalg.norm(psi_target)\n",
    "\n",
    "rho_target = psi_target @ psi_target.conj().T\n",
    "rho_target.shape"
   ]
  },
  {
   "cell_type": "code",
   "execution_count": 12,
   "id": "882b04b4",
   "metadata": {},
   "outputs": [
    {
     "name": "stdout",
     "output_type": "stream",
     "text": [
      "0.38188149897874146\n"
     ]
    }
   ],
   "source": [
    "from feedback_grape.utils.fidelity import fidelity\n",
    "\n",
    "print(fidelity(U_final=rho0, C_target=rho_target, evo_type=\"density\"))"
   ]
  },
  {
   "cell_type": "code",
   "execution_count": 13,
   "id": "6f203ddc",
   "metadata": {},
   "outputs": [
    {
     "name": "stdout",
     "output_type": "stream",
     "text": [
      "Eigenvalues of rho0: [-2.72829216e-16 -6.02376918e-17  0.00000000e+00  0.00000000e+00\n",
      "  0.00000000e+00  0.00000000e+00  0.00000000e+00  0.00000000e+00\n",
      "  0.00000000e+00  0.00000000e+00  0.00000000e+00  0.00000000e+00\n",
      "  0.00000000e+00  0.00000000e+00  0.00000000e+00  0.00000000e+00\n",
      "  0.00000000e+00  0.00000000e+00  0.00000000e+00  0.00000000e+00\n",
      "  0.00000000e+00  0.00000000e+00  0.00000000e+00  0.00000000e+00\n",
      "  0.00000000e+00  0.00000000e+00  0.00000000e+00  0.00000000e+00\n",
      "  0.00000000e+00  0.00000000e+00  0.00000000e+00  0.00000000e+00\n",
      "  0.00000000e+00  0.00000000e+00  0.00000000e+00  0.00000000e+00\n",
      "  0.00000000e+00  0.00000000e+00  0.00000000e+00  1.00000000e+00]\n"
     ]
    }
   ],
   "source": [
    "# Print the eigenvalues of rho0\n",
    "eigenvalues = jnp.linalg.eigvalsh(rho_target)\n",
    "print(\"Eigenvalues of rho0:\", eigenvalues)"
   ]
  },
  {
   "cell_type": "markdown",
   "id": "cd6f7f95",
   "metadata": {},
   "source": [
    "### initialize random params"
   ]
  },
  {
   "cell_type": "code",
   "execution_count": 14,
   "id": "7a2159c8",
   "metadata": {},
   "outputs": [
    {
     "name": "stdout",
     "output_type": "stream",
     "text": [
      "[[-0.5123490775685872, -1.782568231202715]]\n"
     ]
    }
   ],
   "source": [
    "import jax\n",
    "\n",
    "print(\n",
    "    jax.random.uniform(\n",
    "        jax.random.PRNGKey(0),\n",
    "        shape=(1, 2),  # 2 for gamma and delta\n",
    "        minval=-jax.numpy.pi,\n",
    "        maxval=jax.numpy.pi,\n",
    "    ).tolist()\n",
    ")"
   ]
  },
  {
   "cell_type": "code",
   "execution_count": 15,
   "id": "fca21f29",
   "metadata": {},
   "outputs": [],
   "source": [
    "import jax\n",
    "from feedback_grape.fgrape import Gate\n",
    "\n",
    "num_time_steps = 5\n",
    "num_of_iterations = 1000\n",
    "learning_rate = 0.05\n",
    "# avg_photon_numer = 2 When testing kitten state\n",
    "# TODO: remove this tolist thing\n",
    "# TODO: in param_constraints, if he wants to provide param_constraints for only one paramater,\n",
    "# THen put jnp.inf (ADD TO DOCS)\n",
    "key1, key2, key3 = jax.random.split(jax.random.PRNGKey(42),3)\n",
    "measure = Gate(\n",
    "    gate=povm_measure_operator,\n",
    "    initial_params=jax.random.uniform(\n",
    "        key1,\n",
    "        shape=(2,),  # 2 for gamma and delta\n",
    "        minval=-jnp.pi,\n",
    "        maxval=jnp.pi,\n",
    "    ),\n",
    "    measurement_flag=True,\n",
    "    # param_constraints=[[0, jnp.pi], [-2*jnp.pi, 2*jnp.pi]],\n",
    ")\n",
    "\n",
    "qub_unitary = Gate(\n",
    "    gate=qubit_unitary,\n",
    "    initial_params=jax.random.uniform(\n",
    "        key2,\n",
    "        shape=(2,),  # 2 for gamma and delta\n",
    "        minval=-jnp.pi,\n",
    "        maxval=jnp.pi,\n",
    "    ),\n",
    "    measurement_flag=False,\n",
    "    # param_constraints=[[-2*jnp.pi, 2*jnp.pi], [-2*jnp.pi, 2*jnp.pi]],\n",
    ")\n",
    "\n",
    "qub_cav = Gate(\n",
    "    gate=qubit_cavity_unitary,\n",
    "    initial_params=jax.random.uniform(\n",
    "        key3,\n",
    "        shape=(2,),  # 2 for gamma and delta\n",
    "        minval=-jnp.pi,\n",
    "        maxval=jnp.pi,\n",
    "    ),\n",
    "    measurement_flag=False,\n",
    "    # param_constraints=[[-jnp.pi, jnp.pi], [-jnp.pi, jnp.pi]],\n",
    ")\n",
    "\n",
    "system_params = [measure, qub_unitary, qub_cav]\n",
    "\n",
    "\n",
    "result = optimize_pulse_with_feedback(\n",
    "    U_0=rho0,\n",
    "    C_target=rho_target,\n",
    "    system_params=system_params,\n",
    "    num_time_steps=num_time_steps,\n",
    "    mode=\"lookup\",\n",
    "    goal=\"fidelity\",\n",
    "    max_iter=num_of_iterations,\n",
    "    convergence_threshold=1e-6,\n",
    "    learning_rate=learning_rate,\n",
    "    evo_type=\"density\",\n",
    "    batch_size=10,\n",
    ")"
   ]
  },
  {
   "cell_type": "code",
   "execution_count": 16,
   "id": "538ba2b6",
   "metadata": {},
   "outputs": [
    {
     "name": "stdout",
     "output_type": "stream",
     "text": [
      "None\n"
     ]
    }
   ],
   "source": [
    "print(result.final_purity)"
   ]
  },
  {
   "cell_type": "code",
   "execution_count": 17,
   "id": "c19912da",
   "metadata": {},
   "outputs": [
    {
     "name": "stdout",
     "output_type": "stream",
     "text": [
      "0.8084671322178189\n"
     ]
    }
   ],
   "source": [
    "print(result.final_fidelity)"
   ]
  },
  {
   "cell_type": "code",
   "execution_count": 18,
   "id": "638cf24c",
   "metadata": {},
   "outputs": [
    {
     "name": "stdout",
     "output_type": "stream",
     "text": [
      "initial fidelity: 0.38188149897874146\n",
      "fidelity of state 0: 0.5305532800714982\n",
      "fidelity of state 1: 0.7272865538561895\n",
      "fidelity of state 2: 0.8890809161937618\n",
      "fidelity of state 3: 0.8310537318540643\n",
      "fidelity of state 4: 0.8254327620323195\n",
      "fidelity of state 5: 0.8409947820747024\n",
      "fidelity of state 6: 0.8310537318540643\n",
      "fidelity of state 7: 0.8890809161937618\n",
      "fidelity of state 8: 0.8890809161937618\n",
      "fidelity of state 9: 0.8310537318540643\n"
     ]
    }
   ],
   "source": [
    "from feedback_grape.utils.fidelity import fidelity\n",
    "\n",
    "print(\n",
    "    \"initial fidelity:\",\n",
    "    fidelity(C_target=rho_target, U_final=rho0, evo_type=\"density\"),\n",
    ")\n",
    "for i, state in enumerate(result.final_state):\n",
    "    print(\n",
    "        f\"fidelity of state {i}:\",\n",
    "        fidelity(C_target=rho_target, U_final=state, evo_type=\"density\"),\n",
    "    )"
   ]
  },
  {
   "cell_type": "code",
   "execution_count": 19,
   "id": "7ba69f49",
   "metadata": {},
   "outputs": [
    {
     "data": {
      "text/plain": [
       "[[Array([[-1.56617385, -0.05761912],\n",
       "         [-1.56617385, -0.05761912],\n",
       "         [-1.56617385, -0.05761912],\n",
       "         [-1.56617385, -0.05761912],\n",
       "         [-1.56617385, -0.05761912],\n",
       "         [-1.56617385, -0.05761912],\n",
       "         [-1.56617385, -0.05761912],\n",
       "         [-1.56617385, -0.05761912],\n",
       "         [-1.56617385, -0.05761912],\n",
       "         [-1.56617385, -0.05761912]], dtype=float64),\n",
       "  Array([[-0.02474639,  0.02539567],\n",
       "         [-2.31969148, -1.96649593],\n",
       "         [-0.02474639,  0.02539567],\n",
       "         [-2.31969148, -1.96649593],\n",
       "         [-0.02474639,  0.02539567],\n",
       "         [-2.31969148, -1.96649593],\n",
       "         [-2.31969148, -1.96649593],\n",
       "         [-0.02474639,  0.02539567],\n",
       "         [-0.02474639,  0.02539567],\n",
       "         [-2.31969148, -1.96649593]], dtype=float64),\n",
       "  Array([[-2.05327207,  1.39891887],\n",
       "         [-2.98985535,  3.32745516],\n",
       "         [-2.05327207,  1.39891887],\n",
       "         [-2.98985535,  3.32745516],\n",
       "         [-2.05327207,  1.39891887],\n",
       "         [-2.98985535,  3.32745516],\n",
       "         [-2.98985535,  3.32745516],\n",
       "         [-2.05327207,  1.39891887],\n",
       "         [-2.05327207,  1.39891887],\n",
       "         [-2.98985535,  3.32745516]], dtype=float64)],\n",
       " [Array([[-1.56957176,  0.01166642],\n",
       "         [-2.43751057, -0.02756098],\n",
       "         [-1.56957176,  0.01166642],\n",
       "         [-2.43751057, -0.02756098],\n",
       "         [-1.56957176,  0.01166642],\n",
       "         [-2.43751057, -0.02756098],\n",
       "         [-2.43751057, -0.02756098],\n",
       "         [-1.56957176,  0.01166642],\n",
       "         [-1.56957176,  0.01166642],\n",
       "         [-2.43751057, -0.02756098]], dtype=float64),\n",
       "  Array([[ 3.14941969,  0.36786108],\n",
       "         [ 1.62561476, -0.61715285],\n",
       "         [ 0.16597107, -0.31504467],\n",
       "         [ 1.62561476, -0.61715285],\n",
       "         [ 3.14941969,  0.36786108],\n",
       "         [ 2.27247775,  2.63887521],\n",
       "         [ 1.62561476, -0.61715285],\n",
       "         [ 0.16597107, -0.31504467],\n",
       "         [ 0.16597107, -0.31504467],\n",
       "         [ 1.62561476, -0.61715285]], dtype=float64),\n",
       "  Array([[-0.20780537, -1.65575528],\n",
       "         [-3.53653792,  1.97245807],\n",
       "         [-0.01162974,  0.00609752],\n",
       "         [-3.53653792,  1.97245807],\n",
       "         [-0.20780537, -1.65575528],\n",
       "         [-0.75245754,  0.10952937],\n",
       "         [-3.53653792,  1.97245807],\n",
       "         [-0.01162974,  0.00609752],\n",
       "         [-0.01162974,  0.00609752],\n",
       "         [-3.53653792,  1.97245807]], dtype=float64)],\n",
       " [Array([[-2.39009917, -0.17433584],\n",
       "         [-3.13112269, -0.08635557],\n",
       "         [-1.57241511, -0.00708281],\n",
       "         [-3.13112269, -0.08635557],\n",
       "         [-2.39009917, -0.17433584],\n",
       "         [-1.76630269, -0.02696406],\n",
       "         [-3.13112269, -0.08635557],\n",
       "         [-1.57241511, -0.00708281],\n",
       "         [-1.57241511, -0.00708281],\n",
       "         [-3.13112269, -0.08635557]], dtype=float64),\n",
       "  Array([[ 2.82930011,  0.84681123],\n",
       "         [ 2.32966464,  0.32634592],\n",
       "         [-0.35958592,  1.78445335],\n",
       "         [ 2.32966464,  0.32634592],\n",
       "         [ 2.57009768,  0.04375756],\n",
       "         [ 1.25579129,  0.45100183],\n",
       "         [ 2.32966464,  0.32634592],\n",
       "         [-0.35958592,  1.78445335],\n",
       "         [-0.35958592,  1.78445335],\n",
       "         [ 2.32966464,  0.32634592]], dtype=float64),\n",
       "  Array([[-8.41892905e-01, -8.81662735e-01],\n",
       "         [ 1.87215555e+00,  9.40843818e-01],\n",
       "         [ 1.13586553e-03,  3.39121011e-02],\n",
       "         [ 1.87215555e+00,  9.40843818e-01],\n",
       "         [-2.51020206e-02, -2.82071276e-02],\n",
       "         [-1.04007220e+00, -9.71502809e-01],\n",
       "         [ 1.87215555e+00,  9.40843818e-01],\n",
       "         [ 1.13586553e-03,  3.39121011e-02],\n",
       "         [ 1.13586553e-03,  3.39121011e-02],\n",
       "         [ 1.87215555e+00,  9.40843818e-01]], dtype=float64)],\n",
       " [Array([[-2.93691126e+00, -3.38578098e+00],\n",
       "         [ 4.03988957e-04, -2.04213641e+00],\n",
       "         [-2.28799840e+00, -1.98982512e-01],\n",
       "         [ 4.03988957e-04, -2.04213641e+00],\n",
       "         [-1.81148729e+00,  1.99191708e+00],\n",
       "         [-2.24420652e+00, -1.18775981e-01],\n",
       "         [ 4.03988957e-04, -2.04213641e+00],\n",
       "         [-2.28799840e+00, -1.98982512e-01],\n",
       "         [-2.28799840e+00, -1.98982512e-01],\n",
       "         [ 4.03988957e-04, -2.04213641e+00]], dtype=float64),\n",
       "  Array([[ 5.63026676, -1.94864983],\n",
       "         [ 0.99887671, -3.61751816],\n",
       "         [ 0.66195482,  0.5008879 ],\n",
       "         [ 0.99887671, -3.61751816],\n",
       "         [ 0.62721448,  1.17809899],\n",
       "         [-0.46424554, -0.67526448],\n",
       "         [ 0.99887671, -3.61751816],\n",
       "         [ 0.66195482,  0.5008879 ],\n",
       "         [ 0.66195482,  0.5008879 ],\n",
       "         [ 0.99887671, -3.61751816]], dtype=float64),\n",
       "  Array([[-1.22630592,  0.56136263],\n",
       "         [-0.37085212,  1.15092393],\n",
       "         [ 0.19175477, -1.05683741],\n",
       "         [-0.37085212,  1.15092393],\n",
       "         [-0.47809895,  1.52644672],\n",
       "         [ 1.72913226,  1.75845586],\n",
       "         [-0.37085212,  1.15092393],\n",
       "         [ 0.19175477, -1.05683741],\n",
       "         [ 0.19175477, -1.05683741],\n",
       "         [-0.37085212,  1.15092393]], dtype=float64)],\n",
       " [Array([[-8.62682954e-01, -2.51517131e-01],\n",
       "         [-2.23199716e+00,  6.94928486e-01],\n",
       "         [ 8.37853550e-13,  1.67090582e-11],\n",
       "         [-2.23199716e+00,  6.94928486e-01],\n",
       "         [-1.77509007e+00,  1.03882747e-01],\n",
       "         [-2.55230796e+00, -1.09414064e-01],\n",
       "         [-2.23199716e+00,  6.94928486e-01],\n",
       "         [ 8.37853550e-13,  1.67090582e-11],\n",
       "         [ 8.37853550e-13,  1.67090582e-11],\n",
       "         [-2.23199716e+00,  6.94928486e-01]], dtype=float64),\n",
       "  Array([[-0.1084647 , -0.10183515],\n",
       "         [ 0.9693526 , -3.38084474],\n",
       "         [ 0.48204939, -2.48819192],\n",
       "         [ 0.0534067 , -1.39634198],\n",
       "         [ 0.03061284, -0.19664073],\n",
       "         [ 2.80943799,  0.21735214],\n",
       "         [ 0.0534067 , -1.39634198],\n",
       "         [ 0.48204939, -2.48819192],\n",
       "         [ 0.48204939, -2.48819192],\n",
       "         [ 0.0534067 , -1.39634198]], dtype=float64),\n",
       "  Array([[ 1.31717626, -1.1141071 ],\n",
       "         [-0.16081598, -0.07456007],\n",
       "         [-0.58190148,  2.91851199],\n",
       "         [ 0.09225407,  2.03941297],\n",
       "         [-1.73167265,  4.40467059],\n",
       "         [-2.77759476,  1.26058335],\n",
       "         [ 0.09225407,  2.03941297],\n",
       "         [-0.58190148,  2.91851199],\n",
       "         [-0.58190148,  2.91851199],\n",
       "         [ 0.09225407,  2.03941297]], dtype=float64)]]"
      ]
     },
     "execution_count": 19,
     "metadata": {},
     "output_type": "execute_result"
    }
   ],
   "source": [
    "result.returned_params"
   ]
  },
  {
   "cell_type": "code",
   "execution_count": 20,
   "id": "050dc029",
   "metadata": {},
   "outputs": [
    {
     "name": "stdout",
     "output_type": "stream",
     "text": [
      "1000\n"
     ]
    }
   ],
   "source": [
    "print(result.iterations)"
   ]
  }
 ],
 "metadata": {
  "kernelspec": {
   "display_name": "Python 3",
   "language": "python",
   "name": "python3"
  },
  "language_info": {
   "codemirror_mode": {
    "name": "ipython",
    "version": 3
   },
   "file_extension": ".py",
   "mimetype": "text/x-python",
   "name": "python",
   "nbconvert_exporter": "python",
   "pygments_lexer": "ipython3",
   "version": "3.11.11"
  }
 },
 "nbformat": 4,
 "nbformat_minor": 5
}

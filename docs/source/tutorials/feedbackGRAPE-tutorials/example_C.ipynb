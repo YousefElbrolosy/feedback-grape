{
 "cells": [
  {
   "cell_type": "markdown",
   "id": "430a38f8",
   "metadata": {},
   "source": [
    "# C. State preparation from a thermal state with Jaynes-Cummings controls"
   ]
  },
  {
   "cell_type": "code",
   "execution_count": 1,
   "id": "60e3d9d8",
   "metadata": {
    "tags": [
     "remove-cell"
    ]
   },
   "outputs": [],
   "source": [
    "# ruff: noqa\n",
    "import os\n",
    "\n",
    "os.sys.path.append(\"../../../..\")"
   ]
  },
  {
   "cell_type": "code",
   "execution_count": 2,
   "id": "edefb299",
   "metadata": {},
   "outputs": [],
   "source": [
    "from feedback_grape.fgrape import optimize_pulse_with_feedback\n",
    "from feedback_grape.utils.operators import (\n",
    "    sigmap,\n",
    "    sigmam,\n",
    "    create,\n",
    "    destroy,\n",
    "    identity,\n",
    "    cosm,\n",
    "    sinm,\n",
    ")\n",
    "from feedback_grape.utils.states import basis, fock\n",
    "from feedback_grape.utils.tensor import tensor\n",
    "import jax.numpy as jnp\n",
    "import jax\n",
    "from jax.scipy.linalg import expm"
   ]
  },
  {
   "cell_type": "markdown",
   "id": "8ecde886",
   "metadata": {},
   "source": [
    "## defining parameterized operations that are repeated num_time_steps times"
   ]
  },
  {
   "cell_type": "markdown",
   "id": "d0dcc21d",
   "metadata": {},
   "source": [
    "takes 9 minutes on GPU instead of 17 on CPU"
   ]
  },
  {
   "cell_type": "code",
   "execution_count": 3,
   "id": "bcc54b13",
   "metadata": {},
   "outputs": [],
   "source": [
    "N_cav = 20"
   ]
  },
  {
   "cell_type": "code",
   "execution_count": 4,
   "id": "1d1d8650",
   "metadata": {},
   "outputs": [],
   "source": [
    "def qubit_unitary(alphas):\n",
    "    alpha_re, alpha_im = alphas\n",
    "    alpha = alpha_re + 1j * alpha_im\n",
    "    return tensor(\n",
    "        identity(N_cav),\n",
    "        expm(-1j * (alpha * sigmap() + alpha.conjugate() * sigmam()) / 2),\n",
    "    )"
   ]
  },
  {
   "cell_type": "code",
   "execution_count": 5,
   "id": "04f55cc7",
   "metadata": {},
   "outputs": [],
   "source": [
    "def qubit_cavity_unitary(betas):\n",
    "    beta_re, beta_im = betas\n",
    "    beta = beta_re + 1j * beta_im\n",
    "    return expm(\n",
    "        -1j\n",
    "        * (\n",
    "            beta * (tensor(destroy(N_cav), sigmap()))\n",
    "            + beta.conjugate() * (tensor(create(N_cav), sigmam()))\n",
    "        )\n",
    "        / 2\n",
    "    )"
   ]
  },
  {
   "cell_type": "code",
   "execution_count": 6,
   "id": "b21389c6",
   "metadata": {},
   "outputs": [],
   "source": [
    "from feedback_grape.utils.operators import create, destroy\n",
    "\n",
    "\n",
    "def povm_measure_operator(measurement_outcome, params):\n",
    "    \"\"\"\n",
    "    POVM for the measurement of the cavity state.\n",
    "    returns Mm ( NOT the POVM element Em = Mm_dag @ Mm ), given measurement_outcome m, gamma and delta\n",
    "    \"\"\"\n",
    "    gamma, delta = params\n",
    "    number_operator = tensor(create(N_cav) @ destroy(N_cav), identity(2))\n",
    "    angle = (gamma * number_operator) + delta / 2\n",
    "    meas_op = jnp.where(\n",
    "        measurement_outcome == 1,\n",
    "        cosm(angle),\n",
    "        sinm(angle),\n",
    "    )\n",
    "    return meas_op"
   ]
  },
  {
   "cell_type": "markdown",
   "id": "d13bbcb6",
   "metadata": {},
   "source": [
    "### defining initial (thermal) state"
   ]
  },
  {
   "cell_type": "code",
   "execution_count": 7,
   "id": "4b80af46",
   "metadata": {},
   "outputs": [],
   "source": [
    "# initial state is a thermal state coupled to a qubit in the ground state?\n",
    "n_average = 1\n",
    "# natural logarithm\n",
    "beta = jnp.log((1 / n_average) + 1)\n",
    "diags = jnp.exp(-beta * jnp.arange(N_cav))\n",
    "normalized_diags = diags / jnp.sum(diags, axis=0)\n",
    "rho_cav = jnp.diag(normalized_diags)"
   ]
  },
  {
   "cell_type": "code",
   "execution_count": 8,
   "id": "c025c141",
   "metadata": {},
   "outputs": [
    {
     "data": {
      "text/plain": [
       "(20, 20)"
      ]
     },
     "execution_count": 8,
     "metadata": {},
     "output_type": "execute_result"
    }
   ],
   "source": [
    "rho_cav.shape"
   ]
  },
  {
   "cell_type": "code",
   "execution_count": 9,
   "id": "0b1f2052",
   "metadata": {},
   "outputs": [],
   "source": [
    "rho0 = tensor(rho_cav, basis(2, 0) @ basis(2, 0).conj().T)"
   ]
  },
  {
   "cell_type": "code",
   "execution_count": 10,
   "id": "237bb0b9",
   "metadata": {},
   "outputs": [
    {
     "data": {
      "text/plain": [
       "Array(0.9479526, dtype=float64)"
      ]
     },
     "execution_count": 10,
     "metadata": {},
     "output_type": "execute_result"
    }
   ],
   "source": [
    "from feedback_grape.utils.povm import (\n",
    "    _probability_of_a_measurement_outcome_given_a_certain_state,\n",
    ")\n",
    "\n",
    "_probability_of_a_measurement_outcome_given_a_certain_state(\n",
    "    rho0, 1, povm_measure_operator, [0.1, -3 * jnp.pi / 2], evo_type=\"density\"\n",
    ")"
   ]
  },
  {
   "cell_type": "markdown",
   "id": "43a8ce4c",
   "metadata": {},
   "source": [
    "### defining target state"
   ]
  },
  {
   "cell_type": "code",
   "execution_count": 11,
   "id": "0b8272be",
   "metadata": {},
   "outputs": [
    {
     "data": {
      "text/plain": [
       "(40, 40)"
      ]
     },
     "execution_count": 11,
     "metadata": {},
     "output_type": "execute_result"
    }
   ],
   "source": [
    "psi_target = tensor(\n",
    "    (fock(N_cav, 1) + fock(N_cav, 2) + fock(N_cav, 3)) / jnp.sqrt(3), basis(2)\n",
    ")\n",
    "psi_target = psi_target / jnp.linalg.norm(psi_target)\n",
    "\n",
    "rho_target = psi_target @ psi_target.conj().T\n",
    "rho_target.shape"
   ]
  },
  {
   "cell_type": "code",
   "execution_count": 12,
   "id": "882b04b4",
   "metadata": {},
   "outputs": [
    {
     "name": "stdout",
     "output_type": "stream",
     "text": [
      "0.14583347926225051\n"
     ]
    }
   ],
   "source": [
    "from feedback_grape.utils.fidelity import fidelity\n",
    "\n",
    "print(fidelity(U_final=rho0, C_target=rho_target, evo_type=\"density\"))"
   ]
  },
  {
   "cell_type": "code",
   "execution_count": 13,
   "id": "6f203ddc",
   "metadata": {},
   "outputs": [
    {
     "name": "stdout",
     "output_type": "stream",
     "text": [
      "Eigenvalues of rho0: [-2.72829216e-16 -6.02376918e-17  0.00000000e+00  0.00000000e+00\n",
      "  0.00000000e+00  0.00000000e+00  0.00000000e+00  0.00000000e+00\n",
      "  0.00000000e+00  0.00000000e+00  0.00000000e+00  0.00000000e+00\n",
      "  0.00000000e+00  0.00000000e+00  0.00000000e+00  0.00000000e+00\n",
      "  0.00000000e+00  0.00000000e+00  0.00000000e+00  0.00000000e+00\n",
      "  0.00000000e+00  0.00000000e+00  0.00000000e+00  0.00000000e+00\n",
      "  0.00000000e+00  0.00000000e+00  0.00000000e+00  0.00000000e+00\n",
      "  0.00000000e+00  0.00000000e+00  0.00000000e+00  0.00000000e+00\n",
      "  0.00000000e+00  0.00000000e+00  0.00000000e+00  0.00000000e+00\n",
      "  0.00000000e+00  0.00000000e+00  0.00000000e+00  1.00000000e+00]\n"
     ]
    }
   ],
   "source": [
    "# Print the eigenvalues of rho0\n",
    "eigenvalues = jnp.linalg.eigvalsh(rho_target)\n",
    "print(\"Eigenvalues of rho0:\", eigenvalues)"
   ]
  },
  {
   "cell_type": "markdown",
   "id": "cd6f7f95",
   "metadata": {},
   "source": [
    "### initialize random params"
   ]
  },
  {
   "cell_type": "code",
   "execution_count": 14,
   "id": "7a2159c8",
   "metadata": {},
   "outputs": [
    {
     "name": "stdout",
     "output_type": "stream",
     "text": [
      "[[-0.5123490775685872, -1.782568231202715]]\n"
     ]
    }
   ],
   "source": [
    "import jax\n",
    "\n",
    "print(\n",
    "    jax.random.uniform(\n",
    "        jax.random.PRNGKey(0),\n",
    "        shape=(1, 2),  # 2 for gamma and delta\n",
    "        minval=-jax.numpy.pi,\n",
    "        maxval=jax.numpy.pi,\n",
    "    ).tolist()\n",
    ")"
   ]
  },
  {
   "cell_type": "code",
   "execution_count": 15,
   "id": "fca21f29",
   "metadata": {},
   "outputs": [],
   "source": [
    "import jax\n",
    "from feedback_grape.fgrape import Gate\n",
    "\n",
    "num_time_steps = 5\n",
    "num_of_iterations = 1000\n",
    "learning_rate = 0.05\n",
    "# avg_photon_numer = 2 When testing kitten state\n",
    "# TODO: in param_constraints, if he wants to provide param_constraints for only one paramater,\n",
    "# Then put jnp.inf (ADD TO DOCS)\n",
    "key1, key2, key3 = jax.random.split(jax.random.PRNGKey(42), 3)\n",
    "measure = Gate(\n",
    "    gate=povm_measure_operator,\n",
    "    initial_params=jax.random.uniform(\n",
    "        key1,\n",
    "        shape=(2,),  # 2 for gamma and delta\n",
    "        minval=-jnp.pi,\n",
    "        maxval=jnp.pi,\n",
    "    ),\n",
    "    measurement_flag=True,\n",
    "    # param_constraints=[[0, jnp.pi], [-2*jnp.pi, 2*jnp.pi]],\n",
    ")\n",
    "\n",
    "qub_unitary = Gate(\n",
    "    gate=qubit_unitary,\n",
    "    initial_params=jax.random.uniform(\n",
    "        key2,\n",
    "        shape=(2,),  # 2 for gamma and delta\n",
    "        minval=-jnp.pi,\n",
    "        maxval=jnp.pi,\n",
    "    ),\n",
    "    measurement_flag=False,\n",
    "    # param_constraints=[[-2*jnp.pi, 2*jnp.pi], [-2*jnp.pi, 2*jnp.pi]],\n",
    ")\n",
    "\n",
    "qub_cav = Gate(\n",
    "    gate=qubit_cavity_unitary,\n",
    "    initial_params=jax.random.uniform(\n",
    "        key3,\n",
    "        shape=(2,),  # 2 for gamma and delta\n",
    "        minval=-jnp.pi,\n",
    "        maxval=jnp.pi,\n",
    "    ),\n",
    "    measurement_flag=False,\n",
    "    # param_constraints=[[-jnp.pi, jnp.pi], [-jnp.pi, jnp.pi]],\n",
    ")\n",
    "\n",
    "system_params = [measure, qub_unitary, qub_cav]\n",
    "\n",
    "\n",
    "result = optimize_pulse_with_feedback(\n",
    "    U_0=rho0,\n",
    "    C_target=rho_target,\n",
    "    system_params=system_params,\n",
    "    num_time_steps=num_time_steps,\n",
    "    mode=\"lookup\",\n",
    "    goal=\"fidelity\",\n",
    "    max_iter=num_of_iterations,\n",
    "    convergence_threshold=1e-6,\n",
    "    learning_rate=learning_rate,\n",
    "    evo_type=\"density\",\n",
    "    batch_size=10,\n",
    ")"
   ]
  },
  {
   "cell_type": "code",
   "execution_count": 16,
   "id": "538ba2b6",
   "metadata": {},
   "outputs": [
    {
     "name": "stdout",
     "output_type": "stream",
     "text": [
      "None\n"
     ]
    }
   ],
   "source": [
    "print(result.final_purity)"
   ]
  },
  {
   "cell_type": "code",
   "execution_count": 17,
   "id": "c19912da",
   "metadata": {},
   "outputs": [
    {
     "name": "stdout",
     "output_type": "stream",
     "text": [
      "0.6782490236881515\n"
     ]
    }
   ],
   "source": [
    "print(result.final_fidelity)"
   ]
  },
  {
   "cell_type": "code",
   "execution_count": 18,
   "id": "638cf24c",
   "metadata": {},
   "outputs": [
    {
     "name": "stdout",
     "output_type": "stream",
     "text": [
      "initial fidelity: 0.14583347926225051\n",
      "fidelity of state 0: 0.4921150709883928\n",
      "fidelity of state 1: 0.8506121430846633\n",
      "fidelity of state 2: 0.6312194942012772\n",
      "fidelity of state 3: 0.8506121430846633\n",
      "fidelity of state 4: 0.4921150709883928\n",
      "fidelity of state 5: 0.8129904241079123\n",
      "fidelity of state 6: 0.8506121430846633\n",
      "fidelity of state 7: 0.6312194942012772\n",
      "fidelity of state 8: 0.810765834053311\n",
      "fidelity of state 9: 0.3602284190869615\n"
     ]
    }
   ],
   "source": [
    "from feedback_grape.utils.fidelity import fidelity\n",
    "\n",
    "print(\n",
    "    \"initial fidelity:\",\n",
    "    fidelity(C_target=rho_target, U_final=rho0, evo_type=\"density\"),\n",
    ")\n",
    "for i, state in enumerate(result.final_state):\n",
    "    print(\n",
    "        f\"fidelity of state {i}:\",\n",
    "        fidelity(C_target=rho_target, U_final=state, evo_type=\"density\"),\n",
    "    )"
   ]
  },
  {
   "cell_type": "code",
   "execution_count": 19,
   "id": "7ba69f49",
   "metadata": {},
   "outputs": [
    {
     "data": {
      "text/plain": [
       "[[Array([[-1.58543579,  0.00588793],\n",
       "         [-1.58543579,  0.00588793],\n",
       "         [-1.58543579,  0.00588793],\n",
       "         [-1.58543579,  0.00588793],\n",
       "         [-1.58543579,  0.00588793],\n",
       "         [-1.58543579,  0.00588793],\n",
       "         [-1.58543579,  0.00588793],\n",
       "         [-1.58543579,  0.00588793],\n",
       "         [-1.58543579,  0.00588793],\n",
       "         [-1.58543579,  0.00588793]], dtype=float64),\n",
       "  Array([[-0.24095271,  0.19677279],\n",
       "         [ 2.15986187,  2.28345504],\n",
       "         [-0.24095271,  0.19677279],\n",
       "         [ 2.15986187,  2.28345504],\n",
       "         [-0.24095271,  0.19677279],\n",
       "         [ 2.15986187,  2.28345504],\n",
       "         [ 2.15986187,  2.28345504],\n",
       "         [-0.24095271,  0.19677279],\n",
       "         [-0.24095271,  0.19677279],\n",
       "         [ 2.15986187,  2.28345504]], dtype=float64),\n",
       "  Array([[-1.87424792,  1.46215275],\n",
       "         [-2.88353346,  3.42439698],\n",
       "         [-1.87424792,  1.46215275],\n",
       "         [-2.88353346,  3.42439698],\n",
       "         [-1.87424792,  1.46215275],\n",
       "         [-2.88353346,  3.42439698],\n",
       "         [-2.88353346,  3.42439698],\n",
       "         [-1.87424792,  1.46215275],\n",
       "         [-1.87424792,  1.46215275],\n",
       "         [-2.88353346,  3.42439698]], dtype=float64)],\n",
       " [Array([[-1.56087408, -0.03191905],\n",
       "         [-2.3547809 , -0.05459471],\n",
       "         [-1.56087408, -0.03191905],\n",
       "         [-2.3547809 , -0.05459471],\n",
       "         [-1.56087408, -0.03191905],\n",
       "         [-2.3547809 , -0.05459471],\n",
       "         [-2.3547809 , -0.05459471],\n",
       "         [-1.56087408, -0.03191905],\n",
       "         [-1.56087408, -0.03191905],\n",
       "         [-2.3547809 , -0.05459471]], dtype=float64),\n",
       "  Array([[0.49078344, 0.43318549],\n",
       "         [2.4114128 , 2.03291034],\n",
       "         [2.89121512, 1.21872483],\n",
       "         [2.4114128 , 2.03291034],\n",
       "         [0.49078344, 0.43318549],\n",
       "         [2.62812548, 1.5943353 ],\n",
       "         [2.4114128 , 2.03291034],\n",
       "         [2.89121512, 1.21872483],\n",
       "         [2.89121512, 1.21872483],\n",
       "         [2.4114128 , 2.03291034]], dtype=float64),\n",
       "  Array([[-1.24315856, -0.84323142],\n",
       "         [-2.53000286,  1.98828311],\n",
       "         [ 0.39749911,  1.78251119],\n",
       "         [-2.53000286,  1.98828311],\n",
       "         [-1.24315856, -0.84323142],\n",
       "         [-1.94075574,  2.99408224],\n",
       "         [-2.53000286,  1.98828311],\n",
       "         [ 0.39749911,  1.78251119],\n",
       "         [ 0.39749911,  1.78251119],\n",
       "         [-2.53000286,  1.98828311]], dtype=float64)],\n",
       " [Array([[-1.20505387,  0.06210806],\n",
       "         [-1.59612943,  0.14210062],\n",
       "         [-2.11499221,  0.01303192],\n",
       "         [-1.59612943,  0.14210062],\n",
       "         [-1.20505387,  0.06210806],\n",
       "         [-1.51266527, -0.07769599],\n",
       "         [-1.59612943,  0.14210062],\n",
       "         [-2.11499221,  0.01303192],\n",
       "         [-2.11499221,  0.01303192],\n",
       "         [-1.59612943,  0.14210062]], dtype=float64),\n",
       "  Array([[ 0.10338572, -0.00682253],\n",
       "         [ 0.12655013,  2.64152864],\n",
       "         [-0.07125124, -1.68396017],\n",
       "         [ 0.12655013,  2.64152864],\n",
       "         [ 0.10338572, -0.00682253],\n",
       "         [ 0.2898199 ,  0.64781373],\n",
       "         [ 0.12655013,  2.64152864],\n",
       "         [-0.07125124, -1.68396017],\n",
       "         [-0.07125124, -1.68396017],\n",
       "         [ 0.12655013,  2.64152864]], dtype=float64),\n",
       "  Array([[ 0.55234088, -1.40657001],\n",
       "         [ 0.06681765,  1.88162759],\n",
       "         [ 0.02145591,  1.4631653 ],\n",
       "         [ 0.06681765,  1.88162759],\n",
       "         [ 0.55234088, -1.40657001],\n",
       "         [ 0.48867229,  1.13516292],\n",
       "         [ 0.06681765,  1.88162759],\n",
       "         [ 0.02145591,  1.4631653 ],\n",
       "         [ 0.02145591,  1.4631653 ],\n",
       "         [ 0.06681765,  1.88162759]], dtype=float64)],\n",
       " [Array([[-0.54008823, -0.1090937 ],\n",
       "         [-0.92883778, -1.74859033],\n",
       "         [-1.51338109,  0.29543221],\n",
       "         [-0.92883778, -1.74859033],\n",
       "         [-0.54008823, -0.1090937 ],\n",
       "         [-1.94650291, -0.96290685],\n",
       "         [-0.92883778, -1.74859033],\n",
       "         [-1.51338109,  0.29543221],\n",
       "         [-1.51338109,  0.29543221],\n",
       "         [-0.92883778, -1.74859033]], dtype=float64),\n",
       "  Array([[ 3.82380589,  0.62424853],\n",
       "         [ 0.05413563,  1.82288986],\n",
       "         [-0.01162718,  0.29903716],\n",
       "         [ 0.05413563,  1.82288986],\n",
       "         [ 3.82380589,  0.62424853],\n",
       "         [ 0.57209305,  0.74238514],\n",
       "         [ 0.05413563,  1.82288986],\n",
       "         [-0.01162718,  0.29903716],\n",
       "         [-0.01162718,  0.29903716],\n",
       "         [ 3.16632881, -0.01796141]], dtype=float64),\n",
       "  Array([[-0.4095281 ,  0.10599478],\n",
       "         [ 0.02956532,  1.45929565],\n",
       "         [-0.00335101,  1.42122377],\n",
       "         [ 0.02956532,  1.45929565],\n",
       "         [-0.4095281 ,  0.10599478],\n",
       "         [ 0.67439902,  0.34876891],\n",
       "         [ 0.02956532,  1.45929565],\n",
       "         [-0.00335101,  1.42122377],\n",
       "         [-0.00335101,  1.42122377],\n",
       "         [-0.0523598 ,  1.79703448]], dtype=float64)],\n",
       " [Array([[-2.52118179, -0.46167784],\n",
       "         [-3.11495046, -0.14356498],\n",
       "         [-3.26871414, -0.6365974 ],\n",
       "         [-3.11495046, -0.14356498],\n",
       "         [-2.52118179, -0.46167784],\n",
       "         [-0.54893335, -1.9946242 ],\n",
       "         [-3.11495046, -0.14356498],\n",
       "         [-3.26871414, -0.6365974 ],\n",
       "         [-3.26871414, -0.6365974 ],\n",
       "         [-1.92389156, -2.90662065]], dtype=float64),\n",
       "  Array([[ 1.75240068,  0.33948227],\n",
       "         [-0.05786268, -1.91182677],\n",
       "         [-0.04321193,  1.53693378],\n",
       "         [-0.05786268, -1.91182677],\n",
       "         [ 1.75240068,  0.33948227],\n",
       "         [ 1.78856324, -0.46760253],\n",
       "         [-0.05786268, -1.91182677],\n",
       "         [-0.04321193,  1.53693378],\n",
       "         [-0.00685071,  1.18426539],\n",
       "         [-0.03012629,  1.99661799]], dtype=float64),\n",
       "  Array([[-0.04439011, -0.18627189],\n",
       "         [ 0.10077997,  2.87653897],\n",
       "         [-0.03826343, -0.15017019],\n",
       "         [ 0.10077997,  2.87653897],\n",
       "         [-0.04439011, -0.18627189],\n",
       "         [-1.91701145,  2.37753364],\n",
       "         [ 0.10077997,  2.87653897],\n",
       "         [-0.03826343, -0.15017019],\n",
       "         [ 0.00901644, -0.27780662],\n",
       "         [-0.28953402,  3.6202404 ]], dtype=float64)]]"
      ]
     },
     "execution_count": 19,
     "metadata": {},
     "output_type": "execute_result"
    }
   ],
   "source": [
    "result.returned_params"
   ]
  },
  {
   "cell_type": "code",
   "execution_count": 20,
   "id": "050dc029",
   "metadata": {},
   "outputs": [
    {
     "name": "stdout",
     "output_type": "stream",
     "text": [
      "1000\n"
     ]
    }
   ],
   "source": [
    "print(result.iterations)"
   ]
  }
 ],
 "metadata": {
  "kernelspec": {
   "display_name": "Python 3",
   "language": "python",
   "name": "python3"
  },
  "language_info": {
   "codemirror_mode": {
    "name": "ipython",
    "version": 3
   },
   "file_extension": ".py",
   "mimetype": "text/x-python",
   "name": "python",
   "nbconvert_exporter": "python",
   "pygments_lexer": "ipython3",
   "version": "3.11.11"
  }
 },
 "nbformat": 4,
 "nbformat_minor": 5
}

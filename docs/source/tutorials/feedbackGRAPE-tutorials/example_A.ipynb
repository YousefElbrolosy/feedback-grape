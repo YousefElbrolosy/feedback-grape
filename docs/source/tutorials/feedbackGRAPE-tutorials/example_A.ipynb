{
 "cells": [
  {
   "cell_type": "markdown",
   "id": "c4fe2265",
   "metadata": {},
   "source": [
    "# A. State preparation with Jaynes-Cummings controls"
   ]
  },
  {
   "cell_type": "code",
   "execution_count": 1,
   "id": "4f74cb03",
   "metadata": {
    "tags": [
     "remove-cell"
    ]
   },
   "outputs": [],
   "source": [
    "# ruff: noqa\n",
    "import os\n",
    "\n",
    "os.sys.path.append(\"../../../..\")"
   ]
  },
  {
   "cell_type": "code",
   "execution_count": 2,
   "id": "dc37b46a",
   "metadata": {},
   "outputs": [],
   "source": [
    "from feedback_grape.fgrape import optimize_pulse_with_feedback\n",
    "from feedback_grape.utils.operators import (\n",
    "    sigmap,\n",
    "    sigmam,\n",
    "    create,\n",
    "    destroy,\n",
    "    identity,\n",
    ")\n",
    "from feedback_grape.utils.states import basis, fock\n",
    "from feedback_grape.utils.tensor import tensor\n",
    "import jax.numpy as jnp\n",
    "from jax.scipy.linalg import expm"
   ]
  },
  {
   "cell_type": "markdown",
   "id": "e1718760",
   "metadata": {},
   "source": [
    "As a preliminary step, we consider state preparation\n",
    "of a target state starting from a pure state. In addition,\n",
    "we assume that any coupling to an external environment\n",
    "is negligible and that the parametrized controls can be\n",
    "implemented perfectly."
   ]
  },
  {
   "cell_type": "markdown",
   "id": "5e382943",
   "metadata": {},
   "source": [
    "Here no feedback is required, we are just testing the parameterized gates setup."
   ]
  },
  {
   "cell_type": "markdown",
   "id": "202846e6",
   "metadata": {},
   "source": [
    "As a first example, we consider the state preparation\n",
    "of a cavity resonantly coupled to an externally driven\n",
    "qubit"
   ]
  },
  {
   "cell_type": "markdown",
   "id": "ec5307dc",
   "metadata": {},
   "source": [
    "Here, we consider a particular sequence of\n",
    "parametrized unitary gates originally introduced by Law\n",
    "and Eberly"
   ]
  },
  {
   "cell_type": "code",
   "execution_count": 3,
   "id": "3651226c",
   "metadata": {},
   "outputs": [],
   "source": [
    "N_cav = 30"
   ]
  },
  {
   "cell_type": "code",
   "execution_count": 4,
   "id": "b236c6a5",
   "metadata": {},
   "outputs": [],
   "source": [
    "def qubit_unitary(alpha_re, alpha_im):\n",
    "    alpha = alpha_re + 1j * alpha_im\n",
    "    return tensor(\n",
    "        identity(N_cav),\n",
    "        expm(-1j * (alpha * sigmap() + alpha.conjugate() * sigmam()) / 2),\n",
    "    )"
   ]
  },
  {
   "cell_type": "code",
   "execution_count": 5,
   "id": "ebb31077",
   "metadata": {},
   "outputs": [],
   "source": [
    "def qubit_cavity_unitary(beta_re):\n",
    "    beta = beta_re\n",
    "    return expm(\n",
    "        -1j\n",
    "        * (\n",
    "            beta * (tensor(destroy(N_cav), sigmap()))\n",
    "            + beta.conjugate() * (tensor(create(N_cav), sigmam()))\n",
    "        )\n",
    "        / 2\n",
    "    )"
   ]
  },
  {
   "cell_type": "markdown",
   "id": "8b05cd63",
   "metadata": {},
   "source": [
    "In their groundbreaking work, Law and Eberly have\n",
    "shown that any arbitrary superposition of Fock states with\n",
    "maximal excitation number N can be prepared out of the\n",
    "ground state in a sequence of N such interleaved gates,\n",
    "also providing an algorithm to find the correct angles and\n",
    "interaction durations"
   ]
  },
  {
   "cell_type": "markdown",
   "id": "d1a6f411",
   "metadata": {},
   "source": [
    "## First target is the state $ | 1 ⟩ + | 3 ⟩ $ "
   ]
  },
  {
   "cell_type": "code",
   "execution_count": 6,
   "id": "45069deb",
   "metadata": {},
   "outputs": [],
   "source": [
    "# TODO: Why if time steps are less than 5 then it plateus at 0.5\n",
    "time_steps = 5  # corressponds to maximal excitation number of an arbitrary Fock State Superposition"
   ]
  },
  {
   "cell_type": "code",
   "execution_count": 7,
   "id": "e5746831",
   "metadata": {},
   "outputs": [],
   "source": [
    "psi0 = tensor(basis(N_cav), basis(2))\n",
    "psi0 = psi0 / jnp.linalg.norm(psi0)\n",
    "psi_target = tensor((fock(N_cav, 1) + fock(N_cav, 3)) / jnp.sqrt(2), basis(2))\n",
    "psi_target = psi_target / jnp.linalg.norm(psi_target)"
   ]
  },
  {
   "cell_type": "code",
   "execution_count": 8,
   "id": "860c7a66",
   "metadata": {},
   "outputs": [
    {
     "data": {
      "text/plain": [
       "(60, 1)"
      ]
     },
     "execution_count": 8,
     "metadata": {},
     "output_type": "execute_result"
    }
   ],
   "source": [
    "psi0.shape"
   ]
  },
  {
   "cell_type": "code",
   "execution_count": 9,
   "id": "c3fbbd04",
   "metadata": {},
   "outputs": [
    {
     "data": {
      "text/plain": [
       "(60, 1)"
      ]
     },
     "execution_count": 9,
     "metadata": {},
     "output_type": "execute_result"
    }
   ],
   "source": [
    "psi_target.shape"
   ]
  },
  {
   "cell_type": "code",
   "execution_count": 10,
   "id": "2e2e8ef3",
   "metadata": {},
   "outputs": [
    {
     "name": "stdout",
     "output_type": "stream",
     "text": [
      "[[0.+0.j]\n",
      " [1.+0.j]\n",
      " [0.+0.j]\n",
      " [0.+0.j]\n",
      " [0.+0.j]\n",
      " [0.+0.j]\n",
      " [0.+0.j]\n",
      " [0.+0.j]\n",
      " [0.+0.j]\n",
      " [0.+0.j]\n",
      " [0.+0.j]\n",
      " [0.+0.j]\n",
      " [0.+0.j]\n",
      " [0.+0.j]\n",
      " [0.+0.j]\n",
      " [0.+0.j]\n",
      " [0.+0.j]\n",
      " [0.+0.j]\n",
      " [0.+0.j]\n",
      " [0.+0.j]\n",
      " [0.+0.j]\n",
      " [0.+0.j]\n",
      " [0.+0.j]\n",
      " [0.+0.j]\n",
      " [0.+0.j]\n",
      " [0.+0.j]\n",
      " [0.+0.j]\n",
      " [0.+0.j]\n",
      " [0.+0.j]\n",
      " [0.+0.j]]\n"
     ]
    }
   ],
   "source": [
    "print(fock(N_cav, 1))"
   ]
  },
  {
   "cell_type": "markdown",
   "id": "104ff5f6",
   "metadata": {},
   "source": [
    "Law and Eberly provided an algorithm to determine the correct parameters for state preparation. These include:\n",
    "\n",
    "- The rotation angle $ |\\alpha| $,\n",
    "- The azimuthal angle $ \\arg\\left(\\frac{\\alpha}{|\\alpha|}\\right) $,\n",
    "- The interaction duration $ |\\beta| $. <br>\n",
    "\n",
    "So Goal is to find the best control vector (rather than control amplitudes, this time) that leads to finding the optimal state-preparation strategies. Performing as well as the Law-Eberly algorithm."
   ]
  },
  {
   "cell_type": "markdown",
   "id": "06364239",
   "metadata": {},
   "source": [
    "## Optimizing\n",
    "Currently l-bfgs with the same learning rate of 0.3 converges at a local minimum of 0.5, adam also converges at 0.5 but at smaller learning rates"
   ]
  },
  {
   "cell_type": "code",
   "execution_count": 11,
   "id": "90de4b86",
   "metadata": {},
   "outputs": [],
   "source": [
    "from feedback_grape.utils.fidelity import ket2dm\n",
    "import jax\n",
    "\n",
    "key = jax.random.PRNGKey(42)\n",
    "# not provideing param_constraints just propagates the same initial_parameters for each time step\n",
    "qub_unitary = {\n",
    "    \"gate\": qubit_unitary,\n",
    "    \"initial_params\": jax.random.uniform(\n",
    "        key,\n",
    "        shape=(1, 2),  # 2 for gamma and delta\n",
    "        minval=-jnp.pi,\n",
    "        maxval=jnp.pi,\n",
    "    )[0].tolist(),\n",
    "    \"measurement_flag\": False,\n",
    "    \"param_constraints\": [\n",
    "        [-2 * jnp.pi, 2 * jnp.pi],\n",
    "        [-2 * jnp.pi, 2 * jnp.pi],\n",
    "    ],\n",
    "}\n",
    "\n",
    "qub_cav = {\n",
    "    \"gate\": qubit_cavity_unitary,\n",
    "    \"initial_params\": jax.random.uniform(\n",
    "        key,\n",
    "        shape=(1, 1),  # 2 for gamma and delta\n",
    "        minval=-jnp.pi,\n",
    "        maxval=jnp.pi,\n",
    "    )[0].tolist(),\n",
    "    \"measurement_flag\": False,\n",
    "    \"param_constraints\": [[-2 * jnp.pi, 2 * jnp.pi]],\n",
    "}\n",
    "\n",
    "system_params = [qub_unitary, qub_cav]\n",
    "\n",
    "\n",
    "result = optimize_pulse_with_feedback(\n",
    "    U_0=ket2dm(psi0),\n",
    "    C_target=ket2dm(psi_target),\n",
    "    system_params=system_params,\n",
    "    num_time_steps=time_steps,\n",
    "    max_iter=1000,\n",
    "    convergence_threshold=1e-16,\n",
    "    evo_type=\"density\",\n",
    "    mode=\"no-measurement\",\n",
    "    goal=\"fidelity\",\n",
    "    learning_rate=0.02,\n",
    "    batch_size=10,\n",
    "    eval_batch_size=2,\n",
    ")"
   ]
  },
  {
   "cell_type": "code",
   "execution_count": 12,
   "id": "d863b079",
   "metadata": {},
   "outputs": [
    {
     "data": {
      "text/plain": [
       "5"
      ]
     },
     "execution_count": 12,
     "metadata": {},
     "output_type": "execute_result"
    }
   ],
   "source": [
    "len(result.returned_params)"
   ]
  },
  {
   "cell_type": "code",
   "execution_count": 13,
   "id": "9bc1407d",
   "metadata": {},
   "outputs": [
    {
     "data": {
      "text/plain": [
       "[[Array([[ 0.87397271, -6.22210517],\n",
       "         [ 0.87397271, -6.22210517]], dtype=float64),\n",
       "  Array([[-3.56962496],\n",
       "         [-3.56962496]], dtype=float64)],\n",
       " [Array([[-4.15643271e-07,  3.14159260e+00],\n",
       "         [-4.15643271e-07,  3.14159260e+00]], dtype=float64),\n",
       "  Array([[2.77362709],\n",
       "         [2.77362709]], dtype=float64)],\n",
       " [Array([[3.14159259e+00, 9.12424551e-08],\n",
       "         [3.14159259e+00, 9.12424551e-08]], dtype=float64),\n",
       "  Array([[-1.50698692],\n",
       "         [-1.50698692]], dtype=float64)],\n",
       " [Array([[1.52230563, 6.09598281],\n",
       "         [1.52230563, 6.09598281]], dtype=float64),\n",
       "  Array([[2.54470129],\n",
       "         [2.54470129]], dtype=float64)],\n",
       " [Array([[ 5.97007551e-08, -3.14159295e+00],\n",
       "         [ 5.97007551e-08, -3.14159295e+00]], dtype=float64),\n",
       "  Array([[3.1415927],\n",
       "         [3.1415927]], dtype=float64)]]"
      ]
     },
     "execution_count": 13,
     "metadata": {},
     "output_type": "execute_result"
    }
   ],
   "source": [
    "# here makes sense for each batch size we have a different set of parameters since there are no measurements and therefore no stochasticisty or randomness\n",
    "result.returned_params"
   ]
  },
  {
   "cell_type": "code",
   "execution_count": 14,
   "id": "8f01a9d9",
   "metadata": {},
   "outputs": [
    {
     "name": "stdout",
     "output_type": "stream",
     "text": [
      "[[[8.27609081e-17+9.26963224e-31j 9.94359997e-17+4.11032234e-16j\n",
      "   4.82353389e-09+4.25605186e-09j ... 0.00000000e+00+0.00000000e+00j\n",
      "   0.00000000e+00+0.00000000e+00j 0.00000000e+00+0.00000000e+00j]\n",
      "  [9.94360042e-17-4.11032235e-16j 2.17506612e-15+3.30872248e-24j\n",
      "   2.69330960e-08-1.88425082e-08j ... 0.00000000e+00+0.00000000e+00j\n",
      "   0.00000000e+00+0.00000000e+00j 0.00000000e+00+0.00000000e+00j]\n",
      "  [4.82353389e-09-4.25605186e-09j 2.69330960e-08+1.88425082e-08j\n",
      "   5.00000032e-01-1.48892510e-23j ... 0.00000000e+00+0.00000000e+00j\n",
      "   0.00000000e+00+0.00000000e+00j 0.00000000e+00+0.00000000e+00j]\n",
      "  ...\n",
      "  [0.00000000e+00+0.00000000e+00j 0.00000000e+00+0.00000000e+00j\n",
      "   0.00000000e+00+0.00000000e+00j ... 0.00000000e+00+0.00000000e+00j\n",
      "   0.00000000e+00+0.00000000e+00j 0.00000000e+00+0.00000000e+00j]\n",
      "  [0.00000000e+00+0.00000000e+00j 0.00000000e+00+0.00000000e+00j\n",
      "   0.00000000e+00+0.00000000e+00j ... 0.00000000e+00+0.00000000e+00j\n",
      "   0.00000000e+00+0.00000000e+00j 0.00000000e+00+0.00000000e+00j]\n",
      "  [0.00000000e+00+0.00000000e+00j 0.00000000e+00+0.00000000e+00j\n",
      "   0.00000000e+00+0.00000000e+00j ... 0.00000000e+00+0.00000000e+00j\n",
      "   0.00000000e+00+0.00000000e+00j 0.00000000e+00+0.00000000e+00j]]\n",
      "\n",
      " [[8.27609081e-17+9.26963224e-31j 9.94359997e-17+4.11032234e-16j\n",
      "   4.82353389e-09+4.25605186e-09j ... 0.00000000e+00+0.00000000e+00j\n",
      "   0.00000000e+00+0.00000000e+00j 0.00000000e+00+0.00000000e+00j]\n",
      "  [9.94360042e-17-4.11032235e-16j 2.17506612e-15+3.30872248e-24j\n",
      "   2.69330960e-08-1.88425082e-08j ... 0.00000000e+00+0.00000000e+00j\n",
      "   0.00000000e+00+0.00000000e+00j 0.00000000e+00+0.00000000e+00j]\n",
      "  [4.82353389e-09-4.25605186e-09j 2.69330960e-08+1.88425082e-08j\n",
      "   5.00000032e-01-1.48892510e-23j ... 0.00000000e+00+0.00000000e+00j\n",
      "   0.00000000e+00+0.00000000e+00j 0.00000000e+00+0.00000000e+00j]\n",
      "  ...\n",
      "  [0.00000000e+00+0.00000000e+00j 0.00000000e+00+0.00000000e+00j\n",
      "   0.00000000e+00+0.00000000e+00j ... 0.00000000e+00+0.00000000e+00j\n",
      "   0.00000000e+00+0.00000000e+00j 0.00000000e+00+0.00000000e+00j]\n",
      "  [0.00000000e+00+0.00000000e+00j 0.00000000e+00+0.00000000e+00j\n",
      "   0.00000000e+00+0.00000000e+00j ... 0.00000000e+00+0.00000000e+00j\n",
      "   0.00000000e+00+0.00000000e+00j 0.00000000e+00+0.00000000e+00j]\n",
      "  [0.00000000e+00+0.00000000e+00j 0.00000000e+00+0.00000000e+00j\n",
      "   0.00000000e+00+0.00000000e+00j ... 0.00000000e+00+0.00000000e+00j\n",
      "   0.00000000e+00+0.00000000e+00j 0.00000000e+00+0.00000000e+00j]]]\n"
     ]
    }
   ],
   "source": [
    "print(result.final_state)"
   ]
  },
  {
   "cell_type": "code",
   "execution_count": 15,
   "id": "2107f9e7",
   "metadata": {},
   "outputs": [
    {
     "name": "stdout",
     "output_type": "stream",
     "text": [
      "FgResult(optimized_trainable_parameters=[[Array([ 0.87397271, -6.22210517], dtype=float64), Array([-3.56962496], dtype=float64)], [Array([-4.15643271e-07,  3.14159260e+00], dtype=float64), Array([2.77362709], dtype=float64)], [Array([3.14159259e+00, 9.12424551e-08], dtype=float64), Array([-1.50698692], dtype=float64)], [Array([1.52230563, 6.09598281], dtype=float64), Array([2.54470129], dtype=float64)], [Array([ 5.97007551e-08, -3.14159295e+00], dtype=float64), Array([3.1415927], dtype=float64)]], iterations=627, final_state=Array([[[8.27609081e-17+9.26963224e-31j, 9.94359997e-17+4.11032234e-16j,\n",
      "         4.82353389e-09+4.25605186e-09j, ...,\n",
      "         0.00000000e+00+0.00000000e+00j, 0.00000000e+00+0.00000000e+00j,\n",
      "         0.00000000e+00+0.00000000e+00j],\n",
      "        [9.94360042e-17-4.11032235e-16j, 2.17506612e-15+3.30872248e-24j,\n",
      "         2.69330960e-08-1.88425082e-08j, ...,\n",
      "         0.00000000e+00+0.00000000e+00j, 0.00000000e+00+0.00000000e+00j,\n",
      "         0.00000000e+00+0.00000000e+00j],\n",
      "        [4.82353389e-09-4.25605186e-09j, 2.69330960e-08+1.88425082e-08j,\n",
      "         5.00000032e-01-1.48892510e-23j, ...,\n",
      "         0.00000000e+00+0.00000000e+00j, 0.00000000e+00+0.00000000e+00j,\n",
      "         0.00000000e+00+0.00000000e+00j],\n",
      "        ...,\n",
      "        [0.00000000e+00+0.00000000e+00j, 0.00000000e+00+0.00000000e+00j,\n",
      "         0.00000000e+00+0.00000000e+00j, ...,\n",
      "         0.00000000e+00+0.00000000e+00j, 0.00000000e+00+0.00000000e+00j,\n",
      "         0.00000000e+00+0.00000000e+00j],\n",
      "        [0.00000000e+00+0.00000000e+00j, 0.00000000e+00+0.00000000e+00j,\n",
      "         0.00000000e+00+0.00000000e+00j, ...,\n",
      "         0.00000000e+00+0.00000000e+00j, 0.00000000e+00+0.00000000e+00j,\n",
      "         0.00000000e+00+0.00000000e+00j],\n",
      "        [0.00000000e+00+0.00000000e+00j, 0.00000000e+00+0.00000000e+00j,\n",
      "         0.00000000e+00+0.00000000e+00j, ...,\n",
      "         0.00000000e+00+0.00000000e+00j, 0.00000000e+00+0.00000000e+00j,\n",
      "         0.00000000e+00+0.00000000e+00j]],\n",
      "\n",
      "       [[8.27609081e-17+9.26963224e-31j, 9.94359997e-17+4.11032234e-16j,\n",
      "         4.82353389e-09+4.25605186e-09j, ...,\n",
      "         0.00000000e+00+0.00000000e+00j, 0.00000000e+00+0.00000000e+00j,\n",
      "         0.00000000e+00+0.00000000e+00j],\n",
      "        [9.94360042e-17-4.11032235e-16j, 2.17506612e-15+3.30872248e-24j,\n",
      "         2.69330960e-08-1.88425082e-08j, ...,\n",
      "         0.00000000e+00+0.00000000e+00j, 0.00000000e+00+0.00000000e+00j,\n",
      "         0.00000000e+00+0.00000000e+00j],\n",
      "        [4.82353389e-09-4.25605186e-09j, 2.69330960e-08+1.88425082e-08j,\n",
      "         5.00000032e-01-1.48892510e-23j, ...,\n",
      "         0.00000000e+00+0.00000000e+00j, 0.00000000e+00+0.00000000e+00j,\n",
      "         0.00000000e+00+0.00000000e+00j],\n",
      "        ...,\n",
      "        [0.00000000e+00+0.00000000e+00j, 0.00000000e+00+0.00000000e+00j,\n",
      "         0.00000000e+00+0.00000000e+00j, ...,\n",
      "         0.00000000e+00+0.00000000e+00j, 0.00000000e+00+0.00000000e+00j,\n",
      "         0.00000000e+00+0.00000000e+00j],\n",
      "        [0.00000000e+00+0.00000000e+00j, 0.00000000e+00+0.00000000e+00j,\n",
      "         0.00000000e+00+0.00000000e+00j, ...,\n",
      "         0.00000000e+00+0.00000000e+00j, 0.00000000e+00+0.00000000e+00j,\n",
      "         0.00000000e+00+0.00000000e+00j],\n",
      "        [0.00000000e+00+0.00000000e+00j, 0.00000000e+00+0.00000000e+00j,\n",
      "         0.00000000e+00+0.00000000e+00j, ...,\n",
      "         0.00000000e+00+0.00000000e+00j, 0.00000000e+00+0.00000000e+00j,\n",
      "         0.00000000e+00+0.00000000e+00j]]], dtype=complex128), returned_params=[[Array([[ 0.87397271, -6.22210517],\n",
      "       [ 0.87397271, -6.22210517]], dtype=float64), Array([[-3.56962496],\n",
      "       [-3.56962496]], dtype=float64)], [Array([[-4.15643271e-07,  3.14159260e+00],\n",
      "       [-4.15643271e-07,  3.14159260e+00]], dtype=float64), Array([[2.77362709],\n",
      "       [2.77362709]], dtype=float64)], [Array([[3.14159259e+00, 9.12424551e-08],\n",
      "       [3.14159259e+00, 9.12424551e-08]], dtype=float64), Array([[-1.50698692],\n",
      "       [-1.50698692]], dtype=float64)], [Array([[1.52230563, 6.09598281],\n",
      "       [1.52230563, 6.09598281]], dtype=float64), Array([[2.54470129],\n",
      "       [2.54470129]], dtype=float64)], [Array([[ 5.97007551e-08, -3.14159295e+00],\n",
      "       [ 5.97007551e-08, -3.14159295e+00]], dtype=float64), Array([[3.1415927],\n",
      "       [3.1415927]], dtype=float64)]], final_purity=None, final_fidelity=Array(1., dtype=float64))\n"
     ]
    }
   ],
   "source": [
    "print(result)"
   ]
  },
  {
   "cell_type": "code",
   "execution_count": 16,
   "id": "f9f60940",
   "metadata": {},
   "outputs": [
    {
     "data": {
      "text/plain": [
       "Array(1., dtype=float64)"
      ]
     },
     "execution_count": 16,
     "metadata": {},
     "output_type": "execute_result"
    }
   ],
   "source": [
    "result.final_fidelity"
   ]
  }
 ],
 "metadata": {
  "kernelspec": {
   "display_name": "Python 3",
   "language": "python",
   "name": "python3"
  },
  "language_info": {
   "codemirror_mode": {
    "name": "ipython",
    "version": 3
   },
   "file_extension": ".py",
   "mimetype": "text/x-python",
   "name": "python",
   "nbconvert_exporter": "python",
   "pygments_lexer": "ipython3",
   "version": "3.11.11"
  }
 },
 "nbformat": 4,
 "nbformat_minor": 5
}

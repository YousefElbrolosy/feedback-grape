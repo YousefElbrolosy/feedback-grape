{
 "cells": [
  {
   "cell_type": "markdown",
   "id": "c4fe2265",
   "metadata": {},
   "source": [
    "# A1. State preparation with Jaynes-Cummings controls for $ | 1 ⟩ + | 3 ⟩ $ fock state"
   ]
  },
  {
   "cell_type": "code",
   "execution_count": 1,
   "id": "4f74cb03",
   "metadata": {
    "tags": [
     "remove-cell"
    ]
   },
   "outputs": [],
   "source": [
    "# ruff: noqa\n",
    "import os\n",
    "\n",
    "os.sys.path.append(\"../../../..\")"
   ]
  },
  {
   "cell_type": "code",
   "execution_count": 2,
   "id": "dc37b46a",
   "metadata": {},
   "outputs": [],
   "source": [
    "from feedback_grape.fgrape import optimize_pulse_with_feedback\n",
    "from feedback_grape.utils.operators import (\n",
    "    sigmap,\n",
    "    sigmam,\n",
    "    create,\n",
    "    destroy,\n",
    "    identity,\n",
    ")\n",
    "from feedback_grape.utils.states import basis, fock\n",
    "from feedback_grape.utils.tensor import tensor\n",
    "import jax.numpy as jnp\n",
    "from jax.scipy.linalg import expm"
   ]
  },
  {
   "cell_type": "markdown",
   "id": "e1718760",
   "metadata": {},
   "source": [
    "As a preliminary step, we consider state preparation\n",
    "of a target state starting from a pure state. In addition,\n",
    "we assume that any coupling to an external environment\n",
    "is negligible and that the parametrized controls can be\n",
    "implemented perfectly."
   ]
  },
  {
   "cell_type": "markdown",
   "id": "5e382943",
   "metadata": {},
   "source": [
    "Here no feedback is required, we are just testing the parameterized gates setup."
   ]
  },
  {
   "cell_type": "markdown",
   "id": "202846e6",
   "metadata": {},
   "source": [
    "As a first example, we consider the state preparation\n",
    "of a cavity resonantly coupled to an externally driven\n",
    "qubit"
   ]
  },
  {
   "cell_type": "markdown",
   "id": "ec5307dc",
   "metadata": {},
   "source": [
    "Here, we consider a particular sequence of\n",
    "parametrized unitary gates originally introduced by Law\n",
    "and Eberly"
   ]
  },
  {
   "cell_type": "code",
   "execution_count": 3,
   "id": "3651226c",
   "metadata": {},
   "outputs": [],
   "source": [
    "N_cav = 30"
   ]
  },
  {
   "cell_type": "code",
   "execution_count": 4,
   "id": "b236c6a5",
   "metadata": {},
   "outputs": [],
   "source": [
    "def qubit_unitary(alphas):\n",
    "    alpha_re = alphas[0]\n",
    "    alpha_im = alphas[1]\n",
    "    alpha = alpha_re + 1j * alpha_im\n",
    "    return tensor(\n",
    "        identity(N_cav),\n",
    "        expm(-1j * (alpha * sigmap() + alpha.conjugate() * sigmam()) / 2),\n",
    "    )"
   ]
  },
  {
   "cell_type": "code",
   "execution_count": 5,
   "id": "ebb31077",
   "metadata": {},
   "outputs": [],
   "source": [
    "def qubit_cavity_unitary(beta_re):\n",
    "    beta = beta_re\n",
    "    return expm(\n",
    "        -1j\n",
    "        * (\n",
    "            beta * (tensor(destroy(N_cav), sigmap()))\n",
    "            + beta.conjugate() * (tensor(create(N_cav), sigmam()))\n",
    "        )\n",
    "        / 2\n",
    "    )"
   ]
  },
  {
   "cell_type": "markdown",
   "id": "8b05cd63",
   "metadata": {},
   "source": [
    "In their groundbreaking work, Law and Eberly have\n",
    "shown that any arbitrary superposition of Fock states with\n",
    "maximal excitation number N can be prepared out of the\n",
    "ground state in a sequence of N such interleaved gates,\n",
    "also providing an algorithm to find the correct angles and\n",
    "interaction durations"
   ]
  },
  {
   "cell_type": "markdown",
   "id": "d1a6f411",
   "metadata": {},
   "source": [
    "## First target is the state $ | 1 ⟩ + | 3 ⟩ $ "
   ]
  },
  {
   "cell_type": "code",
   "execution_count": null,
   "id": "45069deb",
   "metadata": {},
   "outputs": [],
   "source": [
    "time_steps = 4  # corressponds to maximal excitation number of an arbitrary Fock State Superposition"
   ]
  },
  {
   "cell_type": "code",
   "execution_count": 7,
   "id": "e5746831",
   "metadata": {},
   "outputs": [],
   "source": [
    "psi0 = tensor(basis(N_cav), basis(2))\n",
    "psi_target = tensor((fock(N_cav, 1) + fock(N_cav, 3)) / jnp.sqrt(2), basis(2))"
   ]
  },
  {
   "cell_type": "code",
   "execution_count": 8,
   "id": "860c7a66",
   "metadata": {},
   "outputs": [
    {
     "data": {
      "text/plain": [
       "(60, 1)"
      ]
     },
     "execution_count": 8,
     "metadata": {},
     "output_type": "execute_result"
    }
   ],
   "source": [
    "psi0.shape"
   ]
  },
  {
   "cell_type": "code",
   "execution_count": 9,
   "id": "c3fbbd04",
   "metadata": {},
   "outputs": [
    {
     "data": {
      "text/plain": [
       "(60, 1)"
      ]
     },
     "execution_count": 9,
     "metadata": {},
     "output_type": "execute_result"
    }
   ],
   "source": [
    "psi_target.shape"
   ]
  },
  {
   "cell_type": "code",
   "execution_count": 10,
   "id": "2e2e8ef3",
   "metadata": {},
   "outputs": [
    {
     "name": "stdout",
     "output_type": "stream",
     "text": [
      "[[0.+0.j]\n",
      " [1.+0.j]\n",
      " [0.+0.j]\n",
      " [0.+0.j]\n",
      " [0.+0.j]\n",
      " [0.+0.j]\n",
      " [0.+0.j]\n",
      " [0.+0.j]\n",
      " [0.+0.j]\n",
      " [0.+0.j]\n",
      " [0.+0.j]\n",
      " [0.+0.j]\n",
      " [0.+0.j]\n",
      " [0.+0.j]\n",
      " [0.+0.j]\n",
      " [0.+0.j]\n",
      " [0.+0.j]\n",
      " [0.+0.j]\n",
      " [0.+0.j]\n",
      " [0.+0.j]\n",
      " [0.+0.j]\n",
      " [0.+0.j]\n",
      " [0.+0.j]\n",
      " [0.+0.j]\n",
      " [0.+0.j]\n",
      " [0.+0.j]\n",
      " [0.+0.j]\n",
      " [0.+0.j]\n",
      " [0.+0.j]\n",
      " [0.+0.j]]\n"
     ]
    }
   ],
   "source": [
    "print(fock(N_cav, 1))"
   ]
  },
  {
   "cell_type": "markdown",
   "id": "104ff5f6",
   "metadata": {},
   "source": [
    "Law and Eberly provided an algorithm to determine the correct parameters for state preparation. These include:\n",
    "\n",
    "- The rotation angle $ |\\alpha| $,\n",
    "- The azimuthal angle $ \\arg\\left(\\frac{\\alpha}{|\\alpha|}\\right) $,\n",
    "- The interaction duration $ |\\beta| $. <br>\n",
    "\n",
    "So Goal is to find the best control vector (rather than control amplitudes, this time) that leads to finding the optimal state-preparation strategies. Performing as well as the Law-Eberly algorithm."
   ]
  },
  {
   "cell_type": "markdown",
   "id": "06364239",
   "metadata": {},
   "source": [
    "## Optimizing\n",
    "Currently l-bfgs with the same learning rate of 0.3 converges at a local minimum of 0.5, adam also converges at 0.5 but at smaller learning rates"
   ]
  },
  {
   "cell_type": "code",
   "execution_count": null,
   "id": "90de4b86",
   "metadata": {},
   "outputs": [],
   "source": [
    "from feedback_grape.fgrape import Gate\n",
    "import jax\n",
    "\n",
    "key = jax.random.PRNGKey(42)\n",
    "# not provideing param_constraints just propagates the same initial_parameters for each time step\n",
    "qub_unitary = Gate(\n",
    "    gate=qubit_unitary,\n",
    "    initial_params=jax.random.uniform(\n",
    "        key,\n",
    "        shape=(2,),  # 2 for gamma and delta\n",
    "        minval=-5 * jnp.pi,\n",
    "        maxval=5 * jnp.pi,\n",
    "        dtype=jnp.float64,\n",
    "    ),\n",
    "    measurement_flag=False,\n",
    ")\n",
    "\n",
    "qub_cav = Gate(\n",
    "    gate=qubit_cavity_unitary,\n",
    "    initial_params=jax.random.uniform(\n",
    "        key,\n",
    "        shape=(1,),\n",
    "        minval=-5 * jnp.pi,\n",
    "        maxval=5 * jnp.pi,\n",
    "        dtype=jnp.float64,\n",
    "    ),\n",
    "    measurement_flag=False,\n",
    ")\n",
    "\n",
    "system_params = [qub_unitary, qub_cav]\n",
    "\n",
    "\n",
    "result = optimize_pulse_with_feedback(\n",
    "    U_0=psi0,\n",
    "    C_target=psi_target,\n",
    "    system_params=system_params,\n",
    "    num_time_steps=time_steps,\n",
    "    max_iter=1000,\n",
    "    convergence_threshold=1e-16,\n",
    "    evo_type=\"state\",\n",
    "    mode=\"no-measurement\",\n",
    "    goal=\"fidelity\",\n",
    "    learning_rate=0.05,\n",
    "    batch_size=10,\n",
    "    eval_batch_size=2,\n",
    ")"
   ]
  },
  {
   "cell_type": "code",
   "execution_count": 12,
   "id": "d863b079",
   "metadata": {},
   "outputs": [
    {
     "data": {
      "text/plain": [
       "4"
      ]
     },
     "execution_count": 12,
     "metadata": {},
     "output_type": "execute_result"
    }
   ],
   "source": [
    "len(result.returned_params)"
   ]
  },
  {
   "cell_type": "code",
   "execution_count": 13,
   "id": "9bc1407d",
   "metadata": {},
   "outputs": [
    {
     "data": {
      "text/plain": [
       "[[Array([[ -0.20469016, -12.56470343],\n",
       "         [ -0.20469016, -12.56470343]], dtype=float64),\n",
       "  Array([[-2.71356037],\n",
       "         [-2.71356037]], dtype=float64)],\n",
       " [Array([[ 1.74143404e-20, -1.57079633e+01],\n",
       "         [ 1.74143404e-20, -1.57079633e+01]], dtype=float64),\n",
       "  Array([[-1.66925596],\n",
       "         [-1.66925596]], dtype=float64)],\n",
       " [Array([[ 1.90797816e-21, -1.57079633e+01],\n",
       "         [ 1.90797816e-21, -1.57079633e+01]], dtype=float64),\n",
       "  Array([[-1.03771437],\n",
       "         [-1.03771437]], dtype=float64)],\n",
       " [Array([[ 2.65181300e-21, -1.57079633e+01],\n",
       "         [ 2.65181300e-21, -1.57079633e+01]], dtype=float64),\n",
       "  Array([[-3.14159265],\n",
       "         [-3.14159265]], dtype=float64)]]"
      ]
     },
     "execution_count": 13,
     "metadata": {},
     "output_type": "execute_result"
    }
   ],
   "source": [
    "# here makes sense for each batch size we have a different set of parameters since there are no measurements and therefore no stochasticisty or randomness\n",
    "result.returned_params"
   ]
  },
  {
   "cell_type": "code",
   "execution_count": 14,
   "id": "8f01a9d9",
   "metadata": {},
   "outputs": [
    {
     "name": "stdout",
     "output_type": "stream",
     "text": [
      "[[[-5.30091023e-16-1.49744059e-36j]\n",
      "  [ 7.77156117e-16+3.64132306e-22j]\n",
      "  [ 6.49058509e-22-7.07106781e-01j]\n",
      "  [-1.65267887e-36-4.51004190e-16j]\n",
      "  [ 6.38244044e-15+7.48114530e-36j]\n",
      "  [-8.88178420e-16+1.33177680e-22j]\n",
      "  [ 9.89183457e-22-7.07106781e-01j]\n",
      "  [ 2.13520324e-36-1.86716182e-15j]\n",
      "  [ 0.00000000e+00+0.00000000e+00j]\n",
      "  [-1.66260249e-16-2.32584233e-37j]\n",
      "  [ 0.00000000e+00+0.00000000e+00j]\n",
      "  [ 0.00000000e+00+0.00000000e+00j]\n",
      "  [ 0.00000000e+00+0.00000000e+00j]\n",
      "  [ 0.00000000e+00+0.00000000e+00j]\n",
      "  [ 0.00000000e+00+0.00000000e+00j]\n",
      "  [ 0.00000000e+00+0.00000000e+00j]\n",
      "  [ 0.00000000e+00+0.00000000e+00j]\n",
      "  [ 0.00000000e+00+0.00000000e+00j]\n",
      "  [ 0.00000000e+00+0.00000000e+00j]\n",
      "  [ 0.00000000e+00+0.00000000e+00j]\n",
      "  [ 0.00000000e+00+0.00000000e+00j]\n",
      "  [ 0.00000000e+00+0.00000000e+00j]\n",
      "  [ 0.00000000e+00+0.00000000e+00j]\n",
      "  [ 0.00000000e+00+0.00000000e+00j]\n",
      "  [ 0.00000000e+00+0.00000000e+00j]\n",
      "  [ 0.00000000e+00+0.00000000e+00j]\n",
      "  [ 0.00000000e+00+0.00000000e+00j]\n",
      "  [ 0.00000000e+00+0.00000000e+00j]\n",
      "  [ 0.00000000e+00+0.00000000e+00j]\n",
      "  [ 0.00000000e+00+0.00000000e+00j]\n",
      "  [ 0.00000000e+00+0.00000000e+00j]\n",
      "  [ 0.00000000e+00+0.00000000e+00j]\n",
      "  [ 0.00000000e+00+0.00000000e+00j]\n",
      "  [ 0.00000000e+00+0.00000000e+00j]\n",
      "  [ 0.00000000e+00+0.00000000e+00j]\n",
      "  [ 0.00000000e+00+0.00000000e+00j]\n",
      "  [ 0.00000000e+00+0.00000000e+00j]\n",
      "  [ 0.00000000e+00+0.00000000e+00j]\n",
      "  [ 0.00000000e+00+0.00000000e+00j]\n",
      "  [ 0.00000000e+00+0.00000000e+00j]\n",
      "  [ 0.00000000e+00+0.00000000e+00j]\n",
      "  [ 0.00000000e+00+0.00000000e+00j]\n",
      "  [ 0.00000000e+00+0.00000000e+00j]\n",
      "  [ 0.00000000e+00+0.00000000e+00j]\n",
      "  [ 0.00000000e+00+0.00000000e+00j]\n",
      "  [ 0.00000000e+00+0.00000000e+00j]\n",
      "  [ 0.00000000e+00+0.00000000e+00j]\n",
      "  [ 0.00000000e+00+0.00000000e+00j]\n",
      "  [ 0.00000000e+00+0.00000000e+00j]\n",
      "  [ 0.00000000e+00+0.00000000e+00j]\n",
      "  [ 0.00000000e+00+0.00000000e+00j]\n",
      "  [ 0.00000000e+00+0.00000000e+00j]\n",
      "  [ 0.00000000e+00+0.00000000e+00j]\n",
      "  [ 0.00000000e+00+0.00000000e+00j]\n",
      "  [ 0.00000000e+00+0.00000000e+00j]\n",
      "  [ 0.00000000e+00+0.00000000e+00j]\n",
      "  [ 0.00000000e+00+0.00000000e+00j]\n",
      "  [ 0.00000000e+00+0.00000000e+00j]\n",
      "  [ 0.00000000e+00+0.00000000e+00j]\n",
      "  [ 0.00000000e+00+0.00000000e+00j]]\n",
      "\n",
      " [[-5.30091023e-16-1.49744059e-36j]\n",
      "  [ 7.77156117e-16+3.64132306e-22j]\n",
      "  [ 6.49058509e-22-7.07106781e-01j]\n",
      "  [-1.65267887e-36-4.51004190e-16j]\n",
      "  [ 6.38244044e-15+7.48114530e-36j]\n",
      "  [-8.88178420e-16+1.33177680e-22j]\n",
      "  [ 9.89183457e-22-7.07106781e-01j]\n",
      "  [ 2.13520324e-36-1.86716182e-15j]\n",
      "  [ 0.00000000e+00+0.00000000e+00j]\n",
      "  [-1.66260249e-16-2.32584233e-37j]\n",
      "  [ 0.00000000e+00+0.00000000e+00j]\n",
      "  [ 0.00000000e+00+0.00000000e+00j]\n",
      "  [ 0.00000000e+00+0.00000000e+00j]\n",
      "  [ 0.00000000e+00+0.00000000e+00j]\n",
      "  [ 0.00000000e+00+0.00000000e+00j]\n",
      "  [ 0.00000000e+00+0.00000000e+00j]\n",
      "  [ 0.00000000e+00+0.00000000e+00j]\n",
      "  [ 0.00000000e+00+0.00000000e+00j]\n",
      "  [ 0.00000000e+00+0.00000000e+00j]\n",
      "  [ 0.00000000e+00+0.00000000e+00j]\n",
      "  [ 0.00000000e+00+0.00000000e+00j]\n",
      "  [ 0.00000000e+00+0.00000000e+00j]\n",
      "  [ 0.00000000e+00+0.00000000e+00j]\n",
      "  [ 0.00000000e+00+0.00000000e+00j]\n",
      "  [ 0.00000000e+00+0.00000000e+00j]\n",
      "  [ 0.00000000e+00+0.00000000e+00j]\n",
      "  [ 0.00000000e+00+0.00000000e+00j]\n",
      "  [ 0.00000000e+00+0.00000000e+00j]\n",
      "  [ 0.00000000e+00+0.00000000e+00j]\n",
      "  [ 0.00000000e+00+0.00000000e+00j]\n",
      "  [ 0.00000000e+00+0.00000000e+00j]\n",
      "  [ 0.00000000e+00+0.00000000e+00j]\n",
      "  [ 0.00000000e+00+0.00000000e+00j]\n",
      "  [ 0.00000000e+00+0.00000000e+00j]\n",
      "  [ 0.00000000e+00+0.00000000e+00j]\n",
      "  [ 0.00000000e+00+0.00000000e+00j]\n",
      "  [ 0.00000000e+00+0.00000000e+00j]\n",
      "  [ 0.00000000e+00+0.00000000e+00j]\n",
      "  [ 0.00000000e+00+0.00000000e+00j]\n",
      "  [ 0.00000000e+00+0.00000000e+00j]\n",
      "  [ 0.00000000e+00+0.00000000e+00j]\n",
      "  [ 0.00000000e+00+0.00000000e+00j]\n",
      "  [ 0.00000000e+00+0.00000000e+00j]\n",
      "  [ 0.00000000e+00+0.00000000e+00j]\n",
      "  [ 0.00000000e+00+0.00000000e+00j]\n",
      "  [ 0.00000000e+00+0.00000000e+00j]\n",
      "  [ 0.00000000e+00+0.00000000e+00j]\n",
      "  [ 0.00000000e+00+0.00000000e+00j]\n",
      "  [ 0.00000000e+00+0.00000000e+00j]\n",
      "  [ 0.00000000e+00+0.00000000e+00j]\n",
      "  [ 0.00000000e+00+0.00000000e+00j]\n",
      "  [ 0.00000000e+00+0.00000000e+00j]\n",
      "  [ 0.00000000e+00+0.00000000e+00j]\n",
      "  [ 0.00000000e+00+0.00000000e+00j]\n",
      "  [ 0.00000000e+00+0.00000000e+00j]\n",
      "  [ 0.00000000e+00+0.00000000e+00j]\n",
      "  [ 0.00000000e+00+0.00000000e+00j]\n",
      "  [ 0.00000000e+00+0.00000000e+00j]\n",
      "  [ 0.00000000e+00+0.00000000e+00j]\n",
      "  [ 0.00000000e+00+0.00000000e+00j]]]\n"
     ]
    }
   ],
   "source": [
    "print(result.final_state)"
   ]
  },
  {
   "cell_type": "code",
   "execution_count": 15,
   "id": "2107f9e7",
   "metadata": {},
   "outputs": [
    {
     "name": "stdout",
     "output_type": "stream",
     "text": [
      "FgResult(optimized_trainable_parameters=[[Array([ -0.20469016, -12.56470343], dtype=float64), Array([-2.71356037], dtype=float64)], [Array([ 1.74143404e-20, -1.57079633e+01], dtype=float64), Array([-1.66925596], dtype=float64)], [Array([ 1.90797816e-21, -1.57079633e+01], dtype=float64), Array([-1.03771437], dtype=float64)], [Array([ 2.65181300e-21, -1.57079633e+01], dtype=float64), Array([-3.14159265], dtype=float64)]], iterations=1000, final_state=Array([[[-5.30091023e-16-1.49744059e-36j],\n",
      "        [ 7.77156117e-16+3.64132306e-22j],\n",
      "        [ 6.49058509e-22-7.07106781e-01j],\n",
      "        [-1.65267887e-36-4.51004190e-16j],\n",
      "        [ 6.38244044e-15+7.48114530e-36j],\n",
      "        [-8.88178420e-16+1.33177680e-22j],\n",
      "        [ 9.89183457e-22-7.07106781e-01j],\n",
      "        [ 2.13520324e-36-1.86716182e-15j],\n",
      "        [ 0.00000000e+00+0.00000000e+00j],\n",
      "        [-1.66260249e-16-2.32584233e-37j],\n",
      "        [ 0.00000000e+00+0.00000000e+00j],\n",
      "        [ 0.00000000e+00+0.00000000e+00j],\n",
      "        [ 0.00000000e+00+0.00000000e+00j],\n",
      "        [ 0.00000000e+00+0.00000000e+00j],\n",
      "        [ 0.00000000e+00+0.00000000e+00j],\n",
      "        [ 0.00000000e+00+0.00000000e+00j],\n",
      "        [ 0.00000000e+00+0.00000000e+00j],\n",
      "        [ 0.00000000e+00+0.00000000e+00j],\n",
      "        [ 0.00000000e+00+0.00000000e+00j],\n",
      "        [ 0.00000000e+00+0.00000000e+00j],\n",
      "        [ 0.00000000e+00+0.00000000e+00j],\n",
      "        [ 0.00000000e+00+0.00000000e+00j],\n",
      "        [ 0.00000000e+00+0.00000000e+00j],\n",
      "        [ 0.00000000e+00+0.00000000e+00j],\n",
      "        [ 0.00000000e+00+0.00000000e+00j],\n",
      "        [ 0.00000000e+00+0.00000000e+00j],\n",
      "        [ 0.00000000e+00+0.00000000e+00j],\n",
      "        [ 0.00000000e+00+0.00000000e+00j],\n",
      "        [ 0.00000000e+00+0.00000000e+00j],\n",
      "        [ 0.00000000e+00+0.00000000e+00j],\n",
      "        [ 0.00000000e+00+0.00000000e+00j],\n",
      "        [ 0.00000000e+00+0.00000000e+00j],\n",
      "        [ 0.00000000e+00+0.00000000e+00j],\n",
      "        [ 0.00000000e+00+0.00000000e+00j],\n",
      "        [ 0.00000000e+00+0.00000000e+00j],\n",
      "        [ 0.00000000e+00+0.00000000e+00j],\n",
      "        [ 0.00000000e+00+0.00000000e+00j],\n",
      "        [ 0.00000000e+00+0.00000000e+00j],\n",
      "        [ 0.00000000e+00+0.00000000e+00j],\n",
      "        [ 0.00000000e+00+0.00000000e+00j],\n",
      "        [ 0.00000000e+00+0.00000000e+00j],\n",
      "        [ 0.00000000e+00+0.00000000e+00j],\n",
      "        [ 0.00000000e+00+0.00000000e+00j],\n",
      "        [ 0.00000000e+00+0.00000000e+00j],\n",
      "        [ 0.00000000e+00+0.00000000e+00j],\n",
      "        [ 0.00000000e+00+0.00000000e+00j],\n",
      "        [ 0.00000000e+00+0.00000000e+00j],\n",
      "        [ 0.00000000e+00+0.00000000e+00j],\n",
      "        [ 0.00000000e+00+0.00000000e+00j],\n",
      "        [ 0.00000000e+00+0.00000000e+00j],\n",
      "        [ 0.00000000e+00+0.00000000e+00j],\n",
      "        [ 0.00000000e+00+0.00000000e+00j],\n",
      "        [ 0.00000000e+00+0.00000000e+00j],\n",
      "        [ 0.00000000e+00+0.00000000e+00j],\n",
      "        [ 0.00000000e+00+0.00000000e+00j],\n",
      "        [ 0.00000000e+00+0.00000000e+00j],\n",
      "        [ 0.00000000e+00+0.00000000e+00j],\n",
      "        [ 0.00000000e+00+0.00000000e+00j],\n",
      "        [ 0.00000000e+00+0.00000000e+00j],\n",
      "        [ 0.00000000e+00+0.00000000e+00j]],\n",
      "\n",
      "       [[-5.30091023e-16-1.49744059e-36j],\n",
      "        [ 7.77156117e-16+3.64132306e-22j],\n",
      "        [ 6.49058509e-22-7.07106781e-01j],\n",
      "        [-1.65267887e-36-4.51004190e-16j],\n",
      "        [ 6.38244044e-15+7.48114530e-36j],\n",
      "        [-8.88178420e-16+1.33177680e-22j],\n",
      "        [ 9.89183457e-22-7.07106781e-01j],\n",
      "        [ 2.13520324e-36-1.86716182e-15j],\n",
      "        [ 0.00000000e+00+0.00000000e+00j],\n",
      "        [-1.66260249e-16-2.32584233e-37j],\n",
      "        [ 0.00000000e+00+0.00000000e+00j],\n",
      "        [ 0.00000000e+00+0.00000000e+00j],\n",
      "        [ 0.00000000e+00+0.00000000e+00j],\n",
      "        [ 0.00000000e+00+0.00000000e+00j],\n",
      "        [ 0.00000000e+00+0.00000000e+00j],\n",
      "        [ 0.00000000e+00+0.00000000e+00j],\n",
      "        [ 0.00000000e+00+0.00000000e+00j],\n",
      "        [ 0.00000000e+00+0.00000000e+00j],\n",
      "        [ 0.00000000e+00+0.00000000e+00j],\n",
      "        [ 0.00000000e+00+0.00000000e+00j],\n",
      "        [ 0.00000000e+00+0.00000000e+00j],\n",
      "        [ 0.00000000e+00+0.00000000e+00j],\n",
      "        [ 0.00000000e+00+0.00000000e+00j],\n",
      "        [ 0.00000000e+00+0.00000000e+00j],\n",
      "        [ 0.00000000e+00+0.00000000e+00j],\n",
      "        [ 0.00000000e+00+0.00000000e+00j],\n",
      "        [ 0.00000000e+00+0.00000000e+00j],\n",
      "        [ 0.00000000e+00+0.00000000e+00j],\n",
      "        [ 0.00000000e+00+0.00000000e+00j],\n",
      "        [ 0.00000000e+00+0.00000000e+00j],\n",
      "        [ 0.00000000e+00+0.00000000e+00j],\n",
      "        [ 0.00000000e+00+0.00000000e+00j],\n",
      "        [ 0.00000000e+00+0.00000000e+00j],\n",
      "        [ 0.00000000e+00+0.00000000e+00j],\n",
      "        [ 0.00000000e+00+0.00000000e+00j],\n",
      "        [ 0.00000000e+00+0.00000000e+00j],\n",
      "        [ 0.00000000e+00+0.00000000e+00j],\n",
      "        [ 0.00000000e+00+0.00000000e+00j],\n",
      "        [ 0.00000000e+00+0.00000000e+00j],\n",
      "        [ 0.00000000e+00+0.00000000e+00j],\n",
      "        [ 0.00000000e+00+0.00000000e+00j],\n",
      "        [ 0.00000000e+00+0.00000000e+00j],\n",
      "        [ 0.00000000e+00+0.00000000e+00j],\n",
      "        [ 0.00000000e+00+0.00000000e+00j],\n",
      "        [ 0.00000000e+00+0.00000000e+00j],\n",
      "        [ 0.00000000e+00+0.00000000e+00j],\n",
      "        [ 0.00000000e+00+0.00000000e+00j],\n",
      "        [ 0.00000000e+00+0.00000000e+00j],\n",
      "        [ 0.00000000e+00+0.00000000e+00j],\n",
      "        [ 0.00000000e+00+0.00000000e+00j],\n",
      "        [ 0.00000000e+00+0.00000000e+00j],\n",
      "        [ 0.00000000e+00+0.00000000e+00j],\n",
      "        [ 0.00000000e+00+0.00000000e+00j],\n",
      "        [ 0.00000000e+00+0.00000000e+00j],\n",
      "        [ 0.00000000e+00+0.00000000e+00j],\n",
      "        [ 0.00000000e+00+0.00000000e+00j],\n",
      "        [ 0.00000000e+00+0.00000000e+00j],\n",
      "        [ 0.00000000e+00+0.00000000e+00j],\n",
      "        [ 0.00000000e+00+0.00000000e+00j],\n",
      "        [ 0.00000000e+00+0.00000000e+00j]]], dtype=complex128), returned_params=[[Array([[ -0.20469016, -12.56470343],\n",
      "       [ -0.20469016, -12.56470343]], dtype=float64), Array([[-2.71356037],\n",
      "       [-2.71356037]], dtype=float64)], [Array([[ 1.74143404e-20, -1.57079633e+01],\n",
      "       [ 1.74143404e-20, -1.57079633e+01]], dtype=float64), Array([[-1.66925596],\n",
      "       [-1.66925596]], dtype=float64)], [Array([[ 1.90797816e-21, -1.57079633e+01],\n",
      "       [ 1.90797816e-21, -1.57079633e+01]], dtype=float64), Array([[-1.03771437],\n",
      "       [-1.03771437]], dtype=float64)], [Array([[ 2.65181300e-21, -1.57079633e+01],\n",
      "       [ 2.65181300e-21, -1.57079633e+01]], dtype=float64), Array([[-3.14159265],\n",
      "       [-3.14159265]], dtype=float64)]], final_purity=None, final_fidelity=Array(1., dtype=float64))\n"
     ]
    }
   ],
   "source": [
    "print(result)"
   ]
  },
  {
   "cell_type": "code",
   "execution_count": 16,
   "id": "f9f60940",
   "metadata": {},
   "outputs": [
    {
     "data": {
      "text/plain": [
       "Array(1., dtype=float64)"
      ]
     },
     "execution_count": 16,
     "metadata": {},
     "output_type": "execute_result"
    }
   ],
   "source": [
    "result.final_fidelity"
   ]
  }
 ],
 "metadata": {
  "kernelspec": {
   "display_name": "Python 3",
   "language": "python",
   "name": "python3"
  },
  "language_info": {
   "codemirror_mode": {
    "name": "ipython",
    "version": 3
   },
   "file_extension": ".py",
   "mimetype": "text/x-python",
   "name": "python",
   "nbconvert_exporter": "python",
   "pygments_lexer": "ipython3",
   "version": "3.11.11"
  }
 },
 "nbformat": 4,
 "nbformat_minor": 5
}

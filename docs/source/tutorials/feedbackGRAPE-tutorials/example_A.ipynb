{
 "cells": [
  {
   "cell_type": "markdown",
   "id": "c4fe2265",
   "metadata": {},
   "source": [
    "# A. State preparation with Jaynes-Cummings controls"
   ]
  },
  {
   "cell_type": "code",
   "execution_count": 1,
   "id": "4f74cb03",
   "metadata": {
    "tags": [
     "remove-cell"
    ]
   },
   "outputs": [],
   "source": [
    "# ruff: noqa\n",
    "import os\n",
    "\n",
    "os.sys.path.append(\"../../../..\")"
   ]
  },
  {
   "cell_type": "code",
   "execution_count": 2,
   "id": "dc37b46a",
   "metadata": {},
   "outputs": [],
   "source": [
    "from feedback_grape.fgrape import optimize_pulse_with_feedback\n",
    "from feedback_grape.utils.operators import (\n",
    "    sigmap,\n",
    "    sigmam,\n",
    "    create,\n",
    "    destroy,\n",
    "    identity,\n",
    ")\n",
    "from feedback_grape.utils.states import basis, fock\n",
    "from feedback_grape.utils.tensor import tensor\n",
    "import jax.numpy as jnp\n",
    "from jax.scipy.linalg import expm"
   ]
  },
  {
   "cell_type": "markdown",
   "id": "e1718760",
   "metadata": {},
   "source": [
    "As a preliminary step, we consider state preparation\n",
    "of a target state starting from a pure state. In addition,\n",
    "we assume that any coupling to an external environment\n",
    "is negligible and that the parametrized controls can be\n",
    "implemented perfectly."
   ]
  },
  {
   "cell_type": "markdown",
   "id": "5e382943",
   "metadata": {},
   "source": [
    "Here no feedback is required, we are just testing the parameterized gates setup."
   ]
  },
  {
   "cell_type": "markdown",
   "id": "202846e6",
   "metadata": {},
   "source": [
    "As a first example, we consider the state preparation\n",
    "of a cavity resonantly coupled to an externally driven\n",
    "qubit"
   ]
  },
  {
   "cell_type": "markdown",
   "id": "ec5307dc",
   "metadata": {},
   "source": [
    "Here, we consider a particular sequence of\n",
    "parametrized unitary gates originally introduced by Law\n",
    "and Eberly"
   ]
  },
  {
   "cell_type": "code",
   "execution_count": 3,
   "id": "3651226c",
   "metadata": {},
   "outputs": [],
   "source": [
    "N_cav = 30"
   ]
  },
  {
   "cell_type": "code",
   "execution_count": 4,
   "id": "b236c6a5",
   "metadata": {},
   "outputs": [],
   "source": [
    "def qubit_unitary(alphas):\n",
    "    alpha_re = alphas[0]\n",
    "    alpha_im = alphas[1]\n",
    "    alpha = alpha_re + 1j * alpha_im\n",
    "    return tensor(\n",
    "        identity(N_cav),\n",
    "        expm(-1j * (alpha * sigmap() + alpha.conjugate() * sigmam()) / 2),\n",
    "    )"
   ]
  },
  {
   "cell_type": "code",
   "execution_count": 5,
   "id": "ebb31077",
   "metadata": {},
   "outputs": [],
   "source": [
    "def qubit_cavity_unitary(beta_re):\n",
    "    beta = beta_re\n",
    "    return expm(\n",
    "        -1j\n",
    "        * (\n",
    "            beta * (tensor(destroy(N_cav), sigmap()))\n",
    "            + beta.conjugate() * (tensor(create(N_cav), sigmam()))\n",
    "        )\n",
    "        / 2\n",
    "    )"
   ]
  },
  {
   "cell_type": "markdown",
   "id": "8b05cd63",
   "metadata": {},
   "source": [
    "In their groundbreaking work, Law and Eberly have\n",
    "shown that any arbitrary superposition of Fock states with\n",
    "maximal excitation number N can be prepared out of the\n",
    "ground state in a sequence of N such interleaved gates,\n",
    "also providing an algorithm to find the correct angles and\n",
    "interaction durations"
   ]
  },
  {
   "cell_type": "markdown",
   "id": "d1a6f411",
   "metadata": {},
   "source": [
    "## First target is the state $ | 1 ⟩ + | 3 ⟩ $ "
   ]
  },
  {
   "cell_type": "code",
   "execution_count": 6,
   "id": "45069deb",
   "metadata": {},
   "outputs": [],
   "source": [
    "# TODO: Why if time steps are less than 5 then it plateus at 0.5\n",
    "time_steps = 5  # corressponds to maximal excitation number of an arbitrary Fock State Superposition"
   ]
  },
  {
   "cell_type": "code",
   "execution_count": 7,
   "id": "e5746831",
   "metadata": {},
   "outputs": [],
   "source": [
    "psi0 = tensor(basis(N_cav), basis(2))\n",
    "psi0 = psi0 / jnp.linalg.norm(psi0)\n",
    "psi_target = tensor((fock(N_cav, 1) + fock(N_cav, 3)) / jnp.sqrt(2), basis(2))\n",
    "psi_target = psi_target / jnp.linalg.norm(psi_target)"
   ]
  },
  {
   "cell_type": "code",
   "execution_count": 8,
   "id": "860c7a66",
   "metadata": {},
   "outputs": [
    {
     "data": {
      "text/plain": [
       "(60, 1)"
      ]
     },
     "execution_count": 8,
     "metadata": {},
     "output_type": "execute_result"
    }
   ],
   "source": [
    "psi0.shape"
   ]
  },
  {
   "cell_type": "code",
   "execution_count": 9,
   "id": "c3fbbd04",
   "metadata": {},
   "outputs": [
    {
     "data": {
      "text/plain": [
       "(60, 1)"
      ]
     },
     "execution_count": 9,
     "metadata": {},
     "output_type": "execute_result"
    }
   ],
   "source": [
    "psi_target.shape"
   ]
  },
  {
   "cell_type": "code",
   "execution_count": 10,
   "id": "2e2e8ef3",
   "metadata": {},
   "outputs": [
    {
     "name": "stdout",
     "output_type": "stream",
     "text": [
      "[[0.+0.j]\n",
      " [1.+0.j]\n",
      " [0.+0.j]\n",
      " [0.+0.j]\n",
      " [0.+0.j]\n",
      " [0.+0.j]\n",
      " [0.+0.j]\n",
      " [0.+0.j]\n",
      " [0.+0.j]\n",
      " [0.+0.j]\n",
      " [0.+0.j]\n",
      " [0.+0.j]\n",
      " [0.+0.j]\n",
      " [0.+0.j]\n",
      " [0.+0.j]\n",
      " [0.+0.j]\n",
      " [0.+0.j]\n",
      " [0.+0.j]\n",
      " [0.+0.j]\n",
      " [0.+0.j]\n",
      " [0.+0.j]\n",
      " [0.+0.j]\n",
      " [0.+0.j]\n",
      " [0.+0.j]\n",
      " [0.+0.j]\n",
      " [0.+0.j]\n",
      " [0.+0.j]\n",
      " [0.+0.j]\n",
      " [0.+0.j]\n",
      " [0.+0.j]]\n"
     ]
    }
   ],
   "source": [
    "print(fock(N_cav, 1))"
   ]
  },
  {
   "cell_type": "markdown",
   "id": "104ff5f6",
   "metadata": {},
   "source": [
    "Law and Eberly provided an algorithm to determine the correct parameters for state preparation. These include:\n",
    "\n",
    "- The rotation angle $ |\\alpha| $,\n",
    "- The azimuthal angle $ \\arg\\left(\\frac{\\alpha}{|\\alpha|}\\right) $,\n",
    "- The interaction duration $ |\\beta| $. <br>\n",
    "\n",
    "So Goal is to find the best control vector (rather than control amplitudes, this time) that leads to finding the optimal state-preparation strategies. Performing as well as the Law-Eberly algorithm."
   ]
  },
  {
   "cell_type": "markdown",
   "id": "06364239",
   "metadata": {},
   "source": [
    "## Optimizing\n",
    "Currently l-bfgs with the same learning rate of 0.3 converges at a local minimum of 0.5, adam also converges at 0.5 but at smaller learning rates"
   ]
  },
  {
   "cell_type": "code",
   "execution_count": null,
   "id": "90de4b86",
   "metadata": {},
   "outputs": [],
   "source": [
    "from feedback_grape.fgrape import Gate\n",
    "import jax\n",
    "\n",
    "key = jax.random.PRNGKey(42)\n",
    "# not provideing param_constraints just propagates the same initial_parameters for each time step\n",
    "qub_unitary = Gate(\n",
    "    gate=qubit_unitary,\n",
    "    initial_params=jax.random.uniform(\n",
    "        key,\n",
    "        shape=(2,),  # 2 for gamma and delta\n",
    "        minval=-jnp.pi,\n",
    "        maxval=jnp.pi,\n",
    "        dtype=jnp.float64,\n",
    "    ),\n",
    "    measurement_flag=False,\n",
    "    param_constraints=[\n",
    "        [-2 * jnp.pi, 2 * jnp.pi],\n",
    "        [-2 * jnp.pi, 2 * jnp.pi],\n",
    "    ],\n",
    ")\n",
    "\n",
    "qub_cav = Gate(\n",
    "    gate=qubit_cavity_unitary,\n",
    "    initial_params=jax.random.uniform(\n",
    "        key,\n",
    "        shape=(1,),\n",
    "        minval=-jnp.pi,\n",
    "        maxval=jnp.pi,\n",
    "        dtype=jnp.float64,\n",
    "    ),\n",
    "    measurement_flag=False,\n",
    "    param_constraints=[[-2 * jnp.pi, 2 * jnp.pi]],\n",
    ")\n",
    "\n",
    "system_params = [qub_unitary, qub_cav]\n",
    "\n",
    "\n",
    "result = optimize_pulse_with_feedback(\n",
    "    U_0=psi0,\n",
    "    C_target=psi_target,\n",
    "    system_params=system_params,\n",
    "    num_time_steps=time_steps,\n",
    "    max_iter=1000,\n",
    "    convergence_threshold=1e-16,\n",
    "    evo_type=\"state\",\n",
    "    mode=\"no-measurement\",\n",
    "    goal=\"fidelity\",\n",
    "    learning_rate=0.02,\n",
    "    batch_size=10,\n",
    "    eval_batch_size=2,\n",
    ")"
   ]
  },
  {
   "cell_type": "code",
   "execution_count": 12,
   "id": "d863b079",
   "metadata": {},
   "outputs": [
    {
     "data": {
      "text/plain": [
       "5"
      ]
     },
     "execution_count": 12,
     "metadata": {},
     "output_type": "execute_result"
    }
   ],
   "source": [
    "len(result.returned_params)"
   ]
  },
  {
   "cell_type": "code",
   "execution_count": 13,
   "id": "9bc1407d",
   "metadata": {},
   "outputs": [
    {
     "data": {
      "text/plain": [
       "[[Array([[ 0.56028059, -6.32020193],\n",
       "         [ 0.56028059, -6.32020193]], dtype=float64),\n",
       "  Array([[-3.56962321],\n",
       "         [-3.56962321]], dtype=float64)],\n",
       " [Array([[-7.99477043e-07,  3.14100353e+00],\n",
       "         [-7.99477043e-07,  3.14100353e+00]], dtype=float64),\n",
       "  Array([[2.77362796],\n",
       "         [2.77362796]], dtype=float64)],\n",
       " [Array([[3.14147369e+00, 3.76765044e-07],\n",
       "         [3.14147369e+00, 3.76765044e-07]], dtype=float64),\n",
       "  Array([[-1.57658746],\n",
       "         [-1.57658746]], dtype=float64)],\n",
       " [Array([[0.54369561, 6.38184408],\n",
       "         [0.54369561, 6.38184408]], dtype=float64),\n",
       "  Array([[2.61430116],\n",
       "         [2.61430116]], dtype=float64)],\n",
       " [Array([[ 3.64288481e-07, -3.14422887e+00],\n",
       "         [ 3.64288481e-07, -3.14422887e+00]], dtype=float64),\n",
       "  Array([[3.14159383],\n",
       "         [3.14159383]], dtype=float64)]]"
      ]
     },
     "execution_count": 13,
     "metadata": {},
     "output_type": "execute_result"
    }
   ],
   "source": [
    "# here makes sense for each batch size we have a different set of parameters since there are no measurements and therefore no stochasticisty or randomness\n",
    "result.returned_params"
   ]
  },
  {
   "cell_type": "code",
   "execution_count": 14,
   "id": "8f01a9d9",
   "metadata": {},
   "outputs": [
    {
     "name": "stdout",
     "output_type": "stream",
     "text": [
      "[[[ 4.19984315e-05-1.10385769e-06j]\n",
      "  [-8.42375825e-08-5.28111620e-08j]\n",
      "  [-7.07106588e-01-9.98539451e-08j]\n",
      "  [ 1.40454368e-05-4.90337326e-05j]\n",
      "  [ 1.34493825e-04+2.79463836e-05j]\n",
      "  [-3.17259534e-08-2.08223061e-07j]\n",
      "  [-7.07106764e-01-1.22412466e-07j]\n",
      "  [-6.04977148e-05-2.42910434e-05j]\n",
      "  [-4.18544291e-05-4.82056872e-04j]\n",
      "  [-5.91921616e-08+1.52059890e-07j]\n",
      "  [ 0.00000000e+00+0.00000000e+00j]\n",
      "  [-1.87424797e-04+1.62730962e-05j]\n",
      "  [ 0.00000000e+00+0.00000000e+00j]\n",
      "  [ 0.00000000e+00+0.00000000e+00j]\n",
      "  [ 0.00000000e+00+0.00000000e+00j]\n",
      "  [ 0.00000000e+00+0.00000000e+00j]\n",
      "  [ 0.00000000e+00+0.00000000e+00j]\n",
      "  [ 0.00000000e+00+0.00000000e+00j]\n",
      "  [ 0.00000000e+00+0.00000000e+00j]\n",
      "  [ 0.00000000e+00+0.00000000e+00j]\n",
      "  [ 0.00000000e+00+0.00000000e+00j]\n",
      "  [ 0.00000000e+00+0.00000000e+00j]\n",
      "  [ 0.00000000e+00+0.00000000e+00j]\n",
      "  [ 0.00000000e+00+0.00000000e+00j]\n",
      "  [ 0.00000000e+00+0.00000000e+00j]\n",
      "  [ 0.00000000e+00+0.00000000e+00j]\n",
      "  [ 0.00000000e+00+0.00000000e+00j]\n",
      "  [ 0.00000000e+00+0.00000000e+00j]\n",
      "  [ 0.00000000e+00+0.00000000e+00j]\n",
      "  [ 0.00000000e+00+0.00000000e+00j]\n",
      "  [ 0.00000000e+00+0.00000000e+00j]\n",
      "  [ 0.00000000e+00+0.00000000e+00j]\n",
      "  [ 0.00000000e+00+0.00000000e+00j]\n",
      "  [ 0.00000000e+00+0.00000000e+00j]\n",
      "  [ 0.00000000e+00+0.00000000e+00j]\n",
      "  [ 0.00000000e+00+0.00000000e+00j]\n",
      "  [ 0.00000000e+00+0.00000000e+00j]\n",
      "  [ 0.00000000e+00+0.00000000e+00j]\n",
      "  [ 0.00000000e+00+0.00000000e+00j]\n",
      "  [ 0.00000000e+00+0.00000000e+00j]\n",
      "  [ 0.00000000e+00+0.00000000e+00j]\n",
      "  [ 0.00000000e+00+0.00000000e+00j]\n",
      "  [ 0.00000000e+00+0.00000000e+00j]\n",
      "  [ 0.00000000e+00+0.00000000e+00j]\n",
      "  [ 0.00000000e+00+0.00000000e+00j]\n",
      "  [ 0.00000000e+00+0.00000000e+00j]\n",
      "  [ 0.00000000e+00+0.00000000e+00j]\n",
      "  [ 0.00000000e+00+0.00000000e+00j]\n",
      "  [ 0.00000000e+00+0.00000000e+00j]\n",
      "  [ 0.00000000e+00+0.00000000e+00j]\n",
      "  [ 0.00000000e+00+0.00000000e+00j]\n",
      "  [ 0.00000000e+00+0.00000000e+00j]\n",
      "  [ 0.00000000e+00+0.00000000e+00j]\n",
      "  [ 0.00000000e+00+0.00000000e+00j]\n",
      "  [ 0.00000000e+00+0.00000000e+00j]\n",
      "  [ 0.00000000e+00+0.00000000e+00j]\n",
      "  [ 0.00000000e+00+0.00000000e+00j]\n",
      "  [ 0.00000000e+00+0.00000000e+00j]\n",
      "  [ 0.00000000e+00+0.00000000e+00j]\n",
      "  [ 0.00000000e+00+0.00000000e+00j]]\n",
      "\n",
      " [[ 4.19984315e-05-1.10385769e-06j]\n",
      "  [-8.42375825e-08-5.28111620e-08j]\n",
      "  [-7.07106588e-01-9.98539451e-08j]\n",
      "  [ 1.40454368e-05-4.90337326e-05j]\n",
      "  [ 1.34493825e-04+2.79463836e-05j]\n",
      "  [-3.17259534e-08-2.08223061e-07j]\n",
      "  [-7.07106764e-01-1.22412466e-07j]\n",
      "  [-6.04977148e-05-2.42910434e-05j]\n",
      "  [-4.18544291e-05-4.82056872e-04j]\n",
      "  [-5.91921616e-08+1.52059890e-07j]\n",
      "  [ 0.00000000e+00+0.00000000e+00j]\n",
      "  [-1.87424797e-04+1.62730962e-05j]\n",
      "  [ 0.00000000e+00+0.00000000e+00j]\n",
      "  [ 0.00000000e+00+0.00000000e+00j]\n",
      "  [ 0.00000000e+00+0.00000000e+00j]\n",
      "  [ 0.00000000e+00+0.00000000e+00j]\n",
      "  [ 0.00000000e+00+0.00000000e+00j]\n",
      "  [ 0.00000000e+00+0.00000000e+00j]\n",
      "  [ 0.00000000e+00+0.00000000e+00j]\n",
      "  [ 0.00000000e+00+0.00000000e+00j]\n",
      "  [ 0.00000000e+00+0.00000000e+00j]\n",
      "  [ 0.00000000e+00+0.00000000e+00j]\n",
      "  [ 0.00000000e+00+0.00000000e+00j]\n",
      "  [ 0.00000000e+00+0.00000000e+00j]\n",
      "  [ 0.00000000e+00+0.00000000e+00j]\n",
      "  [ 0.00000000e+00+0.00000000e+00j]\n",
      "  [ 0.00000000e+00+0.00000000e+00j]\n",
      "  [ 0.00000000e+00+0.00000000e+00j]\n",
      "  [ 0.00000000e+00+0.00000000e+00j]\n",
      "  [ 0.00000000e+00+0.00000000e+00j]\n",
      "  [ 0.00000000e+00+0.00000000e+00j]\n",
      "  [ 0.00000000e+00+0.00000000e+00j]\n",
      "  [ 0.00000000e+00+0.00000000e+00j]\n",
      "  [ 0.00000000e+00+0.00000000e+00j]\n",
      "  [ 0.00000000e+00+0.00000000e+00j]\n",
      "  [ 0.00000000e+00+0.00000000e+00j]\n",
      "  [ 0.00000000e+00+0.00000000e+00j]\n",
      "  [ 0.00000000e+00+0.00000000e+00j]\n",
      "  [ 0.00000000e+00+0.00000000e+00j]\n",
      "  [ 0.00000000e+00+0.00000000e+00j]\n",
      "  [ 0.00000000e+00+0.00000000e+00j]\n",
      "  [ 0.00000000e+00+0.00000000e+00j]\n",
      "  [ 0.00000000e+00+0.00000000e+00j]\n",
      "  [ 0.00000000e+00+0.00000000e+00j]\n",
      "  [ 0.00000000e+00+0.00000000e+00j]\n",
      "  [ 0.00000000e+00+0.00000000e+00j]\n",
      "  [ 0.00000000e+00+0.00000000e+00j]\n",
      "  [ 0.00000000e+00+0.00000000e+00j]\n",
      "  [ 0.00000000e+00+0.00000000e+00j]\n",
      "  [ 0.00000000e+00+0.00000000e+00j]\n",
      "  [ 0.00000000e+00+0.00000000e+00j]\n",
      "  [ 0.00000000e+00+0.00000000e+00j]\n",
      "  [ 0.00000000e+00+0.00000000e+00j]\n",
      "  [ 0.00000000e+00+0.00000000e+00j]\n",
      "  [ 0.00000000e+00+0.00000000e+00j]\n",
      "  [ 0.00000000e+00+0.00000000e+00j]\n",
      "  [ 0.00000000e+00+0.00000000e+00j]\n",
      "  [ 0.00000000e+00+0.00000000e+00j]\n",
      "  [ 0.00000000e+00+0.00000000e+00j]\n",
      "  [ 0.00000000e+00+0.00000000e+00j]]]\n"
     ]
    }
   ],
   "source": [
    "print(result.final_state)"
   ]
  },
  {
   "cell_type": "code",
   "execution_count": 15,
   "id": "2107f9e7",
   "metadata": {},
   "outputs": [
    {
     "name": "stdout",
     "output_type": "stream",
     "text": [
      "FgResult(optimized_trainable_parameters=[[Array([ 0.56028059, -6.32020193], dtype=float64), Array([-3.56962321], dtype=float64)], [Array([-7.99477043e-07,  3.14100353e+00], dtype=float64), Array([2.77362796], dtype=float64)], [Array([3.14147369e+00, 3.76765044e-07], dtype=float64), Array([-1.57658746], dtype=float64)], [Array([0.54369561, 6.38184408], dtype=float64), Array([2.61430116], dtype=float64)], [Array([ 3.64288481e-07, -3.14422887e+00], dtype=float64), Array([3.14159383], dtype=float64)]], iterations=1000, final_state=Array([[[ 4.19984315e-05-1.10385769e-06j],\n",
      "        [-8.42375825e-08-5.28111620e-08j],\n",
      "        [-7.07106588e-01-9.98539451e-08j],\n",
      "        [ 1.40454368e-05-4.90337326e-05j],\n",
      "        [ 1.34493825e-04+2.79463836e-05j],\n",
      "        [-3.17259534e-08-2.08223061e-07j],\n",
      "        [-7.07106764e-01-1.22412466e-07j],\n",
      "        [-6.04977148e-05-2.42910434e-05j],\n",
      "        [-4.18544291e-05-4.82056872e-04j],\n",
      "        [-5.91921616e-08+1.52059890e-07j],\n",
      "        [ 0.00000000e+00+0.00000000e+00j],\n",
      "        [-1.87424797e-04+1.62730962e-05j],\n",
      "        [ 0.00000000e+00+0.00000000e+00j],\n",
      "        [ 0.00000000e+00+0.00000000e+00j],\n",
      "        [ 0.00000000e+00+0.00000000e+00j],\n",
      "        [ 0.00000000e+00+0.00000000e+00j],\n",
      "        [ 0.00000000e+00+0.00000000e+00j],\n",
      "        [ 0.00000000e+00+0.00000000e+00j],\n",
      "        [ 0.00000000e+00+0.00000000e+00j],\n",
      "        [ 0.00000000e+00+0.00000000e+00j],\n",
      "        [ 0.00000000e+00+0.00000000e+00j],\n",
      "        [ 0.00000000e+00+0.00000000e+00j],\n",
      "        [ 0.00000000e+00+0.00000000e+00j],\n",
      "        [ 0.00000000e+00+0.00000000e+00j],\n",
      "        [ 0.00000000e+00+0.00000000e+00j],\n",
      "        [ 0.00000000e+00+0.00000000e+00j],\n",
      "        [ 0.00000000e+00+0.00000000e+00j],\n",
      "        [ 0.00000000e+00+0.00000000e+00j],\n",
      "        [ 0.00000000e+00+0.00000000e+00j],\n",
      "        [ 0.00000000e+00+0.00000000e+00j],\n",
      "        [ 0.00000000e+00+0.00000000e+00j],\n",
      "        [ 0.00000000e+00+0.00000000e+00j],\n",
      "        [ 0.00000000e+00+0.00000000e+00j],\n",
      "        [ 0.00000000e+00+0.00000000e+00j],\n",
      "        [ 0.00000000e+00+0.00000000e+00j],\n",
      "        [ 0.00000000e+00+0.00000000e+00j],\n",
      "        [ 0.00000000e+00+0.00000000e+00j],\n",
      "        [ 0.00000000e+00+0.00000000e+00j],\n",
      "        [ 0.00000000e+00+0.00000000e+00j],\n",
      "        [ 0.00000000e+00+0.00000000e+00j],\n",
      "        [ 0.00000000e+00+0.00000000e+00j],\n",
      "        [ 0.00000000e+00+0.00000000e+00j],\n",
      "        [ 0.00000000e+00+0.00000000e+00j],\n",
      "        [ 0.00000000e+00+0.00000000e+00j],\n",
      "        [ 0.00000000e+00+0.00000000e+00j],\n",
      "        [ 0.00000000e+00+0.00000000e+00j],\n",
      "        [ 0.00000000e+00+0.00000000e+00j],\n",
      "        [ 0.00000000e+00+0.00000000e+00j],\n",
      "        [ 0.00000000e+00+0.00000000e+00j],\n",
      "        [ 0.00000000e+00+0.00000000e+00j],\n",
      "        [ 0.00000000e+00+0.00000000e+00j],\n",
      "        [ 0.00000000e+00+0.00000000e+00j],\n",
      "        [ 0.00000000e+00+0.00000000e+00j],\n",
      "        [ 0.00000000e+00+0.00000000e+00j],\n",
      "        [ 0.00000000e+00+0.00000000e+00j],\n",
      "        [ 0.00000000e+00+0.00000000e+00j],\n",
      "        [ 0.00000000e+00+0.00000000e+00j],\n",
      "        [ 0.00000000e+00+0.00000000e+00j],\n",
      "        [ 0.00000000e+00+0.00000000e+00j],\n",
      "        [ 0.00000000e+00+0.00000000e+00j]],\n",
      "\n",
      "       [[ 4.19984315e-05-1.10385769e-06j],\n",
      "        [-8.42375825e-08-5.28111620e-08j],\n",
      "        [-7.07106588e-01-9.98539451e-08j],\n",
      "        [ 1.40454368e-05-4.90337326e-05j],\n",
      "        [ 1.34493825e-04+2.79463836e-05j],\n",
      "        [-3.17259534e-08-2.08223061e-07j],\n",
      "        [-7.07106764e-01-1.22412466e-07j],\n",
      "        [-6.04977148e-05-2.42910434e-05j],\n",
      "        [-4.18544291e-05-4.82056872e-04j],\n",
      "        [-5.91921616e-08+1.52059890e-07j],\n",
      "        [ 0.00000000e+00+0.00000000e+00j],\n",
      "        [-1.87424797e-04+1.62730962e-05j],\n",
      "        [ 0.00000000e+00+0.00000000e+00j],\n",
      "        [ 0.00000000e+00+0.00000000e+00j],\n",
      "        [ 0.00000000e+00+0.00000000e+00j],\n",
      "        [ 0.00000000e+00+0.00000000e+00j],\n",
      "        [ 0.00000000e+00+0.00000000e+00j],\n",
      "        [ 0.00000000e+00+0.00000000e+00j],\n",
      "        [ 0.00000000e+00+0.00000000e+00j],\n",
      "        [ 0.00000000e+00+0.00000000e+00j],\n",
      "        [ 0.00000000e+00+0.00000000e+00j],\n",
      "        [ 0.00000000e+00+0.00000000e+00j],\n",
      "        [ 0.00000000e+00+0.00000000e+00j],\n",
      "        [ 0.00000000e+00+0.00000000e+00j],\n",
      "        [ 0.00000000e+00+0.00000000e+00j],\n",
      "        [ 0.00000000e+00+0.00000000e+00j],\n",
      "        [ 0.00000000e+00+0.00000000e+00j],\n",
      "        [ 0.00000000e+00+0.00000000e+00j],\n",
      "        [ 0.00000000e+00+0.00000000e+00j],\n",
      "        [ 0.00000000e+00+0.00000000e+00j],\n",
      "        [ 0.00000000e+00+0.00000000e+00j],\n",
      "        [ 0.00000000e+00+0.00000000e+00j],\n",
      "        [ 0.00000000e+00+0.00000000e+00j],\n",
      "        [ 0.00000000e+00+0.00000000e+00j],\n",
      "        [ 0.00000000e+00+0.00000000e+00j],\n",
      "        [ 0.00000000e+00+0.00000000e+00j],\n",
      "        [ 0.00000000e+00+0.00000000e+00j],\n",
      "        [ 0.00000000e+00+0.00000000e+00j],\n",
      "        [ 0.00000000e+00+0.00000000e+00j],\n",
      "        [ 0.00000000e+00+0.00000000e+00j],\n",
      "        [ 0.00000000e+00+0.00000000e+00j],\n",
      "        [ 0.00000000e+00+0.00000000e+00j],\n",
      "        [ 0.00000000e+00+0.00000000e+00j],\n",
      "        [ 0.00000000e+00+0.00000000e+00j],\n",
      "        [ 0.00000000e+00+0.00000000e+00j],\n",
      "        [ 0.00000000e+00+0.00000000e+00j],\n",
      "        [ 0.00000000e+00+0.00000000e+00j],\n",
      "        [ 0.00000000e+00+0.00000000e+00j],\n",
      "        [ 0.00000000e+00+0.00000000e+00j],\n",
      "        [ 0.00000000e+00+0.00000000e+00j],\n",
      "        [ 0.00000000e+00+0.00000000e+00j],\n",
      "        [ 0.00000000e+00+0.00000000e+00j],\n",
      "        [ 0.00000000e+00+0.00000000e+00j],\n",
      "        [ 0.00000000e+00+0.00000000e+00j],\n",
      "        [ 0.00000000e+00+0.00000000e+00j],\n",
      "        [ 0.00000000e+00+0.00000000e+00j],\n",
      "        [ 0.00000000e+00+0.00000000e+00j],\n",
      "        [ 0.00000000e+00+0.00000000e+00j],\n",
      "        [ 0.00000000e+00+0.00000000e+00j],\n",
      "        [ 0.00000000e+00+0.00000000e+00j]]], dtype=complex128), returned_params=[[Array([[ 0.56028059, -6.32020193],\n",
      "       [ 0.56028059, -6.32020193]], dtype=float64), Array([[-3.56962321],\n",
      "       [-3.56962321]], dtype=float64)], [Array([[-7.99477043e-07,  3.14100353e+00],\n",
      "       [-7.99477043e-07,  3.14100353e+00]], dtype=float64), Array([[2.77362796],\n",
      "       [2.77362796]], dtype=float64)], [Array([[3.14147369e+00, 3.76765044e-07],\n",
      "       [3.14147369e+00, 3.76765044e-07]], dtype=float64), Array([[-1.57658746],\n",
      "       [-1.57658746]], dtype=float64)], [Array([[0.54369561, 6.38184408],\n",
      "       [0.54369561, 6.38184408]], dtype=float64), Array([[2.61430116],\n",
      "       [2.61430116]], dtype=float64)], [Array([[ 3.64288481e-07, -3.14422887e+00],\n",
      "       [ 3.64288481e-07, -3.14422887e+00]], dtype=float64), Array([[3.14159383],\n",
      "       [3.14159383]], dtype=float64)]], final_purity=None, final_fidelity=Array(0.9999997, dtype=float64))\n"
     ]
    }
   ],
   "source": [
    "print(result)"
   ]
  },
  {
   "cell_type": "code",
   "execution_count": 16,
   "id": "f9f60940",
   "metadata": {},
   "outputs": [
    {
     "data": {
      "text/plain": [
       "Array(0.9999997, dtype=float64)"
      ]
     },
     "execution_count": 16,
     "metadata": {},
     "output_type": "execute_result"
    }
   ],
   "source": [
    "result.final_fidelity"
   ]
  }
 ],
 "metadata": {
  "kernelspec": {
   "display_name": "Python 3",
   "language": "python",
   "name": "python3"
  },
  "language_info": {
   "codemirror_mode": {
    "name": "ipython",
    "version": 3
   },
   "file_extension": ".py",
   "mimetype": "text/x-python",
   "name": "python",
   "nbconvert_exporter": "python",
   "pygments_lexer": "ipython3",
   "version": "3.11.11"
  }
 },
 "nbformat": 4,
 "nbformat_minor": 5
}

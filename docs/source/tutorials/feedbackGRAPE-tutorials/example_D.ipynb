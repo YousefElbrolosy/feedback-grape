{
 "cells": [
  {
   "cell_type": "markdown",
   "id": "f76d2ebd",
   "metadata": {},
   "source": [
    "# D. State stabilization in a noisy environment with Jaynes-Cummings controls"
   ]
  },
  {
   "cell_type": "markdown",
   "id": "9018ebc9",
   "metadata": {},
   "source": [
    "Here the result is as follows: The algorithm optimizes the params, such that the POVM always outputs 1, implying that the measurement leaves the target state invariant. this is what we are indeed seeing when printing the measurement outcome and its probability, when batching however, the optimizer struggles to converge.\n",
    "\n",
    "Also, lookup here is much better than nn for the same hyperparameters."
   ]
  },
  {
   "cell_type": "markdown",
   "id": "e26d5142",
   "metadata": {},
   "source": [
    "This is actually a perfect example, of feedback grape modifying the params so that a certain measurement sequence will always be output because this measurement sequence is the one that is going to lead to the best fidelity"
   ]
  },
  {
   "cell_type": "code",
   "execution_count": 1,
   "id": "408d7729",
   "metadata": {
    "tags": [
     "remove-cell"
    ]
   },
   "outputs": [],
   "source": [
    "# ruff: noqa\n",
    "import os\n",
    "\n",
    "os.sys.path.append(\"../../../..\")"
   ]
  },
  {
   "cell_type": "code",
   "execution_count": 2,
   "id": "d81979c5",
   "metadata": {},
   "outputs": [],
   "source": [
    "from feedback_grape.fgrape import optimize_pulse_with_feedback\n",
    "from feedback_grape.utils.operators import (\n",
    "    sigmap,\n",
    "    sigmam,\n",
    "    create,\n",
    "    destroy,\n",
    "    identity,\n",
    "    cosm,\n",
    "    sinm,\n",
    ")\n",
    "from feedback_grape.utils.states import basis, fock\n",
    "from feedback_grape.utils.tensor import tensor\n",
    "import jax.numpy as jnp\n",
    "from jax.scipy.linalg import expm"
   ]
  },
  {
   "cell_type": "code",
   "execution_count": 3,
   "id": "fe4baf1a",
   "metadata": {},
   "outputs": [],
   "source": [
    "N_cav = 30"
   ]
  },
  {
   "cell_type": "markdown",
   "id": "bba9d984",
   "metadata": {},
   "source": [
    "## Here, dividing alpha into real and imaginary parts complicates the optimization and converges at 0.89 while if we do not use the imaginary part it converges at 0.999"
   ]
  },
  {
   "cell_type": "code",
   "execution_count": 4,
   "id": "1c912a34",
   "metadata": {},
   "outputs": [],
   "source": [
    "def qubit_unitary(alpha_re):\n",
    "    alpha = alpha_re\n",
    "    return tensor(\n",
    "        identity(N_cav),\n",
    "        expm(-1j * (alpha * sigmap() + alpha.conjugate() * sigmam()) / 2),\n",
    "    )"
   ]
  },
  {
   "cell_type": "code",
   "execution_count": 5,
   "id": "c1baa1bc",
   "metadata": {},
   "outputs": [],
   "source": [
    "def qubit_cavity_unitary(beta_re):\n",
    "    beta = beta_re\n",
    "    return expm(\n",
    "        -1j\n",
    "        * (\n",
    "            beta * (tensor(destroy(N_cav), sigmap()))\n",
    "            + beta.conjugate() * (tensor(create(N_cav), sigmam()))\n",
    "        )\n",
    "        / 2\n",
    "    )"
   ]
  },
  {
   "cell_type": "code",
   "execution_count": 6,
   "id": "70a6a5cd",
   "metadata": {},
   "outputs": [],
   "source": [
    "from feedback_grape.utils.operators import create, destroy\n",
    "\n",
    "\n",
    "def povm_measure_operator(measurement_outcome, params):\n",
    "    \"\"\"\n",
    "    POVM for the measurement of the cavity state.\n",
    "    returns Mm ( NOT the POVM element Em = Mm_dag @ Mm ), given measurement_outcome m, gamma and delta\n",
    "    \"\"\"\n",
    "    gamma, delta = params\n",
    "    number_operator = tensor(create(N_cav) @ destroy(N_cav), identity(2))\n",
    "    angle = (gamma * number_operator) + delta / 2\n",
    "    meas_op = jnp.where(\n",
    "        measurement_outcome == 1,\n",
    "        cosm(angle),\n",
    "        sinm(angle),\n",
    "    )\n",
    "    return meas_op"
   ]
  },
  {
   "cell_type": "code",
   "execution_count": 7,
   "id": "ce889fc2",
   "metadata": {},
   "outputs": [],
   "source": [
    "from feedback_grape.utils.states import coherent\n",
    "\n",
    "alpha = 3\n",
    "psi_target = tensor(\n",
    "    coherent(N_cav, alpha)\n",
    "    + coherent(N_cav, -alpha)\n",
    "    + coherent(N_cav, 1j * alpha)\n",
    "    + coherent(N_cav, -1j * alpha),\n",
    "    basis(2),\n",
    ")  # 4-legged state\n",
    "\n",
    "# Normalize psi_target before constructing rho_target\n",
    "psi_target = psi_target / jnp.linalg.norm(psi_target)\n",
    "rho_target = psi_target @ psi_target.conj().T"
   ]
  },
  {
   "cell_type": "code",
   "execution_count": 8,
   "id": "2321d333",
   "metadata": {},
   "outputs": [
    {
     "data": {
      "text/plain": [
       "(60, 60)"
      ]
     },
     "execution_count": 8,
     "metadata": {},
     "output_type": "execute_result"
    }
   ],
   "source": [
    "rho_target.shape"
   ]
  },
  {
   "cell_type": "markdown",
   "id": "565bfc6e",
   "metadata": {},
   "source": [
    "### It is important to test what the POVM probability is, to check if your state is normalized. if the probability is bounded between 0 and 1 then normalized"
   ]
  },
  {
   "cell_type": "code",
   "execution_count": 9,
   "id": "6599acde",
   "metadata": {},
   "outputs": [
    {
     "data": {
      "text/plain": [
       "Array(0.70390199, dtype=float64)"
      ]
     },
     "execution_count": 9,
     "metadata": {},
     "output_type": "execute_result"
    }
   ],
   "source": [
    "# TODO/Question: should one normalize within the optimization just in case?\n",
    "from feedback_grape.utils.povm import (\n",
    "    _probability_of_a_measurement_outcome_given_a_certain_state,\n",
    ")\n",
    "\n",
    "_probability_of_a_measurement_outcome_given_a_certain_state(\n",
    "    rho_target, 1, povm_measure_operator, [0.058, jnp.pi / 2]\n",
    ")"
   ]
  },
  {
   "cell_type": "code",
   "execution_count": 10,
   "id": "6439b369",
   "metadata": {},
   "outputs": [
    {
     "name": "stdout",
     "output_type": "stream",
     "text": [
      "1.000000011680078\n"
     ]
    }
   ],
   "source": [
    "from feedback_grape.utils.fidelity import fidelity\n",
    "\n",
    "print(fidelity(U_final=rho_target, C_target=rho_target, evo_type=\"density\"))"
   ]
  },
  {
   "cell_type": "markdown",
   "id": "56f2b30f",
   "metadata": {},
   "source": [
    "### Without dissipation"
   ]
  },
  {
   "cell_type": "code",
   "execution_count": 11,
   "id": "5329d87d",
   "metadata": {},
   "outputs": [],
   "source": [
    "# Here the loss directly corressponds to the -fidelity (when converging) because log(1) is 0 and\n",
    "# the algorithm is choosing params that makes the POVM generate prob = 1\n",
    "from feedback_grape.fgrape import Gate, Decay\n",
    "\n",
    "measure = Gate(\n",
    "    gate=povm_measure_operator,\n",
    "    initial_params=[0.058, jnp.pi / 2],  # gamma and\n",
    "    measurement_flag=True,\n",
    ")\n",
    "\n",
    "qub_unitary = Gate(\n",
    "    gate=qubit_unitary,\n",
    "    initial_params=[jnp.pi / 3],  # alpha\n",
    "    measurement_flag=False,\n",
    "    # \"param_constraints\": [[0, 0.5], [-1, 1]],\n",
    ")\n",
    "\n",
    "qub_cav = Gate(\n",
    "    gate=qubit_cavity_unitary,\n",
    "    initial_params=[jnp.pi / 3],  # beta\n",
    "    measurement_flag=False,\n",
    "    # \"param_constraints\": [[0, 0.5], [-1, 1]],\n",
    ")\n",
    "\n",
    "\n",
    "system_params = [measure, qub_unitary, qub_cav]\n",
    "result = optimize_pulse_with_feedback(\n",
    "    U_0=rho_target,\n",
    "    C_target=rho_target,\n",
    "    system_params=system_params,\n",
    "    num_time_steps=1,\n",
    "    mode=\"lookup\",\n",
    "    goal=\"fidelity\",\n",
    "    max_iter=1000,\n",
    "    convergence_threshold=1e-16,\n",
    "    learning_rate=0.02,\n",
    "    evo_type=\"density\",\n",
    "    batch_size=1,\n",
    ")"
   ]
  },
  {
   "cell_type": "code",
   "execution_count": 12,
   "id": "242b562a",
   "metadata": {},
   "outputs": [
    {
     "name": "stdout",
     "output_type": "stream",
     "text": [
      "0.999995162213917\n"
     ]
    }
   ],
   "source": [
    "# 0.999995162213917\n",
    "print(result.final_fidelity)"
   ]
  },
  {
   "cell_type": "code",
   "execution_count": 13,
   "id": "f410e7e2",
   "metadata": {},
   "outputs": [
    {
     "data": {
      "text/plain": [
       "[Array([1.06202532e-09, 1.46607657e+00], dtype=float64),\n",
       " Array([1.04719755], dtype=float64),\n",
       " Array([1.04719755], dtype=float64)]"
      ]
     },
     "execution_count": 13,
     "metadata": {},
     "output_type": "execute_result"
    }
   ],
   "source": [
    "result.optimized_trainable_parameters[\"initial_params\"]"
   ]
  },
  {
   "cell_type": "code",
   "execution_count": 14,
   "id": "09d6f7db",
   "metadata": {},
   "outputs": [
    {
     "data": {
      "text/plain": [
       "[[Array([[1.06202532e-09, 1.46607657e+00],\n",
       "         [1.06202532e-09, 1.46607657e+00],\n",
       "         [1.06202532e-09, 1.46607657e+00],\n",
       "         [1.06202532e-09, 1.46607657e+00],\n",
       "         [1.06202532e-09, 1.46607657e+00],\n",
       "         [1.06202532e-09, 1.46607657e+00],\n",
       "         [1.06202532e-09, 1.46607657e+00],\n",
       "         [1.06202532e-09, 1.46607657e+00],\n",
       "         [1.06202532e-09, 1.46607657e+00],\n",
       "         [1.06202532e-09, 1.46607657e+00]], dtype=float64),\n",
       "  Array([[-0.00622567],\n",
       "         [-0.00622567],\n",
       "         [-0.00622567],\n",
       "         [-0.00622567],\n",
       "         [-0.00622567],\n",
       "         [-0.00622567],\n",
       "         [-0.00622567],\n",
       "         [-0.00622567],\n",
       "         [-0.00622567],\n",
       "         [-0.00622567]], dtype=float64),\n",
       "  Array([[-4.05896188e-05],\n",
       "         [-4.05896188e-05],\n",
       "         [-4.05896188e-05],\n",
       "         [-4.05896188e-05],\n",
       "         [-4.05896188e-05],\n",
       "         [-4.05896188e-05],\n",
       "         [-4.05896188e-05],\n",
       "         [-4.05896188e-05],\n",
       "         [-4.05896188e-05],\n",
       "         [-4.05896188e-05]], dtype=float64)]]"
      ]
     },
     "execution_count": 14,
     "metadata": {},
     "output_type": "execute_result"
    }
   ],
   "source": [
    "result.returned_params"
   ]
  },
  {
   "cell_type": "code",
   "execution_count": 15,
   "id": "546d79dd",
   "metadata": {},
   "outputs": [
    {
     "name": "stdout",
     "output_type": "stream",
     "text": [
      "initial fidelity: 1.000000011680078\n",
      "fidelity of state 0: 0.9999951622139169\n",
      "fidelity of state 1: 0.9999951622139169\n",
      "fidelity of state 2: 0.9999951622139169\n",
      "fidelity of state 3: 0.9999951622139169\n",
      "fidelity of state 4: 0.9999951622139169\n",
      "fidelity of state 5: 0.9999951622139169\n",
      "fidelity of state 6: 0.9999951622139169\n",
      "fidelity of state 7: 0.9999951622139169\n",
      "fidelity of state 8: 0.9999951622139169\n",
      "fidelity of state 9: 0.9999951622139169\n"
     ]
    }
   ],
   "source": [
    "from feedback_grape.utils.fidelity import fidelity\n",
    "\n",
    "print(\n",
    "    \"initial fidelity:\",\n",
    "    fidelity(C_target=rho_target, U_final=rho_target, evo_type=\"density\"),\n",
    ")\n",
    "for i, state in enumerate(result.final_state):\n",
    "    print(\n",
    "        f\"fidelity of state {i}:\",\n",
    "        fidelity(C_target=rho_target, U_final=state, evo_type=\"density\"),\n",
    "    )"
   ]
  },
  {
   "cell_type": "markdown",
   "id": "f2190e32",
   "metadata": {},
   "source": [
    "### With Dissipation"
   ]
  },
  {
   "cell_type": "code",
   "execution_count": 16,
   "id": "eec5fd59",
   "metadata": {},
   "outputs": [],
   "source": [
    "# Note if tsave = jnp.linspace(0, 1, 1) = [0.0] then the decay is not applied ?\n",
    "# because the first time step has the original non decayed state\n",
    "# Question: Here I should not use any sort of Hamiltonian or tspan or something?\n",
    "decay = Decay(\n",
    "    c_ops=[tensor(identity(N_cav), jnp.sqrt(0.15) * sigmam())],\n",
    ")\n",
    "# not supported to have decay at very end, not supported to have multiple consecutive decays\n",
    "# TODO: use system_params in calculate time step instead: \n",
    "system_params = [decay, measure, qub_unitary, qub_cav]\n",
    "result = optimize_pulse_with_feedback(\n",
    "    U_0=rho_target,\n",
    "    C_target=rho_target,\n",
    "    system_params=system_params,\n",
    "    num_time_steps=1,\n",
    "    mode=\"lookup\",\n",
    "    goal=\"fidelity\",\n",
    "    max_iter=1000,\n",
    "    convergence_threshold=1e-6,\n",
    "    learning_rate=0.02,\n",
    "    evo_type=\"density\",\n",
    "    batch_size=1,\n",
    ")"
   ]
  },
  {
   "cell_type": "code",
   "execution_count": 17,
   "id": "3419d96d",
   "metadata": {},
   "outputs": [
    {
     "name": "stdout",
     "output_type": "stream",
     "text": [
      "0.9277299964479836\n"
     ]
    }
   ],
   "source": [
    "print(result.final_fidelity)"
   ]
  },
  {
   "cell_type": "code",
   "execution_count": 18,
   "id": "20bb8cdb",
   "metadata": {},
   "outputs": [
    {
     "name": "stdout",
     "output_type": "stream",
     "text": [
      "initial fidelity: 1.000000011680078\n",
      "fidelity of state 0: 0.9277299964479836\n",
      "fidelity of state 1: 0.9277299964479836\n",
      "fidelity of state 2: 0.9277299964479836\n",
      "fidelity of state 3: 0.9277299964479836\n",
      "fidelity of state 4: 0.9277299964479836\n",
      "fidelity of state 5: 0.9277299964479836\n",
      "fidelity of state 6: 0.9277299964479836\n",
      "fidelity of state 7: 0.9277299964479836\n",
      "fidelity of state 8: 0.9277299964479836\n",
      "fidelity of state 9: 0.9277299964479836\n"
     ]
    }
   ],
   "source": [
    "from feedback_grape.utils.fidelity import fidelity\n",
    "\n",
    "print(\n",
    "    \"initial fidelity:\",\n",
    "    fidelity(C_target=rho_target, U_final=rho_target, evo_type=\"density\"),\n",
    ")\n",
    "for i, state in enumerate(result.final_state):\n",
    "    print(\n",
    "        f\"fidelity of state {i}:\",\n",
    "        fidelity(C_target=rho_target, U_final=state, evo_type=\"density\"),\n",
    "    )"
   ]
  },
  {
   "cell_type": "code",
   "execution_count": 19,
   "id": "51c5f007",
   "metadata": {},
   "outputs": [
    {
     "data": {
      "text/plain": [
       "[[Array([[5.05638126e-04, 1.67543401e+00],\n",
       "         [5.05638126e-04, 1.67543401e+00],\n",
       "         [5.05638126e-04, 1.67543401e+00],\n",
       "         [5.05638126e-04, 1.67543401e+00],\n",
       "         [5.05638126e-04, 1.67543401e+00],\n",
       "         [5.05638126e-04, 1.67543401e+00],\n",
       "         [5.05638126e-04, 1.67543401e+00],\n",
       "         [5.05638126e-04, 1.67543401e+00],\n",
       "         [5.05638126e-04, 1.67543401e+00],\n",
       "         [5.05638126e-04, 1.67543401e+00]], dtype=float64),\n",
       "  Array([[-0.00195678],\n",
       "         [-0.00195678],\n",
       "         [-0.00195678],\n",
       "         [-0.00195678],\n",
       "         [-0.00195678],\n",
       "         [-0.00195678],\n",
       "         [-0.00195678],\n",
       "         [-0.00195678],\n",
       "         [-0.00195678],\n",
       "         [-0.00195678]], dtype=float64),\n",
       "  Array([[0.00336197],\n",
       "         [0.00336197],\n",
       "         [0.00336197],\n",
       "         [0.00336197],\n",
       "         [0.00336197],\n",
       "         [0.00336197],\n",
       "         [0.00336197],\n",
       "         [0.00336197],\n",
       "         [0.00336197],\n",
       "         [0.00336197]], dtype=float64)]]"
      ]
     },
     "execution_count": 19,
     "metadata": {},
     "output_type": "execute_result"
    }
   ],
   "source": [
    "result.returned_params"
   ]
  },
  {
   "cell_type": "code",
   "execution_count": 20,
   "id": "6c4441f2",
   "metadata": {},
   "outputs": [
    {
     "data": {
      "text/plain": [
       "[Array([5.05638126e-04, 1.67543401e+00], dtype=float64),\n",
       " Array([1.04719755], dtype=float64),\n",
       " Array([1.04719755], dtype=float64)]"
      ]
     },
     "execution_count": 20,
     "metadata": {},
     "output_type": "execute_result"
    }
   ],
   "source": [
    "result.optimized_trainable_parameters[\"initial_params\"]"
   ]
  }
 ],
 "metadata": {
  "kernelspec": {
   "display_name": "Python 3",
   "language": "python",
   "name": "python3"
  },
  "language_info": {
   "codemirror_mode": {
    "name": "ipython",
    "version": 3
   },
   "file_extension": ".py",
   "mimetype": "text/x-python",
   "name": "python",
   "nbconvert_exporter": "python",
   "pygments_lexer": "ipython3",
   "version": "3.11.11"
  }
 },
 "nbformat": 4,
 "nbformat_minor": 5
}

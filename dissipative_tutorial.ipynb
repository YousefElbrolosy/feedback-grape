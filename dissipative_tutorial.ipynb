{
 "cells": [
  {
   "cell_type": "markdown",
   "id": "81807a12",
   "metadata": {},
   "source": [
    "# GRAPE for systems with Dissipation"
   ]
  },
  {
   "cell_type": "code",
   "execution_count": 1,
   "id": "03e56e79",
   "metadata": {},
   "outputs": [],
   "source": [
    "# ruff: noqa"
   ]
  },
  {
   "cell_type": "code",
   "execution_count": 2,
   "id": "4e8daf6c",
   "metadata": {},
   "outputs": [],
   "source": [
    "import jax.numpy as jnp\n",
    "from feedback_grape.grape import *\n",
    "from feedback_grape.utils.gates import *\n",
    "from feedback_grape.utils.operators import *\n",
    "from feedback_grape.utils.states import *\n",
    "from feedback_grape.utils.superoperator import *\n",
    "from feedback_grape.utils.tensor import *"
   ]
  },
  {
   "cell_type": "code",
   "execution_count": 28,
   "id": "6597d588",
   "metadata": {},
   "outputs": [],
   "source": [
    "Sx = sigmax()\n",
    "Sy = sigmay()\n",
    "Sz = sigmaz()\n",
    "Sm = sigmam()\n",
    "Si = identity(2) @ identity(2).conj().T\n",
    "\n",
    "had_gate = hadamard().conj().T\n",
    "# Hamiltonian\n",
    "Del = 0.1  # Tunnelling term\n",
    "wq = 1.0  # Energy of the 2-level system.\n",
    "H0 = 0.5 * wq * sigmaz() + 0.5 * Del * sigmax()\n",
    "\n",
    "# Amplitude damping#\n",
    "# Damping rate:\n",
    "gamma = 0.1\n",
    "L0 = liouvillian(H0, [jnp.sqrt(gamma) * Sm])\n",
    "\n",
    "Hs = [Sx, Sy, Sz]  # Hamiltonian controls\n",
    "\n",
    "# sigma X control\n",
    "LC_x = liouvillian(Sx)\n",
    "# sigma Y control\n",
    "LC_y = liouvillian(Sy)\n",
    "# sigma Z control\n",
    "LC_z = liouvillian(Sz)\n",
    "\n",
    "# Drift\n",
    "drift = L0\n",
    "# Controls - different combinations can be tried\n",
    "ctrls = [LC_z, LC_x]\n",
    "# Number of ctrls\n",
    "n_ctrls = len(ctrls)\n",
    "\n",
    "# start point for the map evolution\n",
    "E0 = sprepost(Si, Si)\n",
    "\n",
    "# target for map evolution\n",
    "E_targ = sprepost(had_gate, had_gate)"
   ]
  },
  {
   "cell_type": "code",
   "execution_count": 29,
   "id": "40f3808f",
   "metadata": {},
   "outputs": [],
   "source": [
    "# Number of time slots\n",
    "n_ts = 10\n",
    "# Time allowed for the evolution\n",
    "evo_time = 2"
   ]
  },
  {
   "cell_type": "code",
   "execution_count": 21,
   "id": "45baa078",
   "metadata": {},
   "outputs": [],
   "source": [
    "result = optimize_pulse(\n",
    "    drift,\n",
    "    ctrls,\n",
    "    E0,\n",
    "    E_targ,\n",
    "    n_ts,\n",
    "    evo_time,\n",
    "    type=\"superoperator\",\n",
    "    optimizer=\"adam\",\n",
    "    convergence_threshold=1e-16,\n",
    "    max_iter=1000,\n",
    "    learning_rate=0.01,\n",
    "    propcomp=\"memory-efficient\"\n",
    ")"
   ]
  },
  {
   "cell_type": "code",
   "execution_count": 22,
   "id": "f3f91825",
   "metadata": {},
   "outputs": [
    {
     "data": {
      "text/plain": [
       "result(control_amplitudes=Array([[ 0.28188125, -0.17997523],\n",
       "       [ 0.37115688,  0.03234856],\n",
       "       [ 0.43806319, -0.08515268],\n",
       "       [ 0.41188119, -0.03062981],\n",
       "       [ 0.16348436, -0.03787871],\n",
       "       [ 0.16660085, -0.13161439],\n",
       "       [ 0.45696588,  0.07392594],\n",
       "       [ 0.37858587, -0.14173639],\n",
       "       [ 0.03038538, -0.05791306],\n",
       "       [ 0.15622052,  0.05829588]], dtype=float64), final_fidelity=Array(0.99588702, dtype=float64), iterations=1000, final_operator=Array([[ 6.69782544e-01+3.86725987e-21j,  6.00043094e-04+2.15282298e-02j,\n",
       "         6.00043094e-04-2.15282298e-02j,  6.92509743e-04+7.88577408e-21j],\n",
       "       [ 2.45747277e-04-1.68366390e-02j, -8.18093101e-01+4.26748819e-05j,\n",
       "        -6.27002426e-04-3.45964855e-05j, -7.31435297e-04+2.62957844e-02j],\n",
       "       [ 2.45747277e-04+1.68366390e-02j, -6.27002426e-04+3.45964855e-05j,\n",
       "        -8.18093101e-01-4.26748819e-05j, -7.31435297e-04-2.62957844e-02j],\n",
       "       [ 3.30217456e-01-3.86725987e-21j, -6.00043094e-04-2.15282298e-02j,\n",
       "        -6.00043094e-04+2.15282298e-02j,  9.99307490e-01-7.88577408e-21j]],      dtype=complex128))"
      ]
     },
     "execution_count": 22,
     "metadata": {},
     "output_type": "execute_result"
    }
   ],
   "source": [
    "result"
   ]
  },
  {
   "cell_type": "code",
   "execution_count": null,
   "id": "a5d39fcd",
   "metadata": {},
   "outputs": [],
   "source": [
    "result_2 = optimize_pulse(\n",
    "    H_drift=H0,\n",
    "    H_control=Hs,\n",
    "    U_0=Si,\n",
    "    C_target=had_gate,\n",
    "    num_t_slots=n_ts,\n",
    "    total_evo_time=evo_time,\n",
    "    c_ops=[jnp.sqrt(gamma) * Sm],\n",
    "    type=\"density\",\n",
    "    optimizer=\"l-bfgs\",\n",
    "    convergence_threshold=1e-16,\n",
    "    max_iter=1000,\n",
    "    learning_rate=0.01,\n",
    "    propcomp=\"memory-efficient\"\n",
    ")"
   ]
  },
  {
   "cell_type": "code",
   "execution_count": 31,
   "id": "663499a6",
   "metadata": {},
   "outputs": [
    {
     "data": {
      "text/plain": [
       "result(control_amplitudes=Array([[nan, nan, nan],\n",
       "       [nan, nan, nan],\n",
       "       [nan, nan, nan],\n",
       "       [nan, nan, nan],\n",
       "       [nan, nan, nan],\n",
       "       [nan, nan, nan],\n",
       "       [nan, nan, nan],\n",
       "       [nan, nan, nan],\n",
       "       [nan, nan, nan],\n",
       "       [nan, nan, nan]], dtype=float64), final_fidelity=Array(0., dtype=float64), iterations=2, final_operator=Array([[nan+nanj, nan+nanj],\n",
       "       [nan+nanj, nan+nanj]], dtype=complex128))"
      ]
     },
     "execution_count": 31,
     "metadata": {},
     "output_type": "execute_result"
    }
   ],
   "source": [
    "result_2"
   ]
  },
  {
   "cell_type": "code",
   "execution_count": 16,
   "id": "5db580f8",
   "metadata": {},
   "outputs": [
    {
     "name": "stdout",
     "output_type": "stream",
     "text": [
      "0.995887021027934\n"
     ]
    }
   ],
   "source": [
    "print(fidelity(C_target= E_targ, U_final=result.final_operator, type=\"superoperator\"))"
   ]
  },
  {
   "cell_type": "code",
   "execution_count": null,
   "id": "853b0b19",
   "metadata": {},
   "outputs": [],
   "source": []
  }
 ],
 "metadata": {
  "kernelspec": {
   "display_name": "Python 3",
   "language": "python",
   "name": "python3"
  },
  "language_info": {
   "codemirror_mode": {
    "name": "ipython",
    "version": 3
   },
   "file_extension": ".py",
   "mimetype": "text/x-python",
   "name": "python",
   "nbconvert_exporter": "python",
   "pygments_lexer": "ipython3",
   "version": "3.11.11"
  }
 },
 "nbformat": 4,
 "nbformat_minor": 5
}

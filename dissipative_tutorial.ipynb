{
 "cells": [
  {
   "cell_type": "markdown",
   "id": "81807a12",
   "metadata": {},
   "source": [
    "# GRAPE for systems with Dissipation"
   ]
  },
  {
   "cell_type": "code",
   "execution_count": 1,
   "id": "03e56e79",
   "metadata": {},
   "outputs": [],
   "source": [
    "# ruff: noqa"
   ]
  },
  {
   "cell_type": "code",
   "execution_count": 2,
   "id": "4e8daf6c",
   "metadata": {},
   "outputs": [],
   "source": [
    "import jax.numpy as jnp\n",
    "from feedback_grape.grape import *\n",
    "from feedback_grape.utils.gates import *\n",
    "from feedback_grape.utils.operators import *\n",
    "from feedback_grape.utils.states import *\n",
    "from feedback_grape.utils.superoperator import *\n",
    "from feedback_grape.utils.tensor import *"
   ]
  },
  {
   "cell_type": "code",
   "execution_count": 3,
   "id": "6597d588",
   "metadata": {},
   "outputs": [],
   "source": [
    "Sx = sigmax()\n",
    "Sy = sigmay()\n",
    "Sz = sigmaz()\n",
    "Sm = sigmam()\n",
    "Si = identity(2)\n",
    "had_gate = hadamard()\n",
    "# Hamiltonian\n",
    "Del = 0.1  # Tunnelling term\n",
    "wq = 1.0  # Energy of the 2-level system.\n",
    "H0 = 0.5 * wq * sigmaz() + 0.5 * Del * sigmax()\n",
    "\n",
    "# Amplitude damping#\n",
    "# Damping rate:\n",
    "gamma = 0.1\n",
    "L0 = liouvillian(H0, [jnp.sqrt(gamma) * Sm, jnp.sqrt(gamma *2) * Sm.T])\n",
    "\n",
    "# sigma X control\n",
    "LC_x = liouvillian(Sx)\n",
    "# sigma Y control\n",
    "LC_y = liouvillian(Sy)\n",
    "# sigma Z control\n",
    "LC_z = liouvillian(Sz)\n",
    "\n",
    "# Drift\n",
    "drift = L0\n",
    "# Controls - different combinations can be tried\n",
    "ctrls = [LC_z, LC_x]\n",
    "# Number of ctrls\n",
    "n_ctrls = len(ctrls)\n",
    "\n",
    "# start point for the map evolution\n",
    "E0 = sprepost(Si, Si)\n",
    "\n",
    "# target for map evolution\n",
    "E_targ = sprepost(had_gate, had_gate)"
   ]
  },
  {
   "cell_type": "code",
   "execution_count": 4,
   "id": "40f3808f",
   "metadata": {},
   "outputs": [],
   "source": [
    "# Number of time slots\n",
    "n_ts = 10\n",
    "# Time allowed for the evolution\n",
    "evo_time = 2"
   ]
  },
  {
   "cell_type": "code",
   "execution_count": 5,
   "id": "45baa078",
   "metadata": {},
   "outputs": [],
   "source": [
    "# result = optimize_pulse(\n",
    "#     drift,\n",
    "#     ctrls,\n",
    "#     E0,\n",
    "#     E_targ,\n",
    "#     n_ts,\n",
    "#     evo_time,\n",
    "#     type=\"liouvillian\",\n",
    "#     optimizer=\"adam\",\n",
    "#     convergence_threshold=1e-16,\n",
    "#     max_iter=10000,\n",
    "#     learning_rate=0.1,\n",
    "# )"
   ]
  },
  {
   "cell_type": "code",
   "execution_count": 6,
   "id": "085f3df8",
   "metadata": {},
   "outputs": [
    {
     "data": {
      "text/plain": [
       "_tuplegetter(1, 'Alias for field number 1')"
      ]
     },
     "execution_count": 6,
     "metadata": {},
     "output_type": "execute_result"
    }
   ],
   "source": [
    "result.final_fidelity"
   ]
  },
  {
   "cell_type": "code",
   "execution_count": 7,
   "id": "995e22fc",
   "metadata": {},
   "outputs": [
    {
     "name": "stdout",
     "output_type": "stream",
     "text": [
      "(2, 2)\n"
     ]
    },
    {
     "name": "stderr",
     "output_type": "stream",
     "text": [
      "|██████████| 100.0% ◆ elapsed 3.16ms ◆ remaining 0.00ms\n"
     ]
    }
   ],
   "source": [
    "from feedback_grape.utils.solver import mesolve\n",
    "from feedback_grape.utils.states import coherent\n",
    "jump_ops = [jnp.sqrt(gamma) * Sm, jnp.sqrt(gamma *2) * Sm.T]\n",
    "\n",
    "H0 = 0.5 * wq * sigmaz() + 0.5 * Del * sigmax()\n",
    "H_ctrl = [Sz, Sx]\n",
    "\n",
    "tsave = jnp.linspace(0, evo_time, n_ts + 1)\n",
    "\n",
    "psi = coherent(2, alpha=1.0+0j)\n",
    "rho0 = psi @ psi.T.conj()\n",
    "\n",
    "print(rho0.shape)\n",
    "\n",
    "mesolve_result = mesolve([H0] + H_ctrl, jump_ops, rho0, tsave)"
   ]
  },
  {
   "cell_type": "code",
   "execution_count": 8,
   "id": "58341ce7",
   "metadata": {},
   "outputs": [
    {
     "name": "stdout",
     "output_type": "stream",
     "text": [
      "[[[0.36787944+0.j         0.36787944+0.j        ]\n",
      "  [0.36787944+0.j         0.36787944+0.j        ]]\n",
      "\n",
      " [[0.37483326+0.j         0.35700696+0.00140923j]\n",
      "  [0.35700696-0.00140923j 0.36092563+0.j        ]]\n",
      "\n",
      " [[0.38033556+0.j         0.34645581+0.00525902j]\n",
      "  [0.34645581-0.00525902j 0.35542332+0.j        ]]\n",
      "\n",
      " [[0.38367043+0.j         0.33621649+0.01075124j]\n",
      "  [0.33621649-0.01075124j 0.35208845+0.j        ]]\n",
      "\n",
      " [[0.38451652+0.j         0.32627979+0.01690675j]\n",
      "  [0.32627979-0.01690675j 0.35124236+0.j        ]]\n",
      "\n",
      " [[0.38295725+0.j         0.31663677+0.02272764j]\n",
      "  [0.31663677-0.02272764j 0.35280163+0.j        ]]\n",
      "\n",
      " [[0.37943957+0.j         0.30727874+0.02735536j]\n",
      "  [0.30727874-0.02735536j 0.35631931+0.j        ]]\n",
      "\n",
      " [[0.37466727+0.j         0.29819728+0.03018478j]\n",
      "  [0.29819728-0.03018478j 0.36109162+0.j        ]]\n",
      "\n",
      " [[0.36947844+0.j         0.28938422+0.03093984j]\n",
      "  [0.28938422-0.03093984j 0.36628044+0.j        ]]\n",
      "\n",
      " [[0.36469991+0.j         0.28083162+0.02968301j]\n",
      "  [0.28083162-0.02968301j 0.37105897+0.j        ]]\n",
      "\n",
      " [[0.36102691+0.j         0.27253179+0.02677983j]\n",
      "  [0.27253179-0.02677983j 0.37473197+0.j        ]]]\n"
     ]
    }
   ],
   "source": [
    "print(mesolve_result)"
   ]
  },
  {
   "cell_type": "code",
   "execution_count": null,
   "id": "2f2d8643",
   "metadata": {},
   "outputs": [],
   "source": []
  }
 ],
 "metadata": {
  "kernelspec": {
   "display_name": "Python 3",
   "language": "python",
   "name": "python3"
  },
  "language_info": {
   "codemirror_mode": {
    "name": "ipython",
    "version": 3
   },
   "file_extension": ".py",
   "mimetype": "text/x-python",
   "name": "python",
   "nbconvert_exporter": "python",
   "pygments_lexer": "ipython3",
   "version": "3.11.11"
  }
 },
 "nbformat": 4,
 "nbformat_minor": 5
}

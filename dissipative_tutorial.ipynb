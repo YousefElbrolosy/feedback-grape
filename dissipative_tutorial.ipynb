{
 "cells": [
  {
   "cell_type": "markdown",
   "id": "81807a12",
   "metadata": {},
   "source": [
    "# GRAPE for systems with Dissipation"
   ]
  },
  {
   "cell_type": "code",
   "execution_count": 1,
   "id": "03e56e79",
   "metadata": {},
   "outputs": [],
   "source": [
    "# ruff: noqa"
   ]
  },
  {
   "cell_type": "code",
   "execution_count": 2,
   "id": "4e8daf6c",
   "metadata": {},
   "outputs": [],
   "source": [
    "import jax.numpy as jnp\n",
    "from feedback_grape.grape import *\n",
    "from feedback_grape.utils.gates import *\n",
    "from feedback_grape.utils.operators import *\n",
    "from feedback_grape.utils.states import *\n",
    "from feedback_grape.utils.superoperator import *\n",
    "from feedback_grape.utils.tensor import *"
   ]
  },
  {
   "cell_type": "code",
   "execution_count": 3,
   "id": "6597d588",
   "metadata": {},
   "outputs": [],
   "source": [
    "Sx = sigmax()\n",
    "Sy = sigmay()\n",
    "Sz = sigmaz()\n",
    "Sm = sigmam()\n",
    "Si = identity(2)\n",
    "had_gate = hadamard()\n",
    "# Hamiltonian\n",
    "Del = 0.1  # Tunnelling term\n",
    "wq = 1.0  # Energy of the 2-level system.\n",
    "H0 = 0.5 * wq * sigmaz() + 0.5 * Del * sigmax()\n",
    "\n",
    "# Amplitude damping#\n",
    "# Damping rate:\n",
    "gamma = 5\n",
    "L0 = liouvillian(H0, [jnp.sqrt(gamma) * Sm])\n",
    "\n",
    "# sigma X control\n",
    "LC_x = liouvillian(Sx)\n",
    "# sigma Y control\n",
    "LC_y = liouvillian(Sy)\n",
    "# sigma Z control\n",
    "LC_z = liouvillian(Sz)\n",
    "\n",
    "# Drift\n",
    "drift = L0\n",
    "# Controls - different combinations can be tried\n",
    "ctrls = [LC_z, LC_x]\n",
    "# Number of ctrls\n",
    "n_ctrls = len(ctrls)\n",
    "\n",
    "# start point for the map evolution\n",
    "E0 = sprepost(Si, Si)\n",
    "\n",
    "# target for map evolution\n",
    "E_targ = sprepost(had_gate, had_gate)"
   ]
  },
  {
   "cell_type": "code",
   "execution_count": 4,
   "id": "40f3808f",
   "metadata": {},
   "outputs": [],
   "source": [
    "# Number of time slots\n",
    "n_ts = 10\n",
    "# Time allowed for the evolution\n",
    "evo_time = 2"
   ]
  },
  {
   "cell_type": "code",
   "execution_count": 5,
   "id": "45baa078",
   "metadata": {},
   "outputs": [],
   "source": [
    "# result = optimize_pulse(\n",
    "#     drift,\n",
    "#     ctrls,\n",
    "#     E0,\n",
    "#     E_targ,\n",
    "#     n_ts,\n",
    "#     evo_time,\n",
    "#     type=\"liouvillian\",\n",
    "#     optimizer=\"adam\",\n",
    "#     convergence_threshold=1e-16,\n",
    "#     max_iter=10000,\n",
    "#     learning_rate=0.1,\n",
    "# )"
   ]
  },
  {
   "cell_type": "code",
   "execution_count": 6,
   "id": "085f3df8",
   "metadata": {},
   "outputs": [
    {
     "data": {
      "text/plain": [
       "_tuplegetter(1, 'Alias for field number 1')"
      ]
     },
     "execution_count": 6,
     "metadata": {},
     "output_type": "execute_result"
    }
   ],
   "source": [
    "result.final_fidelity"
   ]
  },
  {
   "cell_type": "code",
   "execution_count": 7,
   "id": "995e22fc",
   "metadata": {},
   "outputs": [
    {
     "name": "stdout",
     "output_type": "stream",
     "text": [
      "(2, 2)\n"
     ]
    }
   ],
   "source": [
    "from feedback_grape.utils.solver import mesolve_1\n",
    "from feedback_grape.utils.states import coherent\n",
    "\n",
    "jump_ops = [jnp.sqrt(gamma) * Sm, jnp.sqrt(gamma * 2) * Sm.T]\n",
    "\n",
    "H0 = 0.5 * wq * sigmaz() + 0.5 * Del * sigmax()\n",
    "H_ctrl = [Sz, Sx]\n",
    "\n",
    "tsave = jnp.linspace(0, evo_time, n_ts)\n",
    "\n",
    "psi = coherent(2, alpha=1.0)\n",
    "rho0 = psi @ psi.T.conj()\n",
    "\n",
    "print(rho0.shape)\n",
    "\n",
    "mesolve_result_2 = mesolve_1([H0] + H_ctrl, jump_ops, rho0, tsave)"
   ]
  },
  {
   "cell_type": "code",
   "execution_count": 8,
   "id": "d7700bbb",
   "metadata": {},
   "outputs": [
    {
     "name": "stdout",
     "output_type": "stream",
     "text": [
      "3\n"
     ]
    }
   ],
   "source": [
    "print(len([H0] + H_ctrl))"
   ]
  },
  {
   "cell_type": "code",
   "execution_count": 9,
   "id": "f6a6171c",
   "metadata": {},
   "outputs": [
    {
     "name": "stdout",
     "output_type": "stream",
     "text": [
      "[[0.36787944+0.j 0.36787944+0.j]\n",
      " [0.36787944+0.j 0.36787944+0.j]]\n"
     ]
    }
   ],
   "source": [
    "print(rho0)"
   ]
  },
  {
   "cell_type": "code",
   "execution_count": 10,
   "id": "7156def5",
   "metadata": {},
   "outputs": [
    {
     "name": "stdout",
     "output_type": "stream",
     "text": [
      "[[4.86295571e-01+0.j         2.08981579e-07+0.03157762j]\n",
      " [2.08981579e-07-0.03157762j 2.49463311e-01+0.j        ]]\n"
     ]
    }
   ],
   "source": [
    "print(mesolve_result_2)"
   ]
  },
  {
   "cell_type": "code",
   "execution_count": 11,
   "id": "38509854",
   "metadata": {},
   "outputs": [
    {
     "name": "stdout",
     "output_type": "stream",
     "text": [
      "[0.         0.22222222 0.44444444 0.66666667 0.88888889 1.11111111\n",
      " 1.33333333 1.55555556 1.77777778 2.        ]\n"
     ]
    }
   ],
   "source": [
    "print(tsave)"
   ]
  },
  {
   "cell_type": "code",
   "execution_count": 12,
   "id": "0ba27e8d",
   "metadata": {},
   "outputs": [
    {
     "name": "stdout",
     "output_type": "stream",
     "text": [
      "(Array([[ 0.5 +0.j,  0.05+0.j],\n",
      "       [ 0.05+0.j, -0.5 +0.j]], dtype=complex128), Array(0., dtype=float64))\n",
      "(Array([[ 1.+0.j,  0.+0.j],\n",
      "       [ 0.+0.j, -1.+0.j]], dtype=complex128), Array(0.22222222, dtype=float64))\n",
      "(Array([[0.+0.j, 1.+0.j],\n",
      "       [1.+0.j, 0.+0.j]], dtype=complex128), Array(0.44444444, dtype=float64))\n"
     ]
    }
   ],
   "source": [
    "for item in zip([H0] + H_ctrl, tsave):\n",
    "    print(item)"
   ]
  },
  {
   "cell_type": "code",
   "execution_count": null,
   "id": "b65f9c38",
   "metadata": {},
   "outputs": [],
   "source": []
  },
  {
   "cell_type": "code",
   "execution_count": null,
   "id": "33f49d9f",
   "metadata": {},
   "outputs": [],
   "source": [
    "c_ops = (\n",
    "    [  # c_ops for each decay index\n",
    "        [\n",
    "            tensor(identity(30), jnp.sqrt(0.01) * sigmam()),\n",
    "        ],\n",
    "        [\"hi\"],\n",
    "    ],\n",
    ")"
   ]
  },
  {
   "cell_type": "code",
   "execution_count": 16,
   "id": "087b8fc0",
   "metadata": {},
   "outputs": [
    {
     "name": "stdout",
     "output_type": "stream",
     "text": [
      "[Array([[0. +0.j, 0. +0.j, 0. +0.j, ..., 0. +0.j, 0. +0.j, 0. +0.j],\n",
      "       [0.1+0.j, 0. +0.j, 0. +0.j, ..., 0. +0.j, 0. +0.j, 0. +0.j],\n",
      "       [0. +0.j, 0. +0.j, 0. +0.j, ..., 0. +0.j, 0. +0.j, 0. +0.j],\n",
      "       ...,\n",
      "       [0. +0.j, 0. +0.j, 0. +0.j, ..., 0. +0.j, 0. +0.j, 0. +0.j],\n",
      "       [0. +0.j, 0. +0.j, 0. +0.j, ..., 0. +0.j, 0. +0.j, 0. +0.j],\n",
      "       [0. +0.j, 0. +0.j, 0. +0.j, ..., 0. +0.j, 0.1+0.j, 0. +0.j]],      dtype=complex128)]\n"
     ]
    }
   ],
   "source": [
    "print(c_ops[0][0])"
   ]
  },
  {
   "cell_type": "code",
   "execution_count": null,
   "id": "698a3323",
   "metadata": {},
   "outputs": [
    {
     "name": "stdout",
     "output_type": "stream",
     "text": [
      "[[Array([[0. +0.j, 0. +0.j, 0. +0.j, ..., 0. +0.j, 0. +0.j, 0. +0.j],\n",
      "       [0.1+0.j, 0. +0.j, 0. +0.j, ..., 0. +0.j, 0. +0.j, 0. +0.j],\n",
      "       [0. +0.j, 0. +0.j, 0. +0.j, ..., 0. +0.j, 0. +0.j, 0. +0.j],\n",
      "       ...,\n",
      "       [0. +0.j, 0. +0.j, 0. +0.j, ..., 0. +0.j, 0. +0.j, 0. +0.j],\n",
      "       [0. +0.j, 0. +0.j, 0. +0.j, ..., 0. +0.j, 0. +0.j, 0. +0.j],\n",
      "       [0. +0.j, 0. +0.j, 0. +0.j, ..., 0. +0.j, 0.1+0.j, 0. +0.j]],      dtype=complex128)], ['hi']]\n"
     ]
    },
    {
     "ename": "StopIteration",
     "evalue": "",
     "output_type": "error",
     "traceback": [
      "\u001b[31m---------------------------------------------------------------------------\u001b[39m",
      "\u001b[31mStopIteration\u001b[39m                             Traceback (most recent call last)",
      "\u001b[36mCell\u001b[39m\u001b[36m \u001b[39m\u001b[32mIn[14]\u001b[39m\u001b[32m, line 3\u001b[39m\n\u001b[32m      1\u001b[39m c_ops_iter = \u001b[38;5;28miter\u001b[39m(c_ops)\n\u001b[32m      2\u001b[39m \u001b[38;5;28;01mfor\u001b[39;00m _ \u001b[38;5;129;01min\u001b[39;00m \u001b[38;5;28mrange\u001b[39m(\u001b[32m2\u001b[39m):\n\u001b[32m----> \u001b[39m\u001b[32m3\u001b[39m     \u001b[38;5;28mprint\u001b[39m(\u001b[38;5;28;43mnext\u001b[39;49m\u001b[43m(\u001b[49m\u001b[43mc_ops_iter\u001b[49m\u001b[43m)\u001b[49m)\n",
      "\u001b[31mStopIteration\u001b[39m: "
     ]
    }
   ],
   "source": [
    "c_ops_iter = iter(c_ops)\n",
    "for _ in range(2):\n",
    "    print(next(c_ops_iter))"
   ]
  },
  {
   "cell_type": "code",
   "execution_count": null,
   "id": "b877c7a2",
   "metadata": {},
   "outputs": [],
   "source": []
  }
 ],
 "metadata": {
  "kernelspec": {
   "display_name": "Python 3",
   "language": "python",
   "name": "python3"
  },
  "language_info": {
   "codemirror_mode": {
    "name": "ipython",
    "version": 3
   },
   "file_extension": ".py",
   "mimetype": "text/x-python",
   "name": "python",
   "nbconvert_exporter": "python",
   "pygments_lexer": "ipython3",
   "version": "3.11.11"
  }
 },
 "nbformat": 4,
 "nbformat_minor": 5
}

{
 "cells": [
  {
   "cell_type": "markdown",
   "id": "81807a12",
   "metadata": {},
   "source": [
    "# GRAPE for systems with Dissipation"
   ]
  },
  {
   "cell_type": "code",
   "execution_count": 1,
   "id": "03e56e79",
   "metadata": {},
   "outputs": [],
   "source": [
    "# ruff: noqa"
   ]
  },
  {
   "cell_type": "code",
   "execution_count": 2,
   "id": "4e8daf6c",
   "metadata": {},
   "outputs": [],
   "source": [
    "import jax.numpy as jnp\n",
    "from feedback_grape.grape import *\n",
    "from feedback_grape.utils.gates import *\n",
    "from feedback_grape.utils.operators import *\n",
    "from feedback_grape.utils.states import *\n",
    "from feedback_grape.utils.superoperator import *\n",
    "from feedback_grape.utils.tensor import *"
   ]
  },
  {
   "cell_type": "code",
   "execution_count": 3,
   "id": "6597d588",
   "metadata": {},
   "outputs": [],
   "source": [
    "Sx = sigmax()\n",
    "Sy = sigmay()\n",
    "Sz = sigmaz()\n",
    "Sm = sigmam()\n",
    "Si = identity(2)\n",
    "had_gate = hadamard()\n",
    "# Hamiltonian\n",
    "Del = 0.1  # Tunnelling term\n",
    "wq = 1.0  # Energy of the 2-level system.\n",
    "H0 = 0.5 * wq * sigmaz() + 0.5 * Del * sigmax()\n",
    "H_ctrl = [Sz, Sx]  # Controls for the Hamiltonian\n",
    "# Amplitude damping#\n",
    "# Damping rate:\n",
    "gamma = 0.1\n",
    "L0 = liouvillian(H0, [jnp.sqrt(gamma) * Sm])\n",
    "c_ops = [jnp.sqrt(gamma) * Sm]\n",
    "\n",
    "\n",
    "# sigma X control\n",
    "LC_x = liouvillian(Sx)\n",
    "# sigma Z control\n",
    "LC_z = liouvillian(Sz)\n",
    "\n",
    "# Drift\n",
    "drift = L0\n",
    "# Controls - different combinations can be tried\n",
    "ctrls = [LC_z, LC_x]\n",
    "# Number of ctrls\n",
    "n_ctrls = len(ctrls)\n",
    "\n",
    "# start point for the map evolution\n",
    "E0 = sprepost(Si, Si)\n",
    "\n",
    "# target for map evolution\n",
    "E_targ = sprepost(had_gate, had_gate)"
   ]
  },
  {
   "cell_type": "code",
   "execution_count": 4,
   "id": "cf6dd196",
   "metadata": {},
   "outputs": [
    {
     "name": "stdout",
     "output_type": "stream",
     "text": [
      "1.0\n"
     ]
    }
   ],
   "source": [
    "print(fidelity(U_final=E_targ, C_target=E_targ, type=\"liouvillian\"))"
   ]
  },
  {
   "cell_type": "code",
   "execution_count": 5,
   "id": "40f3808f",
   "metadata": {},
   "outputs": [],
   "source": [
    "# Number of time slots\n",
    "n_ts = 10\n",
    "# Time allowed for the evolution\n",
    "evo_time = 2"
   ]
  },
  {
   "cell_type": "code",
   "execution_count": 23,
   "id": "45baa078",
   "metadata": {},
   "outputs": [],
   "source": [
    "result = optimize_pulse(\n",
    "    H_drift=drift,\n",
    "    H_control=ctrls,\n",
    "    U_0=E0,\n",
    "    C_target=E_targ,\n",
    "    num_t_slots=n_ts,\n",
    "    total_evo_time=evo_time,\n",
    "    type=\"liouvillian\",\n",
    "    optimizer=\"adam\",\n",
    "    convergence_threshold=1e-16,\n",
    "    max_iter=10000,\n",
    "    learning_rate=0.35,\n",
    "    propcomp=\"memory-efficient\",\n",
    ")"
   ]
  },
  {
   "cell_type": "code",
   "execution_count": 24,
   "id": "f12462fd",
   "metadata": {},
   "outputs": [
    {
     "data": {
      "text/plain": [
       "result(control_amplitudes=Array([[ 2.71082027,  4.48791631],\n",
       "       [-0.67486112, -0.7010955 ],\n",
       "       [-2.13670958, -4.18459458],\n",
       "       [ 3.81798346, -3.23149726],\n",
       "       [-2.56614879,  0.5560324 ],\n",
       "       [-6.21675663,  2.06667398],\n",
       "       [ 2.44055923,  4.73374016],\n",
       "       [-1.06365938, -4.49567141],\n",
       "       [-2.36388854, -6.23382583],\n",
       "       [-3.3986097 ,  4.24182892]], dtype=float64), final_fidelity=Array(0.99744946, dtype=float64), iterations=10000, final_operator=Array([[-6.07743266e-01 +0.96661676j, -1.07355260e+00 +5.27140929j,\n",
       "        -3.40834544e-01 -0.43444818j,  3.74965506e-01 -1.81390207j],\n",
       "       [ 2.50604722e-01 -0.12801061j,  7.56255378e-01 -1.06782213j,\n",
       "         8.60125504e-02 +0.1382318j ,  2.21738237e-03 +0.3901996j ],\n",
       "       [-6.18024760e+00 +4.16905843j, -6.81644036e-01+26.61939032j,\n",
       "        -7.93931238e-01 -1.71180115j,  3.66917277e-01 -7.54581802j],\n",
       "       [ 1.60774327e+00 -0.96661676j,  1.07355260e+00 -5.27140929j,\n",
       "         3.40834544e-01 +0.43444818j,  6.25034494e-01 +1.81390207j]],      dtype=complex128))"
      ]
     },
     "execution_count": 24,
     "metadata": {},
     "output_type": "execute_result"
    }
   ],
   "source": [
    "result"
   ]
  },
  {
   "cell_type": "code",
   "execution_count": 22,
   "id": "77813ed5",
   "metadata": {},
   "outputs": [],
   "source": [
    "result1 = optimize_pulse(\n",
    "    H_drift=H0,\n",
    "    H_control=H_ctrl,\n",
    "    U_0=Si,\n",
    "    C_target=had_gate,\n",
    "    c_ops=c_ops,\n",
    "    num_t_slots=n_ts,\n",
    "    total_evo_time=evo_time,\n",
    "    type=\"liouvillian\",\n",
    "    optimizer=\"adam\",\n",
    "    convergence_threshold=1e-16,\n",
    "    max_iter=1000,\n",
    "    learning_rate=0.001,\n",
    "    propcomp=\"time-efficient\",\n",
    ")"
   ]
  },
  {
   "cell_type": "code",
   "execution_count": 8,
   "id": "f3f91825",
   "metadata": {},
   "outputs": [
    {
     "data": {
      "text/plain": [
       "result(control_amplitudes=Array([[ 0.19529909,  0.00613831],\n",
       "       [ 0.28778066,  0.45642727],\n",
       "       [ 0.35883707,  0.40212176],\n",
       "       [ 0.33137309,  0.3675654 ],\n",
       "       [ 0.07480631,  0.15763996],\n",
       "       [ 0.07807701,  0.02821956],\n",
       "       [ 0.38201447,  0.50845528],\n",
       "       [ 0.29653459,  0.14071591],\n",
       "       [-0.05892553,  0.39245506],\n",
       "       [ 0.06727997,  0.60584379]], dtype=float64), final_fidelity=Array(0.99977216, dtype=float64), iterations=1000, final_operator=Array([[-0.00045568-0.89994329j,  0.10804541-0.42240745j],\n",
       "       [-0.10804541-0.42240745j, -0.00045568+0.89994329j]],      dtype=complex128))"
      ]
     },
     "execution_count": 8,
     "metadata": {},
     "output_type": "execute_result"
    }
   ],
   "source": [
    "result1"
   ]
  },
  {
   "cell_type": "code",
   "execution_count": 9,
   "id": "5db580f8",
   "metadata": {},
   "outputs": [
    {
     "name": "stdout",
     "output_type": "stream",
     "text": [
      "0.9997721576086267\n"
     ]
    }
   ],
   "source": [
    "print(\n",
    "    fidelity(\n",
    "        C_target=had_gate, U_final=result1.final_operator, type=\"liouvillian\"\n",
    "    )\n",
    ")"
   ]
  },
  {
   "cell_type": "code",
   "execution_count": 10,
   "id": "ed964907",
   "metadata": {},
   "outputs": [
    {
     "data": {
      "image/png": "[encoded data removed]",
      "text/plain": [
       "<Figure size 640x480 with 1 Axes>"
      ]
     },
     "metadata": {},
     "output_type": "display_data"
    }
   ],
   "source": [
    "import numpy as np\n",
    "\n",
    "time = np.linspace(0, evo_time, n_ts + 1)\n",
    "fig1 = plt.figure()\n",
    "\n",
    "ax2 = fig1.add_subplot(2, 1, 2)\n",
    "ax2.set_title(\"Optimised Control Sequences\")\n",
    "ax2.set_xlabel(\"Time\")\n",
    "ax2.set_ylabel(\"Control amplitude\")\n",
    "for j in range(n_ctrls):\n",
    "    ax2.step(\n",
    "        time,\n",
    "        np.hstack(\n",
    "            (result.control_amplitudes[:, j], result.control_amplitudes[-1, j])\n",
    "        ),\n",
    "        where=\"post\",\n",
    "    )\n",
    "fig1.tight_layout()"
   ]
  },
  {
   "cell_type": "code",
   "execution_count": null,
   "id": "d1d975a8",
   "metadata": {},
   "outputs": [],
   "source": []
  }
 ],
 "metadata": {
  "kernelspec": {
   "display_name": "Python 3",
   "language": "python",
   "name": "python3"
  },
  "language_info": {
   "codemirror_mode": {
    "name": "ipython",
    "version": 3
   },
   "file_extension": ".py",
   "mimetype": "text/x-python",
   "name": "python",
   "nbconvert_exporter": "python",
   "pygments_lexer": "ipython3",
   "version": "3.11.11"
  }
 },
 "nbformat": 4,
 "nbformat_minor": 5
}

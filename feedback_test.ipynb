{
 "cells": [
  {
   "cell_type": "markdown",
   "id": "c4fe2265",
   "metadata": {},
   "source": [
    "# A. State preparation with Jaynes-Cummings controls"
   ]
  },
  {
   "cell_type": "code",
   "execution_count": 1,
   "id": "dc37b46a",
   "metadata": {},
   "outputs": [],
   "source": [
    "# ruff: noqa\n",
    "from feedback_grape.grape import optimize_pulse_parameterized\n",
    "from feedback_grape.utils.operators import sigmap, sigmam, create, destroy\n",
    "from feedback_grape.utils.states import basis, fock\n",
    "from feedback_grape.utils.tensor import tensor\n",
    "import jax.numpy as jnp"
   ]
  },
  {
   "cell_type": "markdown",
   "id": "e1718760",
   "metadata": {},
   "source": [
    "As a preliminary step, we consider state preparation\n",
    "of a target state starting from a pure state. In addition,\n",
    "we assume that any coupling to an external environment\n",
    "is negligible and that the parametrized controls can be\n",
    "implemented perfectly."
   ]
  },
  {
   "cell_type": "markdown",
   "id": "5e382943",
   "metadata": {},
   "source": [
    "Here no feedback is required, we are just testing the parameterized gates setup."
   ]
  },
  {
   "cell_type": "markdown",
   "id": "202846e6",
   "metadata": {},
   "source": [
    "As a first example, we consider the state preparation\n",
    "of a cavity resonantly coupled to an externally driven\n",
    "qubit"
   ]
  },
  {
   "cell_type": "markdown",
   "id": "ec5307dc",
   "metadata": {},
   "source": [
    "Here, we consider a particular sequence of\n",
    "parametrized unitary gates originally introduced by Law\n",
    "and Eberly"
   ]
  },
  {
   "cell_type": "code",
   "execution_count": 2,
   "id": "3651226c",
   "metadata": {},
   "outputs": [],
   "source": [
    "N_cav = 4"
   ]
  },
  {
   "cell_type": "code",
   "execution_count": 3,
   "id": "b236c6a5",
   "metadata": {},
   "outputs": [],
   "source": [
    "def qubit_unitary(alpha):\n",
    "    return jnp.exp(-1j * (alpha * sigmap() + alpha.conj() * sigmam(2)) / 2)"
   ]
  },
  {
   "cell_type": "code",
   "execution_count": 4,
   "id": "ebb31077",
   "metadata": {},
   "outputs": [],
   "source": [
    "def qubit_cavity_unitary(beta):\n",
    "    return jnp.exp(\n",
    "        -1j\n",
    "        * (\n",
    "            beta * (destroy(N_cav) @ sigmap())\n",
    "            + beta.conj() * (create(N_cav) @ sigmam(2)) / 2\n",
    "        )\n",
    "    )"
   ]
  },
  {
   "cell_type": "markdown",
   "id": "8b05cd63",
   "metadata": {},
   "source": [
    "In their groundbreaking work, Law and Eberly have\n",
    "shown that any arbitrary superposition of Fock states with\n",
    "maximal excitation number N can be prepared out of the\n",
    "ground state in a sequence of N such interleaved gates,\n",
    "also providing an algorithm to find the correct angles and\n",
    "interaction durations"
   ]
  },
  {
   "cell_type": "markdown",
   "id": "d1a6f411",
   "metadata": {},
   "source": [
    "## First target is the state $ | 1 ⟩ + | 3 ⟩ $ "
   ]
  },
  {
   "cell_type": "code",
   "execution_count": 5,
   "id": "45069deb",
   "metadata": {},
   "outputs": [],
   "source": [
    "time_steps = 3  # corressponds to maximal excitation number of an arbitrary Fock State Superposition"
   ]
  },
  {
   "cell_type": "code",
   "execution_count": 6,
   "id": "e5746831",
   "metadata": {},
   "outputs": [],
   "source": [
    "psi0 = tensor(basis(2), basis(N_cav))\n",
    "psi_target = fock(1, N_cav) + fock(3, N_cav)"
   ]
  },
  {
   "cell_type": "code",
   "execution_count": 7,
   "id": "90de4b86",
   "metadata": {},
   "outputs": [],
   "source": [
    "result = optimize_pulse_parameterized(\n",
    "    U_0=psi0,\n",
    "    C_target=psi_target,\n",
    "    feedback=False,\n",
    "    parameterized_gates=[qubit_unitary, qubit_cavity_unitary],\n",
    "    mode=\"nn\",\n",
    "    goal=\"fidelity\",\n",
    "    num_time_steps=time_steps,\n",
    "    optimizer=\"adam\",\n",
    "    max_iter=1000,\n",
    "    convergence_threshold=1e-6,\n",
    "    type=\"state\",\n",
    ")"
   ]
  }
 ],
 "metadata": {
  "kernelspec": {
   "display_name": "Python 3",
   "language": "python",
   "name": "python3"
  },
  "language_info": {
   "codemirror_mode": {
    "name": "ipython",
    "version": 3
   },
   "file_extension": ".py",
   "mimetype": "text/x-python",
   "name": "python",
   "nbconvert_exporter": "python",
   "pygments_lexer": "ipython3",
   "version": "3.11.11"
  }
 },
 "nbformat": 4,
 "nbformat_minor": 5
}

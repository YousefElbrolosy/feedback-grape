{
 "cells": [
  {
   "cell_type": "markdown",
   "id": "c4fe2265",
   "metadata": {},
   "source": [
    "# A. State preparation with Jaynes-Cummings controls"
   ]
  },
  {
   "cell_type": "code",
   "execution_count": null,
   "id": "dc37b46a",
   "metadata": {},
   "outputs": [],
   "source": [
    "# ruff: noqa\n",
    "from feedback_grape.fgrape import optimize_pulse_parameterized\n",
    "from feedback_grape.utils.operators import (\n",
    "    sigmap,\n",
    "    sigmam,\n",
    "    create,\n",
    "    destroy,\n",
    "    identity,\n",
    ")\n",
    "from feedback_grape.utils.states import basis, fock\n",
    "from feedback_grape.utils.tensor import tensor\n",
    "import jax.numpy as jnp"
   ]
  },
  {
   "cell_type": "markdown",
   "id": "e1718760",
   "metadata": {},
   "source": [
    "As a preliminary step, we consider state preparation\n",
    "of a target state starting from a pure state. In addition,\n",
    "we assume that any coupling to an external environment\n",
    "is negligible and that the parametrized controls can be\n",
    "implemented perfectly."
   ]
  },
  {
   "cell_type": "markdown",
   "id": "5e382943",
   "metadata": {},
   "source": [
    "Here no feedback is required, we are just testing the parameterized gates setup."
   ]
  },
  {
   "cell_type": "markdown",
   "id": "202846e6",
   "metadata": {},
   "source": [
    "As a first example, we consider the state preparation\n",
    "of a cavity resonantly coupled to an externally driven\n",
    "qubit"
   ]
  },
  {
   "cell_type": "markdown",
   "id": "ec5307dc",
   "metadata": {},
   "source": [
    "Here, we consider a particular sequence of\n",
    "parametrized unitary gates originally introduced by Law\n",
    "and Eberly"
   ]
  },
  {
   "cell_type": "code",
   "execution_count": 3,
   "id": "3651226c",
   "metadata": {},
   "outputs": [],
   "source": [
    "N_cav = 4"
   ]
  },
  {
   "cell_type": "code",
   "execution_count": 4,
   "id": "b236c6a5",
   "metadata": {},
   "outputs": [],
   "source": [
    "def qubit_unitary(alpha):\n",
    "    return jnp.exp(\n",
    "        -1j\n",
    "        * (\n",
    "            alpha * tensor(identity(N_cav), sigmap())\n",
    "            + alpha.conj() * tensor(identity(N_cav), sigmam())\n",
    "        )\n",
    "        / 2\n",
    "    )"
   ]
  },
  {
   "cell_type": "code",
   "execution_count": 5,
   "id": "ebb31077",
   "metadata": {},
   "outputs": [],
   "source": [
    "def qubit_cavity_unitary(beta):\n",
    "    return jnp.exp(\n",
    "        -1j\n",
    "        * (\n",
    "            beta\n",
    "            * (\n",
    "                tensor(destroy(N_cav), identity(2))\n",
    "                @ tensor(identity(N_cav), sigmap())\n",
    "            )\n",
    "            + beta.conj()\n",
    "            * (\n",
    "                tensor(create(N_cav), identity(2))\n",
    "                @ tensor(identity(N_cav), sigmam())\n",
    "            )\n",
    "            / 2\n",
    "        )\n",
    "    )"
   ]
  },
  {
   "cell_type": "markdown",
   "id": "8b05cd63",
   "metadata": {},
   "source": [
    "In their groundbreaking work, Law and Eberly have\n",
    "shown that any arbitrary superposition of Fock states with\n",
    "maximal excitation number N can be prepared out of the\n",
    "ground state in a sequence of N such interleaved gates,\n",
    "also providing an algorithm to find the correct angles and\n",
    "interaction durations"
   ]
  },
  {
   "cell_type": "markdown",
   "id": "d1a6f411",
   "metadata": {},
   "source": [
    "## First target is the state $ | 1 ⟩ + | 3 ⟩ $ "
   ]
  },
  {
   "cell_type": "code",
   "execution_count": 6,
   "id": "45069deb",
   "metadata": {},
   "outputs": [],
   "source": [
    "time_steps = 3  # corressponds to maximal excitation number of an arbitrary Fock State Superposition"
   ]
  },
  {
   "cell_type": "code",
   "execution_count": 7,
   "id": "e5746831",
   "metadata": {},
   "outputs": [],
   "source": [
    "psi0 = tensor(basis(2), basis(N_cav))\n",
    "psi_target = tensor(basis(2), fock(N_cav, 1) + fock(N_cav, 3))\n",
    "psi_target = psi_target / jnp.linalg.norm(psi_target)"
   ]
  },
  {
   "cell_type": "code",
   "execution_count": null,
   "id": "2e2e8ef3",
   "metadata": {},
   "outputs": [
    {
     "name": "stdout",
     "output_type": "stream",
     "text": [
      "[[0.+0.j]\n",
      " [1.+0.j]\n",
      " [0.+0.j]\n",
      " [0.+0.j]]\n"
     ]
    }
   ],
   "source": [
    "print(fock(N_cav,1))"
   ]
  },
  {
   "cell_type": "markdown",
   "id": "104ff5f6",
   "metadata": {},
   "source": [
    "Law and Eberly provided an algorithm to determine the correct parameters for state preparation. These include:\n",
    "\n",
    "- The rotation angle $ |\\alpha| $,\n",
    "- The azimuthal angle $ \\arg\\left(\\frac{\\alpha}{|\\alpha|}\\right) $,\n",
    "- The interaction duration $ |\\beta| $. <br>\n",
    "\n",
    "So Goal is to find the best control vector (rather than control amplitudes, this time) that leads to finding the optimal state-preparation strategies. Performing as well as the Law-Eberly algorithm."
   ]
  },
  {
   "cell_type": "code",
   "execution_count": 8,
   "id": "042f12c3",
   "metadata": {},
   "outputs": [
    {
     "name": "stdout",
     "output_type": "stream",
     "text": [
      "Shapes of results: [(8, 8), (8, 8)]\n"
     ]
    }
   ],
   "source": [
    "parameters = jnp.array([jnp.pi / 2, 0.0])\n",
    "result_shapes = [\n",
    "    gate(param).shape\n",
    "    for gate, param in zip([qubit_unitary, qubit_cavity_unitary], parameters)\n",
    "]\n",
    "print(f\"Shapes of results: {result_shapes}\")"
   ]
  },
  {
   "cell_type": "code",
   "execution_count": 9,
   "id": "32b66069",
   "metadata": {},
   "outputs": [
    {
     "name": "stdout",
     "output_type": "stream",
     "text": [
      "[[-1.02469816 -3.56513646]\n",
      " [ 5.84740194  0.93620132]\n",
      " [ 0.40496999 -1.82331528]]\n"
     ]
    }
   ],
   "source": [
    "import jax.random as random\n",
    "key = random.PRNGKey(0)  # Random seed for reproducibility\n",
    "num_gates = len([qubit_unitary, qubit_cavity_unitary])  # Number of parameterized gates\n",
    "initial_parameters = random.uniform(\n",
    "    key, shape=(time_steps, num_gates), minval=-2 * jnp.pi, maxval=2 * jnp.pi\n",
    ")\n",
    "print(initial_parameters)"
   ]
  },
  {
   "cell_type": "code",
   "execution_count": 10,
   "id": "90de4b86",
   "metadata": {},
   "outputs": [],
   "source": [
    "result = optimize_pulse_parameterized(\n",
    "    U_0=psi0,\n",
    "    C_target=psi_target,\n",
    "    feedback=False,\n",
    "    parameterized_gates=[qubit_unitary, qubit_cavity_unitary],\n",
    "    initial_parameters=initial_parameters,\n",
    "    mode=\"nn\",\n",
    "    goal=\"fidelity\",\n",
    "    num_time_steps=time_steps,\n",
    "    optimizer=\"adam\",\n",
    "    max_iter=1000,\n",
    "    convergence_threshold=1e-6,\n",
    "    type=\"state\",\n",
    "    propcomp=\"time-efficient\",\n",
    "    learning_rate=0.0001,\n",
    ")"
   ]
  },
  {
   "cell_type": "code",
   "execution_count": 11,
   "id": "3444cbf3",
   "metadata": {},
   "outputs": [
    {
     "name": "stdout",
     "output_type": "stream",
     "text": [
      "result(control_amplitudes=Array([[-1.02449888, -3.56493885],\n",
      "       [ 5.84760186,  0.93640128],\n",
      "       [ 0.40516999, -1.82311528]], dtype=float64), final_fidelity=Array(0.25053114, dtype=float64), iterations=2, final_operator=Array([[17523.43977517+2489.09857761j],\n",
      "       [17584.2665321 +2569.94272629j],\n",
      "       [17573.72195233+2511.64355286j],\n",
      "       [17555.86847795+2609.23610445j],\n",
      "       [17584.17649092+2533.43991479j],\n",
      "       [17526.72112003+2614.24435363j],\n",
      "       [17586.85493072+2551.99405924j],\n",
      "       [17523.43977517+2489.09857761j]], dtype=complex128))\n"
     ]
    }
   ],
   "source": [
    "print(result)"
   ]
  },
  {
   "cell_type": "code",
   "execution_count": null,
   "id": "7cc53d3c",
   "metadata": {},
   "outputs": [],
   "source": []
  }
 ],
 "metadata": {
  "kernelspec": {
   "display_name": "Python 3",
   "language": "python",
   "name": "python3"
  },
  "language_info": {
   "codemirror_mode": {
    "name": "ipython",
    "version": 3
   },
   "file_extension": ".py",
   "mimetype": "text/x-python",
   "name": "python",
   "nbconvert_exporter": "python",
   "pygments_lexer": "ipython3",
   "version": "3.11.11"
  }
 },
 "nbformat": 4,
 "nbformat_minor": 5
}

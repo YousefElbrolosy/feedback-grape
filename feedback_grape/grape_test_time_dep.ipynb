{
 "cells": [
  {
   "cell_type": "markdown",
   "metadata": {},
   "source": [
    "# GRAPE with time-dep"
   ]
  },
  {
   "cell_type": "markdown",
   "metadata": {},
   "source": [
    "## main.py"
   ]
  },
  {
   "cell_type": "code",
   "execution_count": 1,
   "metadata": {},
   "outputs": [],
   "source": [
    "\"\"\"\n",
    "Gradient Ascent Pulse Engineering (GRAPE)\n",
    "\"\"\"\n",
    "\n",
    "# ruff: noqa N8\n",
    "import jax\n",
    "import optax  # type: ignore\n",
    "import optax.tree_utils as otu # type: ignore\n",
    "from typing import NamedTuple\n",
    "import jax.numpy as jnp\n",
    "import matplotlib.pyplot as plt\n",
    "\n",
    "jax.config.update(\"jax_enable_x64\", True)\n",
    "# TODO: Implement this with Pavlo's Cavity + Qubit coupled in dispersive regime\n",
    "# TODO: remove side effects\n",
    "# TODO: implement optimizer same as qutip_qtrl fmin_lbfgs or sth\n",
    "\n",
    "\n",
    "class result(NamedTuple):\n",
    "    control_amplitudes: jnp.ndarray\n",
    "    final_fidelity: float\n",
    "    iterations: int\n",
    "    final_operator: jnp.ndarray\n",
    "\n",
    "\n",
    "# TODO: see if iniital may not be necessarily a state rather an operator or density matrix\n",
    "def sesolve(Hs, initial_state, delta_ts):\n",
    "    \"\"\"\n",
    "    Find evolution operator for piecewise Hs on time intervals delts_ts\n",
    "    Args:\n",
    "        Hs: List of Hamiltonians for each time interval.\n",
    "        initiali_state: Initial state.\n",
    "        delta_ts: List of time intervals.\n",
    "    Returns:\n",
    "        U: Evolved state after applying the time-dependent Hamiltonians.\n",
    "    \n",
    "    \"\"\"\n",
    "    for i, (H, delta_t) in enumerate(zip(Hs, delta_ts)):\n",
    "        U_intv = jax.scipy.linalg.expm(-1j * H * delta_t)\n",
    "        U = U_intv if i == 0 else U_intv @ U\n",
    "    return U @ initial_state\n",
    "\n",
    "\n",
    "def _compute_propagators(\n",
    "    H_drift,\n",
    "    H_control_array,\n",
    "    delta_t,\n",
    "    control_amplitudes,\n",
    "):\n",
    "    \"\"\"\n",
    "    Compute propagators for each time step according to Equation (4).\n",
    "    Args:\n",
    "        H_drift: Drift Hamiltonian.\n",
    "        H_control_array: Array of control Hamiltonians.\n",
    "        delta_t: Time step for evolution.\n",
    "        control_amplitudes: Control amplitudes for each time slot.\n",
    "    Returns:\n",
    "        propagators: Array of propagators for each time step.\n",
    "    \"\"\"\n",
    "    num_t_slots = control_amplitudes.shape[0]\n",
    "\n",
    "    # Compute each Uj according to Equation\n",
    "    def compute_propagator_j(j):\n",
    "        # Calculate total Hamiltonian for time step j\n",
    "        H_0 = H_drift\n",
    "        H_control = 0\n",
    "        for k in range(len(H_control_array)):\n",
    "            H_control += control_amplitudes[j, k] * H_control_array[k]\n",
    "\n",
    "        H_total = H_0 + H_control\n",
    "\n",
    "        U_j = jax.scipy.linalg.expm(-1j * delta_t * H_total)\n",
    "        return U_j\n",
    "\n",
    "    # Create an array of propagators\n",
    "    propagators = jax.vmap(compute_propagator_j)(jnp.arange(num_t_slots))\n",
    "    return propagators\n",
    "\n",
    "\n",
    "def _compute_forward_evolution(propagators, U_0):\n",
    "    \"\"\"\n",
    "    Compute the forward evolution states (ρⱼ) according to the paper's definition.\n",
    "    ρⱼ = Uⱼ···U₁ρ₀U₁†···Uⱼ†\n",
    "\n",
    "    Args:\n",
    "        propagators: List of propagators for each time step.\n",
    "        U_0: Initial density operator.\n",
    "    Returns:\n",
    "        rho_j: List of density operators for each time step j.\n",
    "    \"\"\"\n",
    "\n",
    "    U_final = U_0\n",
    "    for U_j in propagators:\n",
    "        # Forward evolution\n",
    "        # Use below if density operator is used\n",
    "        # rho_final = U_j @ rho_final @ U_j.conj().T\n",
    "        U_final = U_j @ U_final\n",
    "\n",
    "    return U_final\n",
    "\n",
    "\n",
    "def _init_control_amplitudes(num_t_slots, num_controls):\n",
    "    \"\"\"\n",
    "    Initialize control amplitudes for the optimization process.\n",
    "    Args:\n",
    "        num_t_slots: Number of time slots.\n",
    "        num_controls: Number of control Hamiltonians.\n",
    "    Returns:\n",
    "        init_control_amplitudes: Initialized control amplitudes.\n",
    "    \"\"\"\n",
    "    # Random initialization\n",
    "    # Here, you can't initialize with zeros, as it will lead to zero gradients\n",
    "    # and no updates. Instead, use a small random value. (perhaps because of adam, but\n",
    "    # TODO: use FMIN_L_BFGS_B instead of adam)\n",
    "    key = jax.random.PRNGKey(42)\n",
    "    return jax.random.uniform(\n",
    "        key,\n",
    "        (num_t_slots, num_controls),\n",
    "        minval=-(2 * jnp.pi * 0.05),\n",
    "        maxval=(2 * jnp.pi * 0.05),\n",
    "    )\n",
    "\n",
    "\n",
    "def _optimize_adam(\n",
    "    _fidelity,\n",
    "    control_amplitudes,\n",
    "    max_iter,\n",
    "    learning_rate,\n",
    "    convergence_threshold,\n",
    "):\n",
    "    optimizer = optax.adam(learning_rate)\n",
    "    opt_state = optimizer.init(control_amplitudes)\n",
    "    fidelities = []\n",
    "\n",
    "    @jax.jit\n",
    "    def step(params, state):\n",
    "        loss = -_fidelity(params)  # Minimize -_fidelity\n",
    "        grads = jax.grad(lambda x: -_fidelity(x))(params)\n",
    "        updates, new_state = optimizer.update(grads, state, params)\n",
    "        new_params = optax.apply_updates(params, updates)\n",
    "        return new_params, new_state, -loss\n",
    "\n",
    "    params = control_amplitudes\n",
    "    for iter_idx in range(max_iter):\n",
    "        params, opt_state, current_fidelity = step(params, opt_state)\n",
    "        fidelities.append(current_fidelity)\n",
    "\n",
    "        if (\n",
    "            iter_idx > 0\n",
    "            and abs(fidelities[-1] - fidelities[-2]) < convergence_threshold\n",
    "        ):\n",
    "            print(f\"Converged after {iter_idx} iterations.\")\n",
    "            break\n",
    "\n",
    "        if iter_idx % 10 == 0:\n",
    "            print(f\"Iteration {iter_idx}, _fidelity: {current_fidelity}\")\n",
    "    final_fidelity = fidelities[-1]\n",
    "    return params, final_fidelity, iter_idx\n",
    "\n",
    "\n",
    "def _optimize_L_BFGS(\n",
    "    _fidelity,\n",
    "    control_amplitudes,\n",
    "    max_iter,\n",
    "    convergence_threshold,\n",
    "):\n",
    "    \"\"\"\n",
    "    Uses L-BFGS to optimize the control amplitudes.\n",
    "    Args:\n",
    "        _fidelity: Function to compute fidelity.\n",
    "        control_amplitudes: Initial control amplitudes.\n",
    "        max_iter: Maximum number of iterations.\n",
    "        convergence_threshold: Convergence threshold for optimization.\n",
    "    Returns:\n",
    "        control_amplitudes: Optimized control amplitudes.\n",
    "        fidelities: List of fidelity values during optimization.\n",
    "    \"\"\"\n",
    "\n",
    "    def neg_fidelity(params, **kwargs):\n",
    "        return -_fidelity(params, **kwargs)\n",
    "\n",
    "    opt = optax.lbfgs()\n",
    "\n",
    "    value_and_grad_fn = optax.value_and_grad_from_state(neg_fidelity)\n",
    "\n",
    "    def step(carry):\n",
    "        control_amplitudes, state, iter_idx = carry\n",
    "        value, grad = value_and_grad_fn(control_amplitudes, state=state)\n",
    "        updates, state = opt.update(\n",
    "            grad,\n",
    "            state,\n",
    "            control_amplitudes,\n",
    "            value=value,\n",
    "            grad=grad,\n",
    "            value_fn=neg_fidelity,\n",
    "        )\n",
    "        control_amplitudes = optax.apply_updates(control_amplitudes, updates)\n",
    "        return control_amplitudes, state, iter_idx + 1\n",
    "\n",
    "    def continuing_criterion(carry):\n",
    "        _, state, _ = carry\n",
    "        iter_num = otu.tree_get(state, 'count')\n",
    "        grad = otu.tree_get(state, 'grad')\n",
    "        err = otu.tree_l2_norm(grad)\n",
    "        return (iter_num == 0) | (\n",
    "            (iter_num < max_iter - 1) & (err >= convergence_threshold)\n",
    "        )\n",
    "\n",
    "    init_carry = (control_amplitudes, opt.init(control_amplitudes), 0)\n",
    "    final_params, _, final_iter_idx = jax.lax.while_loop(\n",
    "        continuing_criterion, step, init_carry\n",
    "    )\n",
    "    final_fidelity = _fidelity(final_params)\n",
    "    return final_params, final_fidelity, final_iter_idx\n",
    "\n",
    "\n",
    "# TODO: account for density matrix fidelity\n",
    "def fidelity(*, C_target, U_final, type=\"unitary\"):\n",
    "    \"\"\"\n",
    "    Computes the fidelity of the final state with respect to the target state.\n",
    "    Args:\n",
    "        C_target: Target operator.\n",
    "        U_final: Final operator after evolution.\n",
    "        type: Type of fidelity calculation (\"unitary\" or \"state\"). [density not yet accounted for]\n",
    "    Returns:\n",
    "        fidelity: Fidelity value.\n",
    "    \"\"\"\n",
    "\n",
    "    if type == \"unitary\":\n",
    "        overlap = (\n",
    "            jnp.trace(jnp.matmul(C_target.conj().T, U_final))\n",
    "            / C_target.shape[0]\n",
    "        )\n",
    "    else:\n",
    "        # TODO: check accuracy of this, do we really need vector conjugate or .dot will simply work?\n",
    "        norm_C_target = C_target / jnp.linalg.norm(C_target)\n",
    "        norm_U_final = U_final / jnp.linalg.norm(U_final)\n",
    "\n",
    "        overlap = jnp.vdot(norm_C_target, norm_U_final)\n",
    "    return jnp.abs(overlap) ** 2\n",
    "\n",
    "# for unitary evolution (not using density operator)\n",
    "def optimize_pulse(\n",
    "    H_drift: jnp.ndarray,\n",
    "    H_control: list[jnp.ndarray],\n",
    "    U_0: jnp.ndarray,\n",
    "    C_target: jnp.ndarray,\n",
    "    num_t_slots: int,\n",
    "    total_evo_time: float,\n",
    "    max_iter: int = 1000,\n",
    "    convergence_threshold: float = 1e-6,\n",
    "    learning_rate: float = 0.01,\n",
    "    type: str = \"unitary\",\n",
    "    optimizer: str = \"adam\",\n",
    ") -> result:\n",
    "    \"\"\"\n",
    "    Uses GRAPE to optimize a pulse.\n",
    "\n",
    "    Args:\n",
    "        H_drift: Drift Hamiltonian.\n",
    "        H_control: List of Control Hamiltonians.\n",
    "        U_0: Initial density operator.\n",
    "        C_target: Target operator.\n",
    "        num_t_slots: Number of time slots.\n",
    "        total_evo_time: Total evolution time.\n",
    "        max_iter: Maximum number of iterations.\n",
    "        convergence_threshold: Convergence threshold for _fidelity change.\n",
    "        learning_rate: Learning rate for gradient ascent.\n",
    "    Returns:\n",
    "        result: Dictionary containing optimized pulse and convergence data.\n",
    "    \"\"\"\n",
    "    # Step 1: Initialize control amplitudes\n",
    "    control_amplitudes = _init_control_amplitudes(num_t_slots, len(H_control))\n",
    "    delta_t = total_evo_time / num_t_slots\n",
    "\n",
    "    # Convert H_control to array for easier manipulation\n",
    "    H_control_array = jnp.array(H_control)\n",
    "\n",
    "    # Step 2: Gradient ascent loop\n",
    "\n",
    "    def _fidelity(control_amplitudes):\n",
    "        propagators = _compute_propagators(\n",
    "            H_drift, H_control_array, delta_t, control_amplitudes\n",
    "        )\n",
    "        U_final = _compute_forward_evolution(propagators, U_0)\n",
    "        return fidelity(\n",
    "            C_target=C_target,\n",
    "            U_final=U_final,\n",
    "            type=type,\n",
    "        )\n",
    "\n",
    "    if optimizer.upper() == \"L-BFGS\":\n",
    "        control_amplitudes, final_fidelity, iter_idx = _optimize_L_BFGS(\n",
    "            _fidelity,\n",
    "            control_amplitudes,\n",
    "            max_iter,\n",
    "            convergence_threshold,\n",
    "        )\n",
    "    else:\n",
    "        control_amplitudes, final_fidelity, iter_idx = _optimize_adam(\n",
    "            _fidelity,\n",
    "            control_amplitudes,\n",
    "            max_iter,\n",
    "            learning_rate,\n",
    "            convergence_threshold,\n",
    "        )\n",
    "\n",
    "    propagators = _compute_propagators(\n",
    "        H_drift, H_control_array, delta_t, control_amplitudes\n",
    "    )\n",
    "    rho_final = _compute_forward_evolution(propagators, U_0)\n",
    "\n",
    "    final_res = result(\n",
    "        control_amplitudes,\n",
    "        final_fidelity,\n",
    "        iter_idx + 1,\n",
    "        rho_final,\n",
    "    )\n",
    "\n",
    "    return final_res\n",
    "\n",
    "\n",
    "def plot_control_amplitudes(times, final_amps, labels):\n",
    "    \"\"\"\n",
    "    Plot control amplitudes with fixed y-axis scale highlighting each control\n",
    "    amplitude with respect to the other in its respective plot.\n",
    "\n",
    "    Args:\n",
    "        times: Time points for the x-axis.\n",
    "        final_amps: Control amplitudes to plot.\n",
    "        labels: Labels for each control amplitude.\n",
    "    \"\"\"\n",
    "\n",
    "    num_controls = final_amps.shape[1]\n",
    "\n",
    "    # y_max = 0.1  # Fixed y-axis scale\n",
    "    # y_min = -0.1\n",
    "\n",
    "    for i in range(num_controls):\n",
    "        fig, ax = plt.subplots(figsize=(8, 3))\n",
    "\n",
    "        for j in range(num_controls):\n",
    "            color = (\n",
    "                'black' if i == j else 'gray'\n",
    "            )  # Highlight the current control\n",
    "            alpha = 1.0 if i == j else 0.1\n",
    "            ax.plot(\n",
    "                times,\n",
    "                final_amps[:, j],\n",
    "                label=labels[j],\n",
    "                color=color,\n",
    "                alpha=alpha,\n",
    "            )\n",
    "        ax.set_title(f\"Control Fields Highlighting: {labels[i]}\")\n",
    "        ax.set_xlabel(\"Time\")\n",
    "        ax.set_ylabel(labels[i])\n",
    "        # ax.set_ylim(y_min, y_max)  # Set fixed y-axis limits\n",
    "        ax.grid(True)\n",
    "        ax.legend()\n",
    "        plt.tight_layout()\n",
    "        plt.show()\n"
   ]
  },
  {
   "cell_type": "markdown",
   "metadata": {},
   "source": [
    "## Simulation"
   ]
  },
  {
   "cell_type": "code",
   "execution_count": 2,
   "metadata": {},
   "outputs": [],
   "source": [
    "## MAIN.py with time_dep example\n",
    "\n",
    "import jax\n",
    "import qutip as qt\n",
    "import numpy as np\n",
    "import jax.numpy as jnp\n",
    "import qutip_qtrl.pulseoptim as qtrl\n",
    "from utils.gates import *\n",
    "from utils.operators import *\n",
    "from utils.tensor import tensor\n",
    "from utils.states import basis\n",
    "# ruff: noqa\n",
    "\n",
    "N_cav = 10\n",
    "chi = 0.2385 * (2 * jnp.pi)\n",
    "mu_qub = 4.0\n",
    "mu_cav = 8.0\n",
    "hconj = lambda a: jnp.swapaxes(a.conj(), -1, -2)\n",
    "time_start = 0.0\n",
    "time_end = 1.0\n",
    "time_intervals_num = 5\n",
    "N_cav = 10\n",
    "t_grid = jnp.linspace(time_start, time_end, time_intervals_num + 1)\n",
    "delta_ts = t_grid[1:] - t_grid[:-1]\n",
    "fake_random_key = jax.random.key(seed=0)\n",
    "e_data = jax.random.uniform(\n",
    "    fake_random_key, shape=(4, len(delta_ts)), minval=-1, maxval=1\n",
    ")\n",
    "e_qub = e_data[0] + 1j * e_data[1]\n",
    "e_cav = e_data[2] + 1j * e_data[3]\n",
    "\n",
    "\n",
    "@jax.vmap\n",
    "def build_ham(e_qub, e_cav):\n",
    "    \"\"\"\n",
    "    Build Hamiltonian for given (complex) e_qub and e_cav\n",
    "    \"\"\"\n",
    "\n",
    "    a = tensor(identity(2), destroy(N_cav))\n",
    "    adag = hconj(a)\n",
    "    n_phot = adag @ a\n",
    "    sigz = tensor(sigmaz(), identity(N_cav))\n",
    "    sigp = tensor(sigmap(), identity(N_cav))\n",
    "    one = tensor(identity(2), identity(N_cav))\n",
    "\n",
    "    H0 = +(chi / 2) * n_phot @ (sigz + one)\n",
    "\n",
    "    H_ctrl = mu_qub * sigp * e_qub + mu_cav * adag * e_cav\n",
    "    H_ctrl += hconj(H_ctrl)\n",
    "    # You just pass an array of the Hamiltonian matrices \"Hs\" corresponding to the time\n",
    "    # intervals \"delta_ts\" (that is, \"Hs\" is a 3D array).\n",
    "    return H0, H_ctrl\n",
    "\n",
    "\n",
    "\n",
    "\n",
    "H0, H_ctrl = build_ham(e_qub, e_cav)\n",
    "\n",
    "# Representation for time dependent Hamiltonian\n",
    "def solve(Hs, delta_ts):\n",
    "    \"\"\"\n",
    "    Find evolution operator for piecewise Hs on time intervals delts_ts\n",
    "    \"\"\"\n",
    "    for i, (H, delta_t) in enumerate(zip(Hs, delta_ts)):\n",
    "        U_intv = jax.scipy.linalg.expm(-1j * H * delta_t)\n",
    "        U = U_intv if i == 0 else U_intv @ U\n",
    "    return U\n",
    "\n",
    "U = solve(H0 + H_ctrl, delta_ts)\n",
    "psi0 = tensor(basis(2), basis(N_cav))\n",
    "global psi_target_qt\n",
    "psi_target_qt = psi_target = U @ psi0\n",
    "\n",
    "def build_grape_format_ham():\n",
    "    \"\"\"\n",
    "    Build Hamiltonian for given (complex) e_qub and e_cav\n",
    "    \"\"\"\n",
    "\n",
    "    a = tensor(identity(2), destroy(N_cav))\n",
    "    adag = hconj(a)\n",
    "    n_phot = adag @ a\n",
    "    sigz = tensor(sigmaz(), identity(N_cav))\n",
    "    sigp = tensor(sigmap(), identity(N_cav))\n",
    "    one = tensor(identity(2), identity(N_cav))\n",
    "\n",
    "    H0 = +(chi / 2) * n_phot @ (sigz + one)\n",
    "    H_ctrl_qub = mu_qub * sigp\n",
    "    H_ctrl_qub_dag = hconj(H_ctrl_qub)\n",
    "    H_ctrl_cav = mu_cav * adag\n",
    "    H_ctrl_cav_dag = hconj(H_ctrl_cav)\n",
    "\n",
    "    H_ctrl = [H_ctrl_qub, H_ctrl_qub_dag, H_ctrl_cav, H_ctrl_cav_dag]\n",
    "\n",
    "    return H0, H_ctrl\n",
    "\n",
    "\n",
    "def test_time_dep(optimizer=\"adam\"):\n",
    "\n",
    "\n",
    "    H0_grape, H_ctrl_grape = build_grape_format_ham()\n",
    "\n",
    "    res = optimize_pulse(\n",
    "        H0_grape,\n",
    "        H_ctrl_grape,\n",
    "        psi0,\n",
    "        psi_target,\n",
    "        int(\n",
    "            (time_end - time_start) / delta_ts[0]\n",
    "        ),  # Ensure this is an integer\n",
    "        time_end - time_start,\n",
    "        max_iter=10000,\n",
    "        # when you decrease convergence threshold, it is more accurate\n",
    "        convergence_threshold=1e-3,\n",
    "        learning_rate=1e-2,\n",
    "        type=\"state\",\n",
    "        optimizer=optimizer,\n",
    "    )\n",
    "    return res"
   ]
  },
  {
   "cell_type": "code",
   "execution_count": 3,
   "metadata": {},
   "outputs": [
    {
     "name": "stdout",
     "output_type": "stream",
     "text": [
      "0.9977628731711521\n",
      "105\n"
     ]
    }
   ],
   "source": [
    "res_fg = test_time_dep(\"l-bfgs\")\n",
    "print(res_fg.final_fidelity)\n",
    "print(res_fg.iterations)"
   ]
  },
  {
   "cell_type": "code",
   "execution_count": 4,
   "metadata": {},
   "outputs": [],
   "source": [
    "time_start = 0.0\n",
    "time_end = 1.0\n",
    "time_intervals_num = 5"
   ]
  },
  {
   "cell_type": "code",
   "execution_count": 5,
   "metadata": {},
   "outputs": [],
   "source": [
    "t_grid = jnp.linspace(time_start, time_end, time_intervals_num)"
   ]
  },
  {
   "cell_type": "code",
   "execution_count": 6,
   "metadata": {},
   "outputs": [],
   "source": [
    "H_labels = [r'$u_1$', r'$u_2$', r'$u_3$', r'$u_4$', r'$u_5$']"
   ]
  },
  {
   "cell_type": "code",
   "execution_count": 7,
   "metadata": {},
   "outputs": [
    {
     "data": {
      "text/plain": [
       "(5,)"
      ]
     },
     "execution_count": 7,
     "metadata": {},
     "output_type": "execute_result"
    }
   ],
   "source": [
    "t_grid.shape"
   ]
  },
  {
   "cell_type": "code",
   "execution_count": 8,
   "metadata": {},
   "outputs": [
    {
     "data": {
      "text/plain": [
       "(5, 4)"
      ]
     },
     "execution_count": 8,
     "metadata": {},
     "output_type": "execute_result"
    }
   ],
   "source": [
    "res_fg.control_amplitudes.shape"
   ]
  },
  {
   "cell_type": "code",
   "execution_count": 9,
   "metadata": {},
   "outputs": [
    {
     "data": {
      "image/png": "[encoded data removed]",
      "text/plain": [
       "<Figure size 800x300 with 1 Axes>"
      ]
     },
     "metadata": {},
     "output_type": "display_data"
    },
    {
     "data": {
      "image/png": "[encoded data removed]",
      "text/plain": [
       "<Figure size 800x300 with 1 Axes>"
      ]
     },
     "metadata": {},
     "output_type": "display_data"
    },
    {
     "data": {
      "image/png": "[encoded data removed]",
      "text/plain": [
       "<Figure size 800x300 with 1 Axes>"
      ]
     },
     "metadata": {},
     "output_type": "display_data"
    },
    {
     "data": {
      "image/png": "[encoded data removed]",
      "text/plain": [
       "<Figure size 800x300 with 1 Axes>"
      ]
     },
     "metadata": {},
     "output_type": "display_data"
    }
   ],
   "source": [
    "plot_control_amplitudes(t_grid, res_fg.control_amplitudes, labels=H_labels)"
   ]
  },
  {
   "cell_type": "code",
   "execution_count": 10,
   "metadata": {},
   "outputs": [
    {
     "data": {
      "text/plain": [
       "Array([[-0.08516612,  0.99244879,  0.75810692,  0.07768911],\n",
       "       [ 0.2404256 ,  1.30456101, -0.34015419,  0.16014117],\n",
       "       [ 0.0369533 , -0.68547429, -1.0096606 ,  0.40702286],\n",
       "       [-0.17650807, -0.70569515, -0.6709389 , -0.07962009],\n",
       "       [-2.68233775,  0.60201871,  2.15675866,  1.13674597]],      dtype=float64)"
      ]
     },
     "execution_count": 10,
     "metadata": {},
     "output_type": "execute_result"
    }
   ],
   "source": [
    "res_fg.control_amplitudes"
   ]
  },
  {
   "cell_type": "markdown",
   "metadata": {},
   "source": [
    "## Example of user trying to construct his time dependent Hamiltonian from extracted amplitudes and then get the final operator"
   ]
  },
  {
   "attachments": {
    "image.png": {
     "image/png": "[encoded data removed]"
    }
   },
   "cell_type": "markdown",
   "metadata": {},
   "source": [
    "![image.png](attachment:image.png)"
   ]
  },
  {
   "cell_type": "markdown",
   "metadata": {},
   "source": [
    "### Define the time grid (same as defined)"
   ]
  },
  {
   "cell_type": "code",
   "execution_count": 11,
   "metadata": {},
   "outputs": [],
   "source": [
    "time_start = 0.0\n",
    "time_end = 1.0\n",
    "time_intervals_num = 5\n",
    "N_cav = 10\n",
    "# TODO: remove this + 1 thingy\n",
    "t_grid = jnp.linspace(time_start, time_end, time_intervals_num + 1)\n",
    "delta_ts = t_grid[1:] - t_grid[:-1]"
   ]
  },
  {
   "cell_type": "markdown",
   "metadata": {},
   "source": [
    "### Build the Hamiltonian"
   ]
  },
  {
   "cell_type": "code",
   "execution_count": 12,
   "metadata": {},
   "outputs": [],
   "source": [
    "def build_ham_reconstructed(u1, u2, u3, u4):\n",
    "    \"\"\"\n",
    "    Build Hamiltonian for given (complex) e_qub and e_cav\n",
    "    \"\"\"\n",
    "\n",
    "    a = tensor(identity(2), destroy(N_cav))\n",
    "    adag = hconj(a)\n",
    "    n_phot = adag @ a\n",
    "    sigz = tensor(sigmaz(), identity(N_cav))\n",
    "    sigp = tensor(sigmap(), identity(N_cav))\n",
    "    one = tensor(identity(2), identity(N_cav))\n",
    "\n",
    "    H0 = +(chi / 2) * n_phot @ (sigz + one)\n",
    "    H_ctrl_qub =(mu_qub * sigp) \n",
    "    H_ctrl_qub_dag = (hconj(H_ctrl_qub))\n",
    "    H_ctrl_cav = (mu_cav * adag)\n",
    "    H_ctrl_cav_dag = (hconj(H_ctrl_cav))\n",
    "\n",
    "    # Apply control amplitudes\n",
    "    H_ctrl = u1 * H_ctrl_qub + u2 * H_ctrl_qub_dag + u3 * H_ctrl_cav + u4 * H_ctrl_cav_dag\n",
    "\n",
    "    H = H0 + H_ctrl\n",
    "    return H"
   ]
  },
  {
   "cell_type": "code",
   "execution_count": 13,
   "metadata": {},
   "outputs": [],
   "source": [
    "u1 = res_fg.control_amplitudes[:, 0]\n",
    "u2 = res_fg.control_amplitudes[:, 1]\n",
    "u3 = res_fg.control_amplitudes[:, 2]\n",
    "u4 = res_fg.control_amplitudes[:, 3]"
   ]
  },
  {
   "cell_type": "code",
   "execution_count": 14,
   "metadata": {},
   "outputs": [
    {
     "data": {
      "text/plain": [
       "Array([-0.08516612,  0.2404256 ,  0.0369533 , -0.17650807, -2.68233775],      dtype=float64)"
      ]
     },
     "execution_count": 14,
     "metadata": {},
     "output_type": "execute_result"
    }
   ],
   "source": [
    "u1"
   ]
  },
  {
   "cell_type": "markdown",
   "metadata": {},
   "source": [
    "### Construct the Hamiltonian for each time step"
   ]
  },
  {
   "cell_type": "code",
   "execution_count": 15,
   "metadata": {},
   "outputs": [],
   "source": [
    "H_total = jnp.array([build_ham_reconstructed(u1[i], u2[i], u3[i], u4[i]) for i in range(len(u1))])"
   ]
  },
  {
   "cell_type": "code",
   "execution_count": 16,
   "metadata": {},
   "outputs": [
    {
     "data": {
      "text/plain": [
       "Array([[[  0.        +0.j,   0.62151291+0.j,   0.        +0.j, ...,\n",
       "           0.        +0.j,   0.        +0.j,   0.        +0.j],\n",
       "        [  6.06485538+0.j,   1.49853969+0.j,   0.87895197+0.j, ...,\n",
       "           0.        +0.j,   0.        +0.j,   0.        +0.j],\n",
       "        [  0.        +0.j,   8.57700059+0.j,   2.99707913+0.j, ...,\n",
       "           0.        +0.j,   0.        +0.j,   0.        +0.j],\n",
       "        ...,\n",
       "        [  0.        +0.j,   0.        +0.j,   0.        +0.j, ...,\n",
       "           0.        +0.j,   1.75790394+0.j,   0.        +0.j],\n",
       "        [  0.        +0.j,   0.        +0.j,   0.        +0.j, ...,\n",
       "          17.15400118+0.j,   0.        +0.j,   1.86453873+0.j],\n",
       "        [  0.        +0.j,   0.        +0.j,   0.        +0.j, ...,\n",
       "           0.        +0.j,  18.19456615+0.j,   0.        +0.j]],\n",
       "\n",
       "       [[  0.        +0.j,   1.28112932+0.j,   0.        +0.j, ...,\n",
       "           0.        +0.j,   0.        +0.j,   0.        +0.j],\n",
       "        [ -2.72123349+0.j,   1.49853969+0.j,   1.81179043+0.j, ...,\n",
       "           0.        +0.j,   0.        +0.j,   0.        +0.j],\n",
       "        [  0.        +0.j,  -3.84840525+0.j,   2.99707913+0.j, ...,\n",
       "           0.        +0.j,   0.        +0.j,   0.        +0.j],\n",
       "        ...,\n",
       "        [  0.        +0.j,   0.        +0.j,   0.        +0.j, ...,\n",
       "           0.        +0.j,   3.62358086+0.j,   0.        +0.j],\n",
       "        [  0.        +0.j,   0.        +0.j,   0.        +0.j, ...,\n",
       "          -7.69681049+0.j,   0.        +0.j,   3.84338796+0.j],\n",
       "        [  0.        +0.j,   0.        +0.j,   0.        +0.j, ...,\n",
       "           0.        +0.j,  -8.16370048+0.j,   0.        +0.j]],\n",
       "\n",
       "       [[  0.        +0.j,   3.25618292+0.j,   0.        +0.j, ...,\n",
       "           0.        +0.j,   0.        +0.j,   0.        +0.j],\n",
       "        [ -8.07728479+0.j,   1.49853969+0.j,   4.60493796+0.j, ...,\n",
       "           0.        +0.j,   0.        +0.j,   0.        +0.j],\n",
       "        [  0.        +0.j, -11.4230055 +0.j,   2.99707913+0.j, ...,\n",
       "           0.        +0.j,   0.        +0.j,   0.        +0.j],\n",
       "        ...,\n",
       "        [  0.        +0.j,   0.        +0.j,   0.        +0.j, ...,\n",
       "           0.        +0.j,   9.20987593+0.j,   0.        +0.j],\n",
       "        [  0.        +0.j,   0.        +0.j,   0.        +0.j, ...,\n",
       "         -22.846011  +0.j,   0.        +0.j,   9.76854875+0.j],\n",
       "        [  0.        +0.j,   0.        +0.j,   0.        +0.j, ...,\n",
       "           0.        +0.j, -24.23185436+0.j,   0.        +0.j]],\n",
       "\n",
       "       [[  0.        +0.j,  -0.63696075+0.j,   0.        +0.j, ...,\n",
       "           0.        +0.j,   0.        +0.j,   0.        +0.j],\n",
       "        [ -5.36751122+0.j,   1.49853969+0.j,  -0.90079851+0.j, ...,\n",
       "           0.        +0.j,   0.        +0.j,   0.        +0.j],\n",
       "        [  0.        +0.j,  -7.59080703+0.j,   2.99707913+0.j, ...,\n",
       "           0.        +0.j,   0.        +0.j,   0.        +0.j],\n",
       "        ...,\n",
       "        [  0.        +0.j,   0.        +0.j,   0.        +0.j, ...,\n",
       "           0.        +0.j,  -1.80159702+0.j,   0.        +0.j],\n",
       "        [  0.        +0.j,   0.        +0.j,   0.        +0.j, ...,\n",
       "         -15.18161407+0.j,   0.        +0.j,  -1.91088224+0.j],\n",
       "        [  0.        +0.j,   0.        +0.j,   0.        +0.j, ...,\n",
       "           0.        +0.j, -16.10253366+0.j,   0.        +0.j]],\n",
       "\n",
       "       [[  0.        +0.j,   9.09396772+0.j,   0.        +0.j, ...,\n",
       "           0.        +0.j,   0.        +0.j,   0.        +0.j],\n",
       "        [ 17.25406925+0.j,   1.49853969+0.j,  12.86081227+0.j, ...,\n",
       "           0.        +0.j,   0.        +0.j,   0.        +0.j],\n",
       "        [  0.        +0.j,  24.40093833+0.j,   2.99707913+0.j, ...,\n",
       "           0.        +0.j,   0.        +0.j,   0.        +0.j],\n",
       "        ...,\n",
       "        [  0.        +0.j,   0.        +0.j,   0.        +0.j, ...,\n",
       "           0.        +0.j,  25.72162454+0.j,   0.        +0.j],\n",
       "        [  0.        +0.j,   0.        +0.j,   0.        +0.j, ...,\n",
       "          48.80187666+0.j,   0.        +0.j,  27.28190317+0.j],\n",
       "        [  0.        +0.j,   0.        +0.j,   0.        +0.j, ...,\n",
       "           0.        +0.j,  51.76220776+0.j,   0.        +0.j]]],      dtype=complex128)"
      ]
     },
     "execution_count": 16,
     "metadata": {},
     "output_type": "execute_result"
    }
   ],
   "source": [
    "H_total"
   ]
  },
  {
   "cell_type": "code",
   "execution_count": 17,
   "metadata": {},
   "outputs": [
    {
     "data": {
      "text/plain": [
       "(5, 20, 20)"
      ]
     },
     "execution_count": 17,
     "metadata": {},
     "output_type": "execute_result"
    }
   ],
   "source": [
    "H_total.shape"
   ]
  },
  {
   "cell_type": "markdown",
   "metadata": {},
   "source": [
    "### Solve the Schrödinger Equation"
   ]
  },
  {
   "cell_type": "markdown",
   "metadata": {},
   "source": []
  },
  {
   "cell_type": "code",
   "execution_count": 18,
   "metadata": {},
   "outputs": [],
   "source": [
    "psi0_fg = tensor(basis(2), basis(N_cav))\n",
    "psi_fg = sesolve(H_total, psi0_fg, delta_ts)"
   ]
  },
  {
   "cell_type": "markdown",
   "metadata": {},
   "source": [
    "### Calculate fidelity with target"
   ]
  },
  {
   "cell_type": "code",
   "execution_count": 19,
   "metadata": {},
   "outputs": [
    {
     "name": "stdout",
     "output_type": "stream",
     "text": [
      "0.9977628731711521\n"
     ]
    }
   ],
   "source": [
    "print(fidelity(C_target=psi_target, U_final=psi_fg, type=\"state\"))"
   ]
  }
 ],
 "metadata": {
  "kernelspec": {
   "display_name": "qiskit-stable8",
   "language": "python",
   "name": "python3"
  },
  "language_info": {
   "codemirror_mode": {
    "name": "ipython",
    "version": 3
   },
   "file_extension": ".py",
   "mimetype": "text/x-python",
   "name": "python",
   "nbconvert_exporter": "python",
   "pygments_lexer": "ipython3",
   "version": "3.11.5"
  }
 },
 "nbformat": 4,
 "nbformat_minor": 2
}

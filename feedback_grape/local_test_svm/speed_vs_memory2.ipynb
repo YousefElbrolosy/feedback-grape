{
 "cells": [
  {
   "cell_type": "markdown",
   "metadata": {},
   "source": [
    "# GRAPE for time-dependent hamiltonians"
   ]
  },
  {
   "cell_type": "markdown",
   "metadata": {},
   "source": [
    "## Simulation"
   ]
  },
  {
   "cell_type": "code",
   "execution_count": null,
   "metadata": {},
   "outputs": [],
   "source": [
    "# ruff: noqa\n",
    "import feedback_grape.grape as fg\n",
    "from feedback_grape.utils.solver import sesolve\n",
    "from feedback_grape.grape import plot_control_amplitudes, fidelity\n",
    "import jax.numpy as jnp\n",
    "from feedback_grape.utils.operators import *\n",
    "from feedback_grape.utils.states import basis, coherent\n",
    "from feedback_grape.utils.tensor import tensor\n",
    "\n",
    "T = 1  # microsecond\n",
    "num_of_intervals = 100\n",
    "N = 30  # dimension of hilbert space\n",
    "alpha = 1.5\n",
    "# Phase for the interference\n",
    "phi = jnp.pi\n",
    "hconj = lambda a: jnp.swapaxes(a.conj(), -1, -2)\n",
    "chi = 0.2385 * (2 * jnp.pi)\n",
    "mu_qub = 4.0\n",
    "mu_cav = 8.0\n",
    "psi0 = tensor(basis(2), basis(N))\n",
    "cat_target_state = coherent(N, alpha) + jnp.exp(-1j * phi) * coherent(\n",
    "    N, -alpha\n",
    ")\n",
    "psi_target = tensor(basis(2), cat_target_state)\n",
    "\n",
    "\n",
    "# Using Jaynes-Cummings model for qubit + cavity\n",
    "def build_grape_format_ham():\n",
    "    \"\"\"\n",
    "    Build Hamiltonian for given (complex) e_qub and e_cav\n",
    "    \"\"\"\n",
    "\n",
    "    a = tensor(identity(2), destroy(N))\n",
    "    adag = tensor(identity(2), create(N))\n",
    "    n_phot = adag @ a\n",
    "    sigz = tensor(sigmaz(), identity(N))\n",
    "    sigp = tensor(sigmap(), identity(N))\n",
    "    one = tensor(identity(2), identity(N))\n",
    "\n",
    "    H0 = +(chi / 2) * n_phot @ (sigz + one)\n",
    "    H_ctrl_qub = mu_qub * sigp\n",
    "    H_ctrl_qub_dag = hconj(H_ctrl_qub)\n",
    "    H_ctrl_cav = mu_cav * adag\n",
    "    H_ctrl_cav_dag = hconj(H_ctrl_cav)\n",
    "\n",
    "    H_ctrl = [H_ctrl_qub, H_ctrl_qub_dag, H_ctrl_cav, H_ctrl_cav_dag]\n",
    "\n",
    "    return H0, H_ctrl"
   ]
  },
  {
   "cell_type": "code",
   "execution_count": null,
   "metadata": {},
   "outputs": [],
   "source": [
    "import time\n",
    "\n",
    "start_time = time.time()\n",
    "# Outputs Fidelity of 0.9799029117042408 but in like 30 minutes\n",
    "H0, H_ctrl = build_grape_format_ham()\n",
    "res_fg = fg.optimize_pulse(\n",
    "    H0,\n",
    "    H_ctrl,\n",
    "    psi0,\n",
    "    psi_target,\n",
    "    num_t_slots=num_of_intervals,\n",
    "    total_evo_time=T,\n",
    "    evo_type=\"state\",\n",
    "    optimizer=\"l-bfgs\",\n",
    "    propcomp=\"memory-efficient\",\n",
    ")\n",
    "end_time = time.time()\n",
    "\n",
    "print(f\"Execution time: {end_time - start_time} seconds\")\n",
    "print(res_fg.final_fidelity)\n",
    "print(res_fg.iterations)"
   ]
  },
  {
   "cell_type": "code",
   "execution_count": null,
   "metadata": {},
   "outputs": [],
   "source": [
    "import time\n",
    "\n",
    "start_time = time.time()\n",
    "# Outputs Fidelity of 0.9799029117042408 but in like 30 minutes\n",
    "H0, H_ctrl = build_grape_format_ham()\n",
    "res_fg = fg.optimize_pulse(\n",
    "    H0,\n",
    "    H_ctrl,\n",
    "    psi0,\n",
    "    psi_target,\n",
    "    num_t_slots=num_of_intervals,\n",
    "    total_evo_time=T,\n",
    "    evo_type=\"state\",\n",
    "    optimizer=\"l-bfgs\",\n",
    "    propcomp=\"time-efficient\",\n",
    ")\n",
    "end_time = time.time()\n",
    "\n",
    "print(f\"Execution time: {end_time - start_time} seconds\")\n",
    "print(res_fg.final_fidelity)\n",
    "print(res_fg.iterations)"
   ]
  },
  {
   "cell_type": "code",
   "execution_count": null,
   "metadata": {},
   "outputs": [],
   "source": [
    "time_start = 0.0\n",
    "time_end = 1.0\n",
    "time_intervals_num = 5"
   ]
  },
  {
   "cell_type": "code",
   "execution_count": null,
   "metadata": {},
   "outputs": [],
   "source": [
    "t_grid = jnp.linspace(time_start, time_end, time_intervals_num)"
   ]
  },
  {
   "cell_type": "code",
   "execution_count": null,
   "metadata": {},
   "outputs": [],
   "source": [
    "H_labels = [r'$u_1$', r'$u_2$', r'$u_3$', r'$u_4$', r'$u_5$']"
   ]
  },
  {
   "cell_type": "code",
   "execution_count": null,
   "metadata": {},
   "outputs": [],
   "source": [
    "t_grid.shape"
   ]
  },
  {
   "cell_type": "code",
   "execution_count": null,
   "metadata": {},
   "outputs": [],
   "source": [
    "res_fg.control_amplitudes.shape"
   ]
  },
  {
   "cell_type": "code",
   "execution_count": null,
   "metadata": {},
   "outputs": [],
   "source": [
    "plot_control_amplitudes(t_grid, res_fg.control_amplitudes, labels=H_labels)"
   ]
  },
  {
   "cell_type": "code",
   "execution_count": null,
   "metadata": {},
   "outputs": [],
   "source": [
    "res_fg.control_amplitudes"
   ]
  },
  {
   "cell_type": "markdown",
   "metadata": {},
   "source": [
    "## Example of user trying to construct his time dependent Hamiltonian from extracted amplitudes and then get the final operator"
   ]
  },
  {
   "attachments": {
    "image.png": {
     "image/png": "[encoded data removed]"
    }
   },
   "cell_type": "markdown",
   "metadata": {},
   "source": [
    "![image.png](attachment:image.png)"
   ]
  },
  {
   "cell_type": "markdown",
   "metadata": {},
   "source": [
    "### Define the time grid (same as defined)"
   ]
  },
  {
   "cell_type": "code",
   "execution_count": null,
   "metadata": {},
   "outputs": [],
   "source": [
    "time_start = 0.0\n",
    "time_end = 1.0\n",
    "time_intervals_num = 5\n",
    "N_cav = 10\n",
    "# Eqivalant to delta_ts = jnp.repeat(0.2, time_intervals_num).astype(jnp.float32)\n",
    "# However, it is implemented in this way to be more general and\n",
    "# show that these are the differences between the time intervals\n",
    "t_grid = jnp.linspace(time_start, time_end, time_intervals_num + 1)\n",
    "delta_ts = t_grid[1:] - t_grid[:-1]"
   ]
  },
  {
   "cell_type": "markdown",
   "metadata": {},
   "source": [
    "### Build the Hamiltonian"
   ]
  },
  {
   "cell_type": "code",
   "execution_count": null,
   "metadata": {},
   "outputs": [],
   "source": [
    "def build_ham_reconstructed(u1, u2, u3, u4):\n",
    "    \"\"\"\n",
    "    Build Hamiltonian for given (complex) e_qub and e_cav\n",
    "    \"\"\"\n",
    "\n",
    "    a = tensor(identity(2), destroy(N_cav))\n",
    "    adag = hconj(a)\n",
    "    n_phot = adag @ a\n",
    "    sigz = tensor(sigmaz(), identity(N_cav))\n",
    "    sigp = tensor(sigmap(), identity(N_cav))\n",
    "    one = tensor(identity(2), identity(N_cav))\n",
    "\n",
    "    H0 = +(chi / 2) * n_phot @ (sigz + one)\n",
    "    H_ctrl_qub = mu_qub * sigp\n",
    "    H_ctrl_qub_dag = hconj(H_ctrl_qub)\n",
    "    H_ctrl_cav = mu_cav * adag\n",
    "    H_ctrl_cav_dag = hconj(H_ctrl_cav)\n",
    "\n",
    "    # Apply control amplitudes\n",
    "    H_ctrl = (\n",
    "        u1 * H_ctrl_qub\n",
    "        + u2 * H_ctrl_qub_dag\n",
    "        + u3 * H_ctrl_cav\n",
    "        + u4 * H_ctrl_cav_dag\n",
    "    )\n",
    "\n",
    "    H = H0 + H_ctrl\n",
    "    return H"
   ]
  },
  {
   "cell_type": "code",
   "execution_count": null,
   "metadata": {},
   "outputs": [],
   "source": [
    "u1 = res_fg.control_amplitudes[:, 0]\n",
    "u2 = res_fg.control_amplitudes[:, 1]\n",
    "u3 = res_fg.control_amplitudes[:, 2]\n",
    "u4 = res_fg.control_amplitudes[:, 3]"
   ]
  },
  {
   "cell_type": "code",
   "execution_count": null,
   "metadata": {},
   "outputs": [],
   "source": [
    "u1"
   ]
  },
  {
   "cell_type": "markdown",
   "metadata": {},
   "source": [
    "### Construct the Hamiltonian for each time step"
   ]
  },
  {
   "cell_type": "code",
   "execution_count": null,
   "metadata": {},
   "outputs": [],
   "source": [
    "H_total = jnp.array(\n",
    "    [\n",
    "        build_ham_reconstructed(u1[i], u2[i], u3[i], u4[i])\n",
    "        for i in range(len(u1))\n",
    "    ]\n",
    ")"
   ]
  },
  {
   "cell_type": "code",
   "execution_count": null,
   "metadata": {},
   "outputs": [],
   "source": [
    "H_total"
   ]
  },
  {
   "cell_type": "code",
   "execution_count": null,
   "metadata": {},
   "outputs": [],
   "source": [
    "H_total.shape"
   ]
  },
  {
   "cell_type": "markdown",
   "metadata": {},
   "source": [
    "### Solve the Schrödinger Equation"
   ]
  },
  {
   "cell_type": "markdown",
   "metadata": {},
   "source": []
  },
  {
   "cell_type": "code",
   "execution_count": null,
   "metadata": {},
   "outputs": [],
   "source": [
    "psi0_fg = tensor(basis(2), basis(N_cav))\n",
    "psi_fg = sesolve(H_total, psi0_fg, delta_ts)"
   ]
  },
  {
   "cell_type": "markdown",
   "metadata": {},
   "source": [
    "### Calculate fidelity with target"
   ]
  },
  {
   "cell_type": "code",
   "execution_count": null,
   "metadata": {},
   "outputs": [],
   "source": [
    "print(fidelity(C_target=psi_target, U_final=psi_fg, evo_type=\"state\"))"
   ]
  },
  {
   "cell_type": "code",
   "execution_count": null,
   "metadata": {},
   "outputs": [],
   "source": []
  }
 ],
 "metadata": {
  "kernelspec": {
   "display_name": "qiskit-stable8",
   "language": "python",
   "name": "python3"
  },
  "language_info": {
   "codemirror_mode": {
    "name": "ipython",
    "version": 3
   },
   "file_extension": ".py",
   "mimetype": "text/x-python",
   "name": "python",
   "nbconvert_exporter": "python",
   "pygments_lexer": "ipython3",
   "version": "3.11.5"
  }
 },
 "nbformat": 4,
 "nbformat_minor": 2
}
